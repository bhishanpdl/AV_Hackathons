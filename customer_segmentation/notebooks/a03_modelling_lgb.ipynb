{
 "cells": [
  {
   "cell_type": "markdown",
   "metadata": {
    "toc": true
   },
   "source": [
    "<h1>Table of Contents<span class=\"tocSkip\"></span></h1>\n",
    "<div class=\"toc\"><ul class=\"toc-item\"><li><span><a href=\"#Load-the-libraries\" data-toc-modified-id=\"Load-the-libraries-1\"><span class=\"toc-item-num\">1&nbsp;&nbsp;</span>Load the libraries</a></span></li><li><span><a href=\"#Load-the-data\" data-toc-modified-id=\"Load-the-data-2\"><span class=\"toc-item-num\">2&nbsp;&nbsp;</span>Load the data</a></span></li><li><span><a href=\"#Train-test-split\" data-toc-modified-id=\"Train-test-split-3\"><span class=\"toc-item-num\">3&nbsp;&nbsp;</span>Train test split</a></span></li><li><span><a href=\"#Modelling:-lgb\" data-toc-modified-id=\"Modelling:-lgb-4\"><span class=\"toc-item-num\">4&nbsp;&nbsp;</span>Modelling: lgb</a></span><ul class=\"toc-item\"><li><span><a href=\"#default\" data-toc-modified-id=\"default-4.1\"><span class=\"toc-item-num\">4.1&nbsp;&nbsp;</span>default</a></span></li><li><span><a href=\"#Trial-1\" data-toc-modified-id=\"Trial-1-4.2\"><span class=\"toc-item-num\">4.2&nbsp;&nbsp;</span>Trial 1</a></span></li><li><span><a href=\"#Few-Trials\" data-toc-modified-id=\"Few-Trials-4.3\"><span class=\"toc-item-num\">4.3&nbsp;&nbsp;</span>Few Trials</a></span></li></ul></li><li><span><a href=\"#Hyperparameter-optimization\" data-toc-modified-id=\"Hyperparameter-optimization-5\"><span class=\"toc-item-num\">5&nbsp;&nbsp;</span>Hyperparameter optimization</a></span><ul class=\"toc-item\"><li><span><a href=\"#HPO-using-RandomizedSearchCV\" data-toc-modified-id=\"HPO-using-RandomizedSearchCV-5.1\"><span class=\"toc-item-num\">5.1&nbsp;&nbsp;</span>HPO using RandomizedSearchCV</a></span></li><li><span><a href=\"#HPO-using-optuna\" data-toc-modified-id=\"HPO-using-optuna-5.2\"><span class=\"toc-item-num\">5.2&nbsp;&nbsp;</span>HPO using optuna</a></span></li></ul></li></ul></div>"
   ]
  },
  {
   "cell_type": "markdown",
   "metadata": {},
   "source": [
    "# Load the libraries"
   ]
  },
  {
   "cell_type": "code",
   "execution_count": 1,
   "metadata": {
    "ExecuteTime": {
     "end_time": "2020-08-07T18:25:19.342543Z",
     "start_time": "2020-08-07T18:25:18.257159Z"
    }
   },
   "outputs": [
    {
     "data": {
      "text/plain": [
       "[('numpy', '1.18.4'),\n",
       " ('pandas', '1.1.0'),\n",
       " ('seaborn', '0.10.1'),\n",
       " ('sklearn', '0.23.1'),\n",
       " ('lightgbm', '2.3.1')]"
      ]
     },
     "execution_count": 1,
     "metadata": {},
     "output_type": "execute_result"
    }
   ],
   "source": [
    "import numpy as np\n",
    "import pandas as pd\n",
    "import seaborn as sns\n",
    "\n",
    "pd.options.plotting.backend = \"matplotlib\"\n",
    "pd.set_option('max_columns',100)\n",
    "\n",
    "import time,os,json\n",
    "time_start_notebook = time.time()\n",
    "home = os.path.expanduser('~')\n",
    "SEED=100\n",
    "\n",
    "import matplotlib.pyplot as plt\n",
    "plt.style.use('ggplot')\n",
    "%matplotlib inline\n",
    "%config InlineBackend.figure_format = 'retina'\n",
    "\n",
    "import sklearn\n",
    "from sklearn.utils import class_weight\n",
    "from sklearn.model_selection import train_test_split\n",
    "from sklearn.model_selection import StratifiedKFold, RandomizedSearchCV, GridSearchCV\n",
    "from sklearn.metrics import accuracy_score, confusion_matrix\n",
    "from sklearn.metrics import classification_report\n",
    "from sklearn.metrics import precision_score, recall_score, f1_score\n",
    "from sklearn.model_selection import cross_val_predict\n",
    "from sklearn.metrics import roc_auc_score\n",
    "from sklearn.preprocessing import label_binarize\n",
    "\n",
    "import joblib\n",
    "import lightgbm as lgb\n",
    "\n",
    "[(x.__name__,x.__version__) for x in [np,pd,sns,sklearn,lgb]]"
   ]
  },
  {
   "cell_type": "code",
   "execution_count": 2,
   "metadata": {
    "ExecuteTime": {
     "end_time": "2020-08-07T18:25:19.351458Z",
     "start_time": "2020-08-07T18:25:19.344453Z"
    }
   },
   "outputs": [],
   "source": [
    "def print_scores(ytest,ypreds):\n",
    "    # for auc score we need to binarize\n",
    "    labels = [0, 1, 2, 3]\n",
    "    ytest_bin = label_binarize(ytest, classes=labels)\n",
    "    ypreds_bin = label_binarize(ypreds, classes=labels)\n",
    "    a = roc_auc_score(ytest_bin,ypreds_bin,\n",
    "                      average='macro',multi_class='ovo')\n",
    "    \n",
    "    # precision recall\n",
    "    p = precision_score(ytest,ypreds,average='macro')\n",
    "    r = recall_score(ytest,ypreds,average='macro')\n",
    "    f = f1_score(ytest,ypreds,average='macro')\n",
    "    print(f'Precision: {p: .2f}')\n",
    "    print(f'Recall   : {r: .2f}')\n",
    "    print(f'F1-score : {f: .2f}')\n",
    "    print(f'AUC      : {f: .2f}')\n",
    "    \n",
    "\n",
    "    c = classification_report(ytest, ypreds)\n",
    "    print(c)\n",
    "\n",
    "    cm = confusion_matrix(ytest,ypreds)\n",
    "    names = list('ABCD')\n",
    "    df_cm = pd.DataFrame(cm,index=names,columns=names)\n",
    "    df_cm = df_cm.style.background_gradient()\n",
    "    display(df_cm)"
   ]
  },
  {
   "cell_type": "code",
   "execution_count": 3,
   "metadata": {
    "ExecuteTime": {
     "end_time": "2020-08-07T18:25:19.358881Z",
     "start_time": "2020-08-07T18:25:19.353414Z"
    }
   },
   "outputs": [],
   "source": [
    "df_eval = pd.DataFrame({'Model': [],\n",
    "                        'Description':[],\n",
    "                        'Accuracy':[],\n",
    "                        'Precision':[],\n",
    "                        'Recall':[],\n",
    "                        'F1':[],\n",
    "                        'AUC': []\n",
    "                    })"
   ]
  },
  {
   "cell_type": "markdown",
   "metadata": {},
   "source": [
    "# Load the data"
   ]
  },
  {
   "cell_type": "code",
   "execution_count": 4,
   "metadata": {
    "ExecuteTime": {
     "end_time": "2020-08-07T18:25:19.395901Z",
     "start_time": "2020-08-07T18:25:19.360779Z"
    }
   },
   "outputs": [
    {
     "name": "stdout",
     "output_type": "stream",
     "text": [
      "(8068, 11)\n"
     ]
    },
    {
     "data": {
      "text/html": [
       "<div>\n",
       "<style scoped>\n",
       "    .dataframe tbody tr th:only-of-type {\n",
       "        vertical-align: middle;\n",
       "    }\n",
       "\n",
       "    .dataframe tbody tr th {\n",
       "        vertical-align: top;\n",
       "    }\n",
       "\n",
       "    .dataframe thead th {\n",
       "        text-align: right;\n",
       "    }\n",
       "</style>\n",
       "<table border=\"1\" class=\"dataframe\">\n",
       "  <thead>\n",
       "    <tr style=\"text-align: right;\">\n",
       "      <th></th>\n",
       "      <th>ID</th>\n",
       "      <th>Gender</th>\n",
       "      <th>Ever_Married</th>\n",
       "      <th>Age</th>\n",
       "      <th>Graduated</th>\n",
       "      <th>Profession</th>\n",
       "      <th>Work_Experience</th>\n",
       "      <th>Spending_Score</th>\n",
       "      <th>Family_Size</th>\n",
       "      <th>Var_1</th>\n",
       "      <th>Segmentation</th>\n",
       "    </tr>\n",
       "  </thead>\n",
       "  <tbody>\n",
       "    <tr>\n",
       "      <th>0</th>\n",
       "      <td>462809</td>\n",
       "      <td>Male</td>\n",
       "      <td>No</td>\n",
       "      <td>22</td>\n",
       "      <td>No</td>\n",
       "      <td>Healthcare</td>\n",
       "      <td>1.0</td>\n",
       "      <td>Low</td>\n",
       "      <td>4.0</td>\n",
       "      <td>Cat_4</td>\n",
       "      <td>D</td>\n",
       "    </tr>\n",
       "    <tr>\n",
       "      <th>1</th>\n",
       "      <td>462643</td>\n",
       "      <td>Female</td>\n",
       "      <td>Yes</td>\n",
       "      <td>38</td>\n",
       "      <td>Yes</td>\n",
       "      <td>Engineer</td>\n",
       "      <td>NaN</td>\n",
       "      <td>Average</td>\n",
       "      <td>3.0</td>\n",
       "      <td>Cat_4</td>\n",
       "      <td>A</td>\n",
       "    </tr>\n",
       "    <tr>\n",
       "      <th>8066</th>\n",
       "      <td>467299</td>\n",
       "      <td>Female</td>\n",
       "      <td>No</td>\n",
       "      <td>27</td>\n",
       "      <td>Yes</td>\n",
       "      <td>Healthcare</td>\n",
       "      <td>1.0</td>\n",
       "      <td>Low</td>\n",
       "      <td>4.0</td>\n",
       "      <td>Cat_6</td>\n",
       "      <td>B</td>\n",
       "    </tr>\n",
       "    <tr>\n",
       "      <th>8067</th>\n",
       "      <td>461879</td>\n",
       "      <td>Male</td>\n",
       "      <td>Yes</td>\n",
       "      <td>37</td>\n",
       "      <td>Yes</td>\n",
       "      <td>Executive</td>\n",
       "      <td>0.0</td>\n",
       "      <td>Average</td>\n",
       "      <td>3.0</td>\n",
       "      <td>Cat_4</td>\n",
       "      <td>B</td>\n",
       "    </tr>\n",
       "  </tbody>\n",
       "</table>\n",
       "</div>"
      ],
      "text/plain": [
       "          ID  Gender Ever_Married  Age Graduated  Profession  Work_Experience  \\\n",
       "0     462809    Male           No   22        No  Healthcare              1.0   \n",
       "1     462643  Female          Yes   38       Yes    Engineer              NaN   \n",
       "8066  467299  Female           No   27       Yes  Healthcare              1.0   \n",
       "8067  461879    Male          Yes   37       Yes   Executive              0.0   \n",
       "\n",
       "     Spending_Score  Family_Size  Var_1 Segmentation  \n",
       "0               Low          4.0  Cat_4            D  \n",
       "1           Average          3.0  Cat_4            A  \n",
       "8066            Low          4.0  Cat_6            B  \n",
       "8067        Average          3.0  Cat_4            B  "
      ]
     },
     "execution_count": 4,
     "metadata": {},
     "output_type": "execute_result"
    }
   ],
   "source": [
    "df_raw = pd.read_csv('../data/raw/train.csv')\n",
    "print(df_raw.shape)\n",
    "\n",
    "df_raw.head(2).append(df_raw.tail(2))"
   ]
  },
  {
   "cell_type": "code",
   "execution_count": 5,
   "metadata": {
    "ExecuteTime": {
     "end_time": "2020-08-07T18:25:19.450558Z",
     "start_time": "2020-08-07T18:25:19.398625Z"
    }
   },
   "outputs": [
    {
     "name": "stdout",
     "output_type": "stream",
     "text": [
      "(8068, 38)\n"
     ]
    },
    {
     "data": {
      "text/html": [
       "<div>\n",
       "<style scoped>\n",
       "    .dataframe tbody tr th:only-of-type {\n",
       "        vertical-align: middle;\n",
       "    }\n",
       "\n",
       "    .dataframe tbody tr th {\n",
       "        vertical-align: top;\n",
       "    }\n",
       "\n",
       "    .dataframe thead th {\n",
       "        text-align: right;\n",
       "    }\n",
       "</style>\n",
       "<table border=\"1\" class=\"dataframe\">\n",
       "  <thead>\n",
       "    <tr style=\"text-align: right;\">\n",
       "      <th></th>\n",
       "      <th>Gender</th>\n",
       "      <th>Ever_Married</th>\n",
       "      <th>Age</th>\n",
       "      <th>Graduated</th>\n",
       "      <th>Work_Experience</th>\n",
       "      <th>Spending_Score</th>\n",
       "      <th>Family_Size</th>\n",
       "      <th>Segmentation</th>\n",
       "      <th>Ever_Married_NA</th>\n",
       "      <th>Graduated_NA</th>\n",
       "      <th>Profession_NA</th>\n",
       "      <th>Work_Experience_NA</th>\n",
       "      <th>Family_Size_NA</th>\n",
       "      <th>Var_1_NA</th>\n",
       "      <th>Age_cat</th>\n",
       "      <th>Family_Size_cat</th>\n",
       "      <th>Work_Experience_cat</th>\n",
       "      <th>Profession_Artist</th>\n",
       "      <th>Profession_Doctor</th>\n",
       "      <th>Profession_Engineer</th>\n",
       "      <th>Profession_Entertainment</th>\n",
       "      <th>Profession_Executive</th>\n",
       "      <th>Profession_Healthcare</th>\n",
       "      <th>Profession_Homemaker</th>\n",
       "      <th>Profession_Lawyer</th>\n",
       "      <th>Profession_Marketing</th>\n",
       "      <th>Var_1_Cat_1</th>\n",
       "      <th>Var_1_Cat_2</th>\n",
       "      <th>Var_1_Cat_3</th>\n",
       "      <th>Var_1_Cat_4</th>\n",
       "      <th>Var_1_Cat_5</th>\n",
       "      <th>Var_1_Cat_6</th>\n",
       "      <th>Var_1_Cat_7</th>\n",
       "      <th>gen_mar</th>\n",
       "      <th>gen_grad</th>\n",
       "      <th>gen_spend</th>\n",
       "      <th>grad_spend</th>\n",
       "      <th>grad_spend_gen</th>\n",
       "    </tr>\n",
       "  </thead>\n",
       "  <tbody>\n",
       "    <tr>\n",
       "      <th>0</th>\n",
       "      <td>0</td>\n",
       "      <td>0</td>\n",
       "      <td>22</td>\n",
       "      <td>0</td>\n",
       "      <td>1.0</td>\n",
       "      <td>0</td>\n",
       "      <td>4.0</td>\n",
       "      <td>3</td>\n",
       "      <td>0</td>\n",
       "      <td>0</td>\n",
       "      <td>0</td>\n",
       "      <td>0</td>\n",
       "      <td>0</td>\n",
       "      <td>0</td>\n",
       "      <td>0</td>\n",
       "      <td>1</td>\n",
       "      <td>0</td>\n",
       "      <td>0</td>\n",
       "      <td>0</td>\n",
       "      <td>0</td>\n",
       "      <td>0</td>\n",
       "      <td>0</td>\n",
       "      <td>1</td>\n",
       "      <td>0</td>\n",
       "      <td>0</td>\n",
       "      <td>0</td>\n",
       "      <td>0</td>\n",
       "      <td>0</td>\n",
       "      <td>0</td>\n",
       "      <td>1</td>\n",
       "      <td>0</td>\n",
       "      <td>0</td>\n",
       "      <td>0</td>\n",
       "      <td>0</td>\n",
       "      <td>0</td>\n",
       "      <td>0</td>\n",
       "      <td>0</td>\n",
       "      <td>0</td>\n",
       "    </tr>\n",
       "    <tr>\n",
       "      <th>1</th>\n",
       "      <td>1</td>\n",
       "      <td>1</td>\n",
       "      <td>38</td>\n",
       "      <td>1</td>\n",
       "      <td>3.0</td>\n",
       "      <td>1</td>\n",
       "      <td>3.0</td>\n",
       "      <td>0</td>\n",
       "      <td>0</td>\n",
       "      <td>0</td>\n",
       "      <td>0</td>\n",
       "      <td>1</td>\n",
       "      <td>0</td>\n",
       "      <td>0</td>\n",
       "      <td>1</td>\n",
       "      <td>1</td>\n",
       "      <td>1</td>\n",
       "      <td>0</td>\n",
       "      <td>0</td>\n",
       "      <td>1</td>\n",
       "      <td>0</td>\n",
       "      <td>0</td>\n",
       "      <td>0</td>\n",
       "      <td>0</td>\n",
       "      <td>0</td>\n",
       "      <td>0</td>\n",
       "      <td>0</td>\n",
       "      <td>0</td>\n",
       "      <td>0</td>\n",
       "      <td>1</td>\n",
       "      <td>0</td>\n",
       "      <td>0</td>\n",
       "      <td>0</td>\n",
       "      <td>3</td>\n",
       "      <td>3</td>\n",
       "      <td>4</td>\n",
       "      <td>4</td>\n",
       "      <td>13</td>\n",
       "    </tr>\n",
       "    <tr>\n",
       "      <th>8066</th>\n",
       "      <td>1</td>\n",
       "      <td>0</td>\n",
       "      <td>27</td>\n",
       "      <td>1</td>\n",
       "      <td>1.0</td>\n",
       "      <td>0</td>\n",
       "      <td>4.0</td>\n",
       "      <td>1</td>\n",
       "      <td>0</td>\n",
       "      <td>0</td>\n",
       "      <td>0</td>\n",
       "      <td>0</td>\n",
       "      <td>0</td>\n",
       "      <td>0</td>\n",
       "      <td>0</td>\n",
       "      <td>1</td>\n",
       "      <td>0</td>\n",
       "      <td>0</td>\n",
       "      <td>0</td>\n",
       "      <td>0</td>\n",
       "      <td>0</td>\n",
       "      <td>0</td>\n",
       "      <td>1</td>\n",
       "      <td>0</td>\n",
       "      <td>0</td>\n",
       "      <td>0</td>\n",
       "      <td>0</td>\n",
       "      <td>0</td>\n",
       "      <td>0</td>\n",
       "      <td>0</td>\n",
       "      <td>0</td>\n",
       "      <td>1</td>\n",
       "      <td>0</td>\n",
       "      <td>1</td>\n",
       "      <td>3</td>\n",
       "      <td>1</td>\n",
       "      <td>1</td>\n",
       "      <td>10</td>\n",
       "    </tr>\n",
       "    <tr>\n",
       "      <th>8067</th>\n",
       "      <td>0</td>\n",
       "      <td>1</td>\n",
       "      <td>37</td>\n",
       "      <td>1</td>\n",
       "      <td>0.0</td>\n",
       "      <td>1</td>\n",
       "      <td>3.0</td>\n",
       "      <td>1</td>\n",
       "      <td>0</td>\n",
       "      <td>0</td>\n",
       "      <td>0</td>\n",
       "      <td>0</td>\n",
       "      <td>0</td>\n",
       "      <td>0</td>\n",
       "      <td>1</td>\n",
       "      <td>1</td>\n",
       "      <td>0</td>\n",
       "      <td>0</td>\n",
       "      <td>0</td>\n",
       "      <td>0</td>\n",
       "      <td>0</td>\n",
       "      <td>1</td>\n",
       "      <td>0</td>\n",
       "      <td>0</td>\n",
       "      <td>0</td>\n",
       "      <td>0</td>\n",
       "      <td>0</td>\n",
       "      <td>0</td>\n",
       "      <td>0</td>\n",
       "      <td>1</td>\n",
       "      <td>0</td>\n",
       "      <td>0</td>\n",
       "      <td>0</td>\n",
       "      <td>2</td>\n",
       "      <td>2</td>\n",
       "      <td>3</td>\n",
       "      <td>4</td>\n",
       "      <td>4</td>\n",
       "    </tr>\n",
       "  </tbody>\n",
       "</table>\n",
       "</div>"
      ],
      "text/plain": [
       "      Gender  Ever_Married  Age  Graduated  Work_Experience  Spending_Score  \\\n",
       "0          0             0   22          0              1.0               0   \n",
       "1          1             1   38          1              3.0               1   \n",
       "8066       1             0   27          1              1.0               0   \n",
       "8067       0             1   37          1              0.0               1   \n",
       "\n",
       "      Family_Size  Segmentation  Ever_Married_NA  Graduated_NA  Profession_NA  \\\n",
       "0             4.0             3                0             0              0   \n",
       "1             3.0             0                0             0              0   \n",
       "8066          4.0             1                0             0              0   \n",
       "8067          3.0             1                0             0              0   \n",
       "\n",
       "      Work_Experience_NA  Family_Size_NA  Var_1_NA  Age_cat  Family_Size_cat  \\\n",
       "0                      0               0         0        0                1   \n",
       "1                      1               0         0        1                1   \n",
       "8066                   0               0         0        0                1   \n",
       "8067                   0               0         0        1                1   \n",
       "\n",
       "      Work_Experience_cat  Profession_Artist  Profession_Doctor  \\\n",
       "0                       0                  0                  0   \n",
       "1                       1                  0                  0   \n",
       "8066                    0                  0                  0   \n",
       "8067                    0                  0                  0   \n",
       "\n",
       "      Profession_Engineer  Profession_Entertainment  Profession_Executive  \\\n",
       "0                       0                         0                     0   \n",
       "1                       1                         0                     0   \n",
       "8066                    0                         0                     0   \n",
       "8067                    0                         0                     1   \n",
       "\n",
       "      Profession_Healthcare  Profession_Homemaker  Profession_Lawyer  \\\n",
       "0                         1                     0                  0   \n",
       "1                         0                     0                  0   \n",
       "8066                      1                     0                  0   \n",
       "8067                      0                     0                  0   \n",
       "\n",
       "      Profession_Marketing  Var_1_Cat_1  Var_1_Cat_2  Var_1_Cat_3  \\\n",
       "0                        0            0            0            0   \n",
       "1                        0            0            0            0   \n",
       "8066                     0            0            0            0   \n",
       "8067                     0            0            0            0   \n",
       "\n",
       "      Var_1_Cat_4  Var_1_Cat_5  Var_1_Cat_6  Var_1_Cat_7  gen_mar  gen_grad  \\\n",
       "0               1            0            0            0        0         0   \n",
       "1               1            0            0            0        3         3   \n",
       "8066            0            0            1            0        1         3   \n",
       "8067            1            0            0            0        2         2   \n",
       "\n",
       "      gen_spend  grad_spend  grad_spend_gen  \n",
       "0             0           0               0  \n",
       "1             4           4              13  \n",
       "8066          1           1              10  \n",
       "8067          3           4               4  "
      ]
     },
     "execution_count": 5,
     "metadata": {},
     "output_type": "execute_result"
    }
   ],
   "source": [
    "df = pd.read_csv('../data/processed/clean_data.csv')\n",
    "print(df.shape)\n",
    "\n",
    "df.head(2).append(df.tail(2))"
   ]
  },
  {
   "cell_type": "markdown",
   "metadata": {},
   "source": [
    "# Train test split"
   ]
  },
  {
   "cell_type": "code",
   "execution_count": 6,
   "metadata": {
    "ExecuteTime": {
     "end_time": "2020-08-07T18:25:19.480489Z",
     "start_time": "2020-08-07T18:25:19.473148Z"
    }
   },
   "outputs": [],
   "source": [
    "from sklearn.model_selection import train_test_split"
   ]
  },
  {
   "cell_type": "code",
   "execution_count": 7,
   "metadata": {
    "ExecuteTime": {
     "end_time": "2020-08-07T18:25:19.554800Z",
     "start_time": "2020-08-07T18:25:19.500648Z"
    }
   },
   "outputs": [
    {
     "name": "stdout",
     "output_type": "stream",
     "text": [
      "df             : (8068, 38)\n",
      "\n",
      "df_Xtrain_orig : (6454, 37)\n",
      "ser_ytrain_orig: (6454,)\n",
      "\n",
      "df_Xtrain      : (5163, 37)\n",
      "ser_ytrain     : (5163,)\n",
      "\n",
      "df_Xvalid      : (1291, 37)\n",
      "ser_yvalid     : (1291,)\n",
      "\n",
      "df_Xtest       : (1614, 37)\n",
      "ser_ytest      : (1614,)\n"
     ]
    },
    {
     "data": {
      "text/html": [
       "<div>\n",
       "<style scoped>\n",
       "    .dataframe tbody tr th:only-of-type {\n",
       "        vertical-align: middle;\n",
       "    }\n",
       "\n",
       "    .dataframe tbody tr th {\n",
       "        vertical-align: top;\n",
       "    }\n",
       "\n",
       "    .dataframe thead th {\n",
       "        text-align: right;\n",
       "    }\n",
       "</style>\n",
       "<table border=\"1\" class=\"dataframe\">\n",
       "  <thead>\n",
       "    <tr style=\"text-align: right;\">\n",
       "      <th></th>\n",
       "      <th>Gender</th>\n",
       "      <th>Ever_Married</th>\n",
       "      <th>Age</th>\n",
       "      <th>Graduated</th>\n",
       "      <th>Work_Experience</th>\n",
       "      <th>Spending_Score</th>\n",
       "      <th>Family_Size</th>\n",
       "      <th>Ever_Married_NA</th>\n",
       "      <th>Graduated_NA</th>\n",
       "      <th>Profession_NA</th>\n",
       "      <th>Work_Experience_NA</th>\n",
       "      <th>Family_Size_NA</th>\n",
       "      <th>Var_1_NA</th>\n",
       "      <th>Age_cat</th>\n",
       "      <th>Family_Size_cat</th>\n",
       "      <th>Work_Experience_cat</th>\n",
       "      <th>Profession_Artist</th>\n",
       "      <th>Profession_Doctor</th>\n",
       "      <th>Profession_Engineer</th>\n",
       "      <th>Profession_Entertainment</th>\n",
       "      <th>Profession_Executive</th>\n",
       "      <th>Profession_Healthcare</th>\n",
       "      <th>Profession_Homemaker</th>\n",
       "      <th>Profession_Lawyer</th>\n",
       "      <th>Profession_Marketing</th>\n",
       "      <th>Var_1_Cat_1</th>\n",
       "      <th>Var_1_Cat_2</th>\n",
       "      <th>Var_1_Cat_3</th>\n",
       "      <th>Var_1_Cat_4</th>\n",
       "      <th>Var_1_Cat_5</th>\n",
       "      <th>Var_1_Cat_6</th>\n",
       "      <th>Var_1_Cat_7</th>\n",
       "      <th>gen_mar</th>\n",
       "      <th>gen_grad</th>\n",
       "      <th>gen_spend</th>\n",
       "      <th>grad_spend</th>\n",
       "      <th>grad_spend_gen</th>\n",
       "    </tr>\n",
       "  </thead>\n",
       "  <tbody>\n",
       "    <tr>\n",
       "      <th>3582</th>\n",
       "      <td>0</td>\n",
       "      <td>1</td>\n",
       "      <td>27</td>\n",
       "      <td>0</td>\n",
       "      <td>2.0</td>\n",
       "      <td>0</td>\n",
       "      <td>2.0</td>\n",
       "      <td>0</td>\n",
       "      <td>0</td>\n",
       "      <td>0</td>\n",
       "      <td>1</td>\n",
       "      <td>0</td>\n",
       "      <td>0</td>\n",
       "      <td>0</td>\n",
       "      <td>0</td>\n",
       "      <td>0</td>\n",
       "      <td>0</td>\n",
       "      <td>0</td>\n",
       "      <td>0</td>\n",
       "      <td>0</td>\n",
       "      <td>1</td>\n",
       "      <td>0</td>\n",
       "      <td>0</td>\n",
       "      <td>0</td>\n",
       "      <td>0</td>\n",
       "      <td>0</td>\n",
       "      <td>0</td>\n",
       "      <td>0</td>\n",
       "      <td>1</td>\n",
       "      <td>0</td>\n",
       "      <td>0</td>\n",
       "      <td>0</td>\n",
       "      <td>2</td>\n",
       "      <td>0</td>\n",
       "      <td>0</td>\n",
       "      <td>0</td>\n",
       "      <td>0</td>\n",
       "    </tr>\n",
       "    <tr>\n",
       "      <th>6827</th>\n",
       "      <td>0</td>\n",
       "      <td>0</td>\n",
       "      <td>41</td>\n",
       "      <td>1</td>\n",
       "      <td>3.0</td>\n",
       "      <td>0</td>\n",
       "      <td>1.0</td>\n",
       "      <td>0</td>\n",
       "      <td>0</td>\n",
       "      <td>0</td>\n",
       "      <td>1</td>\n",
       "      <td>0</td>\n",
       "      <td>0</td>\n",
       "      <td>1</td>\n",
       "      <td>0</td>\n",
       "      <td>1</td>\n",
       "      <td>0</td>\n",
       "      <td>0</td>\n",
       "      <td>0</td>\n",
       "      <td>1</td>\n",
       "      <td>0</td>\n",
       "      <td>0</td>\n",
       "      <td>0</td>\n",
       "      <td>0</td>\n",
       "      <td>0</td>\n",
       "      <td>0</td>\n",
       "      <td>0</td>\n",
       "      <td>0</td>\n",
       "      <td>0</td>\n",
       "      <td>0</td>\n",
       "      <td>1</td>\n",
       "      <td>0</td>\n",
       "      <td>0</td>\n",
       "      <td>2</td>\n",
       "      <td>0</td>\n",
       "      <td>1</td>\n",
       "      <td>1</td>\n",
       "    </tr>\n",
       "  </tbody>\n",
       "</table>\n",
       "</div>"
      ],
      "text/plain": [
       "      Gender  Ever_Married  Age  Graduated  Work_Experience  Spending_Score  \\\n",
       "3582       0             1   27          0              2.0               0   \n",
       "6827       0             0   41          1              3.0               0   \n",
       "\n",
       "      Family_Size  Ever_Married_NA  Graduated_NA  Profession_NA  \\\n",
       "3582          2.0                0             0              0   \n",
       "6827          1.0                0             0              0   \n",
       "\n",
       "      Work_Experience_NA  Family_Size_NA  Var_1_NA  Age_cat  Family_Size_cat  \\\n",
       "3582                   1               0         0        0                0   \n",
       "6827                   1               0         0        1                0   \n",
       "\n",
       "      Work_Experience_cat  Profession_Artist  Profession_Doctor  \\\n",
       "3582                    0                  0                  0   \n",
       "6827                    1                  0                  0   \n",
       "\n",
       "      Profession_Engineer  Profession_Entertainment  Profession_Executive  \\\n",
       "3582                    0                         0                     1   \n",
       "6827                    0                         1                     0   \n",
       "\n",
       "      Profession_Healthcare  Profession_Homemaker  Profession_Lawyer  \\\n",
       "3582                      0                     0                  0   \n",
       "6827                      0                     0                  0   \n",
       "\n",
       "      Profession_Marketing  Var_1_Cat_1  Var_1_Cat_2  Var_1_Cat_3  \\\n",
       "3582                     0            0            0            0   \n",
       "6827                     0            0            0            0   \n",
       "\n",
       "      Var_1_Cat_4  Var_1_Cat_5  Var_1_Cat_6  Var_1_Cat_7  gen_mar  gen_grad  \\\n",
       "3582            1            0            0            0        2         0   \n",
       "6827            0            0            1            0        0         2   \n",
       "\n",
       "      gen_spend  grad_spend  grad_spend_gen  \n",
       "3582          0           0               0  \n",
       "6827          0           1               1  "
      ]
     },
     "execution_count": 7,
     "metadata": {},
     "output_type": "execute_result"
    }
   ],
   "source": [
    "target = 'Segmentation'\n",
    "\n",
    "df_Xtrain_orig, df_Xtest, ser_ytrain_orig, ser_ytest = train_test_split(\n",
    "    df.drop(target,axis=1), df[target],shuffle=True,\n",
    "    test_size=0.2, random_state=SEED, stratify=df[target])\n",
    "\n",
    "df_Xtrain, df_Xvalid, ser_ytrain, ser_yvalid = train_test_split(\n",
    "    df_Xtrain_orig, ser_ytrain_orig,\n",
    "    test_size=0.2, random_state=SEED, stratify=ser_ytrain_orig)\n",
    "\n",
    "ytrain = ser_ytrain.to_numpy().ravel()\n",
    "yvalid = ser_yvalid.to_numpy().ravel()\n",
    "ytest = ser_ytest.to_numpy().ravel()\n",
    "\n",
    "print(f\"df             : {df.shape}\")\n",
    "\n",
    "print(f\"\\ndf_Xtrain_orig : {df_Xtrain_orig.shape}\")\n",
    "print(f\"ser_ytrain_orig: {ser_ytrain_orig.shape}\")\n",
    "\n",
    "print(f\"\\ndf_Xtrain      : {df_Xtrain.shape}\")\n",
    "print(f\"ser_ytrain     : {ser_ytrain.shape}\")\n",
    "\n",
    "print(f\"\\ndf_Xvalid      : {df_Xvalid.shape}\")\n",
    "print(f\"ser_yvalid     : {ser_yvalid.shape}\")\n",
    "\n",
    "print(f\"\\ndf_Xtest       : {df_Xtest.shape}\")\n",
    "print(f\"ser_ytest      : {ser_ytest.shape}\")\n",
    "\n",
    "df_Xtrain_orig.head(2)"
   ]
  },
  {
   "cell_type": "code",
   "execution_count": 8,
   "metadata": {
    "ExecuteTime": {
     "end_time": "2020-08-07T18:25:19.562710Z",
     "start_time": "2020-08-07T18:25:19.556748Z"
    }
   },
   "outputs": [
    {
     "data": {
      "text/plain": [
       "['Gender',\n",
       " 'Ever_Married',\n",
       " 'Age',\n",
       " 'Graduated',\n",
       " 'Work_Experience',\n",
       " 'Spending_Score',\n",
       " 'Family_Size',\n",
       " 'Age_cat',\n",
       " 'Family_Size_cat',\n",
       " 'Work_Experience_cat',\n",
       " 'Profession_Artist',\n",
       " 'Profession_Doctor',\n",
       " 'Profession_Engineer',\n",
       " 'Profession_Entertainment',\n",
       " 'Profession_Executive',\n",
       " 'Profession_Healthcare',\n",
       " 'Profession_Homemaker',\n",
       " 'Profession_Lawyer',\n",
       " 'Profession_Marketing',\n",
       " 'Var_1_Cat_1',\n",
       " 'Var_1_Cat_2',\n",
       " 'Var_1_Cat_3',\n",
       " 'Var_1_Cat_4',\n",
       " 'Var_1_Cat_5',\n",
       " 'Var_1_Cat_6',\n",
       " 'Var_1_Cat_7']"
      ]
     },
     "execution_count": 8,
     "metadata": {},
     "output_type": "execute_result"
    }
   ],
   "source": [
    "cols_all = df_Xtrain_orig.columns.to_list()\n",
    "cols_no_na = [i for i in cols_all if not i.endswith('_NA')]\n",
    "\n",
    "\n",
    "cross = ['gen_mar', 'gen_grad', 'gen_spend',\n",
    "         'grad_spend', 'grad_spend_gen']\n",
    "cols_no_na_no_cross = [i for i in cols_no_na if i not in cross]\n",
    "cols_no_na_no_cross"
   ]
  },
  {
   "cell_type": "code",
   "execution_count": 9,
   "metadata": {
    "ExecuteTime": {
     "end_time": "2020-08-07T18:25:19.575285Z",
     "start_time": "2020-08-07T18:25:19.566894Z"
    }
   },
   "outputs": [],
   "source": [
    "features = cols_no_na\n",
    "\n",
    "Xtr = df_Xtrain_orig[features]\n",
    "Xtx = df_Xtest[features]\n",
    "Xvd = df_Xvalid[features]\n",
    "\n",
    "ytr = ser_ytrain_orig.to_numpy().ravel()\n",
    "ytx = ser_ytest.to_numpy().ravel()\n",
    "yvd = ser_yvalid.to_numpy().ravel()"
   ]
  },
  {
   "cell_type": "code",
   "execution_count": 10,
   "metadata": {
    "ExecuteTime": {
     "end_time": "2020-08-07T18:25:19.581597Z",
     "start_time": "2020-08-07T18:25:19.578014Z"
    }
   },
   "outputs": [],
   "source": [
    "dtrain = lgb.Dataset(Xtr, ytr)\n",
    "dvalid = lgb.Dataset(Xvd, yvd, reference=dtrain)\n",
    "# I have used dtrain and dvalid in optuna grid search only.\n",
    "# lgb required raw dataframe for prediction, no need of dtest."
   ]
  },
  {
   "cell_type": "markdown",
   "metadata": {},
   "source": [
    "# Modelling: lgb"
   ]
  },
  {
   "cell_type": "markdown",
   "metadata": {},
   "source": [
    "## default"
   ]
  },
  {
   "cell_type": "code",
   "execution_count": 11,
   "metadata": {
    "ExecuteTime": {
     "end_time": "2020-08-07T18:25:22.682231Z",
     "start_time": "2020-08-07T18:25:19.583343Z"
    }
   },
   "outputs": [
    {
     "name": "stdout",
     "output_type": "stream",
     "text": [
      "Time taken: 0 min 3 secs\n"
     ]
    },
    {
     "data": {
      "text/html": [
       "<div>\n",
       "<style scoped>\n",
       "    .dataframe tbody tr th:only-of-type {\n",
       "        vertical-align: middle;\n",
       "    }\n",
       "\n",
       "    .dataframe tbody tr th {\n",
       "        vertical-align: top;\n",
       "    }\n",
       "\n",
       "    .dataframe thead th {\n",
       "        text-align: right;\n",
       "    }\n",
       "</style>\n",
       "<table border=\"1\" class=\"dataframe\">\n",
       "  <thead>\n",
       "    <tr style=\"text-align: right;\">\n",
       "      <th></th>\n",
       "      <th>Model</th>\n",
       "      <th>Description</th>\n",
       "      <th>Accuracy</th>\n",
       "      <th>Precision</th>\n",
       "      <th>Recall</th>\n",
       "      <th>F1</th>\n",
       "      <th>AUC</th>\n",
       "    </tr>\n",
       "  </thead>\n",
       "  <tbody>\n",
       "    <tr>\n",
       "      <th>0</th>\n",
       "      <td>lightgbm</td>\n",
       "      <td>default</td>\n",
       "      <td>0.491945</td>\n",
       "      <td>0.48121</td>\n",
       "      <td>0.483835</td>\n",
       "      <td>0.482098</td>\n",
       "      <td>0.657252</td>\n",
       "    </tr>\n",
       "  </tbody>\n",
       "</table>\n",
       "</div>"
      ],
      "text/plain": [
       "      Model Description  Accuracy  Precision    Recall        F1       AUC\n",
       "0  lightgbm     default  0.491945    0.48121  0.483835  0.482098  0.657252"
      ]
     },
     "metadata": {},
     "output_type": "display_data"
    },
    {
     "name": "stdout",
     "output_type": "stream",
     "text": [
      "Precision:  0.48\n",
      "Recall   :  0.48\n",
      "F1-score :  0.48\n",
      "AUC      :  0.48\n",
      "              precision    recall  f1-score   support\n",
      "\n",
      "           0       0.44      0.44      0.44       394\n",
      "           1       0.37      0.34      0.36       372\n",
      "           2       0.51      0.50      0.50       394\n",
      "           3       0.60      0.65      0.62       454\n",
      "\n",
      "    accuracy                           0.49      1614\n",
      "   macro avg       0.48      0.48      0.48      1614\n",
      "weighted avg       0.49      0.49      0.49      1614\n",
      "\n"
     ]
    },
    {
     "data": {
      "text/html": [
       "<style  type=\"text/css\" >\n",
       "#T_5b2493ce_d8db_11ea_9807_8c859004fb9crow0_col0,#T_5b2493ce_d8db_11ea_9807_8c859004fb9crow1_col1,#T_5b2493ce_d8db_11ea_9807_8c859004fb9crow2_col2,#T_5b2493ce_d8db_11ea_9807_8c859004fb9crow3_col3{\n",
       "            background-color:  #023858;\n",
       "            color:  #f1f1f1;\n",
       "        }#T_5b2493ce_d8db_11ea_9807_8c859004fb9crow0_col1{\n",
       "            background-color:  #73a9cf;\n",
       "            color:  #000000;\n",
       "        }#T_5b2493ce_d8db_11ea_9807_8c859004fb9crow0_col2{\n",
       "            background-color:  #ede8f3;\n",
       "            color:  #000000;\n",
       "        }#T_5b2493ce_d8db_11ea_9807_8c859004fb9crow0_col3{\n",
       "            background-color:  #e1dfed;\n",
       "            color:  #000000;\n",
       "        }#T_5b2493ce_d8db_11ea_9807_8c859004fb9crow1_col0{\n",
       "            background-color:  #b4c4df;\n",
       "            color:  #000000;\n",
       "        }#T_5b2493ce_d8db_11ea_9807_8c859004fb9crow1_col2{\n",
       "            background-color:  #6da6cd;\n",
       "            color:  #000000;\n",
       "        }#T_5b2493ce_d8db_11ea_9807_8c859004fb9crow1_col3,#T_5b2493ce_d8db_11ea_9807_8c859004fb9crow2_col0,#T_5b2493ce_d8db_11ea_9807_8c859004fb9crow3_col1,#T_5b2493ce_d8db_11ea_9807_8c859004fb9crow3_col2{\n",
       "            background-color:  #fff7fb;\n",
       "            color:  #000000;\n",
       "        }#T_5b2493ce_d8db_11ea_9807_8c859004fb9crow2_col1{\n",
       "            background-color:  #3790c0;\n",
       "            color:  #000000;\n",
       "        }#T_5b2493ce_d8db_11ea_9807_8c859004fb9crow2_col3{\n",
       "            background-color:  #f4edf6;\n",
       "            color:  #000000;\n",
       "        }#T_5b2493ce_d8db_11ea_9807_8c859004fb9crow3_col0{\n",
       "            background-color:  #a1bbda;\n",
       "            color:  #000000;\n",
       "        }</style><table id=\"T_5b2493ce_d8db_11ea_9807_8c859004fb9c\" ><thead>    <tr>        <th class=\"blank level0\" ></th>        <th class=\"col_heading level0 col0\" >A</th>        <th class=\"col_heading level0 col1\" >B</th>        <th class=\"col_heading level0 col2\" >C</th>        <th class=\"col_heading level0 col3\" >D</th>    </tr></thead><tbody>\n",
       "                <tr>\n",
       "                        <th id=\"T_5b2493ce_d8db_11ea_9807_8c859004fb9clevel0_row0\" class=\"row_heading level0 row0\" >A</th>\n",
       "                        <td id=\"T_5b2493ce_d8db_11ea_9807_8c859004fb9crow0_col0\" class=\"data row0 col0\" >175</td>\n",
       "                        <td id=\"T_5b2493ce_d8db_11ea_9807_8c859004fb9crow0_col1\" class=\"data row0 col1\" >82</td>\n",
       "                        <td id=\"T_5b2493ce_d8db_11ea_9807_8c859004fb9crow0_col2\" class=\"data row0 col2\" >49</td>\n",
       "                        <td id=\"T_5b2493ce_d8db_11ea_9807_8c859004fb9crow0_col3\" class=\"data row0 col3\" >88</td>\n",
       "            </tr>\n",
       "            <tr>\n",
       "                        <th id=\"T_5b2493ce_d8db_11ea_9807_8c859004fb9clevel0_row1\" class=\"row_heading level0 row1\" >B</th>\n",
       "                        <td id=\"T_5b2493ce_d8db_11ea_9807_8c859004fb9crow1_col0\" class=\"data row1 col0\" >86</td>\n",
       "                        <td id=\"T_5b2493ce_d8db_11ea_9807_8c859004fb9crow1_col1\" class=\"data row1 col1\" >127</td>\n",
       "                        <td id=\"T_5b2493ce_d8db_11ea_9807_8c859004fb9crow1_col2\" class=\"data row1 col2\" >115</td>\n",
       "                        <td id=\"T_5b2493ce_d8db_11ea_9807_8c859004fb9crow1_col3\" class=\"data row1 col3\" >44</td>\n",
       "            </tr>\n",
       "            <tr>\n",
       "                        <th id=\"T_5b2493ce_d8db_11ea_9807_8c859004fb9clevel0_row2\" class=\"row_heading level0 row2\" >C</th>\n",
       "                        <td id=\"T_5b2493ce_d8db_11ea_9807_8c859004fb9crow2_col0\" class=\"data row2 col0\" >41</td>\n",
       "                        <td id=\"T_5b2493ce_d8db_11ea_9807_8c859004fb9crow2_col1\" class=\"data row2 col1\" >93</td>\n",
       "                        <td id=\"T_5b2493ce_d8db_11ea_9807_8c859004fb9crow2_col2\" class=\"data row2 col2\" >197</td>\n",
       "                        <td id=\"T_5b2493ce_d8db_11ea_9807_8c859004fb9crow2_col3\" class=\"data row2 col3\" >63</td>\n",
       "            </tr>\n",
       "            <tr>\n",
       "                        <th id=\"T_5b2493ce_d8db_11ea_9807_8c859004fb9clevel0_row3\" class=\"row_heading level0 row3\" >D</th>\n",
       "                        <td id=\"T_5b2493ce_d8db_11ea_9807_8c859004fb9crow3_col0\" class=\"data row3 col0\" >93</td>\n",
       "                        <td id=\"T_5b2493ce_d8db_11ea_9807_8c859004fb9crow3_col1\" class=\"data row3 col1\" >37</td>\n",
       "                        <td id=\"T_5b2493ce_d8db_11ea_9807_8c859004fb9crow3_col2\" class=\"data row3 col2\" >29</td>\n",
       "                        <td id=\"T_5b2493ce_d8db_11ea_9807_8c859004fb9crow3_col3\" class=\"data row3 col3\" >295</td>\n",
       "            </tr>\n",
       "    </tbody></table>"
      ],
      "text/plain": [
       "<pandas.io.formats.style.Styler at 0x7fb8eca0ca50>"
      ]
     },
     "metadata": {},
     "output_type": "display_data"
    }
   ],
   "source": [
    "# time\n",
    "time_start = time.time()\n",
    "EVAL_METRIC = 'multi_error' # xgboost has 'auc'\n",
    "\n",
    "model_name = 'lightgbm'\n",
    "desc = 'default'\n",
    "\n",
    "# model\n",
    "model = lgb.LGBMClassifier(random_state=SEED)\n",
    "\n",
    "# fit and save the model\n",
    "model.fit(Xtr, ytr, eval_metric=EVAL_METRIC)\n",
    "\n",
    "\n",
    "# predictions\n",
    "skf = StratifiedKFold(n_splits=10,shuffle=True,random_state=SEED)\n",
    "ypreds_cv = cross_val_predict(model, Xtx, ytx, cv=skf)\n",
    "ypreds = ypreds_cv\n",
    "\n",
    "# auc\n",
    "labels = [0, 1, 2, 3]\n",
    "ytest_bin = label_binarize(ytest, classes=labels)\n",
    "ypreds_bin = label_binarize(ypreds, classes=labels)\n",
    "auc = roc_auc_score(ytest_bin,ypreds_bin,\n",
    "                  average='macro',multi_class='ovo')\n",
    "\n",
    "# model evaluation\n",
    "average = 'macro'\n",
    "row_eval = [model_name,desc, \n",
    "            accuracy_score(ytx, ypreds),\n",
    "            precision_score(ytx, ypreds, average=average),\n",
    "            recall_score(ytx, ypreds, average=average),\n",
    "            f1_score(ytx, ypreds, average=average),\n",
    "            auc\n",
    "            ]\n",
    "\n",
    "df_eval.loc[len(df_eval)] = row_eval\n",
    "df_eval = df_eval.drop_duplicates()\n",
    "time_taken = time.time() - time_start\n",
    "print('Time taken: {:.0f} min {:.0f} secs'.format(*divmod(time_taken,60)))\n",
    "display(df_eval)\n",
    "print_scores(ytest,ypreds)"
   ]
  },
  {
   "cell_type": "markdown",
   "metadata": {},
   "source": [
    "## Trial 1"
   ]
  },
  {
   "cell_type": "code",
   "execution_count": 12,
   "metadata": {
    "ExecuteTime": {
     "end_time": "2020-08-07T18:25:22.694605Z",
     "start_time": "2020-08-07T18:25:22.684334Z"
    }
   },
   "outputs": [
    {
     "name": "stderr",
     "output_type": "stream",
     "text": [
      "/Users/poudel/opt/miniconda3/envs/dataSc/lib/python3.7/site-packages/sklearn/utils/validation.py:71: FutureWarning: Pass classes=[0 1 2 3], y=[1 0 2 ... 0 1 0] as keyword args. From version 0.25 passing these as positional arguments will result in an error\n",
      "  FutureWarning)\n"
     ]
    },
    {
     "data": {
      "text/plain": [
       "array([1.0227813 , 1.08557611, 1.02359239, 0.88955892])"
      ]
     },
     "execution_count": 12,
     "metadata": {},
     "output_type": "execute_result"
    }
   ],
   "source": [
    "arr_class_weights = class_weight.compute_class_weight(\n",
    "    'balanced',\n",
    "    np.unique(ytrain.reshape(-1, )),\n",
    "    ytrain.reshape(-1, ))\n",
    "\n",
    "dic_class_weights = dict(enumerate(arr_class_weights))\n",
    "arr_class_weights"
   ]
  },
  {
   "cell_type": "code",
   "execution_count": 13,
   "metadata": {
    "ExecuteTime": {
     "end_time": "2020-08-07T18:25:22.703673Z",
     "start_time": "2020-08-07T18:25:22.696772Z"
    }
   },
   "outputs": [],
   "source": [
    "params = {\"objective\": \"multiclass\",\n",
    "          \"boosting_type\": \"gbdt\",\n",
    "          'num_class':4,\n",
    "          'random_state': SEED,\n",
    "          \"metric\": \"multi_logloss\",\n",
    "          \"verbose\": 0}\n",
    "\n",
    "params['learning_rate'] = 0.04\n",
    "params['max_depth'] = 18\n",
    "params['n_estimators'] = 3000\n",
    "params['subsample'] = 0.7\n",
    "params['colsample_bytree']=0.7\n",
    "params['min_data_in_leaf'] = 55\n",
    "params['reg_alpha'] = 1.7\n",
    "params['reg_lambda'] = 1.11\n",
    "params['class_weight']: dic_class_weights\n",
    "\n",
    "\n",
    "model = lgb.LGBMClassifier(**params)"
   ]
  },
  {
   "cell_type": "code",
   "execution_count": 14,
   "metadata": {
    "ExecuteTime": {
     "end_time": "2020-08-07T18:25:23.410138Z",
     "start_time": "2020-08-07T18:25:22.728527Z"
    }
   },
   "outputs": [],
   "source": [
    "%%capture\n",
    "model.fit(df_Xtrain,ser_ytrain,\n",
    "          early_stopping_rounds = 100,\n",
    "          eval_metric='multi_error',\n",
    "          eval_set = (df_Xvalid,ser_yvalid))"
   ]
  },
  {
   "cell_type": "code",
   "execution_count": 15,
   "metadata": {
    "ExecuteTime": {
     "end_time": "2020-08-07T18:25:23.418307Z",
     "start_time": "2020-08-07T18:25:23.411938Z"
    }
   },
   "outputs": [
    {
     "data": {
      "text/plain": [
       "84"
      ]
     },
     "execution_count": 15,
     "metadata": {},
     "output_type": "execute_result"
    }
   ],
   "source": [
    "params['n_estimators'] = model.best_iteration_\n",
    "model.best_iteration_"
   ]
  },
  {
   "cell_type": "code",
   "execution_count": 16,
   "metadata": {
    "ExecuteTime": {
     "end_time": "2020-08-07T18:25:25.540363Z",
     "start_time": "2020-08-07T18:25:23.420741Z"
    }
   },
   "outputs": [
    {
     "name": "stdout",
     "output_type": "stream",
     "text": [
      "Time taken: 0 min 2 secs\n"
     ]
    },
    {
     "data": {
      "text/html": [
       "<div>\n",
       "<style scoped>\n",
       "    .dataframe tbody tr th:only-of-type {\n",
       "        vertical-align: middle;\n",
       "    }\n",
       "\n",
       "    .dataframe tbody tr th {\n",
       "        vertical-align: top;\n",
       "    }\n",
       "\n",
       "    .dataframe thead th {\n",
       "        text-align: right;\n",
       "    }\n",
       "</style>\n",
       "<table border=\"1\" class=\"dataframe\">\n",
       "  <thead>\n",
       "    <tr style=\"text-align: right;\">\n",
       "      <th></th>\n",
       "      <th>Model</th>\n",
       "      <th>Description</th>\n",
       "      <th>Accuracy</th>\n",
       "      <th>Precision</th>\n",
       "      <th>Recall</th>\n",
       "      <th>F1</th>\n",
       "      <th>AUC</th>\n",
       "    </tr>\n",
       "  </thead>\n",
       "  <tbody>\n",
       "    <tr>\n",
       "      <th>0</th>\n",
       "      <td>lightgbm</td>\n",
       "      <td>default</td>\n",
       "      <td>0.491945</td>\n",
       "      <td>0.481210</td>\n",
       "      <td>0.483835</td>\n",
       "      <td>0.482098</td>\n",
       "      <td>0.657252</td>\n",
       "    </tr>\n",
       "    <tr>\n",
       "      <th>1</th>\n",
       "      <td>lightgbm</td>\n",
       "      <td>example_1</td>\n",
       "      <td>0.503098</td>\n",
       "      <td>0.487655</td>\n",
       "      <td>0.492798</td>\n",
       "      <td>0.485116</td>\n",
       "      <td>0.663384</td>\n",
       "    </tr>\n",
       "  </tbody>\n",
       "</table>\n",
       "</div>"
      ],
      "text/plain": [
       "      Model Description  Accuracy  Precision    Recall        F1       AUC\n",
       "0  lightgbm     default  0.491945   0.481210  0.483835  0.482098  0.657252\n",
       "1  lightgbm   example_1  0.503098   0.487655  0.492798  0.485116  0.663384"
      ]
     },
     "metadata": {},
     "output_type": "display_data"
    },
    {
     "name": "stdout",
     "output_type": "stream",
     "text": [
      "Precision:  0.49\n",
      "Recall   :  0.49\n",
      "F1-score :  0.49\n",
      "AUC      :  0.49\n",
      "              precision    recall  f1-score   support\n",
      "\n",
      "           0       0.41      0.46      0.43       394\n",
      "           1       0.40      0.26      0.31       372\n",
      "           2       0.54      0.57      0.56       394\n",
      "           3       0.60      0.68      0.64       454\n",
      "\n",
      "    accuracy                           0.50      1614\n",
      "   macro avg       0.49      0.49      0.49      1614\n",
      "weighted avg       0.49      0.50      0.49      1614\n",
      "\n"
     ]
    },
    {
     "data": {
      "text/html": [
       "<style  type=\"text/css\" >\n",
       "#T_5cd82d66_d8db_11ea_9807_8c859004fb9crow0_col0,#T_5cd82d66_d8db_11ea_9807_8c859004fb9crow1_col1,#T_5cd82d66_d8db_11ea_9807_8c859004fb9crow2_col2,#T_5cd82d66_d8db_11ea_9807_8c859004fb9crow3_col3{\n",
       "            background-color:  #023858;\n",
       "            color:  #f1f1f1;\n",
       "        }#T_5cd82d66_d8db_11ea_9807_8c859004fb9crow0_col1{\n",
       "            background-color:  #3f93c2;\n",
       "            color:  #000000;\n",
       "        }#T_5cd82d66_d8db_11ea_9807_8c859004fb9crow0_col2,#T_5cd82d66_d8db_11ea_9807_8c859004fb9crow0_col3{\n",
       "            background-color:  #e2dfee;\n",
       "            color:  #000000;\n",
       "        }#T_5cd82d66_d8db_11ea_9807_8c859004fb9crow1_col0{\n",
       "            background-color:  #8bb2d4;\n",
       "            color:  #000000;\n",
       "        }#T_5cd82d66_d8db_11ea_9807_8c859004fb9crow1_col2{\n",
       "            background-color:  #73a9cf;\n",
       "            color:  #000000;\n",
       "        }#T_5cd82d66_d8db_11ea_9807_8c859004fb9crow1_col3,#T_5cd82d66_d8db_11ea_9807_8c859004fb9crow2_col0,#T_5cd82d66_d8db_11ea_9807_8c859004fb9crow3_col1,#T_5cd82d66_d8db_11ea_9807_8c859004fb9crow3_col2{\n",
       "            background-color:  #fff7fb;\n",
       "            color:  #000000;\n",
       "        }#T_5cd82d66_d8db_11ea_9807_8c859004fb9crow2_col1{\n",
       "            background-color:  #d2d2e7;\n",
       "            color:  #000000;\n",
       "        }#T_5cd82d66_d8db_11ea_9807_8c859004fb9crow2_col3{\n",
       "            background-color:  #f1ebf4;\n",
       "            color:  #000000;\n",
       "        }#T_5cd82d66_d8db_11ea_9807_8c859004fb9crow3_col0{\n",
       "            background-color:  #afc1dd;\n",
       "            color:  #000000;\n",
       "        }</style><table id=\"T_5cd82d66_d8db_11ea_9807_8c859004fb9c\" ><thead>    <tr>        <th class=\"blank level0\" ></th>        <th class=\"col_heading level0 col0\" >A</th>        <th class=\"col_heading level0 col1\" >B</th>        <th class=\"col_heading level0 col2\" >C</th>        <th class=\"col_heading level0 col3\" >D</th>    </tr></thead><tbody>\n",
       "                <tr>\n",
       "                        <th id=\"T_5cd82d66_d8db_11ea_9807_8c859004fb9clevel0_row0\" class=\"row_heading level0 row0\" >A</th>\n",
       "                        <td id=\"T_5cd82d66_d8db_11ea_9807_8c859004fb9crow0_col0\" class=\"data row0 col0\" >182</td>\n",
       "                        <td id=\"T_5cd82d66_d8db_11ea_9807_8c859004fb9crow0_col1\" class=\"data row0 col1\" >69</td>\n",
       "                        <td id=\"T_5cd82d66_d8db_11ea_9807_8c859004fb9crow0_col2\" class=\"data row0 col2\" >52</td>\n",
       "                        <td id=\"T_5cd82d66_d8db_11ea_9807_8c859004fb9crow0_col3\" class=\"data row0 col3\" >91</td>\n",
       "            </tr>\n",
       "            <tr>\n",
       "                        <th id=\"T_5cd82d66_d8db_11ea_9807_8c859004fb9clevel0_row1\" class=\"row_heading level0 row1\" >B</th>\n",
       "                        <td id=\"T_5cd82d66_d8db_11ea_9807_8c859004fb9crow1_col0\" class=\"data row1 col0\" >110</td>\n",
       "                        <td id=\"T_5cd82d66_d8db_11ea_9807_8c859004fb9crow1_col1\" class=\"data row1 col1\" >95</td>\n",
       "                        <td id=\"T_5cd82d66_d8db_11ea_9807_8c859004fb9crow1_col2\" class=\"data row1 col2\" >121</td>\n",
       "                        <td id=\"T_5cd82d66_d8db_11ea_9807_8c859004fb9crow1_col3\" class=\"data row1 col3\" >46</td>\n",
       "            </tr>\n",
       "            <tr>\n",
       "                        <th id=\"T_5cd82d66_d8db_11ea_9807_8c859004fb9clevel0_row2\" class=\"row_heading level0 row2\" >C</th>\n",
       "                        <td id=\"T_5cd82d66_d8db_11ea_9807_8c859004fb9crow2_col0\" class=\"data row2 col0\" >53</td>\n",
       "                        <td id=\"T_5cd82d66_d8db_11ea_9807_8c859004fb9crow2_col1\" class=\"data row2 col1\" >45</td>\n",
       "                        <td id=\"T_5cd82d66_d8db_11ea_9807_8c859004fb9crow2_col2\" class=\"data row2 col2\" >225</td>\n",
       "                        <td id=\"T_5cd82d66_d8db_11ea_9807_8c859004fb9crow2_col3\" class=\"data row2 col3\" >71</td>\n",
       "            </tr>\n",
       "            <tr>\n",
       "                        <th id=\"T_5cd82d66_d8db_11ea_9807_8c859004fb9clevel0_row3\" class=\"row_heading level0 row3\" >D</th>\n",
       "                        <td id=\"T_5cd82d66_d8db_11ea_9807_8c859004fb9crow3_col0\" class=\"data row3 col0\" >98</td>\n",
       "                        <td id=\"T_5cd82d66_d8db_11ea_9807_8c859004fb9crow3_col1\" class=\"data row3 col1\" >29</td>\n",
       "                        <td id=\"T_5cd82d66_d8db_11ea_9807_8c859004fb9crow3_col2\" class=\"data row3 col2\" >17</td>\n",
       "                        <td id=\"T_5cd82d66_d8db_11ea_9807_8c859004fb9crow3_col3\" class=\"data row3 col3\" >310</td>\n",
       "            </tr>\n",
       "    </tbody></table>"
      ],
      "text/plain": [
       "<pandas.io.formats.style.Styler at 0x7fb8ee7c8d90>"
      ]
     },
     "metadata": {},
     "output_type": "display_data"
    }
   ],
   "source": [
    "# time\n",
    "time_start = time.time()\n",
    "\n",
    "model_name = 'lightgbm'\n",
    "desc = 'example_1'\n",
    "\n",
    "# model\n",
    "model = lgb.LGBMClassifier(**params)\n",
    "\n",
    "# fit and save the model\n",
    "model.fit(Xtr, ytr)\n",
    "\n",
    "# predictions\n",
    "skf = StratifiedKFold(n_splits=10,shuffle=True,random_state=SEED)\n",
    "ypreds_cv = cross_val_predict(model, Xtx, ytx, cv=skf)\n",
    "ypreds = ypreds_cv\n",
    "\n",
    "# auc\n",
    "labels = [0, 1, 2, 3]\n",
    "ytest_bin = label_binarize(ytest, classes=labels)\n",
    "ypreds_bin = label_binarize(ypreds, classes=labels)\n",
    "auc = roc_auc_score(ytest_bin,ypreds_bin,\n",
    "                  average='macro',multi_class='ovo')\n",
    "\n",
    "# model evaluation\n",
    "average = 'macro'\n",
    "row_eval = [model_name,desc, \n",
    "            accuracy_score(ytx, ypreds),\n",
    "            precision_score(ytx, ypreds, average=average),\n",
    "            recall_score(ytx, ypreds, average=average),\n",
    "            f1_score(ytx, ypreds, average=average),\n",
    "            auc\n",
    "            ]\n",
    "\n",
    "df_eval.loc[len(df_eval)] = row_eval\n",
    "df_eval = df_eval.drop_duplicates()\n",
    "time_taken = time.time() - time_start\n",
    "print('Time taken: {:.0f} min {:.0f} secs'.format(*divmod(time_taken,60)))\n",
    "display(df_eval)\n",
    "print_scores(ytest,ypreds)"
   ]
  },
  {
   "cell_type": "markdown",
   "metadata": {},
   "source": [
    "## Few Trials"
   ]
  },
  {
   "cell_type": "code",
   "execution_count": 17,
   "metadata": {
    "ExecuteTime": {
     "end_time": "2020-08-07T18:25:26.349036Z",
     "start_time": "2020-08-07T18:25:25.542470Z"
    }
   },
   "outputs": [
    {
     "name": "stdout",
     "output_type": "stream",
     "text": [
      "[[170  85  43  96]\n",
      " [ 98 120 119  35]\n",
      " [ 41  70 216  67]\n",
      " [ 86  31  22 315]]\n",
      "0.5086741016109045\n",
      "0.5086741016109045\n",
      "0.6747753331267431\n"
     ]
    }
   ],
   "source": [
    "model = lgb.LGBMClassifier(learning_rate=0.1, n_estimators=250, max_depth=5,\n",
    " min_child_weight=1, gamma=0, subsample=0.8, colsample_bytree=0.8, nthread=4, scale_pos_weight=3,seed=27)\n",
    "\n",
    "model.fit(Xtr,ytr)\n",
    "ypreds = model.predict(Xtx)\n",
    "\n",
    "print(confusion_matrix(ytest, ypreds))\n",
    "print(accuracy_score(ytest,ypreds))\n",
    "\n",
    "print(model.score(Xtx, ytx))\n",
    "print(model.score(Xtr, ytr))"
   ]
  },
  {
   "cell_type": "markdown",
   "metadata": {},
   "source": [
    "# Hyperparameter optimization"
   ]
  },
  {
   "cell_type": "markdown",
   "metadata": {},
   "source": [
    "## HPO using RandomizedSearchCV"
   ]
  },
  {
   "cell_type": "code",
   "execution_count": 18,
   "metadata": {
    "ExecuteTime": {
     "end_time": "2020-08-07T18:25:26.354490Z",
     "start_time": "2020-08-07T18:25:26.350965Z"
    }
   },
   "outputs": [],
   "source": [
    "from sklearn.model_selection import RandomizedSearchCV, StratifiedKFold"
   ]
  },
  {
   "cell_type": "code",
   "execution_count": 19,
   "metadata": {
    "ExecuteTime": {
     "end_time": "2020-08-07T18:25:26.362094Z",
     "start_time": "2020-08-07T18:25:26.356794Z"
    }
   },
   "outputs": [],
   "source": [
    "skf = StratifiedKFold(n_splits=10, shuffle=True, random_state=SEED)\n",
    "X = np.array(Xtr)\n",
    "y = np.array(ytr)"
   ]
  },
  {
   "cell_type": "code",
   "execution_count": 20,
   "metadata": {
    "ExecuteTime": {
     "end_time": "2020-08-07T18:25:26.376479Z",
     "start_time": "2020-08-07T18:25:26.364726Z"
    }
   },
   "outputs": [],
   "source": [
    "model = lgb.LGBMClassifier(boosting_type='gbdt',\n",
    "                           objective='multiclass',\n",
    "                           num_class=4,\n",
    "                           random_state=SEED,\n",
    "                           n_jobs=-1,\n",
    "                           verbose=1)\n",
    "\n",
    "params = {\"max_depth\":[4,6,8,10,-1],\n",
    "          \"learning_rate\":[0.01, 0.03, 0.05, 0.1, 0.3, 0.5,\n",
    "                           0.7, 0.8, 0.9, 1, 1.1, 1.2, 1.5],\n",
    "          \"subsample\":[0.5,0.6,0.7,0.8,0.9,1],\n",
    "          \"colsample_bytree\":[0.5,0.6,0.7,0.8,0.9,1],\n",
    "          \"reg_alpha\":[0,0.25,0.5,1,2],\n",
    "          \"reg_lambda\":[0,0.25,0.5,1,2],\n",
    "          \"num_leaves\":[7,15,31,63,127],\n",
    "          \"min_data_in_leaf\":[1,3,5,7,10,25,50,75,100],\n",
    "          \"n_estimators\":list(range(50,1001,25))\n",
    "         }\n",
    "grid = RandomizedSearchCV(model,params,\n",
    "                          cv=skf.split(X, y),\n",
    "                          scoring='accuracy')"
   ]
  },
  {
   "cell_type": "code",
   "execution_count": 21,
   "metadata": {
    "ExecuteTime": {
     "end_time": "2020-08-07T18:25:26.387946Z",
     "start_time": "2020-08-07T18:25:26.380603Z"
    }
   },
   "outputs": [
    {
     "name": "stdout",
     "output_type": "stream",
     "text": [
      "CPU times: user 3 µs, sys: 0 ns, total: 3 µs\n",
      "Wall time: 5.96 µs\n"
     ]
    }
   ],
   "source": [
    "%%time\n",
    "# grid.fit(X,y)\n",
    "# best_model = grid.best_estimator_\n",
    "# joblib.dump(best_model, '../outputs/lgb_randomsearch_best_model.pkl')"
   ]
  },
  {
   "cell_type": "code",
   "execution_count": 22,
   "metadata": {
    "ExecuteTime": {
     "end_time": "2020-08-07T18:25:26.443697Z",
     "start_time": "2020-08-07T18:25:26.390080Z"
    }
   },
   "outputs": [
    {
     "data": {
      "text/plain": [
       "LGBMClassifier(colsample_bytree=0.6, learning_rate=0.03, min_data_in_leaf=1,\n",
       "               n_estimators=375, num_class=4, num_leaves=15,\n",
       "               objective='multiclass', random_state=100, reg_alpha=0.25,\n",
       "               reg_lambda=1, subsample=1, verbose=1)"
      ]
     },
     "execution_count": 22,
     "metadata": {},
     "output_type": "execute_result"
    }
   ],
   "source": [
    "model_grid_random = joblib.load('../outputs/lgb_randomsearch_best_model.pkl')\n",
    "model_grid_random"
   ]
  },
  {
   "cell_type": "code",
   "execution_count": 23,
   "metadata": {
    "ExecuteTime": {
     "end_time": "2020-08-07T18:25:31.196045Z",
     "start_time": "2020-08-07T18:25:26.446708Z"
    }
   },
   "outputs": [
    {
     "name": "stdout",
     "output_type": "stream",
     "text": [
      "Time taken: 0 min 5 secs\n"
     ]
    },
    {
     "data": {
      "text/html": [
       "<div>\n",
       "<style scoped>\n",
       "    .dataframe tbody tr th:only-of-type {\n",
       "        vertical-align: middle;\n",
       "    }\n",
       "\n",
       "    .dataframe tbody tr th {\n",
       "        vertical-align: top;\n",
       "    }\n",
       "\n",
       "    .dataframe thead th {\n",
       "        text-align: right;\n",
       "    }\n",
       "</style>\n",
       "<table border=\"1\" class=\"dataframe\">\n",
       "  <thead>\n",
       "    <tr style=\"text-align: right;\">\n",
       "      <th></th>\n",
       "      <th>Model</th>\n",
       "      <th>Description</th>\n",
       "      <th>Accuracy</th>\n",
       "      <th>Precision</th>\n",
       "      <th>Recall</th>\n",
       "      <th>F1</th>\n",
       "      <th>AUC</th>\n",
       "    </tr>\n",
       "  </thead>\n",
       "  <tbody>\n",
       "    <tr>\n",
       "      <th>0</th>\n",
       "      <td>lightgbm</td>\n",
       "      <td>default</td>\n",
       "      <td>0.491945</td>\n",
       "      <td>0.481210</td>\n",
       "      <td>0.483835</td>\n",
       "      <td>0.482098</td>\n",
       "      <td>0.657252</td>\n",
       "    </tr>\n",
       "    <tr>\n",
       "      <th>1</th>\n",
       "      <td>lightgbm</td>\n",
       "      <td>example_1</td>\n",
       "      <td>0.503098</td>\n",
       "      <td>0.487655</td>\n",
       "      <td>0.492798</td>\n",
       "      <td>0.485116</td>\n",
       "      <td>0.663384</td>\n",
       "    </tr>\n",
       "    <tr>\n",
       "      <th>2</th>\n",
       "      <td>lightgbm</td>\n",
       "      <td>grid_randomsearch</td>\n",
       "      <td>0.513011</td>\n",
       "      <td>0.502470</td>\n",
       "      <td>0.504972</td>\n",
       "      <td>0.502981</td>\n",
       "      <td>0.671342</td>\n",
       "    </tr>\n",
       "  </tbody>\n",
       "</table>\n",
       "</div>"
      ],
      "text/plain": [
       "      Model        Description  Accuracy  Precision    Recall        F1  \\\n",
       "0  lightgbm            default  0.491945   0.481210  0.483835  0.482098   \n",
       "1  lightgbm          example_1  0.503098   0.487655  0.492798  0.485116   \n",
       "2  lightgbm  grid_randomsearch  0.513011   0.502470  0.504972  0.502981   \n",
       "\n",
       "        AUC  \n",
       "0  0.657252  \n",
       "1  0.663384  \n",
       "2  0.671342  "
      ]
     },
     "metadata": {},
     "output_type": "display_data"
    },
    {
     "name": "stdout",
     "output_type": "stream",
     "text": [
      "Precision:  0.50\n",
      "Recall   :  0.50\n",
      "F1-score :  0.50\n",
      "AUC      :  0.50\n",
      "              precision    recall  f1-score   support\n",
      "\n",
      "           0       0.43      0.45      0.44       394\n",
      "           1       0.41      0.35      0.38       372\n",
      "           2       0.54      0.55      0.55       394\n",
      "           3       0.63      0.67      0.65       454\n",
      "\n",
      "    accuracy                           0.51      1614\n",
      "   macro avg       0.50      0.50      0.50      1614\n",
      "weighted avg       0.51      0.51      0.51      1614\n",
      "\n"
     ]
    },
    {
     "data": {
      "text/html": [
       "<style  type=\"text/css\" >\n",
       "#T_60379456_d8db_11ea_9807_8c859004fb9crow0_col0,#T_60379456_d8db_11ea_9807_8c859004fb9crow1_col1,#T_60379456_d8db_11ea_9807_8c859004fb9crow2_col2,#T_60379456_d8db_11ea_9807_8c859004fb9crow3_col3{\n",
       "            background-color:  #023858;\n",
       "            color:  #f1f1f1;\n",
       "        }#T_60379456_d8db_11ea_9807_8c859004fb9crow0_col1{\n",
       "            background-color:  #569dc8;\n",
       "            color:  #000000;\n",
       "        }#T_60379456_d8db_11ea_9807_8c859004fb9crow0_col2{\n",
       "            background-color:  #e9e5f1;\n",
       "            color:  #000000;\n",
       "        }#T_60379456_d8db_11ea_9807_8c859004fb9crow0_col3{\n",
       "            background-color:  #e8e4f0;\n",
       "            color:  #000000;\n",
       "        }#T_60379456_d8db_11ea_9807_8c859004fb9crow1_col0{\n",
       "            background-color:  #b1c2de;\n",
       "            color:  #000000;\n",
       "        }#T_60379456_d8db_11ea_9807_8c859004fb9crow1_col2{\n",
       "            background-color:  #89b1d4;\n",
       "            color:  #000000;\n",
       "        }#T_60379456_d8db_11ea_9807_8c859004fb9crow1_col3,#T_60379456_d8db_11ea_9807_8c859004fb9crow2_col0,#T_60379456_d8db_11ea_9807_8c859004fb9crow3_col1,#T_60379456_d8db_11ea_9807_8c859004fb9crow3_col2{\n",
       "            background-color:  #fff7fb;\n",
       "            color:  #000000;\n",
       "        }#T_60379456_d8db_11ea_9807_8c859004fb9crow2_col1{\n",
       "            background-color:  #acc0dd;\n",
       "            color:  #000000;\n",
       "        }#T_60379456_d8db_11ea_9807_8c859004fb9crow2_col3{\n",
       "            background-color:  #f2ecf5;\n",
       "            color:  #000000;\n",
       "        }#T_60379456_d8db_11ea_9807_8c859004fb9crow3_col0{\n",
       "            background-color:  #a7bddb;\n",
       "            color:  #000000;\n",
       "        }</style><table id=\"T_60379456_d8db_11ea_9807_8c859004fb9c\" ><thead>    <tr>        <th class=\"blank level0\" ></th>        <th class=\"col_heading level0 col0\" >A</th>        <th class=\"col_heading level0 col1\" >B</th>        <th class=\"col_heading level0 col2\" >C</th>        <th class=\"col_heading level0 col3\" >D</th>    </tr></thead><tbody>\n",
       "                <tr>\n",
       "                        <th id=\"T_60379456_d8db_11ea_9807_8c859004fb9clevel0_row0\" class=\"row_heading level0 row0\" >A</th>\n",
       "                        <td id=\"T_60379456_d8db_11ea_9807_8c859004fb9crow0_col0\" class=\"data row0 col0\" >178</td>\n",
       "                        <td id=\"T_60379456_d8db_11ea_9807_8c859004fb9crow0_col1\" class=\"data row0 col1\" >88</td>\n",
       "                        <td id=\"T_60379456_d8db_11ea_9807_8c859004fb9crow0_col2\" class=\"data row0 col2\" >51</td>\n",
       "                        <td id=\"T_60379456_d8db_11ea_9807_8c859004fb9crow0_col3\" class=\"data row0 col3\" >77</td>\n",
       "            </tr>\n",
       "            <tr>\n",
       "                        <th id=\"T_60379456_d8db_11ea_9807_8c859004fb9clevel0_row1\" class=\"row_heading level0 row1\" >B</th>\n",
       "                        <td id=\"T_60379456_d8db_11ea_9807_8c859004fb9crow1_col0\" class=\"data row1 col0\" >91</td>\n",
       "                        <td id=\"T_60379456_d8db_11ea_9807_8c859004fb9crow1_col1\" class=\"data row1 col1\" >131</td>\n",
       "                        <td id=\"T_60379456_d8db_11ea_9807_8c859004fb9crow1_col2\" class=\"data row1 col2\" >110</td>\n",
       "                        <td id=\"T_60379456_d8db_11ea_9807_8c859004fb9crow1_col3\" class=\"data row1 col3\" >40</td>\n",
       "            </tr>\n",
       "            <tr>\n",
       "                        <th id=\"T_60379456_d8db_11ea_9807_8c859004fb9clevel0_row2\" class=\"row_heading level0 row2\" >C</th>\n",
       "                        <td id=\"T_60379456_d8db_11ea_9807_8c859004fb9crow2_col0\" class=\"data row2 col0\" >46</td>\n",
       "                        <td id=\"T_60379456_d8db_11ea_9807_8c859004fb9crow2_col1\" class=\"data row2 col1\" >68</td>\n",
       "                        <td id=\"T_60379456_d8db_11ea_9807_8c859004fb9crow2_col2\" class=\"data row2 col2\" >217</td>\n",
       "                        <td id=\"T_60379456_d8db_11ea_9807_8c859004fb9crow2_col3\" class=\"data row2 col3\" >63</td>\n",
       "            </tr>\n",
       "            <tr>\n",
       "                        <th id=\"T_60379456_d8db_11ea_9807_8c859004fb9clevel0_row3\" class=\"row_heading level0 row3\" >D</th>\n",
       "                        <td id=\"T_60379456_d8db_11ea_9807_8c859004fb9crow3_col0\" class=\"data row3 col0\" >95</td>\n",
       "                        <td id=\"T_60379456_d8db_11ea_9807_8c859004fb9crow3_col1\" class=\"data row3 col1\" >33</td>\n",
       "                        <td id=\"T_60379456_d8db_11ea_9807_8c859004fb9crow3_col2\" class=\"data row3 col2\" >24</td>\n",
       "                        <td id=\"T_60379456_d8db_11ea_9807_8c859004fb9crow3_col3\" class=\"data row3 col3\" >302</td>\n",
       "            </tr>\n",
       "    </tbody></table>"
      ],
      "text/plain": [
       "<pandas.io.formats.style.Styler at 0x7fb8ee835d50>"
      ]
     },
     "metadata": {},
     "output_type": "display_data"
    }
   ],
   "source": [
    "# time\n",
    "time_start = time.time()\n",
    "EVAL_METRIC = 'multi_error'\n",
    "\n",
    "model_name = 'lightgbm'\n",
    "desc = 'grid_randomsearch'\n",
    "\n",
    "# model\n",
    "model = model_grid_random\n",
    "\n",
    "# fit and save the model\n",
    "model.fit(Xtr, ytr,eval_metric=EVAL_METRIC)\n",
    "\n",
    "# predictions\n",
    "skf = StratifiedKFold(n_splits=10,shuffle=True,random_state=SEED)\n",
    "ypreds_cv = cross_val_predict(model, Xtx, ytx, cv=skf)\n",
    "ypreds = ypreds_cv\n",
    "\n",
    "# auc\n",
    "labels = [0, 1, 2, 3]\n",
    "ytest_bin = label_binarize(ytest, classes=labels)\n",
    "ypreds_bin = label_binarize(ypreds, classes=labels)\n",
    "auc = roc_auc_score(ytest_bin,ypreds_bin,\n",
    "                  average='macro',multi_class='ovo')\n",
    "\n",
    "# model evaluation\n",
    "average = 'macro'\n",
    "row_eval = [model_name,desc, \n",
    "            accuracy_score(ytx, ypreds),\n",
    "            precision_score(ytx, ypreds, average=average),\n",
    "            recall_score(ytx, ypreds, average=average),\n",
    "            f1_score(ytx, ypreds, average=average),\n",
    "            auc\n",
    "            ]\n",
    "\n",
    "df_eval.loc[len(df_eval)] = row_eval\n",
    "df_eval = df_eval.drop_duplicates()\n",
    "time_taken = time.time() - time_start\n",
    "print('Time taken: {:.0f} min {:.0f} secs'.format(*divmod(time_taken,60)))\n",
    "display(df_eval)\n",
    "print_scores(ytest,ypreds)"
   ]
  },
  {
   "cell_type": "markdown",
   "metadata": {},
   "source": [
    "## HPO using optuna\n",
    "Optuna gave me worse result, even if the best parameters are within range."
   ]
  },
  {
   "cell_type": "code",
   "execution_count": 24,
   "metadata": {
    "ExecuteTime": {
     "end_time": "2020-08-07T18:25:31.717040Z",
     "start_time": "2020-08-07T18:25:31.237405Z"
    }
   },
   "outputs": [],
   "source": [
    "import optuna\n",
    "optuna.logging.set_verbosity(optuna.logging.WARNING)\n",
    "from sklearn.metrics import accuracy_score\n",
    "\n",
    "def objective(trial):\n",
    "\n",
    "    params = {\"objective\": \"multiclass\",\n",
    "              \"boosting_type\": \"gbdt\",\n",
    "              'num_class':4,\n",
    "              \"metric\": \"multi_logloss\",\n",
    "              \"verbose\": 0}\n",
    "\n",
    "#     params[\"learning_rate\"] = trial.suggest_uniform('learning_rate',1e-5, 1.0)\n",
    "    params[\"learning_rate\"] = 0.03 # choose small lr and large estimators\n",
    "    params[\"num_leaves\"]= trial.suggest_int('num_leaves', 10, 500)\n",
    "    params[\"max_depth\"] = trial.suggest_int('max_depth', 5, 20)\n",
    "\n",
    "    params[\"colsample_bytree\"] = trial.suggest_uniform('learning_rate',0.1, 1.0)\n",
    "\n",
    "    params[\"reg_alpha\"] = trial.suggest_loguniform('reg_alpha', 1e-8, 10.0)\n",
    "    params[\"reg_lambda\"] = trial.suggest_loguniform('reg_alpha', 1e-8, 10.0)\n",
    "\n",
    "    pruning_callback = optuna.integration.LightGBMPruningCallback(trial, \"multi_logloss\")\n",
    "\n",
    "    # booster object\n",
    "    bst = lgb.train(params, dtrain,\n",
    "                      num_boost_round=10_000,\n",
    "                      early_stopping_rounds=50,\n",
    "                      valid_sets=dvalid,\n",
    "                      callbacks=[pruning_callback]\n",
    "                     )\n",
    "\n",
    "    # for prediction, it needs dataframe\n",
    "    vd_preds = bst.predict(Xvd,\n",
    "                             num_iteration=bst.best_iteration)\n",
    "\n",
    "\n",
    "    vd_preds = np.argmax(vd_preds,axis=1)\n",
    "    acc = accuracy_score(yvd,vd_preds)\n",
    "\n",
    "    return 1- acc"
   ]
  },
  {
   "cell_type": "code",
   "execution_count": null,
   "metadata": {
    "ExecuteTime": {
     "end_time": "2020-08-07T18:39:11.718870Z",
     "start_time": "2020-08-07T18:25:31.722072Z"
    }
   },
   "outputs": [],
   "source": [
    "# %%capture\n",
    "\n",
    "# NOTE: there is inherent non-determinism in optuna hyperparameter selection\n",
    "#  we may not get the same hyperparameters when run twice.\n",
    "\n",
    "\n",
    "sampler = optuna.samplers.TPESampler(seed=SEED)\n",
    "N_TRIALS = 1 # make it large\n",
    "\n",
    "# NOTE: It took too long to train when features is cols_no_na\n",
    "\n",
    "study = optuna.create_study(\n",
    "    sampler=sampler,\n",
    "    study_name='lgb_optuna',\n",
    "    storage='sqlite:///lgb_optuna_cust_seg.db',\n",
    "    load_if_exists=True)\n",
    "\n",
    "study.optimize(objective, n_trials=N_TRIALS)"
   ]
  },
  {
   "cell_type": "code",
   "execution_count": null,
   "metadata": {
    "ExecuteTime": {
     "end_time": "2020-08-07T18:39:48.692474Z",
     "start_time": "2020-08-07T18:39:11.720547Z"
    }
   },
   "outputs": [],
   "source": [
    "%%capture\n",
    "# Resume from last study\n",
    "N_TRIALS = 1 # make it large\n",
    "\n",
    "study = optuna.create_study(\n",
    "    sampler=sampler,\n",
    "    study_name='lgb_optuna',\n",
    "    storage='sqlite:///lgb_optuna_cust_seg.db',\n",
    "    load_if_exists=True)\n",
    "\n",
    "study.optimize(objective, n_trials=N_TRIALS)"
   ]
  },
  {
   "cell_type": "code",
   "execution_count": 27,
   "metadata": {
    "ExecuteTime": {
     "end_time": "2020-08-07T18:39:49.277489Z",
     "start_time": "2020-08-07T18:39:48.694256Z"
    }
   },
   "outputs": [
    {
     "name": "stdout",
     "output_type": "stream",
     "text": [
      "Number of finished trials: 631\n"
     ]
    },
    {
     "data": {
      "text/plain": [
       "{'learning_rate': 0.5724247551795747,\n",
       " 'max_depth': 10,\n",
       " 'num_leaves': 13,\n",
       " 'reg_alpha': 0.03371044441548606}"
      ]
     },
     "execution_count": 27,
     "metadata": {},
     "output_type": "execute_result"
    }
   ],
   "source": [
    "print(f'Number of finished trials: {len(study.trials)}')\n",
    "\n",
    "# best trail\n",
    "best_trial = study.best_trial\n",
    "\n",
    "# best params\n",
    "params_opt = study.best_trial.params\n",
    "params_opt"
   ]
  },
  {
   "cell_type": "code",
   "execution_count": 28,
   "metadata": {
    "ExecuteTime": {
     "end_time": "2020-08-07T18:39:50.893169Z",
     "start_time": "2020-08-07T18:39:49.280882Z"
    }
   },
   "outputs": [
    {
     "name": "stdout",
     "output_type": "stream",
     "text": [
      "Time taken: 0 min 2 secs\n"
     ]
    },
    {
     "data": {
      "text/html": [
       "<div>\n",
       "<style scoped>\n",
       "    .dataframe tbody tr th:only-of-type {\n",
       "        vertical-align: middle;\n",
       "    }\n",
       "\n",
       "    .dataframe tbody tr th {\n",
       "        vertical-align: top;\n",
       "    }\n",
       "\n",
       "    .dataframe thead th {\n",
       "        text-align: right;\n",
       "    }\n",
       "</style>\n",
       "<table border=\"1\" class=\"dataframe\">\n",
       "  <thead>\n",
       "    <tr style=\"text-align: right;\">\n",
       "      <th></th>\n",
       "      <th>Model</th>\n",
       "      <th>Description</th>\n",
       "      <th>Accuracy</th>\n",
       "      <th>Precision</th>\n",
       "      <th>Recall</th>\n",
       "      <th>F1</th>\n",
       "      <th>AUC</th>\n",
       "    </tr>\n",
       "  </thead>\n",
       "  <tbody>\n",
       "    <tr>\n",
       "      <th>0</th>\n",
       "      <td>lightgbm</td>\n",
       "      <td>default</td>\n",
       "      <td>0.491945</td>\n",
       "      <td>0.481210</td>\n",
       "      <td>0.483835</td>\n",
       "      <td>0.482098</td>\n",
       "      <td>0.657252</td>\n",
       "    </tr>\n",
       "    <tr>\n",
       "      <th>1</th>\n",
       "      <td>lightgbm</td>\n",
       "      <td>example_1</td>\n",
       "      <td>0.503098</td>\n",
       "      <td>0.487655</td>\n",
       "      <td>0.492798</td>\n",
       "      <td>0.485116</td>\n",
       "      <td>0.663384</td>\n",
       "    </tr>\n",
       "    <tr>\n",
       "      <th>2</th>\n",
       "      <td>lightgbm</td>\n",
       "      <td>grid_randomsearch</td>\n",
       "      <td>0.513011</td>\n",
       "      <td>0.502470</td>\n",
       "      <td>0.504972</td>\n",
       "      <td>0.502981</td>\n",
       "      <td>0.671342</td>\n",
       "    </tr>\n",
       "    <tr>\n",
       "      <th>3</th>\n",
       "      <td>lightgbm</td>\n",
       "      <td>grid_optuna</td>\n",
       "      <td>0.465304</td>\n",
       "      <td>0.455920</td>\n",
       "      <td>0.457956</td>\n",
       "      <td>0.456760</td>\n",
       "      <td>0.639912</td>\n",
       "    </tr>\n",
       "  </tbody>\n",
       "</table>\n",
       "</div>"
      ],
      "text/plain": [
       "      Model        Description  Accuracy  Precision    Recall        F1  \\\n",
       "0  lightgbm            default  0.491945   0.481210  0.483835  0.482098   \n",
       "1  lightgbm          example_1  0.503098   0.487655  0.492798  0.485116   \n",
       "2  lightgbm  grid_randomsearch  0.513011   0.502470  0.504972  0.502981   \n",
       "3  lightgbm        grid_optuna  0.465304   0.455920  0.457956  0.456760   \n",
       "\n",
       "        AUC  \n",
       "0  0.657252  \n",
       "1  0.663384  \n",
       "2  0.671342  \n",
       "3  0.639912  "
      ]
     },
     "metadata": {},
     "output_type": "display_data"
    },
    {
     "name": "stdout",
     "output_type": "stream",
     "text": [
      "Precision:  0.46\n",
      "Recall   :  0.46\n",
      "F1-score :  0.46\n",
      "AUC      :  0.46\n",
      "              precision    recall  f1-score   support\n",
      "\n",
      "           0       0.42      0.42      0.42       394\n",
      "           1       0.35      0.33      0.34       372\n",
      "           2       0.47      0.47      0.47       394\n",
      "           3       0.58      0.61      0.59       454\n",
      "\n",
      "    accuracy                           0.47      1614\n",
      "   macro avg       0.46      0.46      0.46      1614\n",
      "weighted avg       0.46      0.47      0.46      1614\n",
      "\n"
     ]
    },
    {
     "data": {
      "text/html": [
       "<style  type=\"text/css\" >\n",
       "#T_60a28f34_d8dd_11ea_9807_8c859004fb9crow0_col0,#T_60a28f34_d8dd_11ea_9807_8c859004fb9crow1_col1,#T_60a28f34_d8dd_11ea_9807_8c859004fb9crow2_col2,#T_60a28f34_d8dd_11ea_9807_8c859004fb9crow3_col3{\n",
       "            background-color:  #023858;\n",
       "            color:  #f1f1f1;\n",
       "        }#T_60a28f34_d8dd_11ea_9807_8c859004fb9crow0_col1{\n",
       "            background-color:  #65a3cb;\n",
       "            color:  #000000;\n",
       "        }#T_60a28f34_d8dd_11ea_9807_8c859004fb9crow0_col2{\n",
       "            background-color:  #f8f1f8;\n",
       "            color:  #000000;\n",
       "        }#T_60a28f34_d8dd_11ea_9807_8c859004fb9crow0_col3{\n",
       "            background-color:  #d7d6e9;\n",
       "            color:  #000000;\n",
       "        }#T_60a28f34_d8dd_11ea_9807_8c859004fb9crow1_col0{\n",
       "            background-color:  #a9bfdc;\n",
       "            color:  #000000;\n",
       "        }#T_60a28f34_d8dd_11ea_9807_8c859004fb9crow1_col2{\n",
       "            background-color:  #63a2cb;\n",
       "            color:  #000000;\n",
       "        }#T_60a28f34_d8dd_11ea_9807_8c859004fb9crow1_col3,#T_60a28f34_d8dd_11ea_9807_8c859004fb9crow2_col0,#T_60a28f34_d8dd_11ea_9807_8c859004fb9crow3_col1,#T_60a28f34_d8dd_11ea_9807_8c859004fb9crow3_col2{\n",
       "            background-color:  #fff7fb;\n",
       "            color:  #000000;\n",
       "        }#T_60a28f34_d8dd_11ea_9807_8c859004fb9crow2_col1{\n",
       "            background-color:  #0872b1;\n",
       "            color:  #f1f1f1;\n",
       "        }#T_60a28f34_d8dd_11ea_9807_8c859004fb9crow2_col3{\n",
       "            background-color:  #f2ecf5;\n",
       "            color:  #000000;\n",
       "        }#T_60a28f34_d8dd_11ea_9807_8c859004fb9crow3_col0{\n",
       "            background-color:  #96b6d7;\n",
       "            color:  #000000;\n",
       "        }</style><table id=\"T_60a28f34_d8dd_11ea_9807_8c859004fb9c\" ><thead>    <tr>        <th class=\"blank level0\" ></th>        <th class=\"col_heading level0 col0\" >A</th>        <th class=\"col_heading level0 col1\" >B</th>        <th class=\"col_heading level0 col2\" >C</th>        <th class=\"col_heading level0 col3\" >D</th>    </tr></thead><tbody>\n",
       "                <tr>\n",
       "                        <th id=\"T_60a28f34_d8dd_11ea_9807_8c859004fb9clevel0_row0\" class=\"row_heading level0 row0\" >A</th>\n",
       "                        <td id=\"T_60a28f34_d8dd_11ea_9807_8c859004fb9crow0_col0\" class=\"data row0 col0\" >166</td>\n",
       "                        <td id=\"T_60a28f34_d8dd_11ea_9807_8c859004fb9crow0_col1\" class=\"data row0 col1\" >84</td>\n",
       "                        <td id=\"T_60a28f34_d8dd_11ea_9807_8c859004fb9crow0_col2\" class=\"data row0 col2\" >50</td>\n",
       "                        <td id=\"T_60a28f34_d8dd_11ea_9807_8c859004fb9crow0_col3\" class=\"data row0 col3\" >94</td>\n",
       "            </tr>\n",
       "            <tr>\n",
       "                        <th id=\"T_60a28f34_d8dd_11ea_9807_8c859004fb9clevel0_row1\" class=\"row_heading level0 row1\" >B</th>\n",
       "                        <td id=\"T_60a28f34_d8dd_11ea_9807_8c859004fb9crow1_col0\" class=\"data row1 col0\" >88</td>\n",
       "                        <td id=\"T_60a28f34_d8dd_11ea_9807_8c859004fb9crow1_col1\" class=\"data row1 col1\" >122</td>\n",
       "                        <td id=\"T_60a28f34_d8dd_11ea_9807_8c859004fb9crow1_col2\" class=\"data row1 col2\" >120</td>\n",
       "                        <td id=\"T_60a28f34_d8dd_11ea_9807_8c859004fb9crow1_col3\" class=\"data row1 col3\" >42</td>\n",
       "            </tr>\n",
       "            <tr>\n",
       "                        <th id=\"T_60a28f34_d8dd_11ea_9807_8c859004fb9clevel0_row2\" class=\"row_heading level0 row2\" >C</th>\n",
       "                        <td id=\"T_60a28f34_d8dd_11ea_9807_8c859004fb9crow2_col0\" class=\"data row2 col0\" >43</td>\n",
       "                        <td id=\"T_60a28f34_d8dd_11ea_9807_8c859004fb9crow2_col1\" class=\"data row2 col1\" >101</td>\n",
       "                        <td id=\"T_60a28f34_d8dd_11ea_9807_8c859004fb9crow2_col2\" class=\"data row2 col2\" >187</td>\n",
       "                        <td id=\"T_60a28f34_d8dd_11ea_9807_8c859004fb9crow2_col3\" class=\"data row2 col3\" >63</td>\n",
       "            </tr>\n",
       "            <tr>\n",
       "                        <th id=\"T_60a28f34_d8dd_11ea_9807_8c859004fb9clevel0_row3\" class=\"row_heading level0 row3\" >D</th>\n",
       "                        <td id=\"T_60a28f34_d8dd_11ea_9807_8c859004fb9crow3_col0\" class=\"data row3 col0\" >94</td>\n",
       "                        <td id=\"T_60a28f34_d8dd_11ea_9807_8c859004fb9crow3_col1\" class=\"data row3 col1\" >41</td>\n",
       "                        <td id=\"T_60a28f34_d8dd_11ea_9807_8c859004fb9crow3_col2\" class=\"data row3 col2\" >43</td>\n",
       "                        <td id=\"T_60a28f34_d8dd_11ea_9807_8c859004fb9crow3_col3\" class=\"data row3 col3\" >276</td>\n",
       "            </tr>\n",
       "    </tbody></table>"
      ],
      "text/plain": [
       "<pandas.io.formats.style.Styler at 0x7fb8f196f910>"
      ]
     },
     "metadata": {},
     "output_type": "display_data"
    }
   ],
   "source": [
    "# time\n",
    "time_start = time.time()\n",
    "\n",
    "model_name = 'lightgbm'\n",
    "desc = 'grid_optuna'\n",
    "\n",
    "# model\n",
    "model = lgb.LGBMClassifier(**params_opt)\n",
    "\n",
    "# fit and save the model\n",
    "model.fit(Xtr, ytr,eval_metric='multi_error')\n",
    "\n",
    "# predictions\n",
    "skf = StratifiedKFold(n_splits=10,shuffle=True,random_state=SEED)\n",
    "ypreds_cv = cross_val_predict(model, Xtx, ytx, cv=skf)\n",
    "ypreds = ypreds_cv\n",
    "\n",
    "# auc\n",
    "labels = [0, 1, 2, 3]\n",
    "ytest_bin = label_binarize(ytest, classes=labels)\n",
    "ypreds_bin = label_binarize(ypreds, classes=labels)\n",
    "auc = roc_auc_score(ytest_bin,ypreds_bin,\n",
    "                  average='macro',multi_class='ovo')\n",
    "\n",
    "# model evaluation\n",
    "average = 'macro'\n",
    "row_eval = [model_name,desc, \n",
    "            accuracy_score(ytx, ypreds),\n",
    "            precision_score(ytx, ypreds, average=average),\n",
    "            recall_score(ytx, ypreds, average=average),\n",
    "            f1_score(ytx, ypreds, average=average),\n",
    "            auc\n",
    "            ]\n",
    "\n",
    "df_eval.loc[len(df_eval)] = row_eval\n",
    "df_eval = df_eval.drop_duplicates()\n",
    "time_taken = time.time() - time_start\n",
    "print('Time taken: {:.0f} min {:.0f} secs'.format(*divmod(time_taken,60)))\n",
    "display(df_eval)\n",
    "print_scores(ytest,ypreds)"
   ]
  },
  {
   "cell_type": "code",
   "execution_count": null,
   "metadata": {},
   "outputs": [],
   "source": [
    "arr_fimp = model.feature_importances_\n",
    "df_fimp = pd.DataFrame(arr_fimp,columns=['Importances'],index=features)\n",
    "df_fimp = df_fimp.sort_values('Importances',ascending=False)\n",
    "\n",
    "plt.figure(figsize=(12,12))\n",
    "ax = sns.barplot(x=df_fimp.Importances, y= df_fimp.index);\n",
    "\n",
    "for p in ax.patches:\n",
    "    x = p.get_width()\n",
    "    y = p.get_y()\n",
    "    text = '{:.2f}'.format(p.get_width())\n",
    "    ax.text(x, y,text,fontsize=15,color='indigo',va='top',ha='left')"
   ]
  }
 ],
 "metadata": {
  "kernelspec": {
   "display_name": "Python (dataSc)",
   "language": "python",
   "name": "datasc"
  },
  "language_info": {
   "codemirror_mode": {
    "name": "ipython",
    "version": 3
   },
   "file_extension": ".py",
   "mimetype": "text/x-python",
   "name": "python",
   "nbconvert_exporter": "python",
   "pygments_lexer": "ipython3",
   "version": "3.7.7"
  },
  "toc": {
   "base_numbering": 1,
   "nav_menu": {},
   "number_sections": true,
   "sideBar": true,
   "skip_h1_title": false,
   "title_cell": "Table of Contents",
   "title_sidebar": "Contents",
   "toc_cell": true,
   "toc_position": {},
   "toc_section_display": true,
   "toc_window_display": true
  },
  "varInspector": {
   "cols": {
    "lenName": 16,
    "lenType": 16,
    "lenVar": 40
   },
   "kernels_config": {
    "python": {
     "delete_cmd_postfix": "",
     "delete_cmd_prefix": "del ",
     "library": "var_list.py",
     "varRefreshCmd": "print(var_dic_list())"
    },
    "r": {
     "delete_cmd_postfix": ") ",
     "delete_cmd_prefix": "rm(",
     "library": "var_list.r",
     "varRefreshCmd": "cat(var_dic_list()) "
    }
   },
   "types_to_exclude": [
    "module",
    "function",
    "builtin_function_or_method",
    "instance",
    "_Feature"
   ],
   "window_display": false
  }
 },
 "nbformat": 4,
 "nbformat_minor": 4
}
