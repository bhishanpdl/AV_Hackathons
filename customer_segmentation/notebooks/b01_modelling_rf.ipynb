{
 "cells": [
  {
   "cell_type": "markdown",
   "metadata": {
    "toc": true
   },
   "source": [
    "<h1>Table of Contents<span class=\"tocSkip\"></span></h1>\n",
    "<div class=\"toc\"><ul class=\"toc-item\"><li><span><a href=\"#Load-the-libraries\" data-toc-modified-id=\"Load-the-libraries-1\"><span class=\"toc-item-num\">1&nbsp;&nbsp;</span>Load the libraries</a></span></li><li><span><a href=\"#Load-the-data\" data-toc-modified-id=\"Load-the-data-2\"><span class=\"toc-item-num\">2&nbsp;&nbsp;</span>Load the data</a></span></li><li><span><a href=\"#Train-test-split\" data-toc-modified-id=\"Train-test-split-3\"><span class=\"toc-item-num\">3&nbsp;&nbsp;</span>Train test split</a></span></li><li><span><a href=\"#Modelling:-Random-Forest\" data-toc-modified-id=\"Modelling:-Random-Forest-4\"><span class=\"toc-item-num\">4&nbsp;&nbsp;</span>Modelling: Random Forest</a></span><ul class=\"toc-item\"><li><span><a href=\"#default\" data-toc-modified-id=\"default-4.1\"><span class=\"toc-item-num\">4.1&nbsp;&nbsp;</span>default</a></span></li></ul></li><li><span><a href=\"#Hyperparameter-optimization\" data-toc-modified-id=\"Hyperparameter-optimization-5\"><span class=\"toc-item-num\">5&nbsp;&nbsp;</span>Hyperparameter optimization</a></span><ul class=\"toc-item\"><li><span><a href=\"#HPO-using-RandomizedSearchCV\" data-toc-modified-id=\"HPO-using-RandomizedSearchCV-5.1\"><span class=\"toc-item-num\">5.1&nbsp;&nbsp;</span>HPO using RandomizedSearchCV</a></span></li></ul></li><li><span><a href=\"#Result-Analysis\" data-toc-modified-id=\"Result-Analysis-6\"><span class=\"toc-item-num\">6&nbsp;&nbsp;</span>Result Analysis</a></span></li></ul></div>"
   ]
  },
  {
   "cell_type": "markdown",
   "metadata": {},
   "source": [
    "# Load the libraries"
   ]
  },
  {
   "cell_type": "code",
   "execution_count": 2,
   "metadata": {
    "ExecuteTime": {
     "end_time": "2020-08-08T15:58:00.737173Z",
     "start_time": "2020-08-08T15:57:59.768627Z"
    }
   },
   "outputs": [
    {
     "data": {
      "text/plain": [
       "[('numpy', '1.18.4'),\n",
       " ('pandas', '1.1.0'),\n",
       " ('seaborn', '0.10.1'),\n",
       " ('sklearn', '0.23.1'),\n",
       " ('lightgbm', '2.3.1')]"
      ]
     },
     "execution_count": 2,
     "metadata": {},
     "output_type": "execute_result"
    }
   ],
   "source": [
    "import numpy as np\n",
    "import pandas as pd\n",
    "import seaborn as sns\n",
    "\n",
    "pd.options.plotting.backend = \"matplotlib\"\n",
    "pd.set_option('max_columns',100)\n",
    "\n",
    "import time,os,json\n",
    "time_start_notebook = time.time()\n",
    "home = os.path.expanduser('~')\n",
    "SEED=100\n",
    "\n",
    "import matplotlib.pyplot as plt\n",
    "plt.style.use('ggplot')\n",
    "%matplotlib inline\n",
    "%config InlineBackend.figure_format = 'retina'\n",
    "\n",
    "import sklearn\n",
    "from sklearn.utils import class_weight\n",
    "from sklearn.model_selection import train_test_split\n",
    "from sklearn.model_selection import StratifiedKFold, RandomizedSearchCV, GridSearchCV\n",
    "from sklearn.metrics import accuracy_score, confusion_matrix\n",
    "from sklearn.metrics import classification_report\n",
    "from sklearn.metrics import precision_score, recall_score, f1_score\n",
    "from sklearn.model_selection import cross_val_predict\n",
    "from sklearn.metrics import roc_auc_score\n",
    "from sklearn.preprocessing import label_binarize\n",
    "\n",
    "import joblib\n",
    "\n",
    "from sklearn.ensemble import RandomForestClassifier\n",
    "import lightgbm as lgb\n",
    "\n",
    "[(x.__name__,x.__version__) for x in [np,pd,sns,sklearn,lgb]]"
   ]
  },
  {
   "cell_type": "code",
   "execution_count": 3,
   "metadata": {
    "ExecuteTime": {
     "end_time": "2020-08-08T15:58:00.750269Z",
     "start_time": "2020-08-08T15:58:00.743848Z"
    }
   },
   "outputs": [],
   "source": [
    "def print_scores(ytest,ypreds):\n",
    "    # for auc score we need to binarize\n",
    "    labels = [0, 1, 2, 3]\n",
    "    ytest_bin = label_binarize(ytest, classes=labels)\n",
    "    ypreds_bin = label_binarize(ypreds, classes=labels)\n",
    "    a = roc_auc_score(ytest_bin,ypreds_bin,\n",
    "                      average='macro',multi_class='ovo')\n",
    "    \n",
    "    # precision recall\n",
    "    p = precision_score(ytest,ypreds,average='macro')\n",
    "    r = recall_score(ytest,ypreds,average='macro')\n",
    "    f = f1_score(ytest,ypreds,average='macro')\n",
    "    print(f'Precision: {p: .2f}')\n",
    "    print(f'Recall   : {r: .2f}')\n",
    "    print(f'F1-score : {f: .2f}')\n",
    "    print(f'AUC      : {f: .2f}')\n",
    "\n",
    "    c = classification_report(ytest, ypreds)\n",
    "    print(c)\n",
    "\n",
    "    cm = confusion_matrix(ytest,ypreds)\n",
    "    names = list('ABCD')\n",
    "    df_cm = pd.DataFrame(cm,index=names,columns=names)\n",
    "    df_cm = df_cm.style.background_gradient()\n",
    "    display(df_cm)"
   ]
  },
  {
   "cell_type": "code",
   "execution_count": 4,
   "metadata": {
    "ExecuteTime": {
     "end_time": "2020-08-08T15:58:00.764930Z",
     "start_time": "2020-08-08T15:58:00.758031Z"
    }
   },
   "outputs": [],
   "source": [
    "df_eval = pd.DataFrame({'Model': [],\n",
    "                        'Description':[],\n",
    "                        'Accuracy':[],\n",
    "                        'Precision':[],\n",
    "                        'Recall':[],\n",
    "                        'F1':[],\n",
    "                        'AUC': []\n",
    "                    })"
   ]
  },
  {
   "cell_type": "markdown",
   "metadata": {},
   "source": [
    "# Load the data"
   ]
  },
  {
   "cell_type": "code",
   "execution_count": 5,
   "metadata": {
    "ExecuteTime": {
     "end_time": "2020-08-08T15:58:00.799321Z",
     "start_time": "2020-08-08T15:58:00.767589Z"
    }
   },
   "outputs": [
    {
     "name": "stdout",
     "output_type": "stream",
     "text": [
      "(8068, 11)\n"
     ]
    },
    {
     "data": {
      "text/html": [
       "<div>\n",
       "<style scoped>\n",
       "    .dataframe tbody tr th:only-of-type {\n",
       "        vertical-align: middle;\n",
       "    }\n",
       "\n",
       "    .dataframe tbody tr th {\n",
       "        vertical-align: top;\n",
       "    }\n",
       "\n",
       "    .dataframe thead th {\n",
       "        text-align: right;\n",
       "    }\n",
       "</style>\n",
       "<table border=\"1\" class=\"dataframe\">\n",
       "  <thead>\n",
       "    <tr style=\"text-align: right;\">\n",
       "      <th></th>\n",
       "      <th>ID</th>\n",
       "      <th>Gender</th>\n",
       "      <th>Ever_Married</th>\n",
       "      <th>Age</th>\n",
       "      <th>Graduated</th>\n",
       "      <th>Profession</th>\n",
       "      <th>Work_Experience</th>\n",
       "      <th>Spending_Score</th>\n",
       "      <th>Family_Size</th>\n",
       "      <th>Var_1</th>\n",
       "      <th>Segmentation</th>\n",
       "    </tr>\n",
       "  </thead>\n",
       "  <tbody>\n",
       "    <tr>\n",
       "      <th>0</th>\n",
       "      <td>462809</td>\n",
       "      <td>Male</td>\n",
       "      <td>No</td>\n",
       "      <td>22</td>\n",
       "      <td>No</td>\n",
       "      <td>Healthcare</td>\n",
       "      <td>1.0</td>\n",
       "      <td>Low</td>\n",
       "      <td>4.0</td>\n",
       "      <td>Cat_4</td>\n",
       "      <td>D</td>\n",
       "    </tr>\n",
       "    <tr>\n",
       "      <th>1</th>\n",
       "      <td>462643</td>\n",
       "      <td>Female</td>\n",
       "      <td>Yes</td>\n",
       "      <td>38</td>\n",
       "      <td>Yes</td>\n",
       "      <td>Engineer</td>\n",
       "      <td>NaN</td>\n",
       "      <td>Average</td>\n",
       "      <td>3.0</td>\n",
       "      <td>Cat_4</td>\n",
       "      <td>A</td>\n",
       "    </tr>\n",
       "    <tr>\n",
       "      <th>8066</th>\n",
       "      <td>467299</td>\n",
       "      <td>Female</td>\n",
       "      <td>No</td>\n",
       "      <td>27</td>\n",
       "      <td>Yes</td>\n",
       "      <td>Healthcare</td>\n",
       "      <td>1.0</td>\n",
       "      <td>Low</td>\n",
       "      <td>4.0</td>\n",
       "      <td>Cat_6</td>\n",
       "      <td>B</td>\n",
       "    </tr>\n",
       "    <tr>\n",
       "      <th>8067</th>\n",
       "      <td>461879</td>\n",
       "      <td>Male</td>\n",
       "      <td>Yes</td>\n",
       "      <td>37</td>\n",
       "      <td>Yes</td>\n",
       "      <td>Executive</td>\n",
       "      <td>0.0</td>\n",
       "      <td>Average</td>\n",
       "      <td>3.0</td>\n",
       "      <td>Cat_4</td>\n",
       "      <td>B</td>\n",
       "    </tr>\n",
       "  </tbody>\n",
       "</table>\n",
       "</div>"
      ],
      "text/plain": [
       "          ID  Gender Ever_Married  Age Graduated  Profession  Work_Experience  \\\n",
       "0     462809    Male           No   22        No  Healthcare              1.0   \n",
       "1     462643  Female          Yes   38       Yes    Engineer              NaN   \n",
       "8066  467299  Female           No   27       Yes  Healthcare              1.0   \n",
       "8067  461879    Male          Yes   37       Yes   Executive              0.0   \n",
       "\n",
       "     Spending_Score  Family_Size  Var_1 Segmentation  \n",
       "0               Low          4.0  Cat_4            D  \n",
       "1           Average          3.0  Cat_4            A  \n",
       "8066            Low          4.0  Cat_6            B  \n",
       "8067        Average          3.0  Cat_4            B  "
      ]
     },
     "execution_count": 5,
     "metadata": {},
     "output_type": "execute_result"
    }
   ],
   "source": [
    "df_raw = pd.read_csv('../data/raw/train.csv')\n",
    "print(df_raw.shape)\n",
    "\n",
    "df_raw.head(2).append(df_raw.tail(2))"
   ]
  },
  {
   "cell_type": "code",
   "execution_count": 6,
   "metadata": {
    "ExecuteTime": {
     "end_time": "2020-08-08T15:58:00.847027Z",
     "start_time": "2020-08-08T15:58:00.801525Z"
    }
   },
   "outputs": [
    {
     "name": "stdout",
     "output_type": "stream",
     "text": [
      "(8068, 38)\n"
     ]
    },
    {
     "data": {
      "text/html": [
       "<div>\n",
       "<style scoped>\n",
       "    .dataframe tbody tr th:only-of-type {\n",
       "        vertical-align: middle;\n",
       "    }\n",
       "\n",
       "    .dataframe tbody tr th {\n",
       "        vertical-align: top;\n",
       "    }\n",
       "\n",
       "    .dataframe thead th {\n",
       "        text-align: right;\n",
       "    }\n",
       "</style>\n",
       "<table border=\"1\" class=\"dataframe\">\n",
       "  <thead>\n",
       "    <tr style=\"text-align: right;\">\n",
       "      <th></th>\n",
       "      <th>Gender</th>\n",
       "      <th>Ever_Married</th>\n",
       "      <th>Age</th>\n",
       "      <th>Graduated</th>\n",
       "      <th>Work_Experience</th>\n",
       "      <th>Spending_Score</th>\n",
       "      <th>Family_Size</th>\n",
       "      <th>Segmentation</th>\n",
       "      <th>Ever_Married_NA</th>\n",
       "      <th>Graduated_NA</th>\n",
       "      <th>Profession_NA</th>\n",
       "      <th>Work_Experience_NA</th>\n",
       "      <th>Family_Size_NA</th>\n",
       "      <th>Var_1_NA</th>\n",
       "      <th>Age_cat</th>\n",
       "      <th>Family_Size_cat</th>\n",
       "      <th>Work_Experience_cat</th>\n",
       "      <th>Profession_Artist</th>\n",
       "      <th>Profession_Doctor</th>\n",
       "      <th>Profession_Engineer</th>\n",
       "      <th>Profession_Entertainment</th>\n",
       "      <th>Profession_Executive</th>\n",
       "      <th>Profession_Healthcare</th>\n",
       "      <th>Profession_Homemaker</th>\n",
       "      <th>Profession_Lawyer</th>\n",
       "      <th>Profession_Marketing</th>\n",
       "      <th>Var_1_Cat_1</th>\n",
       "      <th>Var_1_Cat_2</th>\n",
       "      <th>Var_1_Cat_3</th>\n",
       "      <th>Var_1_Cat_4</th>\n",
       "      <th>Var_1_Cat_5</th>\n",
       "      <th>Var_1_Cat_6</th>\n",
       "      <th>Var_1_Cat_7</th>\n",
       "      <th>gen_mar</th>\n",
       "      <th>gen_grad</th>\n",
       "      <th>gen_spend</th>\n",
       "      <th>grad_spend</th>\n",
       "      <th>grad_spend_gen</th>\n",
       "    </tr>\n",
       "  </thead>\n",
       "  <tbody>\n",
       "    <tr>\n",
       "      <th>0</th>\n",
       "      <td>0</td>\n",
       "      <td>0</td>\n",
       "      <td>22</td>\n",
       "      <td>0</td>\n",
       "      <td>1.0</td>\n",
       "      <td>0</td>\n",
       "      <td>4.0</td>\n",
       "      <td>3</td>\n",
       "      <td>0</td>\n",
       "      <td>0</td>\n",
       "      <td>0</td>\n",
       "      <td>0</td>\n",
       "      <td>0</td>\n",
       "      <td>0</td>\n",
       "      <td>0</td>\n",
       "      <td>1</td>\n",
       "      <td>0</td>\n",
       "      <td>0</td>\n",
       "      <td>0</td>\n",
       "      <td>0</td>\n",
       "      <td>0</td>\n",
       "      <td>0</td>\n",
       "      <td>1</td>\n",
       "      <td>0</td>\n",
       "      <td>0</td>\n",
       "      <td>0</td>\n",
       "      <td>0</td>\n",
       "      <td>0</td>\n",
       "      <td>0</td>\n",
       "      <td>1</td>\n",
       "      <td>0</td>\n",
       "      <td>0</td>\n",
       "      <td>0</td>\n",
       "      <td>0</td>\n",
       "      <td>0</td>\n",
       "      <td>0</td>\n",
       "      <td>0</td>\n",
       "      <td>0</td>\n",
       "    </tr>\n",
       "    <tr>\n",
       "      <th>1</th>\n",
       "      <td>1</td>\n",
       "      <td>1</td>\n",
       "      <td>38</td>\n",
       "      <td>1</td>\n",
       "      <td>3.0</td>\n",
       "      <td>1</td>\n",
       "      <td>3.0</td>\n",
       "      <td>0</td>\n",
       "      <td>0</td>\n",
       "      <td>0</td>\n",
       "      <td>0</td>\n",
       "      <td>1</td>\n",
       "      <td>0</td>\n",
       "      <td>0</td>\n",
       "      <td>1</td>\n",
       "      <td>1</td>\n",
       "      <td>1</td>\n",
       "      <td>0</td>\n",
       "      <td>0</td>\n",
       "      <td>1</td>\n",
       "      <td>0</td>\n",
       "      <td>0</td>\n",
       "      <td>0</td>\n",
       "      <td>0</td>\n",
       "      <td>0</td>\n",
       "      <td>0</td>\n",
       "      <td>0</td>\n",
       "      <td>0</td>\n",
       "      <td>0</td>\n",
       "      <td>1</td>\n",
       "      <td>0</td>\n",
       "      <td>0</td>\n",
       "      <td>0</td>\n",
       "      <td>3</td>\n",
       "      <td>3</td>\n",
       "      <td>4</td>\n",
       "      <td>4</td>\n",
       "      <td>13</td>\n",
       "    </tr>\n",
       "    <tr>\n",
       "      <th>8066</th>\n",
       "      <td>1</td>\n",
       "      <td>0</td>\n",
       "      <td>27</td>\n",
       "      <td>1</td>\n",
       "      <td>1.0</td>\n",
       "      <td>0</td>\n",
       "      <td>4.0</td>\n",
       "      <td>1</td>\n",
       "      <td>0</td>\n",
       "      <td>0</td>\n",
       "      <td>0</td>\n",
       "      <td>0</td>\n",
       "      <td>0</td>\n",
       "      <td>0</td>\n",
       "      <td>0</td>\n",
       "      <td>1</td>\n",
       "      <td>0</td>\n",
       "      <td>0</td>\n",
       "      <td>0</td>\n",
       "      <td>0</td>\n",
       "      <td>0</td>\n",
       "      <td>0</td>\n",
       "      <td>1</td>\n",
       "      <td>0</td>\n",
       "      <td>0</td>\n",
       "      <td>0</td>\n",
       "      <td>0</td>\n",
       "      <td>0</td>\n",
       "      <td>0</td>\n",
       "      <td>0</td>\n",
       "      <td>0</td>\n",
       "      <td>1</td>\n",
       "      <td>0</td>\n",
       "      <td>1</td>\n",
       "      <td>3</td>\n",
       "      <td>1</td>\n",
       "      <td>1</td>\n",
       "      <td>10</td>\n",
       "    </tr>\n",
       "    <tr>\n",
       "      <th>8067</th>\n",
       "      <td>0</td>\n",
       "      <td>1</td>\n",
       "      <td>37</td>\n",
       "      <td>1</td>\n",
       "      <td>0.0</td>\n",
       "      <td>1</td>\n",
       "      <td>3.0</td>\n",
       "      <td>1</td>\n",
       "      <td>0</td>\n",
       "      <td>0</td>\n",
       "      <td>0</td>\n",
       "      <td>0</td>\n",
       "      <td>0</td>\n",
       "      <td>0</td>\n",
       "      <td>1</td>\n",
       "      <td>1</td>\n",
       "      <td>0</td>\n",
       "      <td>0</td>\n",
       "      <td>0</td>\n",
       "      <td>0</td>\n",
       "      <td>0</td>\n",
       "      <td>1</td>\n",
       "      <td>0</td>\n",
       "      <td>0</td>\n",
       "      <td>0</td>\n",
       "      <td>0</td>\n",
       "      <td>0</td>\n",
       "      <td>0</td>\n",
       "      <td>0</td>\n",
       "      <td>1</td>\n",
       "      <td>0</td>\n",
       "      <td>0</td>\n",
       "      <td>0</td>\n",
       "      <td>2</td>\n",
       "      <td>2</td>\n",
       "      <td>3</td>\n",
       "      <td>4</td>\n",
       "      <td>4</td>\n",
       "    </tr>\n",
       "  </tbody>\n",
       "</table>\n",
       "</div>"
      ],
      "text/plain": [
       "      Gender  Ever_Married  Age  Graduated  Work_Experience  Spending_Score  \\\n",
       "0          0             0   22          0              1.0               0   \n",
       "1          1             1   38          1              3.0               1   \n",
       "8066       1             0   27          1              1.0               0   \n",
       "8067       0             1   37          1              0.0               1   \n",
       "\n",
       "      Family_Size  Segmentation  Ever_Married_NA  Graduated_NA  Profession_NA  \\\n",
       "0             4.0             3                0             0              0   \n",
       "1             3.0             0                0             0              0   \n",
       "8066          4.0             1                0             0              0   \n",
       "8067          3.0             1                0             0              0   \n",
       "\n",
       "      Work_Experience_NA  Family_Size_NA  Var_1_NA  Age_cat  Family_Size_cat  \\\n",
       "0                      0               0         0        0                1   \n",
       "1                      1               0         0        1                1   \n",
       "8066                   0               0         0        0                1   \n",
       "8067                   0               0         0        1                1   \n",
       "\n",
       "      Work_Experience_cat  Profession_Artist  Profession_Doctor  \\\n",
       "0                       0                  0                  0   \n",
       "1                       1                  0                  0   \n",
       "8066                    0                  0                  0   \n",
       "8067                    0                  0                  0   \n",
       "\n",
       "      Profession_Engineer  Profession_Entertainment  Profession_Executive  \\\n",
       "0                       0                         0                     0   \n",
       "1                       1                         0                     0   \n",
       "8066                    0                         0                     0   \n",
       "8067                    0                         0                     1   \n",
       "\n",
       "      Profession_Healthcare  Profession_Homemaker  Profession_Lawyer  \\\n",
       "0                         1                     0                  0   \n",
       "1                         0                     0                  0   \n",
       "8066                      1                     0                  0   \n",
       "8067                      0                     0                  0   \n",
       "\n",
       "      Profession_Marketing  Var_1_Cat_1  Var_1_Cat_2  Var_1_Cat_3  \\\n",
       "0                        0            0            0            0   \n",
       "1                        0            0            0            0   \n",
       "8066                     0            0            0            0   \n",
       "8067                     0            0            0            0   \n",
       "\n",
       "      Var_1_Cat_4  Var_1_Cat_5  Var_1_Cat_6  Var_1_Cat_7  gen_mar  gen_grad  \\\n",
       "0               1            0            0            0        0         0   \n",
       "1               1            0            0            0        3         3   \n",
       "8066            0            0            1            0        1         3   \n",
       "8067            1            0            0            0        2         2   \n",
       "\n",
       "      gen_spend  grad_spend  grad_spend_gen  \n",
       "0             0           0               0  \n",
       "1             4           4              13  \n",
       "8066          1           1              10  \n",
       "8067          3           4               4  "
      ]
     },
     "execution_count": 6,
     "metadata": {},
     "output_type": "execute_result"
    }
   ],
   "source": [
    "df = pd.read_csv('../data/processed/clean_data.csv')\n",
    "print(df.shape)\n",
    "\n",
    "df.head(2).append(df.tail(2))"
   ]
  },
  {
   "cell_type": "markdown",
   "metadata": {},
   "source": [
    "# Train test split"
   ]
  },
  {
   "cell_type": "code",
   "execution_count": 7,
   "metadata": {
    "ExecuteTime": {
     "end_time": "2020-08-08T15:58:00.854683Z",
     "start_time": "2020-08-08T15:58:00.850721Z"
    }
   },
   "outputs": [],
   "source": [
    "from sklearn.model_selection import train_test_split"
   ]
  },
  {
   "cell_type": "code",
   "execution_count": 8,
   "metadata": {
    "ExecuteTime": {
     "end_time": "2020-08-08T15:58:00.910715Z",
     "start_time": "2020-08-08T15:58:00.856531Z"
    }
   },
   "outputs": [
    {
     "name": "stdout",
     "output_type": "stream",
     "text": [
      "df             : (8068, 38)\n",
      "\n",
      "df_Xtrain_orig : (6454, 37)\n",
      "ser_ytrain_orig: (6454,)\n",
      "\n",
      "df_Xtrain      : (5163, 37)\n",
      "ser_ytrain     : (5163,)\n",
      "\n",
      "df_Xvalid      : (1291, 37)\n",
      "ser_yvalid     : (1291,)\n",
      "\n",
      "df_Xtest       : (1614, 37)\n",
      "ser_ytest      : (1614,)\n"
     ]
    },
    {
     "data": {
      "text/html": [
       "<div>\n",
       "<style scoped>\n",
       "    .dataframe tbody tr th:only-of-type {\n",
       "        vertical-align: middle;\n",
       "    }\n",
       "\n",
       "    .dataframe tbody tr th {\n",
       "        vertical-align: top;\n",
       "    }\n",
       "\n",
       "    .dataframe thead th {\n",
       "        text-align: right;\n",
       "    }\n",
       "</style>\n",
       "<table border=\"1\" class=\"dataframe\">\n",
       "  <thead>\n",
       "    <tr style=\"text-align: right;\">\n",
       "      <th></th>\n",
       "      <th>Gender</th>\n",
       "      <th>Ever_Married</th>\n",
       "      <th>Age</th>\n",
       "      <th>Graduated</th>\n",
       "      <th>Work_Experience</th>\n",
       "      <th>Spending_Score</th>\n",
       "      <th>Family_Size</th>\n",
       "      <th>Ever_Married_NA</th>\n",
       "      <th>Graduated_NA</th>\n",
       "      <th>Profession_NA</th>\n",
       "      <th>Work_Experience_NA</th>\n",
       "      <th>Family_Size_NA</th>\n",
       "      <th>Var_1_NA</th>\n",
       "      <th>Age_cat</th>\n",
       "      <th>Family_Size_cat</th>\n",
       "      <th>Work_Experience_cat</th>\n",
       "      <th>Profession_Artist</th>\n",
       "      <th>Profession_Doctor</th>\n",
       "      <th>Profession_Engineer</th>\n",
       "      <th>Profession_Entertainment</th>\n",
       "      <th>Profession_Executive</th>\n",
       "      <th>Profession_Healthcare</th>\n",
       "      <th>Profession_Homemaker</th>\n",
       "      <th>Profession_Lawyer</th>\n",
       "      <th>Profession_Marketing</th>\n",
       "      <th>Var_1_Cat_1</th>\n",
       "      <th>Var_1_Cat_2</th>\n",
       "      <th>Var_1_Cat_3</th>\n",
       "      <th>Var_1_Cat_4</th>\n",
       "      <th>Var_1_Cat_5</th>\n",
       "      <th>Var_1_Cat_6</th>\n",
       "      <th>Var_1_Cat_7</th>\n",
       "      <th>gen_mar</th>\n",
       "      <th>gen_grad</th>\n",
       "      <th>gen_spend</th>\n",
       "      <th>grad_spend</th>\n",
       "      <th>grad_spend_gen</th>\n",
       "    </tr>\n",
       "  </thead>\n",
       "  <tbody>\n",
       "    <tr>\n",
       "      <th>3582</th>\n",
       "      <td>0</td>\n",
       "      <td>1</td>\n",
       "      <td>27</td>\n",
       "      <td>0</td>\n",
       "      <td>2.0</td>\n",
       "      <td>0</td>\n",
       "      <td>2.0</td>\n",
       "      <td>0</td>\n",
       "      <td>0</td>\n",
       "      <td>0</td>\n",
       "      <td>1</td>\n",
       "      <td>0</td>\n",
       "      <td>0</td>\n",
       "      <td>0</td>\n",
       "      <td>0</td>\n",
       "      <td>0</td>\n",
       "      <td>0</td>\n",
       "      <td>0</td>\n",
       "      <td>0</td>\n",
       "      <td>0</td>\n",
       "      <td>1</td>\n",
       "      <td>0</td>\n",
       "      <td>0</td>\n",
       "      <td>0</td>\n",
       "      <td>0</td>\n",
       "      <td>0</td>\n",
       "      <td>0</td>\n",
       "      <td>0</td>\n",
       "      <td>1</td>\n",
       "      <td>0</td>\n",
       "      <td>0</td>\n",
       "      <td>0</td>\n",
       "      <td>2</td>\n",
       "      <td>0</td>\n",
       "      <td>0</td>\n",
       "      <td>0</td>\n",
       "      <td>0</td>\n",
       "    </tr>\n",
       "    <tr>\n",
       "      <th>6827</th>\n",
       "      <td>0</td>\n",
       "      <td>0</td>\n",
       "      <td>41</td>\n",
       "      <td>1</td>\n",
       "      <td>3.0</td>\n",
       "      <td>0</td>\n",
       "      <td>1.0</td>\n",
       "      <td>0</td>\n",
       "      <td>0</td>\n",
       "      <td>0</td>\n",
       "      <td>1</td>\n",
       "      <td>0</td>\n",
       "      <td>0</td>\n",
       "      <td>1</td>\n",
       "      <td>0</td>\n",
       "      <td>1</td>\n",
       "      <td>0</td>\n",
       "      <td>0</td>\n",
       "      <td>0</td>\n",
       "      <td>1</td>\n",
       "      <td>0</td>\n",
       "      <td>0</td>\n",
       "      <td>0</td>\n",
       "      <td>0</td>\n",
       "      <td>0</td>\n",
       "      <td>0</td>\n",
       "      <td>0</td>\n",
       "      <td>0</td>\n",
       "      <td>0</td>\n",
       "      <td>0</td>\n",
       "      <td>1</td>\n",
       "      <td>0</td>\n",
       "      <td>0</td>\n",
       "      <td>2</td>\n",
       "      <td>0</td>\n",
       "      <td>1</td>\n",
       "      <td>1</td>\n",
       "    </tr>\n",
       "  </tbody>\n",
       "</table>\n",
       "</div>"
      ],
      "text/plain": [
       "      Gender  Ever_Married  Age  Graduated  Work_Experience  Spending_Score  \\\n",
       "3582       0             1   27          0              2.0               0   \n",
       "6827       0             0   41          1              3.0               0   \n",
       "\n",
       "      Family_Size  Ever_Married_NA  Graduated_NA  Profession_NA  \\\n",
       "3582          2.0                0             0              0   \n",
       "6827          1.0                0             0              0   \n",
       "\n",
       "      Work_Experience_NA  Family_Size_NA  Var_1_NA  Age_cat  Family_Size_cat  \\\n",
       "3582                   1               0         0        0                0   \n",
       "6827                   1               0         0        1                0   \n",
       "\n",
       "      Work_Experience_cat  Profession_Artist  Profession_Doctor  \\\n",
       "3582                    0                  0                  0   \n",
       "6827                    1                  0                  0   \n",
       "\n",
       "      Profession_Engineer  Profession_Entertainment  Profession_Executive  \\\n",
       "3582                    0                         0                     1   \n",
       "6827                    0                         1                     0   \n",
       "\n",
       "      Profession_Healthcare  Profession_Homemaker  Profession_Lawyer  \\\n",
       "3582                      0                     0                  0   \n",
       "6827                      0                     0                  0   \n",
       "\n",
       "      Profession_Marketing  Var_1_Cat_1  Var_1_Cat_2  Var_1_Cat_3  \\\n",
       "3582                     0            0            0            0   \n",
       "6827                     0            0            0            0   \n",
       "\n",
       "      Var_1_Cat_4  Var_1_Cat_5  Var_1_Cat_6  Var_1_Cat_7  gen_mar  gen_grad  \\\n",
       "3582            1            0            0            0        2         0   \n",
       "6827            0            0            1            0        0         2   \n",
       "\n",
       "      gen_spend  grad_spend  grad_spend_gen  \n",
       "3582          0           0               0  \n",
       "6827          0           1               1  "
      ]
     },
     "execution_count": 8,
     "metadata": {},
     "output_type": "execute_result"
    }
   ],
   "source": [
    "target = 'Segmentation'\n",
    "\n",
    "df_Xtrain_orig, df_Xtest, ser_ytrain_orig, ser_ytest = train_test_split(\n",
    "    df.drop(target,axis=1), df[target],shuffle=True,\n",
    "    test_size=0.2, random_state=SEED, stratify=df[target])\n",
    "\n",
    "df_Xtrain, df_Xvalid, ser_ytrain, ser_yvalid = train_test_split(\n",
    "    df_Xtrain_orig, ser_ytrain_orig,\n",
    "    test_size=0.2, random_state=SEED, stratify=ser_ytrain_orig)\n",
    "\n",
    "ytrain = ser_ytrain.to_numpy().ravel()\n",
    "yvalid = ser_yvalid.to_numpy().ravel()\n",
    "ytest = ser_ytest.to_numpy().ravel()\n",
    "\n",
    "print(f\"df             : {df.shape}\")\n",
    "\n",
    "print(f\"\\ndf_Xtrain_orig : {df_Xtrain_orig.shape}\")\n",
    "print(f\"ser_ytrain_orig: {ser_ytrain_orig.shape}\")\n",
    "\n",
    "print(f\"\\ndf_Xtrain      : {df_Xtrain.shape}\")\n",
    "print(f\"ser_ytrain     : {ser_ytrain.shape}\")\n",
    "\n",
    "print(f\"\\ndf_Xvalid      : {df_Xvalid.shape}\")\n",
    "print(f\"ser_yvalid     : {ser_yvalid.shape}\")\n",
    "\n",
    "print(f\"\\ndf_Xtest       : {df_Xtest.shape}\")\n",
    "print(f\"ser_ytest      : {ser_ytest.shape}\")\n",
    "\n",
    "df_Xtrain_orig.head(2)"
   ]
  },
  {
   "cell_type": "code",
   "execution_count": 9,
   "metadata": {
    "ExecuteTime": {
     "end_time": "2020-08-08T15:58:00.935008Z",
     "start_time": "2020-08-08T15:58:00.927463Z"
    }
   },
   "outputs": [
    {
     "data": {
      "text/plain": [
       "['Gender',\n",
       " 'Ever_Married',\n",
       " 'Age',\n",
       " 'Graduated',\n",
       " 'Work_Experience',\n",
       " 'Spending_Score',\n",
       " 'Family_Size',\n",
       " 'Age_cat',\n",
       " 'Family_Size_cat',\n",
       " 'Work_Experience_cat',\n",
       " 'Profession_Artist',\n",
       " 'Profession_Doctor',\n",
       " 'Profession_Engineer',\n",
       " 'Profession_Entertainment',\n",
       " 'Profession_Executive',\n",
       " 'Profession_Healthcare',\n",
       " 'Profession_Homemaker',\n",
       " 'Profession_Lawyer',\n",
       " 'Profession_Marketing',\n",
       " 'Var_1_Cat_1',\n",
       " 'Var_1_Cat_2',\n",
       " 'Var_1_Cat_3',\n",
       " 'Var_1_Cat_4',\n",
       " 'Var_1_Cat_5',\n",
       " 'Var_1_Cat_6',\n",
       " 'Var_1_Cat_7']"
      ]
     },
     "execution_count": 9,
     "metadata": {},
     "output_type": "execute_result"
    }
   ],
   "source": [
    "cols_all = df_Xtrain_orig.columns.to_list()\n",
    "cols_no_na = [i for i in cols_all if not i.endswith('_NA')]\n",
    "\n",
    "\n",
    "cross = ['gen_mar', 'gen_grad', 'gen_spend',\n",
    "         'grad_spend', 'grad_spend_gen']\n",
    "cols_no_na_no_cross = [i for i in cols_no_na if i not in cross]\n",
    "cols_no_na_no_cross"
   ]
  },
  {
   "cell_type": "code",
   "execution_count": 10,
   "metadata": {
    "ExecuteTime": {
     "end_time": "2020-08-08T15:58:00.952226Z",
     "start_time": "2020-08-08T15:58:00.944044Z"
    }
   },
   "outputs": [],
   "source": [
    "features = cols_no_na\n",
    "\n",
    "Xtr = df_Xtrain_orig[features]\n",
    "Xtx = df_Xtest[features]\n",
    "Xvd = df_Xvalid[features]\n",
    "\n",
    "ytr = ser_ytrain_orig.to_numpy().ravel()\n",
    "ytx = ser_ytest.to_numpy().ravel()\n",
    "yvd = ser_yvalid.to_numpy().ravel()"
   ]
  },
  {
   "cell_type": "markdown",
   "metadata": {},
   "source": [
    "# Modelling: Random Forest"
   ]
  },
  {
   "cell_type": "markdown",
   "metadata": {},
   "source": [
    "## default"
   ]
  },
  {
   "cell_type": "code",
   "execution_count": 11,
   "metadata": {
    "ExecuteTime": {
     "end_time": "2020-08-08T15:58:05.399455Z",
     "start_time": "2020-08-08T15:58:00.955686Z"
    }
   },
   "outputs": [
    {
     "name": "stdout",
     "output_type": "stream",
     "text": [
      "Time taken: 0 min 4 secs\n"
     ]
    },
    {
     "data": {
      "text/html": [
       "<div>\n",
       "<style scoped>\n",
       "    .dataframe tbody tr th:only-of-type {\n",
       "        vertical-align: middle;\n",
       "    }\n",
       "\n",
       "    .dataframe tbody tr th {\n",
       "        vertical-align: top;\n",
       "    }\n",
       "\n",
       "    .dataframe thead th {\n",
       "        text-align: right;\n",
       "    }\n",
       "</style>\n",
       "<table border=\"1\" class=\"dataframe\">\n",
       "  <thead>\n",
       "    <tr style=\"text-align: right;\">\n",
       "      <th></th>\n",
       "      <th>Model</th>\n",
       "      <th>Description</th>\n",
       "      <th>Accuracy</th>\n",
       "      <th>Precision</th>\n",
       "      <th>Recall</th>\n",
       "      <th>F1</th>\n",
       "      <th>AUC</th>\n",
       "    </tr>\n",
       "  </thead>\n",
       "  <tbody>\n",
       "    <tr>\n",
       "      <th>0</th>\n",
       "      <td>Random Forest</td>\n",
       "      <td>default</td>\n",
       "      <td>0.477695</td>\n",
       "      <td>0.46712</td>\n",
       "      <td>0.469588</td>\n",
       "      <td>0.467799</td>\n",
       "      <td>0.647705</td>\n",
       "    </tr>\n",
       "  </tbody>\n",
       "</table>\n",
       "</div>"
      ],
      "text/plain": [
       "           Model Description  Accuracy  Precision    Recall        F1  \\\n",
       "0  Random Forest     default  0.477695    0.46712  0.469588  0.467799   \n",
       "\n",
       "        AUC  \n",
       "0  0.647705  "
      ]
     },
     "metadata": {},
     "output_type": "display_data"
    },
    {
     "name": "stdout",
     "output_type": "stream",
     "text": [
      "Precision:  0.47\n",
      "Recall   :  0.47\n",
      "F1-score :  0.47\n",
      "AUC      :  0.47\n",
      "              precision    recall  f1-score   support\n",
      "\n",
      "           0       0.44      0.44      0.44       394\n",
      "           1       0.39      0.36      0.37       372\n",
      "           2       0.45      0.43      0.44       394\n",
      "           3       0.59      0.65      0.62       454\n",
      "\n",
      "    accuracy                           0.48      1614\n",
      "   macro avg       0.47      0.47      0.47      1614\n",
      "weighted avg       0.47      0.48      0.47      1614\n",
      "\n"
     ]
    },
    {
     "data": {
      "text/html": [
       "<style  type=\"text/css\" >\n",
       "#T_f21ff5ac_d98f_11ea_935b_8c859004fb9crow0_col0,#T_f21ff5ac_d98f_11ea_935b_8c859004fb9crow1_col1,#T_f21ff5ac_d98f_11ea_935b_8c859004fb9crow2_col2,#T_f21ff5ac_d98f_11ea_935b_8c859004fb9crow3_col3{\n",
       "            background-color:  #023858;\n",
       "            color:  #f1f1f1;\n",
       "        }#T_f21ff5ac_d98f_11ea_935b_8c859004fb9crow0_col1{\n",
       "            background-color:  #a1bbda;\n",
       "            color:  #000000;\n",
       "        }#T_f21ff5ac_d98f_11ea_935b_8c859004fb9crow0_col2{\n",
       "            background-color:  #eee8f3;\n",
       "            color:  #000000;\n",
       "        }#T_f21ff5ac_d98f_11ea_935b_8c859004fb9crow0_col3{\n",
       "            background-color:  #dcdaeb;\n",
       "            color:  #000000;\n",
       "        }#T_f21ff5ac_d98f_11ea_935b_8c859004fb9crow1_col0{\n",
       "            background-color:  #d8d7e9;\n",
       "            color:  #000000;\n",
       "        }#T_f21ff5ac_d98f_11ea_935b_8c859004fb9crow1_col2{\n",
       "            background-color:  #509ac6;\n",
       "            color:  #000000;\n",
       "        }#T_f21ff5ac_d98f_11ea_935b_8c859004fb9crow1_col3,#T_f21ff5ac_d98f_11ea_935b_8c859004fb9crow2_col0,#T_f21ff5ac_d98f_11ea_935b_8c859004fb9crow3_col1,#T_f21ff5ac_d98f_11ea_935b_8c859004fb9crow3_col2{\n",
       "            background-color:  #fff7fb;\n",
       "            color:  #000000;\n",
       "        }#T_f21ff5ac_d98f_11ea_935b_8c859004fb9crow2_col1{\n",
       "            background-color:  #1c7fb8;\n",
       "            color:  #000000;\n",
       "        }#T_f21ff5ac_d98f_11ea_935b_8c859004fb9crow2_col3{\n",
       "            background-color:  #f1ebf5;\n",
       "            color:  #000000;\n",
       "        }#T_f21ff5ac_d98f_11ea_935b_8c859004fb9crow3_col0{\n",
       "            background-color:  #c5cce3;\n",
       "            color:  #000000;\n",
       "        }</style><table id=\"T_f21ff5ac_d98f_11ea_935b_8c859004fb9c\" ><thead>    <tr>        <th class=\"blank level0\" ></th>        <th class=\"col_heading level0 col0\" >A</th>        <th class=\"col_heading level0 col1\" >B</th>        <th class=\"col_heading level0 col2\" >C</th>        <th class=\"col_heading level0 col3\" >D</th>    </tr></thead><tbody>\n",
       "                <tr>\n",
       "                        <th id=\"T_f21ff5ac_d98f_11ea_935b_8c859004fb9clevel0_row0\" class=\"row_heading level0 row0\" >A</th>\n",
       "                        <td id=\"T_f21ff5ac_d98f_11ea_935b_8c859004fb9crow0_col0\" class=\"data row0 col0\" >172</td>\n",
       "                        <td id=\"T_f21ff5ac_d98f_11ea_935b_8c859004fb9crow0_col1\" class=\"data row0 col1\" >73</td>\n",
       "                        <td id=\"T_f21ff5ac_d98f_11ea_935b_8c859004fb9crow0_col2\" class=\"data row0 col2\" >55</td>\n",
       "                        <td id=\"T_f21ff5ac_d98f_11ea_935b_8c859004fb9crow0_col3\" class=\"data row0 col3\" >94</td>\n",
       "            </tr>\n",
       "            <tr>\n",
       "                        <th id=\"T_f21ff5ac_d98f_11ea_935b_8c859004fb9clevel0_row1\" class=\"row_heading level0 row1\" >B</th>\n",
       "                        <td id=\"T_f21ff5ac_d98f_11ea_935b_8c859004fb9crow1_col0\" class=\"data row1 col0\" >78</td>\n",
       "                        <td id=\"T_f21ff5ac_d98f_11ea_935b_8c859004fb9crow1_col1\" class=\"data row1 col1\" >134</td>\n",
       "                        <td id=\"T_f21ff5ac_d98f_11ea_935b_8c859004fb9crow1_col2\" class=\"data row1 col2\" >115</td>\n",
       "                        <td id=\"T_f21ff5ac_d98f_11ea_935b_8c859004fb9crow1_col3\" class=\"data row1 col3\" >45</td>\n",
       "            </tr>\n",
       "            <tr>\n",
       "                        <th id=\"T_f21ff5ac_d98f_11ea_935b_8c859004fb9clevel0_row2\" class=\"row_heading level0 row2\" >C</th>\n",
       "                        <td id=\"T_f21ff5ac_d98f_11ea_935b_8c859004fb9crow2_col0\" class=\"data row2 col0\" >52</td>\n",
       "                        <td id=\"T_f21ff5ac_d98f_11ea_935b_8c859004fb9crow2_col1\" class=\"data row2 col1\" >103</td>\n",
       "                        <td id=\"T_f21ff5ac_d98f_11ea_935b_8c859004fb9crow2_col2\" class=\"data row2 col2\" >171</td>\n",
       "                        <td id=\"T_f21ff5ac_d98f_11ea_935b_8c859004fb9crow2_col3\" class=\"data row2 col3\" >68</td>\n",
       "            </tr>\n",
       "            <tr>\n",
       "                        <th id=\"T_f21ff5ac_d98f_11ea_935b_8c859004fb9clevel0_row3\" class=\"row_heading level0 row3\" >D</th>\n",
       "                        <td id=\"T_f21ff5ac_d98f_11ea_935b_8c859004fb9crow3_col0\" class=\"data row3 col0\" >86</td>\n",
       "                        <td id=\"T_f21ff5ac_d98f_11ea_935b_8c859004fb9crow3_col1\" class=\"data row3 col1\" >34</td>\n",
       "                        <td id=\"T_f21ff5ac_d98f_11ea_935b_8c859004fb9crow3_col2\" class=\"data row3 col2\" >40</td>\n",
       "                        <td id=\"T_f21ff5ac_d98f_11ea_935b_8c859004fb9crow3_col3\" class=\"data row3 col3\" >294</td>\n",
       "            </tr>\n",
       "    </tbody></table>"
      ],
      "text/plain": [
       "<pandas.io.formats.style.Styler at 0x7f8d63633190>"
      ]
     },
     "metadata": {},
     "output_type": "display_data"
    }
   ],
   "source": [
    "# time\n",
    "time_start = time.time()\n",
    "\n",
    "model_name = 'Random Forest'\n",
    "desc = 'default'\n",
    "\n",
    "# model\n",
    "model = RandomForestClassifier(random_state=SEED, n_jobs=-1)\n",
    "\n",
    "# fit and save the model\n",
    "model.fit(Xtr, ytr)\n",
    "\n",
    "\n",
    "# predictions\n",
    "skf = StratifiedKFold(n_splits=10,shuffle=True,random_state=SEED)\n",
    "ypreds_cv = cross_val_predict(model, Xtx, ytx, cv=skf)\n",
    "ypreds = ypreds_cv\n",
    "\n",
    "# auc\n",
    "labels = [0, 1, 2, 3]\n",
    "ytest_bin = label_binarize(ytest, classes=labels)\n",
    "ypreds_bin = label_binarize(ypreds, classes=labels)\n",
    "auc = roc_auc_score(ytest_bin,ypreds_bin,\n",
    "                  average='macro',multi_class='ovo')\n",
    "\n",
    "# model evaluation\n",
    "average = 'macro'\n",
    "row_eval = [model_name,desc, \n",
    "            accuracy_score(ytx, ypreds),\n",
    "            precision_score(ytx, ypreds, average=average),\n",
    "            recall_score(ytx, ypreds, average=average),\n",
    "            f1_score(ytx, ypreds, average=average),\n",
    "            auc\n",
    "            ]\n",
    "\n",
    "df_eval.loc[len(df_eval)] = row_eval\n",
    "df_eval = df_eval.drop_duplicates()\n",
    "time_taken = time.time() - time_start\n",
    "print('Time taken: {:.0f} min {:.0f} secs'.format(*divmod(time_taken,60)))\n",
    "display(df_eval)\n",
    "print_scores(ytest,ypreds)"
   ]
  },
  {
   "cell_type": "markdown",
   "metadata": {},
   "source": [
    "# Hyperparameter optimization"
   ]
  },
  {
   "cell_type": "markdown",
   "metadata": {},
   "source": [
    "## HPO using RandomizedSearchCV"
   ]
  },
  {
   "cell_type": "code",
   "execution_count": 12,
   "metadata": {
    "ExecuteTime": {
     "end_time": "2020-08-08T15:58:05.405129Z",
     "start_time": "2020-08-08T15:58:05.401412Z"
    }
   },
   "outputs": [],
   "source": [
    "from sklearn.model_selection import RandomizedSearchCV, StratifiedKFold\n",
    "import joblib"
   ]
  },
  {
   "cell_type": "code",
   "execution_count": 13,
   "metadata": {
    "ExecuteTime": {
     "end_time": "2020-08-08T15:58:05.429564Z",
     "start_time": "2020-08-08T15:58:05.407199Z"
    }
   },
   "outputs": [],
   "source": [
    "skf = StratifiedKFold(n_splits=5, shuffle=True, random_state=SEED)\n",
    "X = np.array(Xtr)\n",
    "y = np.array(ytr)"
   ]
  },
  {
   "cell_type": "code",
   "execution_count": 14,
   "metadata": {
    "ExecuteTime": {
     "end_time": "2020-08-08T15:58:05.451713Z",
     "start_time": "2020-08-08T15:58:05.437090Z"
    }
   },
   "outputs": [],
   "source": [
    "# Number of trees in random forest\n",
    "n_estimators = [int(x) for x in np.linspace(50,200,6)]\n",
    "\n",
    "# Number of features to consider at every split\n",
    "max_features = ['auto', 'sqrt']\n",
    "\n",
    "# Maximum number of levels in tree\n",
    "max_depth = [int(x) for x in np.linspace(5, 50, num=10)]\n",
    "max_depth.append(None)\n",
    "\n",
    "# Minimum number of samples required to split a node\n",
    "min_samples_split = [2,3,5,8, 10, 15]\n",
    "\n",
    "# Minimum number of samples required at each leaf node\n",
    "min_samples_leaf = [2, 4, 6, 8,10]\n",
    "\n",
    "# Method of selecting samples for training each tree\n",
    "bootstrap = [True, False]\n",
    "\n",
    "# Create the random grid\n",
    "params = {'n_estimators': n_estimators,\n",
    "               'max_features': max_features,\n",
    "               'max_depth': max_depth,\n",
    "               'min_samples_split': min_samples_split,\n",
    "               'min_samples_leaf': min_samples_leaf,\n",
    "               'bootstrap': bootstrap}\n",
    "\n",
    "\n",
    "grid = RandomizedSearchCV(model,params,\n",
    "                          cv=skf.split(X, y),\n",
    "                          scoring='accuracy')"
   ]
  },
  {
   "cell_type": "code",
   "execution_count": 15,
   "metadata": {
    "ExecuteTime": {
     "end_time": "2020-08-08T15:58:05.466278Z",
     "start_time": "2020-08-08T15:58:05.454855Z"
    }
   },
   "outputs": [
    {
     "name": "stdout",
     "output_type": "stream",
     "text": [
      "CPU times: user 2 µs, sys: 0 ns, total: 2 µs\n",
      "Wall time: 6.91 µs\n"
     ]
    }
   ],
   "source": [
    "%%time\n",
    "# grid.fit(X,y)\n",
    "# best_model = grid.best_estimator_\n",
    "# joblib.dump(best_model, '../outputs/rf_randomsearch_best_model.pkl')"
   ]
  },
  {
   "cell_type": "code",
   "execution_count": 16,
   "metadata": {
    "ExecuteTime": {
     "end_time": "2020-08-08T15:58:05.556168Z",
     "start_time": "2020-08-08T15:58:05.469025Z"
    }
   },
   "outputs": [
    {
     "data": {
      "text/plain": [
       "RandomForestClassifier(bootstrap=False, max_depth=50, min_samples_leaf=8,\n",
       "                       min_samples_split=5, n_estimators=200, n_jobs=-1,\n",
       "                       random_state=100)"
      ]
     },
     "execution_count": 16,
     "metadata": {},
     "output_type": "execute_result"
    }
   ],
   "source": [
    "model_grid_random = joblib.load('../outputs/rf_randomsearch_best_model.pkl')\n",
    "model_grid_random"
   ]
  },
  {
   "cell_type": "code",
   "execution_count": 17,
   "metadata": {
    "ExecuteTime": {
     "end_time": "2020-08-08T15:58:09.459591Z",
     "start_time": "2020-08-08T15:58:05.558208Z"
    }
   },
   "outputs": [
    {
     "name": "stdout",
     "output_type": "stream",
     "text": [
      "Time taken: 0 min 4 secs\n"
     ]
    },
    {
     "data": {
      "text/html": [
       "<div>\n",
       "<style scoped>\n",
       "    .dataframe tbody tr th:only-of-type {\n",
       "        vertical-align: middle;\n",
       "    }\n",
       "\n",
       "    .dataframe tbody tr th {\n",
       "        vertical-align: top;\n",
       "    }\n",
       "\n",
       "    .dataframe thead th {\n",
       "        text-align: right;\n",
       "    }\n",
       "</style>\n",
       "<table border=\"1\" class=\"dataframe\">\n",
       "  <thead>\n",
       "    <tr style=\"text-align: right;\">\n",
       "      <th></th>\n",
       "      <th>Model</th>\n",
       "      <th>Description</th>\n",
       "      <th>Accuracy</th>\n",
       "      <th>Precision</th>\n",
       "      <th>Recall</th>\n",
       "      <th>F1</th>\n",
       "      <th>AUC</th>\n",
       "    </tr>\n",
       "  </thead>\n",
       "  <tbody>\n",
       "    <tr>\n",
       "      <th>0</th>\n",
       "      <td>Random Forest</td>\n",
       "      <td>default</td>\n",
       "      <td>0.477695</td>\n",
       "      <td>0.467120</td>\n",
       "      <td>0.469588</td>\n",
       "      <td>0.467799</td>\n",
       "      <td>0.647705</td>\n",
       "    </tr>\n",
       "    <tr>\n",
       "      <th>1</th>\n",
       "      <td>Random Forest</td>\n",
       "      <td>grid_randomsearch</td>\n",
       "      <td>0.521066</td>\n",
       "      <td>0.507744</td>\n",
       "      <td>0.510599</td>\n",
       "      <td>0.505494</td>\n",
       "      <td>0.675283</td>\n",
       "    </tr>\n",
       "  </tbody>\n",
       "</table>\n",
       "</div>"
      ],
      "text/plain": [
       "           Model        Description  Accuracy  Precision    Recall        F1  \\\n",
       "0  Random Forest            default  0.477695   0.467120  0.469588  0.467799   \n",
       "1  Random Forest  grid_randomsearch  0.521066   0.507744  0.510599  0.505494   \n",
       "\n",
       "        AUC  \n",
       "0  0.647705  \n",
       "1  0.675283  "
      ]
     },
     "metadata": {},
     "output_type": "display_data"
    },
    {
     "name": "stdout",
     "output_type": "stream",
     "text": [
      "Precision:  0.51\n",
      "Recall   :  0.51\n",
      "F1-score :  0.51\n",
      "AUC      :  0.51\n",
      "              precision    recall  f1-score   support\n",
      "\n",
      "           0       0.44      0.48      0.46       394\n",
      "           1       0.43      0.31      0.37       372\n",
      "           2       0.54      0.53      0.53       394\n",
      "           3       0.61      0.72      0.66       454\n",
      "\n",
      "    accuracy                           0.52      1614\n",
      "   macro avg       0.51      0.51      0.51      1614\n",
      "weighted avg       0.51      0.52      0.51      1614\n",
      "\n"
     ]
    },
    {
     "data": {
      "text/html": [
       "<style  type=\"text/css\" >\n",
       "#T_f48b6d80_d98f_11ea_935b_8c859004fb9crow0_col0,#T_f48b6d80_d98f_11ea_935b_8c859004fb9crow1_col1,#T_f48b6d80_d98f_11ea_935b_8c859004fb9crow2_col2,#T_f48b6d80_d98f_11ea_935b_8c859004fb9crow3_col3{\n",
       "            background-color:  #023858;\n",
       "            color:  #f1f1f1;\n",
       "        }#T_f48b6d80_d98f_11ea_935b_8c859004fb9crow0_col1{\n",
       "            background-color:  #8fb4d6;\n",
       "            color:  #000000;\n",
       "        }#T_f48b6d80_d98f_11ea_935b_8c859004fb9crow0_col2{\n",
       "            background-color:  #dcdaeb;\n",
       "            color:  #000000;\n",
       "        }#T_f48b6d80_d98f_11ea_935b_8c859004fb9crow0_col3{\n",
       "            background-color:  #e4e1ef;\n",
       "            color:  #000000;\n",
       "        }#T_f48b6d80_d98f_11ea_935b_8c859004fb9crow1_col0{\n",
       "            background-color:  #a9bfdc;\n",
       "            color:  #000000;\n",
       "        }#T_f48b6d80_d98f_11ea_935b_8c859004fb9crow1_col2{\n",
       "            background-color:  #71a8ce;\n",
       "            color:  #000000;\n",
       "        }#T_f48b6d80_d98f_11ea_935b_8c859004fb9crow1_col3,#T_f48b6d80_d98f_11ea_935b_8c859004fb9crow2_col0,#T_f48b6d80_d98f_11ea_935b_8c859004fb9crow3_col1,#T_f48b6d80_d98f_11ea_935b_8c859004fb9crow3_col2{\n",
       "            background-color:  #fff7fb;\n",
       "            color:  #000000;\n",
       "        }#T_f48b6d80_d98f_11ea_935b_8c859004fb9crow2_col1{\n",
       "            background-color:  #7eadd1;\n",
       "            color:  #000000;\n",
       "        }#T_f48b6d80_d98f_11ea_935b_8c859004fb9crow2_col3{\n",
       "            background-color:  #f0eaf4;\n",
       "            color:  #000000;\n",
       "        }#T_f48b6d80_d98f_11ea_935b_8c859004fb9crow3_col0{\n",
       "            background-color:  #bcc7e1;\n",
       "            color:  #000000;\n",
       "        }</style><table id=\"T_f48b6d80_d98f_11ea_935b_8c859004fb9c\" ><thead>    <tr>        <th class=\"blank level0\" ></th>        <th class=\"col_heading level0 col0\" >A</th>        <th class=\"col_heading level0 col1\" >B</th>        <th class=\"col_heading level0 col2\" >C</th>        <th class=\"col_heading level0 col3\" >D</th>    </tr></thead><tbody>\n",
       "                <tr>\n",
       "                        <th id=\"T_f48b6d80_d98f_11ea_935b_8c859004fb9clevel0_row0\" class=\"row_heading level0 row0\" >A</th>\n",
       "                        <td id=\"T_f48b6d80_d98f_11ea_935b_8c859004fb9crow0_col0\" class=\"data row0 col0\" >189</td>\n",
       "                        <td id=\"T_f48b6d80_d98f_11ea_935b_8c859004fb9crow0_col1\" class=\"data row0 col1\" >63</td>\n",
       "                        <td id=\"T_f48b6d80_d98f_11ea_935b_8c859004fb9crow0_col2\" class=\"data row0 col2\" >52</td>\n",
       "                        <td id=\"T_f48b6d80_d98f_11ea_935b_8c859004fb9crow0_col3\" class=\"data row0 col3\" >90</td>\n",
       "            </tr>\n",
       "            <tr>\n",
       "                        <th id=\"T_f48b6d80_d98f_11ea_935b_8c859004fb9clevel0_row1\" class=\"row_heading level0 row1\" >B</th>\n",
       "                        <td id=\"T_f48b6d80_d98f_11ea_935b_8c859004fb9crow1_col0\" class=\"data row1 col0\" >99</td>\n",
       "                        <td id=\"T_f48b6d80_d98f_11ea_935b_8c859004fb9crow1_col1\" class=\"data row1 col1\" >117</td>\n",
       "                        <td id=\"T_f48b6d80_d98f_11ea_935b_8c859004fb9crow1_col2\" class=\"data row1 col2\" >112</td>\n",
       "                        <td id=\"T_f48b6d80_d98f_11ea_935b_8c859004fb9crow1_col3\" class=\"data row1 col3\" >44</td>\n",
       "            </tr>\n",
       "            <tr>\n",
       "                        <th id=\"T_f48b6d80_d98f_11ea_935b_8c859004fb9clevel0_row2\" class=\"row_heading level0 row2\" >C</th>\n",
       "                        <td id=\"T_f48b6d80_d98f_11ea_935b_8c859004fb9crow2_col0\" class=\"data row2 col0\" >47</td>\n",
       "                        <td id=\"T_f48b6d80_d98f_11ea_935b_8c859004fb9crow2_col1\" class=\"data row2 col1\" >67</td>\n",
       "                        <td id=\"T_f48b6d80_d98f_11ea_935b_8c859004fb9crow2_col2\" class=\"data row2 col2\" >208</td>\n",
       "                        <td id=\"T_f48b6d80_d98f_11ea_935b_8c859004fb9crow2_col3\" class=\"data row2 col3\" >72</td>\n",
       "            </tr>\n",
       "            <tr>\n",
       "                        <th id=\"T_f48b6d80_d98f_11ea_935b_8c859004fb9clevel0_row3\" class=\"row_heading level0 row3\" >D</th>\n",
       "                        <td id=\"T_f48b6d80_d98f_11ea_935b_8c859004fb9crow3_col0\" class=\"data row3 col0\" >91</td>\n",
       "                        <td id=\"T_f48b6d80_d98f_11ea_935b_8c859004fb9crow3_col1\" class=\"data row3 col1\" >22</td>\n",
       "                        <td id=\"T_f48b6d80_d98f_11ea_935b_8c859004fb9crow3_col2\" class=\"data row3 col2\" >14</td>\n",
       "                        <td id=\"T_f48b6d80_d98f_11ea_935b_8c859004fb9crow3_col3\" class=\"data row3 col3\" >327</td>\n",
       "            </tr>\n",
       "    </tbody></table>"
      ],
      "text/plain": [
       "<pandas.io.formats.style.Styler at 0x7f8d62936b50>"
      ]
     },
     "metadata": {},
     "output_type": "display_data"
    }
   ],
   "source": [
    "# time\n",
    "time_start = time.time()\n",
    "\n",
    "model_name = 'Random Forest'\n",
    "desc = 'grid_randomsearch'\n",
    "\n",
    "# model\n",
    "model = model_grid_random\n",
    "\n",
    "# fit and save the model\n",
    "model.fit(Xtr, ytr)\n",
    "\n",
    "# predictions\n",
    "skf = StratifiedKFold(n_splits=10,shuffle=True,random_state=SEED)\n",
    "ypreds_cv = cross_val_predict(model, Xtx, ytx, cv=skf)\n",
    "ypreds = ypreds_cv\n",
    "\n",
    "# auc\n",
    "labels = [0, 1, 2, 3]\n",
    "ytest_bin = label_binarize(ytest, classes=labels)\n",
    "ypreds_bin = label_binarize(ypreds, classes=labels)\n",
    "auc = roc_auc_score(ytest_bin,ypreds_bin,\n",
    "                  average='macro',multi_class='ovo')\n",
    "\n",
    "# model evaluation\n",
    "average = 'macro'\n",
    "row_eval = [model_name,desc, \n",
    "            accuracy_score(ytx, ypreds),\n",
    "            precision_score(ytx, ypreds, average=average),\n",
    "            recall_score(ytx, ypreds, average=average),\n",
    "            f1_score(ytx, ypreds, average=average),\n",
    "            auc\n",
    "            ]\n",
    "\n",
    "df_eval.loc[len(df_eval)] = row_eval\n",
    "df_eval = df_eval.drop_duplicates()\n",
    "time_taken = time.time() - time_start\n",
    "print('Time taken: {:.0f} min {:.0f} secs'.format(*divmod(time_taken,60)))\n",
    "display(df_eval)\n",
    "print_scores(ytest,ypreds)"
   ]
  },
  {
   "cell_type": "markdown",
   "metadata": {},
   "source": [
    "# Result Analysis"
   ]
  },
  {
   "cell_type": "code",
   "execution_count": 32,
   "metadata": {
    "ExecuteTime": {
     "end_time": "2020-08-08T16:06:40.030236Z",
     "start_time": "2020-08-08T16:06:40.018208Z"
    }
   },
   "outputs": [
    {
     "data": {
      "text/html": [
       "<div>\n",
       "<style scoped>\n",
       "    .dataframe tbody tr th:only-of-type {\n",
       "        vertical-align: middle;\n",
       "    }\n",
       "\n",
       "    .dataframe tbody tr th {\n",
       "        vertical-align: top;\n",
       "    }\n",
       "\n",
       "    .dataframe thead th {\n",
       "        text-align: right;\n",
       "    }\n",
       "</style>\n",
       "<table border=\"1\" class=\"dataframe\">\n",
       "  <thead>\n",
       "    <tr style=\"text-align: right;\">\n",
       "      <th></th>\n",
       "      <th>True</th>\n",
       "      <th>Predicted</th>\n",
       "    </tr>\n",
       "  </thead>\n",
       "  <tbody>\n",
       "    <tr>\n",
       "      <th>0</th>\n",
       "      <td>C</td>\n",
       "      <td>A</td>\n",
       "    </tr>\n",
       "    <tr>\n",
       "      <th>1</th>\n",
       "      <td>B</td>\n",
       "      <td>C</td>\n",
       "    </tr>\n",
       "    <tr>\n",
       "      <th>2</th>\n",
       "      <td>C</td>\n",
       "      <td>C</td>\n",
       "    </tr>\n",
       "    <tr>\n",
       "      <th>3</th>\n",
       "      <td>A</td>\n",
       "      <td>A</td>\n",
       "    </tr>\n",
       "    <tr>\n",
       "      <th>4</th>\n",
       "      <td>B</td>\n",
       "      <td>C</td>\n",
       "    </tr>\n",
       "  </tbody>\n",
       "</table>\n",
       "</div>"
      ],
      "text/plain": [
       "  True Predicted\n",
       "0    C         A\n",
       "1    B         C\n",
       "2    C         C\n",
       "3    A         A\n",
       "4    B         C"
      ]
     },
     "execution_count": 32,
     "metadata": {},
     "output_type": "execute_result"
    }
   ],
   "source": [
    "df_out = pd.DataFrame({'True': ytx, 'Predicted': ypreds})\n",
    "df_out = df_out.replace({0:'A',1:'B',2:'C',3:'D'})\n",
    "df_out.head()"
   ]
  },
  {
   "cell_type": "code",
   "execution_count": 33,
   "metadata": {
    "ExecuteTime": {
     "end_time": "2020-08-08T16:06:44.657586Z",
     "start_time": "2020-08-08T16:06:44.650065Z"
    }
   },
   "outputs": [
    {
     "data": {
      "text/plain": [
       "A    394\n",
       "B    372\n",
       "C    394\n",
       "D    454\n",
       "Name: True, dtype: int64"
      ]
     },
     "execution_count": 33,
     "metadata": {},
     "output_type": "execute_result"
    }
   ],
   "source": [
    "df_out['True'].value_counts().sort_index()"
   ]
  },
  {
   "cell_type": "code",
   "execution_count": 47,
   "metadata": {
    "ExecuteTime": {
     "end_time": "2020-08-08T16:42:50.884551Z",
     "start_time": "2020-08-08T16:42:50.840564Z"
    }
   },
   "outputs": [
    {
     "data": {
      "text/html": [
       "<style  type=\"text/css\" >\n",
       "#T_32cc7f34_d996_11ea_935b_8c859004fb9crow0_col0,#T_32cc7f34_d996_11ea_935b_8c859004fb9crow1_col1,#T_32cc7f34_d996_11ea_935b_8c859004fb9crow2_col2,#T_32cc7f34_d996_11ea_935b_8c859004fb9crow3_col3{\n",
       "            background-color:  #023858;\n",
       "            color:  #f1f1f1;\n",
       "        }#T_32cc7f34_d996_11ea_935b_8c859004fb9crow0_col1{\n",
       "            background-color:  #f3edf5;\n",
       "            color:  #000000;\n",
       "        }#T_32cc7f34_d996_11ea_935b_8c859004fb9crow0_col2,#T_32cc7f34_d996_11ea_935b_8c859004fb9crow1_col3,#T_32cc7f34_d996_11ea_935b_8c859004fb9crow2_col0,#T_32cc7f34_d996_11ea_935b_8c859004fb9crow3_col2{\n",
       "            background-color:  #fff7fb;\n",
       "            color:  #000000;\n",
       "        }#T_32cc7f34_d996_11ea_935b_8c859004fb9crow0_col3{\n",
       "            background-color:  #c6cce3;\n",
       "            color:  #000000;\n",
       "        }#T_32cc7f34_d996_11ea_935b_8c859004fb9crow1_col0{\n",
       "            background-color:  #056faf;\n",
       "            color:  #f1f1f1;\n",
       "        }#T_32cc7f34_d996_11ea_935b_8c859004fb9crow1_col2{\n",
       "            background-color:  #034a74;\n",
       "            color:  #f1f1f1;\n",
       "        }#T_32cc7f34_d996_11ea_935b_8c859004fb9crow2_col1{\n",
       "            background-color:  #ede7f2;\n",
       "            color:  #000000;\n",
       "        }#T_32cc7f34_d996_11ea_935b_8c859004fb9crow2_col3{\n",
       "            background-color:  #e6e2ef;\n",
       "            color:  #000000;\n",
       "        }#T_32cc7f34_d996_11ea_935b_8c859004fb9crow3_col0{\n",
       "            background-color:  #d2d2e7;\n",
       "            color:  #000000;\n",
       "        }#T_32cc7f34_d996_11ea_935b_8c859004fb9crow3_col1{\n",
       "            background-color:  #fbf4f9;\n",
       "            color:  #000000;\n",
       "        }</style><table id=\"T_32cc7f34_d996_11ea_935b_8c859004fb9c\" ><caption><h4>Confusion Matrix for customer segmentation</h4><br>Each rows are true labels.<br>Row sum is true sum of given label.</caption><thead>    <tr>        <th class=\"index_name level0\" >Predicted</th>        <th class=\"col_heading level0 col0\" >A</th>        <th class=\"col_heading level0 col1\" >B</th>        <th class=\"col_heading level0 col2\" >C</th>        <th class=\"col_heading level0 col3\" >D</th>        <th class=\"col_heading level0 col4\" >All</th>    </tr>    <tr>        <th class=\"index_name level0\" >True</th>        <th class=\"blank\" ></th>        <th class=\"blank\" ></th>        <th class=\"blank\" ></th>        <th class=\"blank\" ></th>        <th class=\"blank\" ></th>    </tr></thead><tbody>\n",
       "                <tr>\n",
       "                        <th id=\"T_32cc7f34_d996_11ea_935b_8c859004fb9clevel0_row0\" class=\"row_heading level0 row0\" >A</th>\n",
       "                        <td id=\"T_32cc7f34_d996_11ea_935b_8c859004fb9crow0_col0\" class=\"data row0 col0\" >189</td>\n",
       "                        <td id=\"T_32cc7f34_d996_11ea_935b_8c859004fb9crow0_col1\" class=\"data row0 col1\" >63</td>\n",
       "                        <td id=\"T_32cc7f34_d996_11ea_935b_8c859004fb9crow0_col2\" class=\"data row0 col2\" >52</td>\n",
       "                        <td id=\"T_32cc7f34_d996_11ea_935b_8c859004fb9crow0_col3\" class=\"data row0 col3\" >90</td>\n",
       "                        <td id=\"T_32cc7f34_d996_11ea_935b_8c859004fb9crow0_col4\" class=\"data row0 col4\" >394</td>\n",
       "            </tr>\n",
       "            <tr>\n",
       "                        <th id=\"T_32cc7f34_d996_11ea_935b_8c859004fb9clevel0_row1\" class=\"row_heading level0 row1\" >B</th>\n",
       "                        <td id=\"T_32cc7f34_d996_11ea_935b_8c859004fb9crow1_col0\" class=\"data row1 col0\" >99</td>\n",
       "                        <td id=\"T_32cc7f34_d996_11ea_935b_8c859004fb9crow1_col1\" class=\"data row1 col1\" >117</td>\n",
       "                        <td id=\"T_32cc7f34_d996_11ea_935b_8c859004fb9crow1_col2\" class=\"data row1 col2\" >112</td>\n",
       "                        <td id=\"T_32cc7f34_d996_11ea_935b_8c859004fb9crow1_col3\" class=\"data row1 col3\" >44</td>\n",
       "                        <td id=\"T_32cc7f34_d996_11ea_935b_8c859004fb9crow1_col4\" class=\"data row1 col4\" >372</td>\n",
       "            </tr>\n",
       "            <tr>\n",
       "                        <th id=\"T_32cc7f34_d996_11ea_935b_8c859004fb9clevel0_row2\" class=\"row_heading level0 row2\" >C</th>\n",
       "                        <td id=\"T_32cc7f34_d996_11ea_935b_8c859004fb9crow2_col0\" class=\"data row2 col0\" >47</td>\n",
       "                        <td id=\"T_32cc7f34_d996_11ea_935b_8c859004fb9crow2_col1\" class=\"data row2 col1\" >67</td>\n",
       "                        <td id=\"T_32cc7f34_d996_11ea_935b_8c859004fb9crow2_col2\" class=\"data row2 col2\" >208</td>\n",
       "                        <td id=\"T_32cc7f34_d996_11ea_935b_8c859004fb9crow2_col3\" class=\"data row2 col3\" >72</td>\n",
       "                        <td id=\"T_32cc7f34_d996_11ea_935b_8c859004fb9crow2_col4\" class=\"data row2 col4\" >394</td>\n",
       "            </tr>\n",
       "            <tr>\n",
       "                        <th id=\"T_32cc7f34_d996_11ea_935b_8c859004fb9clevel0_row3\" class=\"row_heading level0 row3\" >D</th>\n",
       "                        <td id=\"T_32cc7f34_d996_11ea_935b_8c859004fb9crow3_col0\" class=\"data row3 col0\" >91</td>\n",
       "                        <td id=\"T_32cc7f34_d996_11ea_935b_8c859004fb9crow3_col1\" class=\"data row3 col1\" >22</td>\n",
       "                        <td id=\"T_32cc7f34_d996_11ea_935b_8c859004fb9crow3_col2\" class=\"data row3 col2\" >14</td>\n",
       "                        <td id=\"T_32cc7f34_d996_11ea_935b_8c859004fb9crow3_col3\" class=\"data row3 col3\" >327</td>\n",
       "                        <td id=\"T_32cc7f34_d996_11ea_935b_8c859004fb9crow3_col4\" class=\"data row3 col4\" >454</td>\n",
       "            </tr>\n",
       "            <tr>\n",
       "                        <th id=\"T_32cc7f34_d996_11ea_935b_8c859004fb9clevel0_row4\" class=\"row_heading level0 row4\" >All</th>\n",
       "                        <td id=\"T_32cc7f34_d996_11ea_935b_8c859004fb9crow4_col0\" class=\"data row4 col0\" >426</td>\n",
       "                        <td id=\"T_32cc7f34_d996_11ea_935b_8c859004fb9crow4_col1\" class=\"data row4 col1\" >269</td>\n",
       "                        <td id=\"T_32cc7f34_d996_11ea_935b_8c859004fb9crow4_col2\" class=\"data row4 col2\" >386</td>\n",
       "                        <td id=\"T_32cc7f34_d996_11ea_935b_8c859004fb9crow4_col3\" class=\"data row4 col3\" >533</td>\n",
       "                        <td id=\"T_32cc7f34_d996_11ea_935b_8c859004fb9crow4_col4\" class=\"data row4 col4\" >1614</td>\n",
       "            </tr>\n",
       "    </tbody></table>"
      ],
      "text/plain": [
       "<pandas.io.formats.style.Styler at 0x7f8d45f4cdd0>"
      ]
     },
     "execution_count": 47,
     "metadata": {},
     "output_type": "execute_result"
    }
   ],
   "source": [
    "dfx = pd.crosstab(df_out['True'],df_out['Predicted'],margins=True)\n",
    "dfx.style.set_caption('<h4>Confusion Matrix for customer segmentation</h4><br>Each rows are true labels.<br>Row sum is true sum of given label.')\\\n",
    ".background_gradient(axis=1,subset=(dfx.index[:-1],dfx.columns[:-1]))"
   ]
  },
  {
   "cell_type": "code",
   "execution_count": 43,
   "metadata": {
    "ExecuteTime": {
     "end_time": "2020-08-08T16:40:49.146712Z",
     "start_time": "2020-08-08T16:40:49.121464Z"
    }
   },
   "outputs": [
    {
     "data": {
      "text/html": [
       "<style  type=\"text/css\" >\n",
       "#T_ea3cdb92_d995_11ea_935b_8c859004fb9crow0_col0,#T_ea3cdb92_d995_11ea_935b_8c859004fb9crow1_col1,#T_ea3cdb92_d995_11ea_935b_8c859004fb9crow2_col2,#T_ea3cdb92_d995_11ea_935b_8c859004fb9crow3_col3{\n",
       "            background-color:  #023858;\n",
       "            color:  #f1f1f1;\n",
       "        }#T_ea3cdb92_d995_11ea_935b_8c859004fb9crow0_col1{\n",
       "            background-color:  #f3edf5;\n",
       "            color:  #000000;\n",
       "        }#T_ea3cdb92_d995_11ea_935b_8c859004fb9crow0_col2,#T_ea3cdb92_d995_11ea_935b_8c859004fb9crow1_col3,#T_ea3cdb92_d995_11ea_935b_8c859004fb9crow2_col0,#T_ea3cdb92_d995_11ea_935b_8c859004fb9crow3_col2{\n",
       "            background-color:  #fff7fb;\n",
       "            color:  #000000;\n",
       "        }#T_ea3cdb92_d995_11ea_935b_8c859004fb9crow0_col3{\n",
       "            background-color:  #c6cce3;\n",
       "            color:  #000000;\n",
       "        }#T_ea3cdb92_d995_11ea_935b_8c859004fb9crow1_col0{\n",
       "            background-color:  #056faf;\n",
       "            color:  #f1f1f1;\n",
       "        }#T_ea3cdb92_d995_11ea_935b_8c859004fb9crow1_col2{\n",
       "            background-color:  #034a74;\n",
       "            color:  #f1f1f1;\n",
       "        }#T_ea3cdb92_d995_11ea_935b_8c859004fb9crow2_col1{\n",
       "            background-color:  #ede7f2;\n",
       "            color:  #000000;\n",
       "        }#T_ea3cdb92_d995_11ea_935b_8c859004fb9crow2_col3{\n",
       "            background-color:  #e6e2ef;\n",
       "            color:  #000000;\n",
       "        }#T_ea3cdb92_d995_11ea_935b_8c859004fb9crow3_col0{\n",
       "            background-color:  #d2d2e7;\n",
       "            color:  #000000;\n",
       "        }#T_ea3cdb92_d995_11ea_935b_8c859004fb9crow3_col1{\n",
       "            background-color:  #fbf4f9;\n",
       "            color:  #000000;\n",
       "        }</style><table id=\"T_ea3cdb92_d995_11ea_935b_8c859004fb9c\" ><thead>    <tr>        <th class=\"index_name level0\" >Predicted</th>        <th class=\"col_heading level0 col0\" >A</th>        <th class=\"col_heading level0 col1\" >B</th>        <th class=\"col_heading level0 col2\" >C</th>        <th class=\"col_heading level0 col3\" >D</th>    </tr>    <tr>        <th class=\"index_name level0\" >True</th>        <th class=\"blank\" ></th>        <th class=\"blank\" ></th>        <th class=\"blank\" ></th>        <th class=\"blank\" ></th>    </tr></thead><tbody>\n",
       "                <tr>\n",
       "                        <th id=\"T_ea3cdb92_d995_11ea_935b_8c859004fb9clevel0_row0\" class=\"row_heading level0 row0\" >A</th>\n",
       "                        <td id=\"T_ea3cdb92_d995_11ea_935b_8c859004fb9crow0_col0\" class=\"data row0 col0\" >47.97%</td>\n",
       "                        <td id=\"T_ea3cdb92_d995_11ea_935b_8c859004fb9crow0_col1\" class=\"data row0 col1\" >15.99%</td>\n",
       "                        <td id=\"T_ea3cdb92_d995_11ea_935b_8c859004fb9crow0_col2\" class=\"data row0 col2\" >13.20%</td>\n",
       "                        <td id=\"T_ea3cdb92_d995_11ea_935b_8c859004fb9crow0_col3\" class=\"data row0 col3\" >22.84%</td>\n",
       "            </tr>\n",
       "            <tr>\n",
       "                        <th id=\"T_ea3cdb92_d995_11ea_935b_8c859004fb9clevel0_row1\" class=\"row_heading level0 row1\" >B</th>\n",
       "                        <td id=\"T_ea3cdb92_d995_11ea_935b_8c859004fb9crow1_col0\" class=\"data row1 col0\" >26.61%</td>\n",
       "                        <td id=\"T_ea3cdb92_d995_11ea_935b_8c859004fb9crow1_col1\" class=\"data row1 col1\" >31.45%</td>\n",
       "                        <td id=\"T_ea3cdb92_d995_11ea_935b_8c859004fb9crow1_col2\" class=\"data row1 col2\" >30.11%</td>\n",
       "                        <td id=\"T_ea3cdb92_d995_11ea_935b_8c859004fb9crow1_col3\" class=\"data row1 col3\" >11.83%</td>\n",
       "            </tr>\n",
       "            <tr>\n",
       "                        <th id=\"T_ea3cdb92_d995_11ea_935b_8c859004fb9clevel0_row2\" class=\"row_heading level0 row2\" >C</th>\n",
       "                        <td id=\"T_ea3cdb92_d995_11ea_935b_8c859004fb9crow2_col0\" class=\"data row2 col0\" >11.93%</td>\n",
       "                        <td id=\"T_ea3cdb92_d995_11ea_935b_8c859004fb9crow2_col1\" class=\"data row2 col1\" >17.01%</td>\n",
       "                        <td id=\"T_ea3cdb92_d995_11ea_935b_8c859004fb9crow2_col2\" class=\"data row2 col2\" >52.79%</td>\n",
       "                        <td id=\"T_ea3cdb92_d995_11ea_935b_8c859004fb9crow2_col3\" class=\"data row2 col3\" >18.27%</td>\n",
       "            </tr>\n",
       "            <tr>\n",
       "                        <th id=\"T_ea3cdb92_d995_11ea_935b_8c859004fb9clevel0_row3\" class=\"row_heading level0 row3\" >D</th>\n",
       "                        <td id=\"T_ea3cdb92_d995_11ea_935b_8c859004fb9crow3_col0\" class=\"data row3 col0\" >20.04%</td>\n",
       "                        <td id=\"T_ea3cdb92_d995_11ea_935b_8c859004fb9crow3_col1\" class=\"data row3 col1\" >4.85%</td>\n",
       "                        <td id=\"T_ea3cdb92_d995_11ea_935b_8c859004fb9crow3_col2\" class=\"data row3 col2\" >3.08%</td>\n",
       "                        <td id=\"T_ea3cdb92_d995_11ea_935b_8c859004fb9crow3_col3\" class=\"data row3 col3\" >72.03%</td>\n",
       "            </tr>\n",
       "    </tbody></table>"
      ],
      "text/plain": [
       "<pandas.io.formats.style.Styler at 0x7f8d45f7a990>"
      ]
     },
     "execution_count": 43,
     "metadata": {},
     "output_type": "execute_result"
    }
   ],
   "source": [
    "pd.crosstab(df_out['True'],df_out['Predicted'],margins=False,normalize='index').mul(100).style.background_gradient(axis=1).format(\"{:.2f}%\")"
   ]
  },
  {
   "cell_type": "code",
   "execution_count": 31,
   "metadata": {
    "ExecuteTime": {
     "end_time": "2020-08-08T16:05:39.372295Z",
     "start_time": "2020-08-08T16:05:39.369228Z"
    }
   },
   "outputs": [],
   "source": [
    "\"\"\"\n",
    "There are 394 true \"A\".\n",
    "Out of 394, only 189 are predicted as \"A\". 189/394= 44.97%.\n",
    "\n",
    "The classifier is the hard time classifying B.\n",
    "Many of actual class \"B\" are classified as C.\n",
    "\"\"\";"
   ]
  },
  {
   "cell_type": "code",
   "execution_count": null,
   "metadata": {},
   "outputs": [],
   "source": []
  }
 ],
 "metadata": {
  "kernelspec": {
   "display_name": "Python (dataSc)",
   "language": "python",
   "name": "datasc"
  },
  "language_info": {
   "codemirror_mode": {
    "name": "ipython",
    "version": 3
   },
   "file_extension": ".py",
   "mimetype": "text/x-python",
   "name": "python",
   "nbconvert_exporter": "python",
   "pygments_lexer": "ipython3",
   "version": "3.7.7"
  },
  "toc": {
   "base_numbering": 1,
   "nav_menu": {},
   "number_sections": true,
   "sideBar": true,
   "skip_h1_title": false,
   "title_cell": "Table of Contents",
   "title_sidebar": "Contents",
   "toc_cell": true,
   "toc_position": {},
   "toc_section_display": true,
   "toc_window_display": true
  },
  "varInspector": {
   "cols": {
    "lenName": 16,
    "lenType": 16,
    "lenVar": 40
   },
   "kernels_config": {
    "python": {
     "delete_cmd_postfix": "",
     "delete_cmd_prefix": "del ",
     "library": "var_list.py",
     "varRefreshCmd": "print(var_dic_list())"
    },
    "r": {
     "delete_cmd_postfix": ") ",
     "delete_cmd_prefix": "rm(",
     "library": "var_list.r",
     "varRefreshCmd": "cat(var_dic_list()) "
    }
   },
   "types_to_exclude": [
    "module",
    "function",
    "builtin_function_or_method",
    "instance",
    "_Feature"
   ],
   "window_display": false
  }
 },
 "nbformat": 4,
 "nbformat_minor": 4
}
