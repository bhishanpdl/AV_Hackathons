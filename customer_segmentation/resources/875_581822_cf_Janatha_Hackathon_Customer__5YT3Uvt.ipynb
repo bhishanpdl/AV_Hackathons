{
  "nbformat": 4,
  "nbformat_minor": 0,
  "metadata": {
    "colab": {
      "name": "Janatha Hackathon-Customer Segmentation.ipynb",
      "provenance": []
    },
    "kernelspec": {
      "name": "python3",
      "display_name": "Python 3"
    }
  },
  "cells": [
    {
      "cell_type": "code",
      "metadata": {
        "id": "V8seNykPu78t",
        "colab_type": "code",
        "colab": {}
      },
      "source": [
        "import pandas as pd\n",
        "import warnings\n",
        "warnings.filterwarnings(\"ignore\")\n",
        "from sklearn.model_selection import StratifiedKFold\n",
        "import lightgbm as lgb\n",
        "from sklearn.metrics import roc_auc_score\n",
        "import numpy as np\n",
        "from tqdm import tqdm\n",
        "from scipy import stats\n",
        "from fastai.tabular import * "
      ],
      "execution_count": 1,
      "outputs": []
    },
    {
      "cell_type": "code",
      "metadata": {
        "id": "_KgnqPIXvHfh",
        "colab_type": "code",
        "colab": {}
      },
      "source": [
        "from fastai import *\n",
        "from fastai.text import *\n",
        "from fastai.callbacks import *\n",
        "import numpy as np \n",
        "import pandas as pd \n",
        "from pathlib import Path \n",
        "import os\n"
      ],
      "execution_count": 2,
      "outputs": []
    },
    {
      "cell_type": "code",
      "metadata": {
        "id": "o_pxcJAZvfsf",
        "colab_type": "code",
        "colab": {}
      },
      "source": [
        "train=pd.read_csv('Train_aBjfeNk.csv')\n",
        "test=pd.read_csv('Test_LqhgPWU.csv')"
      ],
      "execution_count": 6,
      "outputs": []
    },
    {
      "cell_type": "code",
      "metadata": {
        "id": "Rnz7O-x3vwld",
        "colab_type": "code",
        "colab": {
          "base_uri": "https://localhost:8080/",
          "height": 379
        },
        "outputId": "02a40918-ea6c-4db3-dd25-b4bce5c4afcb"
      },
      "source": [
        "train.head(10)"
      ],
      "execution_count": 7,
      "outputs": [
        {
          "output_type": "execute_result",
          "data": {
            "text/html": [
              "<div>\n",
              "<style scoped>\n",
              "    .dataframe tbody tr th:only-of-type {\n",
              "        vertical-align: middle;\n",
              "    }\n",
              "\n",
              "    .dataframe tbody tr th {\n",
              "        vertical-align: top;\n",
              "    }\n",
              "\n",
              "    .dataframe thead th {\n",
              "        text-align: right;\n",
              "    }\n",
              "</style>\n",
              "<table border=\"1\" class=\"dataframe\">\n",
              "  <thead>\n",
              "    <tr style=\"text-align: right;\">\n",
              "      <th></th>\n",
              "      <th>ID</th>\n",
              "      <th>Gender</th>\n",
              "      <th>Ever_Married</th>\n",
              "      <th>Age</th>\n",
              "      <th>Graduated</th>\n",
              "      <th>Profession</th>\n",
              "      <th>Work_Experience</th>\n",
              "      <th>Spending_Score</th>\n",
              "      <th>Family_Size</th>\n",
              "      <th>Var_1</th>\n",
              "      <th>Segmentation</th>\n",
              "    </tr>\n",
              "  </thead>\n",
              "  <tbody>\n",
              "    <tr>\n",
              "      <th>0</th>\n",
              "      <td>462809</td>\n",
              "      <td>Male</td>\n",
              "      <td>No</td>\n",
              "      <td>22</td>\n",
              "      <td>No</td>\n",
              "      <td>Healthcare</td>\n",
              "      <td>1.0</td>\n",
              "      <td>Low</td>\n",
              "      <td>4.0</td>\n",
              "      <td>Cat_4</td>\n",
              "      <td>D</td>\n",
              "    </tr>\n",
              "    <tr>\n",
              "      <th>1</th>\n",
              "      <td>462643</td>\n",
              "      <td>Female</td>\n",
              "      <td>Yes</td>\n",
              "      <td>38</td>\n",
              "      <td>Yes</td>\n",
              "      <td>Engineer</td>\n",
              "      <td>NaN</td>\n",
              "      <td>Average</td>\n",
              "      <td>3.0</td>\n",
              "      <td>Cat_4</td>\n",
              "      <td>A</td>\n",
              "    </tr>\n",
              "    <tr>\n",
              "      <th>2</th>\n",
              "      <td>466315</td>\n",
              "      <td>Female</td>\n",
              "      <td>Yes</td>\n",
              "      <td>67</td>\n",
              "      <td>Yes</td>\n",
              "      <td>Engineer</td>\n",
              "      <td>1.0</td>\n",
              "      <td>Low</td>\n",
              "      <td>1.0</td>\n",
              "      <td>Cat_6</td>\n",
              "      <td>B</td>\n",
              "    </tr>\n",
              "    <tr>\n",
              "      <th>3</th>\n",
              "      <td>461735</td>\n",
              "      <td>Male</td>\n",
              "      <td>Yes</td>\n",
              "      <td>67</td>\n",
              "      <td>Yes</td>\n",
              "      <td>Lawyer</td>\n",
              "      <td>0.0</td>\n",
              "      <td>High</td>\n",
              "      <td>2.0</td>\n",
              "      <td>Cat_6</td>\n",
              "      <td>B</td>\n",
              "    </tr>\n",
              "    <tr>\n",
              "      <th>4</th>\n",
              "      <td>462669</td>\n",
              "      <td>Female</td>\n",
              "      <td>Yes</td>\n",
              "      <td>40</td>\n",
              "      <td>Yes</td>\n",
              "      <td>Entertainment</td>\n",
              "      <td>NaN</td>\n",
              "      <td>High</td>\n",
              "      <td>6.0</td>\n",
              "      <td>Cat_6</td>\n",
              "      <td>A</td>\n",
              "    </tr>\n",
              "    <tr>\n",
              "      <th>5</th>\n",
              "      <td>461319</td>\n",
              "      <td>Male</td>\n",
              "      <td>Yes</td>\n",
              "      <td>56</td>\n",
              "      <td>No</td>\n",
              "      <td>Artist</td>\n",
              "      <td>0.0</td>\n",
              "      <td>Average</td>\n",
              "      <td>2.0</td>\n",
              "      <td>Cat_6</td>\n",
              "      <td>C</td>\n",
              "    </tr>\n",
              "    <tr>\n",
              "      <th>6</th>\n",
              "      <td>460156</td>\n",
              "      <td>Male</td>\n",
              "      <td>No</td>\n",
              "      <td>32</td>\n",
              "      <td>Yes</td>\n",
              "      <td>Healthcare</td>\n",
              "      <td>1.0</td>\n",
              "      <td>Low</td>\n",
              "      <td>3.0</td>\n",
              "      <td>Cat_6</td>\n",
              "      <td>C</td>\n",
              "    </tr>\n",
              "    <tr>\n",
              "      <th>7</th>\n",
              "      <td>464347</td>\n",
              "      <td>Female</td>\n",
              "      <td>No</td>\n",
              "      <td>33</td>\n",
              "      <td>Yes</td>\n",
              "      <td>Healthcare</td>\n",
              "      <td>1.0</td>\n",
              "      <td>Low</td>\n",
              "      <td>3.0</td>\n",
              "      <td>Cat_6</td>\n",
              "      <td>D</td>\n",
              "    </tr>\n",
              "    <tr>\n",
              "      <th>8</th>\n",
              "      <td>465015</td>\n",
              "      <td>Female</td>\n",
              "      <td>Yes</td>\n",
              "      <td>61</td>\n",
              "      <td>Yes</td>\n",
              "      <td>Engineer</td>\n",
              "      <td>0.0</td>\n",
              "      <td>Low</td>\n",
              "      <td>3.0</td>\n",
              "      <td>Cat_7</td>\n",
              "      <td>D</td>\n",
              "    </tr>\n",
              "    <tr>\n",
              "      <th>9</th>\n",
              "      <td>465176</td>\n",
              "      <td>Female</td>\n",
              "      <td>Yes</td>\n",
              "      <td>55</td>\n",
              "      <td>Yes</td>\n",
              "      <td>Artist</td>\n",
              "      <td>1.0</td>\n",
              "      <td>Average</td>\n",
              "      <td>4.0</td>\n",
              "      <td>Cat_6</td>\n",
              "      <td>C</td>\n",
              "    </tr>\n",
              "  </tbody>\n",
              "</table>\n",
              "</div>"
            ],
            "text/plain": [
              "       ID  Gender Ever_Married  ...  Family_Size  Var_1 Segmentation\n",
              "0  462809    Male           No  ...          4.0  Cat_4            D\n",
              "1  462643  Female          Yes  ...          3.0  Cat_4            A\n",
              "2  466315  Female          Yes  ...          1.0  Cat_6            B\n",
              "3  461735    Male          Yes  ...          2.0  Cat_6            B\n",
              "4  462669  Female          Yes  ...          6.0  Cat_6            A\n",
              "5  461319    Male          Yes  ...          2.0  Cat_6            C\n",
              "6  460156    Male           No  ...          3.0  Cat_6            C\n",
              "7  464347  Female           No  ...          3.0  Cat_6            D\n",
              "8  465015  Female          Yes  ...          3.0  Cat_7            D\n",
              "9  465176  Female          Yes  ...          4.0  Cat_6            C\n",
              "\n",
              "[10 rows x 11 columns]"
            ]
          },
          "metadata": {
            "tags": []
          },
          "execution_count": 7
        }
      ]
    },
    {
      "cell_type": "code",
      "metadata": {
        "id": "ygibtOwnwiQM",
        "colab_type": "code",
        "colab": {
          "base_uri": "https://localhost:8080/",
          "height": 221
        },
        "outputId": "0a1eb8a2-2fcf-4138-b88e-b97adeec3511"
      },
      "source": [
        "train.isna().sum()"
      ],
      "execution_count": 8,
      "outputs": [
        {
          "output_type": "execute_result",
          "data": {
            "text/plain": [
              "ID                   0\n",
              "Gender               0\n",
              "Ever_Married       140\n",
              "Age                  0\n",
              "Graduated           78\n",
              "Profession         124\n",
              "Work_Experience    829\n",
              "Spending_Score       0\n",
              "Family_Size        335\n",
              "Var_1               76\n",
              "Segmentation         0\n",
              "dtype: int64"
            ]
          },
          "metadata": {
            "tags": []
          },
          "execution_count": 8
        }
      ]
    },
    {
      "cell_type": "markdown",
      "metadata": {
        "id": "QS5gdjFSxLtx",
        "colab_type": "text"
      },
      "source": [
        "**EDA**"
      ]
    },
    {
      "cell_type": "markdown",
      "metadata": {
        "id": "kFzY3VWZypqs",
        "colab_type": "text"
      },
      "source": [
        "##### Find % Missing Values in train and test"
      ]
    },
    {
      "cell_type": "code",
      "metadata": {
        "id": "5VOIV6onxOeJ",
        "colab_type": "code",
        "colab": {
          "base_uri": "https://localhost:8080/",
          "height": 136
        },
        "outputId": "0b4efb93-3446-47a2-bce7-cac1305cc5d9"
      },
      "source": [
        "missing_vals_train = train.isnull().sum() / train.shape[0]\n",
        "missing_vals_train[missing_vals_train > 0].sort_values(ascending=False)"
      ],
      "execution_count": 11,
      "outputs": [
        {
          "output_type": "execute_result",
          "data": {
            "text/plain": [
              "Work_Experience    0.102752\n",
              "Family_Size        0.041522\n",
              "Ever_Married       0.017353\n",
              "Profession         0.015369\n",
              "Graduated          0.009668\n",
              "Var_1              0.009420\n",
              "dtype: float64"
            ]
          },
          "metadata": {
            "tags": []
          },
          "execution_count": 11
        }
      ]
    },
    {
      "cell_type": "code",
      "metadata": {
        "id": "T0QgAlZwy0UP",
        "colab_type": "code",
        "colab": {
          "base_uri": "https://localhost:8080/",
          "height": 136
        },
        "outputId": "48639d2d-9edf-4a9e-b718-8b9d537ee62f"
      },
      "source": [
        "missing_vals_test = test.isnull().sum() / test.shape[0]\n",
        "missing_vals_test[missing_vals_test > 0].sort_values(ascending=False)"
      ],
      "execution_count": 12,
      "outputs": [
        {
          "output_type": "execute_result",
          "data": {
            "text/plain": [
              "Work_Experience    0.102398\n",
              "Family_Size        0.043015\n",
              "Ever_Married       0.019033\n",
              "Profession         0.014465\n",
              "Var_1              0.012181\n",
              "Graduated          0.009136\n",
              "dtype: float64"
            ]
          },
          "metadata": {
            "tags": []
          },
          "execution_count": 12
        }
      ]
    },
    {
      "cell_type": "markdown",
      "metadata": {
        "id": "OaAc_FhIzkPJ",
        "colab_type": "text"
      },
      "source": [
        "Get Gender Distribution in the train and test data"
      ]
    },
    {
      "cell_type": "code",
      "metadata": {
        "id": "51qKVTi5zEe7",
        "colab_type": "code",
        "colab": {
          "base_uri": "https://localhost:8080/",
          "height": 286
        },
        "outputId": "4b17e7e6-1dda-48f1-f459-24861f7e9182"
      },
      "source": [
        "import seaborn as sns\n",
        "fig, ax = plt.subplots(1,2,figsize=(20,5))\n",
        "sns.countplot(train.Gender, palette=\"Reds_r\", ax=ax[0]);\n",
        "ax[0].set_title(\"Train Gender counts\");\n",
        "\n",
        "sns.countplot(test.Gender, palette=\"Blues_r\", ax=ax[1]);\n",
        "ax[1].set_title(\"Test Gender counts\");"
      ],
      "execution_count": 17,
      "outputs": [
        {
          "output_type": "display_data",
          "data": {
            "image/png": "[encoded data removed]",
            "text/plain": [
              "<Figure size 1440x360 with 2 Axes>"
            ]
          },
          "metadata": {
            "tags": [],
            "needs_background": "light"
          }
        }
      ]
    },
    {
      "cell_type": "markdown",
      "metadata": {
        "id": "ynyrzMpF0RjS",
        "colab_type": "text"
      },
      "source": [
        "##### Check unique record of customers in train and test"
      ]
    },
    {
      "cell_type": "code",
      "metadata": {
        "id": "eVJvUBn-zroG",
        "colab_type": "code",
        "colab": {}
      },
      "source": [
        "customer_counts_train = train.ID.nunique()\n",
        "assert(customer_counts_train==train.shape[0])\n",
        "\n",
        "customer_counts_test = test.ID.nunique()\n",
        "assert(customer_counts_test==test.shape[0])\n"
      ],
      "execution_count": 24,
      "outputs": []
    },
    {
      "cell_type": "markdown",
      "metadata": {
        "id": "gGVryUoO10Xe",
        "colab_type": "text"
      },
      "source": [
        "##### We can find that train and test doesnt have lot of unique ids.Test consist of lot of train ids but with varied inputs.</br> We can find that 88% of test ids are already present in the train set. Out of them 5% are exact matches.</br> From the remaining 83% 43% are matching on all the attributes except age and 5% are matching on except work experience."
      ]
    },
    {
      "cell_type": "code",
      "metadata": {
        "id": "PvfpPII604Tn",
        "colab_type": "code",
        "colab": {
          "base_uri": "https://localhost:8080/",
          "height": 34
        },
        "outputId": "aa27fd85-2dd2-437a-be5f-c21562972092"
      },
      "source": [
        "test[test.ID.isin(train.ID.unique().tolist())].ID.count()/test.shape[0]"
      ],
      "execution_count": 36,
      "outputs": [
        {
          "output_type": "execute_result",
          "data": {
            "text/plain": [
              "0.8877046060144652"
            ]
          },
          "metadata": {
            "tags": []
          },
          "execution_count": 36
        }
      ]
    },
    {
      "cell_type": "markdown",
      "metadata": {
        "id": "Mw9_wnuU3Jry",
        "colab_type": "text"
      },
      "source": [
        "##### Find exact matches in both dataset"
      ]
    },
    {
      "cell_type": "code",
      "metadata": {
        "id": "kJtGLzan3Ng2",
        "colab_type": "code",
        "colab": {
          "base_uri": "https://localhost:8080/",
          "height": 34
        },
        "outputId": "60576012-69fc-40e6-8be2-1cf2762bfb76"
      },
      "source": [
        "pd.merge(train,test,how='inner', on=[\n",
        "  'ID',\n",
        " 'Gender',\n",
        " 'Ever_Married',\n",
        " 'Age',\n",
        " 'Graduated',\n",
        " 'Profession',\n",
        " 'Work_Experience',\n",
        " 'Spending_Score',\n",
        " 'Family_Size',\n",
        " 'Var_1'                                 \n",
        "]).shape[0]/test.shape[0]"
      ],
      "execution_count": 47,
      "outputs": [
        {
          "output_type": "execute_result",
          "data": {
            "text/plain": [
              "0.05177007993909402"
            ]
          },
          "metadata": {
            "tags": []
          },
          "execution_count": 47
        }
      ]
    },
    {
      "cell_type": "code",
      "metadata": {
        "id": "AqnQJDvr3tKz",
        "colab_type": "code",
        "colab": {
          "base_uri": "https://localhost:8080/",
          "height": 34
        },
        "outputId": "75e2b330-6926-463f-8662-329dda41fe32"
      },
      "source": [
        "pd.merge(train,test,how='inner', on=[\n",
        "  'ID',\n",
        " 'Gender',\n",
        " 'Ever_Married',\n",
        " 'Graduated',\n",
        " 'Profession',\n",
        " 'Work_Experience',\n",
        " 'Spending_Score',\n",
        " 'Family_Size',\n",
        " 'Var_1'                                 \n",
        "]).shape[0]/test.shape[0]"
      ],
      "execution_count": 53,
      "outputs": [
        {
          "output_type": "execute_result",
          "data": {
            "text/plain": [
              "0.4529881994670727"
            ]
          },
          "metadata": {
            "tags": []
          },
          "execution_count": 53
        }
      ]
    },
    {
      "cell_type": "code",
      "metadata": {
        "id": "taGRmYbg34kc",
        "colab_type": "code",
        "colab": {
          "base_uri": "https://localhost:8080/",
          "height": 34
        },
        "outputId": "6718de1a-501d-43f6-9825-2473d45564d0"
      },
      "source": [
        "pd.merge(train,test,how='inner', on=[\n",
        "  'ID',\n",
        " 'Gender',\n",
        " 'Ever_Married',\n",
        " 'Age',\n",
        " 'Graduated',\n",
        " 'Profession',\n",
        " 'Spending_Score',\n",
        " 'Family_Size',\n",
        " 'Var_1'                                 \n",
        "]).shape[0]/test.shape[0]"
      ],
      "execution_count": 54,
      "outputs": [
        {
          "output_type": "execute_result",
          "data": {
            "text/plain": [
              "0.10392082223068139"
            ]
          },
          "metadata": {
            "tags": []
          },
          "execution_count": 54
        }
      ]
    },
    {
      "cell_type": "code",
      "metadata": {
        "id": "ysdWtPd12KXr",
        "colab_type": "code",
        "colab": {}
      },
      "source": [
        "test_cpd.merge(train,test,how='left', on='ID')"
      ],
      "execution_count": 41,
      "outputs": []
    },
    {
      "cell_type": "code",
      "metadata": {
        "id": "jGS7eei82va_",
        "colab_type": "code",
        "colab": {
          "base_uri": "https://localhost:8080/",
          "height": 439
        },
        "outputId": "e8f6de05-5eb9-48e1-a173-f6135244e441"
      },
      "source": [
        "test_combine[\n",
        " (test_combine.Age_x==test_combine.Age_y)    \n",
        " &(test_combine.Age_x==test_combine.Age_y)      \n",
        "]"
      ],
      "execution_count": 44,
      "outputs": [
        {
          "output_type": "execute_result",
          "data": {
            "text/html": [
              "<div>\n",
              "<style scoped>\n",
              "    .dataframe tbody tr th:only-of-type {\n",
              "        vertical-align: middle;\n",
              "    }\n",
              "\n",
              "    .dataframe tbody tr th {\n",
              "        vertical-align: top;\n",
              "    }\n",
              "\n",
              "    .dataframe thead th {\n",
              "        text-align: right;\n",
              "    }\n",
              "</style>\n",
              "<table border=\"1\" class=\"dataframe\">\n",
              "  <thead>\n",
              "    <tr style=\"text-align: right;\">\n",
              "      <th></th>\n",
              "      <th>ID</th>\n",
              "      <th>Gender_x</th>\n",
              "      <th>Ever_Married_x</th>\n",
              "      <th>Age_x</th>\n",
              "      <th>Graduated_x</th>\n",
              "      <th>Profession_x</th>\n",
              "      <th>Work_Experience_x</th>\n",
              "      <th>Spending_Score_x</th>\n",
              "      <th>Family_Size_x</th>\n",
              "      <th>Var_1_x</th>\n",
              "      <th>Segmentation</th>\n",
              "      <th>Gender_y</th>\n",
              "      <th>Ever_Married_y</th>\n",
              "      <th>Age_y</th>\n",
              "      <th>Graduated_y</th>\n",
              "      <th>Profession_y</th>\n",
              "      <th>Work_Experience_y</th>\n",
              "      <th>Spending_Score_y</th>\n",
              "      <th>Family_Size_y</th>\n",
              "      <th>Var_1_y</th>\n",
              "    </tr>\n",
              "  </thead>\n",
              "  <tbody>\n",
              "    <tr>\n",
              "      <th>29</th>\n",
              "      <td>461996</td>\n",
              "      <td>Female</td>\n",
              "      <td>No</td>\n",
              "      <td>35</td>\n",
              "      <td>No</td>\n",
              "      <td>Artist</td>\n",
              "      <td>5.0</td>\n",
              "      <td>Low</td>\n",
              "      <td>4.0</td>\n",
              "      <td>Cat_6</td>\n",
              "      <td>C</td>\n",
              "      <td>Female</td>\n",
              "      <td>No</td>\n",
              "      <td>35.0</td>\n",
              "      <td>No</td>\n",
              "      <td>Artist</td>\n",
              "      <td>7.0</td>\n",
              "      <td>Low</td>\n",
              "      <td>4.0</td>\n",
              "      <td>Cat_6</td>\n",
              "    </tr>\n",
              "    <tr>\n",
              "      <th>32</th>\n",
              "      <td>462454</td>\n",
              "      <td>Male</td>\n",
              "      <td>No</td>\n",
              "      <td>19</td>\n",
              "      <td>No</td>\n",
              "      <td>Healthcare</td>\n",
              "      <td>1.0</td>\n",
              "      <td>Low</td>\n",
              "      <td>3.0</td>\n",
              "      <td>Cat_2</td>\n",
              "      <td>D</td>\n",
              "      <td>Male</td>\n",
              "      <td>No</td>\n",
              "      <td>19.0</td>\n",
              "      <td>No</td>\n",
              "      <td>Healthcare</td>\n",
              "      <td>1.0</td>\n",
              "      <td>Low</td>\n",
              "      <td>3.0</td>\n",
              "      <td>Cat_2</td>\n",
              "    </tr>\n",
              "    <tr>\n",
              "      <th>35</th>\n",
              "      <td>467917</td>\n",
              "      <td>Female</td>\n",
              "      <td>No</td>\n",
              "      <td>27</td>\n",
              "      <td>Yes</td>\n",
              "      <td>Healthcare</td>\n",
              "      <td>3.0</td>\n",
              "      <td>Low</td>\n",
              "      <td>4.0</td>\n",
              "      <td>Cat_1</td>\n",
              "      <td>D</td>\n",
              "      <td>Female</td>\n",
              "      <td>No</td>\n",
              "      <td>27.0</td>\n",
              "      <td>Yes</td>\n",
              "      <td>Healthcare</td>\n",
              "      <td>2.0</td>\n",
              "      <td>Low</td>\n",
              "      <td>4.0</td>\n",
              "      <td>Cat_1</td>\n",
              "    </tr>\n",
              "    <tr>\n",
              "      <th>39</th>\n",
              "      <td>467442</td>\n",
              "      <td>Male</td>\n",
              "      <td>Yes</td>\n",
              "      <td>56</td>\n",
              "      <td>Yes</td>\n",
              "      <td>Artist</td>\n",
              "      <td>NaN</td>\n",
              "      <td>Average</td>\n",
              "      <td>2.0</td>\n",
              "      <td>Cat_6</td>\n",
              "      <td>C</td>\n",
              "      <td>Male</td>\n",
              "      <td>Yes</td>\n",
              "      <td>56.0</td>\n",
              "      <td>Yes</td>\n",
              "      <td>Artist</td>\n",
              "      <td>NaN</td>\n",
              "      <td>Average</td>\n",
              "      <td>2.0</td>\n",
              "      <td>Cat_6</td>\n",
              "    </tr>\n",
              "    <tr>\n",
              "      <th>56</th>\n",
              "      <td>465769</td>\n",
              "      <td>Male</td>\n",
              "      <td>No</td>\n",
              "      <td>25</td>\n",
              "      <td>Yes</td>\n",
              "      <td>Healthcare</td>\n",
              "      <td>9.0</td>\n",
              "      <td>Low</td>\n",
              "      <td>4.0</td>\n",
              "      <td>Cat_6</td>\n",
              "      <td>D</td>\n",
              "      <td>Male</td>\n",
              "      <td>No</td>\n",
              "      <td>25.0</td>\n",
              "      <td>Yes</td>\n",
              "      <td>Healthcare</td>\n",
              "      <td>8.0</td>\n",
              "      <td>Low</td>\n",
              "      <td>4.0</td>\n",
              "      <td>Cat_6</td>\n",
              "    </tr>\n",
              "    <tr>\n",
              "      <th>...</th>\n",
              "      <td>...</td>\n",
              "      <td>...</td>\n",
              "      <td>...</td>\n",
              "      <td>...</td>\n",
              "      <td>...</td>\n",
              "      <td>...</td>\n",
              "      <td>...</td>\n",
              "      <td>...</td>\n",
              "      <td>...</td>\n",
              "      <td>...</td>\n",
              "      <td>...</td>\n",
              "      <td>...</td>\n",
              "      <td>...</td>\n",
              "      <td>...</td>\n",
              "      <td>...</td>\n",
              "      <td>...</td>\n",
              "      <td>...</td>\n",
              "      <td>...</td>\n",
              "      <td>...</td>\n",
              "      <td>...</td>\n",
              "    </tr>\n",
              "    <tr>\n",
              "      <th>7970</th>\n",
              "      <td>464739</td>\n",
              "      <td>Male</td>\n",
              "      <td>Yes</td>\n",
              "      <td>67</td>\n",
              "      <td>Yes</td>\n",
              "      <td>Artist</td>\n",
              "      <td>1.0</td>\n",
              "      <td>Low</td>\n",
              "      <td>1.0</td>\n",
              "      <td>Cat_4</td>\n",
              "      <td>B</td>\n",
              "      <td>Male</td>\n",
              "      <td>Yes</td>\n",
              "      <td>67.0</td>\n",
              "      <td>Yes</td>\n",
              "      <td>Artist</td>\n",
              "      <td>0.0</td>\n",
              "      <td>Low</td>\n",
              "      <td>1.0</td>\n",
              "      <td>Cat_4</td>\n",
              "    </tr>\n",
              "    <tr>\n",
              "      <th>8018</th>\n",
              "      <td>460935</td>\n",
              "      <td>Male</td>\n",
              "      <td>Yes</td>\n",
              "      <td>87</td>\n",
              "      <td>Yes</td>\n",
              "      <td>Lawyer</td>\n",
              "      <td>0.0</td>\n",
              "      <td>Low</td>\n",
              "      <td>1.0</td>\n",
              "      <td>Cat_6</td>\n",
              "      <td>D</td>\n",
              "      <td>Male</td>\n",
              "      <td>Yes</td>\n",
              "      <td>87.0</td>\n",
              "      <td>Yes</td>\n",
              "      <td>Lawyer</td>\n",
              "      <td>0.0</td>\n",
              "      <td>Low</td>\n",
              "      <td>1.0</td>\n",
              "      <td>Cat_6</td>\n",
              "    </tr>\n",
              "    <tr>\n",
              "      <th>8023</th>\n",
              "      <td>464274</td>\n",
              "      <td>Female</td>\n",
              "      <td>Yes</td>\n",
              "      <td>56</td>\n",
              "      <td>Yes</td>\n",
              "      <td>Artist</td>\n",
              "      <td>1.0</td>\n",
              "      <td>Average</td>\n",
              "      <td>5.0</td>\n",
              "      <td>Cat_6</td>\n",
              "      <td>C</td>\n",
              "      <td>Female</td>\n",
              "      <td>Yes</td>\n",
              "      <td>56.0</td>\n",
              "      <td>Yes</td>\n",
              "      <td>Artist</td>\n",
              "      <td>1.0</td>\n",
              "      <td>Average</td>\n",
              "      <td>5.0</td>\n",
              "      <td>Cat_6</td>\n",
              "    </tr>\n",
              "    <tr>\n",
              "      <th>8036</th>\n",
              "      <td>461612</td>\n",
              "      <td>Female</td>\n",
              "      <td>No</td>\n",
              "      <td>31</td>\n",
              "      <td>Yes</td>\n",
              "      <td>Healthcare</td>\n",
              "      <td>8.0</td>\n",
              "      <td>Low</td>\n",
              "      <td>5.0</td>\n",
              "      <td>Cat_6</td>\n",
              "      <td>C</td>\n",
              "      <td>Female</td>\n",
              "      <td>No</td>\n",
              "      <td>31.0</td>\n",
              "      <td>Yes</td>\n",
              "      <td>Healthcare</td>\n",
              "      <td>8.0</td>\n",
              "      <td>Low</td>\n",
              "      <td>5.0</td>\n",
              "      <td>Cat_6</td>\n",
              "    </tr>\n",
              "    <tr>\n",
              "      <th>8064</th>\n",
              "      <td>464685</td>\n",
              "      <td>Male</td>\n",
              "      <td>No</td>\n",
              "      <td>35</td>\n",
              "      <td>No</td>\n",
              "      <td>Executive</td>\n",
              "      <td>3.0</td>\n",
              "      <td>Low</td>\n",
              "      <td>4.0</td>\n",
              "      <td>Cat_4</td>\n",
              "      <td>D</td>\n",
              "      <td>Male</td>\n",
              "      <td>No</td>\n",
              "      <td>35.0</td>\n",
              "      <td>No</td>\n",
              "      <td>Executive</td>\n",
              "      <td>2.0</td>\n",
              "      <td>Low</td>\n",
              "      <td>4.0</td>\n",
              "      <td>Cat_4</td>\n",
              "    </tr>\n",
              "  </tbody>\n",
              "</table>\n",
              "<p>273 rows × 20 columns</p>\n",
              "</div>"
            ],
            "text/plain": [
              "          ID Gender_x Ever_Married_x  ...  Spending_Score_y Family_Size_y Var_1_y\n",
              "29    461996   Female             No  ...               Low           4.0   Cat_6\n",
              "32    462454     Male             No  ...               Low           3.0   Cat_2\n",
              "35    467917   Female             No  ...               Low           4.0   Cat_1\n",
              "39    467442     Male            Yes  ...           Average           2.0   Cat_6\n",
              "56    465769     Male             No  ...               Low           4.0   Cat_6\n",
              "...      ...      ...            ...  ...               ...           ...     ...\n",
              "7970  464739     Male            Yes  ...               Low           1.0   Cat_4\n",
              "8018  460935     Male            Yes  ...               Low           1.0   Cat_6\n",
              "8023  464274   Female            Yes  ...           Average           5.0   Cat_6\n",
              "8036  461612   Female             No  ...               Low           5.0   Cat_6\n",
              "8064  464685     Male             No  ...               Low           4.0   Cat_4\n",
              "\n",
              "[273 rows x 20 columns]"
            ]
          },
          "metadata": {
            "tags": []
          },
          "execution_count": 44
        }
      ]
    },
    {
      "cell_type": "code",
      "metadata": {
        "id": "Ezp7tziL0p8x",
        "colab_type": "code",
        "colab": {
          "base_uri": "https://localhost:8080/",
          "height": 439
        },
        "outputId": "c963b596-b805-4861-c2d3-d156e4573334"
      },
      "source": [
        "test[test.ID.isin(train.ID.unique().tolist())]"
      ],
      "execution_count": 26,
      "outputs": [
        {
          "output_type": "execute_result",
          "data": {
            "text/html": [
              "<div>\n",
              "<style scoped>\n",
              "    .dataframe tbody tr th:only-of-type {\n",
              "        vertical-align: middle;\n",
              "    }\n",
              "\n",
              "    .dataframe tbody tr th {\n",
              "        vertical-align: top;\n",
              "    }\n",
              "\n",
              "    .dataframe thead th {\n",
              "        text-align: right;\n",
              "    }\n",
              "</style>\n",
              "<table border=\"1\" class=\"dataframe\">\n",
              "  <thead>\n",
              "    <tr style=\"text-align: right;\">\n",
              "      <th></th>\n",
              "      <th>ID</th>\n",
              "      <th>Gender</th>\n",
              "      <th>Ever_Married</th>\n",
              "      <th>Age</th>\n",
              "      <th>Graduated</th>\n",
              "      <th>Profession</th>\n",
              "      <th>Work_Experience</th>\n",
              "      <th>Spending_Score</th>\n",
              "      <th>Family_Size</th>\n",
              "      <th>Var_1</th>\n",
              "    </tr>\n",
              "  </thead>\n",
              "  <tbody>\n",
              "    <tr>\n",
              "      <th>0</th>\n",
              "      <td>458989</td>\n",
              "      <td>Female</td>\n",
              "      <td>Yes</td>\n",
              "      <td>36</td>\n",
              "      <td>Yes</td>\n",
              "      <td>Engineer</td>\n",
              "      <td>0.0</td>\n",
              "      <td>Low</td>\n",
              "      <td>1.0</td>\n",
              "      <td>Cat_6</td>\n",
              "    </tr>\n",
              "    <tr>\n",
              "      <th>1</th>\n",
              "      <td>458994</td>\n",
              "      <td>Male</td>\n",
              "      <td>Yes</td>\n",
              "      <td>37</td>\n",
              "      <td>Yes</td>\n",
              "      <td>Healthcare</td>\n",
              "      <td>8.0</td>\n",
              "      <td>Average</td>\n",
              "      <td>4.0</td>\n",
              "      <td>Cat_6</td>\n",
              "    </tr>\n",
              "    <tr>\n",
              "      <th>2</th>\n",
              "      <td>458996</td>\n",
              "      <td>Female</td>\n",
              "      <td>Yes</td>\n",
              "      <td>69</td>\n",
              "      <td>No</td>\n",
              "      <td>NaN</td>\n",
              "      <td>0.0</td>\n",
              "      <td>Low</td>\n",
              "      <td>1.0</td>\n",
              "      <td>Cat_6</td>\n",
              "    </tr>\n",
              "    <tr>\n",
              "      <th>3</th>\n",
              "      <td>459000</td>\n",
              "      <td>Male</td>\n",
              "      <td>Yes</td>\n",
              "      <td>59</td>\n",
              "      <td>No</td>\n",
              "      <td>Executive</td>\n",
              "      <td>11.0</td>\n",
              "      <td>High</td>\n",
              "      <td>2.0</td>\n",
              "      <td>Cat_6</td>\n",
              "    </tr>\n",
              "    <tr>\n",
              "      <th>4</th>\n",
              "      <td>459001</td>\n",
              "      <td>Female</td>\n",
              "      <td>No</td>\n",
              "      <td>19</td>\n",
              "      <td>No</td>\n",
              "      <td>Marketing</td>\n",
              "      <td>NaN</td>\n",
              "      <td>Low</td>\n",
              "      <td>4.0</td>\n",
              "      <td>Cat_6</td>\n",
              "    </tr>\n",
              "    <tr>\n",
              "      <th>...</th>\n",
              "      <td>...</td>\n",
              "      <td>...</td>\n",
              "      <td>...</td>\n",
              "      <td>...</td>\n",
              "      <td>...</td>\n",
              "      <td>...</td>\n",
              "      <td>...</td>\n",
              "      <td>...</td>\n",
              "      <td>...</td>\n",
              "      <td>...</td>\n",
              "    </tr>\n",
              "    <tr>\n",
              "      <th>2620</th>\n",
              "      <td>467949</td>\n",
              "      <td>Male</td>\n",
              "      <td>No</td>\n",
              "      <td>21</td>\n",
              "      <td>No</td>\n",
              "      <td>Healthcare</td>\n",
              "      <td>1.0</td>\n",
              "      <td>Low</td>\n",
              "      <td>4.0</td>\n",
              "      <td>Cat_4</td>\n",
              "    </tr>\n",
              "    <tr>\n",
              "      <th>2621</th>\n",
              "      <td>467950</td>\n",
              "      <td>Female</td>\n",
              "      <td>No</td>\n",
              "      <td>35</td>\n",
              "      <td>Yes</td>\n",
              "      <td>Entertainment</td>\n",
              "      <td>1.0</td>\n",
              "      <td>Low</td>\n",
              "      <td>2.0</td>\n",
              "      <td>Cat_6</td>\n",
              "    </tr>\n",
              "    <tr>\n",
              "      <th>2622</th>\n",
              "      <td>467954</td>\n",
              "      <td>Male</td>\n",
              "      <td>No</td>\n",
              "      <td>29</td>\n",
              "      <td>No</td>\n",
              "      <td>Healthcare</td>\n",
              "      <td>9.0</td>\n",
              "      <td>Low</td>\n",
              "      <td>4.0</td>\n",
              "      <td>Cat_6</td>\n",
              "    </tr>\n",
              "    <tr>\n",
              "      <th>2623</th>\n",
              "      <td>467958</td>\n",
              "      <td>Female</td>\n",
              "      <td>No</td>\n",
              "      <td>35</td>\n",
              "      <td>Yes</td>\n",
              "      <td>Doctor</td>\n",
              "      <td>1.0</td>\n",
              "      <td>Low</td>\n",
              "      <td>1.0</td>\n",
              "      <td>Cat_6</td>\n",
              "    </tr>\n",
              "    <tr>\n",
              "      <th>2625</th>\n",
              "      <td>467961</td>\n",
              "      <td>Male</td>\n",
              "      <td>Yes</td>\n",
              "      <td>47</td>\n",
              "      <td>Yes</td>\n",
              "      <td>Executive</td>\n",
              "      <td>1.0</td>\n",
              "      <td>High</td>\n",
              "      <td>5.0</td>\n",
              "      <td>Cat_4</td>\n",
              "    </tr>\n",
              "  </tbody>\n",
              "</table>\n",
              "<p>2332 rows × 10 columns</p>\n",
              "</div>"
            ],
            "text/plain": [
              "          ID  Gender Ever_Married  ...  Spending_Score Family_Size  Var_1\n",
              "0     458989  Female          Yes  ...             Low         1.0  Cat_6\n",
              "1     458994    Male          Yes  ...         Average         4.0  Cat_6\n",
              "2     458996  Female          Yes  ...             Low         1.0  Cat_6\n",
              "3     459000    Male          Yes  ...            High         2.0  Cat_6\n",
              "4     459001  Female           No  ...             Low         4.0  Cat_6\n",
              "...      ...     ...          ...  ...             ...         ...    ...\n",
              "2620  467949    Male           No  ...             Low         4.0  Cat_4\n",
              "2621  467950  Female           No  ...             Low         2.0  Cat_6\n",
              "2622  467954    Male           No  ...             Low         4.0  Cat_6\n",
              "2623  467958  Female           No  ...             Low         1.0  Cat_6\n",
              "2625  467961    Male          Yes  ...            High         5.0  Cat_4\n",
              "\n",
              "[2332 rows x 10 columns]"
            ]
          },
          "metadata": {
            "tags": []
          },
          "execution_count": 26
        }
      ]
    },
    {
      "cell_type": "markdown",
      "metadata": {
        "id": "uFYPkAh2zr-7",
        "colab_type": "text"
      },
      "source": [
        "#### Get Age Distribution in train and test"
      ]
    },
    {
      "cell_type": "code",
      "metadata": {
        "id": "0D31fU4nzaQy",
        "colab_type": "code",
        "colab": {
          "base_uri": "https://localhost:8080/",
          "height": 278
        },
        "outputId": "60b8c326-a02e-4679-82aa-d87618c0bdee"
      },
      "source": [
        "fig, ax = plt.subplots(1,2,figsize=(20,5))\n",
        "\n",
        "sns.countplot(train.Age, color=\"orangered\", ax=ax[0]);\n",
        "labels = ax[0].get_xticklabels();\n",
        "ax[0].set_xticklabels(labels, rotation=90);\n",
        "ax[0].set_xlabel(\"\");\n",
        "ax[0].set_title(\"Age distribution in train\");\n",
        "\n",
        "sns.countplot(test.Age, color=\"lightseagreen\", ax=ax[1]);\n",
        "labels = ax[1].get_xticklabels();\n",
        "ax[1].set_xticklabels(labels, rotation=90);\n",
        "ax[1].set_xlabel(\"\");\n",
        "ax[1].set_title(\"Age distribution in test\");"
      ],
      "execution_count": 18,
      "outputs": [
        {
          "output_type": "display_data",
          "data": {
            "image/png": "[encoded data removed]",
            "text/plain": [
              "<Figure size 1440x360 with 2 Axes>"
            ]
          },
          "metadata": {
            "tags": [],
            "needs_background": "light"
          }
        }
      ]
    },
    {
      "cell_type": "code",
      "metadata": {
        "id": "oGN5W7fP4iGo",
        "colab_type": "code",
        "colab": {
          "base_uri": "https://localhost:8080/",
          "height": 280
        },
        "outputId": "ea130484-65b1-4a78-dba5-159c49338bd7"
      },
      "source": [
        "fig, ax = plt.subplots(1,2,figsize=(20,5))\n",
        "\n",
        "sns.countplot(train.Family_Size, color=\"orangered\", ax=ax[0]);\n",
        "labels = ax[0].get_xticklabels();\n",
        "ax[0].set_xticklabels(labels, rotation=90);\n",
        "ax[0].set_xlabel(\"\");\n",
        "ax[0].set_title(\"Spending distribution in train\");\n",
        "\n",
        "sns.countplot(test.Family_Size, color=\"lightseagreen\", ax=ax[1]);\n",
        "labels = ax[1].get_xticklabels();\n",
        "ax[1].set_xticklabels(labels, rotation=90);\n",
        "ax[1].set_xlabel(\"\");\n",
        "ax[1].set_title(\"Spending distribution in test\");"
      ],
      "execution_count": 59,
      "outputs": [
        {
          "output_type": "display_data",
          "data": {
            "image/png": "[encoded data removed]",
            "text/plain": [
              "<Figure size 1440x360 with 2 Axes>"
            ]
          },
          "metadata": {
            "tags": [],
            "needs_background": "light"
          }
        }
      ]
    },
    {
      "cell_type": "code",
      "metadata": {
        "id": "30gTTlpnzTkJ",
        "colab_type": "code",
        "colab": {
          "base_uri": "https://localhost:8080/",
          "height": 204
        },
        "outputId": "032c7665-8231-4248-b484-21add3932133"
      },
      "source": [
        "train.columns.tolist()"
      ],
      "execution_count": 57,
      "outputs": [
        {
          "output_type": "execute_result",
          "data": {
            "text/plain": [
              "['ID',\n",
              " 'Gender',\n",
              " 'Ever_Married',\n",
              " 'Age',\n",
              " 'Graduated',\n",
              " 'Profession',\n",
              " 'Work_Experience',\n",
              " 'Spending_Score',\n",
              " 'Family_Size',\n",
              " 'Var_1',\n",
              " 'Segmentation']"
            ]
          },
          "metadata": {
            "tags": []
          },
          "execution_count": 57
        }
      ]
    },
    {
      "cell_type": "code",
      "metadata": {
        "id": "T-WVStLFvxs9",
        "colab_type": "code",
        "colab": {
          "base_uri": "https://localhost:8080/",
          "height": 34
        },
        "outputId": "2a7f1543-9c86-4e79-ad7d-48b479d5d95c"
      },
      "source": [
        "procs = [FillMissing, Categorify, Normalize]\n",
        "valid_idx = range(len(train)-200, len(train))\n",
        "cont_names=['Age']\n",
        "cat_names=['Ever_Married','Spending_Score','Profession','Graduated','Gender','Var_1','Work_Experience','Family_Size']\n",
        "dep_var = 'Segmentation'\n",
        "path=Path('.')\n",
        "valid_idx"
      ],
      "execution_count": 61,
      "outputs": [
        {
          "output_type": "execute_result",
          "data": {
            "text/plain": [
              "range(7868, 8068)"
            ]
          },
          "metadata": {
            "tags": []
          },
          "execution_count": 61
        }
      ]
    },
    {
      "cell_type": "code",
      "metadata": {
        "id": "AkPxWu9twSZw",
        "colab_type": "code",
        "colab": {}
      },
      "source": [
        "data = (TabularList.from_df(train, path=path,cat_names=cat_names,cont_names=cont_names, procs=procs)\n",
        "                           .split_by_idx(valid_idx)\n",
        "                           .label_from_df(cols=dep_var, label_cls=CategoryList)\n",
        "                           .add_test(TabularList.from_df(test, path=path,cat_names=cat_names,cont_names=cont_names,  procs=procs))\n",
        "                           .databunch())"
      ],
      "execution_count": 62,
      "outputs": []
    },
    {
      "cell_type": "code",
      "metadata": {
        "id": "ZzoL0ZOC6s__",
        "colab_type": "code",
        "colab": {
          "base_uri": "https://localhost:8080/",
          "height": 34
        },
        "outputId": "9297284c-a1a4-4e13-bfc4-efb769ed2911"
      },
      "source": [
        "data.y.classes"
      ],
      "execution_count": 72,
      "outputs": [
        {
          "output_type": "execute_result",
          "data": {
            "text/plain": [
              "['A', 'B', 'C', 'D']"
            ]
          },
          "metadata": {
            "tags": []
          },
          "execution_count": 72
        }
      ]
    },
    {
      "cell_type": "code",
      "metadata": {
        "id": "QWwcaGhPwTpq",
        "colab_type": "code",
        "colab": {}
      },
      "source": [
        "np.random.seed(1234)\n",
        "learn = tabular_learner(data, layers=[500,250,100],\n",
        "                        emb_drop= 0.04,\n",
        "                        ps=[0.05,0.01,0.01],\n",
        "                        callback_fns=ShowGraph,metrics=accuracy)\n"
      ],
      "execution_count": 64,
      "outputs": []
    },
    {
      "cell_type": "code",
      "metadata": {
        "id": "uiyKIpsTwWBl",
        "colab_type": "code",
        "colab": {
          "base_uri": "https://localhost:8080/",
          "height": 359
        },
        "outputId": "7e7a8815-6f5a-4b24-c9d5-5fa691a67861"
      },
      "source": [
        "learn.fit_one_cycle(2)"
      ],
      "execution_count": 65,
      "outputs": [
        {
          "output_type": "display_data",
          "data": {
            "text/html": [
              "<table border=\"1\" class=\"dataframe\">\n",
              "  <thead>\n",
              "    <tr style=\"text-align: left;\">\n",
              "      <th>epoch</th>\n",
              "      <th>train_loss</th>\n",
              "      <th>valid_loss</th>\n",
              "      <th>accuracy</th>\n",
              "      <th>time</th>\n",
              "    </tr>\n",
              "  </thead>\n",
              "  <tbody>\n",
              "    <tr>\n",
              "      <td>0</td>\n",
              "      <td>1.146298</td>\n",
              "      <td>1.079605</td>\n",
              "      <td>0.560000</td>\n",
              "      <td>00:03</td>\n",
              "    </tr>\n",
              "    <tr>\n",
              "      <td>1</td>\n",
              "      <td>1.072705</td>\n",
              "      <td>1.078757</td>\n",
              "      <td>0.545000</td>\n",
              "      <td>00:02</td>\n",
              "    </tr>\n",
              "  </tbody>\n",
              "</table>"
            ],
            "text/plain": [
              "<IPython.core.display.HTML object>"
            ]
          },
          "metadata": {
            "tags": []
          }
        },
        {
          "output_type": "display_data",
          "data": {
            "image/png": "[encoded data removed]",
            "text/plain": [
              "<Figure size 432x288 with 1 Axes>"
            ]
          },
          "metadata": {
            "tags": []
          }
        }
      ]
    },
    {
      "cell_type": "code",
      "metadata": {
        "id": "da563Amo55ro",
        "colab_type": "code",
        "colab": {
          "base_uri": "https://localhost:8080/",
          "height": 670
        },
        "outputId": "5de5eb24-0b22-4735-e94f-cc6ce50120f0"
      },
      "source": [
        "learn.lr_find()\n",
        "learn.recorder.plot(suggestion=True)\n",
        "learn.model\n",
        "learn.recorder.plot_losses()"
      ],
      "execution_count": 66,
      "outputs": [
        {
          "output_type": "display_data",
          "data": {
            "text/html": [
              "\n",
              "    <div>\n",
              "        <style>\n",
              "            /* Turns off some styling */\n",
              "            progress {\n",
              "                /* gets rid of default border in Firefox and Opera. */\n",
              "                border: none;\n",
              "                /* Needs to be in here for Safari polyfill so background images work as expected. */\n",
              "                background-size: auto;\n",
              "            }\n",
              "            .progress-bar-interrupted, .progress-bar-interrupted::-webkit-progress-bar {\n",
              "                background: #F44336;\n",
              "            }\n",
              "        </style>\n",
              "      <progress value='0' class='' max='1' style='width:300px; height:20px; vertical-align: middle;'></progress>\n",
              "      0.00% [0/1 00:00<00:00]\n",
              "    </div>\n",
              "    \n",
              "<table border=\"1\" class=\"dataframe\">\n",
              "  <thead>\n",
              "    <tr style=\"text-align: left;\">\n",
              "      <th>epoch</th>\n",
              "      <th>train_loss</th>\n",
              "      <th>valid_loss</th>\n",
              "      <th>accuracy</th>\n",
              "      <th>time</th>\n",
              "    </tr>\n",
              "  </thead>\n",
              "  <tbody>\n",
              "  </tbody>\n",
              "</table><p>\n",
              "\n",
              "    <div>\n",
              "        <style>\n",
              "            /* Turns off some styling */\n",
              "            progress {\n",
              "                /* gets rid of default border in Firefox and Opera. */\n",
              "                border: none;\n",
              "                /* Needs to be in here for Safari polyfill so background images work as expected. */\n",
              "                background-size: auto;\n",
              "            }\n",
              "            .progress-bar-interrupted, .progress-bar-interrupted::-webkit-progress-bar {\n",
              "                background: #F44336;\n",
              "            }\n",
              "        </style>\n",
              "      <progress value='94' class='' max='122' style='width:300px; height:20px; vertical-align: middle;'></progress>\n",
              "      77.05% [94/122 00:01<00:00 3.3621]\n",
              "    </div>\n",
              "    "
            ],
            "text/plain": [
              "<IPython.core.display.HTML object>"
            ]
          },
          "metadata": {
            "tags": []
          }
        },
        {
          "output_type": "stream",
          "text": [
            "LR Finder is complete, type {learner_name}.recorder.plot() to see the graph.\n",
            "Min numerical gradient: 2.29E-06\n",
            "Min loss divided by 10: 1.58E-05\n"
          ],
          "name": "stdout"
        },
        {
          "output_type": "display_data",
          "data": {
            "image/png": "[encoded data removed]",
            "text/plain": [
              "<Figure size 432x288 with 1 Axes>"
            ]
          },
          "metadata": {
            "tags": [],
            "needs_background": "light"
          }
        },
        {
          "output_type": "display_data",
          "data": {
            "image/png": "[encoded data removed]",
            "text/plain": [
              "<Figure size 432x288 with 1 Axes>"
            ]
          },
          "metadata": {
            "tags": [],
            "needs_background": "light"
          }
        }
      ]
    },
    {
      "cell_type": "code",
      "metadata": {
        "id": "ZyLV2oIv6HeA",
        "colab_type": "code",
        "colab": {
          "base_uri": "https://localhost:8080/",
          "height": 452
        },
        "outputId": "cc145aa5-64b2-4bd7-b22d-d5358b752ed3"
      },
      "source": [
        "learn.fit_one_cycle(5, 2e-06, wd=0.2)"
      ],
      "execution_count": 67,
      "outputs": [
        {
          "output_type": "display_data",
          "data": {
            "text/html": [
              "<table border=\"1\" class=\"dataframe\">\n",
              "  <thead>\n",
              "    <tr style=\"text-align: left;\">\n",
              "      <th>epoch</th>\n",
              "      <th>train_loss</th>\n",
              "      <th>valid_loss</th>\n",
              "      <th>accuracy</th>\n",
              "      <th>time</th>\n",
              "    </tr>\n",
              "  </thead>\n",
              "  <tbody>\n",
              "    <tr>\n",
              "      <td>0</td>\n",
              "      <td>1.064492</td>\n",
              "      <td>1.078276</td>\n",
              "      <td>0.535000</td>\n",
              "      <td>00:02</td>\n",
              "    </tr>\n",
              "    <tr>\n",
              "      <td>1</td>\n",
              "      <td>1.054135</td>\n",
              "      <td>1.073987</td>\n",
              "      <td>0.535000</td>\n",
              "      <td>00:02</td>\n",
              "    </tr>\n",
              "    <tr>\n",
              "      <td>2</td>\n",
              "      <td>1.047986</td>\n",
              "      <td>1.075144</td>\n",
              "      <td>0.530000</td>\n",
              "      <td>00:02</td>\n",
              "    </tr>\n",
              "    <tr>\n",
              "      <td>3</td>\n",
              "      <td>1.054602</td>\n",
              "      <td>1.073913</td>\n",
              "      <td>0.535000</td>\n",
              "      <td>00:02</td>\n",
              "    </tr>\n",
              "    <tr>\n",
              "      <td>4</td>\n",
              "      <td>1.048478</td>\n",
              "      <td>1.075132</td>\n",
              "      <td>0.530000</td>\n",
              "      <td>00:02</td>\n",
              "    </tr>\n",
              "  </tbody>\n",
              "</table>"
            ],
            "text/plain": [
              "<IPython.core.display.HTML object>"
            ]
          },
          "metadata": {
            "tags": []
          }
        },
        {
          "output_type": "display_data",
          "data": {
            "image/png": "[encoded data removed]",
            "text/plain": [
              "<Figure size 432x288 with 1 Axes>"
            ]
          },
          "metadata": {
            "tags": []
          }
        }
      ]
    },
    {
      "cell_type": "code",
      "metadata": {
        "id": "LcPf4WEO6KWx",
        "colab_type": "code",
        "colab": {
          "base_uri": "https://localhost:8080/",
          "height": 34
        },
        "outputId": "d56bc5b0-a81c-4bf6-8609-e9140c08302a"
      },
      "source": [
        "preds, y = learn.get_preds(ds_type=DatasetType.Test)\n",
        "y"
      ],
      "execution_count": 82,
      "outputs": [
        {
          "output_type": "display_data",
          "data": {
            "text/html": [
              ""
            ],
            "text/plain": [
              "<IPython.core.display.HTML object>"
            ]
          },
          "metadata": {
            "tags": []
          }
        },
        {
          "output_type": "execute_result",
          "data": {
            "text/plain": [
              "tensor([0, 0, 0,  ..., 0, 0, 0])"
            ]
          },
          "metadata": {
            "tags": []
          },
          "execution_count": 82
        }
      ]
    },
    {
      "cell_type": "code",
      "metadata": {
        "id": "gkcUWIj36Lw9",
        "colab_type": "code",
        "colab": {}
      },
      "source": [
        "\n",
        "test['newpred'] = np.argmax(preds,1)\n",
        "cat_map = {\n",
        "    0:\"A\",\n",
        "    1:\"B\",\n",
        "    2:\"C\",\n",
        "    3:\"D\"\n",
        "}\n",
        "test[\"newpredc\"] = test['newpred'].map(cat_map)\n"
      ],
      "execution_count": 87,
      "outputs": []
    },
    {
      "cell_type": "code",
      "metadata": {
        "id": "v8b-yaMT8gsQ",
        "colab_type": "code",
        "colab": {}
      },
      "source": [
        "train[['ID','Segmentation']]"
      ],
      "execution_count": null,
      "outputs": []
    },
    {
      "cell_type": "code",
      "metadata": {
        "id": "pjgYnb6q8eKP",
        "colab_type": "code",
        "colab": {}
      },
      "source": [
        "check_restults=pd.merge(test, train, how='left', on = 'ID')"
      ],
      "execution_count": 91,
      "outputs": []
    },
    {
      "cell_type": "code",
      "metadata": {
        "id": "4egnxLLi_Jjg",
        "colab_type": "code",
        "colab": {
          "base_uri": "https://localhost:8080/",
          "height": 439
        },
        "outputId": "3c67bf72-d0dc-4844-925e-be4ae35cf828"
      },
      "source": [
        "check_restults[check_restults.Segmentation.isnull()]"
      ],
      "execution_count": 98,
      "outputs": [
        {
          "output_type": "execute_result",
          "data": {
            "text/html": [
              "<div>\n",
              "<style scoped>\n",
              "    .dataframe tbody tr th:only-of-type {\n",
              "        vertical-align: middle;\n",
              "    }\n",
              "\n",
              "    .dataframe tbody tr th {\n",
              "        vertical-align: top;\n",
              "    }\n",
              "\n",
              "    .dataframe thead th {\n",
              "        text-align: right;\n",
              "    }\n",
              "</style>\n",
              "<table border=\"1\" class=\"dataframe\">\n",
              "  <thead>\n",
              "    <tr style=\"text-align: right;\">\n",
              "      <th></th>\n",
              "      <th>ID</th>\n",
              "      <th>Gender_x</th>\n",
              "      <th>Ever_Married_x</th>\n",
              "      <th>Age_x</th>\n",
              "      <th>Graduated_x</th>\n",
              "      <th>Profession_x</th>\n",
              "      <th>Work_Experience_x</th>\n",
              "      <th>Spending_Score_x</th>\n",
              "      <th>Family_Size_x</th>\n",
              "      <th>Var_1_x</th>\n",
              "      <th>newpred</th>\n",
              "      <th>newpredc</th>\n",
              "      <th>Gender_y</th>\n",
              "      <th>Ever_Married_y</th>\n",
              "      <th>Age_y</th>\n",
              "      <th>Graduated_y</th>\n",
              "      <th>Profession_y</th>\n",
              "      <th>Work_Experience_y</th>\n",
              "      <th>Spending_Score_y</th>\n",
              "      <th>Family_Size_y</th>\n",
              "      <th>Var_1_y</th>\n",
              "      <th>Segmentation</th>\n",
              "    </tr>\n",
              "  </thead>\n",
              "  <tbody>\n",
              "    <tr>\n",
              "      <th>6</th>\n",
              "      <td>459005</td>\n",
              "      <td>Male</td>\n",
              "      <td>Yes</td>\n",
              "      <td>61</td>\n",
              "      <td>Yes</td>\n",
              "      <td>Doctor</td>\n",
              "      <td>5.0</td>\n",
              "      <td>Low</td>\n",
              "      <td>3.0</td>\n",
              "      <td>Cat_6</td>\n",
              "      <td>1</td>\n",
              "      <td>B</td>\n",
              "      <td>NaN</td>\n",
              "      <td>NaN</td>\n",
              "      <td>NaN</td>\n",
              "      <td>NaN</td>\n",
              "      <td>NaN</td>\n",
              "      <td>NaN</td>\n",
              "      <td>NaN</td>\n",
              "      <td>NaN</td>\n",
              "      <td>NaN</td>\n",
              "      <td>NaN</td>\n",
              "    </tr>\n",
              "    <tr>\n",
              "      <th>19</th>\n",
              "      <td>459045</td>\n",
              "      <td>Female</td>\n",
              "      <td>Yes</td>\n",
              "      <td>88</td>\n",
              "      <td>Yes</td>\n",
              "      <td>Lawyer</td>\n",
              "      <td>1.0</td>\n",
              "      <td>Average</td>\n",
              "      <td>4.0</td>\n",
              "      <td>Cat_6</td>\n",
              "      <td>2</td>\n",
              "      <td>C</td>\n",
              "      <td>NaN</td>\n",
              "      <td>NaN</td>\n",
              "      <td>NaN</td>\n",
              "      <td>NaN</td>\n",
              "      <td>NaN</td>\n",
              "      <td>NaN</td>\n",
              "      <td>NaN</td>\n",
              "      <td>NaN</td>\n",
              "      <td>NaN</td>\n",
              "      <td>NaN</td>\n",
              "    </tr>\n",
              "    <tr>\n",
              "      <th>32</th>\n",
              "      <td>459090</td>\n",
              "      <td>Male</td>\n",
              "      <td>No</td>\n",
              "      <td>31</td>\n",
              "      <td>No</td>\n",
              "      <td>Artist</td>\n",
              "      <td>1.0</td>\n",
              "      <td>Low</td>\n",
              "      <td>2.0</td>\n",
              "      <td>Cat_6</td>\n",
              "      <td>0</td>\n",
              "      <td>A</td>\n",
              "      <td>NaN</td>\n",
              "      <td>NaN</td>\n",
              "      <td>NaN</td>\n",
              "      <td>NaN</td>\n",
              "      <td>NaN</td>\n",
              "      <td>NaN</td>\n",
              "      <td>NaN</td>\n",
              "      <td>NaN</td>\n",
              "      <td>NaN</td>\n",
              "      <td>NaN</td>\n",
              "    </tr>\n",
              "    <tr>\n",
              "      <th>38</th>\n",
              "      <td>459116</td>\n",
              "      <td>Male</td>\n",
              "      <td>Yes</td>\n",
              "      <td>60</td>\n",
              "      <td>Yes</td>\n",
              "      <td>Artist</td>\n",
              "      <td>2.0</td>\n",
              "      <td>Average</td>\n",
              "      <td>5.0</td>\n",
              "      <td>Cat_6</td>\n",
              "      <td>2</td>\n",
              "      <td>C</td>\n",
              "      <td>NaN</td>\n",
              "      <td>NaN</td>\n",
              "      <td>NaN</td>\n",
              "      <td>NaN</td>\n",
              "      <td>NaN</td>\n",
              "      <td>NaN</td>\n",
              "      <td>NaN</td>\n",
              "      <td>NaN</td>\n",
              "      <td>NaN</td>\n",
              "      <td>NaN</td>\n",
              "    </tr>\n",
              "    <tr>\n",
              "      <th>43</th>\n",
              "      <td>459121</td>\n",
              "      <td>Female</td>\n",
              "      <td>Yes</td>\n",
              "      <td>51</td>\n",
              "      <td>Yes</td>\n",
              "      <td>Artist</td>\n",
              "      <td>3.0</td>\n",
              "      <td>Average</td>\n",
              "      <td>6.0</td>\n",
              "      <td>Cat_6</td>\n",
              "      <td>2</td>\n",
              "      <td>C</td>\n",
              "      <td>NaN</td>\n",
              "      <td>NaN</td>\n",
              "      <td>NaN</td>\n",
              "      <td>NaN</td>\n",
              "      <td>NaN</td>\n",
              "      <td>NaN</td>\n",
              "      <td>NaN</td>\n",
              "      <td>NaN</td>\n",
              "      <td>NaN</td>\n",
              "      <td>NaN</td>\n",
              "    </tr>\n",
              "    <tr>\n",
              "      <th>...</th>\n",
              "      <td>...</td>\n",
              "      <td>...</td>\n",
              "      <td>...</td>\n",
              "      <td>...</td>\n",
              "      <td>...</td>\n",
              "      <td>...</td>\n",
              "      <td>...</td>\n",
              "      <td>...</td>\n",
              "      <td>...</td>\n",
              "      <td>...</td>\n",
              "      <td>...</td>\n",
              "      <td>...</td>\n",
              "      <td>...</td>\n",
              "      <td>...</td>\n",
              "      <td>...</td>\n",
              "      <td>...</td>\n",
              "      <td>...</td>\n",
              "      <td>...</td>\n",
              "      <td>...</td>\n",
              "      <td>...</td>\n",
              "      <td>...</td>\n",
              "      <td>...</td>\n",
              "    </tr>\n",
              "    <tr>\n",
              "      <th>2607</th>\n",
              "      <td>467913</td>\n",
              "      <td>Male</td>\n",
              "      <td>Yes</td>\n",
              "      <td>48</td>\n",
              "      <td>Yes</td>\n",
              "      <td>Artist</td>\n",
              "      <td>3.0</td>\n",
              "      <td>Low</td>\n",
              "      <td>1.0</td>\n",
              "      <td>Cat_6</td>\n",
              "      <td>1</td>\n",
              "      <td>B</td>\n",
              "      <td>NaN</td>\n",
              "      <td>NaN</td>\n",
              "      <td>NaN</td>\n",
              "      <td>NaN</td>\n",
              "      <td>NaN</td>\n",
              "      <td>NaN</td>\n",
              "      <td>NaN</td>\n",
              "      <td>NaN</td>\n",
              "      <td>NaN</td>\n",
              "      <td>NaN</td>\n",
              "    </tr>\n",
              "    <tr>\n",
              "      <th>2612</th>\n",
              "      <td>467930</td>\n",
              "      <td>Male</td>\n",
              "      <td>Yes</td>\n",
              "      <td>45</td>\n",
              "      <td>Yes</td>\n",
              "      <td>Entertainment</td>\n",
              "      <td>4.0</td>\n",
              "      <td>Average</td>\n",
              "      <td>2.0</td>\n",
              "      <td>Cat_6</td>\n",
              "      <td>2</td>\n",
              "      <td>C</td>\n",
              "      <td>NaN</td>\n",
              "      <td>NaN</td>\n",
              "      <td>NaN</td>\n",
              "      <td>NaN</td>\n",
              "      <td>NaN</td>\n",
              "      <td>NaN</td>\n",
              "      <td>NaN</td>\n",
              "      <td>NaN</td>\n",
              "      <td>NaN</td>\n",
              "      <td>NaN</td>\n",
              "    </tr>\n",
              "    <tr>\n",
              "      <th>2616</th>\n",
              "      <td>467938</td>\n",
              "      <td>Male</td>\n",
              "      <td>Yes</td>\n",
              "      <td>46</td>\n",
              "      <td>Yes</td>\n",
              "      <td>Entertainment</td>\n",
              "      <td>5.0</td>\n",
              "      <td>Low</td>\n",
              "      <td>1.0</td>\n",
              "      <td>Cat_2</td>\n",
              "      <td>0</td>\n",
              "      <td>A</td>\n",
              "      <td>NaN</td>\n",
              "      <td>NaN</td>\n",
              "      <td>NaN</td>\n",
              "      <td>NaN</td>\n",
              "      <td>NaN</td>\n",
              "      <td>NaN</td>\n",
              "      <td>NaN</td>\n",
              "      <td>NaN</td>\n",
              "      <td>NaN</td>\n",
              "      <td>NaN</td>\n",
              "    </tr>\n",
              "    <tr>\n",
              "      <th>2624</th>\n",
              "      <td>467960</td>\n",
              "      <td>Female</td>\n",
              "      <td>No</td>\n",
              "      <td>53</td>\n",
              "      <td>Yes</td>\n",
              "      <td>Entertainment</td>\n",
              "      <td>NaN</td>\n",
              "      <td>Low</td>\n",
              "      <td>2.0</td>\n",
              "      <td>Cat_6</td>\n",
              "      <td>0</td>\n",
              "      <td>A</td>\n",
              "      <td>NaN</td>\n",
              "      <td>NaN</td>\n",
              "      <td>NaN</td>\n",
              "      <td>NaN</td>\n",
              "      <td>NaN</td>\n",
              "      <td>NaN</td>\n",
              "      <td>NaN</td>\n",
              "      <td>NaN</td>\n",
              "      <td>NaN</td>\n",
              "      <td>NaN</td>\n",
              "    </tr>\n",
              "    <tr>\n",
              "      <th>2626</th>\n",
              "      <td>467968</td>\n",
              "      <td>Female</td>\n",
              "      <td>No</td>\n",
              "      <td>43</td>\n",
              "      <td>Yes</td>\n",
              "      <td>Healthcare</td>\n",
              "      <td>9.0</td>\n",
              "      <td>Low</td>\n",
              "      <td>3.0</td>\n",
              "      <td>Cat_7</td>\n",
              "      <td>3</td>\n",
              "      <td>D</td>\n",
              "      <td>NaN</td>\n",
              "      <td>NaN</td>\n",
              "      <td>NaN</td>\n",
              "      <td>NaN</td>\n",
              "      <td>NaN</td>\n",
              "      <td>NaN</td>\n",
              "      <td>NaN</td>\n",
              "      <td>NaN</td>\n",
              "      <td>NaN</td>\n",
              "      <td>NaN</td>\n",
              "    </tr>\n",
              "  </tbody>\n",
              "</table>\n",
              "<p>295 rows × 22 columns</p>\n",
              "</div>"
            ],
            "text/plain": [
              "          ID Gender_x Ever_Married_x  ...  Family_Size_y Var_1_y Segmentation\n",
              "6     459005     Male            Yes  ...            NaN     NaN          NaN\n",
              "19    459045   Female            Yes  ...            NaN     NaN          NaN\n",
              "32    459090     Male             No  ...            NaN     NaN          NaN\n",
              "38    459116     Male            Yes  ...            NaN     NaN          NaN\n",
              "43    459121   Female            Yes  ...            NaN     NaN          NaN\n",
              "...      ...      ...            ...  ...            ...     ...          ...\n",
              "2607  467913     Male            Yes  ...            NaN     NaN          NaN\n",
              "2612  467930     Male            Yes  ...            NaN     NaN          NaN\n",
              "2616  467938     Male            Yes  ...            NaN     NaN          NaN\n",
              "2624  467960   Female             No  ...            NaN     NaN          NaN\n",
              "2626  467968   Female             No  ...            NaN     NaN          NaN\n",
              "\n",
              "[295 rows x 22 columns]"
            ]
          },
          "metadata": {
            "tags": []
          },
          "execution_count": 98
        }
      ]
    },
    {
      "cell_type": "code",
      "metadata": {
        "id": "3unyzonF83tA",
        "colab_type": "code",
        "colab": {}
      },
      "source": [
        "check_restults['newpredccobined'] = np.where((~(check_restults['Segmentation'].isnull()))\n",
        "&(check_restults['Segmentation'] != check_restults['newpredc']),check_restults['Segmentation'],\n",
        "  check_restults['newpredc'])"
      ],
      "execution_count": 99,
      "outputs": []
    },
    {
      "cell_type": "code",
      "metadata": {
        "id": "DqwcRU6J9Ca6",
        "colab_type": "code",
        "colab": {}
      },
      "source": [
        "submission = pd.DataFrame({ 'ID': check_restults['ID'] ,\n",
        "                           'Segmentation': check_restults['newpredccobined'] })\n",
        "submission.to_csv(\"segment_class.csv\", index=False)"
      ],
      "execution_count": 102,
      "outputs": []
    },
    {
      "cell_type": "code",
      "metadata": {
        "id": "XbGGC49-_dJm",
        "colab_type": "code",
        "colab": {}
      },
      "source": [
        ""
      ],
      "execution_count": null,
      "outputs": []
    }
  ]
}