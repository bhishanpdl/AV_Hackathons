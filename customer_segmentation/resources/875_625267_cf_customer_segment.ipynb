{
 "cells": [
  {
   "cell_type": "code",
   "execution_count": 357,
   "metadata": {},
   "outputs": [],
   "source": [
    "import pandas as pd\n",
    "import numpy as np\n",
    "from fancyimpute import KNN\n",
    "from sklearn.impute import KNNImputer\n",
    "from sklearn import preprocessing \n",
    "import copy\n",
    "import optuna\n",
    "from sklearn.ensemble import RandomForestClassifier\n",
    "from sklearn.model_selection import cross_val_score, GridSearchCV,cross_val_predict\n",
    "import sklearn.ensemble\n",
    "import sklearn.model_selection\n",
    "from sklearn import tree\n",
    "import eazeml as ez\n",
    "import xgboost as xgb\n",
    "from xgboost.sklearn import XGBClassifier"
   ]
  },
  {
   "cell_type": "code",
   "execution_count": 316,
   "metadata": {},
   "outputs": [],
   "source": [
    "# !ls\n",
    "# !pip install eazeml"
   ]
  },
  {
   "cell_type": "code",
   "execution_count": 557,
   "metadata": {},
   "outputs": [],
   "source": [
    "train = pd.read_csv('Train_aBjfeNk.csv')\n",
    "test = pd.read_csv('Test_LqhgPWU.csv')"
   ]
  },
  {
   "cell_type": "code",
   "execution_count": 558,
   "metadata": {},
   "outputs": [],
   "source": [
    "idx = list(set(test['ID'].tolist()) & set(train['ID'].tolist()))\n",
    "index = []\n",
    "for i in range(len(test)):\n",
    "    if test['ID'][i] in idx:\n",
    "        index.append(i)\n",
    "\n",
    "test_ = copy.deepcopy(test)\n",
    "test_ = test_.drop(index)"
   ]
  },
  {
   "cell_type": "code",
   "execution_count": 559,
   "metadata": {},
   "outputs": [],
   "source": [
    "def clean(train):\n",
    "    del train['ID']\n",
    "#     del train['Profession']\n",
    "#     del train['Var_1']\n",
    "    \n",
    "#     del train['Segmentation']\n",
    "    train['Gender'] = train['Gender'].map({'Male':0, 'Female':1})\n",
    "    train['Ever_Married'] = train['Ever_Married'].map({'No':0, 'Yes':1})\n",
    "    train['Graduated'] = train['Graduated'].map({'No':0, 'Yes':1})\n",
    "    train['Spending_Score'] = train['Spending_Score'].map({'Low':0, 'Average':1, 'High':2})\n",
    "    train['Var_1'] = train['Var_1'].map({'Cat_1':0, 'Cat_2':1, 'Cat_3':2, 'Cat_4':3, 'Cat_5':4, 'Cat_6':5,'Cat_7':6})\n",
    "    \n",
    "#     train['Ever_Married'] = train['Ever_Married'].fillna(train['Ever_Married'].mode().iloc[0])\n",
    "#     train['Graduated'] = train['Graduated'].fillna(train['Graduated'].mode().iloc[0])\n",
    "#     train['Var_1'] = train['Var_1'].fillna(train['Var_1'].mode().iloc[0])\n",
    "#     train['Profession'] = train['Profession'].fillna(train['Profession'].mode().iloc[0])\n",
    "#     train['Work_Experience'] = train['Work_Experience'].fillna(train['Work_Experience'].mean())\n",
    "#     train['Family_Size'] = train['Family_Size'].fillna(train['Family_Size'].mean())\n",
    "\n",
    "    x = pd.get_dummies(train)\n",
    "\n",
    "    my_imputer = KNNImputer(n_neighbors=3)\n",
    "    my = my_imputer.fit(x)\n",
    "    clean_df = pd.DataFrame(my.transform(x))\n",
    "\n",
    "    clean_df.columns = x.columns\n",
    "    clean_df.index = x.index\n",
    "\n",
    "    return clean_df"
   ]
  },
  {
   "cell_type": "code",
   "execution_count": 560,
   "metadata": {},
   "outputs": [],
   "source": [
    "train_1 = copy.deepcopy(train)\n",
    "test_1 = copy.deepcopy(test_)\n",
    "del train_1['Segmentation']\n",
    "train_df = clean(train_1)\n",
    "test_df = clean(test_1)"
   ]
  },
  {
   "cell_type": "code",
   "execution_count": 561,
   "metadata": {},
   "outputs": [],
   "source": [
    "X_train = train_df\n",
    "Y_train = train['Segmentation']\n",
    "X_test = test_df"
   ]
  },
  {
   "cell_type": "code",
   "execution_count": 562,
   "metadata": {},
   "outputs": [],
   "source": [
    "def study_(X,y):\n",
    "    \n",
    "    def objective(trial):\n",
    "\n",
    "        n_estimators = trial.suggest_int('n_estimators', 1, 30)\n",
    "        max_depth = int(trial.suggest_int('max_depth', 1, 32, log=True))\n",
    "\n",
    "        clf = XGBClassifier(\n",
    "            n_estimators=n_estimators, max_depth=max_depth)\n",
    "\n",
    "        return sklearn.model_selection.cross_val_score(\n",
    "            clf, X, y, n_jobs=-1, cv=5).mean()\n",
    "\n",
    "    study = optuna.create_study(direction='maximize')\n",
    "    study.optimize(objective,n_trials=50)\n",
    "\n",
    "    trial = study.best_trial\n",
    "\n",
    "    print('Accuracy: {}'.format(trial.value))\n",
    "    print(\"Best hyperparameters: {}\".format(trial.params))\n",
    "    return trial.params"
   ]
  },
  {
   "cell_type": "code",
   "execution_count": 563,
   "metadata": {},
   "outputs": [
    {
     "name": "stderr",
     "output_type": "stream",
     "text": [
      "[I 2020-08-02 19:15:22,297] Finished trial#0 with value: 0.4812840374558939 with parameters: {'n_estimators': 26, 'max_depth': 23}. Best is trial#0 with value: 0.4812840374558939.\n",
      "[I 2020-08-02 19:15:26,277] Finished trial#1 with value: 0.4837635813722304 with parameters: {'n_estimators': 6, 'max_depth': 31}. Best is trial#1 with value: 0.4837635813722304.\n",
      "[I 2020-08-02 19:15:28,343] Finished trial#2 with value: 0.49070409183131786 with parameters: {'n_estimators': 5, 'max_depth': 15}. Best is trial#2 with value: 0.49070409183131786.\n",
      "[I 2020-08-02 19:15:29,172] Finished trial#3 with value: 0.5013641486343533 with parameters: {'n_estimators': 17, 'max_depth': 1}. Best is trial#3 with value: 0.5013641486343533.\n",
      "[I 2020-08-02 19:15:30,022] Finished trial#4 with value: 0.5228081779777228 with parameters: {'n_estimators': 11, 'max_depth': 3}. Best is trial#4 with value: 0.5228081779777228.\n",
      "[I 2020-08-02 19:15:31,085] Finished trial#5 with value: 0.5203277890067612 with parameters: {'n_estimators': 17, 'max_depth': 2}. Best is trial#4 with value: 0.5228081779777228.\n",
      "[I 2020-08-02 19:15:32,087] Finished trial#6 with value: 0.529005040366723 with parameters: {'n_estimators': 6, 'max_depth': 5}. Best is trial#6 with value: 0.529005040366723.\n",
      "[I 2020-08-02 19:15:32,497] Finished trial#7 with value: 0.435550372553855 with parameters: {'n_estimators': 1, 'max_depth': 1}. Best is trial#6 with value: 0.529005040366723.\n",
      "[I 2020-08-02 19:15:33,033] Finished trial#8 with value: 0.4918211003994036 with parameters: {'n_estimators': 7, 'max_depth': 1}. Best is trial#6 with value: 0.529005040366723.\n",
      "[I 2020-08-02 19:15:45,286] Finished trial#9 with value: 0.48735836692425466 with parameters: {'n_estimators': 23, 'max_depth': 18}. Best is trial#6 with value: 0.529005040366723.\n",
      "[I 2020-08-02 19:15:45,931] Finished trial#10 with value: 0.5132645151575912 with parameters: {'n_estimators': 1, 'max_depth': 7}. Best is trial#6 with value: 0.529005040366723.\n",
      "[I 2020-08-02 19:15:47,492] Finished trial#11 with value: 0.5303676525381216 with parameters: {'n_estimators': 11, 'max_depth': 4}. Best is trial#11 with value: 0.5303676525381216.\n",
      "[I 2020-08-02 19:15:49,697] Finished trial#12 with value: 0.5286311421066905 with parameters: {'n_estimators': 12, 'max_depth': 6}. Best is trial#11 with value: 0.5303676525381216.\n",
      "[I 2020-08-02 19:15:53,700] Finished trial#13 with value: 0.5131396775425197 with parameters: {'n_estimators': 12, 'max_depth': 9}. Best is trial#11 with value: 0.5303676525381216.\n",
      "[I 2020-08-02 19:15:54,960] Finished trial#14 with value: 0.5208246043031718 with parameters: {'n_estimators': 9, 'max_depth': 3}. Best is trial#11 with value: 0.5303676525381216.\n",
      "[I 2020-08-02 19:15:55,436] Finished trial#15 with value: 0.49082708569084366 with parameters: {'n_estimators': 3, 'max_depth': 2}. Best is trial#11 with value: 0.5303676525381216.\n",
      "[I 2020-08-02 19:15:58,094] Finished trial#16 with value: 0.5325997490955994 with parameters: {'n_estimators': 20, 'max_depth': 5}. Best is trial#16 with value: 0.5325997490955994.\n",
      "[I 2020-08-02 19:16:03,708] Finished trial#17 with value: 0.5037177025884023 with parameters: {'n_estimators': 20, 'max_depth': 11}. Best is trial#16 with value: 0.5325997490955994.\n",
      "[I 2020-08-02 19:16:05,096] Finished trial#18 with value: 0.5039660718250338 with parameters: {'n_estimators': 27, 'max_depth': 1}. Best is trial#16 with value: 0.5325997490955994.\n",
      "[I 2020-08-02 19:16:06,435] Finished trial#19 with value: 0.5101631646834772 with parameters: {'n_estimators': 30, 'max_depth': 1}. Best is trial#16 with value: 0.5325997490955994.\n",
      "[I 2020-08-02 19:16:07,286] Finished trial#20 with value: 0.49702694418260557 with parameters: {'n_estimators': 15, 'max_depth': 1}. Best is trial#16 with value: 0.5325997490955994.\n",
      "[I 2020-08-02 19:16:11,065] Finished trial#21 with value: 0.5332195582515358 with parameters: {'n_estimators': 21, 'max_depth': 5}. Best is trial#21 with value: 0.5332195582515358.\n",
      "[I 2020-08-02 19:16:12,427] Finished trial#22 with value: 0.5228064110453249 with parameters: {'n_estimators': 20, 'max_depth': 2}. Best is trial#21 with value: 0.5332195582515358.\n",
      "[I 2020-08-02 19:16:14,842] Finished trial#23 with value: 0.5356975657049177 with parameters: {'n_estimators': 23, 'max_depth': 4}. Best is trial#23 with value: 0.5356975657049177.\n",
      "[I 2020-08-02 19:16:17,383] Finished trial#24 with value: 0.5366888916033068 with parameters: {'n_estimators': 22, 'max_depth': 4}. Best is trial#24 with value: 0.5366888916033068.\n",
      "[I 2020-08-02 19:16:19,383] Finished trial#25 with value: 0.5333426289342095 with parameters: {'n_estimators': 24, 'max_depth': 3}. Best is trial#24 with value: 0.5366888916033068.\n",
      "[I 2020-08-02 19:16:21,402] Finished trial#26 with value: 0.5335899994699204 with parameters: {'n_estimators': 25, 'max_depth': 3}. Best is trial#24 with value: 0.5366888916033068.\n",
      "[I 2020-08-02 19:16:23,199] Finished trial#27 with value: 0.5272691445204738 with parameters: {'n_estimators': 29, 'max_depth': 2}. Best is trial#24 with value: 0.5366888916033068.\n",
      "[I 2020-08-02 19:16:24,302] Finished trial#28 with value: 0.5038423865571783 with parameters: {'n_estimators': 24, 'max_depth': 1}. Best is trial#24 with value: 0.5366888916033068.\n",
      "[I 2020-08-02 19:16:25,517] Finished trial#29 with value: 0.5039660718250338 with parameters: {'n_estimators': 27, 'max_depth': 1}. Best is trial#24 with value: 0.5366888916033068.\n",
      "[I 2020-08-02 19:16:26,740] Finished trial#30 with value: 0.5044624261825579 with parameters: {'n_estimators': 26, 'max_depth': 1}. Best is trial#24 with value: 0.5366888916033068.\n",
      "[I 2020-08-02 19:16:28,900] Finished trial#31 with value: 0.5333426289342095 with parameters: {'n_estimators': 24, 'max_depth': 3}. Best is trial#24 with value: 0.5366888916033068.\n",
      "[I 2020-08-02 19:16:31,320] Finished trial#32 with value: 0.5356975657049177 with parameters: {'n_estimators': 23, 'max_depth': 4}. Best is trial#24 with value: 0.5366888916033068.\n",
      "[I 2020-08-02 19:16:32,641] Finished trial#33 with value: 0.5231780046109253 with parameters: {'n_estimators': 22, 'max_depth': 2}. Best is trial#24 with value: 0.5366888916033068.\n",
      "[I 2020-08-02 19:16:34,969] Finished trial#34 with value: 0.5363170675682631 with parameters: {'n_estimators': 26, 'max_depth': 4}. Best is trial#24 with value: 0.5366888916033068.\n",
      "[I 2020-08-02 19:16:37,496] Finished trial#35 with value: 0.5350777565489813 with parameters: {'n_estimators': 28, 'max_depth': 4}. Best is trial#24 with value: 0.5366888916033068.\n",
      "[I 2020-08-02 19:16:40,626] Finished trial#36 with value: 0.5214445671054035 with parameters: {'n_estimators': 18, 'max_depth': 8}. Best is trial#24 with value: 0.5366888916033068.\n",
      "[I 2020-08-02 19:16:45,445] Finished trial#37 with value: 0.4976460619302124 with parameters: {'n_estimators': 18, 'max_depth': 12}. Best is trial#24 with value: 0.5366888916033068.\n",
      "[I 2020-08-02 19:16:47,295] Finished trial#38 with value: 0.5273925224957383 with parameters: {'n_estimators': 30, 'max_depth': 2}. Best is trial#24 with value: 0.5366888916033068.\n",
      "[I 2020-08-02 19:16:49,539] Finished trial#39 with value: 0.5366888916033068 with parameters: {'n_estimators': 22, 'max_depth': 4}. Best is trial#24 with value: 0.5366888916033068.\n",
      "[I 2020-08-02 19:16:50,734] Finished trial#40 with value: 0.49702694418260557 with parameters: {'n_estimators': 15, 'max_depth': 1}. Best is trial#24 with value: 0.5366888916033068.\n",
      "[I 2020-08-02 19:16:53,476] Finished trial#41 with value: 0.5356975657049177 with parameters: {'n_estimators': 23, 'max_depth': 4}. Best is trial#24 with value: 0.5366888916033068.\n",
      "[I 2020-08-02 19:16:54,754] Finished trial#42 with value: 0.5231780046109253 with parameters: {'n_estimators': 22, 'max_depth': 2}. Best is trial#24 with value: 0.5366888916033068.\n",
      "[I 2020-08-02 19:16:56,692] Finished trial#43 with value: 0.5335899994699204 with parameters: {'n_estimators': 25, 'max_depth': 3}. Best is trial#24 with value: 0.5366888916033068.\n",
      "[I 2020-08-02 19:16:59,163] Finished trial#44 with value: 0.528261008180897 with parameters: {'n_estimators': 19, 'max_depth': 6}. Best is trial#24 with value: 0.5366888916033068.\n"
     ]
    },
    {
     "name": "stderr",
     "output_type": "stream",
     "text": [
      "[I 2020-08-02 19:17:00,443] Finished trial#45 with value: 0.5231780046109253 with parameters: {'n_estimators': 22, 'max_depth': 2}. Best is trial#24 with value: 0.5366888916033068.\n",
      "[I 2020-08-02 19:17:03,220] Finished trial#46 with value: 0.5343354912955532 with parameters: {'n_estimators': 26, 'max_depth': 5}. Best is trial#24 with value: 0.5366888916033068.\n",
      "[I 2020-08-02 19:17:04,518] Finished trial#47 with value: 0.5280129462368566 with parameters: {'n_estimators': 16, 'max_depth': 3}. Best is trial#24 with value: 0.5366888916033068.\n",
      "[I 2020-08-02 19:17:06,186] Finished trial#48 with value: 0.5262774345063459 with parameters: {'n_estimators': 28, 'max_depth': 2}. Best is trial#24 with value: 0.5366888916033068.\n",
      "[I 2020-08-02 19:17:09,420] Finished trial#49 with value: 0.5356975657049177 with parameters: {'n_estimators': 23, 'max_depth': 4}. Best is trial#24 with value: 0.5366888916033068.\n"
     ]
    },
    {
     "name": "stdout",
     "output_type": "stream",
     "text": [
      "Accuracy: 0.5366888916033068\n",
      "Best hyperparameters: {'n_estimators': 22, 'max_depth': 4}\n",
      "[0.54089219 0.53221809 0.53097893 0.5399876  0.53936764]\n"
     ]
    }
   ],
   "source": [
    "best_p = study_(X_train,Y_train)\n",
    "rfr = XGBClassifier(max_depth=best_p[\"max_depth\"], n_estimators=best_p[\"n_estimators\"],random_state=42)\n",
    "      \n",
    "score = cross_val_score(rfr, X_train, Y_train, cv=5)\n",
    "print(score)\n",
    "      \n",
    "model = rfr.fit(X_train, Y_train)\n",
    "result = model.predict(X_test)"
   ]
  },
  {
   "cell_type": "code",
   "execution_count": 564,
   "metadata": {},
   "outputs": [],
   "source": [
    "data = {'ID': test_['ID'].tolist(),'Segmentation': result.tolist()}\n",
    "final_ = pd.DataFrame(data)"
   ]
  },
  {
   "cell_type": "code",
   "execution_count": null,
   "metadata": {},
   "outputs": [],
   "source": [
    "idx = list(set(train['ID'].tolist()) - set(test['ID'].tolist()))\n",
    "index = []\n",
    "for i in range(len(train)):\n",
    "    if train['ID'][i] in idx:\n",
    "        index.append(i)\n",
    "\n",
    "inter = copy.deepcopy(train)\n",
    "inter = inter.drop(index)"
   ]
  },
  {
   "cell_type": "code",
   "execution_count": 550,
   "metadata": {},
   "outputs": [],
   "source": [
    "inter = inter[['ID','Segmentation']]"
   ]
  },
  {
   "cell_type": "code",
   "execution_count": 551,
   "metadata": {},
   "outputs": [],
   "source": [
    "final = inter+final_"
   ]
  },
  {
   "cell_type": "code",
   "execution_count": 556,
   "metadata": {},
   "outputs": [],
   "source": [
    "final_df = pd.concat([inter,final_])"
   ]
  },
  {
   "cell_type": "code",
   "execution_count": 473,
   "metadata": {},
   "outputs": [],
   "source": [
    "# segment = []\n",
    "# for i in range(len(final)):\n",
    "#     c = 0\n",
    "#     for j in range(len(train)):\n",
    "#         if final['ID'][i] == train['ID'][j]:\n",
    "#             c = 1\n",
    "#             segment.append(train['Segmentation'][j])\n",
    "#             break\n",
    "#     if c == 0:\n",
    "#         segment.append(final['Segmentation'][i])\n",
    "# final['Segmentation'] = segment"
   ]
  },
  {
   "cell_type": "code",
   "execution_count": 476,
   "metadata": {},
   "outputs": [],
   "source": [
    "final_df.to_csv('sol.csv',index = False)"
   ]
  },
  {
   "cell_type": "code",
   "execution_count": null,
   "metadata": {},
   "outputs": [],
   "source": []
  }
 ],
 "metadata": {
  "kernelspec": {
   "display_name": "Python 3",
   "language": "python",
   "name": "python3"
  },
  "language_info": {
   "codemirror_mode": {
    "name": "ipython",
    "version": 3
   },
   "file_extension": ".py",
   "mimetype": "text/x-python",
   "name": "python",
   "nbconvert_exporter": "python",
   "pygments_lexer": "ipython3",
   "version": "3.7.7"
  }
 },
 "nbformat": 4,
 "nbformat_minor": 4
}
