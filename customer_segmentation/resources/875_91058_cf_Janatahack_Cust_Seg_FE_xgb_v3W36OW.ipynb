{
  "nbformat": 4,
  "nbformat_minor": 0,
  "metadata": {
    "colab": {
      "name": "Janatahack Cust_Seg FE xgb.ipynb",
      "provenance": [],
      "collapsed_sections": []
    },
    "kernelspec": {
      "name": "python3",
      "display_name": "Python 3"
    },
    "accelerator": "GPU"
  },
  "cells": [
    {
      "cell_type": "code",
      "metadata": {
        "id": "qFPDaIzFmX0p",
        "colab_type": "code",
        "colab": {
          "base_uri": "https://localhost:8080/",
          "height": 126
        },
        "outputId": "62302567-9446-4fec-923a-a379fc43d795"
      },
      "source": [
        "from google.colab import drive\n",
        "drive.mount('/content/drive/')"
      ],
      "execution_count": null,
      "outputs": [
        {
          "output_type": "stream",
          "text": [
            "Go to this URL in a browser: https://accounts.google.com/o/oauth2/auth?client_id=947318989803-6bn6qk8qdgf4n4g3pfee6491hc0brc4i.apps.googleusercontent.com&redirect_uri=urn%3aietf%3awg%3aoauth%3a2.0%3aoob&response_type=code&scope=email%20https%3a%2f%2fwww.googleapis.com%2fauth%2fdocs.test%20https%3a%2f%2fwww.googleapis.com%2fauth%2fdrive%20https%3a%2f%2fwww.googleapis.com%2fauth%2fdrive.photos.readonly%20https%3a%2f%2fwww.googleapis.com%2fauth%2fpeopleapi.readonly\n",
            "\n",
            "Enter your authorization code:\n",
            "··········\n",
            "Mounted at /content/drive/\n"
          ],
          "name": "stdout"
        }
      ]
    },
    {
      "cell_type": "code",
      "metadata": {
        "id": "VcyrqwuLlzq7",
        "colab_type": "code",
        "colab": {}
      },
      "source": [
        "import featuretools as ft\n",
        "import numpy as np\n",
        "import pandas as pd\n",
        "import os"
      ],
      "execution_count": null,
      "outputs": []
    },
    {
      "cell_type": "code",
      "metadata": {
        "id": "k4295el2y89X",
        "colab_type": "code",
        "colab": {
          "base_uri": "https://localhost:8080/",
          "height": 108
        },
        "outputId": "568fc4a7-d480-486e-e8cb-e3a02f3bbbe7"
      },
      "source": [
        "from xgboost import XGBClassifier\n",
        "from sklearn.neural_network import MLPClassifier\n",
        "from sklearn.model_selection import train_test_split\n",
        "from sklearn.metrics import accuracy_score\n",
        "from sklearn.metrics import precision_score\n",
        "from sklearn.metrics import recall_score\n",
        "from sklearn.metrics import roc_auc_score\n",
        "from sklearn.metrics import f1_score\n",
        "import pandas as pd\n",
        "from sklearn import preprocessing\n",
        "from imblearn.over_sampling import SMOTE\n",
        "\n",
        "from xgboost import plot_importance\n",
        "import numpy as np\n",
        "from sklearn.metrics import confusion_matrix\n",
        "from sklearn.preprocessing import StandardScaler\n",
        "from sklearn.preprocessing import MinMaxScaler\n",
        "\n",
        "import os\n",
        "pd.set_option('display.max_columns', 500)\n",
        "pd.set_option('display.max_rows', 500)"
      ],
      "execution_count": null,
      "outputs": [
        {
          "output_type": "stream",
          "text": [
            "/usr/local/lib/python3.6/dist-packages/sklearn/externals/six.py:31: FutureWarning: The module is deprecated in version 0.21 and will be removed in version 0.23 since we've dropped support for Python 2.7. Please rely on the official version of six (https://pypi.org/project/six/).\n",
            "  \"(https://pypi.org/project/six/).\", FutureWarning)\n",
            "/usr/local/lib/python3.6/dist-packages/sklearn/utils/deprecation.py:144: FutureWarning: The sklearn.neighbors.base module is  deprecated in version 0.22 and will be removed in version 0.24. The corresponding classes / functions should instead be imported from sklearn.neighbors. Anything that cannot be imported from sklearn.neighbors is now part of the private API.\n",
            "  warnings.warn(message, FutureWarning)\n"
          ],
          "name": "stderr"
        }
      ]
    },
    {
      "cell_type": "code",
      "metadata": {
        "id": "Jb4rLhWLmQBs",
        "colab_type": "code",
        "colab": {}
      },
      "source": [
        "os.chdir(\"/content/drive/My Drive/Competitions/AV/Janatahack Cust_Seg/\")"
      ],
      "execution_count": null,
      "outputs": []
    },
    {
      "cell_type": "code",
      "metadata": {
        "id": "FaZ9WSdlm9DB",
        "colab_type": "code",
        "colab": {
          "base_uri": "https://localhost:8080/",
          "height": 88
        },
        "outputId": "f9b08cf2-4e00-453a-e3bd-4bfc0d5463cf"
      },
      "source": [
        "os.listdir()"
      ],
      "execution_count": null,
      "outputs": [
        {
          "output_type": "execute_result",
          "data": {
            "text/plain": [
              "['Test_LqhgPWU.csv',\n",
              " 'Train_aBjfeNk.csv',\n",
              " 'sample_submission_wyi0h0z.csv',\n",
              " 'master_feat.csv']"
            ]
          },
          "metadata": {
            "tags": []
          },
          "execution_count": 7
        }
      ]
    },
    {
      "cell_type": "code",
      "metadata": {
        "id": "w0jQzRQfv99O",
        "colab_type": "code",
        "colab": {}
      },
      "source": [
        "target = 'Segmentation'\n",
        "key    = 'ID'"
      ],
      "execution_count": null,
      "outputs": []
    },
    {
      "cell_type": "code",
      "metadata": {
        "id": "IT-wfEt3m6vm",
        "colab_type": "code",
        "colab": {
          "base_uri": "https://localhost:8080/",
          "height": 35
        },
        "outputId": "c69acab2-844b-4562-da19-cb36bd4a0ff6"
      },
      "source": [
        "master = pd.read_csv('master_feat.csv')\n",
        "master.shape, master[key].nunique()"
      ],
      "execution_count": null,
      "outputs": [
        {
          "output_type": "execute_result",
          "data": {
            "text/plain": [
              "((10695, 112), 10695)"
            ]
          },
          "metadata": {
            "tags": []
          },
          "execution_count": 9
        }
      ]
    },
    {
      "cell_type": "code",
      "metadata": {
        "id": "MLUZjPYNnBpd",
        "colab_type": "code",
        "colab": {}
      },
      "source": [
        "master.set_index(key, inplace = True)"
      ],
      "execution_count": null,
      "outputs": []
    },
    {
      "cell_type": "code",
      "metadata": {
        "id": "OBvTiMT9nZIN",
        "colab_type": "code",
        "colab": {}
      },
      "source": [
        "catVars = ['Gender','Ever_Married','Graduated','Profession','Spending_Score','Var_1']\n",
        "numVars = ['Age','Work_Experience','Family_Size']"
      ],
      "execution_count": null,
      "outputs": []
    },
    {
      "cell_type": "code",
      "metadata": {
        "id": "FlCZaAc9rQdQ",
        "colab_type": "code",
        "colab": {}
      },
      "source": [
        "master[catVars] = master[catVars].astype(str)"
      ],
      "execution_count": null,
      "outputs": []
    },
    {
      "cell_type": "markdown",
      "metadata": {
        "id": "XJFTxtY1vwO8",
        "colab_type": "text"
      },
      "source": [
        "### One-hot"
      ]
    },
    {
      "cell_type": "code",
      "metadata": {
        "id": "hjofjyrav0JH",
        "colab_type": "code",
        "colab": {}
      },
      "source": [
        "# master.dtypes"
      ],
      "execution_count": null,
      "outputs": []
    },
    {
      "cell_type": "code",
      "metadata": {
        "id": "2_l8qHP7vrPy",
        "colab_type": "code",
        "colab": {}
      },
      "source": [
        "categorical_features_indices = np.where((master.dtypes != 'int16') & (master.dtypes != 'int8') & (master.dtypes != 'int64') & (master.dtypes != 'float16') & (master.dtypes != 'float64'))[0]\n",
        "catVars = list(set(master.iloc[:,categorical_features_indices].columns.tolist()) - set([key, target]))"
      ],
      "execution_count": null,
      "outputs": []
    },
    {
      "cell_type": "code",
      "metadata": {
        "id": "rINnd1jEvraG",
        "colab_type": "code",
        "colab": {}
      },
      "source": [
        "one_hot = pd.get_dummies(master[catVars])\n",
        "\n",
        "master = master.drop(catVars,axis = 1)\n",
        "master = master.join(one_hot)"
      ],
      "execution_count": null,
      "outputs": []
    },
    {
      "cell_type": "code",
      "metadata": {
        "id": "3kmRs3krvrgb",
        "colab_type": "code",
        "colab": {}
      },
      "source": [
        "train = master[master[target] != '-1']\n",
        "test  = master[master[target] == '-1']"
      ],
      "execution_count": null,
      "outputs": []
    },
    {
      "cell_type": "code",
      "metadata": {
        "id": "09o98tLfvrm4",
        "colab_type": "code",
        "colab": {
          "base_uri": "https://localhost:8080/",
          "height": 35
        },
        "outputId": "fea2bea0-8ca3-4e5a-9ef7-4e1b42d169c5"
      },
      "source": [
        "del master\n",
        "import gc\n",
        "gc.collect()"
      ],
      "execution_count": null,
      "outputs": [
        {
          "output_type": "execute_result",
          "data": {
            "text/plain": [
              "0"
            ]
          },
          "metadata": {
            "tags": []
          },
          "execution_count": 18
        }
      ]
    },
    {
      "cell_type": "code",
      "metadata": {
        "id": "HcS0x9WOvryC",
        "colab_type": "code",
        "colab": {}
      },
      "source": [
        "from sklearn.model_selection import train_test_split"
      ],
      "execution_count": null,
      "outputs": []
    },
    {
      "cell_type": "code",
      "metadata": {
        "id": "w5EX0iy6yTw1",
        "colab_type": "code",
        "colab": {}
      },
      "source": [
        "train1, val1 = train_test_split(train, test_size=0.2, random_state=7)"
      ],
      "execution_count": null,
      "outputs": []
    },
    {
      "cell_type": "code",
      "metadata": {
        "id": "W86maHtfyjxe",
        "colab_type": "code",
        "colab": {
          "base_uri": "https://localhost:8080/",
          "height": 35
        },
        "outputId": "48afe918-d1c3-4bdf-bb14-d3c1d8c05f84"
      },
      "source": [
        "train1.shape, val1.shape"
      ],
      "execution_count": null,
      "outputs": [
        {
          "output_type": "execute_result",
          "data": {
            "text/plain": [
              "((6454, 150), (1614, 150))"
            ]
          },
          "metadata": {
            "tags": []
          },
          "execution_count": 21
        }
      ]
    },
    {
      "cell_type": "code",
      "metadata": {
        "id": "qhNs59FayuAm",
        "colab_type": "code",
        "colab": {}
      },
      "source": [
        "X_train = train1.drop(target, axis =1)\n",
        "X_val   = val1.drop(target, axis =1)\n",
        "X_test  = test.drop(target, axis =1)\n",
        "\n",
        "y_train = train1[target]\n",
        "y_val = val1[target]\n",
        "y_test = test[target]"
      ],
      "execution_count": null,
      "outputs": []
    },
    {
      "cell_type": "code",
      "metadata": {
        "id": "LQkucjgHy1fN",
        "colab_type": "code",
        "colab": {
          "base_uri": "https://localhost:8080/",
          "height": 1000
        },
        "outputId": "830facdd-b56c-4a72-ba0d-77ba29e6d659"
      },
      "source": [
        "###Hypertune the model intensively with a 5 fold cross validation strategy.\n",
        "##first grid search for max_depth,min_child_weight then fix those and search for rest in same fashion\n",
        "### parameter scale_pos_weight is quite important in case of imbalanced dataset\n",
        "\n",
        "from sklearn.model_selection import GridSearchCV\n",
        "param_test1 = {\n",
        "  # 'min_child_weight':[1,50,100],\n",
        "  'max_depth': [5,6,7],\n",
        "  'n_estimators':[150,200,300,400],\n",
        "  # 'scale_pos_weight':[1,2,3,4],\n",
        "  'colsample_bytree':[0.7,0.8], \n",
        "  'subsample':[0.7,0.8]\n",
        "}\n",
        "\n",
        "gsearch1 = GridSearchCV(estimator = XGBClassifier(tree_method='gpu_hist',predictor='gpu_predictor', learning_rate=0.1, n_estimators=1000, max_depth=5,\n",
        " min_child_weight=1, gamma=0, subsample=0.8, colsample_bytree=0.8, nthread=-1, scale_pos_weight=3,seed=27), \n",
        " param_grid = param_test1, scoring=['accuracy'],n_jobs=-1,iid=False, cv=5,refit='accuracy', verbose =100)\n",
        "\n",
        "gsearch1.fit(X_train, y_train)\n",
        "# print(gsearch1.grid_scores_)\n",
        "print(\"gsearch1.best_params_\",gsearch1.best_params_)\n",
        "print(\"gsearch1.best_score_\",gsearch1.best_score_)"
      ],
      "execution_count": null,
      "outputs": [
        {
          "output_type": "stream",
          "text": [
            "Fitting 5 folds for each of 48 candidates, totalling 240 fits\n",
            "[Parallel(n_jobs=-1)]: Using backend LokyBackend with 2 concurrent workers.\n",
            "[Parallel(n_jobs=-1)]: Done   1 tasks      | elapsed:   10.2s\n",
            "[Parallel(n_jobs=-1)]: Done   2 tasks      | elapsed:   10.2s\n",
            "[Parallel(n_jobs=-1)]: Done   3 tasks      | elapsed:   18.8s\n",
            "[Parallel(n_jobs=-1)]: Done   4 tasks      | elapsed:   18.9s\n",
            "[Parallel(n_jobs=-1)]: Done   5 tasks      | elapsed:   27.4s\n",
            "[Parallel(n_jobs=-1)]: Done   6 tasks      | elapsed:   27.5s\n",
            "[Parallel(n_jobs=-1)]: Done   7 tasks      | elapsed:   36.1s\n",
            "[Parallel(n_jobs=-1)]: Done   8 tasks      | elapsed:   36.1s\n",
            "[Parallel(n_jobs=-1)]: Done   9 tasks      | elapsed:   44.7s\n",
            "[Parallel(n_jobs=-1)]: Done  10 tasks      | elapsed:   44.8s\n",
            "[Parallel(n_jobs=-1)]: Done  11 tasks      | elapsed:   56.0s\n",
            "[Parallel(n_jobs=-1)]: Done  12 tasks      | elapsed:   56.3s\n",
            "[Parallel(n_jobs=-1)]: Done  13 tasks      | elapsed:  1.1min\n",
            "[Parallel(n_jobs=-1)]: Done  14 tasks      | elapsed:  1.1min\n",
            "[Parallel(n_jobs=-1)]: Done  15 tasks      | elapsed:  1.3min\n",
            "[Parallel(n_jobs=-1)]: Done  16 tasks      | elapsed:  1.3min\n",
            "[Parallel(n_jobs=-1)]: Done  17 tasks      | elapsed:  1.5min\n",
            "[Parallel(n_jobs=-1)]: Done  18 tasks      | elapsed:  1.5min\n",
            "[Parallel(n_jobs=-1)]: Done  19 tasks      | elapsed:  1.7min\n",
            "[Parallel(n_jobs=-1)]: Done  20 tasks      | elapsed:  1.7min\n",
            "[Parallel(n_jobs=-1)]: Done  21 tasks      | elapsed:  2.0min\n",
            "[Parallel(n_jobs=-1)]: Done  22 tasks      | elapsed:  2.0min\n",
            "[Parallel(n_jobs=-1)]: Done  23 tasks      | elapsed:  2.3min\n",
            "[Parallel(n_jobs=-1)]: Done  24 tasks      | elapsed:  2.3min\n",
            "[Parallel(n_jobs=-1)]: Done  25 tasks      | elapsed:  2.6min\n",
            "[Parallel(n_jobs=-1)]: Done  26 tasks      | elapsed:  2.6min\n",
            "[Parallel(n_jobs=-1)]: Done  27 tasks      | elapsed:  2.8min\n",
            "[Parallel(n_jobs=-1)]: Done  28 tasks      | elapsed:  2.8min\n",
            "[Parallel(n_jobs=-1)]: Done  29 tasks      | elapsed:  3.1min\n",
            "[Parallel(n_jobs=-1)]: Done  30 tasks      | elapsed:  3.1min\n",
            "[Parallel(n_jobs=-1)]: Done  31 tasks      | elapsed:  3.5min\n",
            "[Parallel(n_jobs=-1)]: Done  32 tasks      | elapsed:  3.5min\n",
            "[Parallel(n_jobs=-1)]: Done  33 tasks      | elapsed:  3.9min\n",
            "[Parallel(n_jobs=-1)]: Done  34 tasks      | elapsed:  3.9min\n",
            "[Parallel(n_jobs=-1)]: Done  35 tasks      | elapsed:  4.3min\n",
            "[Parallel(n_jobs=-1)]: Done  36 tasks      | elapsed:  4.3min\n",
            "[Parallel(n_jobs=-1)]: Done  37 tasks      | elapsed:  4.6min\n",
            "[Parallel(n_jobs=-1)]: Done  38 tasks      | elapsed:  4.6min\n",
            "[Parallel(n_jobs=-1)]: Done  39 tasks      | elapsed:  5.0min\n",
            "[Parallel(n_jobs=-1)]: Done  40 tasks      | elapsed:  5.0min\n",
            "[Parallel(n_jobs=-1)]: Done  41 tasks      | elapsed:  5.2min\n",
            "[Parallel(n_jobs=-1)]: Done  42 tasks      | elapsed:  5.2min\n",
            "[Parallel(n_jobs=-1)]: Done  43 tasks      | elapsed:  5.4min\n",
            "[Parallel(n_jobs=-1)]: Done  44 tasks      | elapsed:  5.4min\n",
            "[Parallel(n_jobs=-1)]: Done  45 tasks      | elapsed:  5.6min\n",
            "[Parallel(n_jobs=-1)]: Done  46 tasks      | elapsed:  5.6min\n",
            "[Parallel(n_jobs=-1)]: Done  47 tasks      | elapsed:  5.8min\n",
            "[Parallel(n_jobs=-1)]: Done  48 tasks      | elapsed:  5.8min\n",
            "[Parallel(n_jobs=-1)]: Done  49 tasks      | elapsed:  6.0min\n",
            "[Parallel(n_jobs=-1)]: Done  50 tasks      | elapsed:  6.0min\n",
            "[Parallel(n_jobs=-1)]: Done  51 tasks      | elapsed:  6.3min\n",
            "[Parallel(n_jobs=-1)]: Done  52 tasks      | elapsed:  6.3min\n",
            "[Parallel(n_jobs=-1)]: Done  53 tasks      | elapsed:  6.5min\n",
            "[Parallel(n_jobs=-1)]: Done  54 tasks      | elapsed:  6.5min\n",
            "[Parallel(n_jobs=-1)]: Done  55 tasks      | elapsed:  6.8min\n",
            "[Parallel(n_jobs=-1)]: Done  56 tasks      | elapsed:  6.8min\n",
            "[Parallel(n_jobs=-1)]: Done  57 tasks      | elapsed:  7.1min\n",
            "[Parallel(n_jobs=-1)]: Done  58 tasks      | elapsed:  7.1min\n",
            "[Parallel(n_jobs=-1)]: Done  59 tasks      | elapsed:  7.3min\n",
            "[Parallel(n_jobs=-1)]: Done  60 tasks      | elapsed:  7.3min\n",
            "[Parallel(n_jobs=-1)]: Done  61 tasks      | elapsed:  7.7min\n",
            "[Parallel(n_jobs=-1)]: Done  62 tasks      | elapsed:  7.7min\n",
            "[Parallel(n_jobs=-1)]: Done  63 tasks      | elapsed:  8.1min\n",
            "[Parallel(n_jobs=-1)]: Done  64 tasks      | elapsed:  8.1min\n",
            "[Parallel(n_jobs=-1)]: Done  65 tasks      | elapsed:  8.5min\n",
            "[Parallel(n_jobs=-1)]: Done  66 tasks      | elapsed:  8.5min\n",
            "[Parallel(n_jobs=-1)]: Done  67 tasks      | elapsed:  8.9min\n",
            "[Parallel(n_jobs=-1)]: Done  68 tasks      | elapsed:  8.9min\n",
            "[Parallel(n_jobs=-1)]: Done  69 tasks      | elapsed:  9.3min\n",
            "[Parallel(n_jobs=-1)]: Done  70 tasks      | elapsed:  9.3min\n",
            "[Parallel(n_jobs=-1)]: Done  71 tasks      | elapsed:  9.8min\n",
            "[Parallel(n_jobs=-1)]: Done  72 tasks      | elapsed:  9.8min\n",
            "[Parallel(n_jobs=-1)]: Done  73 tasks      | elapsed: 10.3min\n",
            "[Parallel(n_jobs=-1)]: Done  74 tasks      | elapsed: 10.3min\n",
            "[Parallel(n_jobs=-1)]: Done  75 tasks      | elapsed: 10.9min\n",
            "[Parallel(n_jobs=-1)]: Done  76 tasks      | elapsed: 10.9min\n",
            "[Parallel(n_jobs=-1)]: Done  77 tasks      | elapsed: 11.4min\n",
            "[Parallel(n_jobs=-1)]: Done  78 tasks      | elapsed: 11.4min\n",
            "[Parallel(n_jobs=-1)]: Done  79 tasks      | elapsed: 11.9min\n",
            "[Parallel(n_jobs=-1)]: Done  80 tasks      | elapsed: 11.9min\n",
            "[Parallel(n_jobs=-1)]: Done  81 tasks      | elapsed: 12.2min\n",
            "[Parallel(n_jobs=-1)]: Done  82 tasks      | elapsed: 12.2min\n",
            "[Parallel(n_jobs=-1)]: Done  83 tasks      | elapsed: 12.5min\n",
            "[Parallel(n_jobs=-1)]: Done  84 tasks      | elapsed: 12.5min\n",
            "[Parallel(n_jobs=-1)]: Done  85 tasks      | elapsed: 12.8min\n",
            "[Parallel(n_jobs=-1)]: Done  86 tasks      | elapsed: 12.8min\n",
            "[Parallel(n_jobs=-1)]: Done  87 tasks      | elapsed: 13.0min\n",
            "[Parallel(n_jobs=-1)]: Done  88 tasks      | elapsed: 13.0min\n",
            "[Parallel(n_jobs=-1)]: Done  89 tasks      | elapsed: 13.3min\n",
            "[Parallel(n_jobs=-1)]: Done  90 tasks      | elapsed: 13.3min\n",
            "[Parallel(n_jobs=-1)]: Done  91 tasks      | elapsed: 13.7min\n",
            "[Parallel(n_jobs=-1)]: Done  92 tasks      | elapsed: 13.7min\n",
            "[Parallel(n_jobs=-1)]: Done  93 tasks      | elapsed: 14.1min\n",
            "[Parallel(n_jobs=-1)]: Done  94 tasks      | elapsed: 14.1min\n",
            "[Parallel(n_jobs=-1)]: Done  95 tasks      | elapsed: 14.4min\n",
            "[Parallel(n_jobs=-1)]: Done  96 tasks      | elapsed: 14.4min\n",
            "[Parallel(n_jobs=-1)]: Done  97 tasks      | elapsed: 14.8min\n",
            "[Parallel(n_jobs=-1)]: Done  98 tasks      | elapsed: 14.8min\n",
            "[Parallel(n_jobs=-1)]: Done  99 tasks      | elapsed: 15.2min\n",
            "[Parallel(n_jobs=-1)]: Done 100 tasks      | elapsed: 15.2min\n",
            "[Parallel(n_jobs=-1)]: Done 101 tasks      | elapsed: 15.7min\n",
            "[Parallel(n_jobs=-1)]: Done 102 tasks      | elapsed: 15.7min\n",
            "[Parallel(n_jobs=-1)]: Done 103 tasks      | elapsed: 16.3min\n",
            "[Parallel(n_jobs=-1)]: Done 104 tasks      | elapsed: 16.3min\n",
            "[Parallel(n_jobs=-1)]: Done 105 tasks      | elapsed: 16.8min\n",
            "[Parallel(n_jobs=-1)]: Done 106 tasks      | elapsed: 16.9min\n",
            "[Parallel(n_jobs=-1)]: Done 107 tasks      | elapsed: 17.4min\n",
            "[Parallel(n_jobs=-1)]: Done 108 tasks      | elapsed: 17.4min\n",
            "[Parallel(n_jobs=-1)]: Done 109 tasks      | elapsed: 17.9min\n",
            "[Parallel(n_jobs=-1)]: Done 110 tasks      | elapsed: 18.0min\n",
            "[Parallel(n_jobs=-1)]: Done 111 tasks      | elapsed: 18.7min\n",
            "[Parallel(n_jobs=-1)]: Done 112 tasks      | elapsed: 18.7min\n",
            "[Parallel(n_jobs=-1)]: Done 113 tasks      | elapsed: 19.4min\n",
            "[Parallel(n_jobs=-1)]: Done 114 tasks      | elapsed: 19.5min\n",
            "[Parallel(n_jobs=-1)]: Done 115 tasks      | elapsed: 20.2min\n",
            "[Parallel(n_jobs=-1)]: Done 116 tasks      | elapsed: 20.2min\n",
            "[Parallel(n_jobs=-1)]: Done 117 tasks      | elapsed: 20.9min\n",
            "[Parallel(n_jobs=-1)]: Done 118 tasks      | elapsed: 20.9min\n",
            "[Parallel(n_jobs=-1)]: Done 119 tasks      | elapsed: 21.6min\n",
            "[Parallel(n_jobs=-1)]: Done 120 tasks      | elapsed: 21.7min\n",
            "[Parallel(n_jobs=-1)]: Done 121 tasks      | elapsed: 21.8min\n",
            "[Parallel(n_jobs=-1)]: Done 122 tasks      | elapsed: 21.8min\n",
            "[Parallel(n_jobs=-1)]: Done 123 tasks      | elapsed: 21.9min\n",
            "[Parallel(n_jobs=-1)]: Done 124 tasks      | elapsed: 22.0min\n",
            "[Parallel(n_jobs=-1)]: Done 125 tasks      | elapsed: 22.1min\n",
            "[Parallel(n_jobs=-1)]: Done 126 tasks      | elapsed: 22.1min\n",
            "[Parallel(n_jobs=-1)]: Done 127 tasks      | elapsed: 22.2min\n",
            "[Parallel(n_jobs=-1)]: Done 128 tasks      | elapsed: 22.2min\n",
            "[Parallel(n_jobs=-1)]: Done 129 tasks      | elapsed: 22.4min\n",
            "[Parallel(n_jobs=-1)]: Done 130 tasks      | elapsed: 22.4min\n",
            "[Parallel(n_jobs=-1)]: Done 131 tasks      | elapsed: 22.6min\n",
            "[Parallel(n_jobs=-1)]: Done 132 tasks      | elapsed: 22.6min\n",
            "[Parallel(n_jobs=-1)]: Done 133 tasks      | elapsed: 22.7min\n",
            "[Parallel(n_jobs=-1)]: Done 134 tasks      | elapsed: 22.8min\n",
            "[Parallel(n_jobs=-1)]: Done 135 tasks      | elapsed: 22.9min\n",
            "[Parallel(n_jobs=-1)]: Done 136 tasks      | elapsed: 23.0min\n",
            "[Parallel(n_jobs=-1)]: Done 137 tasks      | elapsed: 23.1min\n",
            "[Parallel(n_jobs=-1)]: Done 138 tasks      | elapsed: 23.1min\n",
            "[Parallel(n_jobs=-1)]: Done 139 tasks      | elapsed: 23.3min\n",
            "[Parallel(n_jobs=-1)]: Done 140 tasks      | elapsed: 23.3min\n",
            "[Parallel(n_jobs=-1)]: Done 141 tasks      | elapsed: 23.6min\n",
            "[Parallel(n_jobs=-1)]: Done 142 tasks      | elapsed: 23.6min\n",
            "[Parallel(n_jobs=-1)]: Done 143 tasks      | elapsed: 23.9min\n",
            "[Parallel(n_jobs=-1)]: Done 144 tasks      | elapsed: 23.9min\n",
            "[Parallel(n_jobs=-1)]: Done 145 tasks      | elapsed: 24.2min\n",
            "[Parallel(n_jobs=-1)]: Done 146 tasks      | elapsed: 24.2min\n",
            "[Parallel(n_jobs=-1)]: Done 147 tasks      | elapsed: 24.5min\n",
            "[Parallel(n_jobs=-1)]: Done 148 tasks      | elapsed: 24.5min\n",
            "[Parallel(n_jobs=-1)]: Done 149 tasks      | elapsed: 24.7min\n",
            "[Parallel(n_jobs=-1)]: Done 150 tasks      | elapsed: 24.8min\n",
            "[Parallel(n_jobs=-1)]: Done 151 tasks      | elapsed: 25.1min\n",
            "[Parallel(n_jobs=-1)]: Done 152 tasks      | elapsed: 25.1min\n",
            "[Parallel(n_jobs=-1)]: Done 153 tasks      | elapsed: 25.5min\n",
            "[Parallel(n_jobs=-1)]: Done 154 tasks      | elapsed: 25.5min\n",
            "[Parallel(n_jobs=-1)]: Done 155 tasks      | elapsed: 25.9min\n",
            "[Parallel(n_jobs=-1)]: Done 156 tasks      | elapsed: 25.9min\n",
            "[Parallel(n_jobs=-1)]: Done 157 tasks      | elapsed: 26.3min\n",
            "[Parallel(n_jobs=-1)]: Done 158 tasks      | elapsed: 26.3min\n",
            "[Parallel(n_jobs=-1)]: Done 159 tasks      | elapsed: 26.6min\n",
            "[Parallel(n_jobs=-1)]: Done 160 tasks      | elapsed: 26.7min\n",
            "[Parallel(n_jobs=-1)]: Done 161 tasks      | elapsed: 26.8min\n",
            "[Parallel(n_jobs=-1)]: Done 162 tasks      | elapsed: 26.9min\n",
            "[Parallel(n_jobs=-1)]: Done 163 tasks      | elapsed: 27.0min\n",
            "[Parallel(n_jobs=-1)]: Done 164 tasks      | elapsed: 27.1min\n",
            "[Parallel(n_jobs=-1)]: Done 165 tasks      | elapsed: 27.2min\n",
            "[Parallel(n_jobs=-1)]: Done 166 tasks      | elapsed: 27.3min\n",
            "[Parallel(n_jobs=-1)]: Done 167 tasks      | elapsed: 27.4min\n",
            "[Parallel(n_jobs=-1)]: Done 168 tasks      | elapsed: 27.5min\n",
            "[Parallel(n_jobs=-1)]: Done 169 tasks      | elapsed: 27.6min\n",
            "[Parallel(n_jobs=-1)]: Done 170 tasks      | elapsed: 27.7min\n",
            "[Parallel(n_jobs=-1)]: Done 171 tasks      | elapsed: 27.9min\n",
            "[Parallel(n_jobs=-1)]: Done 172 tasks      | elapsed: 27.9min\n",
            "[Parallel(n_jobs=-1)]: Done 173 tasks      | elapsed: 28.2min\n",
            "[Parallel(n_jobs=-1)]: Done 174 tasks      | elapsed: 28.2min\n",
            "[Parallel(n_jobs=-1)]: Done 175 tasks      | elapsed: 28.4min\n",
            "[Parallel(n_jobs=-1)]: Done 176 tasks      | elapsed: 28.4min\n",
            "[Parallel(n_jobs=-1)]: Done 177 tasks      | elapsed: 28.7min\n",
            "[Parallel(n_jobs=-1)]: Done 178 tasks      | elapsed: 28.7min\n",
            "[Parallel(n_jobs=-1)]: Done 179 tasks      | elapsed: 29.0min\n",
            "[Parallel(n_jobs=-1)]: Done 180 tasks      | elapsed: 29.0min\n",
            "[Parallel(n_jobs=-1)]: Done 181 tasks      | elapsed: 29.3min\n",
            "[Parallel(n_jobs=-1)]: Done 182 tasks      | elapsed: 29.4min\n",
            "[Parallel(n_jobs=-1)]: Done 183 tasks      | elapsed: 29.7min\n",
            "[Parallel(n_jobs=-1)]: Done 184 tasks      | elapsed: 29.8min\n",
            "[Parallel(n_jobs=-1)]: Done 185 tasks      | elapsed: 30.1min\n",
            "[Parallel(n_jobs=-1)]: Done 186 tasks      | elapsed: 30.1min\n",
            "[Parallel(n_jobs=-1)]: Done 187 tasks      | elapsed: 30.5min\n",
            "[Parallel(n_jobs=-1)]: Done 188 tasks      | elapsed: 30.5min\n",
            "[Parallel(n_jobs=-1)]: Done 189 tasks      | elapsed: 30.9min\n",
            "[Parallel(n_jobs=-1)]: Done 190 tasks      | elapsed: 30.9min\n",
            "[Parallel(n_jobs=-1)]: Done 191 tasks      | elapsed: 31.5min\n",
            "[Parallel(n_jobs=-1)]: Done 192 tasks      | elapsed: 31.5min\n",
            "[Parallel(n_jobs=-1)]: Done 193 tasks      | elapsed: 32.0min\n",
            "[Parallel(n_jobs=-1)]: Done 194 tasks      | elapsed: 32.0min\n",
            "[Parallel(n_jobs=-1)]: Done 195 tasks      | elapsed: 32.5min\n",
            "[Parallel(n_jobs=-1)]: Done 196 tasks      | elapsed: 32.5min\n",
            "[Parallel(n_jobs=-1)]: Done 197 tasks      | elapsed: 33.0min\n",
            "[Parallel(n_jobs=-1)]: Done 198 tasks      | elapsed: 33.1min\n",
            "[Parallel(n_jobs=-1)]: Done 199 tasks      | elapsed: 33.6min\n",
            "[Parallel(n_jobs=-1)]: Done 200 tasks      | elapsed: 33.6min\n",
            "[Parallel(n_jobs=-1)]: Done 201 tasks      | elapsed: 33.9min\n",
            "[Parallel(n_jobs=-1)]: Done 202 tasks      | elapsed: 33.9min\n",
            "[Parallel(n_jobs=-1)]: Done 203 tasks      | elapsed: 34.1min\n",
            "[Parallel(n_jobs=-1)]: Done 204 tasks      | elapsed: 34.1min\n",
            "[Parallel(n_jobs=-1)]: Done 205 tasks      | elapsed: 34.4min\n",
            "[Parallel(n_jobs=-1)]: Done 206 tasks      | elapsed: 34.4min\n",
            "[Parallel(n_jobs=-1)]: Done 207 tasks      | elapsed: 34.7min\n",
            "[Parallel(n_jobs=-1)]: Done 208 tasks      | elapsed: 34.7min\n",
            "[Parallel(n_jobs=-1)]: Done 209 tasks      | elapsed: 35.0min\n",
            "[Parallel(n_jobs=-1)]: Done 210 tasks      | elapsed: 35.0min\n",
            "[Parallel(n_jobs=-1)]: Done 211 tasks      | elapsed: 35.3min\n",
            "[Parallel(n_jobs=-1)]: Done 212 tasks      | elapsed: 35.4min\n",
            "[Parallel(n_jobs=-1)]: Done 213 tasks      | elapsed: 35.7min\n",
            "[Parallel(n_jobs=-1)]: Done 214 tasks      | elapsed: 35.7min\n",
            "[Parallel(n_jobs=-1)]: Done 215 tasks      | elapsed: 36.1min\n",
            "[Parallel(n_jobs=-1)]: Done 216 tasks      | elapsed: 36.1min\n",
            "[Parallel(n_jobs=-1)]: Done 217 tasks      | elapsed: 36.5min\n",
            "[Parallel(n_jobs=-1)]: Done 218 tasks      | elapsed: 36.5min\n",
            "[Parallel(n_jobs=-1)]: Done 219 tasks      | elapsed: 36.8min\n",
            "[Parallel(n_jobs=-1)]: Done 220 tasks      | elapsed: 36.9min\n",
            "[Parallel(n_jobs=-1)]: Done 221 tasks      | elapsed: 37.4min\n",
            "[Parallel(n_jobs=-1)]: Done 222 tasks      | elapsed: 37.4min\n",
            "[Parallel(n_jobs=-1)]: Done 223 tasks      | elapsed: 38.0min\n",
            "[Parallel(n_jobs=-1)]: Done 224 tasks      | elapsed: 38.0min\n",
            "[Parallel(n_jobs=-1)]: Done 225 tasks      | elapsed: 38.5min\n",
            "[Parallel(n_jobs=-1)]: Done 226 tasks      | elapsed: 38.5min\n",
            "[Parallel(n_jobs=-1)]: Done 227 tasks      | elapsed: 39.1min\n",
            "[Parallel(n_jobs=-1)]: Done 228 tasks      | elapsed: 39.1min\n",
            "[Parallel(n_jobs=-1)]: Done 229 tasks      | elapsed: 39.6min\n",
            "[Parallel(n_jobs=-1)]: Done 230 tasks      | elapsed: 39.6min\n",
            "[Parallel(n_jobs=-1)]: Done 231 tasks      | elapsed: 40.4min\n",
            "[Parallel(n_jobs=-1)]: Done 232 tasks      | elapsed: 40.4min\n",
            "[Parallel(n_jobs=-1)]: Done 233 tasks      | elapsed: 41.1min\n",
            "[Parallel(n_jobs=-1)]: Done 234 tasks      | elapsed: 41.1min\n",
            "[Parallel(n_jobs=-1)]: Done 235 tasks      | elapsed: 41.9min\n",
            "[Parallel(n_jobs=-1)]: Done 236 tasks      | elapsed: 41.9min\n",
            "[Parallel(n_jobs=-1)]: Done 237 tasks      | elapsed: 42.6min\n",
            "[Parallel(n_jobs=-1)]: Done 240 out of 240 | elapsed: 43.4min remaining:    0.0s\n",
            "[Parallel(n_jobs=-1)]: Done 240 out of 240 | elapsed: 43.4min finished\n"
          ],
          "name": "stdout"
        },
        {
          "output_type": "stream",
          "text": [
            "/usr/local/lib/python3.6/dist-packages/sklearn/model_selection/_search.py:823: FutureWarning: The parameter 'iid' is deprecated in 0.22 and will be removed in 0.24.\n",
            "  \"removed in 0.24.\", FutureWarning\n"
          ],
          "name": "stderr"
        },
        {
          "output_type": "stream",
          "text": [
            "gsearch1.best_params_ {'colsample_bytree': 0.7, 'max_depth': 5, 'n_estimators': 150, 'subsample': 0.8}\n",
            "gsearch1.best_score_ 0.5337747914902816\n"
          ],
          "name": "stdout"
        }
      ]
    },
    {
      "cell_type": "code",
      "metadata": {
        "id": "_tTLxsCezKXE",
        "colab_type": "code",
        "colab": {
          "base_uri": "https://localhost:8080/",
          "height": 52
        },
        "outputId": "8626a5f7-bfc2-4f1d-ddfb-1c487a86a906"
      },
      "source": [
        "%%time\n",
        "\n",
        "modelXg = XGBClassifier(tree_method='gpu_hist',predictor='gpu_predictor',\\\n",
        "                        learning_rate=0.1, n_estimators=100, max_depth=5,min_child_weight=100,\n",
        "                        nthread=-1, subsample=0.8, colsample_bytree=0.7, scoring = 'accuracy',seed=7)\n",
        "modelXg.fit(X_train, y_train)\n",
        "# scale_pos_weight=3"
      ],
      "execution_count": null,
      "outputs": [
        {
          "output_type": "stream",
          "text": [
            "CPU times: user 3.07 s, sys: 540 ms, total: 3.61 s\n",
            "Wall time: 1.93 s\n"
          ],
          "name": "stdout"
        }
      ]
    },
    {
      "cell_type": "code",
      "metadata": {
        "id": "OEwuxFl2aaB0",
        "colab_type": "code",
        "colab": {
          "base_uri": "https://localhost:8080/",
          "height": 1000
        },
        "outputId": "1e29e38d-ea4b-4470-d2a8-e8c728956519"
      },
      "source": [
        "feature_important  = modelXg.get_booster().get_score(importance_type='gain')\n",
        "\n",
        "keys = list(feature_important.keys())\n",
        "values = list(feature_important.values())\n",
        "\n",
        "data = pd.DataFrame(data=values, index=keys, columns=[\"score\"]).sort_values(by = \"score\")\n",
        "# data.plot(kind='barh')\n",
        "data.sort_values('score', ascending = False)"
      ],
      "execution_count": null,
      "outputs": [
        {
          "output_type": "execute_result",
          "data": {
            "text/html": [
              "<div>\n",
              "<style scoped>\n",
              "    .dataframe tbody tr th:only-of-type {\n",
              "        vertical-align: middle;\n",
              "    }\n",
              "\n",
              "    .dataframe tbody tr th {\n",
              "        vertical-align: top;\n",
              "    }\n",
              "\n",
              "    .dataframe thead th {\n",
              "        text-align: right;\n",
              "    }\n",
              "</style>\n",
              "<table border=\"1\" class=\"dataframe\">\n",
              "  <thead>\n",
              "    <tr style=\"text-align: right;\">\n",
              "      <th></th>\n",
              "      <th>score</th>\n",
              "    </tr>\n",
              "  </thead>\n",
              "  <tbody>\n",
              "    <tr>\n",
              "      <th>Spending_Score_vr.NUM_UNIQUE(trainingdata.Ever_Married)</th>\n",
              "      <td>29.594649</td>\n",
              "    </tr>\n",
              "    <tr>\n",
              "      <th>Profession_var.SKEW(trainingdata.Family_Size)</th>\n",
              "      <td>19.036536</td>\n",
              "    </tr>\n",
              "    <tr>\n",
              "      <th>Spending_Score_vr.MEAN(trainingdata.Age)</th>\n",
              "      <td>17.577803</td>\n",
              "    </tr>\n",
              "    <tr>\n",
              "      <th>Spending_Score_vr.SKEW(trainingdata.Family_Size)</th>\n",
              "      <td>16.201827</td>\n",
              "    </tr>\n",
              "    <tr>\n",
              "      <th>Spending_Score_vr.SUM(trainingdata.Age)</th>\n",
              "      <td>14.765650</td>\n",
              "    </tr>\n",
              "    <tr>\n",
              "      <th>Spending_Score_vr.SUM(trainingdata.Work_Experience)</th>\n",
              "      <td>14.553505</td>\n",
              "    </tr>\n",
              "    <tr>\n",
              "      <th>Spending_Score_vr.MODE(trainingdata.Ever_Married)_No</th>\n",
              "      <td>14.170802</td>\n",
              "    </tr>\n",
              "    <tr>\n",
              "      <th>Spending_Score_vr.STD(trainingdata.Work_Experience)</th>\n",
              "      <td>13.378577</td>\n",
              "    </tr>\n",
              "    <tr>\n",
              "      <th>Profession_var.MODE(trainingdata.Graduated)_Yes</th>\n",
              "      <td>13.099765</td>\n",
              "    </tr>\n",
              "    <tr>\n",
              "      <th>Married.MEAN(trainingdata.Age)</th>\n",
              "      <td>12.096695</td>\n",
              "    </tr>\n",
              "    <tr>\n",
              "      <th>Profession_var.SUM(trainingdata.Age)</th>\n",
              "      <td>12.071976</td>\n",
              "    </tr>\n",
              "    <tr>\n",
              "      <th>Spending_Score_vr.MEAN(trainingdata.Family_Size)</th>\n",
              "      <td>9.055395</td>\n",
              "    </tr>\n",
              "    <tr>\n",
              "      <th>PeGraduated_varsticide_Use.MODE(trainingdata.Ever_Married)_No</th>\n",
              "      <td>8.902786</td>\n",
              "    </tr>\n",
              "    <tr>\n",
              "      <th>PeGraduated_varsticide_Use.SKEW(trainingdata.Age)</th>\n",
              "      <td>8.673260</td>\n",
              "    </tr>\n",
              "    <tr>\n",
              "      <th>Age</th>\n",
              "      <td>8.147501</td>\n",
              "    </tr>\n",
              "    <tr>\n",
              "      <th>Spending_Score_vr.SUM(trainingdata.Family_Size)</th>\n",
              "      <td>7.867168</td>\n",
              "    </tr>\n",
              "    <tr>\n",
              "      <th>PeGraduated_varsticide_Use.SKEW(trainingdata.Family_Size)</th>\n",
              "      <td>7.581869</td>\n",
              "    </tr>\n",
              "    <tr>\n",
              "      <th>PeGraduated_varsticide_Use.SUM(trainingdata.Age)</th>\n",
              "      <td>7.561350</td>\n",
              "    </tr>\n",
              "    <tr>\n",
              "      <th>Spending_Score_vr.SKEW(trainingdata.Age)</th>\n",
              "      <td>7.279879</td>\n",
              "    </tr>\n",
              "    <tr>\n",
              "      <th>PeGraduated_varsticide_Use.SUM(trainingdata.Work_Experience)</th>\n",
              "      <td>7.279259</td>\n",
              "    </tr>\n",
              "    <tr>\n",
              "      <th>Profession_var.SKEW(trainingdata.Age)</th>\n",
              "      <td>7.177728</td>\n",
              "    </tr>\n",
              "    <tr>\n",
              "      <th>PeGraduated_varsticide_Use.SUM(trainingdata.Family_Size)</th>\n",
              "      <td>6.544002</td>\n",
              "    </tr>\n",
              "    <tr>\n",
              "      <th>Profession_var.SUM(trainingdata.Work_Experience)</th>\n",
              "      <td>6.500386</td>\n",
              "    </tr>\n",
              "    <tr>\n",
              "      <th>Profession_var.SUM(trainingdata.Family_Size)</th>\n",
              "      <td>6.455038</td>\n",
              "    </tr>\n",
              "    <tr>\n",
              "      <th>Profession_var.MEAN(trainingdata.Work_Experience)</th>\n",
              "      <td>6.229018</td>\n",
              "    </tr>\n",
              "    <tr>\n",
              "      <th>Graduated_Yes</th>\n",
              "      <td>5.819842</td>\n",
              "    </tr>\n",
              "    <tr>\n",
              "      <th>Profession_var.STD(trainingdata.Age)</th>\n",
              "      <td>5.802656</td>\n",
              "    </tr>\n",
              "    <tr>\n",
              "      <th>Profession_var.MEAN(trainingdata.Age)</th>\n",
              "      <td>5.401678</td>\n",
              "    </tr>\n",
              "    <tr>\n",
              "      <th>Var_1_var.MEAN(trainingdata.Family_Size)</th>\n",
              "      <td>4.428638</td>\n",
              "    </tr>\n",
              "    <tr>\n",
              "      <th>PeGraduated_varsticide_Use.SKEW(trainingdata.Work_Experience)</th>\n",
              "      <td>4.402634</td>\n",
              "    </tr>\n",
              "    <tr>\n",
              "      <th>Profession_var.SKEW(trainingdata.Work_Experience)</th>\n",
              "      <td>4.268571</td>\n",
              "    </tr>\n",
              "    <tr>\n",
              "      <th>PeGraduated_varsticide_Use.MEAN(trainingdata.Work_Experience)</th>\n",
              "      <td>4.215958</td>\n",
              "    </tr>\n",
              "    <tr>\n",
              "      <th>Married.SUM(trainingdata.Age)</th>\n",
              "      <td>4.138956</td>\n",
              "    </tr>\n",
              "    <tr>\n",
              "      <th>Profession_var.MODE(trainingdata.Gender)_Female</th>\n",
              "      <td>3.828733</td>\n",
              "    </tr>\n",
              "    <tr>\n",
              "      <th>PeGraduated_varsticide_Use.MODE(trainingdata.Profession)_Healthcare</th>\n",
              "      <td>3.727018</td>\n",
              "    </tr>\n",
              "    <tr>\n",
              "      <th>Profession_var.MAX(trainingdata.Age)</th>\n",
              "      <td>3.707818</td>\n",
              "    </tr>\n",
              "    <tr>\n",
              "      <th>Profession_Artist</th>\n",
              "      <td>3.659191</td>\n",
              "    </tr>\n",
              "    <tr>\n",
              "      <th>Spending_Score_vr.STD(trainingdata.Family_Size)</th>\n",
              "      <td>3.614359</td>\n",
              "    </tr>\n",
              "    <tr>\n",
              "      <th>Spending_Score_Average</th>\n",
              "      <td>3.576914</td>\n",
              "    </tr>\n",
              "    <tr>\n",
              "      <th>Var_1_Cat_4</th>\n",
              "      <td>3.492405</td>\n",
              "    </tr>\n",
              "    <tr>\n",
              "      <th>Profession_Executive</th>\n",
              "      <td>3.441474</td>\n",
              "    </tr>\n",
              "    <tr>\n",
              "      <th>Family_Size</th>\n",
              "      <td>3.427656</td>\n",
              "    </tr>\n",
              "    <tr>\n",
              "      <th>Profession_var.MEAN(trainingdata.Family_Size)</th>\n",
              "      <td>3.413740</td>\n",
              "    </tr>\n",
              "    <tr>\n",
              "      <th>Var_1_var.MEAN(trainingdata.Work_Experience)</th>\n",
              "      <td>3.338436</td>\n",
              "    </tr>\n",
              "    <tr>\n",
              "      <th>Ever_Married_No</th>\n",
              "      <td>3.314174</td>\n",
              "    </tr>\n",
              "    <tr>\n",
              "      <th>Var_1_var.SKEW(trainingdata.Family_Size)</th>\n",
              "      <td>3.216848</td>\n",
              "    </tr>\n",
              "    <tr>\n",
              "      <th>Profession_Doctor</th>\n",
              "      <td>3.158378</td>\n",
              "    </tr>\n",
              "    <tr>\n",
              "      <th>Spending_Score_vr.MODE(trainingdata.Ever_Married)_Yes</th>\n",
              "      <td>3.147664</td>\n",
              "    </tr>\n",
              "    <tr>\n",
              "      <th>Married.STD(trainingdata.Age)</th>\n",
              "      <td>3.125816</td>\n",
              "    </tr>\n",
              "    <tr>\n",
              "      <th>Var_1_var.STD(trainingdata.Work_Experience)</th>\n",
              "      <td>3.098985</td>\n",
              "    </tr>\n",
              "    <tr>\n",
              "      <th>Profession_var.MODE(trainingdata.Gender)_Male</th>\n",
              "      <td>3.082842</td>\n",
              "    </tr>\n",
              "    <tr>\n",
              "      <th>Spending_Score_vr.STD(trainingdata.Age)</th>\n",
              "      <td>3.040977</td>\n",
              "    </tr>\n",
              "    <tr>\n",
              "      <th>Var_1_var.SKEW(trainingdata.Work_Experience)</th>\n",
              "      <td>2.805827</td>\n",
              "    </tr>\n",
              "    <tr>\n",
              "      <th>Profession_var.STD(trainingdata.Work_Experience)</th>\n",
              "      <td>2.796207</td>\n",
              "    </tr>\n",
              "    <tr>\n",
              "      <th>Profession_var.MODE(trainingdata.Graduated)_No</th>\n",
              "      <td>2.740000</td>\n",
              "    </tr>\n",
              "    <tr>\n",
              "      <th>Married.STD(trainingdata.Work_Experience)</th>\n",
              "      <td>2.723169</td>\n",
              "    </tr>\n",
              "    <tr>\n",
              "      <th>Spending_Score_vr.SKEW(trainingdata.Work_Experience)</th>\n",
              "      <td>2.689991</td>\n",
              "    </tr>\n",
              "    <tr>\n",
              "      <th>Married.SUM(trainingdata.Work_Experience)</th>\n",
              "      <td>2.574041</td>\n",
              "    </tr>\n",
              "    <tr>\n",
              "      <th>Var_1_var.STD(trainingdata.Family_Size)</th>\n",
              "      <td>2.570440</td>\n",
              "    </tr>\n",
              "    <tr>\n",
              "      <th>Gender_var.MEAN(trainingdata.Family_Size)</th>\n",
              "      <td>2.495834</td>\n",
              "    </tr>\n",
              "    <tr>\n",
              "      <th>PeGraduated_varsticide_Use.STD(trainingdata.Age)</th>\n",
              "      <td>2.478553</td>\n",
              "    </tr>\n",
              "    <tr>\n",
              "      <th>Married.STD(trainingdata.Family_Size)</th>\n",
              "      <td>2.452748</td>\n",
              "    </tr>\n",
              "    <tr>\n",
              "      <th>Var_1_var.MAX(trainingdata.Age)</th>\n",
              "      <td>2.326239</td>\n",
              "    </tr>\n",
              "    <tr>\n",
              "      <th>Gender_var.MEAN(trainingdata.Age)</th>\n",
              "      <td>2.298317</td>\n",
              "    </tr>\n",
              "    <tr>\n",
              "      <th>Var_1_var.SKEW(trainingdata.Age)</th>\n",
              "      <td>2.249285</td>\n",
              "    </tr>\n",
              "    <tr>\n",
              "      <th>Profession_Entertainment</th>\n",
              "      <td>2.246516</td>\n",
              "    </tr>\n",
              "    <tr>\n",
              "      <th>Gender_var.SUM(trainingdata.Age)</th>\n",
              "      <td>2.238946</td>\n",
              "    </tr>\n",
              "    <tr>\n",
              "      <th>Spending_Score_Low</th>\n",
              "      <td>2.188593</td>\n",
              "    </tr>\n",
              "    <tr>\n",
              "      <th>Gender_var.SUM(trainingdata.Work_Experience)</th>\n",
              "      <td>2.158040</td>\n",
              "    </tr>\n",
              "    <tr>\n",
              "      <th>Graduated_nan</th>\n",
              "      <td>2.148028</td>\n",
              "    </tr>\n",
              "    <tr>\n",
              "      <th>Gender_var.SKEW(trainingdata.Work_Experience)</th>\n",
              "      <td>2.137416</td>\n",
              "    </tr>\n",
              "    <tr>\n",
              "      <th>Married.MEAN(trainingdata.Work_Experience)</th>\n",
              "      <td>2.135032</td>\n",
              "    </tr>\n",
              "    <tr>\n",
              "      <th>Var_1_var.STD(trainingdata.Age)</th>\n",
              "      <td>2.091885</td>\n",
              "    </tr>\n",
              "    <tr>\n",
              "      <th>PeGraduated_varsticide_Use.MEAN(trainingdata.Age)</th>\n",
              "      <td>2.081085</td>\n",
              "    </tr>\n",
              "    <tr>\n",
              "      <th>Profession_Healthcare</th>\n",
              "      <td>2.065530</td>\n",
              "    </tr>\n",
              "    <tr>\n",
              "      <th>Var_1_var.SUM(trainingdata.Work_Experience)</th>\n",
              "      <td>2.062266</td>\n",
              "    </tr>\n",
              "    <tr>\n",
              "      <th>Profession_var.MODE(trainingdata.Ever_Married)_Yes</th>\n",
              "      <td>1.953059</td>\n",
              "    </tr>\n",
              "    <tr>\n",
              "      <th>Gender_var.SUM(trainingdata.Family_Size)</th>\n",
              "      <td>1.912395</td>\n",
              "    </tr>\n",
              "    <tr>\n",
              "      <th>Work_Experience</th>\n",
              "      <td>1.909472</td>\n",
              "    </tr>\n",
              "    <tr>\n",
              "      <th>Married.MODE(trainingdata.Spending_Score)_Low</th>\n",
              "      <td>1.907966</td>\n",
              "    </tr>\n",
              "    <tr>\n",
              "      <th>Var_1_var.MEAN(trainingdata.Age)</th>\n",
              "      <td>1.898998</td>\n",
              "    </tr>\n",
              "    <tr>\n",
              "      <th>Gender_var.STD(trainingdata.Age)</th>\n",
              "      <td>1.827180</td>\n",
              "    </tr>\n",
              "    <tr>\n",
              "      <th>Married.MODE(trainingdata.Profession)_Artist</th>\n",
              "      <td>1.811663</td>\n",
              "    </tr>\n",
              "    <tr>\n",
              "      <th>Profession_var.STD(trainingdata.Family_Size)</th>\n",
              "      <td>1.743861</td>\n",
              "    </tr>\n",
              "    <tr>\n",
              "      <th>Var_1_var.SUM(trainingdata.Age)</th>\n",
              "      <td>1.742010</td>\n",
              "    </tr>\n",
              "    <tr>\n",
              "      <th>PeGraduated_varsticide_Use.MODE(trainingdata.Profession)_Artist</th>\n",
              "      <td>1.645861</td>\n",
              "    </tr>\n",
              "    <tr>\n",
              "      <th>Married.SUM(trainingdata.Family_Size)</th>\n",
              "      <td>1.641426</td>\n",
              "    </tr>\n",
              "    <tr>\n",
              "      <th>Profession_var.MODE(trainingdata.Ever_Married)_No</th>\n",
              "      <td>1.570390</td>\n",
              "    </tr>\n",
              "    <tr>\n",
              "      <th>Ever_Married_Yes</th>\n",
              "      <td>1.556752</td>\n",
              "    </tr>\n",
              "    <tr>\n",
              "      <th>Var_1_Cat_3</th>\n",
              "      <td>1.524148</td>\n",
              "    </tr>\n",
              "    <tr>\n",
              "      <th>Var_1_var.MODE(trainingdata.Ever_Married)_Yes</th>\n",
              "      <td>1.522712</td>\n",
              "    </tr>\n",
              "    <tr>\n",
              "      <th>Married.MODE(trainingdata.Profession)_Healthcare</th>\n",
              "      <td>1.388630</td>\n",
              "    </tr>\n",
              "    <tr>\n",
              "      <th>Gender_var.SKEW(trainingdata.Family_Size)</th>\n",
              "      <td>1.384274</td>\n",
              "    </tr>\n",
              "    <tr>\n",
              "      <th>Gender_Female</th>\n",
              "      <td>1.368976</td>\n",
              "    </tr>\n",
              "    <tr>\n",
              "      <th>Married.SKEW(trainingdata.Age)</th>\n",
              "      <td>1.290099</td>\n",
              "    </tr>\n",
              "    <tr>\n",
              "      <th>Gender_Male</th>\n",
              "      <td>1.271525</td>\n",
              "    </tr>\n",
              "    <tr>\n",
              "      <th>PeGraduated_varsticide_Use.STD(trainingdata.Work_Experience)</th>\n",
              "      <td>1.264188</td>\n",
              "    </tr>\n",
              "    <tr>\n",
              "      <th>Gender_var.SKEW(trainingdata.Age)</th>\n",
              "      <td>1.252510</td>\n",
              "    </tr>\n",
              "    <tr>\n",
              "      <th>Spending_Score_High</th>\n",
              "      <td>1.231922</td>\n",
              "    </tr>\n",
              "    <tr>\n",
              "      <th>Married.MODE(trainingdata.Spending_Score)_Average</th>\n",
              "      <td>1.202384</td>\n",
              "    </tr>\n",
              "    <tr>\n",
              "      <th>Var_1_var.SUM(trainingdata.Family_Size)</th>\n",
              "      <td>1.158953</td>\n",
              "    </tr>\n",
              "    <tr>\n",
              "      <th>Gender_var.STD(trainingdata.Family_Size)</th>\n",
              "      <td>1.084314</td>\n",
              "    </tr>\n",
              "    <tr>\n",
              "      <th>Gender_var.MEAN(trainingdata.Work_Experience)</th>\n",
              "      <td>1.070580</td>\n",
              "    </tr>\n",
              "    <tr>\n",
              "      <th>Married.MEAN(trainingdata.Family_Size)</th>\n",
              "      <td>1.054817</td>\n",
              "    </tr>\n",
              "    <tr>\n",
              "      <th>Var_1_Cat_6</th>\n",
              "      <td>1.028811</td>\n",
              "    </tr>\n",
              "    <tr>\n",
              "      <th>PeGraduated_varsticide_Use.STD(trainingdata.Family_Size)</th>\n",
              "      <td>1.005778</td>\n",
              "    </tr>\n",
              "    <tr>\n",
              "      <th>Spending_Score_vr.MODE(trainingdata.Profession)_Executive</th>\n",
              "      <td>0.951497</td>\n",
              "    </tr>\n",
              "    <tr>\n",
              "      <th>Gender_var.STD(trainingdata.Work_Experience)</th>\n",
              "      <td>0.860836</td>\n",
              "    </tr>\n",
              "    <tr>\n",
              "      <th>PeGraduated_varsticide_Use.MODE(trainingdata.Ever_Married)_Yes</th>\n",
              "      <td>0.847835</td>\n",
              "    </tr>\n",
              "    <tr>\n",
              "      <th>Spending_Score_vr.MODE(trainingdata.Profession)_Artist</th>\n",
              "      <td>0.772114</td>\n",
              "    </tr>\n",
              "    <tr>\n",
              "      <th>PeGraduated_varsticide_Use.MEAN(trainingdata.Family_Size)</th>\n",
              "      <td>0.726590</td>\n",
              "    </tr>\n",
              "    <tr>\n",
              "      <th>Married.MODE(trainingdata.Gender)_Male</th>\n",
              "      <td>0.715781</td>\n",
              "    </tr>\n",
              "    <tr>\n",
              "      <th>Married.NUM_UNIQUE(trainingdata.Spending_Score)</th>\n",
              "      <td>0.620215</td>\n",
              "    </tr>\n",
              "    <tr>\n",
              "      <th>Profession_var.MODE(trainingdata.Spending_Score)_High</th>\n",
              "      <td>0.459038</td>\n",
              "    </tr>\n",
              "    <tr>\n",
              "      <th>Married.MODE(trainingdata.Gender)_Female</th>\n",
              "      <td>0.430956</td>\n",
              "    </tr>\n",
              "    <tr>\n",
              "      <th>Spending_Score_vr.MEAN(trainingdata.Work_Experience)</th>\n",
              "      <td>0.319628</td>\n",
              "    </tr>\n",
              "  </tbody>\n",
              "</table>\n",
              "</div>"
            ],
            "text/plain": [
              "                                                        score\n",
              "Spending_Score_vr.NUM_UNIQUE(trainingdata.Ever_...  29.594649\n",
              "Profession_var.SKEW(trainingdata.Family_Size)       19.036536\n",
              "Spending_Score_vr.MEAN(trainingdata.Age)            17.577803\n",
              "Spending_Score_vr.SKEW(trainingdata.Family_Size)    16.201827\n",
              "Spending_Score_vr.SUM(trainingdata.Age)             14.765650\n",
              "Spending_Score_vr.SUM(trainingdata.Work_Experie...  14.553505\n",
              "Spending_Score_vr.MODE(trainingdata.Ever_Marrie...  14.170802\n",
              "Spending_Score_vr.STD(trainingdata.Work_Experie...  13.378577\n",
              "Profession_var.MODE(trainingdata.Graduated)_Yes     13.099765\n",
              "Married.MEAN(trainingdata.Age)                      12.096695\n",
              "Profession_var.SUM(trainingdata.Age)                12.071976\n",
              "Spending_Score_vr.MEAN(trainingdata.Family_Size)     9.055395\n",
              "PeGraduated_varsticide_Use.MODE(trainingdata.Ev...   8.902786\n",
              "PeGraduated_varsticide_Use.SKEW(trainingdata.Age)    8.673260\n",
              "Age                                                  8.147501\n",
              "Spending_Score_vr.SUM(trainingdata.Family_Size)      7.867168\n",
              "PeGraduated_varsticide_Use.SKEW(trainingdata.Fa...   7.581869\n",
              "PeGraduated_varsticide_Use.SUM(trainingdata.Age)     7.561350\n",
              "Spending_Score_vr.SKEW(trainingdata.Age)             7.279879\n",
              "PeGraduated_varsticide_Use.SUM(trainingdata.Wor...   7.279259\n",
              "Profession_var.SKEW(trainingdata.Age)                7.177728\n",
              "PeGraduated_varsticide_Use.SUM(trainingdata.Fam...   6.544002\n",
              "Profession_var.SUM(trainingdata.Work_Experience)     6.500386\n",
              "Profession_var.SUM(trainingdata.Family_Size)         6.455038\n",
              "Profession_var.MEAN(trainingdata.Work_Experience)    6.229018\n",
              "Graduated_Yes                                        5.819842\n",
              "Profession_var.STD(trainingdata.Age)                 5.802656\n",
              "Profession_var.MEAN(trainingdata.Age)                5.401678\n",
              "Var_1_var.MEAN(trainingdata.Family_Size)             4.428638\n",
              "PeGraduated_varsticide_Use.SKEW(trainingdata.Wo...   4.402634\n",
              "Profession_var.SKEW(trainingdata.Work_Experience)    4.268571\n",
              "PeGraduated_varsticide_Use.MEAN(trainingdata.Wo...   4.215958\n",
              "Married.SUM(trainingdata.Age)                        4.138956\n",
              "Profession_var.MODE(trainingdata.Gender)_Female      3.828733\n",
              "PeGraduated_varsticide_Use.MODE(trainingdata.Pr...   3.727018\n",
              "Profession_var.MAX(trainingdata.Age)                 3.707818\n",
              "Profession_Artist                                    3.659191\n",
              "Spending_Score_vr.STD(trainingdata.Family_Size)      3.614359\n",
              "Spending_Score_Average                               3.576914\n",
              "Var_1_Cat_4                                          3.492405\n",
              "Profession_Executive                                 3.441474\n",
              "Family_Size                                          3.427656\n",
              "Profession_var.MEAN(trainingdata.Family_Size)        3.413740\n",
              "Var_1_var.MEAN(trainingdata.Work_Experience)         3.338436\n",
              "Ever_Married_No                                      3.314174\n",
              "Var_1_var.SKEW(trainingdata.Family_Size)             3.216848\n",
              "Profession_Doctor                                    3.158378\n",
              "Spending_Score_vr.MODE(trainingdata.Ever_Marrie...   3.147664\n",
              "Married.STD(trainingdata.Age)                        3.125816\n",
              "Var_1_var.STD(trainingdata.Work_Experience)          3.098985\n",
              "Profession_var.MODE(trainingdata.Gender)_Male        3.082842\n",
              "Spending_Score_vr.STD(trainingdata.Age)              3.040977\n",
              "Var_1_var.SKEW(trainingdata.Work_Experience)         2.805827\n",
              "Profession_var.STD(trainingdata.Work_Experience)     2.796207\n",
              "Profession_var.MODE(trainingdata.Graduated)_No       2.740000\n",
              "Married.STD(trainingdata.Work_Experience)            2.723169\n",
              "Spending_Score_vr.SKEW(trainingdata.Work_Experi...   2.689991\n",
              "Married.SUM(trainingdata.Work_Experience)            2.574041\n",
              "Var_1_var.STD(trainingdata.Family_Size)              2.570440\n",
              "Gender_var.MEAN(trainingdata.Family_Size)            2.495834\n",
              "PeGraduated_varsticide_Use.STD(trainingdata.Age)     2.478553\n",
              "Married.STD(trainingdata.Family_Size)                2.452748\n",
              "Var_1_var.MAX(trainingdata.Age)                      2.326239\n",
              "Gender_var.MEAN(trainingdata.Age)                    2.298317\n",
              "Var_1_var.SKEW(trainingdata.Age)                     2.249285\n",
              "Profession_Entertainment                             2.246516\n",
              "Gender_var.SUM(trainingdata.Age)                     2.238946\n",
              "Spending_Score_Low                                   2.188593\n",
              "Gender_var.SUM(trainingdata.Work_Experience)         2.158040\n",
              "Graduated_nan                                        2.148028\n",
              "Gender_var.SKEW(trainingdata.Work_Experience)        2.137416\n",
              "Married.MEAN(trainingdata.Work_Experience)           2.135032\n",
              "Var_1_var.STD(trainingdata.Age)                      2.091885\n",
              "PeGraduated_varsticide_Use.MEAN(trainingdata.Age)    2.081085\n",
              "Profession_Healthcare                                2.065530\n",
              "Var_1_var.SUM(trainingdata.Work_Experience)          2.062266\n",
              "Profession_var.MODE(trainingdata.Ever_Married)_Yes   1.953059\n",
              "Gender_var.SUM(trainingdata.Family_Size)             1.912395\n",
              "Work_Experience                                      1.909472\n",
              "Married.MODE(trainingdata.Spending_Score)_Low        1.907966\n",
              "Var_1_var.MEAN(trainingdata.Age)                     1.898998\n",
              "Gender_var.STD(trainingdata.Age)                     1.827180\n",
              "Married.MODE(trainingdata.Profession)_Artist         1.811663\n",
              "Profession_var.STD(trainingdata.Family_Size)         1.743861\n",
              "Var_1_var.SUM(trainingdata.Age)                      1.742010\n",
              "PeGraduated_varsticide_Use.MODE(trainingdata.Pr...   1.645861\n",
              "Married.SUM(trainingdata.Family_Size)                1.641426\n",
              "Profession_var.MODE(trainingdata.Ever_Married)_No    1.570390\n",
              "Ever_Married_Yes                                     1.556752\n",
              "Var_1_Cat_3                                          1.524148\n",
              "Var_1_var.MODE(trainingdata.Ever_Married)_Yes        1.522712\n",
              "Married.MODE(trainingdata.Profession)_Healthcare     1.388630\n",
              "Gender_var.SKEW(trainingdata.Family_Size)            1.384274\n",
              "Gender_Female                                        1.368976\n",
              "Married.SKEW(trainingdata.Age)                       1.290099\n",
              "Gender_Male                                          1.271525\n",
              "PeGraduated_varsticide_Use.STD(trainingdata.Wor...   1.264188\n",
              "Gender_var.SKEW(trainingdata.Age)                    1.252510\n",
              "Spending_Score_High                                  1.231922\n",
              "Married.MODE(trainingdata.Spending_Score)_Average    1.202384\n",
              "Var_1_var.SUM(trainingdata.Family_Size)              1.158953\n",
              "Gender_var.STD(trainingdata.Family_Size)             1.084314\n",
              "Gender_var.MEAN(trainingdata.Work_Experience)        1.070580\n",
              "Married.MEAN(trainingdata.Family_Size)               1.054817\n",
              "Var_1_Cat_6                                          1.028811\n",
              "PeGraduated_varsticide_Use.STD(trainingdata.Fam...   1.005778\n",
              "Spending_Score_vr.MODE(trainingdata.Profession)...   0.951497\n",
              "Gender_var.STD(trainingdata.Work_Experience)         0.860836\n",
              "PeGraduated_varsticide_Use.MODE(trainingdata.Ev...   0.847835\n",
              "Spending_Score_vr.MODE(trainingdata.Profession)...   0.772114\n",
              "PeGraduated_varsticide_Use.MEAN(trainingdata.Fa...   0.726590\n",
              "Married.MODE(trainingdata.Gender)_Male               0.715781\n",
              "Married.NUM_UNIQUE(trainingdata.Spending_Score)      0.620215\n",
              "Profession_var.MODE(trainingdata.Spending_Score...   0.459038\n",
              "Married.MODE(trainingdata.Gender)_Female             0.430956\n",
              "Spending_Score_vr.MEAN(trainingdata.Work_Experi...   0.319628"
            ]
          },
          "metadata": {
            "tags": []
          },
          "execution_count": 51
        }
      ]
    },
    {
      "cell_type": "code",
      "metadata": {
        "id": "7-ofO4M3zboK",
        "colab_type": "code",
        "colab": {
          "base_uri": "https://localhost:8080/",
          "height": 52
        },
        "outputId": "d31da7c5-54d7-4650-c2bf-6c1e856bb821"
      },
      "source": [
        "# predictions AUC on train and validation sets\n",
        "print(\"Train Acc:\", accuracy_score(y_train, modelXg.predict(X_train)))\n",
        "print(\"Val Acc:\",   accuracy_score(y_val,   modelXg.predict(X_val)))"
      ],
      "execution_count": null,
      "outputs": [
        {
          "output_type": "stream",
          "text": [
            "Train Acc: 0.5788658196467307\n",
            "Val Acc: 0.5322180916976456\n"
          ],
          "name": "stdout"
        }
      ]
    },
    {
      "cell_type": "code",
      "metadata": {
        "id": "estxTk46zxri",
        "colab_type": "code",
        "colab": {}
      },
      "source": [
        "pd.DataFrame(modelXg.predict_proba(X_val)).to_csv('check.csv', index =False)"
      ],
      "execution_count": null,
      "outputs": []
    },
    {
      "cell_type": "markdown",
      "metadata": {
        "id": "CiZLbibp3uh8",
        "colab_type": "text"
      },
      "source": [
        "### Pred on test"
      ]
    },
    {
      "cell_type": "code",
      "metadata": {
        "id": "HppDDgwU3uWN",
        "colab_type": "code",
        "colab": {}
      },
      "source": [
        "#### Prediction on test\n",
        "output = \"XGB_allFeat.csv\"\n",
        "test[target] = modelXg.predict(X_test)\n",
        "test = test.reset_index()\n",
        "# test[['Patient_ID','Health_Camp_ID']] = test[Key].str.split('|', 1, expand=True)\n",
        "test[[key,target]].to_csv(output,index=False)"
      ],
      "execution_count": null,
      "outputs": []
    },
    {
      "cell_type": "code",
      "metadata": {
        "id": "SoNiMORV4K7U",
        "colab_type": "code",
        "colab": {
          "base_uri": "https://localhost:8080/",
          "height": 17
        },
        "outputId": "ce081f51-6db3-4f35-8cc5-6eb3e9c378d6"
      },
      "source": [
        "from google.colab import files\n",
        "files.download(output)"
      ],
      "execution_count": null,
      "outputs": [
        {
          "output_type": "display_data",
          "data": {
            "application/javascript": [
              "\n",
              "    async function download(id, filename, size) {\n",
              "      if (!google.colab.kernel.accessAllowed) {\n",
              "        return;\n",
              "      }\n",
              "      const div = document.createElement('div');\n",
              "      const label = document.createElement('label');\n",
              "      label.textContent = `Downloading \"${filename}\": `;\n",
              "      div.appendChild(label);\n",
              "      const progress = document.createElement('progress');\n",
              "      progress.max = size;\n",
              "      div.appendChild(progress);\n",
              "      document.body.appendChild(div);\n",
              "\n",
              "      const buffers = [];\n",
              "      let downloaded = 0;\n",
              "\n",
              "      const channel = await google.colab.kernel.comms.open(id);\n",
              "      // Send a message to notify the kernel that we're ready.\n",
              "      channel.send({})\n",
              "\n",
              "      for await (const message of channel.messages) {\n",
              "        // Send a message to notify the kernel that we're ready.\n",
              "        channel.send({})\n",
              "        if (message.buffers) {\n",
              "          for (const buffer of message.buffers) {\n",
              "            buffers.push(buffer);\n",
              "            downloaded += buffer.byteLength;\n",
              "            progress.value = downloaded;\n",
              "          }\n",
              "        }\n",
              "      }\n",
              "      const blob = new Blob(buffers, {type: 'application/binary'});\n",
              "      const a = document.createElement('a');\n",
              "      a.href = window.URL.createObjectURL(blob);\n",
              "      a.download = filename;\n",
              "      div.appendChild(a);\n",
              "      a.click();\n",
              "      div.remove();\n",
              "    }\n",
              "  "
            ],
            "text/plain": [
              "<IPython.core.display.Javascript object>"
            ]
          },
          "metadata": {
            "tags": []
          }
        },
        {
          "output_type": "display_data",
          "data": {
            "application/javascript": [
              "download(\"download_ef3e6fb8-1459-4d2f-9c41-fc14b149d56f\", \"XGB_allFeat.csv\", 36794)"
            ],
            "text/plain": [
              "<IPython.core.display.Javascript object>"
            ]
          },
          "metadata": {
            "tags": []
          }
        }
      ]
    },
    {
      "cell_type": "code",
      "metadata": {
        "id": "sWmKN6lp36Wl",
        "colab_type": "code",
        "colab": {
          "base_uri": "https://localhost:8080/",
          "height": 88
        },
        "outputId": "77f5b1c3-c2a9-4e8e-f16a-2b2b3e8f7321"
      },
      "source": [
        "test.Crop_Damage.value_counts(1)"
      ],
      "execution_count": null,
      "outputs": [
        {
          "output_type": "execute_result",
          "data": {
            "text/plain": [
              "0    0.950481\n",
              "1    0.049486\n",
              "2    0.000034\n",
              "Name: Crop_Damage, dtype: float64"
            ]
          },
          "metadata": {
            "tags": []
          },
          "execution_count": 45
        }
      ]
    },
    {
      "cell_type": "code",
      "metadata": {
        "id": "hucDf6mk4GBC",
        "colab_type": "code",
        "colab": {
          "base_uri": "https://localhost:8080/",
          "height": 88
        },
        "outputId": "87175003-bddb-4d39-b4e7-90af5b9380ac"
      },
      "source": [
        "train.Crop_Damage.value_counts(1)"
      ],
      "execution_count": null,
      "outputs": [
        {
          "output_type": "execute_result",
          "data": {
            "text/plain": [
              "0    0.835468\n",
              "1    0.138502\n",
              "2    0.026030\n",
              "Name: Crop_Damage, dtype: float64"
            ]
          },
          "metadata": {
            "tags": []
          },
          "execution_count": 46
        }
      ]
    }
  ]
}