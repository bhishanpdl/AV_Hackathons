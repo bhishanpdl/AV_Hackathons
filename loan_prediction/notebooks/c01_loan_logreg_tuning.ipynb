{
 "cells": [
  {
   "cell_type": "markdown",
   "metadata": {
    "toc": true
   },
   "source": [
    "<h1>Table of Contents<span class=\"tocSkip\"></span></h1>\n",
    "<div class=\"toc\"><ul class=\"toc-item\"><li><span><a href=\"#Description\" data-toc-modified-id=\"Description-1\"><span class=\"toc-item-num\">1&nbsp;&nbsp;</span>Description</a></span></li><li><span><a href=\"#Load-the-libraries\" data-toc-modified-id=\"Load-the-libraries-2\"><span class=\"toc-item-num\">2&nbsp;&nbsp;</span>Load the libraries</a></span></li><li><span><a href=\"#Load-the-data\" data-toc-modified-id=\"Load-the-data-3\"><span class=\"toc-item-num\">3&nbsp;&nbsp;</span>Load the data</a></span></li><li><span><a href=\"#Modelling\" data-toc-modified-id=\"Modelling-4\"><span class=\"toc-item-num\">4&nbsp;&nbsp;</span>Modelling</a></span><ul class=\"toc-item\"><li><span><a href=\"#Train-validation-split\" data-toc-modified-id=\"Train-validation-split-4.1\"><span class=\"toc-item-num\">4.1&nbsp;&nbsp;</span>Train validation split</a></span></li></ul></li><li><span><a href=\"#Logistic-Regression\" data-toc-modified-id=\"Logistic-Regression-5\"><span class=\"toc-item-num\">5&nbsp;&nbsp;</span>Logistic Regression</a></span></li><li><span><a href=\"#Grid-Search\" data-toc-modified-id=\"Grid-Search-6\"><span class=\"toc-item-num\">6&nbsp;&nbsp;</span>Grid Search</a></span></li><li><span><a href=\"#Take-log\" data-toc-modified-id=\"Take-log-7\"><span class=\"toc-item-num\">7&nbsp;&nbsp;</span>Take log</a></span></li></ul></div>"
   ]
  },
  {
   "cell_type": "markdown",
   "metadata": {},
   "source": [
    "# Description\n",
    "Reference: https://datahack.analyticsvidhya.com/contest/all/  \n",
    "\n",
    "\n",
    "**Predict Loan Eligibility for Dream Housing Finance company**\n",
    "Dream Housing Finance company deals in all kinds of home loans. They have presence across all urban, semi urban and rural areas. Customer first applies for home loan and after that company validates the customer eligibility for loan.\n",
    "\n",
    "Company wants to automate the loan eligibility process (real time) based on customer detail provided while filling online application form. These details are Gender, Marital Status, Education, Number of Dependents, Income, Loan Amount, Credit History and others. To automate this process, they have provided a dataset to identify the customers segments that are eligible for loan amount so that they can specifically target these customers. \n",
    "\n",
    "**Data Dictionary**\n",
    "Train file: CSV containing the customers for whom loan eligibility is known as 'Loan_Status'\n",
    "\n",
    "| Variable | Description |\n",
    "| :---|:---|\n",
    "| Loan_ID | Unique Loan ID |\n",
    "| Gender | Male/ Female |\n",
    "| Married | Applicant married (Y/N) |\n",
    "| Dependents | Number of dependents |\n",
    "| Education | Applicant Education (Graduate/ Under Graduate) |\n",
    "| Self_Employed | Self employed (Y/N) |\n",
    "| ApplicantIncome | Applicant income |\n",
    "| CoapplicantIncome | Coapplicant income |\n",
    "| LoanAmount | Loan amount in thousands |\n",
    "| Loan_Amount_Term | Term of loan in months |\n",
    "| Credit_History | credit history meets guidelines |\n",
    "| Property_Area | Urban/ Semi Urban/ Rural |\n",
    "| Loan_Status | (Target) Loan approved (Y/N) |\n",
    "\n",
    "\n",
    "**Evaluation Metric**  \n",
    "Your model performance will be evaluated on the basis of your prediction of loan status for the test data (test.csv), which contains similar data-points as train except for the loan status to be predicted. Your submission needs to be in the format as shown in sample submission.\n",
    "\n",
    "We at our end, have the actual loan status for the test dataset, against which your predictions will be evaluated. We will use the Accuracy value to judge your response.\n",
    "\n",
    "\n",
    "\n",
    "**Public and Private Split**   \n",
    "Test file is further divided into Public (25%) and Private (75%)\n",
    "\n",
    "Your initial responses will be checked and scored on the Public data.\n",
    "The final rankings would be based on your private score which will be published once the competition is over."
   ]
  },
  {
   "cell_type": "markdown",
   "metadata": {},
   "source": [
    "# Load the libraries"
   ]
  },
  {
   "cell_type": "code",
   "execution_count": 1,
   "metadata": {
    "ExecuteTime": {
     "end_time": "2020-08-23T22:33:09.878327Z",
     "start_time": "2020-08-23T22:33:09.069833Z"
    }
   },
   "outputs": [],
   "source": [
    "import numpy as np\n",
    "import pandas as pd\n",
    "import seaborn as sns\n",
    "\n",
    "pd.options.plotting.backend = \"matplotlib\"\n",
    "pd.set_option('max_columns',100)\n",
    "pd.set_option('max_colwidth',200)\n",
    "\n",
    "import time,os,json\n",
    "time_start_notebook = time.time()\n",
    "home = os.path.expanduser('~')\n",
    "SEED=100"
   ]
  },
  {
   "cell_type": "code",
   "execution_count": 2,
   "metadata": {
    "ExecuteTime": {
     "end_time": "2020-08-23T22:33:10.325351Z",
     "start_time": "2020-08-23T22:33:09.880290Z"
    }
   },
   "outputs": [],
   "source": [
    "import sklearn\n",
    "import xgboost as xgb"
   ]
  },
  {
   "cell_type": "markdown",
   "metadata": {},
   "source": [
    "# Load the data"
   ]
  },
  {
   "cell_type": "code",
   "execution_count": 3,
   "metadata": {
    "ExecuteTime": {
     "end_time": "2020-08-23T22:33:10.337007Z",
     "start_time": "2020-08-23T22:33:10.328460Z"
    }
   },
   "outputs": [],
   "source": [
    "def clean_data(df):\n",
    "    df = df.copy()\n",
    "    # drop unwanted features\n",
    "    df = df.drop('Loan_ID',axis=1)\n",
    "\n",
    "    # missing values imputation\n",
    "    ## fill married yes no from graudated or not\n",
    "    cond = (df['Education']=='Graduate') & (df['Married'].isnull()) \n",
    "    df.loc[cond, 'Married'] = 'Yes'\n",
    "    cond = (df['Education']!='Graduate') & (df['Married'].isnull()) \n",
    "    df.loc[cond, 'Married'] = 'No'\n",
    "\n",
    "    ## fill with mode\n",
    "    cols_mode = ['Gender', 'Dependents', 'Self_Employed', 'Credit_History']\n",
    "    for c in cols_mode:\n",
    "        df[c] = df[c].fillna(df[c].mode()[0])\n",
    "\n",
    "    ## fill with mean\n",
    "    cols_mean = ['LoanAmount','Loan_Amount_Term' ]\n",
    "    for c in cols_mean:\n",
    "        df[c] = df[c].fillna(df[c].mean())\n",
    "\n",
    "    # mapping string to integers\n",
    "    df['Gender'] = df['Gender'].map({'Male':1, 'Female': 0})\n",
    "    df['Married'] = df['Married'].map({'Yes':1, 'No': 0 })\n",
    "    df['Education'] = df['Education'].map({'Graduate': 1, 'Not Graduate': 0})\n",
    "    df['Self_Employed'] = df['Self_Employed'].map({'Yes':1, 'No': 0})\n",
    "    \n",
    "    # target \n",
    "    target = 'Loan_Status'\n",
    "    if target in df.columns:\n",
    "        df[target] = df[target].map({'Y':1, 'N': 0})\n",
    "\n",
    "    # one hot encoding\n",
    "    cols = ['Dependents','Property_Area']\n",
    "    df = pd.get_dummies(df,columns=cols,drop_first=True)\n",
    "    return df"
   ]
  },
  {
   "cell_type": "code",
   "execution_count": 4,
   "metadata": {
    "ExecuteTime": {
     "end_time": "2020-08-23T22:33:10.389662Z",
     "start_time": "2020-08-23T22:33:10.340499Z"
    }
   },
   "outputs": [
    {
     "name": "stdout",
     "output_type": "stream",
     "text": [
      "(614, 15)\n",
      "(367, 14)\n"
     ]
    },
    {
     "data": {
      "text/html": [
       "<div>\n",
       "<style scoped>\n",
       "    .dataframe tbody tr th:only-of-type {\n",
       "        vertical-align: middle;\n",
       "    }\n",
       "\n",
       "    .dataframe tbody tr th {\n",
       "        vertical-align: top;\n",
       "    }\n",
       "\n",
       "    .dataframe thead th {\n",
       "        text-align: right;\n",
       "    }\n",
       "</style>\n",
       "<table border=\"1\" class=\"dataframe\">\n",
       "  <thead>\n",
       "    <tr style=\"text-align: right;\">\n",
       "      <th></th>\n",
       "      <th>Gender</th>\n",
       "      <th>Married</th>\n",
       "      <th>Education</th>\n",
       "      <th>Self_Employed</th>\n",
       "      <th>ApplicantIncome</th>\n",
       "      <th>CoapplicantIncome</th>\n",
       "      <th>LoanAmount</th>\n",
       "      <th>Loan_Amount_Term</th>\n",
       "      <th>Credit_History</th>\n",
       "      <th>Loan_Status</th>\n",
       "      <th>Dependents_1</th>\n",
       "      <th>Dependents_2</th>\n",
       "      <th>Dependents_3+</th>\n",
       "      <th>Property_Area_Semiurban</th>\n",
       "      <th>Property_Area_Urban</th>\n",
       "    </tr>\n",
       "  </thead>\n",
       "  <tbody>\n",
       "    <tr>\n",
       "      <th>0</th>\n",
       "      <td>1</td>\n",
       "      <td>0</td>\n",
       "      <td>1</td>\n",
       "      <td>0</td>\n",
       "      <td>5849</td>\n",
       "      <td>0.0</td>\n",
       "      <td>146.412162</td>\n",
       "      <td>360.0</td>\n",
       "      <td>1.0</td>\n",
       "      <td>1</td>\n",
       "      <td>0</td>\n",
       "      <td>0</td>\n",
       "      <td>0</td>\n",
       "      <td>0</td>\n",
       "      <td>1</td>\n",
       "    </tr>\n",
       "    <tr>\n",
       "      <th>1</th>\n",
       "      <td>1</td>\n",
       "      <td>1</td>\n",
       "      <td>1</td>\n",
       "      <td>0</td>\n",
       "      <td>4583</td>\n",
       "      <td>1508.0</td>\n",
       "      <td>128.000000</td>\n",
       "      <td>360.0</td>\n",
       "      <td>1.0</td>\n",
       "      <td>0</td>\n",
       "      <td>1</td>\n",
       "      <td>0</td>\n",
       "      <td>0</td>\n",
       "      <td>0</td>\n",
       "      <td>0</td>\n",
       "    </tr>\n",
       "    <tr>\n",
       "      <th>612</th>\n",
       "      <td>1</td>\n",
       "      <td>1</td>\n",
       "      <td>1</td>\n",
       "      <td>0</td>\n",
       "      <td>7583</td>\n",
       "      <td>0.0</td>\n",
       "      <td>187.000000</td>\n",
       "      <td>360.0</td>\n",
       "      <td>1.0</td>\n",
       "      <td>1</td>\n",
       "      <td>0</td>\n",
       "      <td>1</td>\n",
       "      <td>0</td>\n",
       "      <td>0</td>\n",
       "      <td>1</td>\n",
       "    </tr>\n",
       "    <tr>\n",
       "      <th>613</th>\n",
       "      <td>0</td>\n",
       "      <td>0</td>\n",
       "      <td>1</td>\n",
       "      <td>1</td>\n",
       "      <td>4583</td>\n",
       "      <td>0.0</td>\n",
       "      <td>133.000000</td>\n",
       "      <td>360.0</td>\n",
       "      <td>0.0</td>\n",
       "      <td>0</td>\n",
       "      <td>0</td>\n",
       "      <td>0</td>\n",
       "      <td>0</td>\n",
       "      <td>1</td>\n",
       "      <td>0</td>\n",
       "    </tr>\n",
       "  </tbody>\n",
       "</table>\n",
       "</div>"
      ],
      "text/plain": [
       "     Gender  Married  Education  Self_Employed  ApplicantIncome  \\\n",
       "0         1        0          1              0             5849   \n",
       "1         1        1          1              0             4583   \n",
       "612       1        1          1              0             7583   \n",
       "613       0        0          1              1             4583   \n",
       "\n",
       "     CoapplicantIncome  LoanAmount  Loan_Amount_Term  Credit_History  \\\n",
       "0                  0.0  146.412162             360.0             1.0   \n",
       "1               1508.0  128.000000             360.0             1.0   \n",
       "612                0.0  187.000000             360.0             1.0   \n",
       "613                0.0  133.000000             360.0             0.0   \n",
       "\n",
       "     Loan_Status  Dependents_1  Dependents_2  Dependents_3+  \\\n",
       "0              1             0             0              0   \n",
       "1              0             1             0              0   \n",
       "612            1             0             1              0   \n",
       "613            0             0             0              0   \n",
       "\n",
       "     Property_Area_Semiurban  Property_Area_Urban  \n",
       "0                          0                    1  \n",
       "1                          0                    0  \n",
       "612                        0                    1  \n",
       "613                        1                    0  "
      ]
     },
     "execution_count": 4,
     "metadata": {},
     "output_type": "execute_result"
    }
   ],
   "source": [
    "df_train = pd.read_csv('../data/raw/train.csv')\n",
    "df_test = pd.read_csv('../data/raw/test.csv')\n",
    "\n",
    "df_train = clean_data(df_train)\n",
    "df_test = clean_data(df_test)\n",
    "\n",
    "print(df_train.shape)\n",
    "print(df_test.shape)\n",
    "df_train.head(2).append(df_train.tail(2))"
   ]
  },
  {
   "cell_type": "markdown",
   "metadata": {},
   "source": [
    "# Modelling"
   ]
  },
  {
   "cell_type": "markdown",
   "metadata": {},
   "source": [
    "## Train validation split"
   ]
  },
  {
   "cell_type": "code",
   "execution_count": 5,
   "metadata": {
    "ExecuteTime": {
     "end_time": "2020-08-23T22:33:10.395194Z",
     "start_time": "2020-08-23T22:33:10.392290Z"
    }
   },
   "outputs": [],
   "source": [
    "from sklearn.model_selection import train_test_split"
   ]
  },
  {
   "cell_type": "code",
   "execution_count": 6,
   "metadata": {
    "ExecuteTime": {
     "end_time": "2020-08-23T22:33:10.424822Z",
     "start_time": "2020-08-23T22:33:10.397988Z"
    }
   },
   "outputs": [
    {
     "name": "stdout",
     "output_type": "stream",
     "text": [
      "train shape: (491, 14)\n",
      "valid shape: (123, 14)\n"
     ]
    },
    {
     "data": {
      "text/html": [
       "<div>\n",
       "<style scoped>\n",
       "    .dataframe tbody tr th:only-of-type {\n",
       "        vertical-align: middle;\n",
       "    }\n",
       "\n",
       "    .dataframe tbody tr th {\n",
       "        vertical-align: top;\n",
       "    }\n",
       "\n",
       "    .dataframe thead th {\n",
       "        text-align: right;\n",
       "    }\n",
       "</style>\n",
       "<table border=\"1\" class=\"dataframe\">\n",
       "  <thead>\n",
       "    <tr style=\"text-align: right;\">\n",
       "      <th></th>\n",
       "      <th>Gender</th>\n",
       "      <th>Married</th>\n",
       "      <th>Education</th>\n",
       "      <th>Self_Employed</th>\n",
       "      <th>ApplicantIncome</th>\n",
       "      <th>CoapplicantIncome</th>\n",
       "      <th>LoanAmount</th>\n",
       "      <th>Loan_Amount_Term</th>\n",
       "      <th>Credit_History</th>\n",
       "      <th>Dependents_1</th>\n",
       "      <th>Dependents_2</th>\n",
       "      <th>Dependents_3+</th>\n",
       "      <th>Property_Area_Semiurban</th>\n",
       "      <th>Property_Area_Urban</th>\n",
       "    </tr>\n",
       "  </thead>\n",
       "  <tbody>\n",
       "    <tr>\n",
       "      <th>203</th>\n",
       "      <td>1</td>\n",
       "      <td>1</td>\n",
       "      <td>0</td>\n",
       "      <td>0</td>\n",
       "      <td>3500</td>\n",
       "      <td>1083.0</td>\n",
       "      <td>135.0</td>\n",
       "      <td>360.0</td>\n",
       "      <td>1.0</td>\n",
       "      <td>1</td>\n",
       "      <td>0</td>\n",
       "      <td>0</td>\n",
       "      <td>0</td>\n",
       "      <td>1</td>\n",
       "    </tr>\n",
       "    <tr>\n",
       "      <th>369</th>\n",
       "      <td>1</td>\n",
       "      <td>1</td>\n",
       "      <td>1</td>\n",
       "      <td>0</td>\n",
       "      <td>19730</td>\n",
       "      <td>5266.0</td>\n",
       "      <td>570.0</td>\n",
       "      <td>360.0</td>\n",
       "      <td>1.0</td>\n",
       "      <td>0</td>\n",
       "      <td>0</td>\n",
       "      <td>0</td>\n",
       "      <td>0</td>\n",
       "      <td>0</td>\n",
       "    </tr>\n",
       "  </tbody>\n",
       "</table>\n",
       "</div>"
      ],
      "text/plain": [
       "     Gender  Married  Education  Self_Employed  ApplicantIncome  \\\n",
       "203       1        1          0              0             3500   \n",
       "369       1        1          1              0            19730   \n",
       "\n",
       "     CoapplicantIncome  LoanAmount  Loan_Amount_Term  Credit_History  \\\n",
       "203             1083.0       135.0             360.0             1.0   \n",
       "369             5266.0       570.0             360.0             1.0   \n",
       "\n",
       "     Dependents_1  Dependents_2  Dependents_3+  Property_Area_Semiurban  \\\n",
       "203             1             0              0                        0   \n",
       "369             0             0              0                        0   \n",
       "\n",
       "     Property_Area_Urban  \n",
       "203                    1  \n",
       "369                    0  "
      ]
     },
     "execution_count": 6,
     "metadata": {},
     "output_type": "execute_result"
    }
   ],
   "source": [
    "df_train_orig = df_train.copy()\n",
    "target = 'Loan_Status'\n",
    "df_Xtrain, df_Xvalid, ser_ytrain, ser_yvalid = train_test_split(\n",
    "    df_train_orig.drop(target,axis=1), df_train_orig[target],\n",
    "    test_size = 0.2,\n",
    "    random_state=SEED,\n",
    "    stratify=df_train_orig[target]\n",
    ")\n",
    "\n",
    "ytrain = ser_ytrain.to_numpy().ravel()\n",
    "yvalid = ser_yvalid.to_numpy().ravel()\n",
    "\n",
    "print(f'train shape: {df_Xtrain.shape}')\n",
    "print(f'valid shape: {df_Xvalid.shape}')\n",
    "\n",
    "df_Xtrain.head(2)"
   ]
  },
  {
   "cell_type": "code",
   "execution_count": 7,
   "metadata": {
    "ExecuteTime": {
     "end_time": "2020-08-23T22:33:10.433537Z",
     "start_time": "2020-08-23T22:33:10.429254Z"
    }
   },
   "outputs": [],
   "source": [
    "Xtr = df_Xtrain\n",
    "ytr = ytrain\n",
    "Xvd = df_Xvalid\n",
    "yvd = yvalid"
   ]
  },
  {
   "cell_type": "code",
   "execution_count": 8,
   "metadata": {
    "ExecuteTime": {
     "end_time": "2020-08-23T22:33:10.440874Z",
     "start_time": "2020-08-23T22:33:10.435548Z"
    }
   },
   "outputs": [],
   "source": [
    "from sklearn import metrics\n",
    "\n",
    "df_eval = pd.DataFrame({\n",
    "    'Model': [],\n",
    "    'Description': [],\n",
    "    'Accuracy': [],\n",
    "    'Precision': [],\n",
    "    'Recall': [],\n",
    "    'F-score': [],\n",
    "    'Time_Taken': [],\n",
    "})"
   ]
  },
  {
   "cell_type": "markdown",
   "metadata": {},
   "source": [
    "# Logistic Regression"
   ]
  },
  {
   "cell_type": "code",
   "execution_count": 9,
   "metadata": {
    "ExecuteTime": {
     "end_time": "2020-08-23T22:33:10.520700Z",
     "start_time": "2020-08-23T22:33:10.443362Z"
    }
   },
   "outputs": [],
   "source": [
    "from sklearn.linear_model import LogisticRegression\n",
    "from sklearn.preprocessing import StandardScaler\n",
    "import time"
   ]
  },
  {
   "cell_type": "code",
   "execution_count": 10,
   "metadata": {
    "ExecuteTime": {
     "end_time": "2020-08-23T22:33:10.832381Z",
     "start_time": "2020-08-23T22:33:10.526217Z"
    }
   },
   "outputs": [
    {
     "name": "stderr",
     "output_type": "stream",
     "text": [
      "/Users/poudel/opt/miniconda3/envs/dataSc/lib/python3.7/site-packages/sklearn/linear_model/_logistic.py:764: ConvergenceWarning: lbfgs failed to converge (status=1):\n",
      "STOP: TOTAL NO. of ITERATIONS REACHED LIMIT.\n",
      "\n",
      "Increase the number of iterations (max_iter) or scale the data as shown in:\n",
      "    https://scikit-learn.org/stable/modules/preprocessing.html\n",
      "Please also refer to the documentation for alternative solver options:\n",
      "    https://scikit-learn.org/stable/modules/linear_model.html#logistic-regression\n",
      "  extra_warning_msg=_LOGISTIC_SOLVER_CONVERGENCE_MSG)\n"
     ]
    },
    {
     "data": {
      "text/html": [
       "<style  type=\"text/css\" >\n",
       "#T_9fdc5e54_e590_11ea_8870_acde48001122row0_col3{\n",
       "            background-color:  #fff7fb;\n",
       "            color:  #000000;\n",
       "        }</style><table id=\"T_9fdc5e54_e590_11ea_8870_acde48001122\" ><thead>    <tr>        <th class=\"blank level0\" ></th>        <th class=\"col_heading level0 col0\" >index</th>        <th class=\"col_heading level0 col1\" >Model</th>        <th class=\"col_heading level0 col2\" >Description</th>        <th class=\"col_heading level0 col3\" >Accuracy</th>        <th class=\"col_heading level0 col4\" >Precision</th>        <th class=\"col_heading level0 col5\" >Recall</th>        <th class=\"col_heading level0 col6\" >F-score</th>        <th class=\"col_heading level0 col7\" >Time_Taken</th>    </tr></thead><tbody>\n",
       "                <tr>\n",
       "                        <th id=\"T_9fdc5e54_e590_11ea_8870_acde48001122level0_row0\" class=\"row_heading level0 row0\" >0</th>\n",
       "                        <td id=\"T_9fdc5e54_e590_11ea_8870_acde48001122row0_col0\" class=\"data row0 col0\" >0</td>\n",
       "                        <td id=\"T_9fdc5e54_e590_11ea_8870_acde48001122row0_col1\" class=\"data row0 col1\" >Logreg</td>\n",
       "                        <td id=\"T_9fdc5e54_e590_11ea_8870_acde48001122row0_col2\" class=\"data row0 col2\" >default</td>\n",
       "                        <td id=\"T_9fdc5e54_e590_11ea_8870_acde48001122row0_col3\" class=\"data row0 col3\" >0.821138</td>\n",
       "                        <td id=\"T_9fdc5e54_e590_11ea_8870_acde48001122row0_col4\" class=\"data row0 col4\" >0.800000</td>\n",
       "                        <td id=\"T_9fdc5e54_e590_11ea_8870_acde48001122row0_col5\" class=\"data row0 col5\" >0.988235</td>\n",
       "                        <td id=\"T_9fdc5e54_e590_11ea_8870_acde48001122row0_col6\" class=\"data row0 col6\" >0.884211</td>\n",
       "                        <td id=\"T_9fdc5e54_e590_11ea_8870_acde48001122row0_col7\" class=\"data row0 col7\" >0 min 0.04 s</td>\n",
       "            </tr>\n",
       "    </tbody></table>"
      ],
      "text/plain": [
       "<pandas.io.formats.style.Styler at 0x7f9c87434210>"
      ]
     },
     "execution_count": 10,
     "metadata": {},
     "output_type": "execute_result"
    }
   ],
   "source": [
    "time_start = time.time()\n",
    "model = LogisticRegression(random_state=SEED)\n",
    "model.fit(Xtr,ytr)\n",
    "\n",
    "vd_preds = model.predict(Xvd)\n",
    "\n",
    "acc = metrics.accuracy_score(yvd, vd_preds)\n",
    "pre = metrics.precision_score(yvd, vd_preds)\n",
    "rec = metrics.recall_score(yvd, vd_preds)\n",
    "f1  = metrics.f1_score(yvd,vd_preds)\n",
    "\n",
    "time_taken = time.time() - time_start\n",
    "time_taken = \"{:.0f} min {:.2f} s\".format(*divmod(time_taken,60))\n",
    "\n",
    "row = ['Logreg', 'default', acc, pre, rec, f1,time_taken]\n",
    "df_eval.loc[len(df_eval)] = row\n",
    "df_eval = df_eval.drop_duplicates(['Model','Description'])\n",
    "df_eval.sort_values('Accuracy',ascending=False).reset_index().style.background_gradient(subset=['Accuracy'])"
   ]
  },
  {
   "cell_type": "code",
   "execution_count": 11,
   "metadata": {
    "ExecuteTime": {
     "end_time": "2020-08-23T22:33:10.883375Z",
     "start_time": "2020-08-23T22:33:10.836124Z"
    }
   },
   "outputs": [
    {
     "data": {
      "text/html": [
       "<style  type=\"text/css\" >\n",
       "#T_9fe42b8e_e590_11ea_8870_acde48001122row0_col3,#T_9fe42b8e_e590_11ea_8870_acde48001122row1_col3{\n",
       "            background-color:  #fff7fb;\n",
       "            color:  #000000;\n",
       "        }</style><table id=\"T_9fe42b8e_e590_11ea_8870_acde48001122\" ><thead>    <tr>        <th class=\"blank level0\" ></th>        <th class=\"col_heading level0 col0\" >index</th>        <th class=\"col_heading level0 col1\" >Model</th>        <th class=\"col_heading level0 col2\" >Description</th>        <th class=\"col_heading level0 col3\" >Accuracy</th>        <th class=\"col_heading level0 col4\" >Precision</th>        <th class=\"col_heading level0 col5\" >Recall</th>        <th class=\"col_heading level0 col6\" >F-score</th>        <th class=\"col_heading level0 col7\" >Time_Taken</th>    </tr></thead><tbody>\n",
       "                <tr>\n",
       "                        <th id=\"T_9fe42b8e_e590_11ea_8870_acde48001122level0_row0\" class=\"row_heading level0 row0\" >0</th>\n",
       "                        <td id=\"T_9fe42b8e_e590_11ea_8870_acde48001122row0_col0\" class=\"data row0 col0\" >0</td>\n",
       "                        <td id=\"T_9fe42b8e_e590_11ea_8870_acde48001122row0_col1\" class=\"data row0 col1\" >Logreg</td>\n",
       "                        <td id=\"T_9fe42b8e_e590_11ea_8870_acde48001122row0_col2\" class=\"data row0 col2\" >default</td>\n",
       "                        <td id=\"T_9fe42b8e_e590_11ea_8870_acde48001122row0_col3\" class=\"data row0 col3\" >0.821138</td>\n",
       "                        <td id=\"T_9fe42b8e_e590_11ea_8870_acde48001122row0_col4\" class=\"data row0 col4\" >0.800000</td>\n",
       "                        <td id=\"T_9fe42b8e_e590_11ea_8870_acde48001122row0_col5\" class=\"data row0 col5\" >0.988235</td>\n",
       "                        <td id=\"T_9fe42b8e_e590_11ea_8870_acde48001122row0_col6\" class=\"data row0 col6\" >0.884211</td>\n",
       "                        <td id=\"T_9fe42b8e_e590_11ea_8870_acde48001122row0_col7\" class=\"data row0 col7\" >0 min 0.04 s</td>\n",
       "            </tr>\n",
       "            <tr>\n",
       "                        <th id=\"T_9fe42b8e_e590_11ea_8870_acde48001122level0_row1\" class=\"row_heading level0 row1\" >1</th>\n",
       "                        <td id=\"T_9fe42b8e_e590_11ea_8870_acde48001122row1_col0\" class=\"data row1 col0\" >1</td>\n",
       "                        <td id=\"T_9fe42b8e_e590_11ea_8870_acde48001122row1_col1\" class=\"data row1 col1\" >Logreg</td>\n",
       "                        <td id=\"T_9fe42b8e_e590_11ea_8870_acde48001122row1_col2\" class=\"data row1 col2\" >max_iter=100_000</td>\n",
       "                        <td id=\"T_9fe42b8e_e590_11ea_8870_acde48001122row1_col3\" class=\"data row1 col3\" >0.821138</td>\n",
       "                        <td id=\"T_9fe42b8e_e590_11ea_8870_acde48001122row1_col4\" class=\"data row1 col4\" >0.800000</td>\n",
       "                        <td id=\"T_9fe42b8e_e590_11ea_8870_acde48001122row1_col5\" class=\"data row1 col5\" >0.988235</td>\n",
       "                        <td id=\"T_9fe42b8e_e590_11ea_8870_acde48001122row1_col6\" class=\"data row1 col6\" >0.884211</td>\n",
       "                        <td id=\"T_9fe42b8e_e590_11ea_8870_acde48001122row1_col7\" class=\"data row1 col7\" >0 min 0.03 s</td>\n",
       "            </tr>\n",
       "    </tbody></table>"
      ],
      "text/plain": [
       "<pandas.io.formats.style.Styler at 0x7f9c879c3d50>"
      ]
     },
     "execution_count": 11,
     "metadata": {},
     "output_type": "execute_result"
    }
   ],
   "source": [
    "time_start = time.time()\n",
    "model = LogisticRegression(random_state=SEED,max_iter=100_000)\n",
    "model.fit(Xtr,ytr)\n",
    "\n",
    "vd_preds = model.predict(Xvd)\n",
    "\n",
    "acc = metrics.accuracy_score(yvd, vd_preds)\n",
    "pre = metrics.precision_score(yvd, vd_preds)\n",
    "rec = metrics.recall_score(yvd, vd_preds)\n",
    "f1  = metrics.f1_score(yvd,vd_preds)\n",
    "\n",
    "time_taken = time.time() - time_start\n",
    "time_taken = \"{:.0f} min {:.2f} s\".format(*divmod(time_taken,60))\n",
    "\n",
    "row = ['Logreg', 'max_iter=100_000', acc, pre, rec, f1,time_taken]\n",
    "df_eval.loc[len(df_eval)] = row\n",
    "df_eval = df_eval.drop_duplicates(['Model','Description'])\n",
    "df_eval.sort_values('Accuracy',ascending=False).reset_index().style.background_gradient(subset=['Accuracy'])"
   ]
  },
  {
   "cell_type": "markdown",
   "metadata": {},
   "source": [
    "# Grid Search\n",
    "\n",
    "```python\n",
    "LogisticRegression(\n",
    "    penalty='l2',\n",
    "    *,\n",
    "    dual=False,\n",
    "    tol=0.0001,\n",
    "    C=1.0,\n",
    "    fit_intercept=True,\n",
    "    intercept_scaling=1,\n",
    "    class_weight=None,\n",
    "    random_state=None,\n",
    "    solver='lbfgs',\n",
    "    max_iter=100,\n",
    "    multi_class='auto',\n",
    "    verbose=0,\n",
    "    warm_start=False,\n",
    "    n_jobs=None,\n",
    "    l1_ratio=None,\n",
    ")\n",
    "\n",
    "```"
   ]
  },
  {
   "cell_type": "code",
   "execution_count": 12,
   "metadata": {
    "ExecuteTime": {
     "end_time": "2020-08-23T22:33:10.889184Z",
     "start_time": "2020-08-23T22:33:10.885229Z"
    }
   },
   "outputs": [],
   "source": [
    "from sklearn.model_selection import GridSearchCV"
   ]
  },
  {
   "cell_type": "code",
   "execution_count": 13,
   "metadata": {
    "ExecuteTime": {
     "end_time": "2020-08-23T22:33:10.895257Z",
     "start_time": "2020-08-23T22:33:10.891370Z"
    }
   },
   "outputs": [],
   "source": [
    "from sklearn.linear_model import LogisticRegression\n",
    "from sklearn.model_selection import StratifiedKFold, RepeatedStratifiedKFold"
   ]
  },
  {
   "cell_type": "code",
   "execution_count": 14,
   "metadata": {
    "ExecuteTime": {
     "end_time": "2020-08-23T22:33:10.904493Z",
     "start_time": "2020-08-23T22:33:10.897475Z"
    }
   },
   "outputs": [
    {
     "name": "stdout",
     "output_type": "stream",
     "text": [
      "CPU times: user 12 µs, sys: 1 µs, total: 13 µs\n",
      "Wall time: 14.3 µs\n"
     ]
    },
    {
     "data": {
      "text/plain": [
       "\"\\n{'C': 1.0, 'penalty': 'l2'}\\nBest score = 0.8051673194530338\\nCPU times: user 371 ms, sys: 15.6 ms, total: 386 ms\\nWall time: 4.39 s\\n\\n\""
      ]
     },
     "execution_count": 14,
     "metadata": {},
     "output_type": "execute_result"
    }
   ],
   "source": [
    "%%time\n",
    "\n",
    "params = dict(\n",
    "    penalty = ['none','l1','l2','elasticnet'],\n",
    "    C = [0.01, 0.1, 1.0, 10, 100]\n",
    ")\n",
    "\n",
    "best_params = dict(\n",
    "    n_jobs=-1,\n",
    "    random_state=SEED,\n",
    "    solver='lbfgs',\n",
    "    fit_intercept=True,\n",
    "    max_iter=10_000,\n",
    "    )\n",
    "\n",
    "\n",
    "# rskf = RepeatedStratifiedKFold(n_splits=5,n_repeats=3,random_state=SEED)\n",
    "# model =  LogisticRegression(**best_params)\n",
    "# grid = GridSearchCV(model, params, n_jobs=-1,\n",
    "#                     scoring='accuracy', cv=rskf, verbose=False)\n",
    "\n",
    "# grid.fit(Xtr,ytr)\n",
    "\n",
    "# print(grid.best_params_)\n",
    "# print(f'Best score = {grid.best_score_}')\n",
    "\n",
    "\"\"\"\n",
    "{'C': 1.0, 'penalty': 'l2'}\n",
    "Best score = 0.8051673194530338\n",
    "CPU times: user 371 ms, sys: 15.6 ms, total: 386 ms\n",
    "Wall time: 4.39 s\n",
    "\n",
    "\"\"\";"
   ]
  },
  {
   "cell_type": "code",
   "execution_count": 15,
   "metadata": {
    "ExecuteTime": {
     "end_time": "2020-08-23T22:33:10.920689Z",
     "start_time": "2020-08-23T22:33:10.907213Z"
    }
   },
   "outputs": [
    {
     "name": "stdout",
     "output_type": "stream",
     "text": [
      "CPU times: user 20 µs, sys: 0 ns, total: 20 µs\n",
      "Wall time: 23.1 µs\n"
     ]
    },
    {
     "data": {
      "text/plain": [
       "\"\\n{'solver': 'lbfgs'}\\nBest score = 0.8085343228200372\\nCPU times: user 53.7 ms, sys: 3.97 ms, total: 57.7 ms\\nWall time: 606 ms\\n\""
      ]
     },
     "execution_count": 15,
     "metadata": {},
     "output_type": "execute_result"
    }
   ],
   "source": [
    "%%time\n",
    "\n",
    "params = dict(\n",
    "    solver=['lbfgs','liblinear','newton-cg']\n",
    ")\n",
    "\n",
    "best_params = dict(\n",
    "    n_jobs=-1,\n",
    "    C=1,\n",
    "    penalty='l2',\n",
    "    random_state=SEED,\n",
    "    solver='lbfgs',\n",
    "    fit_intercept=True,\n",
    "    max_iter=10_000,\n",
    "    )\n",
    "\n",
    "# skf = StratifiedKFold(n_splits=5,shuffle=True,random_state=SEED)\n",
    "# model =  LogisticRegression(**best_params)\n",
    "# grid = GridSearchCV(model, params, n_jobs=-1,\n",
    "#                     scoring='accuracy', cv=skf, verbose=False)\n",
    "\n",
    "# grid.fit(Xtr,ytr)\n",
    "\n",
    "# print(grid.best_params_)\n",
    "# print(f'Best score = {grid.best_score_}')\n",
    "\n",
    "\"\"\"\n",
    "{'solver': 'lbfgs'}\n",
    "Best score = 0.8085343228200372\n",
    "CPU times: user 53.7 ms, sys: 3.97 ms, total: 57.7 ms\n",
    "Wall time: 606 ms\n",
    "\"\"\";"
   ]
  },
  {
   "cell_type": "code",
   "execution_count": 16,
   "metadata": {
    "ExecuteTime": {
     "end_time": "2020-08-23T22:33:17.115994Z",
     "start_time": "2020-08-23T22:33:10.922823Z"
    }
   },
   "outputs": [
    {
     "name": "stdout",
     "output_type": "stream",
     "text": [
      "{'C': 1.4}\n",
      "Best score = 0.8040568954854669\n",
      "CPU times: user 613 ms, sys: 70.9 ms, total: 684 ms\n",
      "Wall time: 6.19 s\n"
     ]
    }
   ],
   "source": [
    "%%time\n",
    "\n",
    "params = dict(\n",
    "    C=[0.8,0.9,1.0,1.1,1.2,1.3,1.4]\n",
    ")\n",
    "\n",
    "best_params = dict(\n",
    "    n_jobs=-1,\n",
    "    C=1,\n",
    "    penalty='l2',\n",
    "    random_state=SEED,\n",
    "    solver='lbfgs',\n",
    "    fit_intercept=True,\n",
    "    max_iter=10_000,\n",
    "    )\n",
    "\n",
    "rskf = RepeatedStratifiedKFold(n_splits=5,n_repeats=5,random_state=SEED)\n",
    "model =  LogisticRegression(**best_params)\n",
    "grid = GridSearchCV(model, params, n_jobs=-1,\n",
    "                    scoring='accuracy', cv=rskf, verbose=False)\n",
    "\n",
    "grid.fit(Xtr,ytr)\n",
    "\n",
    "print(grid.best_params_)\n",
    "print(f'Best score = {grid.best_score_}')"
   ]
  },
  {
   "cell_type": "code",
   "execution_count": 17,
   "metadata": {
    "ExecuteTime": {
     "end_time": "2020-08-23T22:33:17.191628Z",
     "start_time": "2020-08-23T22:33:17.118696Z"
    }
   },
   "outputs": [
    {
     "data": {
      "text/html": [
       "<style  type=\"text/css\" >\n",
       "#T_a3a609c2_e590_11ea_8870_acde48001122row0_col3,#T_a3a609c2_e590_11ea_8870_acde48001122row1_col3,#T_a3a609c2_e590_11ea_8870_acde48001122row2_col3{\n",
       "            background-color:  #fff7fb;\n",
       "            color:  #000000;\n",
       "        }</style><table id=\"T_a3a609c2_e590_11ea_8870_acde48001122\" ><thead>    <tr>        <th class=\"blank level0\" ></th>        <th class=\"col_heading level0 col0\" >index</th>        <th class=\"col_heading level0 col1\" >Model</th>        <th class=\"col_heading level0 col2\" >Description</th>        <th class=\"col_heading level0 col3\" >Accuracy</th>        <th class=\"col_heading level0 col4\" >Precision</th>        <th class=\"col_heading level0 col5\" >Recall</th>        <th class=\"col_heading level0 col6\" >F-score</th>        <th class=\"col_heading level0 col7\" >Time_Taken</th>    </tr></thead><tbody>\n",
       "                <tr>\n",
       "                        <th id=\"T_a3a609c2_e590_11ea_8870_acde48001122level0_row0\" class=\"row_heading level0 row0\" >0</th>\n",
       "                        <td id=\"T_a3a609c2_e590_11ea_8870_acde48001122row0_col0\" class=\"data row0 col0\" >0</td>\n",
       "                        <td id=\"T_a3a609c2_e590_11ea_8870_acde48001122row0_col1\" class=\"data row0 col1\" >Logreg</td>\n",
       "                        <td id=\"T_a3a609c2_e590_11ea_8870_acde48001122row0_col2\" class=\"data row0 col2\" >default</td>\n",
       "                        <td id=\"T_a3a609c2_e590_11ea_8870_acde48001122row0_col3\" class=\"data row0 col3\" >0.821138</td>\n",
       "                        <td id=\"T_a3a609c2_e590_11ea_8870_acde48001122row0_col4\" class=\"data row0 col4\" >0.800000</td>\n",
       "                        <td id=\"T_a3a609c2_e590_11ea_8870_acde48001122row0_col5\" class=\"data row0 col5\" >0.988235</td>\n",
       "                        <td id=\"T_a3a609c2_e590_11ea_8870_acde48001122row0_col6\" class=\"data row0 col6\" >0.884211</td>\n",
       "                        <td id=\"T_a3a609c2_e590_11ea_8870_acde48001122row0_col7\" class=\"data row0 col7\" >0 min 0.04 s</td>\n",
       "            </tr>\n",
       "            <tr>\n",
       "                        <th id=\"T_a3a609c2_e590_11ea_8870_acde48001122level0_row1\" class=\"row_heading level0 row1\" >1</th>\n",
       "                        <td id=\"T_a3a609c2_e590_11ea_8870_acde48001122row1_col0\" class=\"data row1 col0\" >1</td>\n",
       "                        <td id=\"T_a3a609c2_e590_11ea_8870_acde48001122row1_col1\" class=\"data row1 col1\" >Logreg</td>\n",
       "                        <td id=\"T_a3a609c2_e590_11ea_8870_acde48001122row1_col2\" class=\"data row1 col2\" >max_iter=100_000</td>\n",
       "                        <td id=\"T_a3a609c2_e590_11ea_8870_acde48001122row1_col3\" class=\"data row1 col3\" >0.821138</td>\n",
       "                        <td id=\"T_a3a609c2_e590_11ea_8870_acde48001122row1_col4\" class=\"data row1 col4\" >0.800000</td>\n",
       "                        <td id=\"T_a3a609c2_e590_11ea_8870_acde48001122row1_col5\" class=\"data row1 col5\" >0.988235</td>\n",
       "                        <td id=\"T_a3a609c2_e590_11ea_8870_acde48001122row1_col6\" class=\"data row1 col6\" >0.884211</td>\n",
       "                        <td id=\"T_a3a609c2_e590_11ea_8870_acde48001122row1_col7\" class=\"data row1 col7\" >0 min 0.03 s</td>\n",
       "            </tr>\n",
       "            <tr>\n",
       "                        <th id=\"T_a3a609c2_e590_11ea_8870_acde48001122level0_row2\" class=\"row_heading level0 row2\" >2</th>\n",
       "                        <td id=\"T_a3a609c2_e590_11ea_8870_acde48001122row2_col0\" class=\"data row2 col0\" >2</td>\n",
       "                        <td id=\"T_a3a609c2_e590_11ea_8870_acde48001122row2_col1\" class=\"data row2 col1\" >Logreg</td>\n",
       "                        <td id=\"T_a3a609c2_e590_11ea_8870_acde48001122row2_col2\" class=\"data row2 col2\" >max_iter=100_000,C=1.4</td>\n",
       "                        <td id=\"T_a3a609c2_e590_11ea_8870_acde48001122row2_col3\" class=\"data row2 col3\" >0.821138</td>\n",
       "                        <td id=\"T_a3a609c2_e590_11ea_8870_acde48001122row2_col4\" class=\"data row2 col4\" >0.800000</td>\n",
       "                        <td id=\"T_a3a609c2_e590_11ea_8870_acde48001122row2_col5\" class=\"data row2 col5\" >0.988235</td>\n",
       "                        <td id=\"T_a3a609c2_e590_11ea_8870_acde48001122row2_col6\" class=\"data row2 col6\" >0.884211</td>\n",
       "                        <td id=\"T_a3a609c2_e590_11ea_8870_acde48001122row2_col7\" class=\"data row2 col7\" >0 min 0.04 s</td>\n",
       "            </tr>\n",
       "    </tbody></table>"
      ],
      "text/plain": [
       "<pandas.io.formats.style.Styler at 0x7f9c87429890>"
      ]
     },
     "execution_count": 17,
     "metadata": {},
     "output_type": "execute_result"
    }
   ],
   "source": [
    "time_start = time.time()\n",
    "model = LogisticRegression(random_state=SEED,max_iter=100_000,C=1.4)\n",
    "model.fit(Xtr,ytr)\n",
    "\n",
    "vd_preds = model.predict(Xvd)\n",
    "\n",
    "acc = metrics.accuracy_score(yvd, vd_preds)\n",
    "pre = metrics.precision_score(yvd, vd_preds)\n",
    "rec = metrics.recall_score(yvd, vd_preds)\n",
    "f1  = metrics.f1_score(yvd,vd_preds)\n",
    "\n",
    "time_taken = time.time() - time_start\n",
    "time_taken = \"{:.0f} min {:.2f} s\".format(*divmod(time_taken,60))\n",
    "\n",
    "row = ['Logreg', 'max_iter=100_000,C=1.4', acc, pre, rec, f1,time_taken]\n",
    "df_eval.loc[len(df_eval)] = row\n",
    "df_eval = df_eval.drop_duplicates(['Model','Description'])\n",
    "df_eval.sort_values('Accuracy',ascending=False).reset_index().style.background_gradient(subset=['Accuracy'])"
   ]
  },
  {
   "cell_type": "code",
   "execution_count": 18,
   "metadata": {
    "ExecuteTime": {
     "end_time": "2020-08-23T22:35:28.382104Z",
     "start_time": "2020-08-23T22:35:22.614525Z"
    }
   },
   "outputs": [
    {
     "name": "stdout",
     "output_type": "stream",
     "text": [
      "{'C': 1.42}\n",
      "Best score = 0.8056895485466913\n",
      "CPU times: user 414 ms, sys: 15.4 ms, total: 429 ms\n",
      "Wall time: 5.76 s\n"
     ]
    }
   ],
   "source": [
    "%%time\n",
    "\n",
    "params = dict(\n",
    "    C=[1.30,1.32,1.34,1.38,1.42,1.44,1.46,1.48]\n",
    ")\n",
    "\n",
    "best_params = dict(\n",
    "    n_jobs=-1,\n",
    "    C=1,\n",
    "    penalty='l2',\n",
    "    random_state=SEED,\n",
    "    solver='lbfgs',\n",
    "    fit_intercept=True,\n",
    "    max_iter=10_000,\n",
    "    )\n",
    "\n",
    "\n",
    "rskf = RepeatedStratifiedKFold(n_splits=5,n_repeats=5,random_state=SEED)\n",
    "model =  LogisticRegression(**best_params)\n",
    "grid = GridSearchCV(model, params, n_jobs=-1,\n",
    "                    scoring='accuracy', cv=rskf, verbose=False)\n",
    "\n",
    "grid.fit(Xtr,ytr)\n",
    "\n",
    "print(grid.best_params_)\n",
    "print(f'Best score = {grid.best_score_}')"
   ]
  },
  {
   "cell_type": "code",
   "execution_count": 19,
   "metadata": {
    "ExecuteTime": {
     "end_time": "2020-08-23T22:35:50.836284Z",
     "start_time": "2020-08-23T22:35:50.788890Z"
    }
   },
   "outputs": [
    {
     "data": {
      "text/html": [
       "<style  type=\"text/css\" >\n",
       "#T_ff3ac886_e590_11ea_8870_acde48001122row0_col3,#T_ff3ac886_e590_11ea_8870_acde48001122row1_col3,#T_ff3ac886_e590_11ea_8870_acde48001122row2_col3,#T_ff3ac886_e590_11ea_8870_acde48001122row3_col3{\n",
       "            background-color:  #fff7fb;\n",
       "            color:  #000000;\n",
       "        }</style><table id=\"T_ff3ac886_e590_11ea_8870_acde48001122\" ><thead>    <tr>        <th class=\"blank level0\" ></th>        <th class=\"col_heading level0 col0\" >index</th>        <th class=\"col_heading level0 col1\" >Model</th>        <th class=\"col_heading level0 col2\" >Description</th>        <th class=\"col_heading level0 col3\" >Accuracy</th>        <th class=\"col_heading level0 col4\" >Precision</th>        <th class=\"col_heading level0 col5\" >Recall</th>        <th class=\"col_heading level0 col6\" >F-score</th>        <th class=\"col_heading level0 col7\" >Time_Taken</th>    </tr></thead><tbody>\n",
       "                <tr>\n",
       "                        <th id=\"T_ff3ac886_e590_11ea_8870_acde48001122level0_row0\" class=\"row_heading level0 row0\" >0</th>\n",
       "                        <td id=\"T_ff3ac886_e590_11ea_8870_acde48001122row0_col0\" class=\"data row0 col0\" >0</td>\n",
       "                        <td id=\"T_ff3ac886_e590_11ea_8870_acde48001122row0_col1\" class=\"data row0 col1\" >Logreg</td>\n",
       "                        <td id=\"T_ff3ac886_e590_11ea_8870_acde48001122row0_col2\" class=\"data row0 col2\" >default</td>\n",
       "                        <td id=\"T_ff3ac886_e590_11ea_8870_acde48001122row0_col3\" class=\"data row0 col3\" >0.821138</td>\n",
       "                        <td id=\"T_ff3ac886_e590_11ea_8870_acde48001122row0_col4\" class=\"data row0 col4\" >0.800000</td>\n",
       "                        <td id=\"T_ff3ac886_e590_11ea_8870_acde48001122row0_col5\" class=\"data row0 col5\" >0.988235</td>\n",
       "                        <td id=\"T_ff3ac886_e590_11ea_8870_acde48001122row0_col6\" class=\"data row0 col6\" >0.884211</td>\n",
       "                        <td id=\"T_ff3ac886_e590_11ea_8870_acde48001122row0_col7\" class=\"data row0 col7\" >0 min 0.04 s</td>\n",
       "            </tr>\n",
       "            <tr>\n",
       "                        <th id=\"T_ff3ac886_e590_11ea_8870_acde48001122level0_row1\" class=\"row_heading level0 row1\" >1</th>\n",
       "                        <td id=\"T_ff3ac886_e590_11ea_8870_acde48001122row1_col0\" class=\"data row1 col0\" >1</td>\n",
       "                        <td id=\"T_ff3ac886_e590_11ea_8870_acde48001122row1_col1\" class=\"data row1 col1\" >Logreg</td>\n",
       "                        <td id=\"T_ff3ac886_e590_11ea_8870_acde48001122row1_col2\" class=\"data row1 col2\" >max_iter=100_000</td>\n",
       "                        <td id=\"T_ff3ac886_e590_11ea_8870_acde48001122row1_col3\" class=\"data row1 col3\" >0.821138</td>\n",
       "                        <td id=\"T_ff3ac886_e590_11ea_8870_acde48001122row1_col4\" class=\"data row1 col4\" >0.800000</td>\n",
       "                        <td id=\"T_ff3ac886_e590_11ea_8870_acde48001122row1_col5\" class=\"data row1 col5\" >0.988235</td>\n",
       "                        <td id=\"T_ff3ac886_e590_11ea_8870_acde48001122row1_col6\" class=\"data row1 col6\" >0.884211</td>\n",
       "                        <td id=\"T_ff3ac886_e590_11ea_8870_acde48001122row1_col7\" class=\"data row1 col7\" >0 min 0.03 s</td>\n",
       "            </tr>\n",
       "            <tr>\n",
       "                        <th id=\"T_ff3ac886_e590_11ea_8870_acde48001122level0_row2\" class=\"row_heading level0 row2\" >2</th>\n",
       "                        <td id=\"T_ff3ac886_e590_11ea_8870_acde48001122row2_col0\" class=\"data row2 col0\" >2</td>\n",
       "                        <td id=\"T_ff3ac886_e590_11ea_8870_acde48001122row2_col1\" class=\"data row2 col1\" >Logreg</td>\n",
       "                        <td id=\"T_ff3ac886_e590_11ea_8870_acde48001122row2_col2\" class=\"data row2 col2\" >max_iter=100_000,C=1.4</td>\n",
       "                        <td id=\"T_ff3ac886_e590_11ea_8870_acde48001122row2_col3\" class=\"data row2 col3\" >0.821138</td>\n",
       "                        <td id=\"T_ff3ac886_e590_11ea_8870_acde48001122row2_col4\" class=\"data row2 col4\" >0.800000</td>\n",
       "                        <td id=\"T_ff3ac886_e590_11ea_8870_acde48001122row2_col5\" class=\"data row2 col5\" >0.988235</td>\n",
       "                        <td id=\"T_ff3ac886_e590_11ea_8870_acde48001122row2_col6\" class=\"data row2 col6\" >0.884211</td>\n",
       "                        <td id=\"T_ff3ac886_e590_11ea_8870_acde48001122row2_col7\" class=\"data row2 col7\" >0 min 0.04 s</td>\n",
       "            </tr>\n",
       "            <tr>\n",
       "                        <th id=\"T_ff3ac886_e590_11ea_8870_acde48001122level0_row3\" class=\"row_heading level0 row3\" >3</th>\n",
       "                        <td id=\"T_ff3ac886_e590_11ea_8870_acde48001122row3_col0\" class=\"data row3 col0\" >3</td>\n",
       "                        <td id=\"T_ff3ac886_e590_11ea_8870_acde48001122row3_col1\" class=\"data row3 col1\" >Logreg</td>\n",
       "                        <td id=\"T_ff3ac886_e590_11ea_8870_acde48001122row3_col2\" class=\"data row3 col2\" >max_iter=100_000,C=1.42</td>\n",
       "                        <td id=\"T_ff3ac886_e590_11ea_8870_acde48001122row3_col3\" class=\"data row3 col3\" >0.821138</td>\n",
       "                        <td id=\"T_ff3ac886_e590_11ea_8870_acde48001122row3_col4\" class=\"data row3 col4\" >0.800000</td>\n",
       "                        <td id=\"T_ff3ac886_e590_11ea_8870_acde48001122row3_col5\" class=\"data row3 col5\" >0.988235</td>\n",
       "                        <td id=\"T_ff3ac886_e590_11ea_8870_acde48001122row3_col6\" class=\"data row3 col6\" >0.884211</td>\n",
       "                        <td id=\"T_ff3ac886_e590_11ea_8870_acde48001122row3_col7\" class=\"data row3 col7\" >0 min 0.03 s</td>\n",
       "            </tr>\n",
       "    </tbody></table>"
      ],
      "text/plain": [
       "<pandas.io.formats.style.Styler at 0x7f9c87247710>"
      ]
     },
     "execution_count": 19,
     "metadata": {},
     "output_type": "execute_result"
    }
   ],
   "source": [
    "time_start = time.time()\n",
    "model = LogisticRegression(random_state=SEED,max_iter=100_000,C=1.42)\n",
    "model.fit(Xtr,ytr)\n",
    "\n",
    "vd_preds = model.predict(Xvd)\n",
    "\n",
    "acc = metrics.accuracy_score(yvd, vd_preds)\n",
    "pre = metrics.precision_score(yvd, vd_preds)\n",
    "rec = metrics.recall_score(yvd, vd_preds)\n",
    "f1  = metrics.f1_score(yvd,vd_preds)\n",
    "\n",
    "time_taken = time.time() - time_start\n",
    "time_taken = \"{:.0f} min {:.2f} s\".format(*divmod(time_taken,60))\n",
    "\n",
    "row = ['Logreg', 'max_iter=100_000,C=1.42', acc, pre, rec, f1,time_taken]\n",
    "df_eval.loc[len(df_eval)] = row\n",
    "df_eval = df_eval.drop_duplicates(['Model','Description'])\n",
    "df_eval.sort_values('Accuracy',ascending=False).reset_index().style.background_gradient(subset=['Accuracy'])"
   ]
  },
  {
   "cell_type": "markdown",
   "metadata": {},
   "source": [
    "# Take log"
   ]
  },
  {
   "cell_type": "code",
   "execution_count": 20,
   "metadata": {
    "ExecuteTime": {
     "end_time": "2020-08-23T22:41:19.785587Z",
     "start_time": "2020-08-23T22:41:19.772730Z"
    }
   },
   "outputs": [
    {
     "data": {
      "text/html": [
       "<div>\n",
       "<style scoped>\n",
       "    .dataframe tbody tr th:only-of-type {\n",
       "        vertical-align: middle;\n",
       "    }\n",
       "\n",
       "    .dataframe tbody tr th {\n",
       "        vertical-align: top;\n",
       "    }\n",
       "\n",
       "    .dataframe thead th {\n",
       "        text-align: right;\n",
       "    }\n",
       "</style>\n",
       "<table border=\"1\" class=\"dataframe\">\n",
       "  <thead>\n",
       "    <tr style=\"text-align: right;\">\n",
       "      <th></th>\n",
       "      <th>Gender</th>\n",
       "      <th>Married</th>\n",
       "      <th>Education</th>\n",
       "      <th>Self_Employed</th>\n",
       "      <th>ApplicantIncome</th>\n",
       "      <th>CoapplicantIncome</th>\n",
       "      <th>LoanAmount</th>\n",
       "      <th>Loan_Amount_Term</th>\n",
       "      <th>Credit_History</th>\n",
       "      <th>Dependents_1</th>\n",
       "      <th>Dependents_2</th>\n",
       "      <th>Dependents_3+</th>\n",
       "      <th>Property_Area_Semiurban</th>\n",
       "      <th>Property_Area_Urban</th>\n",
       "    </tr>\n",
       "  </thead>\n",
       "  <tbody>\n",
       "    <tr>\n",
       "      <th>203</th>\n",
       "      <td>1</td>\n",
       "      <td>1</td>\n",
       "      <td>0</td>\n",
       "      <td>0</td>\n",
       "      <td>3500</td>\n",
       "      <td>1083.0</td>\n",
       "      <td>135.0</td>\n",
       "      <td>360.0</td>\n",
       "      <td>1.0</td>\n",
       "      <td>1</td>\n",
       "      <td>0</td>\n",
       "      <td>0</td>\n",
       "      <td>0</td>\n",
       "      <td>1</td>\n",
       "    </tr>\n",
       "    <tr>\n",
       "      <th>369</th>\n",
       "      <td>1</td>\n",
       "      <td>1</td>\n",
       "      <td>1</td>\n",
       "      <td>0</td>\n",
       "      <td>19730</td>\n",
       "      <td>5266.0</td>\n",
       "      <td>570.0</td>\n",
       "      <td>360.0</td>\n",
       "      <td>1.0</td>\n",
       "      <td>0</td>\n",
       "      <td>0</td>\n",
       "      <td>0</td>\n",
       "      <td>0</td>\n",
       "      <td>0</td>\n",
       "    </tr>\n",
       "  </tbody>\n",
       "</table>\n",
       "</div>"
      ],
      "text/plain": [
       "     Gender  Married  Education  Self_Employed  ApplicantIncome  \\\n",
       "203       1        1          0              0             3500   \n",
       "369       1        1          1              0            19730   \n",
       "\n",
       "     CoapplicantIncome  LoanAmount  Loan_Amount_Term  Credit_History  \\\n",
       "203             1083.0       135.0             360.0             1.0   \n",
       "369             5266.0       570.0             360.0             1.0   \n",
       "\n",
       "     Dependents_1  Dependents_2  Dependents_3+  Property_Area_Semiurban  \\\n",
       "203             1             0              0                        0   \n",
       "369             0             0              0                        0   \n",
       "\n",
       "     Property_Area_Urban  \n",
       "203                    1  \n",
       "369                    0  "
      ]
     },
     "execution_count": 20,
     "metadata": {},
     "output_type": "execute_result"
    }
   ],
   "source": [
    "df_Xtrain.head(2)"
   ]
  },
  {
   "cell_type": "code",
   "execution_count": 21,
   "metadata": {
    "ExecuteTime": {
     "end_time": "2020-08-23T22:43:52.100656Z",
     "start_time": "2020-08-23T22:43:52.093465Z"
    }
   },
   "outputs": [],
   "source": [
    "cols_log = ['ApplicantIncome','CoapplicantIncome','LoanAmount']\n",
    "\n",
    "for c in cols_log:\n",
    "    df_Xtrain[c+'_log'] = np.log1p(df_Xtrain[c])\n",
    "    df_Xvalid[c+'_log'] = np.log1p(df_Xvalid[c])"
   ]
  },
  {
   "cell_type": "code",
   "execution_count": 22,
   "metadata": {
    "ExecuteTime": {
     "end_time": "2020-08-23T22:44:09.371288Z",
     "start_time": "2020-08-23T22:44:09.357098Z"
    }
   },
   "outputs": [
    {
     "data": {
      "text/html": [
       "<div>\n",
       "<style scoped>\n",
       "    .dataframe tbody tr th:only-of-type {\n",
       "        vertical-align: middle;\n",
       "    }\n",
       "\n",
       "    .dataframe tbody tr th {\n",
       "        vertical-align: top;\n",
       "    }\n",
       "\n",
       "    .dataframe thead th {\n",
       "        text-align: right;\n",
       "    }\n",
       "</style>\n",
       "<table border=\"1\" class=\"dataframe\">\n",
       "  <thead>\n",
       "    <tr style=\"text-align: right;\">\n",
       "      <th></th>\n",
       "      <th>Gender</th>\n",
       "      <th>Married</th>\n",
       "      <th>Education</th>\n",
       "      <th>Self_Employed</th>\n",
       "      <th>ApplicantIncome</th>\n",
       "      <th>CoapplicantIncome</th>\n",
       "      <th>LoanAmount</th>\n",
       "      <th>Loan_Amount_Term</th>\n",
       "      <th>Credit_History</th>\n",
       "      <th>Dependents_1</th>\n",
       "      <th>Dependents_2</th>\n",
       "      <th>Dependents_3+</th>\n",
       "      <th>Property_Area_Semiurban</th>\n",
       "      <th>Property_Area_Urban</th>\n",
       "      <th>ApplicantIncome_log</th>\n",
       "      <th>CoapplicantIncome_log</th>\n",
       "      <th>LoanAmount_log</th>\n",
       "    </tr>\n",
       "  </thead>\n",
       "  <tbody>\n",
       "    <tr>\n",
       "      <th>203</th>\n",
       "      <td>1</td>\n",
       "      <td>1</td>\n",
       "      <td>0</td>\n",
       "      <td>0</td>\n",
       "      <td>3500</td>\n",
       "      <td>1083.0</td>\n",
       "      <td>135.0</td>\n",
       "      <td>360.0</td>\n",
       "      <td>1.0</td>\n",
       "      <td>1</td>\n",
       "      <td>0</td>\n",
       "      <td>0</td>\n",
       "      <td>0</td>\n",
       "      <td>1</td>\n",
       "      <td>8.160804</td>\n",
       "      <td>6.988413</td>\n",
       "      <td>4.912655</td>\n",
       "    </tr>\n",
       "    <tr>\n",
       "      <th>369</th>\n",
       "      <td>1</td>\n",
       "      <td>1</td>\n",
       "      <td>1</td>\n",
       "      <td>0</td>\n",
       "      <td>19730</td>\n",
       "      <td>5266.0</td>\n",
       "      <td>570.0</td>\n",
       "      <td>360.0</td>\n",
       "      <td>1.0</td>\n",
       "      <td>0</td>\n",
       "      <td>0</td>\n",
       "      <td>0</td>\n",
       "      <td>0</td>\n",
       "      <td>0</td>\n",
       "      <td>9.889946</td>\n",
       "      <td>8.569216</td>\n",
       "      <td>6.347389</td>\n",
       "    </tr>\n",
       "  </tbody>\n",
       "</table>\n",
       "</div>"
      ],
      "text/plain": [
       "     Gender  Married  Education  Self_Employed  ApplicantIncome  \\\n",
       "203       1        1          0              0             3500   \n",
       "369       1        1          1              0            19730   \n",
       "\n",
       "     CoapplicantIncome  LoanAmount  Loan_Amount_Term  Credit_History  \\\n",
       "203             1083.0       135.0             360.0             1.0   \n",
       "369             5266.0       570.0             360.0             1.0   \n",
       "\n",
       "     Dependents_1  Dependents_2  Dependents_3+  Property_Area_Semiurban  \\\n",
       "203             1             0              0                        0   \n",
       "369             0             0              0                        0   \n",
       "\n",
       "     Property_Area_Urban  ApplicantIncome_log  CoapplicantIncome_log  \\\n",
       "203                    1             8.160804               6.988413   \n",
       "369                    0             9.889946               8.569216   \n",
       "\n",
       "     LoanAmount_log  \n",
       "203        4.912655  \n",
       "369        6.347389  "
      ]
     },
     "execution_count": 22,
     "metadata": {},
     "output_type": "execute_result"
    }
   ],
   "source": [
    "df_Xtrain.head(2)"
   ]
  },
  {
   "cell_type": "code",
   "execution_count": 25,
   "metadata": {
    "ExecuteTime": {
     "end_time": "2020-08-23T22:46:41.381424Z",
     "start_time": "2020-08-23T22:46:41.374322Z"
    }
   },
   "outputs": [
    {
     "name": "stdout",
     "output_type": "stream",
     "text": [
      "['Gender', 'Married', 'Education', 'Self_Employed', 'Loan_Amount_Term', 'Credit_History', 'Dependents_1', 'Dependents_2', 'Dependents_3+', 'Property_Area_Semiurban', 'Property_Area_Urban', 'ApplicantIncome_log', 'CoapplicantIncome_log', 'LoanAmount_log']\n"
     ]
    }
   ],
   "source": [
    "features = [i for i in df_Xtrain.columns if i not in cols_log]\n",
    "\n",
    "print(features)\n",
    "Xtr = df_Xtrain[features]\n",
    "Xvd = df_Xvalid[features]"
   ]
  },
  {
   "cell_type": "code",
   "execution_count": 24,
   "metadata": {
    "ExecuteTime": {
     "end_time": "2020-08-23T22:45:33.501525Z",
     "start_time": "2020-08-23T22:45:33.406492Z"
    }
   },
   "outputs": [
    {
     "data": {
      "text/html": [
       "<style  type=\"text/css\" >\n",
       "#T_5a86886e_e592_11ea_8870_acde48001122row0_col3,#T_5a86886e_e592_11ea_8870_acde48001122row1_col3,#T_5a86886e_e592_11ea_8870_acde48001122row2_col3,#T_5a86886e_e592_11ea_8870_acde48001122row3_col3{\n",
       "            background-color:  #023858;\n",
       "            color:  #f1f1f1;\n",
       "        }#T_5a86886e_e592_11ea_8870_acde48001122row4_col3{\n",
       "            background-color:  #fff7fb;\n",
       "            color:  #000000;\n",
       "        }</style><table id=\"T_5a86886e_e592_11ea_8870_acde48001122\" ><thead>    <tr>        <th class=\"blank level0\" ></th>        <th class=\"col_heading level0 col0\" >index</th>        <th class=\"col_heading level0 col1\" >Model</th>        <th class=\"col_heading level0 col2\" >Description</th>        <th class=\"col_heading level0 col3\" >Accuracy</th>        <th class=\"col_heading level0 col4\" >Precision</th>        <th class=\"col_heading level0 col5\" >Recall</th>        <th class=\"col_heading level0 col6\" >F-score</th>        <th class=\"col_heading level0 col7\" >Time_Taken</th>    </tr></thead><tbody>\n",
       "                <tr>\n",
       "                        <th id=\"T_5a86886e_e592_11ea_8870_acde48001122level0_row0\" class=\"row_heading level0 row0\" >0</th>\n",
       "                        <td id=\"T_5a86886e_e592_11ea_8870_acde48001122row0_col0\" class=\"data row0 col0\" >0</td>\n",
       "                        <td id=\"T_5a86886e_e592_11ea_8870_acde48001122row0_col1\" class=\"data row0 col1\" >Logreg</td>\n",
       "                        <td id=\"T_5a86886e_e592_11ea_8870_acde48001122row0_col2\" class=\"data row0 col2\" >default</td>\n",
       "                        <td id=\"T_5a86886e_e592_11ea_8870_acde48001122row0_col3\" class=\"data row0 col3\" >0.821138</td>\n",
       "                        <td id=\"T_5a86886e_e592_11ea_8870_acde48001122row0_col4\" class=\"data row0 col4\" >0.800000</td>\n",
       "                        <td id=\"T_5a86886e_e592_11ea_8870_acde48001122row0_col5\" class=\"data row0 col5\" >0.988235</td>\n",
       "                        <td id=\"T_5a86886e_e592_11ea_8870_acde48001122row0_col6\" class=\"data row0 col6\" >0.884211</td>\n",
       "                        <td id=\"T_5a86886e_e592_11ea_8870_acde48001122row0_col7\" class=\"data row0 col7\" >0 min 0.04 s</td>\n",
       "            </tr>\n",
       "            <tr>\n",
       "                        <th id=\"T_5a86886e_e592_11ea_8870_acde48001122level0_row1\" class=\"row_heading level0 row1\" >1</th>\n",
       "                        <td id=\"T_5a86886e_e592_11ea_8870_acde48001122row1_col0\" class=\"data row1 col0\" >1</td>\n",
       "                        <td id=\"T_5a86886e_e592_11ea_8870_acde48001122row1_col1\" class=\"data row1 col1\" >Logreg</td>\n",
       "                        <td id=\"T_5a86886e_e592_11ea_8870_acde48001122row1_col2\" class=\"data row1 col2\" >max_iter=100_000</td>\n",
       "                        <td id=\"T_5a86886e_e592_11ea_8870_acde48001122row1_col3\" class=\"data row1 col3\" >0.821138</td>\n",
       "                        <td id=\"T_5a86886e_e592_11ea_8870_acde48001122row1_col4\" class=\"data row1 col4\" >0.800000</td>\n",
       "                        <td id=\"T_5a86886e_e592_11ea_8870_acde48001122row1_col5\" class=\"data row1 col5\" >0.988235</td>\n",
       "                        <td id=\"T_5a86886e_e592_11ea_8870_acde48001122row1_col6\" class=\"data row1 col6\" >0.884211</td>\n",
       "                        <td id=\"T_5a86886e_e592_11ea_8870_acde48001122row1_col7\" class=\"data row1 col7\" >0 min 0.03 s</td>\n",
       "            </tr>\n",
       "            <tr>\n",
       "                        <th id=\"T_5a86886e_e592_11ea_8870_acde48001122level0_row2\" class=\"row_heading level0 row2\" >2</th>\n",
       "                        <td id=\"T_5a86886e_e592_11ea_8870_acde48001122row2_col0\" class=\"data row2 col0\" >2</td>\n",
       "                        <td id=\"T_5a86886e_e592_11ea_8870_acde48001122row2_col1\" class=\"data row2 col1\" >Logreg</td>\n",
       "                        <td id=\"T_5a86886e_e592_11ea_8870_acde48001122row2_col2\" class=\"data row2 col2\" >max_iter=100_000,C=1.4</td>\n",
       "                        <td id=\"T_5a86886e_e592_11ea_8870_acde48001122row2_col3\" class=\"data row2 col3\" >0.821138</td>\n",
       "                        <td id=\"T_5a86886e_e592_11ea_8870_acde48001122row2_col4\" class=\"data row2 col4\" >0.800000</td>\n",
       "                        <td id=\"T_5a86886e_e592_11ea_8870_acde48001122row2_col5\" class=\"data row2 col5\" >0.988235</td>\n",
       "                        <td id=\"T_5a86886e_e592_11ea_8870_acde48001122row2_col6\" class=\"data row2 col6\" >0.884211</td>\n",
       "                        <td id=\"T_5a86886e_e592_11ea_8870_acde48001122row2_col7\" class=\"data row2 col7\" >0 min 0.04 s</td>\n",
       "            </tr>\n",
       "            <tr>\n",
       "                        <th id=\"T_5a86886e_e592_11ea_8870_acde48001122level0_row3\" class=\"row_heading level0 row3\" >3</th>\n",
       "                        <td id=\"T_5a86886e_e592_11ea_8870_acde48001122row3_col0\" class=\"data row3 col0\" >3</td>\n",
       "                        <td id=\"T_5a86886e_e592_11ea_8870_acde48001122row3_col1\" class=\"data row3 col1\" >Logreg</td>\n",
       "                        <td id=\"T_5a86886e_e592_11ea_8870_acde48001122row3_col2\" class=\"data row3 col2\" >max_iter=100_000,C=1.42</td>\n",
       "                        <td id=\"T_5a86886e_e592_11ea_8870_acde48001122row3_col3\" class=\"data row3 col3\" >0.821138</td>\n",
       "                        <td id=\"T_5a86886e_e592_11ea_8870_acde48001122row3_col4\" class=\"data row3 col4\" >0.800000</td>\n",
       "                        <td id=\"T_5a86886e_e592_11ea_8870_acde48001122row3_col5\" class=\"data row3 col5\" >0.988235</td>\n",
       "                        <td id=\"T_5a86886e_e592_11ea_8870_acde48001122row3_col6\" class=\"data row3 col6\" >0.884211</td>\n",
       "                        <td id=\"T_5a86886e_e592_11ea_8870_acde48001122row3_col7\" class=\"data row3 col7\" >0 min 0.03 s</td>\n",
       "            </tr>\n",
       "            <tr>\n",
       "                        <th id=\"T_5a86886e_e592_11ea_8870_acde48001122level0_row4\" class=\"row_heading level0 row4\" >4</th>\n",
       "                        <td id=\"T_5a86886e_e592_11ea_8870_acde48001122row4_col0\" class=\"data row4 col0\" >4</td>\n",
       "                        <td id=\"T_5a86886e_e592_11ea_8870_acde48001122row4_col1\" class=\"data row4 col1\" >Logreg</td>\n",
       "                        <td id=\"T_5a86886e_e592_11ea_8870_acde48001122row4_col2\" class=\"data row4 col2\" >log, max_iter=10_000</td>\n",
       "                        <td id=\"T_5a86886e_e592_11ea_8870_acde48001122row4_col3\" class=\"data row4 col3\" >0.813008</td>\n",
       "                        <td id=\"T_5a86886e_e592_11ea_8870_acde48001122row4_col4\" class=\"data row4 col4\" >0.792453</td>\n",
       "                        <td id=\"T_5a86886e_e592_11ea_8870_acde48001122row4_col5\" class=\"data row4 col5\" >0.988235</td>\n",
       "                        <td id=\"T_5a86886e_e592_11ea_8870_acde48001122row4_col6\" class=\"data row4 col6\" >0.879581</td>\n",
       "                        <td id=\"T_5a86886e_e592_11ea_8870_acde48001122row4_col7\" class=\"data row4 col7\" >0 min 0.08 s</td>\n",
       "            </tr>\n",
       "    </tbody></table>"
      ],
      "text/plain": [
       "<pandas.io.formats.style.Styler at 0x7f9c8b300050>"
      ]
     },
     "execution_count": 24,
     "metadata": {},
     "output_type": "execute_result"
    }
   ],
   "source": [
    "time_start = time.time()\n",
    "model = LogisticRegression(random_state=SEED,max_iter=10_000)\n",
    "model.fit(Xtr,ytr)\n",
    "\n",
    "vd_preds = model.predict(Xvd)\n",
    "\n",
    "acc = metrics.accuracy_score(yvd, vd_preds)\n",
    "pre = metrics.precision_score(yvd, vd_preds)\n",
    "rec = metrics.recall_score(yvd, vd_preds)\n",
    "f1  = metrics.f1_score(yvd,vd_preds)\n",
    "\n",
    "time_taken = time.time() - time_start\n",
    "time_taken = \"{:.0f} min {:.2f} s\".format(*divmod(time_taken,60))\n",
    "\n",
    "row = ['Logreg', 'log, max_iter=10_000', acc, pre, rec, f1,time_taken]\n",
    "df_eval.loc[len(df_eval)] = row\n",
    "df_eval = df_eval.drop_duplicates(['Model','Description'])\n",
    "df_eval.sort_values('Accuracy',ascending=False).reset_index().style.background_gradient(subset=['Accuracy'])"
   ]
  },
  {
   "cell_type": "code",
   "execution_count": null,
   "metadata": {},
   "outputs": [],
   "source": []
  }
 ],
 "metadata": {
  "kernelspec": {
   "display_name": "Python (dataSc)",
   "language": "python",
   "name": "datasc"
  },
  "language_info": {
   "codemirror_mode": {
    "name": "ipython",
    "version": 3
   },
   "file_extension": ".py",
   "mimetype": "text/x-python",
   "name": "python",
   "nbconvert_exporter": "python",
   "pygments_lexer": "ipython3",
   "version": "3.7.7"
  },
  "toc": {
   "base_numbering": 1,
   "nav_menu": {},
   "number_sections": true,
   "sideBar": true,
   "skip_h1_title": false,
   "title_cell": "Table of Contents",
   "title_sidebar": "Contents",
   "toc_cell": true,
   "toc_position": {},
   "toc_section_display": true,
   "toc_window_display": false
  },
  "varInspector": {
   "cols": {
    "lenName": 16,
    "lenType": 16,
    "lenVar": 40
   },
   "kernels_config": {
    "python": {
     "delete_cmd_postfix": "",
     "delete_cmd_prefix": "del ",
     "library": "var_list.py",
     "varRefreshCmd": "print(var_dic_list())"
    },
    "r": {
     "delete_cmd_postfix": ") ",
     "delete_cmd_prefix": "rm(",
     "library": "var_list.r",
     "varRefreshCmd": "cat(var_dic_list()) "
    }
   },
   "types_to_exclude": [
    "module",
    "function",
    "builtin_function_or_method",
    "instance",
    "_Feature"
   ],
   "window_display": false
  }
 },
 "nbformat": 4,
 "nbformat_minor": 4
}
