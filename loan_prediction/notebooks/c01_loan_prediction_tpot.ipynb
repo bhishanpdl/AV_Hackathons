{
 "cells": [
  {
   "cell_type": "markdown",
   "metadata": {
    "toc": true
   },
   "source": [
    "<h1>Table of Contents<span class=\"tocSkip\"></span></h1>\n",
    "<div class=\"toc\"><ul class=\"toc-item\"><li><span><a href=\"#Description\" data-toc-modified-id=\"Description-1\"><span class=\"toc-item-num\">1&nbsp;&nbsp;</span>Description</a></span></li><li><span><a href=\"#Load-the-libraries\" data-toc-modified-id=\"Load-the-libraries-2\"><span class=\"toc-item-num\">2&nbsp;&nbsp;</span>Load the libraries</a></span></li><li><span><a href=\"#Load-the-data\" data-toc-modified-id=\"Load-the-data-3\"><span class=\"toc-item-num\">3&nbsp;&nbsp;</span>Load the data</a></span></li><li><span><a href=\"#Data-Processing\" data-toc-modified-id=\"Data-Processing-4\"><span class=\"toc-item-num\">4&nbsp;&nbsp;</span>Data Processing</a></span></li><li><span><a href=\"#Modelling\" data-toc-modified-id=\"Modelling-5\"><span class=\"toc-item-num\">5&nbsp;&nbsp;</span>Modelling</a></span><ul class=\"toc-item\"><li><span><a href=\"#Train-validation-split\" data-toc-modified-id=\"Train-validation-split-5.1\"><span class=\"toc-item-num\">5.1&nbsp;&nbsp;</span>Train validation split</a></span></li></ul></li><li><span><a href=\"#Modelling\" data-toc-modified-id=\"Modelling-6\"><span class=\"toc-item-num\">6&nbsp;&nbsp;</span>Modelling</a></span><ul class=\"toc-item\"><li><span><a href=\"#Tpot\" data-toc-modified-id=\"Tpot-6.1\"><span class=\"toc-item-num\">6.1&nbsp;&nbsp;</span>Tpot</a></span></li><li><span><a href=\"#Tpot-best\" data-toc-modified-id=\"Tpot-best-6.2\"><span class=\"toc-item-num\">6.2&nbsp;&nbsp;</span>Tpot best</a></span></li><li><span><a href=\"#Extra-Trees\" data-toc-modified-id=\"Extra-Trees-6.3\"><span class=\"toc-item-num\">6.3&nbsp;&nbsp;</span>Extra Trees</a></span></li></ul></li></ul></div>"
   ]
  },
  {
   "cell_type": "markdown",
   "metadata": {},
   "source": [
    "# Description\n",
    "Reference: https://datahack.analyticsvidhya.com/contest/all/  \n",
    "\n",
    "\n",
    "**Predict Loan Eligibility for Dream Housing Finance company**\n",
    "Dream Housing Finance company deals in all kinds of home loans. They have presence across all urban, semi urban and rural areas. Customer first applies for home loan and after that company validates the customer eligibility for loan.\n",
    "\n",
    "Company wants to automate the loan eligibility process (real time) based on customer detail provided while filling online application form. These details are Gender, Marital Status, Education, Number of Dependents, Income, Loan Amount, Credit History and others. To automate this process, they have provided a dataset to identify the customers segments that are eligible for loan amount so that they can specifically target these customers. \n",
    "\n",
    "**Data Dictionary**\n",
    "Train file: CSV containing the customers for whom loan eligibility is known as 'Loan_Status'\n",
    "\n",
    "| Variable | Description |\n",
    "| :---|:---|\n",
    "| Loan_ID | Unique Loan ID |\n",
    "| Gender | Male/ Female |\n",
    "| Married | Applicant married (Y/N) |\n",
    "| Dependents | Number of dependents |\n",
    "| Education | Applicant Education (Graduate/ Under Graduate) |\n",
    "| Self_Employed | Self employed (Y/N) |\n",
    "| ApplicantIncome | Applicant income |\n",
    "| CoapplicantIncome | Coapplicant income |\n",
    "| LoanAmount | Loan amount in thousands |\n",
    "| Loan_Amount_Term | Term of loan in months |\n",
    "| Credit_History | credit history meets guidelines |\n",
    "| Property_Area | Urban/ Semi Urban/ Rural |\n",
    "| Loan_Status | (Target) Loan approved (Y/N) |\n",
    "\n",
    "\n",
    "**Evaluation Metric**  \n",
    "Your model performance will be evaluated on the basis of your prediction of loan status for the test data (test.csv), which contains similar data-points as train except for the loan status to be predicted. Your submission needs to be in the format as shown in sample submission.\n",
    "\n",
    "We at our end, have the actual loan status for the test dataset, against which your predictions will be evaluated. We will use the Accuracy value to judge your response.\n",
    "\n",
    "\n",
    "\n",
    "**Public and Private Split**   \n",
    "Test file is further divided into Public (25%) and Private (75%)\n",
    "\n",
    "Your initial responses will be checked and scored on the Public data.\n",
    "The final rankings would be based on your private score which will be published once the competition is over."
   ]
  },
  {
   "cell_type": "markdown",
   "metadata": {},
   "source": [
    "# Load the libraries"
   ]
  },
  {
   "cell_type": "code",
   "execution_count": 1,
   "metadata": {
    "ExecuteTime": {
     "end_time": "2020-08-24T21:36:07.435443Z",
     "start_time": "2020-08-24T21:36:05.885103Z"
    }
   },
   "outputs": [],
   "source": [
    "import numpy as np\n",
    "import pandas as pd\n",
    "import seaborn as sns\n",
    "\n",
    "pd.set_option('max_columns',100)\n",
    "pd.set_option('max_colwidth',500)\n",
    "SEED=100"
   ]
  },
  {
   "cell_type": "code",
   "execution_count": 2,
   "metadata": {
    "ExecuteTime": {
     "end_time": "2020-08-24T21:36:08.175810Z",
     "start_time": "2020-08-24T21:36:07.437555Z"
    }
   },
   "outputs": [
    {
     "data": {
      "text/plain": [
       "[('sklearn', '0.23.1'), ('xgboost', '1.1.1')]"
      ]
     },
     "execution_count": 2,
     "metadata": {},
     "output_type": "execute_result"
    }
   ],
   "source": [
    "import sklearn\n",
    "import xgboost\n",
    "\n",
    "[(x.__name__,x.__version__) for x in [sklearn,xgboost]]"
   ]
  },
  {
   "cell_type": "code",
   "execution_count": 3,
   "metadata": {
    "ExecuteTime": {
     "end_time": "2020-08-24T21:36:08.345892Z",
     "start_time": "2020-08-24T21:36:08.179397Z"
    }
   },
   "outputs": [],
   "source": [
    "from sklearn.model_selection import train_test_split\n",
    "from sklearn.preprocessing import StandardScaler\n",
    "\n",
    "\n",
    "from sklearn.linear_model import LogisticRegression\n",
    "from sklearn.linear_model import SGDClassifier\n",
    "from sklearn.svm import SVC\n",
    "from sklearn.ensemble import RandomForestClassifier\n",
    "from sklearn.ensemble import AdaBoostClassifier\n",
    "from sklearn.discriminant_analysis import LinearDiscriminantAnalysis as LDA\n",
    "\n",
    "from xgboost import XGBClassifier\n",
    "\n",
    "from sklearn.ensemble import VotingClassifier\n",
    "from sklearn.ensemble import StackingClassifier"
   ]
  },
  {
   "cell_type": "markdown",
   "metadata": {},
   "source": [
    "# Load the data"
   ]
  },
  {
   "cell_type": "code",
   "execution_count": 4,
   "metadata": {
    "ExecuteTime": {
     "end_time": "2020-08-24T21:36:08.373751Z",
     "start_time": "2020-08-24T21:36:08.349285Z"
    }
   },
   "outputs": [
    {
     "name": "stdout",
     "output_type": "stream",
     "text": [
      "(614, 13)\n"
     ]
    },
    {
     "data": {
      "text/html": [
       "<div>\n",
       "<style scoped>\n",
       "    .dataframe tbody tr th:only-of-type {\n",
       "        vertical-align: middle;\n",
       "    }\n",
       "\n",
       "    .dataframe tbody tr th {\n",
       "        vertical-align: top;\n",
       "    }\n",
       "\n",
       "    .dataframe thead th {\n",
       "        text-align: right;\n",
       "    }\n",
       "</style>\n",
       "<table border=\"1\" class=\"dataframe\">\n",
       "  <thead>\n",
       "    <tr style=\"text-align: right;\">\n",
       "      <th></th>\n",
       "      <th>Loan_ID</th>\n",
       "      <th>Gender</th>\n",
       "      <th>Married</th>\n",
       "      <th>Dependents</th>\n",
       "      <th>Education</th>\n",
       "      <th>Self_Employed</th>\n",
       "      <th>ApplicantIncome</th>\n",
       "      <th>CoapplicantIncome</th>\n",
       "      <th>LoanAmount</th>\n",
       "      <th>Loan_Amount_Term</th>\n",
       "      <th>Credit_History</th>\n",
       "      <th>Property_Area</th>\n",
       "      <th>Loan_Status</th>\n",
       "    </tr>\n",
       "  </thead>\n",
       "  <tbody>\n",
       "    <tr>\n",
       "      <th>0</th>\n",
       "      <td>LP001002</td>\n",
       "      <td>Male</td>\n",
       "      <td>No</td>\n",
       "      <td>0</td>\n",
       "      <td>Graduate</td>\n",
       "      <td>No</td>\n",
       "      <td>5849</td>\n",
       "      <td>0.0</td>\n",
       "      <td>NaN</td>\n",
       "      <td>360.0</td>\n",
       "      <td>1.0</td>\n",
       "      <td>Urban</td>\n",
       "      <td>Y</td>\n",
       "    </tr>\n",
       "    <tr>\n",
       "      <th>1</th>\n",
       "      <td>LP001003</td>\n",
       "      <td>Male</td>\n",
       "      <td>Yes</td>\n",
       "      <td>1</td>\n",
       "      <td>Graduate</td>\n",
       "      <td>No</td>\n",
       "      <td>4583</td>\n",
       "      <td>1508.0</td>\n",
       "      <td>128.0</td>\n",
       "      <td>360.0</td>\n",
       "      <td>1.0</td>\n",
       "      <td>Rural</td>\n",
       "      <td>N</td>\n",
       "    </tr>\n",
       "    <tr>\n",
       "      <th>2</th>\n",
       "      <td>LP001005</td>\n",
       "      <td>Male</td>\n",
       "      <td>Yes</td>\n",
       "      <td>0</td>\n",
       "      <td>Graduate</td>\n",
       "      <td>Yes</td>\n",
       "      <td>3000</td>\n",
       "      <td>0.0</td>\n",
       "      <td>66.0</td>\n",
       "      <td>360.0</td>\n",
       "      <td>1.0</td>\n",
       "      <td>Urban</td>\n",
       "      <td>Y</td>\n",
       "    </tr>\n",
       "    <tr>\n",
       "      <th>3</th>\n",
       "      <td>LP001006</td>\n",
       "      <td>Male</td>\n",
       "      <td>Yes</td>\n",
       "      <td>0</td>\n",
       "      <td>Not Graduate</td>\n",
       "      <td>No</td>\n",
       "      <td>2583</td>\n",
       "      <td>2358.0</td>\n",
       "      <td>120.0</td>\n",
       "      <td>360.0</td>\n",
       "      <td>1.0</td>\n",
       "      <td>Urban</td>\n",
       "      <td>Y</td>\n",
       "    </tr>\n",
       "    <tr>\n",
       "      <th>4</th>\n",
       "      <td>LP001008</td>\n",
       "      <td>Male</td>\n",
       "      <td>No</td>\n",
       "      <td>0</td>\n",
       "      <td>Graduate</td>\n",
       "      <td>No</td>\n",
       "      <td>6000</td>\n",
       "      <td>0.0</td>\n",
       "      <td>141.0</td>\n",
       "      <td>360.0</td>\n",
       "      <td>1.0</td>\n",
       "      <td>Urban</td>\n",
       "      <td>Y</td>\n",
       "    </tr>\n",
       "  </tbody>\n",
       "</table>\n",
       "</div>"
      ],
      "text/plain": [
       "    Loan_ID Gender Married Dependents     Education Self_Employed  \\\n",
       "0  LP001002   Male      No          0      Graduate            No   \n",
       "1  LP001003   Male     Yes          1      Graduate            No   \n",
       "2  LP001005   Male     Yes          0      Graduate           Yes   \n",
       "3  LP001006   Male     Yes          0  Not Graduate            No   \n",
       "4  LP001008   Male      No          0      Graduate            No   \n",
       "\n",
       "   ApplicantIncome  CoapplicantIncome  LoanAmount  Loan_Amount_Term  \\\n",
       "0             5849                0.0         NaN             360.0   \n",
       "1             4583             1508.0       128.0             360.0   \n",
       "2             3000                0.0        66.0             360.0   \n",
       "3             2583             2358.0       120.0             360.0   \n",
       "4             6000                0.0       141.0             360.0   \n",
       "\n",
       "   Credit_History Property_Area Loan_Status  \n",
       "0             1.0         Urban           Y  \n",
       "1             1.0         Rural           N  \n",
       "2             1.0         Urban           Y  \n",
       "3             1.0         Urban           Y  \n",
       "4             1.0         Urban           Y  "
      ]
     },
     "execution_count": 4,
     "metadata": {},
     "output_type": "execute_result"
    }
   ],
   "source": [
    "df_train = pd.read_csv('../data/raw/train.csv')\n",
    "print(df_train.shape)\n",
    "df_train.head()"
   ]
  },
  {
   "cell_type": "code",
   "execution_count": 5,
   "metadata": {
    "ExecuteTime": {
     "end_time": "2020-08-24T21:36:08.402869Z",
     "start_time": "2020-08-24T21:36:08.380509Z"
    }
   },
   "outputs": [
    {
     "name": "stdout",
     "output_type": "stream",
     "text": [
      "(367, 12)\n"
     ]
    },
    {
     "data": {
      "text/html": [
       "<div>\n",
       "<style scoped>\n",
       "    .dataframe tbody tr th:only-of-type {\n",
       "        vertical-align: middle;\n",
       "    }\n",
       "\n",
       "    .dataframe tbody tr th {\n",
       "        vertical-align: top;\n",
       "    }\n",
       "\n",
       "    .dataframe thead th {\n",
       "        text-align: right;\n",
       "    }\n",
       "</style>\n",
       "<table border=\"1\" class=\"dataframe\">\n",
       "  <thead>\n",
       "    <tr style=\"text-align: right;\">\n",
       "      <th></th>\n",
       "      <th>Loan_ID</th>\n",
       "      <th>Gender</th>\n",
       "      <th>Married</th>\n",
       "      <th>Dependents</th>\n",
       "      <th>Education</th>\n",
       "      <th>Self_Employed</th>\n",
       "      <th>ApplicantIncome</th>\n",
       "      <th>CoapplicantIncome</th>\n",
       "      <th>LoanAmount</th>\n",
       "      <th>Loan_Amount_Term</th>\n",
       "      <th>Credit_History</th>\n",
       "      <th>Property_Area</th>\n",
       "    </tr>\n",
       "  </thead>\n",
       "  <tbody>\n",
       "    <tr>\n",
       "      <th>0</th>\n",
       "      <td>LP001015</td>\n",
       "      <td>Male</td>\n",
       "      <td>Yes</td>\n",
       "      <td>0</td>\n",
       "      <td>Graduate</td>\n",
       "      <td>No</td>\n",
       "      <td>5720</td>\n",
       "      <td>0</td>\n",
       "      <td>110.0</td>\n",
       "      <td>360.0</td>\n",
       "      <td>1.0</td>\n",
       "      <td>Urban</td>\n",
       "    </tr>\n",
       "    <tr>\n",
       "      <th>1</th>\n",
       "      <td>LP001022</td>\n",
       "      <td>Male</td>\n",
       "      <td>Yes</td>\n",
       "      <td>1</td>\n",
       "      <td>Graduate</td>\n",
       "      <td>No</td>\n",
       "      <td>3076</td>\n",
       "      <td>1500</td>\n",
       "      <td>126.0</td>\n",
       "      <td>360.0</td>\n",
       "      <td>1.0</td>\n",
       "      <td>Urban</td>\n",
       "    </tr>\n",
       "    <tr>\n",
       "      <th>2</th>\n",
       "      <td>LP001031</td>\n",
       "      <td>Male</td>\n",
       "      <td>Yes</td>\n",
       "      <td>2</td>\n",
       "      <td>Graduate</td>\n",
       "      <td>No</td>\n",
       "      <td>5000</td>\n",
       "      <td>1800</td>\n",
       "      <td>208.0</td>\n",
       "      <td>360.0</td>\n",
       "      <td>1.0</td>\n",
       "      <td>Urban</td>\n",
       "    </tr>\n",
       "    <tr>\n",
       "      <th>3</th>\n",
       "      <td>LP001035</td>\n",
       "      <td>Male</td>\n",
       "      <td>Yes</td>\n",
       "      <td>2</td>\n",
       "      <td>Graduate</td>\n",
       "      <td>No</td>\n",
       "      <td>2340</td>\n",
       "      <td>2546</td>\n",
       "      <td>100.0</td>\n",
       "      <td>360.0</td>\n",
       "      <td>NaN</td>\n",
       "      <td>Urban</td>\n",
       "    </tr>\n",
       "    <tr>\n",
       "      <th>4</th>\n",
       "      <td>LP001051</td>\n",
       "      <td>Male</td>\n",
       "      <td>No</td>\n",
       "      <td>0</td>\n",
       "      <td>Not Graduate</td>\n",
       "      <td>No</td>\n",
       "      <td>3276</td>\n",
       "      <td>0</td>\n",
       "      <td>78.0</td>\n",
       "      <td>360.0</td>\n",
       "      <td>1.0</td>\n",
       "      <td>Urban</td>\n",
       "    </tr>\n",
       "  </tbody>\n",
       "</table>\n",
       "</div>"
      ],
      "text/plain": [
       "    Loan_ID Gender Married Dependents     Education Self_Employed  \\\n",
       "0  LP001015   Male     Yes          0      Graduate            No   \n",
       "1  LP001022   Male     Yes          1      Graduate            No   \n",
       "2  LP001031   Male     Yes          2      Graduate            No   \n",
       "3  LP001035   Male     Yes          2      Graduate            No   \n",
       "4  LP001051   Male      No          0  Not Graduate            No   \n",
       "\n",
       "   ApplicantIncome  CoapplicantIncome  LoanAmount  Loan_Amount_Term  \\\n",
       "0             5720                  0       110.0             360.0   \n",
       "1             3076               1500       126.0             360.0   \n",
       "2             5000               1800       208.0             360.0   \n",
       "3             2340               2546       100.0             360.0   \n",
       "4             3276                  0        78.0             360.0   \n",
       "\n",
       "   Credit_History Property_Area  \n",
       "0             1.0         Urban  \n",
       "1             1.0         Urban  \n",
       "2             1.0         Urban  \n",
       "3             NaN         Urban  \n",
       "4             1.0         Urban  "
      ]
     },
     "execution_count": 5,
     "metadata": {},
     "output_type": "execute_result"
    }
   ],
   "source": [
    "df_test = pd.read_csv('../data/raw/test.csv')\n",
    "print(df_test.shape)\n",
    "df_test.head()"
   ]
  },
  {
   "cell_type": "markdown",
   "metadata": {},
   "source": [
    "# Data Processing"
   ]
  },
  {
   "cell_type": "code",
   "execution_count": 6,
   "metadata": {
    "ExecuteTime": {
     "end_time": "2020-08-24T21:36:08.418051Z",
     "start_time": "2020-08-24T21:36:08.405101Z"
    }
   },
   "outputs": [],
   "source": [
    "def clean_data(df):\n",
    "    df = df.copy()\n",
    "    # drop unwanted features\n",
    "    df = df.drop('Loan_ID',axis=1)\n",
    "\n",
    "    # missing values imputation\n",
    "    ## fill married yes no from graudated or not\n",
    "    cond = (df['Education']=='Graduate') & (df['Married'].isnull()) \n",
    "    df.loc[cond, 'Married'] = 'Yes'\n",
    "    cond = (df['Education']!='Graduate') & (df['Married'].isnull()) \n",
    "    df.loc[cond, 'Married'] = 'No'\n",
    "\n",
    "    ## fill with mode\n",
    "    cols_mode = ['Gender', 'Dependents', 'Self_Employed', 'Credit_History']\n",
    "    for c in cols_mode:\n",
    "        df[c] = df[c].fillna(df[c].mode()[0])\n",
    "\n",
    "    ## fill with mean\n",
    "    cols_mean = ['LoanAmount','Loan_Amount_Term' ]\n",
    "    for c in cols_mean:\n",
    "        df[c] = df[c].fillna(df[c].mean())\n",
    "\n",
    "    # mapping string to integers\n",
    "    df['Gender'] = df['Gender'].map({'Male':1, 'Female': 0})\n",
    "    df['Married'] = df['Married'].map({'Yes':1, 'No': 0 })\n",
    "    df['Education'] = df['Education'].map({'Graduate': 1, 'Not Graduate': 0})\n",
    "    df['Self_Employed'] = df['Self_Employed'].map({'Yes':1, 'No': 0})\n",
    "    \n",
    "    # target \n",
    "    target = 'Loan_Status'\n",
    "    if target in df.columns:\n",
    "        df[target] = df[target].map({'Y':1, 'N': 0})\n",
    "\n",
    "    # one hot encoding\n",
    "    cols = ['Dependents','Property_Area']\n",
    "    df = pd.get_dummies(df,columns=cols,drop_first=True)\n",
    "    return df"
   ]
  },
  {
   "cell_type": "code",
   "execution_count": 7,
   "metadata": {
    "ExecuteTime": {
     "end_time": "2020-08-24T21:36:08.483276Z",
     "start_time": "2020-08-24T21:36:08.420628Z"
    }
   },
   "outputs": [
    {
     "name": "stdout",
     "output_type": "stream",
     "text": [
      "(614, 15)\n",
      "(367, 14)\n"
     ]
    },
    {
     "data": {
      "text/html": [
       "<div>\n",
       "<style scoped>\n",
       "    .dataframe tbody tr th:only-of-type {\n",
       "        vertical-align: middle;\n",
       "    }\n",
       "\n",
       "    .dataframe tbody tr th {\n",
       "        vertical-align: top;\n",
       "    }\n",
       "\n",
       "    .dataframe thead th {\n",
       "        text-align: right;\n",
       "    }\n",
       "</style>\n",
       "<table border=\"1\" class=\"dataframe\">\n",
       "  <thead>\n",
       "    <tr style=\"text-align: right;\">\n",
       "      <th></th>\n",
       "      <th>Gender</th>\n",
       "      <th>Married</th>\n",
       "      <th>Education</th>\n",
       "      <th>Self_Employed</th>\n",
       "      <th>ApplicantIncome</th>\n",
       "      <th>CoapplicantIncome</th>\n",
       "      <th>LoanAmount</th>\n",
       "      <th>Loan_Amount_Term</th>\n",
       "      <th>Credit_History</th>\n",
       "      <th>Loan_Status</th>\n",
       "      <th>Dependents_1</th>\n",
       "      <th>Dependents_2</th>\n",
       "      <th>Dependents_3+</th>\n",
       "      <th>Property_Area_Semiurban</th>\n",
       "      <th>Property_Area_Urban</th>\n",
       "    </tr>\n",
       "  </thead>\n",
       "  <tbody>\n",
       "    <tr>\n",
       "      <th>0</th>\n",
       "      <td>1</td>\n",
       "      <td>0</td>\n",
       "      <td>1</td>\n",
       "      <td>0</td>\n",
       "      <td>5849</td>\n",
       "      <td>0.0</td>\n",
       "      <td>146.412162</td>\n",
       "      <td>360.0</td>\n",
       "      <td>1.0</td>\n",
       "      <td>1</td>\n",
       "      <td>0</td>\n",
       "      <td>0</td>\n",
       "      <td>0</td>\n",
       "      <td>0</td>\n",
       "      <td>1</td>\n",
       "    </tr>\n",
       "    <tr>\n",
       "      <th>1</th>\n",
       "      <td>1</td>\n",
       "      <td>1</td>\n",
       "      <td>1</td>\n",
       "      <td>0</td>\n",
       "      <td>4583</td>\n",
       "      <td>1508.0</td>\n",
       "      <td>128.000000</td>\n",
       "      <td>360.0</td>\n",
       "      <td>1.0</td>\n",
       "      <td>0</td>\n",
       "      <td>1</td>\n",
       "      <td>0</td>\n",
       "      <td>0</td>\n",
       "      <td>0</td>\n",
       "      <td>0</td>\n",
       "    </tr>\n",
       "    <tr>\n",
       "      <th>612</th>\n",
       "      <td>1</td>\n",
       "      <td>1</td>\n",
       "      <td>1</td>\n",
       "      <td>0</td>\n",
       "      <td>7583</td>\n",
       "      <td>0.0</td>\n",
       "      <td>187.000000</td>\n",
       "      <td>360.0</td>\n",
       "      <td>1.0</td>\n",
       "      <td>1</td>\n",
       "      <td>0</td>\n",
       "      <td>1</td>\n",
       "      <td>0</td>\n",
       "      <td>0</td>\n",
       "      <td>1</td>\n",
       "    </tr>\n",
       "    <tr>\n",
       "      <th>613</th>\n",
       "      <td>0</td>\n",
       "      <td>0</td>\n",
       "      <td>1</td>\n",
       "      <td>1</td>\n",
       "      <td>4583</td>\n",
       "      <td>0.0</td>\n",
       "      <td>133.000000</td>\n",
       "      <td>360.0</td>\n",
       "      <td>0.0</td>\n",
       "      <td>0</td>\n",
       "      <td>0</td>\n",
       "      <td>0</td>\n",
       "      <td>0</td>\n",
       "      <td>1</td>\n",
       "      <td>0</td>\n",
       "    </tr>\n",
       "  </tbody>\n",
       "</table>\n",
       "</div>"
      ],
      "text/plain": [
       "     Gender  Married  Education  Self_Employed  ApplicantIncome  \\\n",
       "0         1        0          1              0             5849   \n",
       "1         1        1          1              0             4583   \n",
       "612       1        1          1              0             7583   \n",
       "613       0        0          1              1             4583   \n",
       "\n",
       "     CoapplicantIncome  LoanAmount  Loan_Amount_Term  Credit_History  \\\n",
       "0                  0.0  146.412162             360.0             1.0   \n",
       "1               1508.0  128.000000             360.0             1.0   \n",
       "612                0.0  187.000000             360.0             1.0   \n",
       "613                0.0  133.000000             360.0             0.0   \n",
       "\n",
       "     Loan_Status  Dependents_1  Dependents_2  Dependents_3+  \\\n",
       "0              1             0             0              0   \n",
       "1              0             1             0              0   \n",
       "612            1             0             1              0   \n",
       "613            0             0             0              0   \n",
       "\n",
       "     Property_Area_Semiurban  Property_Area_Urban  \n",
       "0                          0                    1  \n",
       "1                          0                    0  \n",
       "612                        0                    1  \n",
       "613                        1                    0  "
      ]
     },
     "execution_count": 7,
     "metadata": {},
     "output_type": "execute_result"
    }
   ],
   "source": [
    "df_train = pd.read_csv('../data/raw/train.csv')\n",
    "df_test = pd.read_csv('../data/raw/test.csv')\n",
    "\n",
    "df_train = clean_data(df_train)\n",
    "df_test = clean_data(df_test)\n",
    "\n",
    "print(df_train.shape)\n",
    "print(df_test.shape)\n",
    "df_train.head(2).append(df_train.tail(2))"
   ]
  },
  {
   "cell_type": "markdown",
   "metadata": {},
   "source": [
    "# Modelling"
   ]
  },
  {
   "cell_type": "markdown",
   "metadata": {},
   "source": [
    "## Train validation split"
   ]
  },
  {
   "cell_type": "code",
   "execution_count": 8,
   "metadata": {
    "ExecuteTime": {
     "end_time": "2020-08-24T21:36:08.490530Z",
     "start_time": "2020-08-24T21:36:08.487820Z"
    }
   },
   "outputs": [],
   "source": [
    "from sklearn.model_selection import train_test_split"
   ]
  },
  {
   "cell_type": "code",
   "execution_count": 9,
   "metadata": {
    "ExecuteTime": {
     "end_time": "2020-08-24T21:36:08.518374Z",
     "start_time": "2020-08-24T21:36:08.494767Z"
    }
   },
   "outputs": [
    {
     "name": "stdout",
     "output_type": "stream",
     "text": [
      "train shape: (491, 14)\n",
      "valid shape: (123, 14)\n"
     ]
    },
    {
     "data": {
      "text/html": [
       "<div>\n",
       "<style scoped>\n",
       "    .dataframe tbody tr th:only-of-type {\n",
       "        vertical-align: middle;\n",
       "    }\n",
       "\n",
       "    .dataframe tbody tr th {\n",
       "        vertical-align: top;\n",
       "    }\n",
       "\n",
       "    .dataframe thead th {\n",
       "        text-align: right;\n",
       "    }\n",
       "</style>\n",
       "<table border=\"1\" class=\"dataframe\">\n",
       "  <thead>\n",
       "    <tr style=\"text-align: right;\">\n",
       "      <th></th>\n",
       "      <th>Gender</th>\n",
       "      <th>Married</th>\n",
       "      <th>Education</th>\n",
       "      <th>Self_Employed</th>\n",
       "      <th>ApplicantIncome</th>\n",
       "      <th>CoapplicantIncome</th>\n",
       "      <th>LoanAmount</th>\n",
       "      <th>Loan_Amount_Term</th>\n",
       "      <th>Credit_History</th>\n",
       "      <th>Dependents_1</th>\n",
       "      <th>Dependents_2</th>\n",
       "      <th>Dependents_3+</th>\n",
       "      <th>Property_Area_Semiurban</th>\n",
       "      <th>Property_Area_Urban</th>\n",
       "    </tr>\n",
       "  </thead>\n",
       "  <tbody>\n",
       "    <tr>\n",
       "      <th>203</th>\n",
       "      <td>1</td>\n",
       "      <td>1</td>\n",
       "      <td>0</td>\n",
       "      <td>0</td>\n",
       "      <td>3500</td>\n",
       "      <td>1083.0</td>\n",
       "      <td>135.0</td>\n",
       "      <td>360.0</td>\n",
       "      <td>1.0</td>\n",
       "      <td>1</td>\n",
       "      <td>0</td>\n",
       "      <td>0</td>\n",
       "      <td>0</td>\n",
       "      <td>1</td>\n",
       "    </tr>\n",
       "    <tr>\n",
       "      <th>369</th>\n",
       "      <td>1</td>\n",
       "      <td>1</td>\n",
       "      <td>1</td>\n",
       "      <td>0</td>\n",
       "      <td>19730</td>\n",
       "      <td>5266.0</td>\n",
       "      <td>570.0</td>\n",
       "      <td>360.0</td>\n",
       "      <td>1.0</td>\n",
       "      <td>0</td>\n",
       "      <td>0</td>\n",
       "      <td>0</td>\n",
       "      <td>0</td>\n",
       "      <td>0</td>\n",
       "    </tr>\n",
       "  </tbody>\n",
       "</table>\n",
       "</div>"
      ],
      "text/plain": [
       "     Gender  Married  Education  Self_Employed  ApplicantIncome  \\\n",
       "203       1        1          0              0             3500   \n",
       "369       1        1          1              0            19730   \n",
       "\n",
       "     CoapplicantIncome  LoanAmount  Loan_Amount_Term  Credit_History  \\\n",
       "203             1083.0       135.0             360.0             1.0   \n",
       "369             5266.0       570.0             360.0             1.0   \n",
       "\n",
       "     Dependents_1  Dependents_2  Dependents_3+  Property_Area_Semiurban  \\\n",
       "203             1             0              0                        0   \n",
       "369             0             0              0                        0   \n",
       "\n",
       "     Property_Area_Urban  \n",
       "203                    1  \n",
       "369                    0  "
      ]
     },
     "execution_count": 9,
     "metadata": {},
     "output_type": "execute_result"
    }
   ],
   "source": [
    "df_train_orig = df_train.copy()\n",
    "target = 'Loan_Status'\n",
    "df_Xtrain, df_Xvalid, ser_ytrain, ser_yvalid = train_test_split(\n",
    "    df_train_orig.drop(target,axis=1), df_train_orig[target],\n",
    "    test_size = 0.2,\n",
    "    random_state=SEED,\n",
    "    stratify=df_train_orig[target]\n",
    ")\n",
    "\n",
    "ytrain = ser_ytrain.to_numpy().ravel()\n",
    "yvalid = ser_yvalid.to_numpy().ravel()\n",
    "\n",
    "print(f'train shape: {df_Xtrain.shape}')\n",
    "print(f'valid shape: {df_Xvalid.shape}')\n",
    "\n",
    "df_Xtrain.head(2)"
   ]
  },
  {
   "cell_type": "code",
   "execution_count": 10,
   "metadata": {
    "ExecuteTime": {
     "end_time": "2020-08-24T21:36:08.526971Z",
     "start_time": "2020-08-24T21:36:08.520504Z"
    }
   },
   "outputs": [],
   "source": [
    "Xtr = df_Xtrain\n",
    "ytr = ytrain\n",
    "Xvd = df_Xvalid\n",
    "yvd = yvalid"
   ]
  },
  {
   "cell_type": "code",
   "execution_count": 11,
   "metadata": {
    "ExecuteTime": {
     "end_time": "2020-08-24T21:36:08.536364Z",
     "start_time": "2020-08-24T21:36:08.530125Z"
    }
   },
   "outputs": [],
   "source": [
    "from sklearn import metrics\n",
    "\n",
    "df_eval = pd.DataFrame({\n",
    "    'Model': [],\n",
    "    'Description': [],\n",
    "    'Accuracy': [],\n",
    "    'Precision': [],\n",
    "    'Recall': [],\n",
    "    'F-score': [],\n",
    "    'Time_Taken': [],\n",
    "})"
   ]
  },
  {
   "cell_type": "markdown",
   "metadata": {
    "ExecuteTime": {
     "end_time": "2020-08-23T21:55:54.933722Z",
     "start_time": "2020-08-23T21:55:54.929356Z"
    }
   },
   "source": [
    "# Modelling"
   ]
  },
  {
   "cell_type": "markdown",
   "metadata": {},
   "source": [
    "## Tpot"
   ]
  },
  {
   "cell_type": "code",
   "execution_count": 12,
   "metadata": {
    "ExecuteTime": {
     "end_time": "2020-08-24T21:36:09.239151Z",
     "start_time": "2020-08-24T21:36:08.540165Z"
    }
   },
   "outputs": [
    {
     "name": "stderr",
     "output_type": "stream",
     "text": [
      "/Users/poudel/opt/miniconda3/envs/dataSc/lib/python3.7/site-packages/tpot/builtins/__init__.py:36: UserWarning: Warning: optional dependency `torch` is not available. - skipping import of NN models.\n",
      "  warnings.warn(\"Warning: optional dependency `torch` is not available. - skipping import of NN models.\")\n"
     ]
    }
   ],
   "source": [
    "from tpot import TPOTClassifier"
   ]
  },
  {
   "cell_type": "code",
   "execution_count": 13,
   "metadata": {
    "ExecuteTime": {
     "end_time": "2020-08-24T21:38:39.590600Z",
     "start_time": "2020-08-24T21:36:09.243382Z"
    }
   },
   "outputs": [
    {
     "data": {
      "application/vnd.jupyter.widget-view+json": {
       "model_id": "",
       "version_major": 2,
       "version_minor": 0
      },
      "text/plain": [
       "HBox(children=(FloatProgress(value=0.0, description='Optimization Progress', max=300.0, style=ProgressStyle(de…"
      ]
     },
     "metadata": {},
     "output_type": "display_data"
    },
    {
     "name": "stdout",
     "output_type": "stream",
     "text": [
      "\n",
      "Generation 1 - Current best internal CV score: 0.80863739435168\n",
      "Generation 2 - Current best internal CV score: 0.80863739435168\n",
      "Generation 3 - Current best internal CV score: 0.8106782106782106\n",
      "Generation 4 - Current best internal CV score: 0.8106782106782106\n",
      "Generation 5 - Current best internal CV score: 0.8106782106782106\n",
      "Best pipeline: RandomForestClassifier(MinMaxScaler(MLPClassifier(input_matrix, alpha=0.1, learning_rate_init=0.001)), bootstrap=True, criterion=entropy, max_features=0.7000000000000001, min_samples_leaf=10, min_samples_split=18, n_estimators=100)\n",
      "0.8211382113821138\n",
      "CPU times: user 4min 6s, sys: 4.33 s, total: 4min 11s\n",
      "Wall time: 2min 30s\n"
     ]
    }
   ],
   "source": [
    "%%time\n",
    "\n",
    "# generations=5\n",
    "\n",
    "# tpot = TPOTClassifier(max_time_mins=2, population_size=50, verbosity=2, random_state=100)\n",
    "# tpot.fit(Xtr, ytr)\n",
    "# print(tpot.score(Xvd, yvd))\n",
    "# tpot.export('../scripts/tpot_loan_prediction_pipeline.py')\n",
    "\n",
    "\"\"\"\n",
    "Best pipeline: RandomForestClassifier(MinMaxScaler(MLPClassifier(input_matrix, alpha=0.1, learning_rate_init=0.001)), bootstrap=True, criterion=entropy, max_features=0.7000000000000001, min_samples_leaf=10, min_samples_split=18, n_estimators=100)\n",
    "0.8211382113821138\n",
    "CPU times: user 4min 6s, sys: 4.33 s, total: 4min 11s\n",
    "Wall time: 2min 30s\n",
    "\"\"\";"
   ]
  },
  {
   "cell_type": "markdown",
   "metadata": {
    "ExecuteTime": {
     "end_time": "2020-08-24T21:26:20.334701Z",
     "start_time": "2020-08-24T21:26:20.169687Z"
    }
   },
   "source": [
    "## Tpot best"
   ]
  },
  {
   "cell_type": "code",
   "execution_count": 14,
   "metadata": {
    "ExecuteTime": {
     "end_time": "2020-08-24T21:38:39.654442Z",
     "start_time": "2020-08-24T21:38:39.647047Z"
    }
   },
   "outputs": [],
   "source": [
    "from sklearn.ensemble import RandomForestClassifier\n",
    "from sklearn.neural_network import MLPClassifier\n",
    "from sklearn.pipeline import make_pipeline, make_union\n",
    "from sklearn.preprocessing import MinMaxScaler\n",
    "from tpot.builtins import StackingEstimator\n",
    "import time"
   ]
  },
  {
   "cell_type": "code",
   "execution_count": 15,
   "metadata": {
    "ExecuteTime": {
     "end_time": "2020-08-24T21:38:40.364486Z",
     "start_time": "2020-08-24T21:38:39.666944Z"
    }
   },
   "outputs": [
    {
     "data": {
      "text/html": [
       "<style  type=\"text/css\" >\n",
       "#T_2cec5224_e652_11ea_b482_8c859004fb9crow0_col3{\n",
       "            background-color:  #fff7fb;\n",
       "            color:  #000000;\n",
       "        }</style><table id=\"T_2cec5224_e652_11ea_b482_8c859004fb9c\" ><thead>    <tr>        <th class=\"blank level0\" ></th>        <th class=\"col_heading level0 col0\" >index</th>        <th class=\"col_heading level0 col1\" >Model</th>        <th class=\"col_heading level0 col2\" >Description</th>        <th class=\"col_heading level0 col3\" >Accuracy</th>        <th class=\"col_heading level0 col4\" >Precision</th>        <th class=\"col_heading level0 col5\" >Recall</th>        <th class=\"col_heading level0 col6\" >F-score</th>        <th class=\"col_heading level0 col7\" >Time_Taken</th>    </tr></thead><tbody>\n",
       "                <tr>\n",
       "                        <th id=\"T_2cec5224_e652_11ea_b482_8c859004fb9clevel0_row0\" class=\"row_heading level0 row0\" >0</th>\n",
       "                        <td id=\"T_2cec5224_e652_11ea_b482_8c859004fb9crow0_col0\" class=\"data row0 col0\" >0</td>\n",
       "                        <td id=\"T_2cec5224_e652_11ea_b482_8c859004fb9crow0_col1\" class=\"data row0 col1\" >tpot</td>\n",
       "                        <td id=\"T_2cec5224_e652_11ea_b482_8c859004fb9crow0_col2\" class=\"data row0 col2\" >rf+minmax+stacking</td>\n",
       "                        <td id=\"T_2cec5224_e652_11ea_b482_8c859004fb9crow0_col3\" class=\"data row0 col3\" >0.813008</td>\n",
       "                        <td id=\"T_2cec5224_e652_11ea_b482_8c859004fb9crow0_col4\" class=\"data row0 col4\" >0.803922</td>\n",
       "                        <td id=\"T_2cec5224_e652_11ea_b482_8c859004fb9crow0_col5\" class=\"data row0 col5\" >0.964706</td>\n",
       "                        <td id=\"T_2cec5224_e652_11ea_b482_8c859004fb9crow0_col6\" class=\"data row0 col6\" >0.877005</td>\n",
       "                        <td id=\"T_2cec5224_e652_11ea_b482_8c859004fb9crow0_col7\" class=\"data row0 col7\" >0 min 0.60 s</td>\n",
       "            </tr>\n",
       "    </tbody></table>"
      ],
      "text/plain": [
       "<pandas.io.formats.style.Styler at 0x7fde70e2f9d0>"
      ]
     },
     "execution_count": 15,
     "metadata": {},
     "output_type": "execute_result"
    }
   ],
   "source": [
    "time_start = time.time()\n",
    "model = make_pipeline(\n",
    "    StackingEstimator(estimator=MLPClassifier(alpha=0.1, learning_rate_init=0.001)),\n",
    "    MinMaxScaler(),\n",
    "    RandomForestClassifier(bootstrap=True, criterion=\"entropy\", max_features=0.7000000000000001, min_samples_leaf=10, min_samples_split=18, n_estimators=100)\n",
    ")\n",
    "\n",
    "model.fit(Xtr,ytr)\n",
    "vd_preds = model.predict(Xvd)\n",
    "\n",
    "acc = metrics.accuracy_score(yvd, vd_preds)\n",
    "pre = metrics.precision_score(yvd, vd_preds)\n",
    "rec = metrics.recall_score(yvd, vd_preds)\n",
    "f1  = metrics.f1_score(yvd,vd_preds)\n",
    "\n",
    "time_taken = time.time() - time_start\n",
    "time_taken = \"{:.0f} min {:.2f} s\".format(*divmod(time_taken,60))\n",
    "\n",
    "row = ['tpot', 'rf+minmax+stacking', acc, pre, rec, f1,time_taken]\n",
    "df_eval.loc[len(df_eval)] = row\n",
    "df_eval = df_eval.drop_duplicates(['Model','Description'])\n",
    "df_eval.sort_values('Accuracy',ascending=False).reset_index().style.background_gradient(subset=['Accuracy'])"
   ]
  },
  {
   "cell_type": "markdown",
   "metadata": {},
   "source": [
    "## Extra Trees"
   ]
  },
  {
   "cell_type": "code",
   "execution_count": 16,
   "metadata": {
    "ExecuteTime": {
     "end_time": "2020-08-24T21:38:40.370801Z",
     "start_time": "2020-08-24T21:38:40.367302Z"
    }
   },
   "outputs": [],
   "source": [
    "from sklearn.ensemble import ExtraTreesClassifier\n",
    "from sklearn import metrics"
   ]
  },
  {
   "cell_type": "code",
   "execution_count": 17,
   "metadata": {
    "ExecuteTime": {
     "end_time": "2020-08-24T21:38:40.552016Z",
     "start_time": "2020-08-24T21:38:40.374018Z"
    }
   },
   "outputs": [
    {
     "data": {
      "text/html": [
       "<style  type=\"text/css\" >\n",
       "#T_2d08e312_e652_11ea_b482_8c859004fb9crow0_col3,#T_2d08e312_e652_11ea_b482_8c859004fb9crow1_col3{\n",
       "            background-color:  #fff7fb;\n",
       "            color:  #000000;\n",
       "        }</style><table id=\"T_2d08e312_e652_11ea_b482_8c859004fb9c\" ><thead>    <tr>        <th class=\"blank level0\" ></th>        <th class=\"col_heading level0 col0\" >index</th>        <th class=\"col_heading level0 col1\" >Model</th>        <th class=\"col_heading level0 col2\" >Description</th>        <th class=\"col_heading level0 col3\" >Accuracy</th>        <th class=\"col_heading level0 col4\" >Precision</th>        <th class=\"col_heading level0 col5\" >Recall</th>        <th class=\"col_heading level0 col6\" >F-score</th>        <th class=\"col_heading level0 col7\" >Time_Taken</th>    </tr></thead><tbody>\n",
       "                <tr>\n",
       "                        <th id=\"T_2d08e312_e652_11ea_b482_8c859004fb9clevel0_row0\" class=\"row_heading level0 row0\" >0</th>\n",
       "                        <td id=\"T_2d08e312_e652_11ea_b482_8c859004fb9crow0_col0\" class=\"data row0 col0\" >0</td>\n",
       "                        <td id=\"T_2d08e312_e652_11ea_b482_8c859004fb9crow0_col1\" class=\"data row0 col1\" >tpot</td>\n",
       "                        <td id=\"T_2d08e312_e652_11ea_b482_8c859004fb9crow0_col2\" class=\"data row0 col2\" >rf+minmax+stacking</td>\n",
       "                        <td id=\"T_2d08e312_e652_11ea_b482_8c859004fb9crow0_col3\" class=\"data row0 col3\" >0.813008</td>\n",
       "                        <td id=\"T_2d08e312_e652_11ea_b482_8c859004fb9crow0_col4\" class=\"data row0 col4\" >0.803922</td>\n",
       "                        <td id=\"T_2d08e312_e652_11ea_b482_8c859004fb9crow0_col5\" class=\"data row0 col5\" >0.964706</td>\n",
       "                        <td id=\"T_2d08e312_e652_11ea_b482_8c859004fb9crow0_col6\" class=\"data row0 col6\" >0.877005</td>\n",
       "                        <td id=\"T_2d08e312_e652_11ea_b482_8c859004fb9crow0_col7\" class=\"data row0 col7\" >0 min 0.60 s</td>\n",
       "            </tr>\n",
       "            <tr>\n",
       "                        <th id=\"T_2d08e312_e652_11ea_b482_8c859004fb9clevel0_row1\" class=\"row_heading level0 row1\" >1</th>\n",
       "                        <td id=\"T_2d08e312_e652_11ea_b482_8c859004fb9crow1_col0\" class=\"data row1 col0\" >1</td>\n",
       "                        <td id=\"T_2d08e312_e652_11ea_b482_8c859004fb9crow1_col1\" class=\"data row1 col1\" >ET</td>\n",
       "                        <td id=\"T_2d08e312_e652_11ea_b482_8c859004fb9crow1_col2\" class=\"data row1 col2\" >tuned</td>\n",
       "                        <td id=\"T_2d08e312_e652_11ea_b482_8c859004fb9crow1_col3\" class=\"data row1 col3\" >0.813008</td>\n",
       "                        <td id=\"T_2d08e312_e652_11ea_b482_8c859004fb9crow1_col4\" class=\"data row1 col4\" >0.792453</td>\n",
       "                        <td id=\"T_2d08e312_e652_11ea_b482_8c859004fb9crow1_col5\" class=\"data row1 col5\" >0.988235</td>\n",
       "                        <td id=\"T_2d08e312_e652_11ea_b482_8c859004fb9crow1_col6\" class=\"data row1 col6\" >0.879581</td>\n",
       "                        <td id=\"T_2d08e312_e652_11ea_b482_8c859004fb9crow1_col7\" class=\"data row1 col7\" >0 min 0.16 s</td>\n",
       "            </tr>\n",
       "    </tbody></table>"
      ],
      "text/plain": [
       "<pandas.io.formats.style.Styler at 0x7fde72933710>"
      ]
     },
     "execution_count": 17,
     "metadata": {},
     "output_type": "execute_result"
    }
   ],
   "source": [
    "time_start = time.time()\n",
    "model = ExtraTreesClassifier(bootstrap=True,\n",
    "                             criterion='entropy', max_features=0.8,\n",
    "                             min_samples_leaf=19,\n",
    "                             min_samples_split=5, n_estimators=100)\n",
    "\n",
    "model.fit(Xtr,ytr)\n",
    "vd_preds = model.predict(Xvd)\n",
    "\n",
    "acc = metrics.accuracy_score(yvd, vd_preds)\n",
    "pre = metrics.precision_score(yvd, vd_preds)\n",
    "rec = metrics.recall_score(yvd, vd_preds)\n",
    "f1  = metrics.f1_score(yvd,vd_preds)\n",
    "\n",
    "time_taken = time.time() - time_start\n",
    "time_taken = \"{:.0f} min {:.2f} s\".format(*divmod(time_taken,60))\n",
    "\n",
    "row = ['ET', 'tuned', acc, pre, rec, f1,time_taken]\n",
    "df_eval.loc[len(df_eval)] = row\n",
    "df_eval = df_eval.drop_duplicates(['Model','Description'])\n",
    "df_eval.sort_values('Accuracy',ascending=False).reset_index().style.background_gradient(subset=['Accuracy'])"
   ]
  }
 ],
 "metadata": {
  "kernelspec": {
   "display_name": "Python (dataSc)",
   "language": "python",
   "name": "datasc"
  },
  "language_info": {
   "codemirror_mode": {
    "name": "ipython",
    "version": 3
   },
   "file_extension": ".py",
   "mimetype": "text/x-python",
   "name": "python",
   "nbconvert_exporter": "python",
   "pygments_lexer": "ipython3",
   "version": "3.7.7"
  },
  "toc": {
   "base_numbering": 1,
   "nav_menu": {},
   "number_sections": true,
   "sideBar": true,
   "skip_h1_title": false,
   "title_cell": "Table of Contents",
   "title_sidebar": "Contents",
   "toc_cell": true,
   "toc_position": {},
   "toc_section_display": true,
   "toc_window_display": false
  },
  "varInspector": {
   "cols": {
    "lenName": 16,
    "lenType": 16,
    "lenVar": 40
   },
   "kernels_config": {
    "python": {
     "delete_cmd_postfix": "",
     "delete_cmd_prefix": "del ",
     "library": "var_list.py",
     "varRefreshCmd": "print(var_dic_list())"
    },
    "r": {
     "delete_cmd_postfix": ") ",
     "delete_cmd_prefix": "rm(",
     "library": "var_list.r",
     "varRefreshCmd": "cat(var_dic_list()) "
    }
   },
   "types_to_exclude": [
    "module",
    "function",
    "builtin_function_or_method",
    "instance",
    "_Feature"
   ],
   "window_display": false
  }
 },
 "nbformat": 4,
 "nbformat_minor": 4
}
