{
 "cells": [
  {
   "cell_type": "markdown",
   "metadata": {
    "toc": true
   },
   "source": [
    "<h1>Table of Contents<span class=\"tocSkip\"></span></h1>\n",
    "<div class=\"toc\"><ul class=\"toc-item\"><li><span><a href=\"#Description\" data-toc-modified-id=\"Description-1\"><span class=\"toc-item-num\">1&nbsp;&nbsp;</span>Description</a></span></li><li><span><a href=\"#Load-the-libraries\" data-toc-modified-id=\"Load-the-libraries-2\"><span class=\"toc-item-num\">2&nbsp;&nbsp;</span>Load the libraries</a></span></li><li><span><a href=\"#Load-the-data\" data-toc-modified-id=\"Load-the-data-3\"><span class=\"toc-item-num\">3&nbsp;&nbsp;</span>Load the data</a></span></li><li><span><a href=\"#Positive-and-Negative-Tweets\" data-toc-modified-id=\"Positive-and-Negative-Tweets-4\"><span class=\"toc-item-num\">4&nbsp;&nbsp;</span>Positive and Negative Tweets</a></span></li><li><span><a href=\"#Frequency-Distribution\" data-toc-modified-id=\"Frequency-Distribution-5\"><span class=\"toc-item-num\">5&nbsp;&nbsp;</span>Frequency Distribution</a></span></li><li><span><a href=\"#Word-Cloud\" data-toc-modified-id=\"Word-Cloud-6\"><span class=\"toc-item-num\">6&nbsp;&nbsp;</span>Word Cloud</a></span></li><li><span><a href=\"#Treemap\" data-toc-modified-id=\"Treemap-7\"><span class=\"toc-item-num\">7&nbsp;&nbsp;</span>Treemap</a></span></li></ul></div>"
   ]
  },
  {
   "cell_type": "markdown",
   "metadata": {},
   "source": [
    "# Description\n",
    "Twitter sentiment analysis."
   ]
  },
  {
   "cell_type": "markdown",
   "metadata": {},
   "source": [
    "# Load the libraries"
   ]
  },
  {
   "cell_type": "code",
   "execution_count": 13,
   "metadata": {
    "ExecuteTime": {
     "end_time": "2020-09-01T02:09:44.362932Z",
     "start_time": "2020-09-01T02:09:44.359929Z"
    }
   },
   "outputs": [],
   "source": [
    "import sys\n",
    "sys.path.append('/Users/poudel/opt/miniconda3/envs/nlp/lib/python3.7/site-packages')"
   ]
  },
  {
   "cell_type": "code",
   "execution_count": 14,
   "metadata": {
    "ExecuteTime": {
     "end_time": "2020-09-01T02:09:44.389517Z",
     "start_time": "2020-09-01T02:09:44.367233Z"
    }
   },
   "outputs": [
    {
     "name": "stdout",
     "output_type": "stream",
     "text": [
      "[('numpy', '1.17.5'), ('pandas', '1.0.5'), ('seaborn', '0.10.1'), ('sklearn', '0.23.1'), ('mlxtend', '0.17.0'), ('plotly_express', '0.4.1')]\n",
      "[('nltk', '3.4.4'), ('spacy', '2.2.3'), ('textblob', '0.15.3'), ('gensim', '3.8.3')]\n"
     ]
    }
   ],
   "source": [
    "import numpy as np\n",
    "import pandas as pd\n",
    "import seaborn as sns\n",
    "import sklearn\n",
    "import mlxtend\n",
    "import plotly_express as px\n",
    "\n",
    "pd.options.plotting.backend = \"matplotlib\"\n",
    "pd.set_option('max_columns',100)\n",
    "pd.set_option('max_colwidth',1000)\n",
    "\n",
    "import time,os,json,sys\n",
    "time_start_notebook = time.time()\n",
    "home = os.path.expanduser('~')\n",
    "SEED=100\n",
    "\n",
    "import matplotlib.pyplot as plt\n",
    "plt.style.use('ggplot')\n",
    "%matplotlib inline\n",
    "%config InlineBackend.figure_format = 'retina'\n",
    "\n",
    "print([(x.__name__,x.__version__) for x in [np,pd,sns,sklearn,mlxtend,px]])\n",
    "\n",
    "\n",
    "#========= NLP\n",
    "import re\n",
    "import string\n",
    "import nltk\n",
    "import spacy\n",
    "import textblob\n",
    "import gensim\n",
    "import texthero\n",
    "from urllib.parse import urlparse\n",
    "from nltk.corpus import stopwords\n",
    "\n",
    "print([(x.__name__,x.__version__) for x in [nltk,spacy,textblob,gensim]])\n",
    "\n",
    "#=======OTHERS\n",
    "import scipy\n",
    "import multiprocessing as mp"
   ]
  },
  {
   "cell_type": "markdown",
   "metadata": {
    "ExecuteTime": {
     "end_time": "2020-08-31T16:15:20.695546Z",
     "start_time": "2020-08-31T16:15:20.688345Z"
    }
   },
   "source": [
    "# Load the data"
   ]
  },
  {
   "cell_type": "code",
   "execution_count": 15,
   "metadata": {
    "ExecuteTime": {
     "end_time": "2020-09-01T02:09:44.553495Z",
     "start_time": "2020-09-01T02:09:44.392059Z"
    }
   },
   "outputs": [
    {
     "name": "stdout",
     "output_type": "stream",
     "text": [
      "shape df_train: (7920, 24)\n",
      "shape df_test: (1953, 24)\n"
     ]
    },
    {
     "data": {
      "text/html": [
       "<div>\n",
       "<style scoped>\n",
       "    .dataframe tbody tr th:only-of-type {\n",
       "        vertical-align: middle;\n",
       "    }\n",
       "\n",
       "    .dataframe tbody tr th {\n",
       "        vertical-align: top;\n",
       "    }\n",
       "\n",
       "    .dataframe thead th {\n",
       "        text-align: right;\n",
       "    }\n",
       "</style>\n",
       "<table border=\"1\" class=\"dataframe\">\n",
       "  <thead>\n",
       "    <tr style=\"text-align: right;\">\n",
       "      <th></th>\n",
       "      <th>index</th>\n",
       "      <th>id</th>\n",
       "      <th>label</th>\n",
       "      <th>tweet</th>\n",
       "      <th>tweet_lst_clean</th>\n",
       "      <th>tweet_clean</th>\n",
       "      <th>hashtags_lst</th>\n",
       "      <th>hashtags</th>\n",
       "      <th>total_length</th>\n",
       "      <th>num_words</th>\n",
       "      <th>num_sent</th>\n",
       "      <th>num_unique_words</th>\n",
       "      <th>num_words_title</th>\n",
       "      <th>num_uppercase</th>\n",
       "      <th>num_exclamation_marks</th>\n",
       "      <th>num_question_marks</th>\n",
       "      <th>num_punctuation</th>\n",
       "      <th>num_symbols</th>\n",
       "      <th>num_digits</th>\n",
       "      <th>avg_word_len</th>\n",
       "      <th>avg_uppercase</th>\n",
       "      <th>avg_unique</th>\n",
       "      <th>tweet_lst_clean_emoji</th>\n",
       "      <th>tweet_clean_emoji</th>\n",
       "    </tr>\n",
       "  </thead>\n",
       "  <tbody>\n",
       "    <tr>\n",
       "      <th>0</th>\n",
       "      <td>0</td>\n",
       "      <td>1</td>\n",
       "      <td>0.0</td>\n",
       "      <td>#fingerprint #Pregnancy Test https://goo.gl/h1MfQV #android #apps #beautiful #cute #health #igers #iphoneonly #iphonesia #iphone</td>\n",
       "      <td>['fingerprint', 'pregnancy', 'test', 'android', 'aps', 'beautiful', 'cute', 'health', 'igers', 'iphoneonly', 'iphonesia', 'iphone']</td>\n",
       "      <td>fingerprint pregnancy test android aps beautiful cute health igers iphoneonly iphonesia iphone</td>\n",
       "      <td>['#fingerprint', '#Pregnancy', '#android', '#apps', '#beautiful', '#cute', '#health', '#igers', '#iphoneonly', '#iphonesia', '#iphone']</td>\n",
       "      <td>#fingerprint #Pregnancy #android #apps #beautiful #cute #health #igers #iphoneonly #iphonesia #iphone</td>\n",
       "      <td>128</td>\n",
       "      <td>13</td>\n",
       "      <td>1</td>\n",
       "      <td>13</td>\n",
       "      <td>2</td>\n",
       "      <td>5</td>\n",
       "      <td>0</td>\n",
       "      <td>0</td>\n",
       "      <td>2</td>\n",
       "      <td>0</td>\n",
       "      <td>0</td>\n",
       "      <td>8.923077</td>\n",
       "      <td>0.039062</td>\n",
       "      <td>1.0</td>\n",
       "      <td>['fingerprint', 'pregnancy', 'test', 'android', 'aps', 'beautiful', 'cute', 'health', 'igers', 'iphoneonly', 'iphonesia', 'iphone']</td>\n",
       "      <td>fingerprint pregnancy test android aps beautiful cute health igers iphoneonly iphonesia iphone</td>\n",
       "    </tr>\n",
       "    <tr>\n",
       "      <th>1</th>\n",
       "      <td>1</td>\n",
       "      <td>2</td>\n",
       "      <td>0.0</td>\n",
       "      <td>Finally a transparant silicon case ^^ Thanks to my uncle :) #yay #Sony #Xperia #S #sonyexperias… http://instagram.com/p/YGEt5JC6JM/</td>\n",
       "      <td>['finaly', 'transparant', 'silicon', 'case', 'thanks', 'uncle', 'yay', 'sony', 'xperia', 'sonyexperias']</td>\n",
       "      <td>finaly transparant silicon case thanks uncle yay sony xperia sonyexperias</td>\n",
       "      <td>['#yay', '#Sony', '#Xperia', '#S', '#sonyexperias…']</td>\n",
       "      <td>#yay #Sony #Xperia #S #sonyexperias…</td>\n",
       "      <td>131</td>\n",
       "      <td>17</td>\n",
       "      <td>1</td>\n",
       "      <td>17</td>\n",
       "      <td>5</td>\n",
       "      <td>12</td>\n",
       "      <td>0</td>\n",
       "      <td>0</td>\n",
       "      <td>3</td>\n",
       "      <td>0</td>\n",
       "      <td>0</td>\n",
       "      <td>6.764706</td>\n",
       "      <td>0.091603</td>\n",
       "      <td>1.0</td>\n",
       "      <td>['finaly', 'transparant', 'silicon', 'case', 'thanks', 'uncle', 'hapyfaceorsmiley', 'yay', 'sony', 'xperia', 'sonyexperias']</td>\n",
       "      <td>finaly transparant silicon case thanks uncle hapyfaceorsmiley yay sony xperia sonyexperias</td>\n",
       "    </tr>\n",
       "    <tr>\n",
       "      <th>7918</th>\n",
       "      <td>7918</td>\n",
       "      <td>7919</td>\n",
       "      <td>0.0</td>\n",
       "      <td>Finally got my #smart #pocket #wifi stay connected anytime,anywhere! #ipad and #samsung #s3 #gadget # http://instagr.am/p/U-53G_vJU8/</td>\n",
       "      <td>['finaly', 'got', 'smart', 'pocket', 'wifi', 'stay', 'conected', 'anytimeanywhere', 'ipad', 'samsung', 'gadget']</td>\n",
       "      <td>finaly got smart pocket wifi stay conected anytimeanywhere ipad samsung gadget</td>\n",
       "      <td>['#smart', '#pocket', '#wifi', '#ipad', '#samsung', '#s3', '#gadget', '#']</td>\n",
       "      <td>#smart #pocket #wifi #ipad #samsung #s3 #gadget #</td>\n",
       "      <td>133</td>\n",
       "      <td>16</td>\n",
       "      <td>1</td>\n",
       "      <td>16</td>\n",
       "      <td>1</td>\n",
       "      <td>5</td>\n",
       "      <td>1</td>\n",
       "      <td>0</td>\n",
       "      <td>3</td>\n",
       "      <td>0</td>\n",
       "      <td>0</td>\n",
       "      <td>7.375000</td>\n",
       "      <td>0.037594</td>\n",
       "      <td>1.0</td>\n",
       "      <td>['finaly', 'got', 'smart', 'pocket', 'wifi', 'stay', 'conected', 'anytimeanywhere', 'ipad', 'samsung', 'gadget']</td>\n",
       "      <td>finaly got smart pocket wifi stay conected anytimeanywhere ipad samsung gadget</td>\n",
       "    </tr>\n",
       "    <tr>\n",
       "      <th>7919</th>\n",
       "      <td>7919</td>\n",
       "      <td>7920</td>\n",
       "      <td>0.0</td>\n",
       "      <td>Apple Barcelona!!! #Apple #Store #BCN #Barcelona #travel #iphone #selfie #fly #fun #cabincrew… http://instagram.com/p/wBApVzpCl3/</td>\n",
       "      <td>['aple', 'barcelona', 'aple', 'store', 'bcn', 'barcelona', 'travel', 'iphone', 'selfie', 'fly', 'fun', 'cabincrew']</td>\n",
       "      <td>aple barcelona aple store bcn barcelona travel iphone selfie fly fun cabincrew</td>\n",
       "      <td>['#Apple', '#Store', '#BCN', '#Barcelona', '#travel', '#iphone', '#selfie', '#fly', '#fun', '#cabincrew…']</td>\n",
       "      <td>#Apple #Store #BCN #Barcelona #travel #iphone #selfie #fly #fun #cabincrew…</td>\n",
       "      <td>129</td>\n",
       "      <td>13</td>\n",
       "      <td>1</td>\n",
       "      <td>13</td>\n",
       "      <td>5</td>\n",
       "      <td>12</td>\n",
       "      <td>3</td>\n",
       "      <td>0</td>\n",
       "      <td>2</td>\n",
       "      <td>0</td>\n",
       "      <td>0</td>\n",
       "      <td>9.000000</td>\n",
       "      <td>0.093023</td>\n",
       "      <td>1.0</td>\n",
       "      <td>['aple', 'barcelona', 'aple', 'store', 'bcn', 'barcelona', 'travel', 'iphone', 'selfie', 'fly', 'fun', 'cabincrew']</td>\n",
       "      <td>aple barcelona aple store bcn barcelona travel iphone selfie fly fun cabincrew</td>\n",
       "    </tr>\n",
       "  </tbody>\n",
       "</table>\n",
       "</div>"
      ],
      "text/plain": [
       "      index    id  label  \\\n",
       "0         0     1    0.0   \n",
       "1         1     2    0.0   \n",
       "7918   7918  7919    0.0   \n",
       "7919   7919  7920    0.0   \n",
       "\n",
       "                                                                                                                                      tweet  \\\n",
       "0          #fingerprint #Pregnancy Test https://goo.gl/h1MfQV #android #apps #beautiful #cute #health #igers #iphoneonly #iphonesia #iphone   \n",
       "1       Finally a transparant silicon case ^^ Thanks to my uncle :) #yay #Sony #Xperia #S #sonyexperias… http://instagram.com/p/YGEt5JC6JM/   \n",
       "7918  Finally got my #smart #pocket #wifi stay connected anytime,anywhere! #ipad and #samsung #s3 #gadget # http://instagr.am/p/U-53G_vJU8/   \n",
       "7919      Apple Barcelona!!! #Apple #Store #BCN #Barcelona #travel #iphone #selfie #fly #fun #cabincrew… http://instagram.com/p/wBApVzpCl3/   \n",
       "\n",
       "                                                                                                                          tweet_lst_clean  \\\n",
       "0     ['fingerprint', 'pregnancy', 'test', 'android', 'aps', 'beautiful', 'cute', 'health', 'igers', 'iphoneonly', 'iphonesia', 'iphone']   \n",
       "1                                ['finaly', 'transparant', 'silicon', 'case', 'thanks', 'uncle', 'yay', 'sony', 'xperia', 'sonyexperias']   \n",
       "7918                     ['finaly', 'got', 'smart', 'pocket', 'wifi', 'stay', 'conected', 'anytimeanywhere', 'ipad', 'samsung', 'gadget']   \n",
       "7919                  ['aple', 'barcelona', 'aple', 'store', 'bcn', 'barcelona', 'travel', 'iphone', 'selfie', 'fly', 'fun', 'cabincrew']   \n",
       "\n",
       "                                                                                         tweet_clean  \\\n",
       "0     fingerprint pregnancy test android aps beautiful cute health igers iphoneonly iphonesia iphone   \n",
       "1                          finaly transparant silicon case thanks uncle yay sony xperia sonyexperias   \n",
       "7918                  finaly got smart pocket wifi stay conected anytimeanywhere ipad samsung gadget   \n",
       "7919                  aple barcelona aple store bcn barcelona travel iphone selfie fly fun cabincrew   \n",
       "\n",
       "                                                                                                                                 hashtags_lst  \\\n",
       "0     ['#fingerprint', '#Pregnancy', '#android', '#apps', '#beautiful', '#cute', '#health', '#igers', '#iphoneonly', '#iphonesia', '#iphone']   \n",
       "1                                                                                        ['#yay', '#Sony', '#Xperia', '#S', '#sonyexperias…']   \n",
       "7918                                                               ['#smart', '#pocket', '#wifi', '#ipad', '#samsung', '#s3', '#gadget', '#']   \n",
       "7919                               ['#Apple', '#Store', '#BCN', '#Barcelona', '#travel', '#iphone', '#selfie', '#fly', '#fun', '#cabincrew…']   \n",
       "\n",
       "                                                                                                   hashtags  \\\n",
       "0     #fingerprint #Pregnancy #android #apps #beautiful #cute #health #igers #iphoneonly #iphonesia #iphone   \n",
       "1                                                                      #yay #Sony #Xperia #S #sonyexperias…   \n",
       "7918                                                      #smart #pocket #wifi #ipad #samsung #s3 #gadget #   \n",
       "7919                            #Apple #Store #BCN #Barcelona #travel #iphone #selfie #fly #fun #cabincrew…   \n",
       "\n",
       "      total_length  num_words  num_sent  num_unique_words  num_words_title  \\\n",
       "0              128         13         1                13                2   \n",
       "1              131         17         1                17                5   \n",
       "7918           133         16         1                16                1   \n",
       "7919           129         13         1                13                5   \n",
       "\n",
       "      num_uppercase  num_exclamation_marks  num_question_marks  \\\n",
       "0                 5                      0                   0   \n",
       "1                12                      0                   0   \n",
       "7918              5                      1                   0   \n",
       "7919             12                      3                   0   \n",
       "\n",
       "      num_punctuation  num_symbols  num_digits  avg_word_len  avg_uppercase  \\\n",
       "0                   2            0           0      8.923077       0.039062   \n",
       "1                   3            0           0      6.764706       0.091603   \n",
       "7918                3            0           0      7.375000       0.037594   \n",
       "7919                2            0           0      9.000000       0.093023   \n",
       "\n",
       "      avg_unique  \\\n",
       "0            1.0   \n",
       "1            1.0   \n",
       "7918         1.0   \n",
       "7919         1.0   \n",
       "\n",
       "                                                                                                                    tweet_lst_clean_emoji  \\\n",
       "0     ['fingerprint', 'pregnancy', 'test', 'android', 'aps', 'beautiful', 'cute', 'health', 'igers', 'iphoneonly', 'iphonesia', 'iphone']   \n",
       "1            ['finaly', 'transparant', 'silicon', 'case', 'thanks', 'uncle', 'hapyfaceorsmiley', 'yay', 'sony', 'xperia', 'sonyexperias']   \n",
       "7918                     ['finaly', 'got', 'smart', 'pocket', 'wifi', 'stay', 'conected', 'anytimeanywhere', 'ipad', 'samsung', 'gadget']   \n",
       "7919                  ['aple', 'barcelona', 'aple', 'store', 'bcn', 'barcelona', 'travel', 'iphone', 'selfie', 'fly', 'fun', 'cabincrew']   \n",
       "\n",
       "                                                                                   tweet_clean_emoji  \n",
       "0     fingerprint pregnancy test android aps beautiful cute health igers iphoneonly iphonesia iphone  \n",
       "1         finaly transparant silicon case thanks uncle hapyfaceorsmiley yay sony xperia sonyexperias  \n",
       "7918                  finaly got smart pocket wifi stay conected anytimeanywhere ipad samsung gadget  \n",
       "7919                  aple barcelona aple store bcn barcelona travel iphone selfie fly fun cabincrew  "
      ]
     },
     "execution_count": 15,
     "metadata": {},
     "output_type": "execute_result"
    }
   ],
   "source": [
    "df_combined = pd.read_csv('../data/processed/df_combined_clean.csv')\n",
    "\n",
    "target = 'label'\n",
    "df_train = df_combined[~df_combined[target].isnull()]\n",
    "df_test = df_combined[df_combined[target].isnull()]\n",
    "\n",
    "print(f\"shape df_train: {df_train.shape}\")\n",
    "print(f\"shape df_test: {df_test.shape}\")\n",
    "\n",
    "maincol = 'tweet'\n",
    "mc = maincol + '_clean'\n",
    "mcl = maincol + '_lst_clean'\n",
    "\n",
    "df_train.head(2).append(df_train.tail(2))"
   ]
  },
  {
   "cell_type": "markdown",
   "metadata": {},
   "source": [
    "# Positive and Negative Tweets"
   ]
  },
  {
   "cell_type": "code",
   "execution_count": null,
   "metadata": {},
   "outputs": [],
   "source": []
  },
  {
   "cell_type": "code",
   "execution_count": null,
   "metadata": {},
   "outputs": [],
   "source": []
  },
  {
   "cell_type": "markdown",
   "metadata": {},
   "source": [
    "# Frequency Distribution"
   ]
  },
  {
   "cell_type": "code",
   "execution_count": null,
   "metadata": {},
   "outputs": [],
   "source": []
  },
  {
   "cell_type": "code",
   "execution_count": null,
   "metadata": {},
   "outputs": [],
   "source": []
  },
  {
   "cell_type": "code",
   "execution_count": null,
   "metadata": {},
   "outputs": [],
   "source": []
  },
  {
   "cell_type": "markdown",
   "metadata": {},
   "source": [
    "# Word Cloud"
   ]
  },
  {
   "cell_type": "code",
   "execution_count": null,
   "metadata": {},
   "outputs": [],
   "source": []
  },
  {
   "cell_type": "code",
   "execution_count": null,
   "metadata": {},
   "outputs": [],
   "source": []
  },
  {
   "cell_type": "markdown",
   "metadata": {},
   "source": [
    "# Treemap"
   ]
  },
  {
   "cell_type": "code",
   "execution_count": null,
   "metadata": {},
   "outputs": [],
   "source": []
  },
  {
   "cell_type": "code",
   "execution_count": null,
   "metadata": {},
   "outputs": [],
   "source": []
  },
  {
   "cell_type": "code",
   "execution_count": null,
   "metadata": {},
   "outputs": [],
   "source": []
  }
 ],
 "metadata": {
  "kernelspec": {
   "display_name": "Python37 (nlp)",
   "language": "python",
   "name": "nlp"
  },
  "language_info": {
   "codemirror_mode": {
    "name": "ipython",
    "version": 3
   },
   "file_extension": ".py",
   "mimetype": "text/x-python",
   "name": "python",
   "nbconvert_exporter": "python",
   "pygments_lexer": "ipython3",
   "version": "3.7.7"
  },
  "toc": {
   "base_numbering": 1,
   "nav_menu": {},
   "number_sections": true,
   "sideBar": true,
   "skip_h1_title": false,
   "title_cell": "Table of Contents",
   "title_sidebar": "Contents",
   "toc_cell": true,
   "toc_position": {},
   "toc_section_display": true,
   "toc_window_display": true
  },
  "varInspector": {
   "cols": {
    "lenName": 16,
    "lenType": 16,
    "lenVar": 40
   },
   "kernels_config": {
    "python": {
     "delete_cmd_postfix": "",
     "delete_cmd_prefix": "del ",
     "library": "var_list.py",
     "varRefreshCmd": "print(var_dic_list())"
    },
    "r": {
     "delete_cmd_postfix": ") ",
     "delete_cmd_prefix": "rm(",
     "library": "var_list.r",
     "varRefreshCmd": "cat(var_dic_list()) "
    }
   },
   "types_to_exclude": [
    "module",
    "function",
    "builtin_function_or_method",
    "instance",
    "_Feature"
   ],
   "window_display": false
  }
 },
 "nbformat": 4,
 "nbformat_minor": 4
}
