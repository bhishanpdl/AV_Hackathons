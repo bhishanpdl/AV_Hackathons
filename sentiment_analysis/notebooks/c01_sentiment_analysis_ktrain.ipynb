{
  "nbformat": 4,
  "nbformat_minor": 0,
  "metadata": {
    "colab": {
      "name": "c01_sentiment_analysis_ktrain.ipynb",
      "provenance": [],
      "collapsed_sections": []
    },
    "kernelspec": {
      "name": "python3",
      "display_name": "Python 3"
    },
    "accelerator": "GPU"
  },
  "cells": [
    {
      "cell_type": "markdown",
      "metadata": {
        "id": "MBcRis_Eqlcp",
        "colab_type": "text"
      },
      "source": [
        "# Descriptions\n",
        "Ref:  \n",
        "- [module: ktrain](https://github.com/amaiya/ktrain)\n",
        "\n",
        "- BERT stands for Bidirectional Encoder Representations from Transformers\n",
        "- BERT was developed by researchers at Google in 2018\n",
        "- BERT is a text representation technique like Word Embeddings."
      ]
    },
    {
      "cell_type": "markdown",
      "metadata": {
        "id": "pD2fbcXzywYE",
        "colab_type": "text"
      },
      "source": [
        "# Google Colab"
      ]
    },
    {
      "cell_type": "code",
      "metadata": {
        "id": "TnnS6ZIPgQuy",
        "colab_type": "code",
        "colab": {}
      },
      "source": [
        "%%capture\n",
        "# capture will not print in notebook\n",
        "\n",
        "import os\n",
        "import sys\n",
        "ENV_COLAB = 'google.colab' in sys.modules\n",
        "\n",
        "if ENV_COLAB:\n",
        "    ## install modules\n",
        "    !pip install -q ktrain\n",
        "    !pip install -q git+https://github.com/amaiya/eli5@tfkeras_0_10_1\n",
        "\n",
        "    ## print\n",
        "    print('Environment: Google Colaboratory.')\n",
        "\n",
        "# NOTE: If we update modules in gcolab, we need to restart runtime."
      ],
      "execution_count": null,
      "outputs": []
    },
    {
      "cell_type": "code",
      "metadata": {
        "id": "YlekYkTPn1-V",
        "colab_type": "code",
        "colab": {
          "base_uri": "https://localhost:8080/",
          "height": 34
        },
        "outputId": "a8c23422-afae-455c-e77c-6ce4c08cf3d8"
      },
      "source": [
        "import tensorflow as tf\n",
        "import ktrain\n",
        "\n",
        "from pprint import pprint\n",
        "pprint([(x.__name__,x.__version__) for x in [tf, ktrain]])"
      ],
      "execution_count": null,
      "outputs": [
        {
          "output_type": "stream",
          "text": [
            "[('tensorflow', '2.3.0'), ('ktrain', '0.21.2')]\n"
          ],
          "name": "stdout"
        }
      ]
    },
    {
      "cell_type": "markdown",
      "metadata": {
        "id": "fD0Nuj24ylsk",
        "colab_type": "text"
      },
      "source": [
        "# Load the libraries"
      ]
    },
    {
      "cell_type": "code",
      "metadata": {
        "id": "E6Um2nU7yYW9",
        "colab_type": "code",
        "colab": {
          "base_uri": "https://localhost:8080/",
          "height": 34
        },
        "outputId": "f1376924-92bc-4ef7-e207-acd770844350"
      },
      "source": [
        "import numpy as np\n",
        "import pandas as pd\n",
        "\n",
        "pd.set_option('max_colwidth',200)\n",
        "pd.set_option('max_columns',200)\n",
        "SEED = 100\n",
        "\n",
        "import sys\n",
        "import re\n",
        "from tqdm import tqdm\n",
        "tqdm.pandas()\n",
        "\n",
        "pprint([(x.__name__,x.__version__) for x in [np,pd]])"
      ],
      "execution_count": null,
      "outputs": [
        {
          "output_type": "stream",
          "text": [
            "[('numpy', '1.18.5'), ('pandas', '1.0.5')]\n"
          ],
          "name": "stdout"
        }
      ]
    },
    {
      "cell_type": "markdown",
      "metadata": {
        "id": "HKgRz7rOynlY",
        "colab_type": "text"
      },
      "source": [
        "# Load the data"
      ]
    },
    {
      "cell_type": "code",
      "metadata": {
        "id": "C6jzFcvlzHCN",
        "colab_type": "code",
        "colab": {
          "base_uri": "https://localhost:8080/",
          "height": 203
        },
        "outputId": "59e4094c-74b0-4b3d-e63b-85fe737986a8"
      },
      "source": [
        "p = 'https://github.com/bhishanpdl/Datasets/blob/master/AV_Hackathons/sentiment_analysis/raw/'\n",
        "df_train = pd.read_csv(p + 'train.csv?raw=true',usecols=['label','tweet'])\n",
        "df_test = pd.read_csv(p + 'test.csv?raw=true')\n",
        "\n",
        "print(f\"train : {df_train.shape}\")\n",
        "print(f\"test : {df_test.shape}\")\n",
        "display(df_train.head(2).append(df_train.tail(2)))\n",
        "\n",
        "target = 'label'\n",
        "maincol = 'tweet'"
      ],
      "execution_count": null,
      "outputs": [
        {
          "output_type": "stream",
          "text": [
            "train : (7920, 2)\n",
            "test : (1953, 2)\n"
          ],
          "name": "stdout"
        },
        {
          "output_type": "display_data",
          "data": {
            "text/html": [
              "<div>\n",
              "<style scoped>\n",
              "    .dataframe tbody tr th:only-of-type {\n",
              "        vertical-align: middle;\n",
              "    }\n",
              "\n",
              "    .dataframe tbody tr th {\n",
              "        vertical-align: top;\n",
              "    }\n",
              "\n",
              "    .dataframe thead th {\n",
              "        text-align: right;\n",
              "    }\n",
              "</style>\n",
              "<table border=\"1\" class=\"dataframe\">\n",
              "  <thead>\n",
              "    <tr style=\"text-align: right;\">\n",
              "      <th></th>\n",
              "      <th>label</th>\n",
              "      <th>tweet</th>\n",
              "    </tr>\n",
              "  </thead>\n",
              "  <tbody>\n",
              "    <tr>\n",
              "      <th>0</th>\n",
              "      <td>0</td>\n",
              "      <td>#fingerprint #Pregnancy Test https://goo.gl/h1MfQV #android #apps #beautiful #cute #health #igers #iphoneonly #iphonesia #iphone</td>\n",
              "    </tr>\n",
              "    <tr>\n",
              "      <th>1</th>\n",
              "      <td>0</td>\n",
              "      <td>Finally a transparant silicon case ^^ Thanks to my uncle :) #yay #Sony #Xperia #S #sonyexperias… http://instagram.com/p/YGEt5JC6JM/</td>\n",
              "    </tr>\n",
              "    <tr>\n",
              "      <th>7918</th>\n",
              "      <td>0</td>\n",
              "      <td>Finally got my #smart #pocket #wifi stay connected anytime,anywhere! #ipad and #samsung #s3 #gadget # http://instagr.am/p/U-53G_vJU8/</td>\n",
              "    </tr>\n",
              "    <tr>\n",
              "      <th>7919</th>\n",
              "      <td>0</td>\n",
              "      <td>Apple Barcelona!!! #Apple #Store #BCN #Barcelona #travel #iphone #selfie #fly #fun #cabincrew… http://instagram.com/p/wBApVzpCl3/</td>\n",
              "    </tr>\n",
              "  </tbody>\n",
              "</table>\n",
              "</div>"
            ],
            "text/plain": [
              "      label  \\\n",
              "0         0   \n",
              "1         0   \n",
              "7918      0   \n",
              "7919      0   \n",
              "\n",
              "                                                                                                                                      tweet  \n",
              "0          #fingerprint #Pregnancy Test https://goo.gl/h1MfQV #android #apps #beautiful #cute #health #igers #iphoneonly #iphonesia #iphone  \n",
              "1       Finally a transparant silicon case ^^ Thanks to my uncle :) #yay #Sony #Xperia #S #sonyexperias… http://instagram.com/p/YGEt5JC6JM/  \n",
              "7918  Finally got my #smart #pocket #wifi stay connected anytime,anywhere! #ipad and #samsung #s3 #gadget # http://instagr.am/p/U-53G_vJU8/  \n",
              "7919      Apple Barcelona!!! #Apple #Store #BCN #Barcelona #travel #iphone #selfie #fly #fun #cabincrew… http://instagram.com/p/wBApVzpCl3/  "
            ]
          },
          "metadata": {
            "tags": []
          }
        }
      ]
    },
    {
      "cell_type": "code",
      "metadata": {
        "id": "kMKpFZEaCOB5",
        "colab_type": "code",
        "colab": {
          "base_uri": "https://localhost:8080/",
          "height": 167
        },
        "outputId": "e97e5047-1472-4d48-910d-d963ace10a93"
      },
      "source": [
        "display(df_test.head(2).append(df_test.tail(2)))"
      ],
      "execution_count": null,
      "outputs": [
        {
          "output_type": "display_data",
          "data": {
            "text/html": [
              "<div>\n",
              "<style scoped>\n",
              "    .dataframe tbody tr th:only-of-type {\n",
              "        vertical-align: middle;\n",
              "    }\n",
              "\n",
              "    .dataframe tbody tr th {\n",
              "        vertical-align: top;\n",
              "    }\n",
              "\n",
              "    .dataframe thead th {\n",
              "        text-align: right;\n",
              "    }\n",
              "</style>\n",
              "<table border=\"1\" class=\"dataframe\">\n",
              "  <thead>\n",
              "    <tr style=\"text-align: right;\">\n",
              "      <th></th>\n",
              "      <th>id</th>\n",
              "      <th>tweet</th>\n",
              "    </tr>\n",
              "  </thead>\n",
              "  <tbody>\n",
              "    <tr>\n",
              "      <th>0</th>\n",
              "      <td>7921</td>\n",
              "      <td>I hate the new #iphone upgrade. Won't let me download apps. #ugh #apple sucks</td>\n",
              "    </tr>\n",
              "    <tr>\n",
              "      <th>1</th>\n",
              "      <td>7922</td>\n",
              "      <td>currently shitting my fucking pants. #apple #iMac #cashmoney #raddest #swagswagswag http://instagr.am/p/UUIS0bIBZo/</td>\n",
              "    </tr>\n",
              "    <tr>\n",
              "      <th>1951</th>\n",
              "      <td>9872</td>\n",
              "      <td>@codeofinterest as i said #Adobe big time we may well as include #apple to</td>\n",
              "    </tr>\n",
              "    <tr>\n",
              "      <th>1952</th>\n",
              "      <td>9873</td>\n",
              "      <td>Finally I got it .. thanx my father .. #Samsung #galaxy #s3 #gift #father #phone #new http://instagr.am/p/NoxkiPE</td>\n",
              "    </tr>\n",
              "  </tbody>\n",
              "</table>\n",
              "</div>"
            ],
            "text/plain": [
              "        id  \\\n",
              "0     7921   \n",
              "1     7922   \n",
              "1951  9872   \n",
              "1952  9873   \n",
              "\n",
              "                                                                                                                    tweet  \n",
              "0                                           I hate the new #iphone upgrade. Won't let me download apps. #ugh #apple sucks  \n",
              "1     currently shitting my fucking pants. #apple #iMac #cashmoney #raddest #swagswagswag http://instagr.am/p/UUIS0bIBZo/  \n",
              "1951                                           @codeofinterest as i said #Adobe big time we may well as include #apple to  \n",
              "1952    Finally I got it .. thanx my father .. #Samsung #galaxy #s3 #gift #father #phone #new http://instagr.am/p/NoxkiPE  "
            ]
          },
          "metadata": {
            "tags": []
          }
        }
      ]
    },
    {
      "cell_type": "markdown",
      "metadata": {
        "id": "dg23We585G4n",
        "colab_type": "text"
      },
      "source": [
        "# Train Validation split using ktrain"
      ]
    },
    {
      "cell_type": "code",
      "metadata": {
        "id": "LjbRC9jiwqFj",
        "colab_type": "code",
        "colab": {}
      },
      "source": [
        "# [i for i in dir(ktrain.text) if i[0]!='_']\n",
        "\n",
        "# ktrain.text.texts_from_df?"
      ],
      "execution_count": null,
      "outputs": []
    },
    {
      "cell_type": "code",
      "metadata": {
        "id": "n_OKcdoZwTco",
        "colab_type": "code",
        "colab": {
          "base_uri": "https://localhost:8080/",
          "height": 174
        },
        "outputId": "242fce06-b9a6-4407-e95f-cfaa043a9bfe"
      },
      "source": [
        "%%time\n",
        "\n",
        "(X_train, y_train), (X_valid, y_valid), preproc = \\\n",
        "ktrain.text.texts_from_df(df_train,\n",
        "    text_column=maincol,\n",
        "    label_columns=[target],\n",
        "    random_state=SEED,\n",
        "    ngram_range=1,\n",
        "    max_features=20000,\n",
        "    val_df = None, # if not 10% of train is used\n",
        "    maxlen=500,\n",
        "    preprocess_mode='bert')\n",
        "\n",
        "model = ktrain.text.text_classifier(name='bert',\n",
        "                             train_data=(X_train, y_train),\n",
        "                             metrics=['accuracy'],\n",
        "                             preproc=preproc)\n",
        "\n",
        "learner = ktrain.get_learner(model=model,\n",
        "                             train_data=(X_train, y_train),\n",
        "                             val_data=(X_valid, y_valid),\n",
        "                             batch_size=6)"
      ],
      "execution_count": null,
      "outputs": [
        {
          "output_type": "stream",
          "text": [
            "preprocessing train...\n",
            "language: en\n"
          ],
          "name": "stdout"
        },
        {
          "output_type": "display_data",
          "data": {
            "text/html": [
              "done."
            ],
            "text/plain": [
              "<IPython.core.display.HTML object>"
            ]
          },
          "metadata": {
            "tags": []
          }
        },
        {
          "output_type": "stream",
          "text": [
            "Is Multi-Label? False\n",
            "preprocessing test...\n",
            "language: en\n"
          ],
          "name": "stdout"
        },
        {
          "output_type": "display_data",
          "data": {
            "text/html": [
              "done."
            ],
            "text/plain": [
              "<IPython.core.display.HTML object>"
            ]
          },
          "metadata": {
            "tags": []
          }
        },
        {
          "output_type": "stream",
          "text": [
            "CPU times: user 3.58 s, sys: 90.2 ms, total: 3.67 s\n",
            "Wall time: 3.69 s\n"
          ],
          "name": "stdout"
        }
      ]
    },
    {
      "cell_type": "code",
      "metadata": {
        "id": "LmJoGxkjxwoh",
        "colab_type": "code",
        "colab": {
          "base_uri": "https://localhost:8080/",
          "height": 34
        },
        "outputId": "3313e264-dc22-4477-8f38-8235b84794e0"
      },
      "source": [
        "type(X_train), X_train[0].shape, X_valid[0].shape"
      ],
      "execution_count": null,
      "outputs": [
        {
          "output_type": "execute_result",
          "data": {
            "text/plain": [
              "(list, (7128, 500), (792, 500))"
            ]
          },
          "metadata": {
            "tags": []
          },
          "execution_count": 8
        }
      ]
    },
    {
      "cell_type": "markdown",
      "metadata": {
        "id": "xpJ2xC8vodgo",
        "colab_type": "text"
      },
      "source": [
        "## Train Validation split using sklearn\n",
        "\n",
        "Official tutorial: https://nbviewer.jupyter.org/github/amaiya/ktrain/blob/master/tutorials/tutorial-A3-hugging_face_transformers.ipynb"
      ]
    },
    {
      "cell_type": "code",
      "metadata": {
        "id": "6qK6qLhIojfB",
        "colab_type": "code",
        "colab": {}
      },
      "source": [
        "from sklearn.model_selection import train_test_split"
      ],
      "execution_count": null,
      "outputs": []
    },
    {
      "cell_type": "code",
      "metadata": {
        "id": "UIBswa_6ojk8",
        "colab_type": "code",
        "colab": {
          "base_uri": "https://localhost:8080/",
          "height": 178
        },
        "outputId": "39190aec-857f-4b63-f7db-9b0c5c36f0c2"
      },
      "source": [
        "# X_train,X_valid, y_train, y_valid = train_test_split(df_train[maincol].to_numpy().ravel(),\n",
        "#                                                      df_train[target].to_numpy().ravel(),\n",
        "#                                                      random_state=SEED,\n",
        "#                                                      stratify=df_train[target])\n",
        "\n",
        "# MODEL_NAME = 'distilbert-base-uncased'\n",
        "# transformer = ktrain.text.Transformer(MODEL_NAME, maxlen=500,class_names=df_train[target].unique().tolist())\n",
        "\n",
        "# data_train = transformer.preprocess_train(X_train, y_train)\n",
        "# data_valid = transformer.preprocess_test(X_valid, y_valid)\n",
        "# model = transformer.get_classifier()\n",
        "# learner = ktrain.get_learner(model, train_data=data_train, val_data=data_valid, batch_size=6)\n",
        "\n",
        "# print(type(data_train))"
      ],
      "execution_count": null,
      "outputs": [
        {
          "output_type": "execute_result",
          "data": {
            "text/plain": [
              "array(['@Mahmoud_Abdou the apps in the App Store are suck and can’t even get one with full features apple',\n",
              "       'My girl loves apples #beautiful #autumn #apple #tree #nature #stückle #garden … https://www.instagram.com/p/BMe1vomhNJA/',\n",
              "       'Keeping my #music to my ear #pandora #iPhone #iTunes #Monica #MariahCarey #Beyonce #RnB #respect #aber http://instagr.am/p/S1JDd0tjnR/',\n",
              "       ...,\n",
              "       'RIP Steve Jobs..i now see why he retired a month ago but a sad day still #greatinventor',\n",
              "       'New ReallyReal v2.1 #Photobooth for #iphone #ipad #Dating - http://reallyreal.com/ #college #sorority picOvb0k pic.twitter.com/qVqnHniV1b',\n",
              "       '#Dogswell #Veggie #Life #Hips #Chicken & #Apple #Treats #for #Adult #Dogs, 5-Ounce… http://goo.gl/fb/CF7T8'],\n",
              "      dtype=object)"
            ]
          },
          "metadata": {
            "tags": []
          },
          "execution_count": 85
        }
      ]
    },
    {
      "cell_type": "markdown",
      "metadata": {
        "id": "S30peArWx6VU",
        "colab_type": "text"
      },
      "source": [
        "# Text Modelling: ktrain and bert\n",
        "\n",
        "name is one of:\n",
        "```\n",
        "'fasttext' 'nbsvm' 'logreg'  'bigru'  'bert' 'distilbert' \n",
        "```"
      ]
    },
    {
      "cell_type": "code",
      "metadata": {
        "id": "huQfNuqJypjv",
        "colab_type": "code",
        "colab": {}
      },
      "source": [
        "# ktrain.text.text_classifier?"
      ],
      "execution_count": null,
      "outputs": []
    },
    {
      "cell_type": "code",
      "metadata": {
        "id": "yQkgqYs0S5UL",
        "colab_type": "code",
        "colab": {
          "base_uri": "https://localhost:8080/",
          "height": 141
        },
        "outputId": "1da4211f-784c-4de4-e63c-38954f2c1f26"
      },
      "source": [
        "ktrain.text.print_text_classifiers()"
      ],
      "execution_count": null,
      "outputs": [
        {
          "output_type": "stream",
          "text": [
            "fasttext: a fastText-like model [http://arxiv.org/pdf/1607.01759.pdf]\n",
            "logreg: logistic regression using a trainable Embedding layer\n",
            "nbsvm: NBSVM model [http://www.aclweb.org/anthology/P12-2018]\n",
            "bigru: Bidirectional GRU with pretrained fasttext word vectors [https://fasttext.cc/docs/en/crawl-vectors.html]\n",
            "standard_gru: simple 2-layer GRU with randomly initialized embeddings\n",
            "bert: Bidirectional Encoder Representations from Transformers (BERT) [https://arxiv.org/abs/1810.04805]\n",
            "distilbert: distilled, smaller, and faster BERT from Hugging Face [https://arxiv.org/abs/1910.01108]\n"
          ],
          "name": "stdout"
        }
      ]
    },
    {
      "cell_type": "code",
      "metadata": {
        "id": "ExtUzyhRUNQy",
        "colab_type": "code",
        "colab": {}
      },
      "source": [
        "# [i for i in dir(model) if i[0]!='_']"
      ],
      "execution_count": null,
      "outputs": []
    },
    {
      "cell_type": "code",
      "metadata": {
        "id": "gBB-PjmWiJfv",
        "colab_type": "code",
        "colab": {}
      },
      "source": [
        "# [i for i in dir(learner) if i[0]!='_']"
      ],
      "execution_count": null,
      "outputs": []
    },
    {
      "cell_type": "code",
      "metadata": {
        "id": "aQymrGpIWNlD",
        "colab_type": "code",
        "colab": {}
      },
      "source": [
        "# # find good learning rate\n",
        "# learner.lr_find()             # briefly simulate training to find good learning rate\n",
        "# learner.lr_plot()             # visually identify best learning rate"
      ],
      "execution_count": null,
      "outputs": []
    },
    {
      "cell_type": "code",
      "metadata": {
        "id": "EP8XKzwGUkhg",
        "colab_type": "code",
        "colab": {
          "base_uri": "https://localhost:8080/",
          "height": 407
        },
        "outputId": "1eb0d72f-3baf-425e-bbab-cc1aa8a4f178"
      },
      "source": [
        "%%time\n",
        "learner.lr_find(show_plot=True, max_epochs=2)"
      ],
      "execution_count": null,
      "outputs": [
        {
          "output_type": "stream",
          "text": [
            "simulating training for different learning rates... this may take a few moments...\n",
            "Epoch 1/2\n",
            "1188/1188 [==============================] - 577s 485ms/step - loss: 0.1129 - accuracy: 0.9572\n",
            "\n",
            "\n",
            "done.\n",
            "Visually inspect loss plot and select learning rate associated with falling loss\n"
          ],
          "name": "stdout"
        },
        {
          "output_type": "display_data",
          "data": {
            "image/png": "[encoded data removed]",
            "text/plain": [
              "<Figure size 432x288 with 1 Axes>"
            ]
          },
          "metadata": {
            "tags": [],
            "needs_background": "light"
          }
        }
      ]
    },
    {
      "cell_type": "code",
      "metadata": {
        "id": "AjhlBS1PzsfP",
        "colab_type": "code",
        "colab": {
          "base_uri": "https://localhost:8080/",
          "height": 285
        },
        "outputId": "c012da1c-6428-49e0-d11d-87be588d1558"
      },
      "source": [
        "%%time\n",
        "# use gpu\n",
        "learner.fit_onecycle(lr=2e-5,epochs=4)"
      ],
      "execution_count": null,
      "outputs": [
        {
          "output_type": "stream",
          "text": [
            "\n",
            "\n",
            "begin training using onecycle policy with max lr of 2e-05...\n",
            "Epoch 1/4\n",
            "1188/1188 [==============================] - 583s 490ms/step - loss: 0.0167 - accuracy: 0.9952 - val_loss: 0.5181 - val_accuracy: 0.9028\n",
            "Epoch 2/4\n",
            "1188/1188 [==============================] - 574s 483ms/step - loss: 0.0369 - accuracy: 0.9871 - val_loss: 0.3018 - val_accuracy: 0.9104\n",
            "Epoch 3/4\n",
            "1188/1188 [==============================] - 573s 482ms/step - loss: 0.0329 - accuracy: 0.9879 - val_loss: 0.3500 - val_accuracy: 0.9104\n",
            "Epoch 4/4\n",
            "1188/1188 [==============================] - 573s 482ms/step - loss: 0.0050 - accuracy: 0.9983 - val_loss: 0.4698 - val_accuracy: 0.9066\n",
            "CPU times: user 43min 27s, sys: 5min 13s, total: 48min 40s\n",
            "Wall time: 38min 32s\n"
          ],
          "name": "stdout"
        },
        {
          "output_type": "execute_result",
          "data": {
            "text/plain": [
              "<tensorflow.python.keras.callbacks.History at 0x7fb0a01068d0>"
            ]
          },
          "metadata": {
            "tags": []
          },
          "execution_count": 35
        }
      ]
    },
    {
      "cell_type": "code",
      "metadata": {
        "id": "Z9XAaWiTzy93",
        "colab_type": "code",
        "colab": {
          "base_uri": "https://localhost:8080/",
          "height": 212
        },
        "outputId": "3ab93313-43aa-4931-b646-f760dd484ab0"
      },
      "source": [
        "learner.validate(val_data=(X_valid, y_valid))"
      ],
      "execution_count": null,
      "outputs": [
        {
          "output_type": "stream",
          "text": [
            "              precision    recall  f1-score   support\n",
            "\n",
            "           0       0.95      0.92      0.94       599\n",
            "           1       0.78      0.85      0.82       193\n",
            "\n",
            "    accuracy                           0.91       792\n",
            "   macro avg       0.87      0.89      0.88       792\n",
            "weighted avg       0.91      0.91      0.91       792\n",
            "\n"
          ],
          "name": "stdout"
        },
        {
          "output_type": "execute_result",
          "data": {
            "text/plain": [
              "array([[553,  46],\n",
              "       [ 28, 165]])"
            ]
          },
          "metadata": {
            "tags": []
          },
          "execution_count": 36
        }
      ]
    },
    {
      "cell_type": "code",
      "metadata": {
        "id": "5E21ZicNQDgG",
        "colab_type": "code",
        "colab": {
          "base_uri": "https://localhost:8080/",
          "height": 54
        },
        "outputId": "a27a77bf-ac6d-4d9b-b297-5430d2c45d49"
      },
      "source": [
        "print([i for i in dir(learner) if i[0]!='_'])"
      ],
      "execution_count": null,
      "outputs": [
        {
          "output_type": "stream",
          "text": [
            "['autofit', 'batch_size', 'eval_batch_size', 'evaluate', 'fit', 'fit_onecycle', 'freeze', 'get_weight_decay', 'ground_truth', 'history', 'layer_output', 'load_model', 'lr_estimate', 'lr_find', 'lr_finder', 'lr_plot', 'model', 'multigpu', 'plot', 'predict', 'print_layers', 'reset_weights', 'save_model', 'set_lr', 'set_model', 'set_weight_decay', 'top_losses', 'train_data', 'unfreeze', 'use_multiprocessing', 'val_data', 'validate', 'view_top_losses', 'workers']\n"
          ],
          "name": "stdout"
        }
      ]
    },
    {
      "cell_type": "code",
      "metadata": {
        "id": "IYEkJMffQZR_",
        "colab_type": "code",
        "colab": {
          "base_uri": "https://localhost:8080/",
          "height": 212
        },
        "outputId": "830c00a6-a2fd-4735-f6a7-5c56137f0c9e"
      },
      "source": [
        "learner.evaluate()"
      ],
      "execution_count": null,
      "outputs": [
        {
          "output_type": "stream",
          "text": [
            "              precision    recall  f1-score   support\n",
            "\n",
            "           0       0.96      0.94      0.95       599\n",
            "           1       0.82      0.87      0.84       193\n",
            "\n",
            "    accuracy                           0.92       792\n",
            "   macro avg       0.89      0.90      0.90       792\n",
            "weighted avg       0.92      0.92      0.92       792\n",
            "\n"
          ],
          "name": "stdout"
        },
        {
          "output_type": "execute_result",
          "data": {
            "text/plain": [
              "array([[563,  36],\n",
              "       [ 26, 167]])"
            ]
          },
          "metadata": {
            "tags": []
          },
          "execution_count": 23
        }
      ]
    },
    {
      "cell_type": "code",
      "metadata": {
        "id": "Wlay93-1QZV9",
        "colab_type": "code",
        "colab": {
          "base_uri": "https://localhost:8080/",
          "height": 294
        },
        "outputId": "e1d8c107-68af-47ff-ae2f-7f76bea14ea0"
      },
      "source": [
        "learner.plot()"
      ],
      "execution_count": null,
      "outputs": [
        {
          "output_type": "display_data",
          "data": {
            "image/png": "[encoded data removed]",
            "text/plain": [
              "<Figure size 432x288 with 1 Axes>"
            ]
          },
          "metadata": {
            "tags": [],
            "needs_background": "light"
          }
        }
      ]
    },
    {
      "cell_type": "code",
      "metadata": {
        "id": "a9f5I1mfQtfx",
        "colab_type": "code",
        "colab": {
          "base_uri": "https://localhost:8080/",
          "height": 105
        },
        "outputId": "d0cd9f4f-ad4e-4780-cf07-a58b73967f89"
      },
      "source": [
        "valid_preds = learner.predict()\n",
        "len(valid_preds), df_train.shape, valid_preds[:5]"
      ],
      "execution_count": null,
      "outputs": [
        {
          "output_type": "execute_result",
          "data": {
            "text/plain": [
              "(792, (7920, 2), array([[9.9998856e-01, 1.1439688e-05],\n",
              "        [9.9998355e-01, 1.6401149e-05],\n",
              "        [9.9999571e-01, 4.2624361e-06],\n",
              "        [9.9999678e-01, 3.2307878e-06],\n",
              "        [9.9998748e-01, 1.2558288e-05]], dtype=float32))"
            ]
          },
          "metadata": {
            "tags": []
          },
          "execution_count": 49
        }
      ]
    },
    {
      "cell_type": "markdown",
      "metadata": {
        "id": "FsMBChxhz47P",
        "colab_type": "text"
      },
      "source": [
        "# Model Prediction on Test data using ktrain"
      ]
    },
    {
      "cell_type": "code",
      "metadata": {
        "id": "RcMwwYZRmaWw",
        "colab_type": "code",
        "colab": {}
      },
      "source": [
        "# ktrain.get_predictor?"
      ],
      "execution_count": null,
      "outputs": []
    },
    {
      "cell_type": "code",
      "metadata": {
        "id": "QDoWI5760EjO",
        "colab_type": "code",
        "colab": {}
      },
      "source": [
        "predictor = ktrain.get_predictor(learner.model, preproc)"
      ],
      "execution_count": null,
      "outputs": []
    },
    {
      "cell_type": "code",
      "metadata": {
        "id": "7j3RQm3nmfQ5",
        "colab_type": "code",
        "colab": {
          "base_uri": "https://localhost:8080/",
          "height": 194
        },
        "outputId": "5a885d2d-b30f-4f3b-f011-7e25d8bec7f9"
      },
      "source": [
        "[i for i in dir(predictor) if i[0]!='_']"
      ],
      "execution_count": null,
      "outputs": [
        {
          "output_type": "execute_result",
          "data": {
            "text/plain": [
              "['analyze_valid',\n",
              " 'batch_size',\n",
              " 'c',\n",
              " 'explain',\n",
              " 'get_classes',\n",
              " 'model',\n",
              " 'predict',\n",
              " 'predict_proba',\n",
              " 'preproc',\n",
              " 'save']"
            ]
          },
          "metadata": {
            "tags": []
          },
          "execution_count": 71
        }
      ]
    },
    {
      "cell_type": "code",
      "metadata": {
        "id": "Ps35Nt6A02_A",
        "colab_type": "code",
        "colab": {
          "base_uri": "https://localhost:8080/",
          "height": 34
        },
        "outputId": "67ba146e-4ad1-4e7a-8c06-3ad49fe80f47"
      },
      "source": [
        "predictor.get_classes()"
      ],
      "execution_count": null,
      "outputs": [
        {
          "output_type": "execute_result",
          "data": {
            "text/plain": [
              "['not_label', 'label']"
            ]
          },
          "metadata": {
            "tags": []
          },
          "execution_count": 51
        }
      ]
    },
    {
      "cell_type": "code",
      "metadata": {
        "id": "sbAxoSIcnaph",
        "colab_type": "code",
        "colab": {
          "base_uri": "https://localhost:8080/",
          "height": 34
        },
        "outputId": "242a77a7-1267-40ed-863f-943a226ee62d"
      },
      "source": [
        "df_train['label'].unique()"
      ],
      "execution_count": null,
      "outputs": [
        {
          "output_type": "execute_result",
          "data": {
            "text/plain": [
              "array([0, 1])"
            ]
          },
          "metadata": {
            "tags": []
          },
          "execution_count": 73
        }
      ]
    },
    {
      "cell_type": "code",
      "metadata": {
        "id": "TwQwYD_Fnjjd",
        "colab_type": "code",
        "colab": {}
      },
      "source": [
        "# we have actually labels 0 and 1 but ktrain gives not_label and label\n",
        "# 0 is not_label\n",
        "# 1 is label"
      ],
      "execution_count": null,
      "outputs": []
    },
    {
      "cell_type": "code",
      "metadata": {
        "id": "IYpgADlHA-Qv",
        "colab_type": "code",
        "colab": {
          "base_uri": "https://localhost:8080/",
          "height": 35
        },
        "outputId": "ab4f06f2-f2dc-4005-9890-dfd60c855639"
      },
      "source": [
        "one_sent = df_test[maincol][0]\n",
        "one_sent"
      ],
      "execution_count": null,
      "outputs": [
        {
          "output_type": "execute_result",
          "data": {
            "application/vnd.google.colaboratory.intrinsic+json": {
              "type": "string"
            },
            "text/plain": [
              "\"I hate the new #iphone upgrade. Won't let me download apps. #ugh #apple sucks\""
            ]
          },
          "metadata": {
            "tags": []
          },
          "execution_count": 52
        }
      ]
    },
    {
      "cell_type": "code",
      "metadata": {
        "id": "J6GVKujOBih5",
        "colab_type": "code",
        "colab": {
          "base_uri": "https://localhost:8080/",
          "height": 35
        },
        "outputId": "3e73f3e5-f36a-4c74-98e6-c28b19442771"
      },
      "source": [
        "predictor.predict(one_sent)"
      ],
      "execution_count": null,
      "outputs": [
        {
          "output_type": "display_data",
          "data": {
            "text/html": [
              ""
            ],
            "text/plain": [
              "<IPython.core.display.HTML object>"
            ]
          },
          "metadata": {
            "tags": []
          }
        },
        {
          "output_type": "execute_result",
          "data": {
            "application/vnd.google.colaboratory.intrinsic+json": {
              "type": "string"
            },
            "text/plain": [
              "'label'"
            ]
          },
          "metadata": {
            "tags": []
          },
          "execution_count": 53
        }
      ]
    },
    {
      "cell_type": "code",
      "metadata": {
        "id": "GJ8royuwU9nH",
        "colab_type": "code",
        "colab": {
          "base_uri": "https://localhost:8080/",
          "height": 166
        },
        "outputId": "8bc3757f-3089-45b4-d348-be61e23c9cb7"
      },
      "source": [
        "predictor.explain(one_sent)"
      ],
      "execution_count": null,
      "outputs": [
        {
          "output_type": "display_data",
          "data": {
            "text/html": [
              ""
            ],
            "text/plain": [
              "<IPython.core.display.HTML object>"
            ]
          },
          "metadata": {
            "tags": []
          }
        },
        {
          "output_type": "display_data",
          "data": {
            "text/html": [
              ""
            ],
            "text/plain": [
              "<IPython.core.display.HTML object>"
            ]
          },
          "metadata": {
            "tags": []
          }
        },
        {
          "output_type": "execute_result",
          "data": {
            "text/html": [
              "\n",
              "    <style>\n",
              "    table.eli5-weights tr:hover {\n",
              "        filter: brightness(85%);\n",
              "    }\n",
              "</style>\n",
              "\n",
              "\n",
              "\n",
              "    \n",
              "\n",
              "    \n",
              "\n",
              "    \n",
              "\n",
              "    \n",
              "\n",
              "    \n",
              "\n",
              "    \n",
              "\n",
              "\n",
              "    \n",
              "\n",
              "    \n",
              "\n",
              "    \n",
              "\n",
              "    \n",
              "        \n",
              "\n",
              "    \n",
              "\n",
              "        \n",
              "\n",
              "        \n",
              "    \n",
              "        \n",
              "        \n",
              "    \n",
              "        <p style=\"margin-bottom: 0.5em; margin-top: 0em\">\n",
              "            <b>\n",
              "    \n",
              "        y=label\n",
              "    \n",
              "</b>\n",
              "\n",
              "    \n",
              "    (probability <b>1.000</b>, score <b>13.036</b>)\n",
              "\n",
              "top features\n",
              "        </p>\n",
              "    \n",
              "    <table class=\"eli5-weights\"\n",
              "           style=\"border-collapse: collapse; border: none; margin-top: 0em; table-layout: auto; margin-bottom: 2em;\">\n",
              "        <thead>\n",
              "        <tr style=\"border: none;\">\n",
              "            \n",
              "                <th style=\"padding: 0 1em 0 0.5em; text-align: right; border: none;\" title=\"Feature contribution already accounts for the feature value (for linear models, contribution = weight * feature value), and the sum of feature contributions is equal to the score or, for some classifiers, to the probability. Feature values are shown if &quot;show_feature_values&quot; is True.\">\n",
              "                    Contribution<sup>?</sup>\n",
              "                </th>\n",
              "            \n",
              "            <th style=\"padding: 0 0.5em 0 0.5em; text-align: left; border: none;\">Feature</th>\n",
              "            \n",
              "        </tr>\n",
              "        </thead>\n",
              "        <tbody>\n",
              "        \n",
              "            <tr style=\"background-color: hsl(120, 100.00%, 80.00%); border: none;\">\n",
              "    <td style=\"padding: 0 1em 0 0.5em; text-align: right; border: none;\">\n",
              "        +13.675\n",
              "    </td>\n",
              "    <td style=\"padding: 0 0.5em 0 0.5em; text-align: left; border: none;\">\n",
              "        Highlighted in text (sum)\n",
              "    </td>\n",
              "    \n",
              "</tr>\n",
              "        \n",
              "        \n",
              "\n",
              "        \n",
              "        \n",
              "            <tr style=\"background-color: hsl(0, 100.00%, 97.66%); border: none;\">\n",
              "    <td style=\"padding: 0 1em 0 0.5em; text-align: right; border: none;\">\n",
              "        -0.639\n",
              "    </td>\n",
              "    <td style=\"padding: 0 0.5em 0 0.5em; text-align: left; border: none;\">\n",
              "        &lt;BIAS&gt;\n",
              "    </td>\n",
              "    \n",
              "</tr>\n",
              "        \n",
              "\n",
              "        </tbody>\n",
              "    </table>\n",
              "\n",
              "    \n",
              "\n",
              "\n",
              "\n",
              "    <p style=\"margin-bottom: 2.5em; margin-top:-0.5em;\">\n",
              "        <span style=\"background-color: hsl(120, 100.00%, 83.88%); opacity: 0.85\" title=\"0.937\">i</span><span style=\"opacity: 0.80\"> </span><span style=\"background-color: hsl(120, 100.00%, 61.20%); opacity: 0.99\" title=\"3.285\">hate</span><span style=\"opacity: 0.80\"> </span><span style=\"background-color: hsl(120, 100.00%, 85.13%); opacity: 0.85\" title=\"0.835\">the</span><span style=\"opacity: 0.80\"> </span><span style=\"background-color: hsl(120, 100.00%, 99.61%); opacity: 0.80\" title=\"0.005\">new</span><span style=\"opacity: 0.80\"> #</span><span style=\"background-color: hsl(120, 100.00%, 89.64%); opacity: 0.83\" title=\"0.498\">iphone</span><span style=\"opacity: 0.80\"> </span><span style=\"background-color: hsl(120, 100.00%, 84.37%); opacity: 0.85\" title=\"0.896\">upgrade</span><span style=\"opacity: 0.80\">. </span><span style=\"background-color: hsl(120, 100.00%, 73.39%); opacity: 0.91\" title=\"1.917\">won</span><span style=\"opacity: 0.80\">&#x27;</span><span style=\"background-color: hsl(120, 100.00%, 68.17%); opacity: 0.94\" title=\"2.476\">t</span><span style=\"opacity: 0.80\"> </span><span style=\"background-color: hsl(120, 100.00%, 79.75%); opacity: 0.88\" title=\"1.298\">let</span><span style=\"opacity: 0.80\"> </span><span style=\"background-color: hsl(120, 100.00%, 85.48%); opacity: 0.85\" title=\"0.807\">me</span><span style=\"opacity: 0.80\"> </span><span style=\"background-color: hsl(120, 100.00%, 85.21%); opacity: 0.85\" title=\"0.829\">download</span><span style=\"opacity: 0.80\"> </span><span style=\"background-color: hsl(0, 100.00%, 92.17%); opacity: 0.82\" title=\"-0.334\">apps</span><span style=\"opacity: 0.80\">. #</span><span style=\"background-color: hsl(120, 100.00%, 80.03%); opacity: 0.87\" title=\"1.272\">ugh</span><span style=\"opacity: 0.80\"> #</span><span style=\"background-color: hsl(120, 100.00%, 78.97%); opacity: 0.88\" title=\"1.369\">apple</span><span style=\"opacity: 0.80\"> </span><span style=\"background-color: hsl(120, 100.00%, 60.00%); opacity: 1.00\" title=\"3.431\">sucks</span>\n",
              "    </p>\n",
              "\n",
              "\n",
              "    \n",
              "\n",
              "    \n",
              "\n",
              "    \n",
              "\n",
              "    \n",
              "\n",
              "\n",
              "    \n",
              "\n",
              "    \n",
              "\n",
              "    \n",
              "\n",
              "    \n",
              "\n",
              "    \n",
              "\n",
              "    \n",
              "\n",
              "\n",
              "    \n",
              "\n",
              "    \n",
              "\n",
              "    \n",
              "\n",
              "    \n",
              "\n",
              "    \n",
              "\n",
              "    \n",
              "\n",
              "\n",
              "\n"
            ],
            "text/plain": [
              "<IPython.core.display.HTML object>"
            ]
          },
          "metadata": {
            "tags": []
          },
          "execution_count": 57
        }
      ]
    },
    {
      "cell_type": "code",
      "metadata": {
        "id": "K4gpOhy705Hf",
        "colab_type": "code",
        "colab": {}
      },
      "source": [
        "X_test = df_test[maincol].to_numpy()"
      ],
      "execution_count": null,
      "outputs": []
    },
    {
      "cell_type": "code",
      "metadata": {
        "id": "CnZLXcaC1haS",
        "colab_type": "code",
        "colab": {
          "base_uri": "https://localhost:8080/",
          "height": 16
        },
        "outputId": "eabefdb1-2faf-4536-e7df-aec7706ca50b"
      },
      "source": [
        "test_preds = predictor.predict(X_test,return_proba=False)"
      ],
      "execution_count": null,
      "outputs": [
        {
          "output_type": "display_data",
          "data": {
            "text/html": [
              ""
            ],
            "text/plain": [
              "<IPython.core.display.HTML object>"
            ]
          },
          "metadata": {
            "tags": []
          }
        }
      ]
    },
    {
      "cell_type": "code",
      "metadata": {
        "id": "w7ElvoNy2aOQ",
        "colab_type": "code",
        "colab": {}
      },
      "source": [
        "df_test[target] = test_preds"
      ],
      "execution_count": null,
      "outputs": []
    },
    {
      "cell_type": "code",
      "metadata": {
        "id": "lzd6Nm0r2iIt",
        "colab_type": "code",
        "colab": {
          "base_uri": "https://localhost:8080/",
          "height": 143
        },
        "outputId": "617a9bd8-a2a3-461f-b8ef-8c6673bd2ab9"
      },
      "source": [
        "df_sub = df_test[['id','label']]\n",
        "df_sub['label'] = df_sub['label'].replace({'not_label': 0, 'label': 1})\n",
        "df_sub.to_csv('sub_ktrain_default.csv', index=False)"
      ],
      "execution_count": null,
      "outputs": [
        {
          "output_type": "stream",
          "text": [
            "/usr/local/lib/python3.6/dist-packages/ipykernel_launcher.py:2: SettingWithCopyWarning: \n",
            "A value is trying to be set on a copy of a slice from a DataFrame.\n",
            "Try using .loc[row_indexer,col_indexer] = value instead\n",
            "\n",
            "See the caveats in the documentation: https://pandas.pydata.org/pandas-docs/stable/user_guide/indexing.html#returning-a-view-versus-a-copy\n",
            "  \n"
          ],
          "name": "stderr"
        }
      ]
    },
    {
      "cell_type": "code",
      "metadata": {
        "id": "JPmzOsAW2tOG",
        "colab_type": "code",
        "colab": {
          "base_uri": "https://localhost:8080/",
          "height": 52
        },
        "outputId": "8faea866-a538-4b01-9c62-f65296e5c5ab"
      },
      "source": [
        "!tail -2 sub_ktrain_default.csv"
      ],
      "execution_count": null,
      "outputs": [
        {
          "output_type": "stream",
          "text": [
            "9872,0\n",
            "9873,0\n"
          ],
          "name": "stdout"
        }
      ]
    }
  ]
}