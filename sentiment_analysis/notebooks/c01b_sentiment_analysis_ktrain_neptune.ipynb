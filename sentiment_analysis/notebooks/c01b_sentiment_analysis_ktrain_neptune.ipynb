{
  "nbformat": 4,
  "nbformat_minor": 0,
  "metadata": {
    "colab": {
      "name": "c01b_sentiment_analysis_ktrain_neptune.ipynb",
      "provenance": [],
      "collapsed_sections": []
    },
    "kernelspec": {
      "name": "python3",
      "display_name": "Python 3"
    },
    "accelerator": "GPU"
  },
  "cells": [
    {
      "cell_type": "markdown",
      "metadata": {
        "id": "MBcRis_Eqlcp",
        "colab_type": "text"
      },
      "source": [
        "# Descriptions\n",
        "Ref:  \n",
        "- [module: ktrain](https://github.com/amaiya/ktrain)\n",
        "\n",
        "- BERT stands for Bidirectional Encoder Representations from Transformers\n",
        "- BERT was developed by researchers at Google in 2018\n",
        "- BERT is a text representation technique like Word Embeddings."
      ]
    },
    {
      "cell_type": "markdown",
      "metadata": {
        "id": "pD2fbcXzywYE",
        "colab_type": "text"
      },
      "source": [
        "# Google Colab"
      ]
    },
    {
      "cell_type": "code",
      "metadata": {
        "id": "TnnS6ZIPgQuy",
        "colab_type": "code",
        "colab": {}
      },
      "source": [
        "%%capture\n",
        "# capture will not print in notebook\n",
        "\n",
        "import os\n",
        "import sys\n",
        "ENV_COLAB = 'google.colab' in sys.modules\n",
        "\n",
        "if ENV_COLAB:\n",
        "    ## install modules\n",
        "    !pip install -q ktrain\n",
        "    !pip install -q git+https://github.com/amaiya/eli5@tfkeras_0_10_1\n",
        "    !pip install -q neptune-client neptune-contrib\n",
        "    !pip install -q scikit-plot\n",
        "\n",
        "    ## print\n",
        "    print('Environment: Google Colaboratory.')\n",
        "\n",
        "# NOTE: If we update modules in gcolab, we need to restart runtime."
      ],
      "execution_count": 1,
      "outputs": []
    },
    {
      "cell_type": "code",
      "metadata": {
        "id": "YlekYkTPn1-V",
        "colab_type": "code",
        "colab": {
          "base_uri": "https://localhost:8080/",
          "height": 34
        },
        "outputId": "38299351-d059-475d-ca29-6703d4c7b97c"
      },
      "source": [
        "import tensorflow as tf\n",
        "import ktrain\n",
        "\n",
        "from pprint import pprint\n",
        "\n",
        "versions_dl = [(x.__name__,x.__version__) for x in [tf, ktrain]]\n",
        "pprint(versions_dl)"
      ],
      "execution_count": 14,
      "outputs": [
        {
          "output_type": "stream",
          "text": [
            "[('tensorflow', '2.3.0'), ('ktrain', '0.21.2')]\n"
          ],
          "name": "stdout"
        }
      ]
    },
    {
      "cell_type": "code",
      "metadata": {
        "id": "k4V3Djet-Gc7",
        "colab_type": "code",
        "colab": {}
      },
      "source": [
        "import neptune\n",
        "from neptunecontrib.api import log_table"
      ],
      "execution_count": 3,
      "outputs": []
    },
    {
      "cell_type": "code",
      "metadata": {
        "id": "KWFr1c_G-IgY",
        "colab_type": "code",
        "colab": {}
      },
      "source": [
        "# use your real key and DELETE the cell\n",
        "\n",
        "# neptune.init('bhishanpdl/twitter-sentiment-analysis','your_api_key')"
      ],
      "execution_count": 4,
      "outputs": []
    },
    {
      "cell_type": "code",
      "metadata": {
        "id": "D8UuCIYd_fVR",
        "colab_type": "code",
        "colab": {
          "base_uri": "https://localhost:8080/",
          "height": 52
        },
        "outputId": "c8aca917-5018-4c68-ff48-acc58941fa88"
      },
      "source": [
        "neptune.create_experiment(\n",
        "    name='ktrain', # put small name\n",
        "    description='',\n",
        "    tags = ['ktrain', 'bert'],\n",
        "    upload_source_files=None\n",
        ")"
      ],
      "execution_count": 15,
      "outputs": [
        {
          "output_type": "stream",
          "text": [
            "https://ui.neptune.ai/bhishanpdl/twitter-sentiment-analysis/e/TWITSENT-11\n"
          ],
          "name": "stdout"
        },
        {
          "output_type": "execute_result",
          "data": {
            "text/plain": [
              "Experiment(TWITSENT-11)"
            ]
          },
          "metadata": {
            "tags": []
          },
          "execution_count": 15
        }
      ]
    },
    {
      "cell_type": "code",
      "metadata": {
        "id": "hNh7rXsf_5tg",
        "colab_type": "code",
        "colab": {}
      },
      "source": [
        "neptune.log_text('versions_dl', str(versions_dl))"
      ],
      "execution_count": 17,
      "outputs": []
    },
    {
      "cell_type": "markdown",
      "metadata": {
        "id": "fD0Nuj24ylsk",
        "colab_type": "text"
      },
      "source": [
        "# Load the libraries"
      ]
    },
    {
      "cell_type": "code",
      "metadata": {
        "id": "E6Um2nU7yYW9",
        "colab_type": "code",
        "colab": {
          "base_uri": "https://localhost:8080/",
          "height": 34
        },
        "outputId": "cea1481b-2d86-4719-ebea-1375c8716120"
      },
      "source": [
        "import numpy as np\n",
        "import pandas as pd\n",
        "\n",
        "pd.set_option('max_colwidth',200)\n",
        "pd.set_option('max_columns',200)\n",
        "SEED = 100\n",
        "\n",
        "import sys\n",
        "import re\n",
        "from tqdm import tqdm\n",
        "tqdm.pandas()\n",
        "\n",
        "versions_ds = [(x.__name__,x.__version__) for x in [np,pd]]\n",
        "pprint(versions_ds)"
      ],
      "execution_count": 18,
      "outputs": [
        {
          "output_type": "stream",
          "text": [
            "[('numpy', '1.18.5'), ('pandas', '1.0.5')]\n"
          ],
          "name": "stdout"
        }
      ]
    },
    {
      "cell_type": "code",
      "metadata": {
        "id": "RgLddxmnAPHf",
        "colab_type": "code",
        "colab": {}
      },
      "source": [
        "neptune.log_text('versions_ds', str(versions_ds))"
      ],
      "execution_count": 19,
      "outputs": []
    },
    {
      "cell_type": "markdown",
      "metadata": {
        "id": "HKgRz7rOynlY",
        "colab_type": "text"
      },
      "source": [
        "# Load the data"
      ]
    },
    {
      "cell_type": "code",
      "metadata": {
        "id": "C6jzFcvlzHCN",
        "colab_type": "code",
        "colab": {
          "base_uri": "https://localhost:8080/",
          "height": 640
        },
        "outputId": "55b5f8f3-45ee-4d3c-aecd-a9061afee0a9"
      },
      "source": [
        "target = 'label'\n",
        "maincol = 'tweet'\n",
        "\n",
        "p = 'https://github.com/bhishanpdl/Datasets/blob/master/AV_Hackathons/sentiment_analysis/processed/'\n",
        "df_combined = pd.read_csv(p + 'df_combined_clean.csv?raw=true')\n",
        "\n",
        "df_train = df_combined[~df_combined[target].isnull()]\n",
        "df_test = df_combined[df_combined[target].isnull()]\n",
        "\n",
        "print(f\"train : {df_train.shape}\")\n",
        "print(f\"test : {df_test.shape}\")\n",
        "display(df_train.head(2).append(df_train.tail(2)))"
      ],
      "execution_count": 11,
      "outputs": [
        {
          "output_type": "stream",
          "text": [
            "train : (7920, 24)\n",
            "test : (1953, 24)\n"
          ],
          "name": "stdout"
        },
        {
          "output_type": "display_data",
          "data": {
            "text/html": [
              "<div>\n",
              "<style scoped>\n",
              "    .dataframe tbody tr th:only-of-type {\n",
              "        vertical-align: middle;\n",
              "    }\n",
              "\n",
              "    .dataframe tbody tr th {\n",
              "        vertical-align: top;\n",
              "    }\n",
              "\n",
              "    .dataframe thead th {\n",
              "        text-align: right;\n",
              "    }\n",
              "</style>\n",
              "<table border=\"1\" class=\"dataframe\">\n",
              "  <thead>\n",
              "    <tr style=\"text-align: right;\">\n",
              "      <th></th>\n",
              "      <th>index</th>\n",
              "      <th>id</th>\n",
              "      <th>label</th>\n",
              "      <th>tweet</th>\n",
              "      <th>tweet_lst_clean</th>\n",
              "      <th>tweet_clean</th>\n",
              "      <th>hashtags_lst</th>\n",
              "      <th>hashtags</th>\n",
              "      <th>total_length</th>\n",
              "      <th>num_words</th>\n",
              "      <th>num_sent</th>\n",
              "      <th>num_unique_words</th>\n",
              "      <th>num_words_title</th>\n",
              "      <th>num_uppercase</th>\n",
              "      <th>num_exclamation_marks</th>\n",
              "      <th>num_question_marks</th>\n",
              "      <th>num_punctuation</th>\n",
              "      <th>num_symbols</th>\n",
              "      <th>num_digits</th>\n",
              "      <th>avg_word_len</th>\n",
              "      <th>avg_uppercase</th>\n",
              "      <th>avg_unique</th>\n",
              "      <th>tweet_lst_clean_emoji</th>\n",
              "      <th>tweet_clean_emoji</th>\n",
              "    </tr>\n",
              "  </thead>\n",
              "  <tbody>\n",
              "    <tr>\n",
              "      <th>0</th>\n",
              "      <td>0</td>\n",
              "      <td>1</td>\n",
              "      <td>0.0</td>\n",
              "      <td>#fingerprint #Pregnancy Test https://goo.gl/h1MfQV #android #apps #beautiful #cute #health #igers #iphoneonly #iphonesia #iphone</td>\n",
              "      <td>['fingerprint', 'pregnancy', 'test', 'android', 'aps', 'beautiful', 'cute', 'health', 'igers', 'iphoneonly', 'iphonesia', 'iphone']</td>\n",
              "      <td>fingerprint pregnancy test android aps beautiful cute health igers iphoneonly iphonesia iphone</td>\n",
              "      <td>['#fingerprint', '#Pregnancy', '#android', '#apps', '#beautiful', '#cute', '#health', '#igers', '#iphoneonly', '#iphonesia', '#iphone']</td>\n",
              "      <td>#fingerprint #Pregnancy #android #apps #beautiful #cute #health #igers #iphoneonly #iphonesia #iphone</td>\n",
              "      <td>128</td>\n",
              "      <td>13</td>\n",
              "      <td>1</td>\n",
              "      <td>13</td>\n",
              "      <td>2</td>\n",
              "      <td>5</td>\n",
              "      <td>0</td>\n",
              "      <td>0</td>\n",
              "      <td>2</td>\n",
              "      <td>0</td>\n",
              "      <td>0</td>\n",
              "      <td>8.923077</td>\n",
              "      <td>0.039062</td>\n",
              "      <td>1.0</td>\n",
              "      <td>['fingerprint', 'pregnancy', 'test', 'android', 'aps', 'beautiful', 'cute', 'health', 'iger', 'iphone', 'iphones', 'iphone']</td>\n",
              "      <td>fingerprint pregnancy test android aps beautiful cute health iger iphone iphones iphone</td>\n",
              "    </tr>\n",
              "    <tr>\n",
              "      <th>1</th>\n",
              "      <td>1</td>\n",
              "      <td>2</td>\n",
              "      <td>0.0</td>\n",
              "      <td>Finally a transparant silicon case ^^ Thanks to my uncle :) #yay #Sony #Xperia #S #sonyexperias… http://instagram.com/p/YGEt5JC6JM/</td>\n",
              "      <td>['finaly', 'transparant', 'silicon', 'case', 'thanks', 'uncle', 'yay', 'sony', 'xperia', 'sonyexperias']</td>\n",
              "      <td>finaly transparant silicon case thanks uncle yay sony xperia sonyexperias</td>\n",
              "      <td>['#yay', '#Sony', '#Xperia', '#S', '#sonyexperias…']</td>\n",
              "      <td>#yay #Sony #Xperia #S #sonyexperias…</td>\n",
              "      <td>131</td>\n",
              "      <td>17</td>\n",
              "      <td>1</td>\n",
              "      <td>17</td>\n",
              "      <td>5</td>\n",
              "      <td>12</td>\n",
              "      <td>0</td>\n",
              "      <td>0</td>\n",
              "      <td>3</td>\n",
              "      <td>0</td>\n",
              "      <td>0</td>\n",
              "      <td>6.764706</td>\n",
              "      <td>0.091603</td>\n",
              "      <td>1.0</td>\n",
              "      <td>['finaly', 'trans', 'paran', 'silicon', 'case', 'thanks', 'uncle', 'yay', 'sony', 'x', 'peri', 'sony', 'ex', 'peri']</td>\n",
              "      <td>finaly trans paran silicon case thanks uncle yay sony x peri sony ex peri</td>\n",
              "    </tr>\n",
              "    <tr>\n",
              "      <th>7918</th>\n",
              "      <td>7918</td>\n",
              "      <td>7919</td>\n",
              "      <td>0.0</td>\n",
              "      <td>Finally got my #smart #pocket #wifi stay connected anytime,anywhere! #ipad and #samsung #s3 #gadget # http://instagr.am/p/U-53G_vJU8/</td>\n",
              "      <td>['finaly', 'got', 'smart', 'pocket', 'wifi', 'stay', 'conected', 'anytimeanywhere', 'ipad', 'samsung', 'gadget']</td>\n",
              "      <td>finaly got smart pocket wifi stay conected anytimeanywhere ipad samsung gadget</td>\n",
              "      <td>['#smart', '#pocket', '#wifi', '#ipad', '#samsung', '#s3', '#gadget', '#']</td>\n",
              "      <td>#smart #pocket #wifi #ipad #samsung #s3 #gadget #</td>\n",
              "      <td>133</td>\n",
              "      <td>16</td>\n",
              "      <td>1</td>\n",
              "      <td>16</td>\n",
              "      <td>1</td>\n",
              "      <td>5</td>\n",
              "      <td>1</td>\n",
              "      <td>0</td>\n",
              "      <td>3</td>\n",
              "      <td>0</td>\n",
              "      <td>0</td>\n",
              "      <td>7.375000</td>\n",
              "      <td>0.037594</td>\n",
              "      <td>1.0</td>\n",
              "      <td>['finaly', 'got', 'smart', 'pocket', 'wi', 'fi', 'stay', 'conected', 'anytime', 'anywhere', 'ipad', 'samsung', 'gadget']</td>\n",
              "      <td>finaly got smart pocket wi fi stay conected anytime anywhere ipad samsung gadget</td>\n",
              "    </tr>\n",
              "    <tr>\n",
              "      <th>7919</th>\n",
              "      <td>7919</td>\n",
              "      <td>7920</td>\n",
              "      <td>0.0</td>\n",
              "      <td>Apple Barcelona!!! #Apple #Store #BCN #Barcelona #travel #iphone #selfie #fly #fun #cabincrew… http://instagram.com/p/wBApVzpCl3/</td>\n",
              "      <td>['aple', 'barcelona', 'aple', 'store', 'bcn', 'barcelona', 'travel', 'iphone', 'selfie', 'fly', 'fun', 'cabincrew']</td>\n",
              "      <td>aple barcelona aple store bcn barcelona travel iphone selfie fly fun cabincrew</td>\n",
              "      <td>['#Apple', '#Store', '#BCN', '#Barcelona', '#travel', '#iphone', '#selfie', '#fly', '#fun', '#cabincrew…']</td>\n",
              "      <td>#Apple #Store #BCN #Barcelona #travel #iphone #selfie #fly #fun #cabincrew…</td>\n",
              "      <td>129</td>\n",
              "      <td>13</td>\n",
              "      <td>1</td>\n",
              "      <td>13</td>\n",
              "      <td>5</td>\n",
              "      <td>12</td>\n",
              "      <td>3</td>\n",
              "      <td>0</td>\n",
              "      <td>2</td>\n",
              "      <td>0</td>\n",
              "      <td>0</td>\n",
              "      <td>9.000000</td>\n",
              "      <td>0.093023</td>\n",
              "      <td>1.0</td>\n",
              "      <td>['aple', 'barcelona', 'aple', 'store', 'n', 'barcelona', 'travel', 'iphone', 'self', 'ie', 'fly', 'fun', 'cabin', 'crew']</td>\n",
              "      <td>aple barcelona aple store n barcelona travel iphone self ie fly fun cabin crew</td>\n",
              "    </tr>\n",
              "  </tbody>\n",
              "</table>\n",
              "</div>"
            ],
            "text/plain": [
              "      index    id  label  \\\n",
              "0         0     1    0.0   \n",
              "1         1     2    0.0   \n",
              "7918   7918  7919    0.0   \n",
              "7919   7919  7920    0.0   \n",
              "\n",
              "                                                                                                                                      tweet  \\\n",
              "0          #fingerprint #Pregnancy Test https://goo.gl/h1MfQV #android #apps #beautiful #cute #health #igers #iphoneonly #iphonesia #iphone   \n",
              "1       Finally a transparant silicon case ^^ Thanks to my uncle :) #yay #Sony #Xperia #S #sonyexperias… http://instagram.com/p/YGEt5JC6JM/   \n",
              "7918  Finally got my #smart #pocket #wifi stay connected anytime,anywhere! #ipad and #samsung #s3 #gadget # http://instagr.am/p/U-53G_vJU8/   \n",
              "7919      Apple Barcelona!!! #Apple #Store #BCN #Barcelona #travel #iphone #selfie #fly #fun #cabincrew… http://instagram.com/p/wBApVzpCl3/   \n",
              "\n",
              "                                                                                                                          tweet_lst_clean  \\\n",
              "0     ['fingerprint', 'pregnancy', 'test', 'android', 'aps', 'beautiful', 'cute', 'health', 'igers', 'iphoneonly', 'iphonesia', 'iphone']   \n",
              "1                                ['finaly', 'transparant', 'silicon', 'case', 'thanks', 'uncle', 'yay', 'sony', 'xperia', 'sonyexperias']   \n",
              "7918                     ['finaly', 'got', 'smart', 'pocket', 'wifi', 'stay', 'conected', 'anytimeanywhere', 'ipad', 'samsung', 'gadget']   \n",
              "7919                  ['aple', 'barcelona', 'aple', 'store', 'bcn', 'barcelona', 'travel', 'iphone', 'selfie', 'fly', 'fun', 'cabincrew']   \n",
              "\n",
              "                                                                                         tweet_clean  \\\n",
              "0     fingerprint pregnancy test android aps beautiful cute health igers iphoneonly iphonesia iphone   \n",
              "1                          finaly transparant silicon case thanks uncle yay sony xperia sonyexperias   \n",
              "7918                  finaly got smart pocket wifi stay conected anytimeanywhere ipad samsung gadget   \n",
              "7919                  aple barcelona aple store bcn barcelona travel iphone selfie fly fun cabincrew   \n",
              "\n",
              "                                                                                                                                 hashtags_lst  \\\n",
              "0     ['#fingerprint', '#Pregnancy', '#android', '#apps', '#beautiful', '#cute', '#health', '#igers', '#iphoneonly', '#iphonesia', '#iphone']   \n",
              "1                                                                                        ['#yay', '#Sony', '#Xperia', '#S', '#sonyexperias…']   \n",
              "7918                                                               ['#smart', '#pocket', '#wifi', '#ipad', '#samsung', '#s3', '#gadget', '#']   \n",
              "7919                               ['#Apple', '#Store', '#BCN', '#Barcelona', '#travel', '#iphone', '#selfie', '#fly', '#fun', '#cabincrew…']   \n",
              "\n",
              "                                                                                                   hashtags  \\\n",
              "0     #fingerprint #Pregnancy #android #apps #beautiful #cute #health #igers #iphoneonly #iphonesia #iphone   \n",
              "1                                                                      #yay #Sony #Xperia #S #sonyexperias…   \n",
              "7918                                                      #smart #pocket #wifi #ipad #samsung #s3 #gadget #   \n",
              "7919                            #Apple #Store #BCN #Barcelona #travel #iphone #selfie #fly #fun #cabincrew…   \n",
              "\n",
              "      total_length  num_words  num_sent  num_unique_words  num_words_title  \\\n",
              "0              128         13         1                13                2   \n",
              "1              131         17         1                17                5   \n",
              "7918           133         16         1                16                1   \n",
              "7919           129         13         1                13                5   \n",
              "\n",
              "      num_uppercase  num_exclamation_marks  num_question_marks  \\\n",
              "0                 5                      0                   0   \n",
              "1                12                      0                   0   \n",
              "7918              5                      1                   0   \n",
              "7919             12                      3                   0   \n",
              "\n",
              "      num_punctuation  num_symbols  num_digits  avg_word_len  avg_uppercase  \\\n",
              "0                   2            0           0      8.923077       0.039062   \n",
              "1                   3            0           0      6.764706       0.091603   \n",
              "7918                3            0           0      7.375000       0.037594   \n",
              "7919                2            0           0      9.000000       0.093023   \n",
              "\n",
              "      avg_unique  \\\n",
              "0            1.0   \n",
              "1            1.0   \n",
              "7918         1.0   \n",
              "7919         1.0   \n",
              "\n",
              "                                                                                                             tweet_lst_clean_emoji  \\\n",
              "0     ['fingerprint', 'pregnancy', 'test', 'android', 'aps', 'beautiful', 'cute', 'health', 'iger', 'iphone', 'iphones', 'iphone']   \n",
              "1             ['finaly', 'trans', 'paran', 'silicon', 'case', 'thanks', 'uncle', 'yay', 'sony', 'x', 'peri', 'sony', 'ex', 'peri']   \n",
              "7918      ['finaly', 'got', 'smart', 'pocket', 'wi', 'fi', 'stay', 'conected', 'anytime', 'anywhere', 'ipad', 'samsung', 'gadget']   \n",
              "7919     ['aple', 'barcelona', 'aple', 'store', 'n', 'barcelona', 'travel', 'iphone', 'self', 'ie', 'fly', 'fun', 'cabin', 'crew']   \n",
              "\n",
              "                                                                            tweet_clean_emoji  \n",
              "0     fingerprint pregnancy test android aps beautiful cute health iger iphone iphones iphone  \n",
              "1                   finaly trans paran silicon case thanks uncle yay sony x peri sony ex peri  \n",
              "7918         finaly got smart pocket wi fi stay conected anytime anywhere ipad samsung gadget  \n",
              "7919           aple barcelona aple store n barcelona travel iphone self ie fly fun cabin crew  "
            ]
          },
          "metadata": {
            "tags": []
          }
        }
      ]
    },
    {
      "cell_type": "code",
      "metadata": {
        "id": "kMKpFZEaCOB5",
        "colab_type": "code",
        "colab": {
          "base_uri": "https://localhost:8080/",
          "height": 471
        },
        "outputId": "1b0f8f00-874c-4eb9-8e45-8a56dc393176"
      },
      "source": [
        "display(df_test.head(2).append(df_test.tail(2)))"
      ],
      "execution_count": 12,
      "outputs": [
        {
          "output_type": "display_data",
          "data": {
            "text/html": [
              "<div>\n",
              "<style scoped>\n",
              "    .dataframe tbody tr th:only-of-type {\n",
              "        vertical-align: middle;\n",
              "    }\n",
              "\n",
              "    .dataframe tbody tr th {\n",
              "        vertical-align: top;\n",
              "    }\n",
              "\n",
              "    .dataframe thead th {\n",
              "        text-align: right;\n",
              "    }\n",
              "</style>\n",
              "<table border=\"1\" class=\"dataframe\">\n",
              "  <thead>\n",
              "    <tr style=\"text-align: right;\">\n",
              "      <th></th>\n",
              "      <th>index</th>\n",
              "      <th>id</th>\n",
              "      <th>label</th>\n",
              "      <th>tweet</th>\n",
              "      <th>tweet_lst_clean</th>\n",
              "      <th>tweet_clean</th>\n",
              "      <th>hashtags_lst</th>\n",
              "      <th>hashtags</th>\n",
              "      <th>total_length</th>\n",
              "      <th>num_words</th>\n",
              "      <th>num_sent</th>\n",
              "      <th>num_unique_words</th>\n",
              "      <th>num_words_title</th>\n",
              "      <th>num_uppercase</th>\n",
              "      <th>num_exclamation_marks</th>\n",
              "      <th>num_question_marks</th>\n",
              "      <th>num_punctuation</th>\n",
              "      <th>num_symbols</th>\n",
              "      <th>num_digits</th>\n",
              "      <th>avg_word_len</th>\n",
              "      <th>avg_uppercase</th>\n",
              "      <th>avg_unique</th>\n",
              "      <th>tweet_lst_clean_emoji</th>\n",
              "      <th>tweet_clean_emoji</th>\n",
              "    </tr>\n",
              "  </thead>\n",
              "  <tbody>\n",
              "    <tr>\n",
              "      <th>7920</th>\n",
              "      <td>0</td>\n",
              "      <td>7921</td>\n",
              "      <td>NaN</td>\n",
              "      <td>I hate the new #iphone upgrade. Won't let me download apps. #ugh #apple sucks</td>\n",
              "      <td>['hate', 'new', 'iphone', 'upgrade', 'wil', 'let', 'download', 'aps', 'ugh', 'aple', 'suck']</td>\n",
              "      <td>hate new iphone upgrade wil let download aps ugh aple suck</td>\n",
              "      <td>['#iphone', '#ugh', '#apple']</td>\n",
              "      <td>#iphone #ugh #apple</td>\n",
              "      <td>77</td>\n",
              "      <td>14</td>\n",
              "      <td>1</td>\n",
              "      <td>14</td>\n",
              "      <td>1</td>\n",
              "      <td>2</td>\n",
              "      <td>0</td>\n",
              "      <td>0</td>\n",
              "      <td>2</td>\n",
              "      <td>0</td>\n",
              "      <td>0</td>\n",
              "      <td>4.571429</td>\n",
              "      <td>0.025974</td>\n",
              "      <td>1.000000</td>\n",
              "      <td>['hate', 'new', 'iphone', 'upgrade', 'wil', 'let', 'download', 'aps', 'ugh', 'aple', 'suck']</td>\n",
              "      <td>hate new iphone upgrade wil let download aps ugh aple suck</td>\n",
              "    </tr>\n",
              "    <tr>\n",
              "      <th>7921</th>\n",
              "      <td>1</td>\n",
              "      <td>7922</td>\n",
              "      <td>NaN</td>\n",
              "      <td>currently shitting my fucking pants. #apple #iMac #cashmoney #raddest #swagswagswag http://instagr.am/p/UUIS0bIBZo/</td>\n",
              "      <td>['curently', 'shiting', 'fucking', 'pant', 'aple', 'imac', 'cashmoney', 'radest', 'swagswag']</td>\n",
              "      <td>curently shiting fucking pant aple imac cashmoney radest swagswag</td>\n",
              "      <td>['#apple', '#iMac', '#cashmoney', '#raddest', '#swagswagswag']</td>\n",
              "      <td>#apple #iMac #cashmoney #raddest #swagswagswag</td>\n",
              "      <td>115</td>\n",
              "      <td>11</td>\n",
              "      <td>1</td>\n",
              "      <td>11</td>\n",
              "      <td>0</td>\n",
              "      <td>8</td>\n",
              "      <td>0</td>\n",
              "      <td>0</td>\n",
              "      <td>3</td>\n",
              "      <td>0</td>\n",
              "      <td>0</td>\n",
              "      <td>9.545455</td>\n",
              "      <td>0.069565</td>\n",
              "      <td>1.000000</td>\n",
              "      <td>['curently', 'shiting', 'fucking', 'pant', 'aple', 'imac', 'cash', 'money', 'rad', 'de', 'st', 'swag', 'wag', 'wag']</td>\n",
              "      <td>curently shiting fucking pant aple imac cash money rad de st swag wag wag</td>\n",
              "    </tr>\n",
              "    <tr>\n",
              "      <th>9871</th>\n",
              "      <td>1951</td>\n",
              "      <td>9872</td>\n",
              "      <td>NaN</td>\n",
              "      <td>@codeofinterest as i said #Adobe big time we may well as include #apple to</td>\n",
              "      <td>['codeofinterest', 'said', 'adobe', 'big', 'time', 'may', 'wel', 'include', 'aple']</td>\n",
              "      <td>codeofinterest said adobe big time may wel include aple</td>\n",
              "      <td>['#Adobe', '#apple']</td>\n",
              "      <td>#Adobe #apple</td>\n",
              "      <td>74</td>\n",
              "      <td>14</td>\n",
              "      <td>1</td>\n",
              "      <td>13</td>\n",
              "      <td>1</td>\n",
              "      <td>1</td>\n",
              "      <td>0</td>\n",
              "      <td>0</td>\n",
              "      <td>0</td>\n",
              "      <td>0</td>\n",
              "      <td>0</td>\n",
              "      <td>4.357143</td>\n",
              "      <td>0.013514</td>\n",
              "      <td>0.928571</td>\n",
              "      <td>['code', 'interest', 'said', 'adobe', 'big', 'time', 'may', 'wel', 'include', 'aple']</td>\n",
              "      <td>code interest said adobe big time may wel include aple</td>\n",
              "    </tr>\n",
              "    <tr>\n",
              "      <th>9872</th>\n",
              "      <td>1952</td>\n",
              "      <td>9873</td>\n",
              "      <td>NaN</td>\n",
              "      <td>Finally I got it .. thanx my father .. #Samsung #galaxy #s3 #gift #father #phone #new http://instagr.am/p/NoxkiPE</td>\n",
              "      <td>['finaly', 'got', 'thanx', 'father', 'samsung', 'galaxy', 'gift', 'father', 'phone', 'new']</td>\n",
              "      <td>finaly got thanx father samsung galaxy gift father phone new</td>\n",
              "      <td>['#Samsung', '#galaxy', '#s3', '#gift', '#father', '#phone', '#new']</td>\n",
              "      <td>#Samsung #galaxy #s3 #gift #father #phone #new</td>\n",
              "      <td>113</td>\n",
              "      <td>17</td>\n",
              "      <td>1</td>\n",
              "      <td>16</td>\n",
              "      <td>3</td>\n",
              "      <td>6</td>\n",
              "      <td>0</td>\n",
              "      <td>0</td>\n",
              "      <td>6</td>\n",
              "      <td>0</td>\n",
              "      <td>0</td>\n",
              "      <td>5.705882</td>\n",
              "      <td>0.053097</td>\n",
              "      <td>0.941176</td>\n",
              "      <td>['finaly', 'got', 'x', 'father', 'samsung', 'galaxy', 'gift', 'father', 'phone', 'new']</td>\n",
              "      <td>finaly got x father samsung galaxy gift father phone new</td>\n",
              "    </tr>\n",
              "  </tbody>\n",
              "</table>\n",
              "</div>"
            ],
            "text/plain": [
              "      index    id  label  \\\n",
              "7920      0  7921    NaN   \n",
              "7921      1  7922    NaN   \n",
              "9871   1951  9872    NaN   \n",
              "9872   1952  9873    NaN   \n",
              "\n",
              "                                                                                                                    tweet  \\\n",
              "7920                                        I hate the new #iphone upgrade. Won't let me download apps. #ugh #apple sucks   \n",
              "7921  currently shitting my fucking pants. #apple #iMac #cashmoney #raddest #swagswagswag http://instagr.am/p/UUIS0bIBZo/   \n",
              "9871                                           @codeofinterest as i said #Adobe big time we may well as include #apple to   \n",
              "9872    Finally I got it .. thanx my father .. #Samsung #galaxy #s3 #gift #father #phone #new http://instagr.am/p/NoxkiPE   \n",
              "\n",
              "                                                                                    tweet_lst_clean  \\\n",
              "7920   ['hate', 'new', 'iphone', 'upgrade', 'wil', 'let', 'download', 'aps', 'ugh', 'aple', 'suck']   \n",
              "7921  ['curently', 'shiting', 'fucking', 'pant', 'aple', 'imac', 'cashmoney', 'radest', 'swagswag']   \n",
              "9871            ['codeofinterest', 'said', 'adobe', 'big', 'time', 'may', 'wel', 'include', 'aple']   \n",
              "9872    ['finaly', 'got', 'thanx', 'father', 'samsung', 'galaxy', 'gift', 'father', 'phone', 'new']   \n",
              "\n",
              "                                                            tweet_clean  \\\n",
              "7920         hate new iphone upgrade wil let download aps ugh aple suck   \n",
              "7921  curently shiting fucking pant aple imac cashmoney radest swagswag   \n",
              "9871            codeofinterest said adobe big time may wel include aple   \n",
              "9872       finaly got thanx father samsung galaxy gift father phone new   \n",
              "\n",
              "                                                              hashtags_lst  \\\n",
              "7920                                         ['#iphone', '#ugh', '#apple']   \n",
              "7921        ['#apple', '#iMac', '#cashmoney', '#raddest', '#swagswagswag']   \n",
              "9871                                                  ['#Adobe', '#apple']   \n",
              "9872  ['#Samsung', '#galaxy', '#s3', '#gift', '#father', '#phone', '#new']   \n",
              "\n",
              "                                            hashtags  total_length  num_words  \\\n",
              "7920                             #iphone #ugh #apple            77         14   \n",
              "7921  #apple #iMac #cashmoney #raddest #swagswagswag           115         11   \n",
              "9871                                   #Adobe #apple            74         14   \n",
              "9872  #Samsung #galaxy #s3 #gift #father #phone #new           113         17   \n",
              "\n",
              "      num_sent  num_unique_words  num_words_title  num_uppercase  \\\n",
              "7920         1                14                1              2   \n",
              "7921         1                11                0              8   \n",
              "9871         1                13                1              1   \n",
              "9872         1                16                3              6   \n",
              "\n",
              "      num_exclamation_marks  num_question_marks  num_punctuation  num_symbols  \\\n",
              "7920                      0                   0                2            0   \n",
              "7921                      0                   0                3            0   \n",
              "9871                      0                   0                0            0   \n",
              "9872                      0                   0                6            0   \n",
              "\n",
              "      num_digits  avg_word_len  avg_uppercase  avg_unique  \\\n",
              "7920           0      4.571429       0.025974    1.000000   \n",
              "7921           0      9.545455       0.069565    1.000000   \n",
              "9871           0      4.357143       0.013514    0.928571   \n",
              "9872           0      5.705882       0.053097    0.941176   \n",
              "\n",
              "                                                                                                     tweet_lst_clean_emoji  \\\n",
              "7920                          ['hate', 'new', 'iphone', 'upgrade', 'wil', 'let', 'download', 'aps', 'ugh', 'aple', 'suck']   \n",
              "7921  ['curently', 'shiting', 'fucking', 'pant', 'aple', 'imac', 'cash', 'money', 'rad', 'de', 'st', 'swag', 'wag', 'wag']   \n",
              "9871                                 ['code', 'interest', 'said', 'adobe', 'big', 'time', 'may', 'wel', 'include', 'aple']   \n",
              "9872                               ['finaly', 'got', 'x', 'father', 'samsung', 'galaxy', 'gift', 'father', 'phone', 'new']   \n",
              "\n",
              "                                                              tweet_clean_emoji  \n",
              "7920                 hate new iphone upgrade wil let download aps ugh aple suck  \n",
              "7921  curently shiting fucking pant aple imac cash money rad de st swag wag wag  \n",
              "9871                     code interest said adobe big time may wel include aple  \n",
              "9872                   finaly got x father samsung galaxy gift father phone new  "
            ]
          },
          "metadata": {
            "tags": []
          }
        }
      ]
    },
    {
      "cell_type": "code",
      "metadata": {
        "id": "M9pymaJVAcX2",
        "colab_type": "code",
        "colab": {}
      },
      "source": [
        "neptune.log_text('text processing', 'detailed text processing')"
      ],
      "execution_count": 20,
      "outputs": []
    },
    {
      "cell_type": "markdown",
      "metadata": {
        "id": "dg23We585G4n",
        "colab_type": "text"
      },
      "source": [
        "# Train Validation split using ktrain"
      ]
    },
    {
      "cell_type": "code",
      "metadata": {
        "id": "LjbRC9jiwqFj",
        "colab_type": "code",
        "colab": {}
      },
      "source": [
        "# [i for i in dir(ktrain.text) if i[0]!='_']\n",
        "\n",
        "# ktrain.text.texts_from_df?"
      ],
      "execution_count": null,
      "outputs": []
    },
    {
      "cell_type": "code",
      "metadata": {
        "id": "HmeMe3F1dwLo",
        "colab_type": "code",
        "colab": {}
      },
      "source": [
        "maincol = 'tweet' # the raw data gave me much better result.\n",
        "neptune.log_text('column_used', maincol)"
      ],
      "execution_count": 237,
      "outputs": []
    },
    {
      "cell_type": "code",
      "metadata": {
        "id": "n_OKcdoZwTco",
        "colab_type": "code",
        "colab": {
          "base_uri": "https://localhost:8080/",
          "height": 227
        },
        "outputId": "bc2ff9e7-59b2-44c6-d537-d6bbc0433fe3"
      },
      "source": [
        "%%time\n",
        "\n",
        "# bert is uncased_L-12_H-768_A-12.zip\n",
        "MODEL_NAME = 'bert' # distilbert gives error\n",
        "neptune.log_text('text_model', MODEL_NAME )\n",
        "\n",
        "# Parameters\n",
        "PARAMS = dict()\n",
        "PARAMS['ngram_range'] = 1\n",
        "PARAMS['max_features'] = 20000\n",
        "PARAMS['maxlen'] = 300\n",
        "for k,v in PARAMS.items():\n",
        "    neptune.log_metric(k,v)\n",
        "\n",
        "\n",
        "(X_train, y_train), (X_valid, y_valid), preproc = \\\n",
        "ktrain.text.texts_from_df(df_train,\n",
        "    text_column=maincol,\n",
        "    label_columns=[target],\n",
        "    random_state=SEED,\n",
        "    ngram_range=PARAMS['ngram_range'] ,\n",
        "    max_features=PARAMS['max_features'],\n",
        "    val_df = None, # if not 10% of train is used\n",
        "    maxlen=PARAMS['maxlen'], # it was 500\n",
        "    preprocess_mode=MODEL_NAME )\n",
        "\n",
        "model = ktrain.text.text_classifier(name=MODEL_NAME ,\n",
        "                             train_data=(X_train, y_train),\n",
        "                             metrics=['accuracy'],\n",
        "                             preproc=preproc)\n",
        "\n",
        "learner = ktrain.get_learner(model=model,\n",
        "                             train_data=(X_train, y_train),\n",
        "                             val_data=(X_valid, y_valid),\n",
        "                             batch_size=6)"
      ],
      "execution_count": 238,
      "outputs": [
        {
          "output_type": "stream",
          "text": [
            "preprocessing train...\n",
            "language: en\n"
          ],
          "name": "stdout"
        },
        {
          "output_type": "display_data",
          "data": {
            "text/html": [
              "done."
            ],
            "text/plain": [
              "<IPython.core.display.HTML object>"
            ]
          },
          "metadata": {
            "tags": []
          }
        },
        {
          "output_type": "stream",
          "text": [
            "Is Multi-Label? False\n",
            "preprocessing test...\n",
            "language: en\n"
          ],
          "name": "stdout"
        },
        {
          "output_type": "display_data",
          "data": {
            "text/html": [
              "done."
            ],
            "text/plain": [
              "<IPython.core.display.HTML object>"
            ]
          },
          "metadata": {
            "tags": []
          }
        },
        {
          "output_type": "stream",
          "text": [
            "Is Multi-Label? False\n",
            "maxlen is 300\n",
            "done.\n",
            "CPU times: user 6.6 s, sys: 835 ms, total: 7.44 s\n",
            "Wall time: 8.43 s\n"
          ],
          "name": "stdout"
        }
      ]
    },
    {
      "cell_type": "code",
      "metadata": {
        "id": "2XF0Q9W21SAT",
        "colab_type": "code",
        "colab": {}
      },
      "source": [
        "# ktrain.text.text_classifier?"
      ],
      "execution_count": 239,
      "outputs": []
    },
    {
      "cell_type": "code",
      "metadata": {
        "id": "LmJoGxkjxwoh",
        "colab_type": "code",
        "colab": {
          "base_uri": "https://localhost:8080/",
          "height": 34
        },
        "outputId": "deeffde8-4895-48d9-d281-29eecec55b9a"
      },
      "source": [
        "type(X_train), X_train[0].shape, X_valid[0].shape"
      ],
      "execution_count": 240,
      "outputs": [
        {
          "output_type": "execute_result",
          "data": {
            "text/plain": [
              "(list, (7128, 300), (792, 300))"
            ]
          },
          "metadata": {
            "tags": []
          },
          "execution_count": 240
        }
      ]
    },
    {
      "cell_type": "markdown",
      "metadata": {
        "id": "xpJ2xC8vodgo",
        "colab_type": "text"
      },
      "source": [
        "## Train Validation split using sklearn\n",
        "\n",
        "Official tutorial: https://nbviewer.jupyter.org/github/amaiya/ktrain/blob/master/tutorials/tutorial-A3-hugging_face_transformers.ipynb"
      ]
    },
    {
      "cell_type": "code",
      "metadata": {
        "id": "UIBswa_6ojk8",
        "colab_type": "code",
        "colab": {}
      },
      "source": [
        "# from sklearn.model_selection import train_test_split\n",
        "# X_train,X_valid, y_train, y_valid = train_test_split(df_train[maincol].to_numpy().ravel(),\n",
        "#                                                      df_train[target].to_numpy().ravel(),\n",
        "#                                                      random_state=SEED,\n",
        "#                                                      stratify=df_train[target])\n",
        "\n",
        "# MODEL_NAME = 'distilbert-base-uncased'\n",
        "# transformer = ktrain.text.Transformer(MODEL_NAME, maxlen=500,class_names=df_train[target].unique().tolist())\n",
        "\n",
        "# data_train = transformer.preprocess_train(X_train, y_train)\n",
        "# data_valid = transformer.preprocess_test(X_valid, y_valid)\n",
        "# model = transformer.get_classifier()\n",
        "# learner = ktrain.get_learner(model, train_data=data_train, val_data=data_valid, batch_size=6)\n",
        "\n",
        "# print(type(data_train))"
      ],
      "execution_count": 241,
      "outputs": []
    },
    {
      "cell_type": "markdown",
      "metadata": {
        "id": "S30peArWx6VU",
        "colab_type": "text"
      },
      "source": [
        "# Text Modelling: ktrain and bert\n",
        "\n",
        "name is one of:\n",
        "```\n",
        "'fasttext' 'nbsvm' 'logreg'  'bigru'  'bert' 'distilbert' \n",
        "```"
      ]
    },
    {
      "cell_type": "code",
      "metadata": {
        "id": "huQfNuqJypjv",
        "colab_type": "code",
        "colab": {}
      },
      "source": [
        "# ktrain.text.text_classifier?"
      ],
      "execution_count": 242,
      "outputs": []
    },
    {
      "cell_type": "code",
      "metadata": {
        "id": "yQkgqYs0S5UL",
        "colab_type": "code",
        "colab": {
          "base_uri": "https://localhost:8080/",
          "height": 141
        },
        "outputId": "d438bdcb-017e-4e0e-9aff-d73a495f63b1"
      },
      "source": [
        "ktrain.text.print_text_classifiers()"
      ],
      "execution_count": 243,
      "outputs": [
        {
          "output_type": "stream",
          "text": [
            "fasttext: a fastText-like model [http://arxiv.org/pdf/1607.01759.pdf]\n",
            "logreg: logistic regression using a trainable Embedding layer\n",
            "nbsvm: NBSVM model [http://www.aclweb.org/anthology/P12-2018]\n",
            "bigru: Bidirectional GRU with pretrained fasttext word vectors [https://fasttext.cc/docs/en/crawl-vectors.html]\n",
            "standard_gru: simple 2-layer GRU with randomly initialized embeddings\n",
            "bert: Bidirectional Encoder Representations from Transformers (BERT) [https://arxiv.org/abs/1810.04805]\n",
            "distilbert: distilled, smaller, and faster BERT from Hugging Face [https://arxiv.org/abs/1910.01108]\n"
          ],
          "name": "stdout"
        }
      ]
    },
    {
      "cell_type": "code",
      "metadata": {
        "id": "ExtUzyhRUNQy",
        "colab_type": "code",
        "colab": {}
      },
      "source": [
        "# [i for i in dir(model) if i[0]!='_']"
      ],
      "execution_count": 244,
      "outputs": []
    },
    {
      "cell_type": "code",
      "metadata": {
        "id": "gBB-PjmWiJfv",
        "colab_type": "code",
        "colab": {}
      },
      "source": [
        "# [i for i in dir(learner) if i[0]!='_']"
      ],
      "execution_count": 245,
      "outputs": []
    },
    {
      "cell_type": "code",
      "metadata": {
        "id": "aQymrGpIWNlD",
        "colab_type": "code",
        "colab": {}
      },
      "source": [
        "# # find good learning rate\n",
        "# learner.lr_find()             # briefly simulate training to find good learning rate\n",
        "# learner.lr_plot()             # visually identify best learning rate\n",
        "\n",
        "# usually 2e-5 is the better option."
      ],
      "execution_count": 246,
      "outputs": []
    },
    {
      "cell_type": "code",
      "metadata": {
        "id": "EP8XKzwGUkhg",
        "colab_type": "code",
        "colab": {}
      },
      "source": [
        "# %%time\n",
        "# learner.lr_find(show_plot=True, max_epochs=2)\n",
        "# I have found lr = 2e-5 as good"
      ],
      "execution_count": 247,
      "outputs": []
    },
    {
      "cell_type": "code",
      "metadata": {
        "id": "AjhlBS1PzsfP",
        "colab_type": "code",
        "colab": {
          "base_uri": "https://localhost:8080/",
          "height": 196
        },
        "outputId": "ea36fde4-1150-40e1-ffee-e97908b1e6a5"
      },
      "source": [
        "%%time\n",
        "# use gpu\n",
        "PARAMS = {'lr': 2e-5, # it was 2e-5\n",
        "          'epochs': 2 # best so far was 5\n",
        "          }\n",
        "\n",
        "for k,v in PARAMS.items():\n",
        "    neptune.log_metric(k,v)\n",
        "\n",
        "learner.fit_onecycle(**PARAMS)"
      ],
      "execution_count": 283,
      "outputs": [
        {
          "output_type": "stream",
          "text": [
            "\n",
            "\n",
            "begin training using onecycle policy with max lr of 2e-05...\n",
            "Epoch 1/2\n",
            "1188/1188 [==============================] - 793s 668ms/step - loss: 0.0241 - accuracy: 0.9917 - val_loss: 0.3395 - val_accuracy: 0.9154\n",
            "Epoch 2/2\n",
            "1188/1188 [==============================] - 790s 665ms/step - loss: 0.0279 - accuracy: 0.9903 - val_loss: 0.3667 - val_accuracy: 0.9167\n",
            "CPU times: user 23min 26s, sys: 5min 12s, total: 28min 39s\n",
            "Wall time: 26min 24s\n"
          ],
          "name": "stdout"
        }
      ]
    },
    {
      "cell_type": "code",
      "metadata": {
        "id": "WVMNtJKUxSx2",
        "colab_type": "code",
        "colab": {}
      },
      "source": [
        "neptune.log_text('last_epoch','loss: 0.0279 - accuracy: 0.9903 - val_loss: 0.3667 - val_accuracy: 0.9167')"
      ],
      "execution_count": 284,
      "outputs": []
    },
    {
      "cell_type": "code",
      "metadata": {
        "id": "P89_ghybGwxD",
        "colab_type": "code",
        "colab": {}
      },
      "source": [
        "neptune.log_metric('fit_onecycle_time_min',27 )"
      ],
      "execution_count": 285,
      "outputs": []
    },
    {
      "cell_type": "code",
      "metadata": {
        "id": "46rRArMkU66t",
        "colab_type": "code",
        "colab": {}
      },
      "source": [
        "# [i for i in dir(learner) if i[0]!='_']"
      ],
      "execution_count": 195,
      "outputs": []
    },
    {
      "cell_type": "code",
      "metadata": {
        "id": "YUKxIDjZVLYw",
        "colab_type": "code",
        "colab": {}
      },
      "source": [
        "# learner.save_model('ktrain_learner_maincol')\n",
        "# !du -sh ktrain_learner_maincol/tf_model.h5\n",
        "\n",
        "# 1.3G"
      ],
      "execution_count": 196,
      "outputs": []
    },
    {
      "cell_type": "code",
      "metadata": {
        "id": "Z9XAaWiTzy93",
        "colab_type": "code",
        "colab": {
          "base_uri": "https://localhost:8080/",
          "height": 247
        },
        "outputId": "bcf5838c-a9ae-4fac-e8a3-92511917add9"
      },
      "source": [
        "%%time\n",
        "learner.validate(val_data=(X_valid, y_valid))"
      ],
      "execution_count": 286,
      "outputs": [
        {
          "output_type": "stream",
          "text": [
            "              precision    recall  f1-score   support\n",
            "\n",
            "           0       0.96      0.92      0.94       599\n",
            "           1       0.79      0.89      0.84       193\n",
            "\n",
            "    accuracy                           0.92       792\n",
            "   macro avg       0.88      0.91      0.89       792\n",
            "weighted avg       0.92      0.92      0.92       792\n",
            "\n",
            "CPU times: user 1.68 s, sys: 774 ms, total: 2.46 s\n",
            "Wall time: 18.7 s\n"
          ],
          "name": "stdout"
        },
        {
          "output_type": "execute_result",
          "data": {
            "text/plain": [
              "array([[554,  45],\n",
              "       [ 21, 172]])"
            ]
          },
          "metadata": {
            "tags": []
          },
          "execution_count": 286
        }
      ]
    },
    {
      "cell_type": "code",
      "metadata": {
        "id": "5E21ZicNQDgG",
        "colab_type": "code",
        "colab": {
          "base_uri": "https://localhost:8080/",
          "height": 54
        },
        "outputId": "1b498026-5935-4e89-c422-a3cee8e54c59"
      },
      "source": [
        "print([i for i in dir(learner) if i[0]!='_'])"
      ],
      "execution_count": 287,
      "outputs": [
        {
          "output_type": "stream",
          "text": [
            "['autofit', 'batch_size', 'eval_batch_size', 'evaluate', 'fit', 'fit_onecycle', 'freeze', 'get_weight_decay', 'ground_truth', 'history', 'layer_output', 'load_model', 'lr_estimate', 'lr_find', 'lr_finder', 'lr_plot', 'model', 'multigpu', 'plot', 'predict', 'print_layers', 'reset_weights', 'save_model', 'set_lr', 'set_model', 'set_weight_decay', 'top_losses', 'train_data', 'unfreeze', 'use_multiprocessing', 'val_data', 'validate', 'view_top_losses', 'workers']\n"
          ],
          "name": "stdout"
        }
      ]
    },
    {
      "cell_type": "code",
      "metadata": {
        "id": "IYEkJMffQZR_",
        "colab_type": "code",
        "colab": {}
      },
      "source": [
        "# learner.evaluate()\n"
      ],
      "execution_count": 288,
      "outputs": []
    },
    {
      "cell_type": "code",
      "metadata": {
        "id": "20gaW-qTXmvy",
        "colab_type": "code",
        "colab": {}
      },
      "source": [
        "clf_report = \"\"\"\n",
        "              precision    recall  f1-score   support\n",
        "\n",
        "           0       0.96      0.92      0.94       599\n",
        "           1       0.79      0.89      0.84       193\n",
        "\n",
        "    accuracy                           0.92       792\n",
        "   macro avg       0.88      0.91      0.89       792\n",
        "weighted avg       0.92      0.92      0.92       792\n",
        "\n",
        "CPU times: user 1.68 s, sys: 774 ms, total: 2.46 s\n",
        "Wall time: 18.7 s\n",
        "array([[554,  45],\n",
        "       [ 21, 172]])\n",
        "\n",
        "\"\"\"\n",
        "\n",
        "neptune.log_text('clf_report',clf_report)"
      ],
      "execution_count": 289,
      "outputs": []
    },
    {
      "cell_type": "code",
      "metadata": {
        "id": "Wlay93-1QZV9",
        "colab_type": "code",
        "colab": {
          "base_uri": "https://localhost:8080/",
          "height": 294
        },
        "outputId": "0fd43ff9-145c-4256-e129-761aed5e770a"
      },
      "source": [
        "loss_plot = learner.plot() # this returns None"
      ],
      "execution_count": 290,
      "outputs": [
        {
          "output_type": "display_data",
          "data": {
            "image/png": "[encoded data removed]",
            "text/plain": [
              "<Figure size 432x288 with 1 Axes>"
            ]
          },
          "metadata": {
            "tags": [],
            "needs_background": "light"
          }
        }
      ]
    },
    {
      "cell_type": "markdown",
      "metadata": {
        "id": "WJl7QWJCDnBi",
        "colab_type": "text"
      },
      "source": [
        "# Model Evaluation on Validation Data"
      ]
    },
    {
      "cell_type": "code",
      "metadata": {
        "id": "vl5YbHSVYtWK",
        "colab_type": "code",
        "colab": {
          "base_uri": "https://localhost:8080/",
          "height": 265
        },
        "outputId": "680b6ce0-a121-4754-9dfa-84079012a912"
      },
      "source": [
        "X_valid"
      ],
      "execution_count": 291,
      "outputs": [
        {
          "output_type": "execute_result",
          "data": {
            "text/plain": [
              "[array([[ 101, 2003, 2026, ...,    0,    0,    0],\n",
              "        [ 101, 4569, 2051, ...,    0,    0,    0],\n",
              "        [ 101, 2190, 1056, ...,    0,    0,    0],\n",
              "        ...,\n",
              "        [ 101, 1011, 2061, ...,    0,    0,    0],\n",
              "        [ 101, 2204, 2851, ...,    0,    0,    0],\n",
              "        [ 101, 2054, 2003, ...,    0,    0,    0]]),\n",
              " array([[0, 0, 0, ..., 0, 0, 0],\n",
              "        [0, 0, 0, ..., 0, 0, 0],\n",
              "        [0, 0, 0, ..., 0, 0, 0],\n",
              "        ...,\n",
              "        [0, 0, 0, ..., 0, 0, 0],\n",
              "        [0, 0, 0, ..., 0, 0, 0],\n",
              "        [0, 0, 0, ..., 0, 0, 0]])]"
            ]
          },
          "metadata": {
            "tags": []
          },
          "execution_count": 291
        }
      ]
    },
    {
      "cell_type": "code",
      "metadata": {
        "id": "VNoYsft7Ze8r",
        "colab_type": "code",
        "colab": {
          "base_uri": "https://localhost:8080/",
          "height": 52
        },
        "outputId": "50ee6cb7-d46c-4164-d788-c5f02ecae735"
      },
      "source": [
        "# valid_probs2d = learner.predict(val_data=(X_valid,y_valid))\n",
        "print(f'val probs2d shape: {val_probs2d.shape}')\n",
        "valid_probs2d[0]"
      ],
      "execution_count": 292,
      "outputs": [
        {
          "output_type": "stream",
          "text": [
            "val probs2d shape: (792, 2)\n"
          ],
          "name": "stdout"
        },
        {
          "output_type": "execute_result",
          "data": {
            "text/plain": [
              "array([9.997271e-01, 2.728660e-04], dtype=float32)"
            ]
          },
          "metadata": {
            "tags": []
          },
          "execution_count": 292
        }
      ]
    },
    {
      "cell_type": "code",
      "metadata": {
        "id": "chbR0iWnZv4P",
        "colab_type": "code",
        "colab": {
          "base_uri": "https://localhost:8080/",
          "height": 34
        },
        "outputId": "697656e6-0d66-47d2-fa2f-74c6f1bbd833"
      },
      "source": [
        "valid_preds = (valid_probs2d[:,1]>0.5).astype(int).tolist()\n",
        "len(valid_preds)"
      ],
      "execution_count": 293,
      "outputs": [
        {
          "output_type": "execute_result",
          "data": {
            "text/plain": [
              "792"
            ]
          },
          "metadata": {
            "tags": []
          },
          "execution_count": 293
        }
      ]
    },
    {
      "cell_type": "code",
      "metadata": {
        "id": "oSnbUNPvbe2d",
        "colab_type": "code",
        "colab": {
          "base_uri": "https://localhost:8080/",
          "height": 34
        },
        "outputId": "855b5960-cbdb-449d-f7eb-3537ebd8dc31"
      },
      "source": [
        "y_valid.shape, y_valid[0]"
      ],
      "execution_count": 294,
      "outputs": [
        {
          "output_type": "execute_result",
          "data": {
            "text/plain": [
              "((792, 2), array([1., 0.], dtype=float32))"
            ]
          },
          "metadata": {
            "tags": []
          },
          "execution_count": 294
        }
      ]
    },
    {
      "cell_type": "code",
      "metadata": {
        "id": "6wIOJtgIbm0R",
        "colab_type": "code",
        "colab": {
          "base_uri": "https://localhost:8080/",
          "height": 34
        },
        "outputId": "5b1b0869-3037-407b-d9b5-caa1b44851f7"
      },
      "source": [
        "lst_y_valid = (y_valid[:,1].tolist())\n",
        "lst_y_valid[:5]"
      ],
      "execution_count": 295,
      "outputs": [
        {
          "output_type": "execute_result",
          "data": {
            "text/plain": [
              "[0.0, 0.0, 0.0, 0.0, 0.0]"
            ]
          },
          "metadata": {
            "tags": []
          },
          "execution_count": 295
        }
      ]
    },
    {
      "cell_type": "code",
      "metadata": {
        "id": "6tWRYXPfDpim",
        "colab_type": "code",
        "colab": {
          "base_uri": "https://localhost:8080/",
          "height": 77
        },
        "outputId": "a2f3ae88-eed4-46c0-f3af-f19085d8ef1d"
      },
      "source": [
        "from sklearn import metrics\n",
        "\n",
        "df_eval = pd.DataFrame({\n",
        "    'Text Model': [],\n",
        "    'Params': [],\n",
        "    'Model': [],\n",
        "    'Description': [],\n",
        "    'Accuracy': [],\n",
        "    'Precision': [],\n",
        "    'Recall': [],\n",
        "    'F1': [],\n",
        "})\n",
        "\n",
        "text_model_name = \"bert\"\n",
        "params = \"ngram_range=1 + lr= 2e-5, epochs=2 maxlen=300\"\n",
        "model_name = \"\"\n",
        "desc = \"\"\n",
        "\n",
        "yvd = lst_y_valid\n",
        "vd_preds = valid_preds\n",
        "\n",
        "acc = metrics.accuracy_score(yvd,vd_preds)\n",
        "pre = metrics.precision_score(yvd,vd_preds)\n",
        "rec = metrics.recall_score(yvd,vd_preds)\n",
        "f1 = metrics.f1_score(yvd,vd_preds,average='weighted')\n",
        "\n",
        "row = [text_model_name, params, model_name,desc]\n",
        "row = row + [acc, pre, rec, f1]\n",
        "\n",
        "df_eval.loc[len(df_eval)] = row\n",
        "df_eval = df_eval.drop_duplicates(subset=['Text Model', 'Params', 'Model', 'Description'])\n",
        "\n",
        "df_eval"
      ],
      "execution_count": 299,
      "outputs": [
        {
          "output_type": "execute_result",
          "data": {
            "text/html": [
              "<div>\n",
              "<style scoped>\n",
              "    .dataframe tbody tr th:only-of-type {\n",
              "        vertical-align: middle;\n",
              "    }\n",
              "\n",
              "    .dataframe tbody tr th {\n",
              "        vertical-align: top;\n",
              "    }\n",
              "\n",
              "    .dataframe thead th {\n",
              "        text-align: right;\n",
              "    }\n",
              "</style>\n",
              "<table border=\"1\" class=\"dataframe\">\n",
              "  <thead>\n",
              "    <tr style=\"text-align: right;\">\n",
              "      <th></th>\n",
              "      <th>Text Model</th>\n",
              "      <th>Params</th>\n",
              "      <th>Model</th>\n",
              "      <th>Description</th>\n",
              "      <th>Accuracy</th>\n",
              "      <th>Precision</th>\n",
              "      <th>Recall</th>\n",
              "      <th>F1</th>\n",
              "    </tr>\n",
              "  </thead>\n",
              "  <tbody>\n",
              "    <tr>\n",
              "      <th>0</th>\n",
              "      <td>bert</td>\n",
              "      <td>ngram_range=1 + lr= 2e-5, epochs=2 maxlen=300</td>\n",
              "      <td></td>\n",
              "      <td></td>\n",
              "      <td>0.92298</td>\n",
              "      <td>0.8</td>\n",
              "      <td>0.911917</td>\n",
              "      <td>0.924609</td>\n",
              "    </tr>\n",
              "  </tbody>\n",
              "</table>\n",
              "</div>"
            ],
            "text/plain": [
              "  Text Model                                         Params Model Description  \\\n",
              "0       bert  ngram_range=1 + lr= 2e-5, epochs=2 maxlen=300                     \n",
              "\n",
              "   Accuracy  Precision    Recall        F1  \n",
              "0   0.92298        0.8  0.911917  0.924609  "
            ]
          },
          "metadata": {
            "tags": []
          },
          "execution_count": 299
        }
      ]
    },
    {
      "cell_type": "code",
      "metadata": {
        "id": "rylJBj8zDpm3",
        "colab_type": "code",
        "colab": {}
      },
      "source": [
        "from neptunecontrib.api import log_table\n",
        "\n",
        "log_table('df_eval', df_eval)"
      ],
      "execution_count": 300,
      "outputs": []
    },
    {
      "cell_type": "code",
      "metadata": {
        "id": "LwxHaANaDpqt",
        "colab_type": "code",
        "colab": {
          "base_uri": "https://localhost:8080/",
          "height": 87
        },
        "outputId": "302809fc-c767-4d23-b24e-f291583719d6"
      },
      "source": [
        "dic_results = {'acc':acc,\n",
        "               'precision':pre,\n",
        "               'recall':rec,\n",
        "               'f1': f1}\n",
        "\n",
        "for k,v in dic_results.items():\n",
        "    print('test_'+k, v)\n",
        "    neptune.log_metric('test_'+k, v)"
      ],
      "execution_count": 301,
      "outputs": [
        {
          "output_type": "stream",
          "text": [
            "test_acc 0.922979797979798\n",
            "test_precision 0.8\n",
            "test_recall 0.9119170984455959\n",
            "test_f1 0.9246094717696566\n"
          ],
          "name": "stdout"
        }
      ]
    },
    {
      "cell_type": "markdown",
      "metadata": {
        "id": "qur0fs7hEoYw",
        "colab_type": "text"
      },
      "source": [
        "# Diagnostic Charts for Validation Data"
      ]
    },
    {
      "cell_type": "code",
      "metadata": {
        "id": "9rpxjSZwEodB",
        "colab_type": "code",
        "colab": {}
      },
      "source": [
        "import matplotlib.pyplot as plt\n",
        "from scikitplot.metrics import plot_confusion_matrix\n",
        "from scikitplot.metrics import plot_roc, plot_precision_recall, plot_lift_curve"
      ],
      "execution_count": 302,
      "outputs": []
    },
    {
      "cell_type": "code",
      "metadata": {
        "id": "96PI1RTCF7BB",
        "colab_type": "code",
        "colab": {
          "base_uri": "https://localhost:8080/",
          "height": 404
        },
        "outputId": "6baa4b6a-4625-4d6b-a88b-76683f98acbb"
      },
      "source": [
        "fig, ax = plt.subplots(figsize=(8, 6))\n",
        "plot_confusion_matrix(lst_y_valid, valid_preds, ax=ax)\n",
        "neptune.log_image('diagnostic_charts', fig)"
      ],
      "execution_count": 303,
      "outputs": [
        {
          "output_type": "display_data",
          "data": {
            "image/png": "[encoded data removed]",
            "text/plain": [
              "<Figure size 576x432 with 2 Axes>"
            ]
          },
          "metadata": {
            "tags": [],
            "needs_background": "light"
          }
        }
      ]
    },
    {
      "cell_type": "code",
      "metadata": {
        "id": "_PK9gitOEogv",
        "colab_type": "code",
        "colab": {
          "base_uri": "https://localhost:8080/",
          "height": 404
        },
        "outputId": "9d6f57ca-3286-44e3-8e60-d0b2dcbabf0b"
      },
      "source": [
        "fig, ax = plt.subplots(figsize=(8, 6))\n",
        "plot_roc(lst_y_valid, valid_probs2d, ax=ax)\n",
        "neptune.log_image('diagnostic_charts', fig)"
      ],
      "execution_count": 304,
      "outputs": [
        {
          "output_type": "display_data",
          "data": {
            "image/png": "[encoded data removed]",
            "text/plain": [
              "<Figure size 576x432 with 1 Axes>"
            ]
          },
          "metadata": {
            "tags": [],
            "needs_background": "light"
          }
        }
      ]
    },
    {
      "cell_type": "code",
      "metadata": {
        "id": "RBfBW7oQEol-",
        "colab_type": "code",
        "colab": {
          "base_uri": "https://localhost:8080/",
          "height": 404
        },
        "outputId": "78231309-8b06-46d3-b1cb-f2934ea57e1b"
      },
      "source": [
        "fig, ax = plt.subplots(figsize=(8, 6))\n",
        "plot_precision_recall(lst_y_valid, valid_probs2d, ax=ax)\n",
        "neptune.log_image('diagnostic_charts', fig)"
      ],
      "execution_count": 305,
      "outputs": [
        {
          "output_type": "display_data",
          "data": {
            "image/png": "[encoded data removed]",
            "text/plain": [
              "<Figure size 576x432 with 1 Axes>"
            ]
          },
          "metadata": {
            "tags": [],
            "needs_background": "light"
          }
        }
      ]
    },
    {
      "cell_type": "code",
      "metadata": {
        "id": "buTHLpi2GC9K",
        "colab_type": "code",
        "colab": {
          "base_uri": "https://localhost:8080/",
          "height": 404
        },
        "outputId": "25e0820f-f9d0-46e2-e7bd-54b9338f5e56"
      },
      "source": [
        "fig, ax = plt.subplots(figsize=(8, 6))\n",
        "plot_lift_curve(lst_y_valid, valid_probs2d, ax=ax)\n",
        "neptune.log_image('diagnostic_charts', fig)"
      ],
      "execution_count": 306,
      "outputs": [
        {
          "output_type": "display_data",
          "data": {
            "image/png": "[encoded data removed]",
            "text/plain": [
              "<Figure size 576x432 with 1 Axes>"
            ]
          },
          "metadata": {
            "tags": [],
            "needs_background": "light"
          }
        }
      ]
    },
    {
      "cell_type": "markdown",
      "metadata": {
        "id": "FsMBChxhz47P",
        "colab_type": "text"
      },
      "source": [
        "# Model Prediction on Test data using ktrain"
      ]
    },
    {
      "cell_type": "code",
      "metadata": {
        "id": "RcMwwYZRmaWw",
        "colab_type": "code",
        "colab": {}
      },
      "source": [
        "# ktrain.get_predictor?"
      ],
      "execution_count": 307,
      "outputs": []
    },
    {
      "cell_type": "code",
      "metadata": {
        "id": "QDoWI5760EjO",
        "colab_type": "code",
        "colab": {
          "base_uri": "https://localhost:8080/",
          "height": 52
        },
        "outputId": "576379cb-59be-476b-d5a2-1fba02305115"
      },
      "source": [
        "%%time\n",
        "predictor = ktrain.get_predictor(learner.model, preproc)"
      ],
      "execution_count": 308,
      "outputs": [
        {
          "output_type": "stream",
          "text": [
            "CPU times: user 41 µs, sys: 13 µs, total: 54 µs\n",
            "Wall time: 57.2 µs\n"
          ],
          "name": "stdout"
        }
      ]
    },
    {
      "cell_type": "code",
      "metadata": {
        "id": "7j3RQm3nmfQ5",
        "colab_type": "code",
        "colab": {
          "base_uri": "https://localhost:8080/",
          "height": 194
        },
        "outputId": "ccabcfa2-7e6b-42b0-d131-f3a755cbed40"
      },
      "source": [
        "[i for i in dir(predictor) if i[0]!='_']"
      ],
      "execution_count": 309,
      "outputs": [
        {
          "output_type": "execute_result",
          "data": {
            "text/plain": [
              "['analyze_valid',\n",
              " 'batch_size',\n",
              " 'c',\n",
              " 'explain',\n",
              " 'get_classes',\n",
              " 'model',\n",
              " 'predict',\n",
              " 'predict_proba',\n",
              " 'preproc',\n",
              " 'save']"
            ]
          },
          "metadata": {
            "tags": []
          },
          "execution_count": 309
        }
      ]
    },
    {
      "cell_type": "code",
      "metadata": {
        "id": "Ps35Nt6A02_A",
        "colab_type": "code",
        "colab": {
          "base_uri": "https://localhost:8080/",
          "height": 34
        },
        "outputId": "6ea2c79b-b9e7-4ea0-870c-0d9d9ef2a6f1"
      },
      "source": [
        "predictor.get_classes()"
      ],
      "execution_count": 310,
      "outputs": [
        {
          "output_type": "execute_result",
          "data": {
            "text/plain": [
              "['not_label', 'label']"
            ]
          },
          "metadata": {
            "tags": []
          },
          "execution_count": 310
        }
      ]
    },
    {
      "cell_type": "code",
      "metadata": {
        "id": "sbAxoSIcnaph",
        "colab_type": "code",
        "colab": {
          "base_uri": "https://localhost:8080/",
          "height": 34
        },
        "outputId": "2db8fbc7-2103-4a28-f011-92dbce243236"
      },
      "source": [
        "df_train['label'].unique()"
      ],
      "execution_count": 311,
      "outputs": [
        {
          "output_type": "execute_result",
          "data": {
            "text/plain": [
              "array([0., 1.])"
            ]
          },
          "metadata": {
            "tags": []
          },
          "execution_count": 311
        }
      ]
    },
    {
      "cell_type": "code",
      "metadata": {
        "id": "TwQwYD_Fnjjd",
        "colab_type": "code",
        "colab": {}
      },
      "source": [
        "# we have actually labels 0 and 1 but ktrain gives not_label and label\n",
        "# 0 is not_label\n",
        "# 1 is label"
      ],
      "execution_count": 312,
      "outputs": []
    },
    {
      "cell_type": "code",
      "metadata": {
        "id": "IYpgADlHA-Qv",
        "colab_type": "code",
        "colab": {
          "base_uri": "https://localhost:8080/",
          "height": 35
        },
        "outputId": "ecc5930d-f0aa-477d-a88d-8330891d3578"
      },
      "source": [
        "one_sent = df_test[maincol].iloc[0]\n",
        "one_sent"
      ],
      "execution_count": 313,
      "outputs": [
        {
          "output_type": "execute_result",
          "data": {
            "application/vnd.google.colaboratory.intrinsic+json": {
              "type": "string"
            },
            "text/plain": [
              "\"I hate the new #iphone upgrade. Won't let me download apps. #ugh #apple sucks\""
            ]
          },
          "metadata": {
            "tags": []
          },
          "execution_count": 313
        }
      ]
    },
    {
      "cell_type": "code",
      "metadata": {
        "id": "J6GVKujOBih5",
        "colab_type": "code",
        "colab": {
          "base_uri": "https://localhost:8080/",
          "height": 35
        },
        "outputId": "6cea5f9b-6bbf-41f8-8092-d5bd0000e893"
      },
      "source": [
        "predictor.predict(one_sent)"
      ],
      "execution_count": 314,
      "outputs": [
        {
          "output_type": "display_data",
          "data": {
            "text/html": [
              ""
            ],
            "text/plain": [
              "<IPython.core.display.HTML object>"
            ]
          },
          "metadata": {
            "tags": []
          }
        },
        {
          "output_type": "execute_result",
          "data": {
            "application/vnd.google.colaboratory.intrinsic+json": {
              "type": "string"
            },
            "text/plain": [
              "'label'"
            ]
          },
          "metadata": {
            "tags": []
          },
          "execution_count": 314
        }
      ]
    },
    {
      "cell_type": "code",
      "metadata": {
        "id": "GJ8royuwU9nH",
        "colab_type": "code",
        "colab": {
          "base_uri": "https://localhost:8080/",
          "height": 202
        },
        "outputId": "1a5f7297-69de-4e56-c1ad-dab1d1bfe913"
      },
      "source": [
        "%%time\n",
        "predictor.explain(one_sent)"
      ],
      "execution_count": 315,
      "outputs": [
        {
          "output_type": "display_data",
          "data": {
            "text/html": [
              ""
            ],
            "text/plain": [
              "<IPython.core.display.HTML object>"
            ]
          },
          "metadata": {
            "tags": []
          }
        },
        {
          "output_type": "display_data",
          "data": {
            "text/html": [
              ""
            ],
            "text/plain": [
              "<IPython.core.display.HTML object>"
            ]
          },
          "metadata": {
            "tags": []
          }
        },
        {
          "output_type": "stream",
          "text": [
            "CPU times: user 6.03 s, sys: 2.39 s, total: 8.42 s\n",
            "Wall time: 59.6 s\n"
          ],
          "name": "stdout"
        },
        {
          "output_type": "execute_result",
          "data": {
            "text/html": [
              "\n",
              "    <style>\n",
              "    table.eli5-weights tr:hover {\n",
              "        filter: brightness(85%);\n",
              "    }\n",
              "</style>\n",
              "\n",
              "\n",
              "\n",
              "    \n",
              "\n",
              "    \n",
              "\n",
              "    \n",
              "\n",
              "    \n",
              "\n",
              "    \n",
              "\n",
              "    \n",
              "\n",
              "\n",
              "    \n",
              "\n",
              "    \n",
              "\n",
              "    \n",
              "\n",
              "    \n",
              "        \n",
              "\n",
              "    \n",
              "\n",
              "        \n",
              "\n",
              "        \n",
              "    \n",
              "        \n",
              "        \n",
              "    \n",
              "        <p style=\"margin-bottom: 0.5em; margin-top: 0em\">\n",
              "            <b>\n",
              "    \n",
              "        y=label\n",
              "    \n",
              "</b>\n",
              "\n",
              "    \n",
              "    (probability <b>0.999</b>, score <b>7.153</b>)\n",
              "\n",
              "top features\n",
              "        </p>\n",
              "    \n",
              "    <table class=\"eli5-weights\"\n",
              "           style=\"border-collapse: collapse; border: none; margin-top: 0em; table-layout: auto; margin-bottom: 2em;\">\n",
              "        <thead>\n",
              "        <tr style=\"border: none;\">\n",
              "            \n",
              "                <th style=\"padding: 0 1em 0 0.5em; text-align: right; border: none;\" title=\"Feature contribution already accounts for the feature value (for linear models, contribution = weight * feature value), and the sum of feature contributions is equal to the score or, for some classifiers, to the probability. Feature values are shown if &quot;show_feature_values&quot; is True.\">\n",
              "                    Contribution<sup>?</sup>\n",
              "                </th>\n",
              "            \n",
              "            <th style=\"padding: 0 0.5em 0 0.5em; text-align: left; border: none;\">Feature</th>\n",
              "            \n",
              "        </tr>\n",
              "        </thead>\n",
              "        <tbody>\n",
              "        \n",
              "            <tr style=\"background-color: hsl(120, 100.00%, 80.00%); border: none;\">\n",
              "    <td style=\"padding: 0 1em 0 0.5em; text-align: right; border: none;\">\n",
              "        +7.661\n",
              "    </td>\n",
              "    <td style=\"padding: 0 0.5em 0 0.5em; text-align: left; border: none;\">\n",
              "        Highlighted in text (sum)\n",
              "    </td>\n",
              "    \n",
              "</tr>\n",
              "        \n",
              "        \n",
              "\n",
              "        \n",
              "        \n",
              "            <tr style=\"background-color: hsl(0, 100.00%, 97.01%); border: none;\">\n",
              "    <td style=\"padding: 0 1em 0 0.5em; text-align: right; border: none;\">\n",
              "        -0.508\n",
              "    </td>\n",
              "    <td style=\"padding: 0 0.5em 0 0.5em; text-align: left; border: none;\">\n",
              "        &lt;BIAS&gt;\n",
              "    </td>\n",
              "    \n",
              "</tr>\n",
              "        \n",
              "\n",
              "        </tbody>\n",
              "    </table>\n",
              "\n",
              "    \n",
              "\n",
              "\n",
              "\n",
              "    <p style=\"margin-bottom: 2.5em; margin-top:-0.5em;\">\n",
              "        <span style=\"background-color: hsl(0, 100.00%, 96.04%); opacity: 0.81\" title=\"-0.092\">i</span><span style=\"opacity: 0.80\"> </span><span style=\"background-color: hsl(120, 100.00%, 80.30%); opacity: 0.87\" title=\"0.907\">hate</span><span style=\"opacity: 0.80\"> </span><span style=\"background-color: hsl(120, 100.00%, 96.88%); opacity: 0.81\" title=\"0.065\">the</span><span style=\"opacity: 0.80\"> </span><span style=\"background-color: hsl(120, 100.00%, 98.10%); opacity: 0.80\" title=\"0.032\">new</span><span style=\"opacity: 0.80\"> #</span><span style=\"background-color: hsl(120, 100.00%, 85.71%); opacity: 0.85\" title=\"0.573\">iphone</span><span style=\"opacity: 0.80\"> </span><span style=\"background-color: hsl(120, 100.00%, 81.72%); opacity: 0.87\" title=\"0.815\">upgrade</span><span style=\"opacity: 0.80\">. </span><span style=\"background-color: hsl(120, 100.00%, 94.08%); opacity: 0.81\" title=\"0.163\">won</span><span style=\"opacity: 0.80\">&#x27;</span><span style=\"background-color: hsl(0, 100.00%, 94.40%); opacity: 0.81\" title=\"-0.150\">t</span><span style=\"opacity: 0.80\"> </span><span style=\"background-color: hsl(0, 100.00%, 90.83%); opacity: 0.82\" title=\"-0.304\">let</span><span style=\"opacity: 0.80\"> </span><span style=\"background-color: hsl(0, 100.00%, 92.56%); opacity: 0.82\" title=\"-0.226\">me</span><span style=\"opacity: 0.80\"> </span><span style=\"background-color: hsl(120, 100.00%, 81.60%); opacity: 0.87\" title=\"0.823\">download</span><span style=\"opacity: 0.80\"> </span><span style=\"background-color: hsl(120, 100.00%, 87.79%); opacity: 0.84\" title=\"0.458\">apps</span><span style=\"opacity: 0.80\">. #</span><span style=\"background-color: hsl(120, 100.00%, 63.65%); opacity: 0.97\" title=\"2.176\">ugh</span><span style=\"opacity: 0.80\"> #</span><span style=\"background-color: hsl(120, 100.00%, 77.33%); opacity: 0.89\" title=\"1.109\">apple</span><span style=\"opacity: 0.80\"> </span><span style=\"background-color: hsl(120, 100.00%, 60.00%); opacity: 1.00\" title=\"2.495\">sucks</span>\n",
              "    </p>\n",
              "\n",
              "\n",
              "    \n",
              "\n",
              "    \n",
              "\n",
              "    \n",
              "\n",
              "    \n",
              "\n",
              "\n",
              "    \n",
              "\n",
              "    \n",
              "\n",
              "    \n",
              "\n",
              "    \n",
              "\n",
              "    \n",
              "\n",
              "    \n",
              "\n",
              "\n",
              "    \n",
              "\n",
              "    \n",
              "\n",
              "    \n",
              "\n",
              "    \n",
              "\n",
              "    \n",
              "\n",
              "    \n",
              "\n",
              "\n",
              "\n"
            ],
            "text/plain": [
              "<IPython.core.display.HTML object>"
            ]
          },
          "metadata": {
            "tags": []
          },
          "execution_count": 315
        }
      ]
    },
    {
      "cell_type": "code",
      "metadata": {
        "id": "YDuwuoT6yfCA",
        "colab_type": "code",
        "colab": {}
      },
      "source": [
        "neptune.log_text('one_sent_explain_time','1 min')"
      ],
      "execution_count": 316,
      "outputs": []
    },
    {
      "cell_type": "code",
      "metadata": {
        "id": "K4gpOhy705Hf",
        "colab_type": "code",
        "colab": {}
      },
      "source": [
        "X_test = df_test[maincol].to_numpy()"
      ],
      "execution_count": 317,
      "outputs": []
    },
    {
      "cell_type": "code",
      "metadata": {
        "id": "CnZLXcaC1haS",
        "colab_type": "code",
        "colab": {
          "base_uri": "https://localhost:8080/",
          "height": 52
        },
        "outputId": "18b52707-159c-446a-fe96-1d2c0cc50b51"
      },
      "source": [
        "%%time\n",
        "test_preds = predictor.predict(X_test,return_proba=False)"
      ],
      "execution_count": 318,
      "outputs": [
        {
          "output_type": "display_data",
          "data": {
            "text/html": [
              ""
            ],
            "text/plain": [
              "<IPython.core.display.HTML object>"
            ]
          },
          "metadata": {
            "tags": []
          }
        },
        {
          "output_type": "stream",
          "text": [
            "CPU times: user 4.65 s, sys: 1.95 s, total: 6.6 s\n",
            "Wall time: 48.5 s\n"
          ],
          "name": "stdout"
        }
      ]
    },
    {
      "cell_type": "code",
      "metadata": {
        "id": "hqtyxIn22w82",
        "colab_type": "code",
        "colab": {}
      },
      "source": [
        "neptune.log_text('test_preds_time','1min 27s')"
      ],
      "execution_count": 319,
      "outputs": []
    },
    {
      "cell_type": "code",
      "metadata": {
        "id": "w7ElvoNy2aOQ",
        "colab_type": "code",
        "colab": {}
      },
      "source": [
        "df_test[target] = test_preds"
      ],
      "execution_count": 320,
      "outputs": []
    },
    {
      "cell_type": "code",
      "metadata": {
        "id": "lzd6Nm0r2iIt",
        "colab_type": "code",
        "colab": {}
      },
      "source": [
        "df_sub = df_test[['id','label']]\n",
        "df_sub['label'] = df_sub['label'].replace({'not_label': 0, 'label': 1})\n",
        "\n",
        "df_sub.to_csv('sub_ktrain_bert_ngram_range1_epochs2_maxlen300.csv', index=False)"
      ],
      "execution_count": 321,
      "outputs": []
    },
    {
      "cell_type": "code",
      "metadata": {
        "id": "RT4ZC3D7zYOv",
        "colab_type": "code",
        "colab": {}
      },
      "source": [
        "# upload the data and get the score\n",
        "neptune.log_metric('test_f1', 0.907575339598019 )"
      ],
      "execution_count": 324,
      "outputs": []
    },
    {
      "cell_type": "code",
      "metadata": {
        "id": "eFR5TD3ZzdX3",
        "colab_type": "code",
        "colab": {}
      },
      "source": [
        "best_so_far = \"\"\"\n",
        "bert lr=2e-5 epochs=5 ngram_range=1 maxlen=300\n",
        "f1 = 0.908687336005899\n",
        "\n",
        "n_gram=2 gave worse result\n",
        "tweet_clean_emoji gave worse result\n",
        "\n",
        "\n",
        "\"\"\"\n",
        "neptune.log_text('best_so_far',\n",
        "                 best_so_far)"
      ],
      "execution_count": 323,
      "outputs": []
    },
    {
      "cell_type": "code",
      "metadata": {
        "id": "oi2eBK76MgH6",
        "colab_type": "code",
        "colab": {}
      },
      "source": [
        ""
      ],
      "execution_count": 323,
      "outputs": []
    }
  ]
}