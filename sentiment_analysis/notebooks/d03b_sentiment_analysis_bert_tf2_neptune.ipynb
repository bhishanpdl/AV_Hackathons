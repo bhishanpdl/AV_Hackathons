{
  "nbformat": 4,
  "nbformat_minor": 0,
  "metadata": {
    "colab": {
      "name": "d03b_sentiment_analysis_bert_tf2_neptune.ipynb",
      "provenance": [],
      "collapsed_sections": []
    },
    "kernelspec": {
      "name": "python3",
      "display_name": "Python 3"
    },
    "accelerator": "GPU"
  },
  "cells": [
    {
      "cell_type": "markdown",
      "metadata": {
        "id": "MBcRis_Eqlcp",
        "colab_type": "text"
      },
      "source": [
        "# Descriptions\n",
        "- BERT stands for Bidirectional Encoder Representations from Transformers\n",
        "- BERT was developed by researchers at Google in 2018\n",
        "- BERT is a text representation technique like Word Embeddings.\n",
        "\n",
        "Hackathon: Identify the sentiments\n",
        "- https://datahack.analyticsvidhya.com/contest/all/"
      ]
    },
    {
      "cell_type": "markdown",
      "metadata": {
        "id": "pD2fbcXzywYE",
        "colab_type": "text"
      },
      "source": [
        "# Google Colab"
      ]
    },
    {
      "cell_type": "code",
      "metadata": {
        "id": "TnnS6ZIPgQuy",
        "colab_type": "code",
        "colab": {}
      },
      "source": [
        "%%capture\n",
        "# capture will not print in notebook\n",
        "\n",
        "import os\n",
        "import sys\n",
        "ENV_COLAB = 'google.colab' in sys.modules\n",
        "\n",
        "if ENV_COLAB:\n",
        "    ## install modules\n",
        "    !pip install bert-for-tf2\n",
        "    !pip install sentencepiece\n",
        "    !pip install neptune-client neptune-contrib\n",
        "    !pip install scikit-plot\n",
        "\n",
        "    ## print\n",
        "    print('Environment: Google Colaboratory.')\n",
        "\n",
        "# NOTE: If we update modules in gcolab, we need to restart runtime."
      ],
      "execution_count": 1,
      "outputs": []
    },
    {
      "cell_type": "code",
      "metadata": {
        "id": "Eeg2BV_m1r1S",
        "colab_type": "code",
        "colab": {}
      },
      "source": [
        "import neptune\n",
        "from neptunecontrib.api import log_table"
      ],
      "execution_count": 2,
      "outputs": []
    },
    {
      "cell_type": "code",
      "metadata": {
        "id": "5YBccBeT1xJM",
        "colab_type": "code",
        "colab": {}
      },
      "source": [
        "# use your real key and DELETE the cell\n",
        "\n",
        "# neptune.init('bhishanpdl/twitter-sentiment-analysis','your_api_key')"
      ],
      "execution_count": 8,
      "outputs": []
    },
    {
      "cell_type": "code",
      "metadata": {
        "id": "urPP92-Iyy23",
        "colab_type": "code",
        "colab": {
          "base_uri": "https://localhost:8080/",
          "height": 87
        },
        "outputId": "743688b5-45f8-4017-8c22-147a38e5ceb6"
      },
      "source": [
        "import tensorflow as tf\n",
        "import tensorflow_hub as hub\n",
        "import keras\n",
        "from tensorflow.keras import layers\n",
        "import bert\n",
        "\n",
        "from pprint import pprint\n",
        "versions = [(x.__name__,x.__version__) for x in [tf, hub, keras,bert]]\n",
        "pprint(versions)"
      ],
      "execution_count": 9,
      "outputs": [
        {
          "output_type": "stream",
          "text": [
            "[('tensorflow', '2.3.0'),\n",
            " ('tensorflow_hub', '0.9.0'),\n",
            " ('keras', '2.4.3'),\n",
            " ('bert', '0.14.6')]\n"
          ],
          "name": "stdout"
        }
      ]
    },
    {
      "cell_type": "code",
      "metadata": {
        "id": "0rCz225Y46lt",
        "colab_type": "code",
        "colab": {
          "base_uri": "https://localhost:8080/",
          "height": 35
        },
        "outputId": "cc67a9e6-9c13-409e-c6f0-1362957c5590"
      },
      "source": [
        "versions_dl = str(versions)\n",
        "versions_dl"
      ],
      "execution_count": 10,
      "outputs": [
        {
          "output_type": "execute_result",
          "data": {
            "application/vnd.google.colaboratory.intrinsic+json": {
              "type": "string"
            },
            "text/plain": [
              "\"[('tensorflow', '2.3.0'), ('tensorflow_hub', '0.9.0'), ('keras', '2.4.3'), ('bert', '0.14.6')]\""
            ]
          },
          "metadata": {
            "tags": []
          },
          "execution_count": 10
        }
      ]
    },
    {
      "cell_type": "code",
      "metadata": {
        "id": "1UjMOFQY5yHj",
        "colab_type": "code",
        "colab": {
          "base_uri": "https://localhost:8080/",
          "height": 34
        },
        "outputId": "abe52c57-b513-4eeb-97e7-806226980fbf"
      },
      "source": [
        "neptune.create_experiment(\n",
        "    name='bert_tf2', # put small name\n",
        "    description='',\n",
        "    tags = ['bert', 'tf2'],\n",
        "    upload_source_files=None\n",
        ")\n",
        "\n",
        "neptune.append_tags(['bertFull'])"
      ],
      "execution_count": 11,
      "outputs": [
        {
          "output_type": "stream",
          "text": [
            "https://ui.neptune.ai/bhishanpdl/twitter-sentiment-analysis/e/TWITSENT-10\n"
          ],
          "name": "stdout"
        }
      ]
    },
    {
      "cell_type": "code",
      "metadata": {
        "id": "8NugdaJj6AvV",
        "colab_type": "code",
        "colab": {}
      },
      "source": [
        "neptune.log_text('versions_dl', versions_dl)"
      ],
      "execution_count": 12,
      "outputs": []
    },
    {
      "cell_type": "markdown",
      "metadata": {
        "id": "fD0Nuj24ylsk",
        "colab_type": "text"
      },
      "source": [
        "# Load the libraries"
      ]
    },
    {
      "cell_type": "code",
      "metadata": {
        "id": "E6Um2nU7yYW9",
        "colab_type": "code",
        "colab": {
          "base_uri": "https://localhost:8080/",
          "height": 34
        },
        "outputId": "42ce0a12-6e2e-4e14-f9e9-81516ee4fe07"
      },
      "source": [
        "import numpy as np\n",
        "import pandas as pd\n",
        "from pprint import pprint\n",
        "\n",
        "pd.set_option('max_colwidth',200)\n",
        "pd.set_option('max_columns',200)\n",
        "SEED = 100\n",
        "\n",
        "import sys\n",
        "import re\n",
        "from tqdm import tqdm\n",
        "tqdm.pandas()\n",
        "\n",
        "versions_ds = [(x.__name__,x.__version__) for x in [np,pd]]\n",
        "pprint(versions_ds)"
      ],
      "execution_count": 13,
      "outputs": [
        {
          "output_type": "stream",
          "text": [
            "[('numpy', '1.18.5'), ('pandas', '1.0.5')]\n"
          ],
          "name": "stdout"
        }
      ]
    },
    {
      "cell_type": "code",
      "metadata": {
        "id": "klt-BSW96wgd",
        "colab_type": "code",
        "colab": {}
      },
      "source": [
        "neptune.log_text('versions_ds', str(versions_ds))"
      ],
      "execution_count": 14,
      "outputs": []
    },
    {
      "cell_type": "markdown",
      "metadata": {
        "id": "HKgRz7rOynlY",
        "colab_type": "text"
      },
      "source": [
        "# Load the data"
      ]
    },
    {
      "cell_type": "code",
      "metadata": {
        "id": "C6jzFcvlzHCN",
        "colab_type": "code",
        "colab": {
          "base_uri": "https://localhost:8080/",
          "height": 203
        },
        "outputId": "bfac8728-8920-48d2-e7f1-f7ab002ebaf2"
      },
      "source": [
        "p = 'https://github.com/bhishanpdl/Datasets/blob/master/AV_Hackathons/sentiment_analysis/raw/'\n",
        "df_train = pd.read_csv(p + 'train.csv?raw=true')\n",
        "df_test = pd.read_csv(p + 'test.csv?raw=true')\n",
        "\n",
        "print(f\"train : {df_train.shape}\")\n",
        "print(f\"test : {df_test.shape}\")\n",
        "\n",
        "display(df_train.head(2).append(df_train.tail(2)))\n",
        "\n",
        "target = 'label'\n",
        "maincol = 'tweet'"
      ],
      "execution_count": 15,
      "outputs": [
        {
          "output_type": "stream",
          "text": [
            "train : (7920, 3)\n",
            "test : (1953, 2)\n"
          ],
          "name": "stdout"
        },
        {
          "output_type": "display_data",
          "data": {
            "text/html": [
              "<div>\n",
              "<style scoped>\n",
              "    .dataframe tbody tr th:only-of-type {\n",
              "        vertical-align: middle;\n",
              "    }\n",
              "\n",
              "    .dataframe tbody tr th {\n",
              "        vertical-align: top;\n",
              "    }\n",
              "\n",
              "    .dataframe thead th {\n",
              "        text-align: right;\n",
              "    }\n",
              "</style>\n",
              "<table border=\"1\" class=\"dataframe\">\n",
              "  <thead>\n",
              "    <tr style=\"text-align: right;\">\n",
              "      <th></th>\n",
              "      <th>id</th>\n",
              "      <th>label</th>\n",
              "      <th>tweet</th>\n",
              "    </tr>\n",
              "  </thead>\n",
              "  <tbody>\n",
              "    <tr>\n",
              "      <th>0</th>\n",
              "      <td>1</td>\n",
              "      <td>0</td>\n",
              "      <td>#fingerprint #Pregnancy Test https://goo.gl/h1MfQV #android #apps #beautiful #cute #health #igers #iphoneonly #iphonesia #iphone</td>\n",
              "    </tr>\n",
              "    <tr>\n",
              "      <th>1</th>\n",
              "      <td>2</td>\n",
              "      <td>0</td>\n",
              "      <td>Finally a transparant silicon case ^^ Thanks to my uncle :) #yay #Sony #Xperia #S #sonyexperias… http://instagram.com/p/YGEt5JC6JM/</td>\n",
              "    </tr>\n",
              "    <tr>\n",
              "      <th>7918</th>\n",
              "      <td>7919</td>\n",
              "      <td>0</td>\n",
              "      <td>Finally got my #smart #pocket #wifi stay connected anytime,anywhere! #ipad and #samsung #s3 #gadget # http://instagr.am/p/U-53G_vJU8/</td>\n",
              "    </tr>\n",
              "    <tr>\n",
              "      <th>7919</th>\n",
              "      <td>7920</td>\n",
              "      <td>0</td>\n",
              "      <td>Apple Barcelona!!! #Apple #Store #BCN #Barcelona #travel #iphone #selfie #fly #fun #cabincrew… http://instagram.com/p/wBApVzpCl3/</td>\n",
              "    </tr>\n",
              "  </tbody>\n",
              "</table>\n",
              "</div>"
            ],
            "text/plain": [
              "        id  label  \\\n",
              "0        1      0   \n",
              "1        2      0   \n",
              "7918  7919      0   \n",
              "7919  7920      0   \n",
              "\n",
              "                                                                                                                                      tweet  \n",
              "0          #fingerprint #Pregnancy Test https://goo.gl/h1MfQV #android #apps #beautiful #cute #health #igers #iphoneonly #iphonesia #iphone  \n",
              "1       Finally a transparant silicon case ^^ Thanks to my uncle :) #yay #Sony #Xperia #S #sonyexperias… http://instagram.com/p/YGEt5JC6JM/  \n",
              "7918  Finally got my #smart #pocket #wifi stay connected anytime,anywhere! #ipad and #samsung #s3 #gadget # http://instagr.am/p/U-53G_vJU8/  \n",
              "7919      Apple Barcelona!!! #Apple #Store #BCN #Barcelona #travel #iphone #selfie #fly #fun #cabincrew… http://instagram.com/p/wBApVzpCl3/  "
            ]
          },
          "metadata": {
            "tags": []
          }
        }
      ]
    },
    {
      "cell_type": "code",
      "metadata": {
        "id": "4XnmZmHK7Nlk",
        "colab_type": "code",
        "colab": {}
      },
      "source": [
        "neptune.log_text('data_path',p)"
      ],
      "execution_count": 16,
      "outputs": []
    },
    {
      "cell_type": "markdown",
      "metadata": {
        "id": "dg23We585G4n",
        "colab_type": "text"
      },
      "source": [
        "# Text Data Processing"
      ]
    },
    {
      "cell_type": "code",
      "metadata": {
        "id": "sXIHc4EG67XZ",
        "colab_type": "code",
        "colab": {}
      },
      "source": [
        "maincol = 'tweet'\n",
        "target = 'label'\n",
        "mc = maincol + '_clean'\n",
        "tmc = 'tokenized_' + mc"
      ],
      "execution_count": 17,
      "outputs": []
    },
    {
      "cell_type": "code",
      "metadata": {
        "id": "yrf86ciPMXdc",
        "colab_type": "code",
        "colab": {}
      },
      "source": [
        "import re\n",
        "def process_text(text):\n",
        "    out = re.sub(r'<[^>]+>','', text) # remove html tags\n",
        "    out = re.sub('[^a-zA-Z]', ' ', out) # keep only alpha\n",
        "    out = re.sub(r\"\\s+[a-zA-Z]\\s+\", ' ', out) # remove single letter\n",
        "    out = re.sub(r'\\s+', ' ', out) # remove multiple spaces\n",
        "\n",
        "    return out"
      ],
      "execution_count": 18,
      "outputs": []
    },
    {
      "cell_type": "code",
      "metadata": {
        "id": "VZZUYRPG7oiq",
        "colab_type": "code",
        "colab": {}
      },
      "source": [
        "str_proc = 'remove: html singleLetter multipleSpaces keep: onlyAlphabet'\n",
        "neptune.log_text('text processing', str_proc)"
      ],
      "execution_count": 19,
      "outputs": []
    },
    {
      "cell_type": "code",
      "metadata": {
        "id": "RBAUWgPN69W5",
        "colab_type": "code",
        "colab": {
          "base_uri": "https://localhost:8080/",
          "height": 52
        },
        "outputId": "15c6ceec-9ab2-4cae-e784-ad30a53738fb"
      },
      "source": [
        "df_train[mc] = df_train[maincol].progress_apply(process_text)\n",
        "df_test[mc] = df_test[maincol].progress_apply(process_text)"
      ],
      "execution_count": 20,
      "outputs": [
        {
          "output_type": "stream",
          "text": [
            "100%|██████████| 7920/7920 [00:00<00:00, 43242.44it/s]\n",
            "100%|██████████| 1953/1953 [00:00<00:00, 46882.64it/s]\n"
          ],
          "name": "stderr"
        }
      ]
    },
    {
      "cell_type": "code",
      "metadata": {
        "id": "3o8fa3w_Ov20",
        "colab_type": "code",
        "colab": {
          "base_uri": "https://localhost:8080/",
          "height": 141
        },
        "outputId": "279f9321-19ee-4e23-e21d-827228151dc0"
      },
      "source": [
        "df_train.head(2)"
      ],
      "execution_count": 21,
      "outputs": [
        {
          "output_type": "execute_result",
          "data": {
            "text/html": [
              "<div>\n",
              "<style scoped>\n",
              "    .dataframe tbody tr th:only-of-type {\n",
              "        vertical-align: middle;\n",
              "    }\n",
              "\n",
              "    .dataframe tbody tr th {\n",
              "        vertical-align: top;\n",
              "    }\n",
              "\n",
              "    .dataframe thead th {\n",
              "        text-align: right;\n",
              "    }\n",
              "</style>\n",
              "<table border=\"1\" class=\"dataframe\">\n",
              "  <thead>\n",
              "    <tr style=\"text-align: right;\">\n",
              "      <th></th>\n",
              "      <th>id</th>\n",
              "      <th>label</th>\n",
              "      <th>tweet</th>\n",
              "      <th>tweet_clean</th>\n",
              "    </tr>\n",
              "  </thead>\n",
              "  <tbody>\n",
              "    <tr>\n",
              "      <th>0</th>\n",
              "      <td>1</td>\n",
              "      <td>0</td>\n",
              "      <td>#fingerprint #Pregnancy Test https://goo.gl/h1MfQV #android #apps #beautiful #cute #health #igers #iphoneonly #iphonesia #iphone</td>\n",
              "      <td>fingerprint Pregnancy Test https goo gl MfQV android apps beautiful cute health igers iphoneonly iphonesia iphone</td>\n",
              "    </tr>\n",
              "    <tr>\n",
              "      <th>1</th>\n",
              "      <td>2</td>\n",
              "      <td>0</td>\n",
              "      <td>Finally a transparant silicon case ^^ Thanks to my uncle :) #yay #Sony #Xperia #S #sonyexperias… http://instagram.com/p/YGEt5JC6JM/</td>\n",
              "      <td>Finally transparant silicon case Thanks to my uncle yay Sony Xperia sonyexperias http instagram com YGEt JC JM</td>\n",
              "    </tr>\n",
              "  </tbody>\n",
              "</table>\n",
              "</div>"
            ],
            "text/plain": [
              "   id  label  \\\n",
              "0   1      0   \n",
              "1   2      0   \n",
              "\n",
              "                                                                                                                                 tweet  \\\n",
              "0     #fingerprint #Pregnancy Test https://goo.gl/h1MfQV #android #apps #beautiful #cute #health #igers #iphoneonly #iphonesia #iphone   \n",
              "1  Finally a transparant silicon case ^^ Thanks to my uncle :) #yay #Sony #Xperia #S #sonyexperias… http://instagram.com/p/YGEt5JC6JM/   \n",
              "\n",
              "                                                                                                          tweet_clean  \n",
              "0   fingerprint Pregnancy Test https goo gl MfQV android apps beautiful cute health igers iphoneonly iphonesia iphone  \n",
              "1     Finally transparant silicon case Thanks to my uncle yay Sony Xperia sonyexperias http instagram com YGEt JC JM   "
            ]
          },
          "metadata": {
            "tags": []
          },
          "execution_count": 21
        }
      ]
    },
    {
      "cell_type": "code",
      "metadata": {
        "id": "11gQ0j3KPhBq",
        "colab_type": "code",
        "colab": {}
      },
      "source": [
        "X_train = df_train[mc].to_list()\n",
        "y_train = df_train[target].to_list()\n",
        "\n",
        "X_test = df_test[mc].to_list()\n",
        "y_test = None # does not exist"
      ],
      "execution_count": 22,
      "outputs": []
    },
    {
      "cell_type": "markdown",
      "metadata": {
        "id": "iO2iaZ9KPuTK",
        "colab_type": "text"
      },
      "source": [
        "# Tokenizing"
      ]
    },
    {
      "cell_type": "code",
      "metadata": {
        "id": "UyG-V6kMP8oq",
        "colab_type": "code",
        "colab": {
          "base_uri": "https://localhost:8080/",
          "height": 52
        },
        "outputId": "9be463d8-4690-4695-b5fa-bd33870d667d"
      },
      "source": [
        "%%time\n",
        "BertTokenizer = bert.bert_tokenization.FullTokenizer\n",
        "bert_layer = hub.KerasLayer(\"https://tfhub.dev/tensorflow/bert_en_uncased_L-12_H-768_A-12/1\",\n",
        "                            trainable=False)\n",
        "\n",
        "vocabulary_file = bert_layer.resolved_object.vocab_file.asset_path.numpy()\n",
        "\n",
        "to_lower_case = bert_layer.resolved_object.do_lower_case.numpy()\n",
        "\n",
        "tokenizer = BertTokenizer(vocabulary_file, to_lower_case)"
      ],
      "execution_count": 23,
      "outputs": [
        {
          "output_type": "stream",
          "text": [
            "CPU times: user 5.92 s, sys: 1.06 s, total: 6.98 s\n",
            "Wall time: 6.88 s\n"
          ],
          "name": "stdout"
        }
      ]
    },
    {
      "cell_type": "code",
      "metadata": {
        "id": "kAfUQyKKQ1P2",
        "colab_type": "code",
        "colab": {
          "base_uri": "https://localhost:8080/",
          "height": 34
        },
        "outputId": "82a0bdcc-8600-4644-b3d1-9e089c9ddf2e"
      },
      "source": [
        "tokenizer.tokenize(\"nlp is fun.\")"
      ],
      "execution_count": 24,
      "outputs": [
        {
          "output_type": "execute_result",
          "data": {
            "text/plain": [
              "['nl', '##p', 'is', 'fun', '.']"
            ]
          },
          "metadata": {
            "tags": []
          },
          "execution_count": 24
        }
      ]
    },
    {
      "cell_type": "code",
      "metadata": {
        "id": "IAhevm7iRHHx",
        "colab_type": "code",
        "colab": {
          "base_uri": "https://localhost:8080/",
          "height": 34
        },
        "outputId": "cc997930-6f5e-4c87-c4ef-568a7e83b7e0"
      },
      "source": [
        "tokenizer.convert_tokens_to_ids(tokenizer.tokenize(\"nlp is fun.\"))"
      ],
      "execution_count": 25,
      "outputs": [
        {
          "output_type": "execute_result",
          "data": {
            "text/plain": [
              "[17953, 2361, 2003, 4569, 1012]"
            ]
          },
          "metadata": {
            "tags": []
          },
          "execution_count": 25
        }
      ]
    },
    {
      "cell_type": "code",
      "metadata": {
        "id": "sIKBvRjiRP1S",
        "colab_type": "code",
        "colab": {}
      },
      "source": [
        "def encode_sentence(sentence):\n",
        "    return tokenizer.convert_tokens_to_ids(tokenizer.tokenize(sentence))"
      ],
      "execution_count": 26,
      "outputs": []
    },
    {
      "cell_type": "code",
      "metadata": {
        "id": "ywnJ5L3rR4KS",
        "colab_type": "code",
        "colab": {
          "base_uri": "https://localhost:8080/",
          "height": 52
        },
        "outputId": "43a299c7-90c0-4665-eff7-e25908d81f2e"
      },
      "source": [
        "df_train[tmc] = df_train[mc].progress_apply(encode_sentence)\n",
        "df_test[tmc] = df_test[mc].progress_apply(encode_sentence)"
      ],
      "execution_count": 27,
      "outputs": [
        {
          "output_type": "stream",
          "text": [
            "100%|██████████| 7920/7920 [00:02<00:00, 3131.53it/s]\n",
            "100%|██████████| 1953/1953 [00:00<00:00, 3222.10it/s]\n"
          ],
          "name": "stderr"
        }
      ]
    },
    {
      "cell_type": "code",
      "metadata": {
        "id": "LadaGUNTSRsn",
        "colab_type": "code",
        "colab": {}
      },
      "source": [
        "# shuffle the data\n",
        "df_train = df_train.sample(frac=1,random_state=SEED)"
      ],
      "execution_count": 28,
      "outputs": []
    },
    {
      "cell_type": "code",
      "metadata": {
        "id": "6ujzmq2rTCQy",
        "colab_type": "code",
        "colab": {
          "base_uri": "https://localhost:8080/",
          "height": 52
        },
        "outputId": "407ce43a-8e93-426d-c7de-eaca33e42e8e"
      },
      "source": [
        "df_train['length'] = df_train[mc].progress_apply(len)"
      ],
      "execution_count": 29,
      "outputs": [
        {
          "output_type": "stream",
          "text": [
            "100%|██████████| 7920/7920 [00:00<00:00, 770704.09it/s]\n",
            "100%|██████████| 1953/1953 [00:00<00:00, 668364.53it/s]\n"
          ],
          "name": "stderr"
        }
      ]
    },
    {
      "cell_type": "code",
      "metadata": {
        "id": "DlipbC75TtQC",
        "colab_type": "code",
        "colab": {
          "base_uri": "https://localhost:8080/",
          "height": 207
        },
        "outputId": "ab2563d6-b4d3-4a65-96ec-bd65083b785e"
      },
      "source": [
        "df_train.head(2)"
      ],
      "execution_count": 30,
      "outputs": [
        {
          "output_type": "execute_result",
          "data": {
            "text/html": [
              "<div>\n",
              "<style scoped>\n",
              "    .dataframe tbody tr th:only-of-type {\n",
              "        vertical-align: middle;\n",
              "    }\n",
              "\n",
              "    .dataframe tbody tr th {\n",
              "        vertical-align: top;\n",
              "    }\n",
              "\n",
              "    .dataframe thead th {\n",
              "        text-align: right;\n",
              "    }\n",
              "</style>\n",
              "<table border=\"1\" class=\"dataframe\">\n",
              "  <thead>\n",
              "    <tr style=\"text-align: right;\">\n",
              "      <th></th>\n",
              "      <th>id</th>\n",
              "      <th>label</th>\n",
              "      <th>tweet</th>\n",
              "      <th>tweet_clean</th>\n",
              "      <th>tokenized_tweet_clean</th>\n",
              "      <th>length</th>\n",
              "    </tr>\n",
              "  </thead>\n",
              "  <tbody>\n",
              "    <tr>\n",
              "      <th>2144</th>\n",
              "      <td>2145</td>\n",
              "      <td>0</td>\n",
              "      <td>Is My Birthday #1año #cat #cateyes #glasses #cool #baby #sony #ilovemycat https://instagram.com/p/zx_hV6lrYI/</td>\n",
              "      <td>Is My Birthday o cat cateyes glasses cool baby sony ilovemycat https instagram com zx hV lrYI</td>\n",
              "      <td>[2003, 2026, 5798, 1051, 4937, 4937, 17683, 2015, 7877, 4658, 3336, 8412, 6335, 21818, 8029, 11266, 16770, 16021, 23091, 4012, 1062, 2595, 1044, 2615, 1048, 2854, 2072]</td>\n",
              "      <td>94</td>\n",
              "    </tr>\n",
              "    <tr>\n",
              "      <th>5076</th>\n",
              "      <td>5077</td>\n",
              "      <td>0</td>\n",
              "      <td>Fun time with my babies! Thank you Aunty stylistikafadje for the photo! #apple #iphone … http://instagram.com/p/lERwawFmoJ/</td>\n",
              "      <td>Fun time with my babies Thank you Aunty stylistikafadje for the photo apple iphone http instagram com lERwawFmoJ</td>\n",
              "      <td>[4569, 2051, 2007, 2026, 10834, 4067, 2017, 5916, 2100, 2358, 8516, 2923, 7556, 7011, 2094, 6460, 2005, 1996, 6302, 6207, 18059, 8299, 16021, 23091, 4012, 3393, 2099, 4213, 2860, 16715, 29147]</td>\n",
              "      <td>113</td>\n",
              "    </tr>\n",
              "  </tbody>\n",
              "</table>\n",
              "</div>"
            ],
            "text/plain": [
              "        id  label  \\\n",
              "2144  2145      0   \n",
              "5076  5077      0   \n",
              "\n",
              "                                                                                                                            tweet  \\\n",
              "2144                Is My Birthday #1año #cat #cateyes #glasses #cool #baby #sony #ilovemycat https://instagram.com/p/zx_hV6lrYI/   \n",
              "5076  Fun time with my babies! Thank you Aunty stylistikafadje for the photo! #apple #iphone … http://instagram.com/p/lERwawFmoJ/   \n",
              "\n",
              "                                                                                                            tweet_clean  \\\n",
              "2144                     Is My Birthday o cat cateyes glasses cool baby sony ilovemycat https instagram com zx hV lrYI    \n",
              "5076  Fun time with my babies Thank you Aunty stylistikafadje for the photo apple iphone http instagram com lERwawFmoJ    \n",
              "\n",
              "                                                                                                                                                                                 tokenized_tweet_clean  \\\n",
              "2144                          [2003, 2026, 5798, 1051, 4937, 4937, 17683, 2015, 7877, 4658, 3336, 8412, 6335, 21818, 8029, 11266, 16770, 16021, 23091, 4012, 1062, 2595, 1044, 2615, 1048, 2854, 2072]   \n",
              "5076  [4569, 2051, 2007, 2026, 10834, 4067, 2017, 5916, 2100, 2358, 8516, 2923, 7556, 7011, 2094, 6460, 2005, 1996, 6302, 6207, 18059, 8299, 16021, 23091, 4012, 3393, 2099, 4213, 2860, 16715, 29147]   \n",
              "\n",
              "      length  \n",
              "2144      94  \n",
              "5076     113  "
            ]
          },
          "metadata": {
            "tags": []
          },
          "execution_count": 30
        }
      ]
    },
    {
      "cell_type": "code",
      "metadata": {
        "id": "qGCIpJRRTujC",
        "colab_type": "code",
        "colab": {
          "base_uri": "https://localhost:8080/",
          "height": 124
        },
        "outputId": "da0345b5-85cd-49f1-8b96-10a0c7d6cd6d"
      },
      "source": [
        "# sort data with length\n",
        "df_train = df_train.sort_values('length')\n",
        "df_train.head(2)"
      ],
      "execution_count": 31,
      "outputs": [
        {
          "output_type": "execute_result",
          "data": {
            "text/html": [
              "<div>\n",
              "<style scoped>\n",
              "    .dataframe tbody tr th:only-of-type {\n",
              "        vertical-align: middle;\n",
              "    }\n",
              "\n",
              "    .dataframe tbody tr th {\n",
              "        vertical-align: top;\n",
              "    }\n",
              "\n",
              "    .dataframe thead th {\n",
              "        text-align: right;\n",
              "    }\n",
              "</style>\n",
              "<table border=\"1\" class=\"dataframe\">\n",
              "  <thead>\n",
              "    <tr style=\"text-align: right;\">\n",
              "      <th></th>\n",
              "      <th>id</th>\n",
              "      <th>label</th>\n",
              "      <th>tweet</th>\n",
              "      <th>tweet_clean</th>\n",
              "      <th>tokenized_tweet_clean</th>\n",
              "      <th>length</th>\n",
              "    </tr>\n",
              "  </thead>\n",
              "  <tbody>\n",
              "    <tr>\n",
              "      <th>6340</th>\n",
              "      <td>6341</td>\n",
              "      <td>0</td>\n",
              "      <td>#ERROR!</td>\n",
              "      <td>ERROR</td>\n",
              "      <td>[7561]</td>\n",
              "      <td>7</td>\n",
              "    </tr>\n",
              "    <tr>\n",
              "      <th>4451</th>\n",
              "      <td>4452</td>\n",
              "      <td>1</td>\n",
              "      <td>alrdy at 65%. I had 100% an hour &amp; a half ago! iphone</td>\n",
              "      <td>alrdy at had an hour half ago iphone</td>\n",
              "      <td>[2632, 17460, 2012, 2018, 2019, 3178, 2431, 3283, 18059]</td>\n",
              "      <td>36</td>\n",
              "    </tr>\n",
              "  </tbody>\n",
              "</table>\n",
              "</div>"
            ],
            "text/plain": [
              "        id  label                                                  tweet  \\\n",
              "6340  6341      0                                                #ERROR!   \n",
              "4451  4452      1  alrdy at 65%. I had 100% an hour & a half ago! iphone   \n",
              "\n",
              "                               tweet_clean  \\\n",
              "6340                                ERROR    \n",
              "4451  alrdy at had an hour half ago iphone   \n",
              "\n",
              "                                         tokenized_tweet_clean  length  \n",
              "6340                                                    [7561]       7  \n",
              "4451  [2632, 17460, 2012, 2018, 2019, 3178, 2431, 3283, 18059]      36  "
            ]
          },
          "metadata": {
            "tags": []
          },
          "execution_count": 31
        }
      ]
    },
    {
      "cell_type": "code",
      "metadata": {
        "id": "fjZOUrLsT605",
        "colab_type": "code",
        "colab": {}
      },
      "source": [
        "sorted_data_labels = [ (df_train[tmc][i], df_train[target][i]) for i in range(len(df_train)) ]"
      ],
      "execution_count": 32,
      "outputs": []
    },
    {
      "cell_type": "code",
      "metadata": {
        "id": "_rMS9WCuUh_K",
        "colab_type": "code",
        "colab": {
          "base_uri": "https://localhost:8080/",
          "height": 34
        },
        "outputId": "7ea80542-75f0-49e2-d4f2-cd69bd1ed3e8"
      },
      "source": [
        "sorted_data_labels[0][0][:5]"
      ],
      "execution_count": 33,
      "outputs": [
        {
          "output_type": "execute_result",
          "data": {
            "text/plain": [
              "[4344, 16550, 10032, 3231, 16770]"
            ]
          },
          "metadata": {
            "tags": []
          },
          "execution_count": 33
        }
      ]
    },
    {
      "cell_type": "code",
      "metadata": {
        "id": "gB5rP0WEUnG7",
        "colab_type": "code",
        "colab": {}
      },
      "source": [
        "# pad each batch (better than padding whole dataset)\n",
        "sorted_data_labels = [ (df_train[tmc][i], df_train[target][i]) for i in range(len(df_train)) ]\n",
        "\n",
        "BATCH_SIZE = 32\n",
        "\n",
        "processed_train_dataset = \\\n",
        "tf.data.Dataset.from_generator(\n",
        "    lambda: sorted_data_labels,\n",
        "     output_types=(tf.int32, tf.int32)\n",
        "     )\n",
        "\n",
        "batched_train_dataset = processed_train_dataset.padded_batch(BATCH_SIZE, padded_shapes=((None, ), ()))"
      ],
      "execution_count": 34,
      "outputs": []
    },
    {
      "cell_type": "code",
      "metadata": {
        "id": "H-fCyIOCWCr0",
        "colab_type": "code",
        "colab": {}
      },
      "source": [
        ""
      ],
      "execution_count": 35,
      "outputs": []
    },
    {
      "cell_type": "code",
      "metadata": {
        "id": "W918iDYR8lR7",
        "colab_type": "code",
        "colab": {}
      },
      "source": [
        "neptune.log_metric('batch',BATCH_SIZE)"
      ],
      "execution_count": 36,
      "outputs": []
    },
    {
      "cell_type": "code",
      "metadata": {
        "id": "oRkQ27E_WNKn",
        "colab_type": "code",
        "colab": {}
      },
      "source": [
        "# see the first batch\n",
        "# next(iter(batched_dataset))"
      ],
      "execution_count": 37,
      "outputs": []
    },
    {
      "cell_type": "markdown",
      "metadata": {
        "id": "MlAZlKGRWYZS",
        "colab_type": "text"
      },
      "source": [
        "# Train Validation Split"
      ]
    },
    {
      "cell_type": "code",
      "metadata": {
        "id": "zSfJQaLIWrxJ",
        "colab_type": "code",
        "colab": {}
      },
      "source": [
        "TOTAL_BATCHES = np.ceil(len(sorted_data_labels) / BATCH_SIZE)\n",
        "VALID_BATCHES = TOTAL_BATCHES // 10\n",
        "\n",
        "batched_train_dataset.shuffle(TOTAL_BATCHES,seed=SEED)\n",
        "\n",
        "valid_data = batched_train_dataset.take(VALID_BATCHES)\n",
        "train_data = batched_train_dataset.skip(VALID_BATCHES)"
      ],
      "execution_count": 38,
      "outputs": []
    },
    {
      "cell_type": "code",
      "metadata": {
        "id": "aXlIZboyxZ2q",
        "colab_type": "code",
        "colab": {
          "base_uri": "https://localhost:8080/",
          "height": 34
        },
        "outputId": "2476824c-e307-4172-9434-9503a92fb607"
      },
      "source": [
        "type(valid_data)"
      ],
      "execution_count": 39,
      "outputs": [
        {
          "output_type": "execute_result",
          "data": {
            "text/plain": [
              "tensorflow.python.data.ops.dataset_ops.TakeDataset"
            ]
          },
          "metadata": {
            "tags": []
          },
          "execution_count": 39
        }
      ]
    },
    {
      "cell_type": "markdown",
      "metadata": {
        "id": "WgRyeM9dWt7T",
        "colab_type": "text"
      },
      "source": [
        "# Create the model"
      ]
    },
    {
      "cell_type": "code",
      "metadata": {
        "id": "ZUf5VPyMW7uK",
        "colab_type": "code",
        "colab": {}
      },
      "source": [
        "class TEXT_MODEL(tf.keras.Model):\n",
        "    \n",
        "    def __init__(self,\n",
        "                 vocabulary_size,\n",
        "                 embedding_dimensions=128,\n",
        "                 cnn_filters=50,\n",
        "                 dnn_units=512,\n",
        "                 model_output_classes=2,\n",
        "                 dropout_rate=0.1,\n",
        "                 training=False,\n",
        "                 name=\"text_model\"):\n",
        "        super(TEXT_MODEL, self).__init__(name=name)\n",
        "\n",
        "        self.embedding = layers.Embedding(vocabulary_size,\n",
        "                                          embedding_dimensions)\n",
        "        self.cnn_layer = layers.Conv1D(filters=cnn_filters,\n",
        "                                        kernel_size=2,\n",
        "                                        padding=\"valid\",\n",
        "                                        activation=\"relu\")\n",
        "\n",
        "        self.pool = layers.GlobalMaxPool1D()\n",
        "        \n",
        "        self.dense_1 = layers.Dense(units=dnn_units, activation=\"relu\")\n",
        "        self.dropout = layers.Dropout(rate=dropout_rate)\n",
        "\n",
        "        if model_output_classes == 2:\n",
        "            self.last_dense = layers.Dense(units=1,\n",
        "                                           activation=\"sigmoid\")\n",
        "        else:\n",
        "            self.last_dense = layers.Dense(units=model_output_classes,\n",
        "                                           activation=\"softmax\")\n",
        "    \n",
        "    def call(self, inputs, training):\n",
        "        l = self.embedding(inputs)\n",
        "        concatenated = tf.concat([self.pool(self.cnn_layer(l))]*4, axis=-1) # (batch_size, N * cnn_filters)\n",
        "        concatenated = self.dense_1(concatenated)\n",
        "        concatenated = self.dropout(concatenated, training)\n",
        "        model_output = self.last_dense(concatenated)\n",
        "\n",
        "        return model_output\n",
        "\n",
        "neptune.log_text('num_cnn_layers', '4')"
      ],
      "execution_count": 40,
      "outputs": []
    },
    {
      "cell_type": "code",
      "metadata": {
        "id": "NtxvqUQFW7zI",
        "colab_type": "code",
        "colab": {}
      },
      "source": [
        "# Hyperparameters\n",
        "VOCAB_LENGTH = len(tokenizer.vocab)\n",
        "OUTPUT_CLASSES = 2\n",
        "\n",
        "PARAMS = dict()\n",
        "PARAMS['EMB_DIM'] = 200\n",
        "PARAMS['CNN_FILTERS'] = 100\n",
        "PARAMS['DNN_UNITS'] = 256\n",
        "PARAMS['OUTPUT_CLASSES'] = 2\n",
        "PARAMS['DROPOUT_RATE'] = 0.1\n",
        "PARAMS['NB_EPOCHS'] = 10"
      ],
      "execution_count": 41,
      "outputs": []
    },
    {
      "cell_type": "code",
      "metadata": {
        "id": "Uld9xrMkD5L_",
        "colab_type": "code",
        "colab": {}
      },
      "source": [
        "for k,v in PARAMS.items():\n",
        "    neptune.log_metric(k,v)"
      ],
      "execution_count": 42,
      "outputs": []
    },
    {
      "cell_type": "code",
      "metadata": {
        "id": "D2hXHzT1W72p",
        "colab_type": "code",
        "colab": {}
      },
      "source": [
        "text_model = TEXT_MODEL(vocabulary_size=VOCAB_LENGTH,\n",
        "                        embedding_dimensions=PARAMS['EMB_DIM'],\n",
        "                        cnn_filters=PARAMS['CNN_FILTERS'],\n",
        "                        dnn_units=PARAMS['DNN_UNITS'],\n",
        "                        model_output_classes=PARAMS['OUTPUT_CLASSES'],\n",
        "                        dropout_rate=PARAMS['DROPOUT_RATE'])"
      ],
      "execution_count": 43,
      "outputs": []
    },
    {
      "cell_type": "code",
      "metadata": {
        "id": "IjRwseR2XIFa",
        "colab_type": "code",
        "colab": {}
      },
      "source": [
        "if OUTPUT_CLASSES == 2:\n",
        "    text_model.compile(loss=\"binary_crossentropy\",\n",
        "                       optimizer=\"adam\",\n",
        "                       metrics=[\"accuracy\"])\n",
        "else:\n",
        "    text_model.compile(loss=\"sparse_categorical_crossentropy\",\n",
        "                       optimizer=\"adam\",\n",
        "                       metrics=[\"sparse_categorical_accuracy\"])"
      ],
      "execution_count": 44,
      "outputs": []
    },
    {
      "cell_type": "code",
      "metadata": {
        "id": "yLfnNCAFXLta",
        "colab_type": "code",
        "colab": {
          "base_uri": "https://localhost:8080/",
          "height": 425
        },
        "outputId": "6a272f48-b9a7-454d-aa08-d8d4693424c3"
      },
      "source": [
        "%%time\n",
        "\n",
        "# Note: use gpu \n",
        "text_model.fit(train_data, epochs=PARAMS['NB_EPOCHS'])"
      ],
      "execution_count": 45,
      "outputs": [
        {
          "output_type": "stream",
          "text": [
            "Epoch 1/10\n",
            "224/224 [==============================] - 16s 73ms/step - loss: 0.3142 - accuracy: 0.8553\n",
            "Epoch 2/10\n",
            "224/224 [==============================] - 13s 59ms/step - loss: 0.1487 - accuracy: 0.9437\n",
            "Epoch 3/10\n",
            "224/224 [==============================] - 13s 59ms/step - loss: 0.0611 - accuracy: 0.9803\n",
            "Epoch 4/10\n",
            "224/224 [==============================] - 13s 58ms/step - loss: 0.0238 - accuracy: 0.9941\n",
            "Epoch 5/10\n",
            "224/224 [==============================] - 13s 59ms/step - loss: 0.0082 - accuracy: 0.9983\n",
            "Epoch 6/10\n",
            "224/224 [==============================] - 13s 59ms/step - loss: 0.0043 - accuracy: 0.9993\n",
            "Epoch 7/10\n",
            "224/224 [==============================] - 13s 59ms/step - loss: 0.0015 - accuracy: 0.9999\n",
            "Epoch 8/10\n",
            "224/224 [==============================] - 13s 58ms/step - loss: 0.0019 - accuracy: 0.9997\n",
            "Epoch 9/10\n",
            "224/224 [==============================] - 13s 59ms/step - loss: 0.0014 - accuracy: 0.9999\n",
            "Epoch 10/10\n",
            "224/224 [==============================] - 13s 58ms/step - loss: 9.7383e-04 - accuracy: 0.9997\n",
            "CPU times: user 3min 40s, sys: 7.94 s, total: 3min 48s\n",
            "Wall time: 2min 17s\n"
          ],
          "name": "stdout"
        },
        {
          "output_type": "execute_result",
          "data": {
            "text/plain": [
              "<tensorflow.python.keras.callbacks.History at 0x7f22989ab3c8>"
            ]
          },
          "metadata": {
            "tags": []
          },
          "execution_count": 45
        }
      ]
    },
    {
      "cell_type": "code",
      "metadata": {
        "id": "3CpkWi_KXcQN",
        "colab_type": "code",
        "colab": {
          "base_uri": "https://localhost:8080/",
          "height": 52
        },
        "outputId": "62a4ff19-f5c1-45b1-f3e6-895133cb174f"
      },
      "source": [
        "valid_results = text_model.evaluate(valid_data)\n",
        "print(valid_results)"
      ],
      "execution_count": 46,
      "outputs": [
        {
          "output_type": "stream",
          "text": [
            "24/24 [==============================] - 0s 6ms/step - loss: 0.5091 - accuracy: 0.8906\n",
            "[0.509110152721405, 0.890625]\n"
          ],
          "name": "stdout"
        }
      ]
    },
    {
      "cell_type": "code",
      "metadata": {
        "id": "y5DOiL9Bl_P5",
        "colab_type": "code",
        "colab": {
          "base_uri": "https://localhost:8080/",
          "height": 34
        },
        "outputId": "0b1f2f86-b219-4e58-9bdf-df2815a24515"
      },
      "source": [
        "# true validation labels\n",
        "y_valid = []\n",
        "for element in valid_data.as_numpy_iterator():\n",
        "  y_valid += element[1].tolist()\n",
        "\n",
        "y_valid[:5]"
      ],
      "execution_count": 47,
      "outputs": [
        {
          "output_type": "execute_result",
          "data": {
            "text/plain": [
              "[0, 0, 0, 0, 1]"
            ]
          },
          "metadata": {
            "tags": []
          },
          "execution_count": 47
        }
      ]
    },
    {
      "cell_type": "code",
      "metadata": {
        "id": "jDhPVpLFboXb",
        "colab_type": "code",
        "colab": {
          "base_uri": "https://localhost:8080/",
          "height": 105
        },
        "outputId": "3d6269e3-4a92-4a92-df57-cd38cfb34b58"
      },
      "source": [
        "# predicted validation labels\n",
        "valid_probs = text_model.predict(valid_data)\n",
        "valid_preds = [1 if i>0.5 else 0 for i in valid_probs]\n",
        "valid_probs[:5], valid_preds[:5]"
      ],
      "execution_count": 48,
      "outputs": [
        {
          "output_type": "execute_result",
          "data": {
            "text/plain": [
              "(array([[1.55687410e-12],\n",
              "        [6.82577302e-05],\n",
              "        [2.91392971e-05],\n",
              "        [1.06004315e-07],\n",
              "        [9.97075438e-01]], dtype=float32), [0, 0, 0, 0, 1])"
            ]
          },
          "metadata": {
            "tags": []
          },
          "execution_count": 48
        }
      ]
    },
    {
      "cell_type": "code",
      "metadata": {
        "id": "OleUouSDMxZt",
        "colab_type": "code",
        "colab": {
          "base_uri": "https://localhost:8080/",
          "height": 105
        },
        "outputId": "3f73f585-924c-4361-e5ea-6619857fddb9"
      },
      "source": [
        "valid_probs_2d = np.zeros(shape=(len(valid_probs),2))\n",
        "valid_probs_2d[:,0] = 1 - valid_probs.ravel()\n",
        "valid_probs_2d[:,1] = valid_probs.ravel()\n",
        "valid_probs_2d[:5]"
      ],
      "execution_count": 49,
      "outputs": [
        {
          "output_type": "execute_result",
          "data": {
            "text/plain": [
              "array([[1.00000000e+00, 1.55687410e-12],\n",
              "       [9.99931753e-01, 6.82577302e-05],\n",
              "       [9.99970853e-01, 2.91392971e-05],\n",
              "       [9.99999881e-01, 1.06004315e-07],\n",
              "       [2.92456150e-03, 9.97075438e-01]])"
            ]
          },
          "metadata": {
            "tags": []
          },
          "execution_count": 49
        }
      ]
    },
    {
      "cell_type": "markdown",
      "metadata": {
        "id": "junlvq8Ujm8b",
        "colab_type": "text"
      },
      "source": [
        "# Model Evaluation for Validation Data"
      ]
    },
    {
      "cell_type": "code",
      "metadata": {
        "id": "Xv6QnClsjt_j",
        "colab_type": "code",
        "colab": {}
      },
      "source": [
        "from sklearn import metrics"
      ],
      "execution_count": 50,
      "outputs": []
    },
    {
      "cell_type": "code",
      "metadata": {
        "id": "aptummi9juHS",
        "colab_type": "code",
        "colab": {}
      },
      "source": [
        "df_eval = pd.DataFrame({\n",
        "    'Text Model': [],\n",
        "    'Params': [],\n",
        "    'Model': [],\n",
        "    'Description': [],\n",
        "    'Accuracy': [],\n",
        "    'Precision': [],\n",
        "    'Recall': [],\n",
        "    'F1': [],\n",
        "})"
      ],
      "execution_count": 51,
      "outputs": []
    },
    {
      "cell_type": "code",
      "metadata": {
        "id": "QxFo54nhjWzE",
        "colab_type": "code",
        "colab": {
          "base_uri": "https://localhost:8080/",
          "height": 77
        },
        "outputId": "7bfe3f9a-2259-4e43-e89a-44e7dd0ce2f2"
      },
      "source": [
        "text_model_name = \"bert\"\n",
        "params = \"bert_en_uncased_L-12_H-768_A-12\"\n",
        "model_name = \"tf\"\n",
        "desc = \"cnn layers\"\n",
        "\n",
        "yvd = y_valid\n",
        "vd_preds = valid_preds\n",
        "\n",
        "acc = metrics.accuracy_score(yvd,vd_preds)\n",
        "pre = metrics.precision_score(yvd,vd_preds)\n",
        "rec = metrics.recall_score(yvd,vd_preds)\n",
        "f1 = metrics.f1_score(yvd,vd_preds,average='weighted')\n",
        "\n",
        "row = [text_model_name, params, model_name,desc]\n",
        "row = row + [acc, pre, rec, f1]\n",
        "\n",
        "df_eval.loc[len(df_eval)] = row\n",
        "df_eval = df_eval.drop_duplicates(subset=['Text Model', 'Params', 'Model', 'Description'])\n",
        "\n",
        "df_eval"
      ],
      "execution_count": 52,
      "outputs": [
        {
          "output_type": "execute_result",
          "data": {
            "text/html": [
              "<div>\n",
              "<style scoped>\n",
              "    .dataframe tbody tr th:only-of-type {\n",
              "        vertical-align: middle;\n",
              "    }\n",
              "\n",
              "    .dataframe tbody tr th {\n",
              "        vertical-align: top;\n",
              "    }\n",
              "\n",
              "    .dataframe thead th {\n",
              "        text-align: right;\n",
              "    }\n",
              "</style>\n",
              "<table border=\"1\" class=\"dataframe\">\n",
              "  <thead>\n",
              "    <tr style=\"text-align: right;\">\n",
              "      <th></th>\n",
              "      <th>Text Model</th>\n",
              "      <th>Params</th>\n",
              "      <th>Model</th>\n",
              "      <th>Description</th>\n",
              "      <th>Accuracy</th>\n",
              "      <th>Precision</th>\n",
              "      <th>Recall</th>\n",
              "      <th>F1</th>\n",
              "    </tr>\n",
              "  </thead>\n",
              "  <tbody>\n",
              "    <tr>\n",
              "      <th>0</th>\n",
              "      <td>bert</td>\n",
              "      <td>bert_en_uncased_L-12_H-768_A-12</td>\n",
              "      <td>tf</td>\n",
              "      <td>cnn layers</td>\n",
              "      <td>0.890625</td>\n",
              "      <td>0.730594</td>\n",
              "      <td>0.864865</td>\n",
              "      <td>0.893585</td>\n",
              "    </tr>\n",
              "  </tbody>\n",
              "</table>\n",
              "</div>"
            ],
            "text/plain": [
              "  Text Model                           Params Model Description  Accuracy  \\\n",
              "0       bert  bert_en_uncased_L-12_H-768_A-12    tf  cnn layers  0.890625   \n",
              "\n",
              "   Precision    Recall        F1  \n",
              "0   0.730594  0.864865  0.893585  "
            ]
          },
          "metadata": {
            "tags": []
          },
          "execution_count": 52
        }
      ]
    },
    {
      "cell_type": "code",
      "metadata": {
        "id": "4t8pXbNbOctf",
        "colab_type": "code",
        "colab": {}
      },
      "source": [
        "from neptunecontrib.api import log_table\n",
        "\n",
        "log_table('df_eval', df_eval)"
      ],
      "execution_count": 53,
      "outputs": []
    },
    {
      "cell_type": "code",
      "metadata": {
        "id": "1Xz3uXQ17lBM",
        "colab_type": "code",
        "colab": {
          "base_uri": "https://localhost:8080/",
          "height": 87
        },
        "outputId": "0464b314-2a9d-43bc-e92b-fdcd1b6a3312"
      },
      "source": [
        "dic_results = {'acc':acc,\n",
        "               'precision':pre,\n",
        "               'recall':rec,\n",
        "               'f1': f1}\n",
        "\n",
        "for k,v in dic_results.items():\n",
        "    print('test_'+k, v)\n",
        "    neptune.log_metric('test_'+k, v)"
      ],
      "execution_count": 54,
      "outputs": [
        {
          "output_type": "stream",
          "text": [
            "test_acc 0.890625\n",
            "test_precision 0.730593607305936\n",
            "test_recall 0.8648648648648649\n",
            "test_f1 0.8935848559458419\n"
          ],
          "name": "stdout"
        }
      ]
    },
    {
      "cell_type": "markdown",
      "metadata": {
        "id": "urfjzGTnHTKt",
        "colab_type": "text"
      },
      "source": [
        "# Diagnostic Charts for Validation Data"
      ]
    },
    {
      "cell_type": "code",
      "metadata": {
        "id": "vvFgLuc1H23U",
        "colab_type": "code",
        "colab": {
          "base_uri": "https://localhost:8080/",
          "height": 404
        },
        "outputId": "e597655f-432b-4b78-8851-bde88769e8f2"
      },
      "source": [
        "import matplotlib.pyplot as plt\n",
        "from scikitplot.metrics import plot_confusion_matrix\n",
        "\n",
        "fig, ax = plt.subplots(figsize=(8, 6))\n",
        "plot_confusion_matrix(y_valid, valid_preds, ax=ax)\n",
        "neptune.log_image('diagnostic_charts', fig)"
      ],
      "execution_count": 55,
      "outputs": [
        {
          "output_type": "display_data",
          "data": {
            "image/png": "[encoded data removed]",
            "text/plain": [
              "<Figure size 576x432 with 2 Axes>"
            ]
          },
          "metadata": {
            "tags": [],
            "needs_background": "light"
          }
        }
      ]
    },
    {
      "cell_type": "code",
      "metadata": {
        "id": "ZZY8CEpFJM3f",
        "colab_type": "code",
        "colab": {}
      },
      "source": [
        "from scikitplot.metrics import plot_roc, plot_precision_recall, plot_lift_curve"
      ],
      "execution_count": 56,
      "outputs": []
    },
    {
      "cell_type": "code",
      "metadata": {
        "id": "5p4FQrhmJnAi",
        "colab_type": "code",
        "colab": {
          "base_uri": "https://localhost:8080/",
          "height": 404
        },
        "outputId": "8e13e22f-f4b0-4311-ccc3-958295fe374b"
      },
      "source": [
        "fig, ax = plt.subplots(figsize=(8, 6))\n",
        "plot_roc(y_valid, valid_probs_2d, ax=ax)\n",
        "neptune.log_image('diagnostic_charts', fig)"
      ],
      "execution_count": 57,
      "outputs": [
        {
          "output_type": "display_data",
          "data": {
            "image/png": "[encoded data removed]",
            "text/plain": [
              "<Figure size 576x432 with 1 Axes>"
            ]
          },
          "metadata": {
            "tags": [],
            "needs_background": "light"
          }
        }
      ]
    },
    {
      "cell_type": "code",
      "metadata": {
        "id": "b9U43gDyNYXr",
        "colab_type": "code",
        "colab": {
          "base_uri": "https://localhost:8080/",
          "height": 404
        },
        "outputId": "2e73cb4b-deb2-419e-8359-d97008fcca08"
      },
      "source": [
        "fig, ax = plt.subplots(figsize=(8, 6))\n",
        "plot_precision_recall(y_valid, valid_probs_2d, ax=ax)\n",
        "neptune.log_image('diagnostic_charts', fig)"
      ],
      "execution_count": 58,
      "outputs": [
        {
          "output_type": "display_data",
          "data": {
            "image/png": "[encoded data removed]",
            "text/plain": [
              "<Figure size 576x432 with 1 Axes>"
            ]
          },
          "metadata": {
            "tags": [],
            "needs_background": "light"
          }
        }
      ]
    },
    {
      "cell_type": "code",
      "metadata": {
        "id": "lV7qkxgQOx1r",
        "colab_type": "code",
        "colab": {
          "base_uri": "https://localhost:8080/",
          "height": 404
        },
        "outputId": "98c49cfc-7ba6-4ff1-971b-221029beaece"
      },
      "source": [
        "fig, ax = plt.subplots(figsize=(8, 6))\n",
        "plot_lift_curve(y_valid, valid_probs_2d, ax=ax)\n",
        "neptune.log_image('diagnostic_charts', fig)"
      ],
      "execution_count": 59,
      "outputs": [
        {
          "output_type": "display_data",
          "data": {
            "image/png": "[encoded data removed]",
            "text/plain": [
              "<Figure size 576x432 with 1 Axes>"
            ]
          },
          "metadata": {
            "tags": [],
            "needs_background": "light"
          }
        }
      ]
    },
    {
      "cell_type": "markdown",
      "metadata": {
        "id": "-o4jfNVRO1SM",
        "colab_type": "text"
      },
      "source": [
        "# Test Data Prediction"
      ]
    },
    {
      "cell_type": "code",
      "metadata": {
        "id": "nWE_qOXc3ewb",
        "colab_type": "code",
        "colab": {
          "base_uri": "https://localhost:8080/",
          "height": 34
        },
        "outputId": "0ba62893-1f31-4f24-9fb1-01e578026b65"
      },
      "source": [
        "df_train.shape, df_test.shape"
      ],
      "execution_count": 70,
      "outputs": [
        {
          "output_type": "execute_result",
          "data": {
            "text/plain": [
              "((7920, 6), (1953, 5))"
            ]
          },
          "metadata": {
            "tags": []
          },
          "execution_count": 70
        }
      ]
    },
    {
      "cell_type": "code",
      "metadata": {
        "id": "bhjMeY6q56kI",
        "colab_type": "code",
        "colab": {
          "base_uri": "https://localhost:8080/",
          "height": 274
        },
        "outputId": "03795037-8497-4d7b-d05e-88b039062503"
      },
      "source": [
        "df_test.head(2)"
      ],
      "execution_count": 79,
      "outputs": [
        {
          "output_type": "execute_result",
          "data": {
            "text/html": [
              "<div>\n",
              "<style scoped>\n",
              "    .dataframe tbody tr th:only-of-type {\n",
              "        vertical-align: middle;\n",
              "    }\n",
              "\n",
              "    .dataframe tbody tr th {\n",
              "        vertical-align: top;\n",
              "    }\n",
              "\n",
              "    .dataframe thead th {\n",
              "        text-align: right;\n",
              "    }\n",
              "</style>\n",
              "<table border=\"1\" class=\"dataframe\">\n",
              "  <thead>\n",
              "    <tr style=\"text-align: right;\">\n",
              "      <th></th>\n",
              "      <th>id</th>\n",
              "      <th>tweet</th>\n",
              "      <th>tweet_clean</th>\n",
              "      <th>tokenized_tweet_clean</th>\n",
              "      <th>length</th>\n",
              "    </tr>\n",
              "  </thead>\n",
              "  <tbody>\n",
              "    <tr>\n",
              "      <th>0</th>\n",
              "      <td>7921</td>\n",
              "      <td>I hate the new #iphone upgrade. Won't let me download apps. #ugh #apple sucks</td>\n",
              "      <td>I hate the new iphone upgrade Won let me download apps ugh apple sucks</td>\n",
              "      <td>[1045, 5223, 1996, 2047, 18059, 12200, 2180, 2292, 2033, 8816, 18726, 1057, 5603, 6207, 19237]</td>\n",
              "      <td>70</td>\n",
              "    </tr>\n",
              "    <tr>\n",
              "      <th>1</th>\n",
              "      <td>7922</td>\n",
              "      <td>currently shitting my fucking pants. #apple #iMac #cashmoney #raddest #swagswagswag http://instagr.am/p/UUIS0bIBZo/</td>\n",
              "      <td>currently shitting my fucking pants apple iMac cashmoney raddest swagswagswag http instagr am UUIS bIBZo</td>\n",
              "      <td>[2747, 4485, 3436, 2026, 8239, 6471, 6207, 10047, 6305, 5356, 8202, 3240, 10958, 14141, 4355, 25430, 26454, 4213, 5620, 4213, 2290, 8299, 16021, 15900, 2099, 2572, 1057, 27020, 12170, 2497, 6844]</td>\n",
              "      <td>105</td>\n",
              "    </tr>\n",
              "  </tbody>\n",
              "</table>\n",
              "</div>"
            ],
            "text/plain": [
              "     id  \\\n",
              "0  7921   \n",
              "1  7922   \n",
              "\n",
              "                                                                                                                 tweet  \\\n",
              "0                                        I hate the new #iphone upgrade. Won't let me download apps. #ugh #apple sucks   \n",
              "1  currently shitting my fucking pants. #apple #iMac #cashmoney #raddest #swagswagswag http://instagr.am/p/UUIS0bIBZo/   \n",
              "\n",
              "                                                                                                 tweet_clean  \\\n",
              "0                                     I hate the new iphone upgrade Won let me download apps ugh apple sucks   \n",
              "1  currently shitting my fucking pants apple iMac cashmoney raddest swagswagswag http instagr am UUIS bIBZo    \n",
              "\n",
              "                                                                                                                                                                                 tokenized_tweet_clean  \\\n",
              "0                                                                                                       [1045, 5223, 1996, 2047, 18059, 12200, 2180, 2292, 2033, 8816, 18726, 1057, 5603, 6207, 19237]   \n",
              "1  [2747, 4485, 3436, 2026, 8239, 6471, 6207, 10047, 6305, 5356, 8202, 3240, 10958, 14141, 4355, 25430, 26454, 4213, 5620, 4213, 2290, 8299, 16021, 15900, 2099, 2572, 1057, 27020, 12170, 2497, 6844]   \n",
              "\n",
              "   length  \n",
              "0      70  \n",
              "1     105  "
            ]
          },
          "metadata": {
            "tags": []
          },
          "execution_count": 79
        }
      ]
    },
    {
      "cell_type": "code",
      "metadata": {
        "id": "HlYhEkBj58NA",
        "colab_type": "code",
        "colab": {
          "base_uri": "https://localhost:8080/",
          "height": 34
        },
        "outputId": "aca0744d-cbca-4348-ab71-afcad2be030d"
      },
      "source": [
        "df_test[tmc].apply(len).min()"
      ],
      "execution_count": 82,
      "outputs": [
        {
          "output_type": "execute_result",
          "data": {
            "text/plain": [
              "8"
            ]
          },
          "metadata": {
            "tags": []
          },
          "execution_count": 82
        }
      ]
    },
    {
      "cell_type": "code",
      "metadata": {
        "id": "w4LfYj_40CFw",
        "colab_type": "code",
        "colab": {}
      },
      "source": [
        "tmp = [ (df_test[tmc][i], 0) for i in range(len(df_test)) ]\n",
        "\n",
        "BATCH_SIZE = 32\n",
        "\n",
        "processed_test_dataset = \\\n",
        "tf.data.Dataset.from_generator(\n",
        "    lambda: tmp,\n",
        "     output_types=(tf.int32, tf.int32)\n",
        "     )\n",
        "\n",
        "batched_test_dataset = processed_test_dataset.padded_batch(BATCH_SIZE, padded_shapes=((None, ), ()))"
      ],
      "execution_count": 83,
      "outputs": []
    },
    {
      "cell_type": "code",
      "metadata": {
        "id": "NpboubmV5eYu",
        "colab_type": "code",
        "colab": {}
      },
      "source": [
        "test_data = batched_test_dataset"
      ],
      "execution_count": 84,
      "outputs": []
    },
    {
      "cell_type": "code",
      "metadata": {
        "id": "BZ_e1YBY0dMQ",
        "colab_type": "code",
        "colab": {
          "base_uri": "https://localhost:8080/",
          "height": 34
        },
        "outputId": "9e97b67f-51b6-4667-a266-71ce71d874e6"
      },
      "source": [
        "# predicted test labels\n",
        "test_probs = text_model.predict(test_data)\n",
        "test_preds = [1 if i>0.5 else 0 for i in test_probs]\n",
        "test_preds[:5], len(test_preds)"
      ],
      "execution_count": 85,
      "outputs": [
        {
          "output_type": "execute_result",
          "data": {
            "text/plain": [
              "([1, 1, 1, 1, 1], 1953)"
            ]
          },
          "metadata": {
            "tags": []
          },
          "execution_count": 85
        }
      ]
    },
    {
      "cell_type": "code",
      "metadata": {
        "id": "83nTlxb_0RAG",
        "colab_type": "code",
        "colab": {
          "base_uri": "https://localhost:8080/",
          "height": 107
        },
        "outputId": "4f261fe4-ea47-42c3-8272-0cf7ccc324d0"
      },
      "source": [
        "df_sub = pd.DataFrame({'id': df_test['id'],\n",
        "                       'label': test_preds})\n",
        "\n",
        "df_sub.head(2)"
      ],
      "execution_count": 86,
      "outputs": [
        {
          "output_type": "execute_result",
          "data": {
            "text/html": [
              "<div>\n",
              "<style scoped>\n",
              "    .dataframe tbody tr th:only-of-type {\n",
              "        vertical-align: middle;\n",
              "    }\n",
              "\n",
              "    .dataframe tbody tr th {\n",
              "        vertical-align: top;\n",
              "    }\n",
              "\n",
              "    .dataframe thead th {\n",
              "        text-align: right;\n",
              "    }\n",
              "</style>\n",
              "<table border=\"1\" class=\"dataframe\">\n",
              "  <thead>\n",
              "    <tr style=\"text-align: right;\">\n",
              "      <th></th>\n",
              "      <th>id</th>\n",
              "      <th>label</th>\n",
              "    </tr>\n",
              "  </thead>\n",
              "  <tbody>\n",
              "    <tr>\n",
              "      <th>0</th>\n",
              "      <td>7921</td>\n",
              "      <td>1</td>\n",
              "    </tr>\n",
              "    <tr>\n",
              "      <th>1</th>\n",
              "      <td>7922</td>\n",
              "      <td>1</td>\n",
              "    </tr>\n",
              "  </tbody>\n",
              "</table>\n",
              "</div>"
            ],
            "text/plain": [
              "     id  label\n",
              "0  7921      1\n",
              "1  7922      1"
            ]
          },
          "metadata": {
            "tags": []
          },
          "execution_count": 86
        }
      ]
    },
    {
      "cell_type": "code",
      "metadata": {
        "id": "X_v_naQ50lxv",
        "colab_type": "code",
        "colab": {}
      },
      "source": [
        "df_sub.to_csv('sub_bert_tf2.csv',index=False)"
      ],
      "execution_count": 87,
      "outputs": []
    },
    {
      "cell_type": "code",
      "metadata": {
        "id": "xQBBA_jg01HR",
        "colab_type": "code",
        "colab": {
          "base_uri": "https://localhost:8080/",
          "height": 52
        },
        "outputId": "b854b665-1d7e-470a-dcaf-1198624c3da0"
      },
      "source": [
        "!head -2 sub_bert_tf2.csv"
      ],
      "execution_count": 88,
      "outputs": [
        {
          "output_type": "stream",
          "text": [
            "id,label\n",
            "7921,1\n"
          ],
          "name": "stdout"
        }
      ]
    },
    {
      "cell_type": "code",
      "metadata": {
        "id": "NkE2ZZPY02t3",
        "colab_type": "code",
        "colab": {}
      },
      "source": [
        "# upload the data to analytics vidhya"
      ],
      "execution_count": 90,
      "outputs": []
    },
    {
      "cell_type": "code",
      "metadata": {
        "id": "fTQDGXS27rdy",
        "colab_type": "code",
        "colab": {}
      },
      "source": [
        "neptune.log_text('AV valid score:', '0.878749831788103')"
      ],
      "execution_count": 91,
      "outputs": []
    },
    {
      "cell_type": "code",
      "metadata": {
        "id": "qsGCZ1yK7xFF",
        "colab_type": "code",
        "colab": {}
      },
      "source": [
        ""
      ],
      "execution_count": null,
      "outputs": []
    }
  ]
}