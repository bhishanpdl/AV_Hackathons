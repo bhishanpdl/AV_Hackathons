{
  "nbformat": 4,
  "nbformat_minor": 0,
  "metadata": {
    "colab": {
      "name": "d04_sentiment_analysis_keras_lstm.ipynb",
      "provenance": [],
      "collapsed_sections": []
    },
    "kernelspec": {
      "name": "python3",
      "display_name": "Python 3"
    },
    "accelerator": "GPU"
  },
  "cells": [
    {
      "cell_type": "markdown",
      "metadata": {
        "id": "MBcRis_Eqlcp",
        "colab_type": "text"
      },
      "source": [
        "# Descriptions\n",
        "\n",
        "- BERT stands for Bidirectional Encoder Representations from Transformers\n",
        "- BERT was developed by researchers at Google in 2018\n",
        "- BERT is a text representation technique like Word Embeddings."
      ]
    },
    {
      "cell_type": "markdown",
      "metadata": {
        "id": "pD2fbcXzywYE",
        "colab_type": "text"
      },
      "source": [
        "# Google Colab"
      ]
    },
    {
      "cell_type": "code",
      "metadata": {
        "id": "TnnS6ZIPgQuy",
        "colab_type": "code",
        "colab": {
          "base_uri": "https://localhost:8080/",
          "height": 318
        },
        "outputId": "723ade46-a535-48ee-a81d-48f9fc693cdc"
      },
      "source": [
        "%%capture\n",
        "# capture will not print in notebook\n",
        "\n",
        "import os\n",
        "import sys\n",
        "ENV_COLAB = 'google.colab' in sys.modules\n",
        "\n",
        "if ENV_COLAB:\n",
        "    ## install modules\n",
        "    !pip install -q git+https://github.com/amaiya/eli5@tfkeras_0_10_1\n",
        "    !pip install -q neptune-client neptune-contrib\n",
        "    !pip install -q scikit-plot\n",
        "\n",
        "    ## print\n",
        "    print('Environment: Google Colaboratory.')\n",
        "\n",
        "# NOTE: If we update modules in gcolab, we need to restart runtime."
      ],
      "execution_count": 1,
      "outputs": [
        {
          "output_type": "stream",
          "text": [
            "  Building wheel for eli5 (setup.py) ... \u001b[?25l\u001b[?25hdone\n",
            "\u001b[K     |████████████████████████████████| 92kB 4.0MB/s \n",
            "\u001b[K     |████████████████████████████████| 71kB 8.1MB/s \n",
            "\u001b[K     |████████████████████████████████| 829kB 16.9MB/s \n",
            "\u001b[K     |████████████████████████████████| 61kB 9.1MB/s \n",
            "\u001b[K     |████████████████████████████████| 204kB 29.5MB/s \n",
            "\u001b[K     |████████████████████████████████| 163kB 30.0MB/s \n",
            "\u001b[K     |████████████████████████████████| 143kB 36.7MB/s \n",
            "\u001b[K     |████████████████████████████████| 133kB 17.3MB/s \n",
            "\u001b[K     |████████████████████████████████| 71kB 9.7MB/s \n",
            "\u001b[K     |████████████████████████████████| 71kB 10.0MB/s \n",
            "\u001b[?25h  Building wheel for neptune-client (setup.py) ... \u001b[?25l\u001b[?25hdone\n",
            "  Building wheel for neptune-contrib (setup.py) ... \u001b[?25l\u001b[?25hdone\n",
            "  Building wheel for future (setup.py) ... \u001b[?25l\u001b[?25hdone\n",
            "  Building wheel for msgpack-python (setup.py) ... \u001b[?25l\u001b[?25hdone\n",
            "  Building wheel for strict-rfc3339 (setup.py) ... \u001b[?25l\u001b[?25hdone\n",
            "Environment: Google Colaboratory.\n"
          ],
          "name": "stdout"
        }
      ]
    },
    {
      "cell_type": "code",
      "metadata": {
        "id": "k4V3Djet-Gc7",
        "colab_type": "code",
        "colab": {}
      },
      "source": [
        "import neptune\n",
        "from neptunecontrib.api import log_table\n",
        "from neptunecontrib.monitoring.keras import NeptuneMonitor"
      ],
      "execution_count": 3,
      "outputs": []
    },
    {
      "cell_type": "code",
      "metadata": {
        "id": "KWFr1c_G-IgY",
        "colab_type": "code",
        "colab": {}
      },
      "source": [
        "# use your real key and DELETE the cell\n",
        "\n",
        "# neptune.init('bhishanpdl/twitter-sentiment-analysis','your_api_key')"
      ],
      "execution_count": 4,
      "outputs": []
    },
    {
      "cell_type": "code",
      "metadata": {
        "id": "fDTa8jib6OK9",
        "colab_type": "code",
        "colab": {
          "base_uri": "https://localhost:8080/",
          "height": 34
        },
        "outputId": "5c240290-e6d5-43d7-e99a-6ddbd355f7e6"
      },
      "source": [
        "# deep learning\n",
        "import tensorflow as tf\n",
        "import keras\n",
        "from keras.utils import to_categorical\n",
        "from keras.preprocessing import sequence\n",
        "from keras.preprocessing.text import Tokenizer\n",
        "from keras.layers import Dense,Dropout,Embedding,LSTM\n",
        "from keras.callbacks import EarlyStopping\n",
        "from keras.losses import  binary_crossentropy, categorical_crossentropy\n",
        "from keras.optimizers import Adam\n",
        "from keras.models import Sequential\n",
        "\n",
        "import random\n",
        "SEED = 100\n",
        "tf.random.set_seed(SEED)\n",
        "random.seed(SEED)\n",
        "\n",
        "versions_dl = [(x.__name__,x.__version__) for x in [tf,keras]]\n",
        "print(versions_dl)"
      ],
      "execution_count": 6,
      "outputs": [
        {
          "output_type": "stream",
          "text": [
            "[('tensorflow', '2.3.0'), ('keras', '2.4.3')]\n"
          ],
          "name": "stdout"
        }
      ]
    },
    {
      "cell_type": "markdown",
      "metadata": {
        "id": "fD0Nuj24ylsk",
        "colab_type": "text"
      },
      "source": [
        "# Load the libraries"
      ]
    },
    {
      "cell_type": "code",
      "metadata": {
        "id": "E6Um2nU7yYW9",
        "colab_type": "code",
        "colab": {
          "base_uri": "https://localhost:8080/",
          "height": 34
        },
        "outputId": "36969bdb-7058-400f-ffab-4ca3b4efc351"
      },
      "source": [
        "import numpy as np\n",
        "import pandas as pd\n",
        "\n",
        "pd.set_option('max_colwidth',200)\n",
        "pd.set_option('max_columns',200)\n",
        "SEED = 100\n",
        "\n",
        "from pprint import pprint\n",
        "import time\n",
        "import sys\n",
        "import re\n",
        "from tqdm import tqdm\n",
        "tqdm.pandas()\n",
        "\n",
        "# nlp\n",
        "import nltk\n",
        "from nltk.tokenize import word_tokenize\n",
        "from nltk.stem import WordNetLemmatizer\n",
        "lemmatizer = WordNetLemmatizer()\n",
        "\n",
        "\n",
        "versions_ds = [(x.__name__,x.__version__) for x in [np,pd,nltk]]\n",
        "pprint(versions_ds)"
      ],
      "execution_count": 7,
      "outputs": [
        {
          "output_type": "stream",
          "text": [
            "[('numpy', '1.18.5'), ('pandas', '1.0.5'), ('nltk', '3.2.5')]\n"
          ],
          "name": "stdout"
        }
      ]
    },
    {
      "cell_type": "code",
      "metadata": {
        "id": "BhcKHDJltMLe",
        "colab_type": "code",
        "colab": {}
      },
      "source": [
        "from sklearn import metrics\n",
        "\n",
        "df_eval = pd.DataFrame({\n",
        "    'Text Model': [],\n",
        "    'Params': [],\n",
        "    'Model': [],\n",
        "    'Description': [],\n",
        "    'Accuracy': [],\n",
        "    'Precision': [],\n",
        "    'Recall': [],\n",
        "    'F1': [],\n",
        "})"
      ],
      "execution_count": 8,
      "outputs": []
    },
    {
      "cell_type": "markdown",
      "metadata": {
        "id": "HKgRz7rOynlY",
        "colab_type": "text"
      },
      "source": [
        "# Load the data"
      ]
    },
    {
      "cell_type": "code",
      "metadata": {
        "id": "C6jzFcvlzHCN",
        "colab_type": "code",
        "colab": {
          "base_uri": "https://localhost:8080/",
          "height": 623
        },
        "outputId": "74d5e31e-b253-4b53-8abf-b8b44f7c4485"
      },
      "source": [
        "target = 'label'\n",
        "maincol = 'tweet'\n",
        "\n",
        "p = 'https://github.com/bhishanpdl/Datasets/blob/master/AV_Hackathons/sentiment_analysis/processed/'\n",
        "df_combined = pd.read_csv(p + 'df_combined_clean.csv?raw=true')\n",
        "\n",
        "# we must convert list columns\n",
        "df_combined['tweet_lst_clean'] = df_combined['tweet_lst_clean'].apply(eval)\n",
        "df_combined['tweet_lst_clean_emoji'] = df_combined['tweet_lst_clean_emoji'].apply(eval)\n",
        "\n",
        "df_train = df_combined[~df_combined[target].isnull()]\n",
        "df_test = df_combined[df_combined[target].isnull()]\n",
        "\n",
        "print(f\"train : {df_train.shape}\")\n",
        "print(f\"test : {df_test.shape}\")\n",
        "display(df_train.head(2).append(df_train.tail(2)))"
      ],
      "execution_count": 9,
      "outputs": [
        {
          "output_type": "stream",
          "text": [
            "train : (7920, 24)\n",
            "test : (1953, 24)\n"
          ],
          "name": "stdout"
        },
        {
          "output_type": "display_data",
          "data": {
            "text/html": [
              "<div>\n",
              "<style scoped>\n",
              "    .dataframe tbody tr th:only-of-type {\n",
              "        vertical-align: middle;\n",
              "    }\n",
              "\n",
              "    .dataframe tbody tr th {\n",
              "        vertical-align: top;\n",
              "    }\n",
              "\n",
              "    .dataframe thead th {\n",
              "        text-align: right;\n",
              "    }\n",
              "</style>\n",
              "<table border=\"1\" class=\"dataframe\">\n",
              "  <thead>\n",
              "    <tr style=\"text-align: right;\">\n",
              "      <th></th>\n",
              "      <th>index</th>\n",
              "      <th>id</th>\n",
              "      <th>label</th>\n",
              "      <th>tweet</th>\n",
              "      <th>tweet_lst_clean</th>\n",
              "      <th>tweet_clean</th>\n",
              "      <th>hashtags_lst</th>\n",
              "      <th>hashtags</th>\n",
              "      <th>total_length</th>\n",
              "      <th>num_words</th>\n",
              "      <th>num_sent</th>\n",
              "      <th>num_unique_words</th>\n",
              "      <th>num_words_title</th>\n",
              "      <th>num_uppercase</th>\n",
              "      <th>num_exclamation_marks</th>\n",
              "      <th>num_question_marks</th>\n",
              "      <th>num_punctuation</th>\n",
              "      <th>num_symbols</th>\n",
              "      <th>num_digits</th>\n",
              "      <th>avg_word_len</th>\n",
              "      <th>avg_uppercase</th>\n",
              "      <th>avg_unique</th>\n",
              "      <th>tweet_lst_clean_emoji</th>\n",
              "      <th>tweet_clean_emoji</th>\n",
              "    </tr>\n",
              "  </thead>\n",
              "  <tbody>\n",
              "    <tr>\n",
              "      <th>0</th>\n",
              "      <td>0</td>\n",
              "      <td>1</td>\n",
              "      <td>0.0</td>\n",
              "      <td>#fingerprint #Pregnancy Test https://goo.gl/h1MfQV #android #apps #beautiful #cute #health #igers #iphoneonly #iphonesia #iphone</td>\n",
              "      <td>[fingerprint, pregnancy, test, android, aps, beautiful, cute, health, igers, iphoneonly, iphonesia, iphone]</td>\n",
              "      <td>fingerprint pregnancy test android aps beautiful cute health igers iphoneonly iphonesia iphone</td>\n",
              "      <td>['#fingerprint', '#Pregnancy', '#android', '#apps', '#beautiful', '#cute', '#health', '#igers', '#iphoneonly', '#iphonesia', '#iphone']</td>\n",
              "      <td>#fingerprint #Pregnancy #android #apps #beautiful #cute #health #igers #iphoneonly #iphonesia #iphone</td>\n",
              "      <td>128</td>\n",
              "      <td>13</td>\n",
              "      <td>1</td>\n",
              "      <td>13</td>\n",
              "      <td>2</td>\n",
              "      <td>5</td>\n",
              "      <td>0</td>\n",
              "      <td>0</td>\n",
              "      <td>2</td>\n",
              "      <td>0</td>\n",
              "      <td>0</td>\n",
              "      <td>8.923077</td>\n",
              "      <td>0.039062</td>\n",
              "      <td>1.0</td>\n",
              "      <td>[fingerprint, pregnancy, test, android, aps, beautiful, cute, health, iger, iphone, iphones, iphone]</td>\n",
              "      <td>fingerprint pregnancy test android aps beautiful cute health iger iphone iphones iphone</td>\n",
              "    </tr>\n",
              "    <tr>\n",
              "      <th>1</th>\n",
              "      <td>1</td>\n",
              "      <td>2</td>\n",
              "      <td>0.0</td>\n",
              "      <td>Finally a transparant silicon case ^^ Thanks to my uncle :) #yay #Sony #Xperia #S #sonyexperias… http://instagram.com/p/YGEt5JC6JM/</td>\n",
              "      <td>[finaly, transparant, silicon, case, thanks, uncle, yay, sony, xperia, sonyexperias]</td>\n",
              "      <td>finaly transparant silicon case thanks uncle yay sony xperia sonyexperias</td>\n",
              "      <td>['#yay', '#Sony', '#Xperia', '#S', '#sonyexperias…']</td>\n",
              "      <td>#yay #Sony #Xperia #S #sonyexperias…</td>\n",
              "      <td>131</td>\n",
              "      <td>17</td>\n",
              "      <td>1</td>\n",
              "      <td>17</td>\n",
              "      <td>5</td>\n",
              "      <td>12</td>\n",
              "      <td>0</td>\n",
              "      <td>0</td>\n",
              "      <td>3</td>\n",
              "      <td>0</td>\n",
              "      <td>0</td>\n",
              "      <td>6.764706</td>\n",
              "      <td>0.091603</td>\n",
              "      <td>1.0</td>\n",
              "      <td>[finaly, trans, paran, silicon, case, thanks, uncle, yay, sony, x, peri, sony, ex, peri]</td>\n",
              "      <td>finaly trans paran silicon case thanks uncle yay sony x peri sony ex peri</td>\n",
              "    </tr>\n",
              "    <tr>\n",
              "      <th>7918</th>\n",
              "      <td>7918</td>\n",
              "      <td>7919</td>\n",
              "      <td>0.0</td>\n",
              "      <td>Finally got my #smart #pocket #wifi stay connected anytime,anywhere! #ipad and #samsung #s3 #gadget # http://instagr.am/p/U-53G_vJU8/</td>\n",
              "      <td>[finaly, got, smart, pocket, wifi, stay, conected, anytimeanywhere, ipad, samsung, gadget]</td>\n",
              "      <td>finaly got smart pocket wifi stay conected anytimeanywhere ipad samsung gadget</td>\n",
              "      <td>['#smart', '#pocket', '#wifi', '#ipad', '#samsung', '#s3', '#gadget', '#']</td>\n",
              "      <td>#smart #pocket #wifi #ipad #samsung #s3 #gadget #</td>\n",
              "      <td>133</td>\n",
              "      <td>16</td>\n",
              "      <td>1</td>\n",
              "      <td>16</td>\n",
              "      <td>1</td>\n",
              "      <td>5</td>\n",
              "      <td>1</td>\n",
              "      <td>0</td>\n",
              "      <td>3</td>\n",
              "      <td>0</td>\n",
              "      <td>0</td>\n",
              "      <td>7.375000</td>\n",
              "      <td>0.037594</td>\n",
              "      <td>1.0</td>\n",
              "      <td>[finaly, got, smart, pocket, wi, fi, stay, conected, anytime, anywhere, ipad, samsung, gadget]</td>\n",
              "      <td>finaly got smart pocket wi fi stay conected anytime anywhere ipad samsung gadget</td>\n",
              "    </tr>\n",
              "    <tr>\n",
              "      <th>7919</th>\n",
              "      <td>7919</td>\n",
              "      <td>7920</td>\n",
              "      <td>0.0</td>\n",
              "      <td>Apple Barcelona!!! #Apple #Store #BCN #Barcelona #travel #iphone #selfie #fly #fun #cabincrew… http://instagram.com/p/wBApVzpCl3/</td>\n",
              "      <td>[aple, barcelona, aple, store, bcn, barcelona, travel, iphone, selfie, fly, fun, cabincrew]</td>\n",
              "      <td>aple barcelona aple store bcn barcelona travel iphone selfie fly fun cabincrew</td>\n",
              "      <td>['#Apple', '#Store', '#BCN', '#Barcelona', '#travel', '#iphone', '#selfie', '#fly', '#fun', '#cabincrew…']</td>\n",
              "      <td>#Apple #Store #BCN #Barcelona #travel #iphone #selfie #fly #fun #cabincrew…</td>\n",
              "      <td>129</td>\n",
              "      <td>13</td>\n",
              "      <td>1</td>\n",
              "      <td>13</td>\n",
              "      <td>5</td>\n",
              "      <td>12</td>\n",
              "      <td>3</td>\n",
              "      <td>0</td>\n",
              "      <td>2</td>\n",
              "      <td>0</td>\n",
              "      <td>0</td>\n",
              "      <td>9.000000</td>\n",
              "      <td>0.093023</td>\n",
              "      <td>1.0</td>\n",
              "      <td>[aple, barcelona, aple, store, n, barcelona, travel, iphone, self, ie, fly, fun, cabin, crew]</td>\n",
              "      <td>aple barcelona aple store n barcelona travel iphone self ie fly fun cabin crew</td>\n",
              "    </tr>\n",
              "  </tbody>\n",
              "</table>\n",
              "</div>"
            ],
            "text/plain": [
              "      index    id  label  \\\n",
              "0         0     1    0.0   \n",
              "1         1     2    0.0   \n",
              "7918   7918  7919    0.0   \n",
              "7919   7919  7920    0.0   \n",
              "\n",
              "                                                                                                                                      tweet  \\\n",
              "0          #fingerprint #Pregnancy Test https://goo.gl/h1MfQV #android #apps #beautiful #cute #health #igers #iphoneonly #iphonesia #iphone   \n",
              "1       Finally a transparant silicon case ^^ Thanks to my uncle :) #yay #Sony #Xperia #S #sonyexperias… http://instagram.com/p/YGEt5JC6JM/   \n",
              "7918  Finally got my #smart #pocket #wifi stay connected anytime,anywhere! #ipad and #samsung #s3 #gadget # http://instagr.am/p/U-53G_vJU8/   \n",
              "7919      Apple Barcelona!!! #Apple #Store #BCN #Barcelona #travel #iphone #selfie #fly #fun #cabincrew… http://instagram.com/p/wBApVzpCl3/   \n",
              "\n",
              "                                                                                                  tweet_lst_clean  \\\n",
              "0     [fingerprint, pregnancy, test, android, aps, beautiful, cute, health, igers, iphoneonly, iphonesia, iphone]   \n",
              "1                            [finaly, transparant, silicon, case, thanks, uncle, yay, sony, xperia, sonyexperias]   \n",
              "7918                   [finaly, got, smart, pocket, wifi, stay, conected, anytimeanywhere, ipad, samsung, gadget]   \n",
              "7919                  [aple, barcelona, aple, store, bcn, barcelona, travel, iphone, selfie, fly, fun, cabincrew]   \n",
              "\n",
              "                                                                                         tweet_clean  \\\n",
              "0     fingerprint pregnancy test android aps beautiful cute health igers iphoneonly iphonesia iphone   \n",
              "1                          finaly transparant silicon case thanks uncle yay sony xperia sonyexperias   \n",
              "7918                  finaly got smart pocket wifi stay conected anytimeanywhere ipad samsung gadget   \n",
              "7919                  aple barcelona aple store bcn barcelona travel iphone selfie fly fun cabincrew   \n",
              "\n",
              "                                                                                                                                 hashtags_lst  \\\n",
              "0     ['#fingerprint', '#Pregnancy', '#android', '#apps', '#beautiful', '#cute', '#health', '#igers', '#iphoneonly', '#iphonesia', '#iphone']   \n",
              "1                                                                                        ['#yay', '#Sony', '#Xperia', '#S', '#sonyexperias…']   \n",
              "7918                                                               ['#smart', '#pocket', '#wifi', '#ipad', '#samsung', '#s3', '#gadget', '#']   \n",
              "7919                               ['#Apple', '#Store', '#BCN', '#Barcelona', '#travel', '#iphone', '#selfie', '#fly', '#fun', '#cabincrew…']   \n",
              "\n",
              "                                                                                                   hashtags  \\\n",
              "0     #fingerprint #Pregnancy #android #apps #beautiful #cute #health #igers #iphoneonly #iphonesia #iphone   \n",
              "1                                                                      #yay #Sony #Xperia #S #sonyexperias…   \n",
              "7918                                                      #smart #pocket #wifi #ipad #samsung #s3 #gadget #   \n",
              "7919                            #Apple #Store #BCN #Barcelona #travel #iphone #selfie #fly #fun #cabincrew…   \n",
              "\n",
              "      total_length  num_words  num_sent  num_unique_words  num_words_title  \\\n",
              "0              128         13         1                13                2   \n",
              "1              131         17         1                17                5   \n",
              "7918           133         16         1                16                1   \n",
              "7919           129         13         1                13                5   \n",
              "\n",
              "      num_uppercase  num_exclamation_marks  num_question_marks  \\\n",
              "0                 5                      0                   0   \n",
              "1                12                      0                   0   \n",
              "7918              5                      1                   0   \n",
              "7919             12                      3                   0   \n",
              "\n",
              "      num_punctuation  num_symbols  num_digits  avg_word_len  avg_uppercase  \\\n",
              "0                   2            0           0      8.923077       0.039062   \n",
              "1                   3            0           0      6.764706       0.091603   \n",
              "7918                3            0           0      7.375000       0.037594   \n",
              "7919                2            0           0      9.000000       0.093023   \n",
              "\n",
              "      avg_unique  \\\n",
              "0            1.0   \n",
              "1            1.0   \n",
              "7918         1.0   \n",
              "7919         1.0   \n",
              "\n",
              "                                                                                     tweet_lst_clean_emoji  \\\n",
              "0     [fingerprint, pregnancy, test, android, aps, beautiful, cute, health, iger, iphone, iphones, iphone]   \n",
              "1                 [finaly, trans, paran, silicon, case, thanks, uncle, yay, sony, x, peri, sony, ex, peri]   \n",
              "7918        [finaly, got, smart, pocket, wi, fi, stay, conected, anytime, anywhere, ipad, samsung, gadget]   \n",
              "7919         [aple, barcelona, aple, store, n, barcelona, travel, iphone, self, ie, fly, fun, cabin, crew]   \n",
              "\n",
              "                                                                            tweet_clean_emoji  \n",
              "0     fingerprint pregnancy test android aps beautiful cute health iger iphone iphones iphone  \n",
              "1                   finaly trans paran silicon case thanks uncle yay sony x peri sony ex peri  \n",
              "7918         finaly got smart pocket wi fi stay conected anytime anywhere ipad samsung gadget  \n",
              "7919           aple barcelona aple store n barcelona travel iphone self ie fly fun cabin crew  "
            ]
          },
          "metadata": {
            "tags": []
          }
        }
      ]
    },
    {
      "cell_type": "code",
      "metadata": {
        "id": "kMKpFZEaCOB5",
        "colab_type": "code",
        "colab": {
          "base_uri": "https://localhost:8080/",
          "height": 471
        },
        "outputId": "06286e13-5297-41a1-8b07-57c0e99bf25d"
      },
      "source": [
        "display(df_test.head(2).append(df_test.tail(2)))"
      ],
      "execution_count": 10,
      "outputs": [
        {
          "output_type": "display_data",
          "data": {
            "text/html": [
              "<div>\n",
              "<style scoped>\n",
              "    .dataframe tbody tr th:only-of-type {\n",
              "        vertical-align: middle;\n",
              "    }\n",
              "\n",
              "    .dataframe tbody tr th {\n",
              "        vertical-align: top;\n",
              "    }\n",
              "\n",
              "    .dataframe thead th {\n",
              "        text-align: right;\n",
              "    }\n",
              "</style>\n",
              "<table border=\"1\" class=\"dataframe\">\n",
              "  <thead>\n",
              "    <tr style=\"text-align: right;\">\n",
              "      <th></th>\n",
              "      <th>index</th>\n",
              "      <th>id</th>\n",
              "      <th>label</th>\n",
              "      <th>tweet</th>\n",
              "      <th>tweet_lst_clean</th>\n",
              "      <th>tweet_clean</th>\n",
              "      <th>hashtags_lst</th>\n",
              "      <th>hashtags</th>\n",
              "      <th>total_length</th>\n",
              "      <th>num_words</th>\n",
              "      <th>num_sent</th>\n",
              "      <th>num_unique_words</th>\n",
              "      <th>num_words_title</th>\n",
              "      <th>num_uppercase</th>\n",
              "      <th>num_exclamation_marks</th>\n",
              "      <th>num_question_marks</th>\n",
              "      <th>num_punctuation</th>\n",
              "      <th>num_symbols</th>\n",
              "      <th>num_digits</th>\n",
              "      <th>avg_word_len</th>\n",
              "      <th>avg_uppercase</th>\n",
              "      <th>avg_unique</th>\n",
              "      <th>tweet_lst_clean_emoji</th>\n",
              "      <th>tweet_clean_emoji</th>\n",
              "    </tr>\n",
              "  </thead>\n",
              "  <tbody>\n",
              "    <tr>\n",
              "      <th>7920</th>\n",
              "      <td>0</td>\n",
              "      <td>7921</td>\n",
              "      <td>NaN</td>\n",
              "      <td>I hate the new #iphone upgrade. Won't let me download apps. #ugh #apple sucks</td>\n",
              "      <td>[hate, new, iphone, upgrade, wil, let, download, aps, ugh, aple, suck]</td>\n",
              "      <td>hate new iphone upgrade wil let download aps ugh aple suck</td>\n",
              "      <td>['#iphone', '#ugh', '#apple']</td>\n",
              "      <td>#iphone #ugh #apple</td>\n",
              "      <td>77</td>\n",
              "      <td>14</td>\n",
              "      <td>1</td>\n",
              "      <td>14</td>\n",
              "      <td>1</td>\n",
              "      <td>2</td>\n",
              "      <td>0</td>\n",
              "      <td>0</td>\n",
              "      <td>2</td>\n",
              "      <td>0</td>\n",
              "      <td>0</td>\n",
              "      <td>4.571429</td>\n",
              "      <td>0.025974</td>\n",
              "      <td>1.000000</td>\n",
              "      <td>[hate, new, iphone, upgrade, wil, let, download, aps, ugh, aple, suck]</td>\n",
              "      <td>hate new iphone upgrade wil let download aps ugh aple suck</td>\n",
              "    </tr>\n",
              "    <tr>\n",
              "      <th>7921</th>\n",
              "      <td>1</td>\n",
              "      <td>7922</td>\n",
              "      <td>NaN</td>\n",
              "      <td>currently shitting my fucking pants. #apple #iMac #cashmoney #raddest #swagswagswag http://instagr.am/p/UUIS0bIBZo/</td>\n",
              "      <td>[curently, shiting, fucking, pant, aple, imac, cashmoney, radest, swagswag]</td>\n",
              "      <td>curently shiting fucking pant aple imac cashmoney radest swagswag</td>\n",
              "      <td>['#apple', '#iMac', '#cashmoney', '#raddest', '#swagswagswag']</td>\n",
              "      <td>#apple #iMac #cashmoney #raddest #swagswagswag</td>\n",
              "      <td>115</td>\n",
              "      <td>11</td>\n",
              "      <td>1</td>\n",
              "      <td>11</td>\n",
              "      <td>0</td>\n",
              "      <td>8</td>\n",
              "      <td>0</td>\n",
              "      <td>0</td>\n",
              "      <td>3</td>\n",
              "      <td>0</td>\n",
              "      <td>0</td>\n",
              "      <td>9.545455</td>\n",
              "      <td>0.069565</td>\n",
              "      <td>1.000000</td>\n",
              "      <td>[curently, shiting, fucking, pant, aple, imac, cash, money, rad, de, st, swag, wag, wag]</td>\n",
              "      <td>curently shiting fucking pant aple imac cash money rad de st swag wag wag</td>\n",
              "    </tr>\n",
              "    <tr>\n",
              "      <th>9871</th>\n",
              "      <td>1951</td>\n",
              "      <td>9872</td>\n",
              "      <td>NaN</td>\n",
              "      <td>@codeofinterest as i said #Adobe big time we may well as include #apple to</td>\n",
              "      <td>[codeofinterest, said, adobe, big, time, may, wel, include, aple]</td>\n",
              "      <td>codeofinterest said adobe big time may wel include aple</td>\n",
              "      <td>['#Adobe', '#apple']</td>\n",
              "      <td>#Adobe #apple</td>\n",
              "      <td>74</td>\n",
              "      <td>14</td>\n",
              "      <td>1</td>\n",
              "      <td>13</td>\n",
              "      <td>1</td>\n",
              "      <td>1</td>\n",
              "      <td>0</td>\n",
              "      <td>0</td>\n",
              "      <td>0</td>\n",
              "      <td>0</td>\n",
              "      <td>0</td>\n",
              "      <td>4.357143</td>\n",
              "      <td>0.013514</td>\n",
              "      <td>0.928571</td>\n",
              "      <td>[code, interest, said, adobe, big, time, may, wel, include, aple]</td>\n",
              "      <td>code interest said adobe big time may wel include aple</td>\n",
              "    </tr>\n",
              "    <tr>\n",
              "      <th>9872</th>\n",
              "      <td>1952</td>\n",
              "      <td>9873</td>\n",
              "      <td>NaN</td>\n",
              "      <td>Finally I got it .. thanx my father .. #Samsung #galaxy #s3 #gift #father #phone #new http://instagr.am/p/NoxkiPE</td>\n",
              "      <td>[finaly, got, thanx, father, samsung, galaxy, gift, father, phone, new]</td>\n",
              "      <td>finaly got thanx father samsung galaxy gift father phone new</td>\n",
              "      <td>['#Samsung', '#galaxy', '#s3', '#gift', '#father', '#phone', '#new']</td>\n",
              "      <td>#Samsung #galaxy #s3 #gift #father #phone #new</td>\n",
              "      <td>113</td>\n",
              "      <td>17</td>\n",
              "      <td>1</td>\n",
              "      <td>16</td>\n",
              "      <td>3</td>\n",
              "      <td>6</td>\n",
              "      <td>0</td>\n",
              "      <td>0</td>\n",
              "      <td>6</td>\n",
              "      <td>0</td>\n",
              "      <td>0</td>\n",
              "      <td>5.705882</td>\n",
              "      <td>0.053097</td>\n",
              "      <td>0.941176</td>\n",
              "      <td>[finaly, got, x, father, samsung, galaxy, gift, father, phone, new]</td>\n",
              "      <td>finaly got x father samsung galaxy gift father phone new</td>\n",
              "    </tr>\n",
              "  </tbody>\n",
              "</table>\n",
              "</div>"
            ],
            "text/plain": [
              "      index    id  label  \\\n",
              "7920      0  7921    NaN   \n",
              "7921      1  7922    NaN   \n",
              "9871   1951  9872    NaN   \n",
              "9872   1952  9873    NaN   \n",
              "\n",
              "                                                                                                                    tweet  \\\n",
              "7920                                        I hate the new #iphone upgrade. Won't let me download apps. #ugh #apple sucks   \n",
              "7921  currently shitting my fucking pants. #apple #iMac #cashmoney #raddest #swagswagswag http://instagr.am/p/UUIS0bIBZo/   \n",
              "9871                                           @codeofinterest as i said #Adobe big time we may well as include #apple to   \n",
              "9872    Finally I got it .. thanx my father .. #Samsung #galaxy #s3 #gift #father #phone #new http://instagr.am/p/NoxkiPE   \n",
              "\n",
              "                                                                  tweet_lst_clean  \\\n",
              "7920       [hate, new, iphone, upgrade, wil, let, download, aps, ugh, aple, suck]   \n",
              "7921  [curently, shiting, fucking, pant, aple, imac, cashmoney, radest, swagswag]   \n",
              "9871            [codeofinterest, said, adobe, big, time, may, wel, include, aple]   \n",
              "9872      [finaly, got, thanx, father, samsung, galaxy, gift, father, phone, new]   \n",
              "\n",
              "                                                            tweet_clean  \\\n",
              "7920         hate new iphone upgrade wil let download aps ugh aple suck   \n",
              "7921  curently shiting fucking pant aple imac cashmoney radest swagswag   \n",
              "9871            codeofinterest said adobe big time may wel include aple   \n",
              "9872       finaly got thanx father samsung galaxy gift father phone new   \n",
              "\n",
              "                                                              hashtags_lst  \\\n",
              "7920                                         ['#iphone', '#ugh', '#apple']   \n",
              "7921        ['#apple', '#iMac', '#cashmoney', '#raddest', '#swagswagswag']   \n",
              "9871                                                  ['#Adobe', '#apple']   \n",
              "9872  ['#Samsung', '#galaxy', '#s3', '#gift', '#father', '#phone', '#new']   \n",
              "\n",
              "                                            hashtags  total_length  num_words  \\\n",
              "7920                             #iphone #ugh #apple            77         14   \n",
              "7921  #apple #iMac #cashmoney #raddest #swagswagswag           115         11   \n",
              "9871                                   #Adobe #apple            74         14   \n",
              "9872  #Samsung #galaxy #s3 #gift #father #phone #new           113         17   \n",
              "\n",
              "      num_sent  num_unique_words  num_words_title  num_uppercase  \\\n",
              "7920         1                14                1              2   \n",
              "7921         1                11                0              8   \n",
              "9871         1                13                1              1   \n",
              "9872         1                16                3              6   \n",
              "\n",
              "      num_exclamation_marks  num_question_marks  num_punctuation  num_symbols  \\\n",
              "7920                      0                   0                2            0   \n",
              "7921                      0                   0                3            0   \n",
              "9871                      0                   0                0            0   \n",
              "9872                      0                   0                6            0   \n",
              "\n",
              "      num_digits  avg_word_len  avg_uppercase  avg_unique  \\\n",
              "7920           0      4.571429       0.025974    1.000000   \n",
              "7921           0      9.545455       0.069565    1.000000   \n",
              "9871           0      4.357143       0.013514    0.928571   \n",
              "9872           0      5.705882       0.053097    0.941176   \n",
              "\n",
              "                                                                         tweet_lst_clean_emoji  \\\n",
              "7920                    [hate, new, iphone, upgrade, wil, let, download, aps, ugh, aple, suck]   \n",
              "7921  [curently, shiting, fucking, pant, aple, imac, cash, money, rad, de, st, swag, wag, wag]   \n",
              "9871                         [code, interest, said, adobe, big, time, may, wel, include, aple]   \n",
              "9872                       [finaly, got, x, father, samsung, galaxy, gift, father, phone, new]   \n",
              "\n",
              "                                                              tweet_clean_emoji  \n",
              "7920                 hate new iphone upgrade wil let download aps ugh aple suck  \n",
              "7921  curently shiting fucking pant aple imac cash money rad de st swag wag wag  \n",
              "9871                     code interest said adobe big time may wel include aple  \n",
              "9872                   finaly got x father samsung galaxy gift father phone new  "
            ]
          },
          "metadata": {
            "tags": []
          }
        }
      ]
    },
    {
      "cell_type": "markdown",
      "metadata": {
        "id": "WUNfFIMm7Rtl",
        "colab_type": "text"
      },
      "source": [
        "# Train valid split"
      ]
    },
    {
      "cell_type": "code",
      "metadata": {
        "id": "Cd_dpXwu7U5v",
        "colab_type": "code",
        "colab": {
          "base_uri": "https://localhost:8080/",
          "height": 422
        },
        "outputId": "6faff157-3281-4cca-b692-0e2d971c52a8"
      },
      "source": [
        "from sklearn.model_selection import train_test_split\n",
        "\n",
        "target = 'label'\n",
        "\n",
        "df_Xtrain, df_Xvalid, ser_ytrain, ser_yvalid = train_test_split(\n",
        "    df_train, df_train[target],\n",
        "    test_size=0.2, random_state=SEED, stratify=df_train[target])\n",
        "\n",
        "y_train = ser_ytrain.to_numpy().ravel()\n",
        "y_valid = ser_yvalid.to_numpy().ravel()\n",
        "\n",
        "print(f\"df_train   : {df_train.shape}\\n\")\n",
        "\n",
        "print(f\"df_Xtrain  : {df_Xtrain.shape}\")\n",
        "print(f\"ser_ytrain : {ser_ytrain.shape}\\n\")\n",
        "\n",
        "print(f\"df_Xvalid  : {df_Xvalid.shape}\")\n",
        "print(f\"ser_yvalid : {ser_yvalid.shape}\\n\")\n",
        "\n",
        "print(f\"df_test    : {df_test.shape}\")\n",
        "print(f\"ser_ytest  : This does not exist.\")\n",
        "\n",
        "df_Xtrain.head(2)"
      ],
      "execution_count": 11,
      "outputs": [
        {
          "output_type": "stream",
          "text": [
            "df_train   : (7920, 24)\n",
            "\n",
            "df_Xtrain  : (6336, 24)\n",
            "ser_ytrain : (6336,)\n",
            "\n",
            "df_Xvalid  : (1584, 24)\n",
            "ser_yvalid : (1584,)\n",
            "\n",
            "df_test    : (1953, 24)\n",
            "ser_ytest  : This does not exist.\n"
          ],
          "name": "stdout"
        },
        {
          "output_type": "execute_result",
          "data": {
            "text/html": [
              "<div>\n",
              "<style scoped>\n",
              "    .dataframe tbody tr th:only-of-type {\n",
              "        vertical-align: middle;\n",
              "    }\n",
              "\n",
              "    .dataframe tbody tr th {\n",
              "        vertical-align: top;\n",
              "    }\n",
              "\n",
              "    .dataframe thead th {\n",
              "        text-align: right;\n",
              "    }\n",
              "</style>\n",
              "<table border=\"1\" class=\"dataframe\">\n",
              "  <thead>\n",
              "    <tr style=\"text-align: right;\">\n",
              "      <th></th>\n",
              "      <th>index</th>\n",
              "      <th>id</th>\n",
              "      <th>label</th>\n",
              "      <th>tweet</th>\n",
              "      <th>tweet_lst_clean</th>\n",
              "      <th>tweet_clean</th>\n",
              "      <th>hashtags_lst</th>\n",
              "      <th>hashtags</th>\n",
              "      <th>total_length</th>\n",
              "      <th>num_words</th>\n",
              "      <th>num_sent</th>\n",
              "      <th>num_unique_words</th>\n",
              "      <th>num_words_title</th>\n",
              "      <th>num_uppercase</th>\n",
              "      <th>num_exclamation_marks</th>\n",
              "      <th>num_question_marks</th>\n",
              "      <th>num_punctuation</th>\n",
              "      <th>num_symbols</th>\n",
              "      <th>num_digits</th>\n",
              "      <th>avg_word_len</th>\n",
              "      <th>avg_uppercase</th>\n",
              "      <th>avg_unique</th>\n",
              "      <th>tweet_lst_clean_emoji</th>\n",
              "      <th>tweet_clean_emoji</th>\n",
              "    </tr>\n",
              "  </thead>\n",
              "  <tbody>\n",
              "    <tr>\n",
              "      <th>1257</th>\n",
              "      <td>1257</td>\n",
              "      <td>1258</td>\n",
              "      <td>0.0</td>\n",
              "      <td>new iphone case. #guerlain #new #iphone #case #iphone4s #4s #pink #lapetiterobenoir it… http://instagram.com/p/YTHkSuNtTE/</td>\n",
              "      <td>[new, iphone, case, guerlain, new, iphone, case, iphones, pink, lapetiterobenoir]</td>\n",
              "      <td>new iphone case guerlain new iphone case iphones pink lapetiterobenoir</td>\n",
              "      <td>['#guerlain', '#new', '#iphone', '#case', '#iphone4s', '#4s', '#pink', '#lapetiterobenoir']</td>\n",
              "      <td>#guerlain #new #iphone #case #iphone4s #4s #pink #lapetiterobenoir</td>\n",
              "      <td>122</td>\n",
              "      <td>13</td>\n",
              "      <td>1</td>\n",
              "      <td>13</td>\n",
              "      <td>0</td>\n",
              "      <td>7</td>\n",
              "      <td>0</td>\n",
              "      <td>0</td>\n",
              "      <td>3</td>\n",
              "      <td>0</td>\n",
              "      <td>0</td>\n",
              "      <td>8.461538</td>\n",
              "      <td>0.057377</td>\n",
              "      <td>1.000000</td>\n",
              "      <td>[new, iphone, case, gue, rla, new, iphone, case, iphone, pink, la, petite, robe, noir]</td>\n",
              "      <td>new iphone case gue rla new iphone case iphone pink la petite robe noir</td>\n",
              "    </tr>\n",
              "    <tr>\n",
              "      <th>1400</th>\n",
              "      <td>1400</td>\n",
              "      <td>1401</td>\n",
              "      <td>0.0</td>\n",
              "      <td>i really want an iPad for the sole reason that I just want one apple</td>\n",
              "      <td>[realy, want, ipad, sole, reason, want, one, aple]</td>\n",
              "      <td>realy want ipad sole reason want one aple</td>\n",
              "      <td>[]</td>\n",
              "      <td>NaN</td>\n",
              "      <td>68</td>\n",
              "      <td>15</td>\n",
              "      <td>1</td>\n",
              "      <td>14</td>\n",
              "      <td>1</td>\n",
              "      <td>2</td>\n",
              "      <td>0</td>\n",
              "      <td>0</td>\n",
              "      <td>0</td>\n",
              "      <td>0</td>\n",
              "      <td>0</td>\n",
              "      <td>3.600000</td>\n",
              "      <td>0.029412</td>\n",
              "      <td>0.933333</td>\n",
              "      <td>[realy, want, ipad, sole, reason, want, one, aple]</td>\n",
              "      <td>realy want ipad sole reason want one aple</td>\n",
              "    </tr>\n",
              "  </tbody>\n",
              "</table>\n",
              "</div>"
            ],
            "text/plain": [
              "      index    id  label  \\\n",
              "1257   1257  1258    0.0   \n",
              "1400   1400  1401    0.0   \n",
              "\n",
              "                                                                                                                           tweet  \\\n",
              "1257  new iphone case. #guerlain #new #iphone #case #iphone4s #4s #pink #lapetiterobenoir it… http://instagram.com/p/YTHkSuNtTE/   \n",
              "1400                                                        i really want an iPad for the sole reason that I just want one apple   \n",
              "\n",
              "                                                                        tweet_lst_clean  \\\n",
              "1257  [new, iphone, case, guerlain, new, iphone, case, iphones, pink, lapetiterobenoir]   \n",
              "1400                                 [realy, want, ipad, sole, reason, want, one, aple]   \n",
              "\n",
              "                                                                 tweet_clean  \\\n",
              "1257  new iphone case guerlain new iphone case iphones pink lapetiterobenoir   \n",
              "1400                               realy want ipad sole reason want one aple   \n",
              "\n",
              "                                                                                     hashtags_lst  \\\n",
              "1257  ['#guerlain', '#new', '#iphone', '#case', '#iphone4s', '#4s', '#pink', '#lapetiterobenoir']   \n",
              "1400                                                                                           []   \n",
              "\n",
              "                                                                hashtags  \\\n",
              "1257  #guerlain #new #iphone #case #iphone4s #4s #pink #lapetiterobenoir   \n",
              "1400                                                                 NaN   \n",
              "\n",
              "      total_length  num_words  num_sent  num_unique_words  num_words_title  \\\n",
              "1257           122         13         1                13                0   \n",
              "1400            68         15         1                14                1   \n",
              "\n",
              "      num_uppercase  num_exclamation_marks  num_question_marks  \\\n",
              "1257              7                      0                   0   \n",
              "1400              2                      0                   0   \n",
              "\n",
              "      num_punctuation  num_symbols  num_digits  avg_word_len  avg_uppercase  \\\n",
              "1257                3            0           0      8.461538       0.057377   \n",
              "1400                0            0           0      3.600000       0.029412   \n",
              "\n",
              "      avg_unique  \\\n",
              "1257    1.000000   \n",
              "1400    0.933333   \n",
              "\n",
              "                                                                       tweet_lst_clean_emoji  \\\n",
              "1257  [new, iphone, case, gue, rla, new, iphone, case, iphone, pink, la, petite, robe, noir]   \n",
              "1400                                      [realy, want, ipad, sole, reason, want, one, aple]   \n",
              "\n",
              "                                                            tweet_clean_emoji  \n",
              "1257  new iphone case gue rla new iphone case iphone pink la petite robe noir  \n",
              "1400                                realy want ipad sole reason want one aple  "
            ]
          },
          "metadata": {
            "tags": []
          },
          "execution_count": 11
        }
      ]
    },
    {
      "cell_type": "code",
      "metadata": {
        "id": "vZBtgPv8UPOH",
        "colab_type": "code",
        "colab": {}
      },
      "source": [
        "from sklearn import metrics\n",
        "\n",
        "df_eval = pd.DataFrame({\n",
        "    'Text Model': [],\n",
        "    'Params': [],\n",
        "    'Model': [],\n",
        "    'Description': [],\n",
        "    'Accuracy': [],\n",
        "    'Precision': [],\n",
        "    'Recall': [],\n",
        "    'F1': [],\n",
        "})"
      ],
      "execution_count": 12,
      "outputs": []
    },
    {
      "cell_type": "markdown",
      "metadata": {
        "id": "oT5EW1yV-xFl",
        "colab_type": "text"
      },
      "source": [
        "# Text Data Preparation"
      ]
    },
    {
      "cell_type": "markdown",
      "metadata": {
        "id": "j6UZ9AeV-z7z",
        "colab_type": "text"
      },
      "source": [
        "## Unique words and sentence max length"
      ]
    },
    {
      "cell_type": "code",
      "metadata": {
        "id": "vQaGLCnJABgK",
        "colab_type": "code",
        "colab": {}
      },
      "source": [
        "mycol = 'tweet_clean'\n",
        "mylstcol = 'tweet_lst_clean'"
      ],
      "execution_count": 13,
      "outputs": []
    },
    {
      "cell_type": "code",
      "metadata": {
        "id": "VrsdQYJHG9W-",
        "colab_type": "code",
        "colab": {}
      },
      "source": [
        "X_train = [i for i in df_Xtrain[mylstcol]]\n",
        "X_valid = [i for i in df_Xvalid[mylstcol]]\n",
        "X_test = [i for i in df_test[mylstcol]]"
      ],
      "execution_count": 14,
      "outputs": []
    },
    {
      "cell_type": "code",
      "metadata": {
        "id": "PsCpGeDp-0E2",
        "colab_type": "code",
        "colab": {
          "base_uri": "https://localhost:8080/",
          "height": 70
        },
        "outputId": "505e2248-e319-4999-b00a-1f031d4c73a5"
      },
      "source": [
        "unq_words = set()\n",
        "maxlen = 0\n",
        "\n",
        "for lst in tqdm(X_train):\n",
        "    unq_words.update(lst)\n",
        "    maxlen = len(lst) if maxlen < len(lst) else maxlen\n",
        "\n",
        "print(len(list(unq_words)))\n",
        "print(maxlen)"
      ],
      "execution_count": 15,
      "outputs": [
        {
          "output_type": "stream",
          "text": [
            "100%|██████████| 6336/6336 [00:00<00:00, 530780.34it/s]"
          ],
          "name": "stderr"
        },
        {
          "output_type": "stream",
          "text": [
            "14432\n",
            "35\n"
          ],
          "name": "stdout"
        },
        {
          "output_type": "stream",
          "text": [
            "\n"
          ],
          "name": "stderr"
        }
      ]
    },
    {
      "cell_type": "markdown",
      "metadata": {
        "id": "aBwi1ykL-0N9",
        "colab_type": "text"
      },
      "source": [
        "## Tokenization\n"
      ]
    },
    {
      "cell_type": "code",
      "metadata": {
        "id": "G0QDt-RoH8sy",
        "colab_type": "code",
        "colab": {}
      },
      "source": [
        "from keras.preprocessing.text import Tokenizer\n",
        "\n",
        "num_words = len(list(unq_words))\n",
        "tokenizer = Tokenizer(num_words=num_words)\n",
        "tokenizer.fit_on_texts(X_train)"
      ],
      "execution_count": 16,
      "outputs": []
    },
    {
      "cell_type": "code",
      "metadata": {
        "id": "nEJd1YS6H8wb",
        "colab_type": "code",
        "colab": {}
      },
      "source": [
        "X_train = tokenizer.texts_to_sequences(X_train)\n",
        "X_valid = tokenizer.texts_to_sequences(X_valid)\n",
        "X_test = tokenizer.texts_to_sequences(X_test)"
      ],
      "execution_count": 17,
      "outputs": []
    },
    {
      "cell_type": "code",
      "metadata": {
        "id": "-lZDVDdlH80j",
        "colab_type": "code",
        "colab": {
          "base_uri": "https://localhost:8080/",
          "height": 34
        },
        "outputId": "7e971fd3-78d7-4061-b5bc-6e89f14a05db"
      },
      "source": [
        "type(X_train), X_train[0]"
      ],
      "execution_count": 18,
      "outputs": [
        {
          "output_type": "execute_result",
          "data": {
            "text/plain": [
              "(list, [4, 1, 20, 4874, 4, 1, 20, 88, 136, 4875])"
            ]
          },
          "metadata": {
            "tags": []
          },
          "execution_count": 18
        }
      ]
    },
    {
      "cell_type": "code",
      "metadata": {
        "id": "2SD4lJvlH87O",
        "colab_type": "code",
        "colab": {
          "base_uri": "https://localhost:8080/",
          "height": 34
        },
        "outputId": "1d7cfd60-b990-4a2f-f859-cbd5d543bdad"
      },
      "source": [
        "from keras.preprocessing import sequence\n",
        "\n",
        "X_train = sequence.pad_sequences(X_train, maxlen=maxlen)\n",
        "X_valid = sequence.pad_sequences(X_valid, maxlen=maxlen)\n",
        "X_test = sequence.pad_sequences(X_test, maxlen=maxlen)\n",
        "\n",
        "print(X_train.shape,X_valid.shape,X_test.shape)"
      ],
      "execution_count": 19,
      "outputs": [
        {
          "output_type": "stream",
          "text": [
            "(6336, 35) (1584, 35) (1953, 35)\n"
          ],
          "name": "stdout"
        }
      ]
    },
    {
      "cell_type": "code",
      "metadata": {
        "id": "yul4YugoH9Av",
        "colab_type": "code",
        "colab": {
          "base_uri": "https://localhost:8080/",
          "height": 34
        },
        "outputId": "8d2f0205-4c1d-4fc5-cb2c-b19c674fe668"
      },
      "source": [
        "type(X_train)"
      ],
      "execution_count": 20,
      "outputs": [
        {
          "output_type": "execute_result",
          "data": {
            "text/plain": [
              "numpy.ndarray"
            ]
          },
          "metadata": {
            "tags": []
          },
          "execution_count": 20
        }
      ]
    },
    {
      "cell_type": "markdown",
      "metadata": {
        "id": "2iSftpXDKGTh",
        "colab_type": "text"
      },
      "source": [
        "# Neptune"
      ]
    },
    {
      "cell_type": "code",
      "metadata": {
        "id": "M9pymaJVAcX2",
        "colab_type": "code",
        "colab": {
          "base_uri": "https://localhost:8080/",
          "height": 34
        },
        "outputId": "1b25eec8-da01-4463-c244-31f18ebf170a"
      },
      "source": [
        "neptune.create_experiment(\n",
        "    name='lstm', # put small name\n",
        "    description='',\n",
        "    tags = ['keras', 'lstm','nltk'],\n",
        "    upload_source_files=None\n",
        ")\n",
        "\n",
        "neptune.log_text('versions_dl', str(versions_dl))\n",
        "neptune.log_text('versions_ds', str(versions_ds))\n",
        "\n",
        "neptune.log_text('mycol', mycol)\n",
        "neptune.log_text('text processing', 'tweet')"
      ],
      "execution_count": 21,
      "outputs": [
        {
          "output_type": "stream",
          "text": [
            "https://ui.neptune.ai/bhishanpdl/twitter-sentiment-analysis/e/TWITSENT-17\n"
          ],
          "name": "stdout"
        }
      ]
    },
    {
      "cell_type": "markdown",
      "metadata": {
        "id": "fSd6yNCZH9ZX",
        "colab_type": "text"
      },
      "source": [
        "# Modelling"
      ]
    },
    {
      "cell_type": "markdown",
      "metadata": {
        "id": "b1GfxDQ9J7U2",
        "colab_type": "text"
      },
      "source": [
        "## Modelling: keras LSTM\n",
        "\n",
        "Ref: \n",
        "- https://docs.neptune.ai/integrations/keras.html\n",
        "- https://docs.neptune.ai/python-api/tutorials/experiment-tracking.html"
      ]
    },
    {
      "cell_type": "code",
      "metadata": {
        "id": "_fQjWZdXJ-ab",
        "colab_type": "code",
        "colab": {}
      },
      "source": [
        "from keras.callbacks import EarlyStopping\n",
        "from neptunecontrib.monitoring.keras import NeptuneMonitor\n",
        "\n",
        "early_stopping = EarlyStopping(min_delta = 0.001, mode = 'max',\n",
        "                               monitor='val_acc', patience=10)\n",
        "callbacks = [early_stopping,NeptuneMonitor()]"
      ],
      "execution_count": 22,
      "outputs": []
    },
    {
      "cell_type": "code",
      "metadata": {
        "id": "X2BT1PJmJ-e7",
        "colab_type": "code",
        "colab": {}
      },
      "source": [
        "# parameters\n",
        "PARAMS = {'epoch_nr': 5,\n",
        "          'batch_size': 256,\n",
        "          'lr': 0.005,\n",
        "          'momentum': 0.4,\n",
        "          'dropout': 0.05}\n",
        "\n",
        "for k,v in PARAMS.items():\n",
        "    neptune.log_metric(k,v)"
      ],
      "execution_count": 23,
      "outputs": []
    },
    {
      "cell_type": "code",
      "metadata": {
        "id": "NEC26A9_J-l2",
        "colab_type": "code",
        "colab": {
          "base_uri": "https://localhost:8080/",
          "height": 427
        },
        "outputId": "7582264a-cf7f-4ea3-aa37-c5367743cf24"
      },
      "source": [
        "model=Sequential()\n",
        "\n",
        "# input_dim=num_words and output_dim=300\n",
        "model.add(Embedding(num_words,300,\n",
        "                    input_length=maxlen))\n",
        "\n",
        "model.add(LSTM(units=128,\n",
        "               dropout=PARAMS['dropout'],\n",
        "               recurrent_dropout=PARAMS['dropout'],\n",
        "               return_sequences=True))\n",
        "\n",
        "model.add(LSTM(64,\n",
        "               dropout=PARAMS['dropout'],\n",
        "               recurrent_dropout=PARAMS['dropout'],\n",
        "               return_sequences=False))\n",
        "\n",
        "model.add(Dense(100,activation='relu'))\n",
        "\n",
        "model.add(Dropout(PARAMS['dropout']))\n",
        "\n",
        "model.add(Dense(1,activation='sigmoid'))\n",
        "\n",
        "# for multiclass: dense=(num_classes,softmax) and loss=sparse_xentropy\n",
        "\n",
        "model.compile(loss='binary_crossentropy',\n",
        "              optimizer=Adam(lr=PARAMS['lr']),\n",
        "              metrics=['accuracy'])\n",
        "\n",
        "model.summary()"
      ],
      "execution_count": 24,
      "outputs": [
        {
          "output_type": "stream",
          "text": [
            "WARNING:tensorflow:Layer lstm will not use cuDNN kernel since it doesn't meet the cuDNN kernel criteria. It will use generic GPU kernel as fallback when running on GPU\n",
            "WARNING:tensorflow:Layer lstm_1 will not use cuDNN kernel since it doesn't meet the cuDNN kernel criteria. It will use generic GPU kernel as fallback when running on GPU\n",
            "Model: \"sequential\"\n",
            "_________________________________________________________________\n",
            "Layer (type)                 Output Shape              Param #   \n",
            "=================================================================\n",
            "embedding (Embedding)        (None, 35, 300)           4329600   \n",
            "_________________________________________________________________\n",
            "lstm (LSTM)                  (None, 35, 128)           219648    \n",
            "_________________________________________________________________\n",
            "lstm_1 (LSTM)                (None, 64)                49408     \n",
            "_________________________________________________________________\n",
            "dense (Dense)                (None, 100)               6500      \n",
            "_________________________________________________________________\n",
            "dropout (Dropout)            (None, 100)               0         \n",
            "_________________________________________________________________\n",
            "dense_1 (Dense)              (None, 1)                 101       \n",
            "=================================================================\n",
            "Total params: 4,605,257\n",
            "Trainable params: 4,605,257\n",
            "Non-trainable params: 0\n",
            "_________________________________________________________________\n"
          ],
          "name": "stdout"
        }
      ]
    },
    {
      "cell_type": "code",
      "metadata": {
        "id": "hsJH4QvHJ-q_",
        "colab_type": "code",
        "colab": {
          "base_uri": "https://localhost:8080/",
          "height": 338
        },
        "outputId": "b034177d-3b02-4d29-c25e-12f4d866142b"
      },
      "source": [
        "%%time\n",
        "\n",
        "history = model.fit(X_train, y_train,\n",
        "                    validation_data=(X_valid, y_valid),\n",
        "                    epochs=PARAMS['epoch_nr'],\n",
        "                    batch_size=PARAMS['batch_size'],\n",
        "                    verbose=1,\n",
        "                    callbacks=callbacks\n",
        "                    )"
      ],
      "execution_count": 25,
      "outputs": [
        {
          "output_type": "stream",
          "text": [
            "Epoch 1/5\n",
            "25/25 [==============================] - ETA: 0s - loss: 0.4243 - accuracy: 0.8093WARNING:tensorflow:Early stopping conditioned on metric `val_acc` which is not available. Available metrics are: loss,accuracy,val_loss,val_accuracy\n",
            "25/25 [==============================] - 9s 372ms/step - loss: 0.4243 - accuracy: 0.8093 - val_loss: 0.2776 - val_accuracy: 0.8725\n",
            "Epoch 2/5\n",
            "25/25 [==============================] - ETA: 0s - loss: 0.1593 - accuracy: 0.9388WARNING:tensorflow:Early stopping conditioned on metric `val_acc` which is not available. Available metrics are: loss,accuracy,val_loss,val_accuracy\n",
            "25/25 [==============================] - 8s 319ms/step - loss: 0.1593 - accuracy: 0.9388 - val_loss: 0.2852 - val_accuracy: 0.8756\n",
            "Epoch 3/5\n",
            "25/25 [==============================] - ETA: 0s - loss: 0.0765 - accuracy: 0.9740WARNING:tensorflow:Early stopping conditioned on metric `val_acc` which is not available. Available metrics are: loss,accuracy,val_loss,val_accuracy\n",
            "25/25 [==============================] - 8s 314ms/step - loss: 0.0765 - accuracy: 0.9740 - val_loss: 0.3776 - val_accuracy: 0.8744\n",
            "Epoch 4/5\n",
            "25/25 [==============================] - ETA: 0s - loss: 0.0382 - accuracy: 0.9880WARNING:tensorflow:Early stopping conditioned on metric `val_acc` which is not available. Available metrics are: loss,accuracy,val_loss,val_accuracy\n",
            "25/25 [==============================] - 8s 313ms/step - loss: 0.0382 - accuracy: 0.9880 - val_loss: 0.4319 - val_accuracy: 0.8611\n",
            "Epoch 5/5\n",
            "25/25 [==============================] - ETA: 0s - loss: 0.0203 - accuracy: 0.9942WARNING:tensorflow:Early stopping conditioned on metric `val_acc` which is not available. Available metrics are: loss,accuracy,val_loss,val_accuracy\n",
            "25/25 [==============================] - 8s 318ms/step - loss: 0.0203 - accuracy: 0.9942 - val_loss: 0.6384 - val_accuracy: 0.8605\n",
            "CPU times: user 1min 4s, sys: 6.96 s, total: 1min 11s\n",
            "Wall time: 49 s\n"
          ],
          "name": "stdout"
        }
      ]
    },
    {
      "cell_type": "markdown",
      "metadata": {
        "id": "zdImdxpUJ-xH",
        "colab_type": "text"
      },
      "source": [
        "# Model Evaluation"
      ]
    },
    {
      "cell_type": "code",
      "metadata": {
        "id": "mfdThEyHSoBy",
        "colab_type": "code",
        "colab": {
          "base_uri": "https://localhost:8080/",
          "height": 90
        },
        "outputId": "1aa9adf9-ee41-4949-a2de-069c5863b9d5"
      },
      "source": [
        "valid_preds = model.predict_classes(X_valid)\n",
        "valid_preds = valid_preds.squeeze().tolist()"
      ],
      "execution_count": 26,
      "outputs": [
        {
          "output_type": "stream",
          "text": [
            "WARNING:tensorflow:From <ipython-input-26-70fa072f681b>:1: Sequential.predict_classes (from tensorflow.python.keras.engine.sequential) is deprecated and will be removed after 2021-01-01.\n",
            "Instructions for updating:\n",
            "Please use instead:* `np.argmax(model.predict(x), axis=-1)`,   if your model does multi-class classification   (e.g. if it uses a `softmax` last-layer activation).* `(model.predict(x) > 0.5).astype(\"int32\")`,   if your model does binary classification   (e.g. if it uses a `sigmoid` last-layer activation).\n"
          ],
          "name": "stdout"
        }
      ]
    },
    {
      "cell_type": "code",
      "metadata": {
        "id": "UDNwWhFh7U-L",
        "colab_type": "code",
        "colab": {
          "base_uri": "https://localhost:8080/",
          "height": 111
        },
        "outputId": "1cebc03a-cefc-4129-cf11-16bd85e9b64b"
      },
      "source": [
        "text_model_name = \"keras_lstm\"\n",
        "params = str(PARAMS)\n",
        "model_name = \"\"\n",
        "desc = \"\"\n",
        "\n",
        "yvd = y_valid\n",
        "vd_preds = valid_preds\n",
        "\n",
        "acc = metrics.accuracy_score(yvd,vd_preds)\n",
        "pre = metrics.precision_score(yvd,vd_preds)\n",
        "rec = metrics.recall_score(yvd,vd_preds)\n",
        "f1 = metrics.f1_score(yvd,vd_preds,average='weighted')\n",
        "\n",
        "row = [text_model_name, params, model_name,desc]\n",
        "row = row + [acc, pre, rec, f1]\n",
        "\n",
        "df_eval.loc[len(df_eval)] = row\n",
        "df_eval = df_eval.drop_duplicates(subset=['Text Model', 'Params', 'Model', 'Description'])\n",
        "\n",
        "df_eval"
      ],
      "execution_count": 27,
      "outputs": [
        {
          "output_type": "execute_result",
          "data": {
            "text/html": [
              "<div>\n",
              "<style scoped>\n",
              "    .dataframe tbody tr th:only-of-type {\n",
              "        vertical-align: middle;\n",
              "    }\n",
              "\n",
              "    .dataframe tbody tr th {\n",
              "        vertical-align: top;\n",
              "    }\n",
              "\n",
              "    .dataframe thead th {\n",
              "        text-align: right;\n",
              "    }\n",
              "</style>\n",
              "<table border=\"1\" class=\"dataframe\">\n",
              "  <thead>\n",
              "    <tr style=\"text-align: right;\">\n",
              "      <th></th>\n",
              "      <th>Text Model</th>\n",
              "      <th>Params</th>\n",
              "      <th>Model</th>\n",
              "      <th>Description</th>\n",
              "      <th>Accuracy</th>\n",
              "      <th>Precision</th>\n",
              "      <th>Recall</th>\n",
              "      <th>F1</th>\n",
              "    </tr>\n",
              "  </thead>\n",
              "  <tbody>\n",
              "    <tr>\n",
              "      <th>0</th>\n",
              "      <td>keras_lstm</td>\n",
              "      <td>{'epoch_nr': 5, 'batch_size': 256, 'lr': 0.005, 'momentum': 0.4, 'dropout': 0.05}</td>\n",
              "      <td></td>\n",
              "      <td></td>\n",
              "      <td>0.86048</td>\n",
              "      <td>0.731156</td>\n",
              "      <td>0.718519</td>\n",
              "      <td>0.860078</td>\n",
              "    </tr>\n",
              "  </tbody>\n",
              "</table>\n",
              "</div>"
            ],
            "text/plain": [
              "   Text Model  \\\n",
              "0  keras_lstm   \n",
              "\n",
              "                                                                              Params  \\\n",
              "0  {'epoch_nr': 5, 'batch_size': 256, 'lr': 0.005, 'momentum': 0.4, 'dropout': 0.05}   \n",
              "\n",
              "  Model Description  Accuracy  Precision    Recall        F1  \n",
              "0                     0.86048   0.731156  0.718519  0.860078  "
            ]
          },
          "metadata": {
            "tags": []
          },
          "execution_count": 27
        }
      ]
    },
    {
      "cell_type": "code",
      "metadata": {
        "id": "QNL6oEKRSvwQ",
        "colab_type": "code",
        "colab": {
          "base_uri": "https://localhost:8080/",
          "height": 87
        },
        "outputId": "adcb62d2-8b49-4348-9bfc-d827b8236e52"
      },
      "source": [
        "from neptunecontrib.api import log_table\n",
        "\n",
        "log_table('df_eval', df_eval)\n",
        "\n",
        "dic_results = {'acc':acc,\n",
        "               'precision':pre,\n",
        "               'recall':rec,\n",
        "               'f1': f1}\n",
        "\n",
        "for k,v in dic_results.items():\n",
        "    print('valid_'+k, v)\n",
        "    neptune.log_metric('valid_'+k, v)"
      ],
      "execution_count": 28,
      "outputs": [
        {
          "output_type": "stream",
          "text": [
            "valid_acc 0.860479797979798\n",
            "valid_precision 0.7311557788944724\n",
            "valid_recall 0.7185185185185186\n",
            "valid_f1 0.8600781556478218\n"
          ],
          "name": "stdout"
        }
      ]
    },
    {
      "cell_type": "markdown",
      "metadata": {
        "id": "IqCxou5nVAKt",
        "colab_type": "text"
      },
      "source": [
        "# Submission"
      ]
    },
    {
      "cell_type": "code",
      "metadata": {
        "id": "cMnlfjTRVTv6",
        "colab_type": "code",
        "colab": {
          "base_uri": "https://localhost:8080/",
          "height": 34
        },
        "outputId": "9af74e3c-8e6e-4ec5-c07c-a8b04f08ba2d"
      },
      "source": [
        "test_preds = model.predict_classes(X_test)\n",
        "test_preds = test_preds.squeeze().tolist()\n",
        "test_preds[:5]"
      ],
      "execution_count": 29,
      "outputs": [
        {
          "output_type": "execute_result",
          "data": {
            "text/plain": [
              "[1, 1, 1, 1, 1]"
            ]
          },
          "metadata": {
            "tags": []
          },
          "execution_count": 29
        }
      ]
    },
    {
      "cell_type": "code",
      "metadata": {
        "id": "UAYWyEZkVBtK",
        "colab_type": "code",
        "colab": {
          "base_uri": "https://localhost:8080/",
          "height": 197
        },
        "outputId": "7c0d499e-054e-492f-c326-c7368504ec89"
      },
      "source": [
        "df_test[target] = test_preds\n",
        "df_sub = df_test[['id','label']]\n",
        "df_sub.to_csv('sub_lstm.csv', index=False)\n",
        "display(df_sub.head())"
      ],
      "execution_count": 30,
      "outputs": [
        {
          "output_type": "display_data",
          "data": {
            "text/html": [
              "<div>\n",
              "<style scoped>\n",
              "    .dataframe tbody tr th:only-of-type {\n",
              "        vertical-align: middle;\n",
              "    }\n",
              "\n",
              "    .dataframe tbody tr th {\n",
              "        vertical-align: top;\n",
              "    }\n",
              "\n",
              "    .dataframe thead th {\n",
              "        text-align: right;\n",
              "    }\n",
              "</style>\n",
              "<table border=\"1\" class=\"dataframe\">\n",
              "  <thead>\n",
              "    <tr style=\"text-align: right;\">\n",
              "      <th></th>\n",
              "      <th>id</th>\n",
              "      <th>label</th>\n",
              "    </tr>\n",
              "  </thead>\n",
              "  <tbody>\n",
              "    <tr>\n",
              "      <th>7920</th>\n",
              "      <td>7921</td>\n",
              "      <td>1</td>\n",
              "    </tr>\n",
              "    <tr>\n",
              "      <th>7921</th>\n",
              "      <td>7922</td>\n",
              "      <td>1</td>\n",
              "    </tr>\n",
              "    <tr>\n",
              "      <th>7922</th>\n",
              "      <td>7923</td>\n",
              "      <td>1</td>\n",
              "    </tr>\n",
              "    <tr>\n",
              "      <th>7923</th>\n",
              "      <td>7924</td>\n",
              "      <td>1</td>\n",
              "    </tr>\n",
              "    <tr>\n",
              "      <th>7924</th>\n",
              "      <td>7925</td>\n",
              "      <td>1</td>\n",
              "    </tr>\n",
              "  </tbody>\n",
              "</table>\n",
              "</div>"
            ],
            "text/plain": [
              "        id  label\n",
              "7920  7921      1\n",
              "7921  7922      1\n",
              "7922  7923      1\n",
              "7923  7924      1\n",
              "7924  7925      1"
            ]
          },
          "metadata": {
            "tags": []
          }
        }
      ]
    },
    {
      "cell_type": "code",
      "metadata": {
        "id": "J8IzPONsVINP",
        "colab_type": "code",
        "colab": {}
      },
      "source": [
        "# upload the data and get the score\n",
        "neptune.log_metric('test_f1', 0.837852647394422  )"
      ],
      "execution_count": 31,
      "outputs": []
    },
    {
      "cell_type": "code",
      "metadata": {
        "id": "oOm3KG5XVIQY",
        "colab_type": "code",
        "colab": {}
      },
      "source": [
        "best_so_far = \"\"\"\n",
        "lr = 0.005\n",
        "f1 = 0.837852647394422\n",
        "\n",
        "\"\"\"\n",
        "neptune.log_text('best_so_far',\n",
        "                 best_so_far)"
      ],
      "execution_count": 32,
      "outputs": []
    },
    {
      "cell_type": "code",
      "metadata": {
        "id": "Op0S5zgzXiFc",
        "colab_type": "code",
        "colab": {}
      },
      "source": [
        ""
      ],
      "execution_count": null,
      "outputs": []
    }
  ]
}