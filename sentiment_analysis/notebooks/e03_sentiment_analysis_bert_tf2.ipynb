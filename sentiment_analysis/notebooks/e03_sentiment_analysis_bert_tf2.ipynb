{
  "nbformat": 4,
  "nbformat_minor": 0,
  "metadata": {
    "colab": {
      "name": "d03_sentiment_analysis_bert_tf2.ipynb",
      "provenance": [],
      "collapsed_sections": []
    },
    "kernelspec": {
      "name": "python3",
      "display_name": "Python 3"
    },
    "accelerator": "GPU"
  },
  "cells": [
    {
      "cell_type": "markdown",
      "metadata": {
        "id": "MBcRis_Eqlcp",
        "colab_type": "text"
      },
      "source": [
        "# Descriptions\n",
        "- BERT stands for Bidirectional Encoder Representations from Transformers\n",
        "- BERT was developed by researchers at Google in 2018\n",
        "- BERT is a text representation technique like Word Embeddings."
      ]
    },
    {
      "cell_type": "markdown",
      "metadata": {
        "id": "pD2fbcXzywYE",
        "colab_type": "text"
      },
      "source": [
        "# Google Colab"
      ]
    },
    {
      "cell_type": "code",
      "metadata": {
        "id": "TnnS6ZIPgQuy",
        "colab_type": "code",
        "colab": {}
      },
      "source": [
        "%%capture\n",
        "# capture will not print in notebook\n",
        "\n",
        "import os\n",
        "import sys\n",
        "ENV_COLAB = 'google.colab' in sys.modules\n",
        "\n",
        "if ENV_COLAB:\n",
        "    ## install modules\n",
        "    !pip install bert-for-tf2\n",
        "    !pip install sentencepiece\n",
        "\n",
        "    ## print\n",
        "    print('Environment: Google Colaboratory.')\n",
        "\n",
        "# NOTE: If we update modules in gcolab, we need to restart runtime."
      ],
      "execution_count": 1,
      "outputs": []
    },
    {
      "cell_type": "code",
      "metadata": {
        "id": "urPP92-Iyy23",
        "colab_type": "code",
        "colab": {
          "base_uri": "https://localhost:8080/",
          "height": 87
        },
        "outputId": "cdf3b978-a941-483d-8c8c-8f3b01047e5c"
      },
      "source": [
        "try:\n",
        "    %tensorflow_version 2.x\n",
        "except Exception:\n",
        "    pass\n",
        "\n",
        "import tensorflow as tf\n",
        "import tensorflow_hub as hub\n",
        "import keras\n",
        "from tensorflow.keras import layers\n",
        "import bert\n",
        "\n",
        "from pprint import pprint\n",
        "pprint([(x.__name__,x.__version__) for x in [tf, hub, keras,bert]])"
      ],
      "execution_count": 3,
      "outputs": [
        {
          "output_type": "stream",
          "text": [
            "[('tensorflow', '2.3.0'),\n",
            " ('tensorflow_hub', '0.9.0'),\n",
            " ('keras', '2.4.3'),\n",
            " ('bert', '0.14.6')]\n"
          ],
          "name": "stdout"
        }
      ]
    },
    {
      "cell_type": "markdown",
      "metadata": {
        "id": "fD0Nuj24ylsk",
        "colab_type": "text"
      },
      "source": [
        "# Load the libraries"
      ]
    },
    {
      "cell_type": "code",
      "metadata": {
        "id": "E6Um2nU7yYW9",
        "colab_type": "code",
        "colab": {
          "base_uri": "https://localhost:8080/",
          "height": 34
        },
        "outputId": "b3ba2c20-37b9-41af-e6ac-30afa425dfb3"
      },
      "source": [
        "import numpy as np\n",
        "import pandas as pd\n",
        "from pprint import pprint\n",
        "\n",
        "pd.set_option('max_colwidth',200)\n",
        "pd.set_option('max_columns',200)\n",
        "SEED = 100\n",
        "\n",
        "import sys\n",
        "import re\n",
        "from tqdm import tqdm\n",
        "tqdm.pandas()\n",
        "\n",
        "pprint([(x.__name__,x.__version__) for x in [np,pd]])"
      ],
      "execution_count": 23,
      "outputs": [
        {
          "output_type": "stream",
          "text": [
            "[('numpy', '1.18.5'), ('pandas', '1.0.5')]\n"
          ],
          "name": "stdout"
        }
      ]
    },
    {
      "cell_type": "markdown",
      "metadata": {
        "id": "HKgRz7rOynlY",
        "colab_type": "text"
      },
      "source": [
        "# Load the data"
      ]
    },
    {
      "cell_type": "code",
      "metadata": {
        "id": "C6jzFcvlzHCN",
        "colab_type": "code",
        "colab": {
          "base_uri": "https://localhost:8080/",
          "height": 235
        },
        "outputId": "eadc97ef-5f04-465f-8fe5-415a564795dd"
      },
      "source": [
        "df = pd.read_csv('https://github.com/bhishanpdl/Datasets/blob/master/janatahack/sentiment_analysis/raw/train.csv?raw=true')\n",
        "\n",
        "df = df.iloc[:1000] # to prevent OOM\n",
        "\n",
        "print(f\"train : {df.shape}\")\n",
        "display(df.head(2).append(df.tail(2)))\n",
        "\n",
        "target = 'label'\n",
        "maincol = 'tweet'"
      ],
      "execution_count": 7,
      "outputs": [
        {
          "output_type": "stream",
          "text": [
            "train : (1000, 3)\n"
          ],
          "name": "stdout"
        },
        {
          "output_type": "display_data",
          "data": {
            "text/html": [
              "<div>\n",
              "<style scoped>\n",
              "    .dataframe tbody tr th:only-of-type {\n",
              "        vertical-align: middle;\n",
              "    }\n",
              "\n",
              "    .dataframe tbody tr th {\n",
              "        vertical-align: top;\n",
              "    }\n",
              "\n",
              "    .dataframe thead th {\n",
              "        text-align: right;\n",
              "    }\n",
              "</style>\n",
              "<table border=\"1\" class=\"dataframe\">\n",
              "  <thead>\n",
              "    <tr style=\"text-align: right;\">\n",
              "      <th></th>\n",
              "      <th>id</th>\n",
              "      <th>label</th>\n",
              "      <th>tweet</th>\n",
              "    </tr>\n",
              "  </thead>\n",
              "  <tbody>\n",
              "    <tr>\n",
              "      <th>0</th>\n",
              "      <td>1</td>\n",
              "      <td>0</td>\n",
              "      <td>#fingerprint #Pregnancy Test https://goo.gl/h1MfQV #android #apps #beautiful #cute #health #igers #iphoneonly #iphonesia #iphone</td>\n",
              "    </tr>\n",
              "    <tr>\n",
              "      <th>1</th>\n",
              "      <td>2</td>\n",
              "      <td>0</td>\n",
              "      <td>Finally a transparant silicon case ^^ Thanks to my uncle :) #yay #Sony #Xperia #S #sonyexperias… http://instagram.com/p/YGEt5JC6JM/</td>\n",
              "    </tr>\n",
              "    <tr>\n",
              "      <th>998</th>\n",
              "      <td>999</td>\n",
              "      <td>1</td>\n",
              "      <td>Idk if I should download Dead Nation and inFAMOUS and never play either one, or just not download anything #Sony #PSN #Playstation</td>\n",
              "    </tr>\n",
              "    <tr>\n",
              "      <th>999</th>\n",
              "      <td>1000</td>\n",
              "      <td>1</td>\n",
              "      <td>I've gone thru four iPhone chargers in 3 days #boss #badass</td>\n",
              "    </tr>\n",
              "  </tbody>\n",
              "</table>\n",
              "</div>"
            ],
            "text/plain": [
              "       id  label  \\\n",
              "0       1      0   \n",
              "1       2      0   \n",
              "998   999      1   \n",
              "999  1000      1   \n",
              "\n",
              "                                                                                                                                   tweet  \n",
              "0       #fingerprint #Pregnancy Test https://goo.gl/h1MfQV #android #apps #beautiful #cute #health #igers #iphoneonly #iphonesia #iphone  \n",
              "1    Finally a transparant silicon case ^^ Thanks to my uncle :) #yay #Sony #Xperia #S #sonyexperias… http://instagram.com/p/YGEt5JC6JM/  \n",
              "998   Idk if I should download Dead Nation and inFAMOUS and never play either one, or just not download anything #Sony #PSN #Playstation  \n",
              "999                                                                          I've gone thru four iPhone chargers in 3 days #boss #badass  "
            ]
          },
          "metadata": {
            "tags": []
          }
        }
      ]
    },
    {
      "cell_type": "markdown",
      "metadata": {
        "id": "dg23We585G4n",
        "colab_type": "text"
      },
      "source": [
        "# Text Data Processing"
      ]
    },
    {
      "cell_type": "code",
      "metadata": {
        "id": "sXIHc4EG67XZ",
        "colab_type": "code",
        "colab": {
          "base_uri": "https://localhost:8080/",
          "height": 35
        },
        "outputId": "249337d6-bb39-49bd-b3d6-901830b08d52"
      },
      "source": [
        "maincol = 'tweet'\n",
        "target = 'label'\n",
        "mc = maincol + '_clean'\n",
        "tmc = 'tokenized_' + mc"
      ],
      "execution_count": 28,
      "outputs": [
        {
          "output_type": "execute_result",
          "data": {
            "application/vnd.google.colaboratory.intrinsic+json": {
              "type": "string"
            },
            "text/plain": [
              "'tokenized_tweet_clean'"
            ]
          },
          "metadata": {
            "tags": []
          },
          "execution_count": 28
        }
      ]
    },
    {
      "cell_type": "code",
      "metadata": {
        "id": "yrf86ciPMXdc",
        "colab_type": "code",
        "colab": {
          "base_uri": "https://localhost:8080/",
          "height": 90
        },
        "outputId": "db7d0212-b22a-423d-d278-72d103545e96"
      },
      "source": [
        "import re\n",
        "def process_text(text):\n",
        "    out = re.sub(r'<[^>]+>','', text) # remove html tags\n",
        "    out = re.sub('[^a-zA-Z]', ' ', out) # keep only alpha\n",
        "    out = re.sub(r\"\\s+[a-zA-Z]\\s+\", ' ', out) # remove single letter\n",
        "    out = re.sub(r'\\s+', ' ', out) # remove multiple spaces\n",
        "\n",
        "    return out\n",
        "\n",
        "s = pd.Series(df[maincol][1])\n",
        "s.progress_apply(process_text)"
      ],
      "execution_count": 13,
      "outputs": [
        {
          "output_type": "stream",
          "text": [
            "100%|██████████| 1/1 [00:00<00:00, 600.99it/s]\n"
          ],
          "name": "stderr"
        },
        {
          "output_type": "execute_result",
          "data": {
            "text/plain": [
              "0    Finally transparant silicon case Thanks to my uncle yay Sony Xperia sonyexperias http instagram com YGEt JC JM \n",
              "dtype: object"
            ]
          },
          "metadata": {
            "tags": []
          },
          "execution_count": 13
        }
      ]
    },
    {
      "cell_type": "code",
      "metadata": {
        "id": "RBAUWgPN69W5",
        "colab_type": "code",
        "colab": {
          "base_uri": "https://localhost:8080/",
          "height": 34
        },
        "outputId": "f3e8f076-8ace-4c58-d41a-88a3ed7d765d"
      },
      "source": [
        "df[mc] = df[maincol].progress_apply(process_text)"
      ],
      "execution_count": 14,
      "outputs": [
        {
          "output_type": "stream",
          "text": [
            "100%|██████████| 1000/1000 [00:00<00:00, 26317.70it/s]\n"
          ],
          "name": "stderr"
        }
      ]
    },
    {
      "cell_type": "code",
      "metadata": {
        "id": "3o8fa3w_Ov20",
        "colab_type": "code",
        "colab": {
          "base_uri": "https://localhost:8080/",
          "height": 174
        },
        "outputId": "0732bc5b-df82-4d7c-b29e-010129b0d091"
      },
      "source": [
        "df.head(2)"
      ],
      "execution_count": 15,
      "outputs": [
        {
          "output_type": "execute_result",
          "data": {
            "text/html": [
              "<div>\n",
              "<style scoped>\n",
              "    .dataframe tbody tr th:only-of-type {\n",
              "        vertical-align: middle;\n",
              "    }\n",
              "\n",
              "    .dataframe tbody tr th {\n",
              "        vertical-align: top;\n",
              "    }\n",
              "\n",
              "    .dataframe thead th {\n",
              "        text-align: right;\n",
              "    }\n",
              "</style>\n",
              "<table border=\"1\" class=\"dataframe\">\n",
              "  <thead>\n",
              "    <tr style=\"text-align: right;\">\n",
              "      <th></th>\n",
              "      <th>id</th>\n",
              "      <th>label</th>\n",
              "      <th>tweet</th>\n",
              "      <th>tweet_clean</th>\n",
              "    </tr>\n",
              "  </thead>\n",
              "  <tbody>\n",
              "    <tr>\n",
              "      <th>0</th>\n",
              "      <td>1</td>\n",
              "      <td>0</td>\n",
              "      <td>#fingerprint #Pregnancy Test https://goo.gl/h1MfQV #android #apps #beautiful #cute #health #igers #iphoneonly #iphonesia #iphone</td>\n",
              "      <td>fingerprint Pregnancy Test https goo gl MfQV android apps beautiful cute health igers iphoneonly iphonesia iphone</td>\n",
              "    </tr>\n",
              "    <tr>\n",
              "      <th>1</th>\n",
              "      <td>2</td>\n",
              "      <td>0</td>\n",
              "      <td>Finally a transparant silicon case ^^ Thanks to my uncle :) #yay #Sony #Xperia #S #sonyexperias… http://instagram.com/p/YGEt5JC6JM/</td>\n",
              "      <td>Finally transparant silicon case Thanks to my uncle yay Sony Xperia sonyexperias http instagram com YGEt JC JM</td>\n",
              "    </tr>\n",
              "  </tbody>\n",
              "</table>\n",
              "</div>"
            ],
            "text/plain": [
              "   id  label  \\\n",
              "0   1      0   \n",
              "1   2      0   \n",
              "\n",
              "                                                                                                                                 tweet  \\\n",
              "0     #fingerprint #Pregnancy Test https://goo.gl/h1MfQV #android #apps #beautiful #cute #health #igers #iphoneonly #iphonesia #iphone   \n",
              "1  Finally a transparant silicon case ^^ Thanks to my uncle :) #yay #Sony #Xperia #S #sonyexperias… http://instagram.com/p/YGEt5JC6JM/   \n",
              "\n",
              "                                                                                                          tweet_clean  \n",
              "0   fingerprint Pregnancy Test https goo gl MfQV android apps beautiful cute health igers iphoneonly iphonesia iphone  \n",
              "1     Finally transparant silicon case Thanks to my uncle yay Sony Xperia sonyexperias http instagram com YGEt JC JM   "
            ]
          },
          "metadata": {
            "tags": []
          },
          "execution_count": 15
        }
      ]
    },
    {
      "cell_type": "code",
      "metadata": {
        "id": "11gQ0j3KPhBq",
        "colab_type": "code",
        "colab": {}
      },
      "source": [
        "X = df[mc].to_list()\n",
        "labels = df[target].to_list()"
      ],
      "execution_count": 16,
      "outputs": []
    },
    {
      "cell_type": "markdown",
      "metadata": {
        "id": "iO2iaZ9KPuTK",
        "colab_type": "text"
      },
      "source": [
        "# Tokenizing"
      ]
    },
    {
      "cell_type": "code",
      "metadata": {
        "id": "UyG-V6kMP8oq",
        "colab_type": "code",
        "colab": {
          "base_uri": "https://localhost:8080/",
          "height": 52
        },
        "outputId": "e0d95f20-715b-47c6-dab8-4a6368c59c22"
      },
      "source": [
        "%%time\n",
        "BertTokenizer = bert.bert_tokenization.FullTokenizer\n",
        "bert_layer = hub.KerasLayer(\"https://tfhub.dev/tensorflow/bert_en_uncased_L-12_H-768_A-12/1\",\n",
        "                            trainable=False)\n",
        "\n",
        "vocabulary_file = bert_layer.resolved_object.vocab_file.asset_path.numpy()\n",
        "\n",
        "to_lower_case = bert_layer.resolved_object.do_lower_case.numpy()\n",
        "\n",
        "tokenizer = BertTokenizer(vocabulary_file, to_lower_case)"
      ],
      "execution_count": 17,
      "outputs": [
        {
          "output_type": "stream",
          "text": [
            "CPU times: user 9.12 s, sys: 1.71 s, total: 10.8 s\n",
            "Wall time: 17.4 s\n"
          ],
          "name": "stdout"
        }
      ]
    },
    {
      "cell_type": "code",
      "metadata": {
        "id": "kAfUQyKKQ1P2",
        "colab_type": "code",
        "colab": {
          "base_uri": "https://localhost:8080/",
          "height": 34
        },
        "outputId": "1fe84982-563f-4c41-f6d0-b3c5531ebbd9"
      },
      "source": [
        "tokenizer.tokenize(\"nlp is fun.\")"
      ],
      "execution_count": 18,
      "outputs": [
        {
          "output_type": "execute_result",
          "data": {
            "text/plain": [
              "['nl', '##p', 'is', 'fun', '.']"
            ]
          },
          "metadata": {
            "tags": []
          },
          "execution_count": 18
        }
      ]
    },
    {
      "cell_type": "code",
      "metadata": {
        "id": "IAhevm7iRHHx",
        "colab_type": "code",
        "colab": {
          "base_uri": "https://localhost:8080/",
          "height": 34
        },
        "outputId": "e0297f6a-9a53-400e-cf53-a6e9c2afef20"
      },
      "source": [
        "tokenizer.convert_tokens_to_ids(tokenizer.tokenize(\"nlp is fun.\"))"
      ],
      "execution_count": 19,
      "outputs": [
        {
          "output_type": "execute_result",
          "data": {
            "text/plain": [
              "[17953, 2361, 2003, 4569, 1012]"
            ]
          },
          "metadata": {
            "tags": []
          },
          "execution_count": 19
        }
      ]
    },
    {
      "cell_type": "code",
      "metadata": {
        "id": "sIKBvRjiRP1S",
        "colab_type": "code",
        "colab": {}
      },
      "source": [
        "def encode_sentence(text):\n",
        "    return tokenizer.convert_tokens_to_ids(tokenizer.tokenize(text))"
      ],
      "execution_count": 20,
      "outputs": []
    },
    {
      "cell_type": "code",
      "metadata": {
        "id": "ywnJ5L3rR4KS",
        "colab_type": "code",
        "colab": {
          "base_uri": "https://localhost:8080/",
          "height": 34
        },
        "outputId": "60e6e500-d0c0-4f2d-8a22-919dcfc00341"
      },
      "source": [
        "df[tmc] = df[mc].progress_apply(encode_sentence)"
      ],
      "execution_count": 21,
      "outputs": [
        {
          "output_type": "stream",
          "text": [
            "100%|██████████| 1000/1000 [00:00<00:00, 3229.76it/s]\n"
          ],
          "name": "stderr"
        }
      ]
    },
    {
      "cell_type": "code",
      "metadata": {
        "id": "LadaGUNTSRsn",
        "colab_type": "code",
        "colab": {}
      },
      "source": [
        "# shuffle the data\n",
        "df = df.sample(frac=1,random_state=SEED)"
      ],
      "execution_count": 24,
      "outputs": []
    },
    {
      "cell_type": "code",
      "metadata": {
        "id": "6ujzmq2rTCQy",
        "colab_type": "code",
        "colab": {
          "base_uri": "https://localhost:8080/",
          "height": 34
        },
        "outputId": "ed6f714d-c385-41a2-9baf-d391520275aa"
      },
      "source": [
        "df['length'] = df[mc].progress_apply(len)"
      ],
      "execution_count": 25,
      "outputs": [
        {
          "output_type": "stream",
          "text": [
            "100%|██████████| 1000/1000 [00:00<00:00, 123459.92it/s]\n"
          ],
          "name": "stderr"
        }
      ]
    },
    {
      "cell_type": "code",
      "metadata": {
        "id": "DlipbC75TtQC",
        "colab_type": "code",
        "colab": {
          "base_uri": "https://localhost:8080/",
          "height": 324
        },
        "outputId": "3edf72f8-ef33-498a-d368-81729e9547a1"
      },
      "source": [
        "df.head(2)"
      ],
      "execution_count": 26,
      "outputs": [
        {
          "output_type": "execute_result",
          "data": {
            "text/html": [
              "<div>\n",
              "<style scoped>\n",
              "    .dataframe tbody tr th:only-of-type {\n",
              "        vertical-align: middle;\n",
              "    }\n",
              "\n",
              "    .dataframe tbody tr th {\n",
              "        vertical-align: top;\n",
              "    }\n",
              "\n",
              "    .dataframe thead th {\n",
              "        text-align: right;\n",
              "    }\n",
              "</style>\n",
              "<table border=\"1\" class=\"dataframe\">\n",
              "  <thead>\n",
              "    <tr style=\"text-align: right;\">\n",
              "      <th></th>\n",
              "      <th>id</th>\n",
              "      <th>label</th>\n",
              "      <th>tweet</th>\n",
              "      <th>tweet_clean</th>\n",
              "      <th>tokenized_tweet_clean</th>\n",
              "      <th>length</th>\n",
              "    </tr>\n",
              "  </thead>\n",
              "  <tbody>\n",
              "    <tr>\n",
              "      <th>249</th>\n",
              "      <td>250</td>\n",
              "      <td>0</td>\n",
              "      <td>look what mommy got 4 me :-p #igers #ipad #apple #mom #gifts #instahub #instadaily #blessed #fo http://instagr.am/p/Uor2Uoh6C0/</td>\n",
              "      <td>look what mommy got me igers ipad apple mom gifts instahub instadaily blessed fo http instagr am Uor Uoh</td>\n",
              "      <td>[2298, 2054, 20565, 2288, 2033, 1045, 15776, 25249, 6207, 3566, 9604, 16021, 2696, 6979, 2497, 16021, 17713, 12502, 2100, 10190, 1042, 2080, 8299, 16021, 15900, 2099, 2572, 1057, 2953, 1057, 11631]</td>\n",
              "      <td>105</td>\n",
              "    </tr>\n",
              "    <tr>\n",
              "      <th>353</th>\n",
              "      <td>354</td>\n",
              "      <td>0</td>\n",
              "      <td>Top Photo App Available now &gt;&gt; https://itunes.apple.com/us/app/love360/id809353957?mt=8 … #photography #usa #woman poem #valentine #iphone #kärlek 872</td>\n",
              "      <td>Top Photo App Available now https itunes apple com us app love id mt photography usa woman poem valentine iphone rlek</td>\n",
              "      <td>[2327, 6302, 10439, 2800, 2085, 16770, 11943, 6207, 4012, 2149, 10439, 2293, 8909, 11047, 5855, 3915, 2450, 5961, 10113, 18059, 1054, 2571, 2243]</td>\n",
              "      <td>118</td>\n",
              "    </tr>\n",
              "  </tbody>\n",
              "</table>\n",
              "</div>"
            ],
            "text/plain": [
              "      id  label  \\\n",
              "249  250      0   \n",
              "353  354      0   \n",
              "\n",
              "                                                                                                                                                      tweet  \\\n",
              "249                         look what mommy got 4 me :-p #igers #ipad #apple #mom #gifts #instahub #instadaily #blessed #fo http://instagr.am/p/Uor2Uoh6C0/   \n",
              "353  Top Photo App Available now >> https://itunes.apple.com/us/app/love360/id809353957?mt=8 … #photography #usa #woman poem #valentine #iphone #kärlek 872   \n",
              "\n",
              "                                                                                                                tweet_clean  \\\n",
              "249               look what mommy got me igers ipad apple mom gifts instahub instadaily blessed fo http instagr am Uor Uoh    \n",
              "353  Top Photo App Available now https itunes apple com us app love id mt photography usa woman poem valentine iphone rlek    \n",
              "\n",
              "                                                                                                                                                                                     tokenized_tweet_clean  \\\n",
              "249  [2298, 2054, 20565, 2288, 2033, 1045, 15776, 25249, 6207, 3566, 9604, 16021, 2696, 6979, 2497, 16021, 17713, 12502, 2100, 10190, 1042, 2080, 8299, 16021, 15900, 2099, 2572, 1057, 2953, 1057, 11631]   \n",
              "353                                                      [2327, 6302, 10439, 2800, 2085, 16770, 11943, 6207, 4012, 2149, 10439, 2293, 8909, 11047, 5855, 3915, 2450, 5961, 10113, 18059, 1054, 2571, 2243]   \n",
              "\n",
              "     length  \n",
              "249     105  \n",
              "353     118  "
            ]
          },
          "metadata": {
            "tags": []
          },
          "execution_count": 26
        }
      ]
    },
    {
      "cell_type": "code",
      "metadata": {
        "id": "qGCIpJRRTujC",
        "colab_type": "code",
        "colab": {
          "base_uri": "https://localhost:8080/",
          "height": 141
        },
        "outputId": "f59921df-6e5f-4714-ef08-ffa3dbe767b6"
      },
      "source": [
        "# sort data with length\n",
        "df = df.sort_values('length')\n",
        "df.head(2)"
      ],
      "execution_count": 27,
      "outputs": [
        {
          "output_type": "execute_result",
          "data": {
            "text/html": [
              "<div>\n",
              "<style scoped>\n",
              "    .dataframe tbody tr th:only-of-type {\n",
              "        vertical-align: middle;\n",
              "    }\n",
              "\n",
              "    .dataframe tbody tr th {\n",
              "        vertical-align: top;\n",
              "    }\n",
              "\n",
              "    .dataframe thead th {\n",
              "        text-align: right;\n",
              "    }\n",
              "</style>\n",
              "<table border=\"1\" class=\"dataframe\">\n",
              "  <thead>\n",
              "    <tr style=\"text-align: right;\">\n",
              "      <th></th>\n",
              "      <th>id</th>\n",
              "      <th>label</th>\n",
              "      <th>tweet</th>\n",
              "      <th>tweet_clean</th>\n",
              "      <th>tokenized_tweet_clean</th>\n",
              "      <th>length</th>\n",
              "    </tr>\n",
              "  </thead>\n",
              "  <tbody>\n",
              "    <tr>\n",
              "      <th>282</th>\n",
              "      <td>283</td>\n",
              "      <td>1</td>\n",
              "      <td>1 hour usage and phones down 13% ... Thanks #iPhone #Apple</td>\n",
              "      <td>hour usage and phones down Thanks iPhone Apple</td>\n",
              "      <td>[3178, 8192, 1998, 11640, 2091, 4283, 18059, 6207]</td>\n",
              "      <td>47</td>\n",
              "    </tr>\n",
              "    <tr>\n",
              "      <th>575</th>\n",
              "      <td>576</td>\n",
              "      <td>0</td>\n",
              "      <td>An awesome phablet ... note 5 duos. #Note7 note 5 ... #Samsung ...</td>\n",
              "      <td>An awesome phablet note duos Note note Samsung</td>\n",
              "      <td>[2019, 12476, 6887, 3085, 2102, 3602, 6829, 2015, 3602, 3602, 19102]</td>\n",
              "      <td>47</td>\n",
              "    </tr>\n",
              "  </tbody>\n",
              "</table>\n",
              "</div>"
            ],
            "text/plain": [
              "      id  label  \\\n",
              "282  283      1   \n",
              "575  576      0   \n",
              "\n",
              "                                                                  tweet  \\\n",
              "282          1 hour usage and phones down 13% ... Thanks #iPhone #Apple   \n",
              "575  An awesome phablet ... note 5 duos. #Note7 note 5 ... #Samsung ...   \n",
              "\n",
              "                                         tweet_clean  \\\n",
              "282   hour usage and phones down Thanks iPhone Apple   \n",
              "575  An awesome phablet note duos Note note Samsung    \n",
              "\n",
              "                                                    tokenized_tweet_clean  \\\n",
              "282                    [3178, 8192, 1998, 11640, 2091, 4283, 18059, 6207]   \n",
              "575  [2019, 12476, 6887, 3085, 2102, 3602, 6829, 2015, 3602, 3602, 19102]   \n",
              "\n",
              "     length  \n",
              "282      47  \n",
              "575      47  "
            ]
          },
          "metadata": {
            "tags": []
          },
          "execution_count": 27
        }
      ]
    },
    {
      "cell_type": "code",
      "metadata": {
        "id": "fjZOUrLsT605",
        "colab_type": "code",
        "colab": {}
      },
      "source": [
        "sorted_data_labels = [ (df[tmc][i], df[target][i]) for i in range(len(df)) ]"
      ],
      "execution_count": 29,
      "outputs": []
    },
    {
      "cell_type": "code",
      "metadata": {
        "id": "_rMS9WCuUh_K",
        "colab_type": "code",
        "colab": {
          "base_uri": "https://localhost:8080/",
          "height": 34
        },
        "outputId": "813a337b-d774-43b8-cf4d-ff735cd9d21a"
      },
      "source": [
        "sorted_data_labels[0][0][:5]"
      ],
      "execution_count": 30,
      "outputs": [
        {
          "output_type": "execute_result",
          "data": {
            "text/plain": [
              "[4344, 16550, 10032, 3231, 16770]"
            ]
          },
          "metadata": {
            "tags": []
          },
          "execution_count": 30
        }
      ]
    },
    {
      "cell_type": "code",
      "metadata": {
        "id": "gB5rP0WEUnG7",
        "colab_type": "code",
        "colab": {}
      },
      "source": [
        "# tf2 compatible dataset\n",
        "processed_dataset = tf.data.Dataset.from_generator(\n",
        "    lambda: sorted_data_labels, output_types=(tf.int32, tf.int32))"
      ],
      "execution_count": 31,
      "outputs": []
    },
    {
      "cell_type": "code",
      "metadata": {
        "id": "H-fCyIOCWCr0",
        "colab_type": "code",
        "colab": {}
      },
      "source": [
        "# pad each batch (better than padding whole dataset)\n",
        "BATCH_SIZE = 32\n",
        "batched_dataset = processed_dataset.padded_batch(BATCH_SIZE, padded_shapes=((None, ), ()))"
      ],
      "execution_count": 32,
      "outputs": []
    },
    {
      "cell_type": "code",
      "metadata": {
        "id": "oRkQ27E_WNKn",
        "colab_type": "code",
        "colab": {}
      },
      "source": [
        "# see the first batch\n",
        "# next(iter(batched_dataset))"
      ],
      "execution_count": 34,
      "outputs": []
    },
    {
      "cell_type": "markdown",
      "metadata": {
        "id": "MlAZlKGRWYZS",
        "colab_type": "text"
      },
      "source": [
        "# Train Test Split"
      ]
    },
    {
      "cell_type": "code",
      "metadata": {
        "id": "zSfJQaLIWrxJ",
        "colab_type": "code",
        "colab": {}
      },
      "source": [
        "TOTAL_BATCHES = np.ceil(len(sorted_data_labels) / BATCH_SIZE)\n",
        "TEST_BATCHES = TOTAL_BATCHES // 10\n",
        "\n",
        "batched_dataset.shuffle(TOTAL_BATCHES,seed=SEED)\n",
        "\n",
        "test_data = batched_dataset.take(TEST_BATCHES)\n",
        "train_data = batched_dataset.skip(TEST_BATCHES)"
      ],
      "execution_count": 35,
      "outputs": []
    },
    {
      "cell_type": "markdown",
      "metadata": {
        "id": "WgRyeM9dWt7T",
        "colab_type": "text"
      },
      "source": [
        "# Create the model"
      ]
    },
    {
      "cell_type": "code",
      "metadata": {
        "id": "ZUf5VPyMW7uK",
        "colab_type": "code",
        "colab": {}
      },
      "source": [
        "class TEXT_MODEL(tf.keras.Model):\n",
        "    \n",
        "    def __init__(self,\n",
        "                 vocabulary_size,\n",
        "                 embedding_dimensions=128,\n",
        "                 cnn_filters=50,\n",
        "                 dnn_units=512,\n",
        "                 model_output_classes=2,\n",
        "                 dropout_rate=0.1,\n",
        "                 training=False,\n",
        "                 name=\"text_model\"):\n",
        "        super(TEXT_MODEL, self).__init__(name=name)\n",
        "\n",
        "        self.embedding = layers.Embedding(vocabulary_size,\n",
        "                                          embedding_dimensions)\n",
        "        self.cnn_layer1 = layers.Conv1D(filters=cnn_filters,\n",
        "                                        kernel_size=2,\n",
        "                                        padding=\"valid\",\n",
        "                                        activation=\"relu\")\n",
        "        self.cnn_layer2 = layers.Conv1D(filters=cnn_filters,\n",
        "                                        kernel_size=3,\n",
        "                                        padding=\"valid\",\n",
        "                                        activation=\"relu\")\n",
        "        self.cnn_layer3 = layers.Conv1D(filters=cnn_filters,\n",
        "                                        kernel_size=4,\n",
        "                                        padding=\"valid\",\n",
        "                                        activation=\"relu\")\n",
        "        self.pool = layers.GlobalMaxPool1D()\n",
        "        \n",
        "        self.dense_1 = layers.Dense(units=dnn_units, activation=\"relu\")\n",
        "        self.dropout = layers.Dropout(rate=dropout_rate)\n",
        "        if model_output_classes == 2:\n",
        "            self.last_dense = layers.Dense(units=1,\n",
        "                                           activation=\"sigmoid\")\n",
        "        else:\n",
        "            self.last_dense = layers.Dense(units=model_output_classes,\n",
        "                                           activation=\"softmax\")\n",
        "    \n",
        "    def call(self, inputs, training):\n",
        "        l = self.embedding(inputs)\n",
        "        l_1 = self.cnn_layer1(l) \n",
        "        l_1 = self.pool(l_1) \n",
        "        l_2 = self.cnn_layer2(l) \n",
        "        l_2 = self.pool(l_2)\n",
        "        l_3 = self.cnn_layer3(l)\n",
        "        l_3 = self.pool(l_3) \n",
        "        \n",
        "        concatenated = tf.concat([l_1, l_2, l_3], axis=-1) # (batch_size, 3 * cnn_filters)\n",
        "        concatenated = self.dense_1(concatenated)\n",
        "        concatenated = self.dropout(concatenated, training)\n",
        "        model_output = self.last_dense(concatenated)\n",
        "        \n",
        "        return model_output"
      ],
      "execution_count": 36,
      "outputs": []
    },
    {
      "cell_type": "code",
      "metadata": {
        "id": "5UddBxbFontk",
        "colab_type": "code",
        "colab": {}
      },
      "source": [
        ""
      ],
      "execution_count": 86,
      "outputs": []
    },
    {
      "cell_type": "code",
      "metadata": {
        "id": "NtxvqUQFW7zI",
        "colab_type": "code",
        "colab": {}
      },
      "source": [
        "# Hyperparameters\n",
        "VOCAB_LENGTH = len(tokenizer.vocab)\n",
        "EMB_DIM = 300\n",
        "CNN_FILTERS = 100\n",
        "DNN_UNITS = 256\n",
        "OUTPUT_CLASSES = 2\n",
        "\n",
        "DROPOUT_RATE = 0.1\n",
        "\n",
        "NB_EPOCHS = 10"
      ],
      "execution_count": 87,
      "outputs": []
    },
    {
      "cell_type": "code",
      "metadata": {
        "id": "D2hXHzT1W72p",
        "colab_type": "code",
        "colab": {}
      },
      "source": [
        "text_model = TEXT_MODEL(vocabulary_size=VOCAB_LENGTH,\n",
        "                        embedding_dimensions=EMB_DIM,\n",
        "                        cnn_filters=CNN_FILTERS,\n",
        "                        dnn_units=DNN_UNITS,\n",
        "                        model_output_classes=OUTPUT_CLASSES,\n",
        "                        dropout_rate=DROPOUT_RATE)"
      ],
      "execution_count": 88,
      "outputs": []
    },
    {
      "cell_type": "code",
      "metadata": {
        "id": "IjRwseR2XIFa",
        "colab_type": "code",
        "colab": {}
      },
      "source": [
        "if OUTPUT_CLASSES == 2:\n",
        "    text_model.compile(loss=\"binary_crossentropy\",\n",
        "                       optimizer=\"adam\",\n",
        "                       metrics=[\"accuracy\"])\n",
        "else:\n",
        "    text_model.compile(loss=\"sparse_categorical_crossentropy\",\n",
        "                       optimizer=\"adam\",\n",
        "                       metrics=[\"sparse_categorical_accuracy\"])"
      ],
      "execution_count": 89,
      "outputs": []
    },
    {
      "cell_type": "code",
      "metadata": {
        "id": "yLfnNCAFXLta",
        "colab_type": "code",
        "colab": {
          "base_uri": "https://localhost:8080/",
          "height": 425
        },
        "outputId": "d53499b4-13bd-4954-8b0e-2e4457ed96e1"
      },
      "source": [
        "%%time\n",
        "\n",
        "# Note: use gpu \n",
        "text_model.fit(train_data, epochs=NB_EPOCHS)"
      ],
      "execution_count": 90,
      "outputs": [
        {
          "output_type": "stream",
          "text": [
            "Epoch 1/10\n",
            "29/29 [==============================] - 3s 87ms/step - loss: 0.4916 - accuracy: 0.7400\n",
            "Epoch 2/10\n",
            "29/29 [==============================] - 2s 84ms/step - loss: 0.2866 - accuracy: 0.9082\n",
            "Epoch 3/10\n",
            "29/29 [==============================] - 2s 86ms/step - loss: 0.1180 - accuracy: 0.9723\n",
            "Epoch 4/10\n",
            "29/29 [==============================] - 2s 86ms/step - loss: 0.0163 - accuracy: 0.9989\n",
            "Epoch 5/10\n",
            "29/29 [==============================] - 3s 86ms/step - loss: 0.0032 - accuracy: 1.0000\n",
            "Epoch 6/10\n",
            "29/29 [==============================] - 2s 86ms/step - loss: 0.0011 - accuracy: 1.0000\n",
            "Epoch 7/10\n",
            "29/29 [==============================] - 2s 85ms/step - loss: 6.4176e-04 - accuracy: 1.0000\n",
            "Epoch 8/10\n",
            "29/29 [==============================] - 2s 85ms/step - loss: 4.2553e-04 - accuracy: 1.0000\n",
            "Epoch 9/10\n",
            "29/29 [==============================] - 3s 86ms/step - loss: 3.1922e-04 - accuracy: 1.0000\n",
            "Epoch 10/10\n",
            "29/29 [==============================] - 2s 86ms/step - loss: 2.3658e-04 - accuracy: 1.0000\n",
            "CPU times: user 45.3 s, sys: 989 ms, total: 46.3 s\n",
            "Wall time: 26.7 s\n"
          ],
          "name": "stdout"
        },
        {
          "output_type": "execute_result",
          "data": {
            "text/plain": [
              "<tensorflow.python.keras.callbacks.History at 0x7fa5f6dba4a8>"
            ]
          },
          "metadata": {
            "tags": []
          },
          "execution_count": 90
        }
      ]
    },
    {
      "cell_type": "code",
      "metadata": {
        "id": "3CpkWi_KXcQN",
        "colab_type": "code",
        "colab": {
          "base_uri": "https://localhost:8080/",
          "height": 52
        },
        "outputId": "7b23c6b8-6063-455c-dbc2-e797e88a3a35"
      },
      "source": [
        "results = text_model.evaluate(test_data)\n",
        "print(results)"
      ],
      "execution_count": 91,
      "outputs": [
        {
          "output_type": "stream",
          "text": [
            "3/3 [==============================] - 0s 7ms/step - loss: 0.4582 - accuracy: 0.8854\n",
            "[0.458150714635849, 0.8854166865348816]\n"
          ],
          "name": "stdout"
        }
      ]
    },
    {
      "cell_type": "code",
      "metadata": {
        "id": "y5DOiL9Bl_P5",
        "colab_type": "code",
        "colab": {
          "base_uri": "https://localhost:8080/",
          "height": 34
        },
        "outputId": "67b1c1b9-dedc-483d-ca78-de46853106df"
      },
      "source": [
        "y_test = []\n",
        "for element in test_data.as_numpy_iterator():\n",
        "  y_test += element[1].tolist()\n",
        "\n",
        "y_test[:5]"
      ],
      "execution_count": 92,
      "outputs": [
        {
          "output_type": "execute_result",
          "data": {
            "text/plain": [
              "[0, 0, 0, 0, 1]"
            ]
          },
          "metadata": {
            "tags": []
          },
          "execution_count": 92
        }
      ]
    },
    {
      "cell_type": "code",
      "metadata": {
        "id": "jDhPVpLFboXb",
        "colab_type": "code",
        "colab": {
          "base_uri": "https://localhost:8080/",
          "height": 34
        },
        "outputId": "e8594510-88ec-4326-ec4c-06e9ca2625cf"
      },
      "source": [
        "y_pred = text_model.predict(test_data)\n",
        "y_pred = (y_pred > 0.5).astype('int').ravel().tolist()\n",
        "y_pred[:5]"
      ],
      "execution_count": 93,
      "outputs": [
        {
          "output_type": "execute_result",
          "data": {
            "text/plain": [
              "[0, 0, 0, 0, 1]"
            ]
          },
          "metadata": {
            "tags": []
          },
          "execution_count": 93
        }
      ]
    },
    {
      "cell_type": "markdown",
      "metadata": {
        "id": "junlvq8Ujm8b",
        "colab_type": "text"
      },
      "source": [
        "# Model Evaluation"
      ]
    },
    {
      "cell_type": "code",
      "metadata": {
        "id": "Xv6QnClsjt_j",
        "colab_type": "code",
        "colab": {}
      },
      "source": [
        "from sklearn import metrics"
      ],
      "execution_count": 97,
      "outputs": []
    },
    {
      "cell_type": "code",
      "metadata": {
        "id": "aptummi9juHS",
        "colab_type": "code",
        "colab": {}
      },
      "source": [
        "df_eval = pd.DataFrame({\n",
        "    'Text Model': [],\n",
        "    'Params': [],\n",
        "    'Model': [],\n",
        "    'Description': [],\n",
        "    'Accuracy': [],\n",
        "    'Precision': [],\n",
        "    'Recall': [],\n",
        "    'F1': [],\n",
        "})"
      ],
      "execution_count": 95,
      "outputs": []
    },
    {
      "cell_type": "code",
      "metadata": {
        "id": "QxFo54nhjWzE",
        "colab_type": "code",
        "colab": {
          "base_uri": "https://localhost:8080/",
          "height": 77
        },
        "outputId": "b9e55dd5-7bc4-47d9-9446-9d2905d53b13"
      },
      "source": [
        "text_model_name = \"bert\"\n",
        "params = \"bert_en_uncased_L-12_H-768_A-12\"\n",
        "model_name = \"tf\"\n",
        "desc = \"3 layers\"\n",
        "\n",
        "yvd = y_test\n",
        "vd_preds = y_pred\n",
        "\n",
        "acc = metrics.accuracy_score(yvd,vd_preds)\n",
        "pre = metrics.precision_score(yvd,vd_preds)\n",
        "rec = metrics.recall_score(yvd,vd_preds)\n",
        "f1 = metrics.f1_score(yvd,vd_preds,average='weighted')\n",
        "\n",
        "row = [text_model_name, params, model_name,desc]\n",
        "row = row + [acc, pre, rec, f1]\n",
        "\n",
        "df_eval.loc[len(df_eval)] = row\n",
        "df_eval = df_eval.drop_duplicates(subset=['Text Model', 'Params', 'Model', 'Description'])\n",
        "\n",
        "df_eval"
      ],
      "execution_count": 96,
      "outputs": [
        {
          "output_type": "execute_result",
          "data": {
            "text/html": [
              "<div>\n",
              "<style scoped>\n",
              "    .dataframe tbody tr th:only-of-type {\n",
              "        vertical-align: middle;\n",
              "    }\n",
              "\n",
              "    .dataframe tbody tr th {\n",
              "        vertical-align: top;\n",
              "    }\n",
              "\n",
              "    .dataframe thead th {\n",
              "        text-align: right;\n",
              "    }\n",
              "</style>\n",
              "<table border=\"1\" class=\"dataframe\">\n",
              "  <thead>\n",
              "    <tr style=\"text-align: right;\">\n",
              "      <th></th>\n",
              "      <th>Text Model</th>\n",
              "      <th>Params</th>\n",
              "      <th>Model</th>\n",
              "      <th>Description</th>\n",
              "      <th>Accuracy</th>\n",
              "      <th>Precision</th>\n",
              "      <th>Recall</th>\n",
              "      <th>F1</th>\n",
              "    </tr>\n",
              "  </thead>\n",
              "  <tbody>\n",
              "    <tr>\n",
              "      <th>0</th>\n",
              "      <td>bert</td>\n",
              "      <td>bert_en_uncased_L-12_H-768_A-12</td>\n",
              "      <td>tf</td>\n",
              "      <td>3 layers</td>\n",
              "      <td>0.885417</td>\n",
              "      <td>0.807692</td>\n",
              "      <td>0.777778</td>\n",
              "      <td>0.884748</td>\n",
              "    </tr>\n",
              "  </tbody>\n",
              "</table>\n",
              "</div>"
            ],
            "text/plain": [
              "  Text Model                           Params Model Description  Accuracy  \\\n",
              "0       bert  bert_en_uncased_L-12_H-768_A-12    tf    3 layers  0.885417   \n",
              "\n",
              "   Precision    Recall        F1  \n",
              "0   0.807692  0.777778  0.884748  "
            ]
          },
          "metadata": {
            "tags": []
          },
          "execution_count": 96
        }
      ]
    }
  ]
}