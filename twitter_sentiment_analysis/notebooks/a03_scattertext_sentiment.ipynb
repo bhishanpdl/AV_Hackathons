{
 "cells": [
  {
   "cell_type": "markdown",
   "metadata": {
    "toc": true
   },
   "source": [
    "<h1>Table of Contents<span class=\"tocSkip\"></span></h1>\n",
    "<div class=\"toc\"><ul class=\"toc-item\"><li><span><a href=\"#Descriptions\" data-toc-modified-id=\"Descriptions-1\"><span class=\"toc-item-num\">1&nbsp;&nbsp;</span>Descriptions</a></span></li><li><span><a href=\"#Google-Colab\" data-toc-modified-id=\"Google-Colab-2\"><span class=\"toc-item-num\">2&nbsp;&nbsp;</span>Google Colab</a></span></li><li><span><a href=\"#Load-the-libraries\" data-toc-modified-id=\"Load-the-libraries-3\"><span class=\"toc-item-num\">3&nbsp;&nbsp;</span>Load the libraries</a></span></li><li><span><a href=\"#Useful-Functions\" data-toc-modified-id=\"Useful-Functions-4\"><span class=\"toc-item-num\">4&nbsp;&nbsp;</span>Useful Functions</a></span></li><li><span><a href=\"#Data-Processing\" data-toc-modified-id=\"Data-Processing-5\"><span class=\"toc-item-num\">5&nbsp;&nbsp;</span>Data Processing</a></span><ul class=\"toc-item\"><li><span><a href=\"#Load-the-data\" data-toc-modified-id=\"Load-the-data-5.1\"><span class=\"toc-item-num\">5.1&nbsp;&nbsp;</span>Load the data</a></span></li><li><span><a href=\"#parse-the-text:-whitespace-nlp-with-sentence\" data-toc-modified-id=\"parse-the-text:-whitespace-nlp-with-sentence-5.2\"><span class=\"toc-item-num\">5.2&nbsp;&nbsp;</span>parse the text: whitespace nlp with sentence</a></span></li><li><span><a href=\"#Create-corpus\" data-toc-modified-id=\"Create-corpus-5.3\"><span class=\"toc-item-num\">5.3&nbsp;&nbsp;</span>Create corpus</a></span></li></ul></li><li><span><a href=\"#Positive-and-Negative-Tweets\" data-toc-modified-id=\"Positive-and-Negative-Tweets-6\"><span class=\"toc-item-num\">6&nbsp;&nbsp;</span>Positive and Negative Tweets</a></span></li><li><span><a href=\"#Visualizing-Phrase-associations\" data-toc-modified-id=\"Visualizing-Phrase-associations-7\"><span class=\"toc-item-num\">7&nbsp;&nbsp;</span>Visualizing Phrase associations</a></span></li><li><span><a href=\"#Time-Taken\" data-toc-modified-id=\"Time-Taken-8\"><span class=\"toc-item-num\">8&nbsp;&nbsp;</span>Time Taken</a></span></li></ul></div>"
   ]
  },
  {
   "cell_type": "markdown",
   "metadata": {
    "colab_type": "text",
    "id": "MBcRis_Eqlcp"
   },
   "source": [
    "# Descriptions\n",
    "\n",
    "- [github: scattertext](https://github.com/JasonKessler/scattertext#a-note-on-chart-layout)"
   ]
  },
  {
   "cell_type": "code",
   "execution_count": 1,
   "metadata": {
    "ExecuteTime": {
     "end_time": "2021-01-06T22:48:17.701238Z",
     "start_time": "2021-01-06T22:48:17.694818Z"
    }
   },
   "outputs": [],
   "source": [
    "import time\n",
    "\n",
    "time_start_notebook = time.time()"
   ]
  },
  {
   "cell_type": "markdown",
   "metadata": {
    "colab_type": "text",
    "id": "pD2fbcXzywYE"
   },
   "source": [
    "# Google Colab"
   ]
  },
  {
   "cell_type": "code",
   "execution_count": 2,
   "metadata": {
    "ExecuteTime": {
     "end_time": "2021-01-06T22:48:17.709124Z",
     "start_time": "2021-01-06T22:48:17.703012Z"
    },
    "colab": {
     "base_uri": "https://localhost:8080/",
     "height": 318
    },
    "colab_type": "code",
    "id": "TnnS6ZIPgQuy",
    "outputId": "723ade46-a535-48ee-a81d-48f9fc693cdc"
   },
   "outputs": [],
   "source": [
    "%%capture\n",
    "# capture will not print in notebook\n",
    "\n",
    "import os\n",
    "import sys\n",
    "ENV_COLAB = 'google.colab' in sys.modules\n",
    "\n",
    "if ENV_COLAB:\n",
    "    ## install modules\n",
    "    !pip install scattertext\n",
    "\n",
    "    ## print\n",
    "    print('Environment: Google Colaboratory.')\n",
    "\n",
    "# NOTE: If we update modules in gcolab, we need to restart runtime."
   ]
  },
  {
   "cell_type": "markdown",
   "metadata": {
    "colab_type": "text",
    "id": "fD0Nuj24ylsk"
   },
   "source": [
    "# Load the libraries"
   ]
  },
  {
   "cell_type": "code",
   "execution_count": 3,
   "metadata": {
    "ExecuteTime": {
     "end_time": "2021-01-06T22:48:19.000515Z",
     "start_time": "2021-01-06T22:48:17.712452Z"
    },
    "colab": {
     "base_uri": "https://localhost:8080/",
     "height": 34
    },
    "colab_type": "code",
    "id": "E6Um2nU7yYW9",
    "outputId": "36969bdb-7058-400f-ffab-4ca3b4efc351"
   },
   "outputs": [
    {
     "name": "stdout",
     "output_type": "stream",
     "text": [
      "Author: Bhishan Poudel\n",
      "\n",
      "Python implementation: CPython\n",
      "Python version       : 3.7.9\n",
      "IPython version      : 7.19.0\n",
      "\n",
      "Compiler    : Clang 10.0.0 \n",
      "OS          : Darwin\n",
      "Release     : 19.6.0\n",
      "Machine     : x86_64\n",
      "Processor   : i386\n",
      "CPU cores   : 4\n",
      "Architecture: 64bit\n",
      "\n",
      "\n",
      "autopep8   : 1.5.4\n",
      "pandas     : 1.1.4\n",
      "scattertext: 0.0.2.75\n",
      "json       : 2.0.9\n",
      "numpy      : 1.19.4\n",
      "swifter    : 1.0.6\n",
      "sys        : 3.7.9 (default, Aug 31 2020, 07:22:35) \n",
      "[Clang 10.0.0 ]\n",
      "watermark  : 2.1.0\n",
      "\n"
     ]
    }
   ],
   "source": [
    "import numpy as np\n",
    "import pandas as pd\n",
    "import swifter\n",
    "\n",
    "import scattertext as st\n",
    "\n",
    "# versions\n",
    "import watermark\n",
    "%load_ext watermark\n",
    "%watermark -a \"Bhishan Poudel\" -d -v -m\n",
    "print()\n",
    "%watermark -iv"
   ]
  },
  {
   "cell_type": "markdown",
   "metadata": {},
   "source": [
    "# Useful Functions"
   ]
  },
  {
   "cell_type": "code",
   "execution_count": 4,
   "metadata": {
    "ExecuteTime": {
     "end_time": "2021-01-06T22:48:19.007276Z",
     "start_time": "2021-01-06T22:48:19.002718Z"
    }
   },
   "outputs": [],
   "source": [
    "def show_methods(obj, ncols=4,contains=None):\n",
    "    lst = [i for i in dir(obj) if i[0]!='_' ]\n",
    "    if contains is not None:\n",
    "        lst = [i for i in lst if contains in i]\n",
    "    df = pd.DataFrame(np.array_split(lst,ncols)).T.fillna('')\n",
    "    return df"
   ]
  },
  {
   "cell_type": "markdown",
   "metadata": {},
   "source": [
    "# Data Processing"
   ]
  },
  {
   "cell_type": "markdown",
   "metadata": {
    "colab_type": "text",
    "id": "HKgRz7rOynlY"
   },
   "source": [
    "## Load the data"
   ]
  },
  {
   "cell_type": "code",
   "execution_count": 5,
   "metadata": {
    "ExecuteTime": {
     "end_time": "2021-01-06T22:48:20.873255Z",
     "start_time": "2021-01-06T22:48:19.014467Z"
    },
    "colab": {
     "base_uri": "https://localhost:8080/",
     "height": 623
    },
    "colab_type": "code",
    "id": "C6jzFcvlzHCN",
    "outputId": "74d5e31e-b253-4b53-8abf-b8b44f7c4485"
   },
   "outputs": [
    {
     "data": {
      "text/html": [
       "<div>\n",
       "<style scoped>\n",
       "    .dataframe tbody tr th:only-of-type {\n",
       "        vertical-align: middle;\n",
       "    }\n",
       "\n",
       "    .dataframe tbody tr th {\n",
       "        vertical-align: top;\n",
       "    }\n",
       "\n",
       "    .dataframe thead th {\n",
       "        text-align: right;\n",
       "    }\n",
       "</style>\n",
       "<table border=\"1\" class=\"dataframe\">\n",
       "  <thead>\n",
       "    <tr style=\"text-align: right;\">\n",
       "      <th></th>\n",
       "      <th>id</th>\n",
       "      <th>label</th>\n",
       "      <th>tweet_clean</th>\n",
       "    </tr>\n",
       "  </thead>\n",
       "  <tbody>\n",
       "    <tr>\n",
       "      <th>0</th>\n",
       "      <td>1</td>\n",
       "      <td>negative</td>\n",
       "      <td>fingerprint pregnancy test android aps beautif...</td>\n",
       "    </tr>\n",
       "    <tr>\n",
       "      <th>1</th>\n",
       "      <td>2</td>\n",
       "      <td>negative</td>\n",
       "      <td>finaly transparant silicon case thanks uncle y...</td>\n",
       "    </tr>\n",
       "    <tr>\n",
       "      <th>7918</th>\n",
       "      <td>7919</td>\n",
       "      <td>negative</td>\n",
       "      <td>finaly got smart pocket wifi stay conected any...</td>\n",
       "    </tr>\n",
       "    <tr>\n",
       "      <th>7919</th>\n",
       "      <td>7920</td>\n",
       "      <td>negative</td>\n",
       "      <td>aple barcelona aple store bcn barcelona travel...</td>\n",
       "    </tr>\n",
       "  </tbody>\n",
       "</table>\n",
       "</div>"
      ],
      "text/plain": [
       "        id     label                                        tweet_clean\n",
       "0        1  negative  fingerprint pregnancy test android aps beautif...\n",
       "1        2  negative  finaly transparant silicon case thanks uncle y...\n",
       "7918  7919  negative  finaly got smart pocket wifi stay conected any...\n",
       "7919  7920  negative  aple barcelona aple store bcn barcelona travel..."
      ]
     },
     "metadata": {},
     "output_type": "display_data"
    }
   ],
   "source": [
    "target_name = 'label'\n",
    "mc = 'tweet_clean' # main column cleaned\n",
    "\n",
    "p = 'https://github.com/bhishanpdl/Datasets/blob/master/AV_Hackathons/sentiment_analysis/processed/'\n",
    "df = pd.read_csv(p + 'df_combined_clean.csv?raw=true',\n",
    "                 usecols=['id', target_name,mc])\n",
    "\n",
    "df = df[df.label.notnull()]\n",
    "df['label'] = df['label'].map({1.0: 'positive',0.0: 'negative'})\n",
    "\n",
    "display(df.head(2).append(df.tail(2)))"
   ]
  },
  {
   "cell_type": "markdown",
   "metadata": {},
   "source": [
    "## parse the text: whitespace nlp with sentence"
   ]
  },
  {
   "cell_type": "code",
   "execution_count": 6,
   "metadata": {
    "ExecuteTime": {
     "end_time": "2021-01-06T22:48:22.220704Z",
     "start_time": "2021-01-06T22:48:20.876888Z"
    }
   },
   "outputs": [
    {
     "data": {
      "application/vnd.jupyter.widget-view+json": {
       "model_id": "25d347a7ecc94c0eb8c08d10ba4c93f4",
       "version_major": 2,
       "version_minor": 0
      },
      "text/plain": [
       "HBox(children=(HTML(value='Pandas Apply'), FloatProgress(value=0.0, max=7920.0), HTML(value='')))"
      ]
     },
     "metadata": {},
     "output_type": "display_data"
    },
    {
     "name": "stdout",
     "output_type": "stream",
     "text": [
      "\n"
     ]
    }
   ],
   "source": [
    "parsed_col = 'parse'\n",
    "df[parsed_col] = df[mc].swifter.apply(st.whitespace_nlp_with_sentences)"
   ]
  },
  {
   "cell_type": "code",
   "execution_count": 7,
   "metadata": {
    "ExecuteTime": {
     "end_time": "2021-01-06T22:48:22.239506Z",
     "start_time": "2021-01-06T22:48:22.224566Z"
    }
   },
   "outputs": [
    {
     "data": {
      "text/html": [
       "<div>\n",
       "<style scoped>\n",
       "    .dataframe tbody tr th:only-of-type {\n",
       "        vertical-align: middle;\n",
       "    }\n",
       "\n",
       "    .dataframe tbody tr th {\n",
       "        vertical-align: top;\n",
       "    }\n",
       "\n",
       "    .dataframe thead th {\n",
       "        text-align: right;\n",
       "    }\n",
       "</style>\n",
       "<table border=\"1\" class=\"dataframe\">\n",
       "  <thead>\n",
       "    <tr style=\"text-align: right;\">\n",
       "      <th></th>\n",
       "      <th>id</th>\n",
       "      <th>label</th>\n",
       "      <th>tweet_clean</th>\n",
       "      <th>parse</th>\n",
       "    </tr>\n",
       "  </thead>\n",
       "  <tbody>\n",
       "    <tr>\n",
       "      <th>0</th>\n",
       "      <td>1</td>\n",
       "      <td>negative</td>\n",
       "      <td>fingerprint pregnancy test android aps beautif...</td>\n",
       "      <td>(fingerprint, pregnancy, test, android, aps, b...</td>\n",
       "    </tr>\n",
       "    <tr>\n",
       "      <th>1</th>\n",
       "      <td>2</td>\n",
       "      <td>negative</td>\n",
       "      <td>finaly transparant silicon case thanks uncle y...</td>\n",
       "      <td>(finaly, transparant, silicon, case, thanks, u...</td>\n",
       "    </tr>\n",
       "    <tr>\n",
       "      <th>7918</th>\n",
       "      <td>7919</td>\n",
       "      <td>negative</td>\n",
       "      <td>finaly got smart pocket wifi stay conected any...</td>\n",
       "      <td>(finaly, got, smart, pocket, wifi, stay, conec...</td>\n",
       "    </tr>\n",
       "    <tr>\n",
       "      <th>7919</th>\n",
       "      <td>7920</td>\n",
       "      <td>negative</td>\n",
       "      <td>aple barcelona aple store bcn barcelona travel...</td>\n",
       "      <td>(aple, barcelona, aple, store, bcn, barcelona,...</td>\n",
       "    </tr>\n",
       "  </tbody>\n",
       "</table>\n",
       "</div>"
      ],
      "text/plain": [
       "        id     label                                        tweet_clean  \\\n",
       "0        1  negative  fingerprint pregnancy test android aps beautif...   \n",
       "1        2  negative  finaly transparant silicon case thanks uncle y...   \n",
       "7918  7919  negative  finaly got smart pocket wifi stay conected any...   \n",
       "7919  7920  negative  aple barcelona aple store bcn barcelona travel...   \n",
       "\n",
       "                                                  parse  \n",
       "0     (fingerprint, pregnancy, test, android, aps, b...  \n",
       "1     (finaly, transparant, silicon, case, thanks, u...  \n",
       "7918  (finaly, got, smart, pocket, wifi, stay, conec...  \n",
       "7919  (aple, barcelona, aple, store, bcn, barcelona,...  "
      ]
     },
     "execution_count": 7,
     "metadata": {},
     "output_type": "execute_result"
    }
   ],
   "source": [
    "df.head(2).append(df.tail(2))"
   ]
  },
  {
   "cell_type": "markdown",
   "metadata": {},
   "source": [
    "## Create corpus"
   ]
  },
  {
   "cell_type": "code",
   "execution_count": 8,
   "metadata": {
    "ExecuteTime": {
     "end_time": "2021-01-06T22:48:24.028539Z",
     "start_time": "2021-01-06T22:48:22.241830Z"
    }
   },
   "outputs": [],
   "source": [
    "corpus = st.CorpusFromParsedDocuments(\n",
    "    df,\n",
    "    category_col=target_name, \n",
    "    parsed_col=parsed_col\n",
    "    )\n",
    "\n",
    "corpus = corpus.build()\n",
    "corpus = corpus.get_unigram_corpus()\n",
    "\n",
    "# reduce size\n",
    "corpus = corpus.compact(st.AssociationCompactor(2000))"
   ]
  },
  {
   "cell_type": "markdown",
   "metadata": {},
   "source": [
    "# Positive and Negative Tweets"
   ]
  },
  {
   "cell_type": "code",
   "execution_count": 9,
   "metadata": {
    "ExecuteTime": {
     "end_time": "2021-01-06T22:48:25.369781Z",
     "start_time": "2021-01-06T22:48:24.030471Z"
    }
   },
   "outputs": [],
   "source": [
    "html = st.produce_scattertext_explorer(\n",
    "    corpus,\n",
    "    category='negative',\n",
    "    category_name='Negative',\n",
    "    not_category_name='Positive',\n",
    "    minimum_term_frequency=0,\n",
    "    pmi_threshold_coefficient=0,\n",
    "    width_in_pixels=1000,\n",
    "    metadata=corpus.get_df()['id'],\n",
    "    transform=st.Scalers.dense_rank\n",
    "    )"
   ]
  },
  {
   "cell_type": "code",
   "execution_count": 10,
   "metadata": {
    "ExecuteTime": {
     "end_time": "2021-01-06T22:48:25.377819Z",
     "start_time": "2021-01-06T22:48:25.371737Z"
    }
   },
   "outputs": [],
   "source": [
    "with open('../outputs/tweets_sentiment.html', 'w') as fo:\n",
    "    fo.write(html)"
   ]
  },
  {
   "cell_type": "markdown",
   "metadata": {},
   "source": [
    "# Visualizing Phrase associations\n",
    "\n",
    "First download english words.\n",
    "\n",
    "```python\n",
    "/Users/poudel/opt/miniconda3/envs/nlp/bin/python -m spacy download en\n",
    "```"
   ]
  },
  {
   "cell_type": "code",
   "execution_count": 11,
   "metadata": {
    "ExecuteTime": {
     "end_time": "2021-01-06T22:48:25.389627Z",
     "start_time": "2021-01-06T22:48:25.379869Z"
    }
   },
   "outputs": [
    {
     "data": {
      "text/html": [
       "<div>\n",
       "<style scoped>\n",
       "    .dataframe tbody tr th:only-of-type {\n",
       "        vertical-align: middle;\n",
       "    }\n",
       "\n",
       "    .dataframe tbody tr th {\n",
       "        vertical-align: top;\n",
       "    }\n",
       "\n",
       "    .dataframe thead th {\n",
       "        text-align: right;\n",
       "    }\n",
       "</style>\n",
       "<table border=\"1\" class=\"dataframe\">\n",
       "  <thead>\n",
       "    <tr style=\"text-align: right;\">\n",
       "      <th></th>\n",
       "      <th>id</th>\n",
       "      <th>label</th>\n",
       "      <th>tweet_clean</th>\n",
       "      <th>parse</th>\n",
       "    </tr>\n",
       "  </thead>\n",
       "  <tbody>\n",
       "    <tr>\n",
       "      <th>0</th>\n",
       "      <td>1</td>\n",
       "      <td>negative</td>\n",
       "      <td>fingerprint pregnancy test android aps beautif...</td>\n",
       "      <td>(fingerprint, pregnancy, test, android, aps, b...</td>\n",
       "    </tr>\n",
       "    <tr>\n",
       "      <th>1</th>\n",
       "      <td>2</td>\n",
       "      <td>negative</td>\n",
       "      <td>finaly transparant silicon case thanks uncle y...</td>\n",
       "      <td>(finaly, transparant, silicon, case, thanks, u...</td>\n",
       "    </tr>\n",
       "  </tbody>\n",
       "</table>\n",
       "</div>"
      ],
      "text/plain": [
       "   id     label                                        tweet_clean  \\\n",
       "0   1  negative  fingerprint pregnancy test android aps beautif...   \n",
       "1   2  negative  finaly transparant silicon case thanks uncle y...   \n",
       "\n",
       "                                               parse  \n",
       "0  (fingerprint, pregnancy, test, android, aps, b...  \n",
       "1  (finaly, transparant, silicon, case, thanks, u...  "
      ]
     },
     "execution_count": 11,
     "metadata": {},
     "output_type": "execute_result"
    }
   ],
   "source": [
    "df.head(2)"
   ]
  },
  {
   "cell_type": "code",
   "execution_count": 12,
   "metadata": {
    "ExecuteTime": {
     "end_time": "2021-01-06T22:48:26.233105Z",
     "start_time": "2021-01-06T22:48:25.391823Z"
    }
   },
   "outputs": [],
   "source": [
    "import spacy\n",
    "\n",
    "\n",
    "nlp = spacy.load('en')"
   ]
  },
  {
   "cell_type": "code",
   "execution_count": 13,
   "metadata": {
    "ExecuteTime": {
     "end_time": "2021-01-06T22:48:26.238231Z",
     "start_time": "2021-01-06T22:48:26.234962Z"
    }
   },
   "outputs": [],
   "source": [
    "# %%time\n",
    "\n",
    "## add new column (or replace) called parse\n",
    "# df = df.assign(parse=lambda row: row[mc].apply(nlp))\n",
    "\n",
    "## Wall time: 48 s\n",
    "## this is fast but it does not have progress bar."
   ]
  },
  {
   "cell_type": "code",
   "execution_count": 14,
   "metadata": {
    "ExecuteTime": {
     "end_time": "2021-01-06T22:49:21.125110Z",
     "start_time": "2021-01-06T22:48:26.241037Z"
    }
   },
   "outputs": [
    {
     "data": {
      "application/vnd.jupyter.widget-view+json": {
       "model_id": "047e5f373bec4f0888541c274ae8cf46",
       "version_major": 2,
       "version_minor": 0
      },
      "text/plain": [
       "HBox(children=(HTML(value='Pandas Apply'), FloatProgress(value=0.0, max=7920.0), HTML(value='')))"
      ]
     },
     "metadata": {},
     "output_type": "display_data"
    },
    {
     "name": "stdout",
     "output_type": "stream",
     "text": [
      "\n",
      "CPU times: user 52 s, sys: 595 ms, total: 52.6 s\n",
      "Wall time: 54.9 s\n"
     ]
    }
   ],
   "source": [
    "%%time\n",
    "\n",
    "df['parse'] = df[mc].swifter.apply(nlp)"
   ]
  },
  {
   "cell_type": "code",
   "execution_count": 15,
   "metadata": {
    "ExecuteTime": {
     "end_time": "2021-01-06T22:49:21.171357Z",
     "start_time": "2021-01-06T22:49:21.138833Z"
    }
   },
   "outputs": [
    {
     "data": {
      "text/html": [
       "<div>\n",
       "<style scoped>\n",
       "    .dataframe tbody tr th:only-of-type {\n",
       "        vertical-align: middle;\n",
       "    }\n",
       "\n",
       "    .dataframe tbody tr th {\n",
       "        vertical-align: top;\n",
       "    }\n",
       "\n",
       "    .dataframe thead th {\n",
       "        text-align: right;\n",
       "    }\n",
       "</style>\n",
       "<table border=\"1\" class=\"dataframe\">\n",
       "  <thead>\n",
       "    <tr style=\"text-align: right;\">\n",
       "      <th></th>\n",
       "      <th>id</th>\n",
       "      <th>label</th>\n",
       "      <th>tweet_clean</th>\n",
       "      <th>parse</th>\n",
       "    </tr>\n",
       "  </thead>\n",
       "  <tbody>\n",
       "    <tr>\n",
       "      <th>0</th>\n",
       "      <td>1</td>\n",
       "      <td>negative</td>\n",
       "      <td>fingerprint pregnancy test android aps beautif...</td>\n",
       "      <td>(fingerprint, pregnancy, test, android, aps, b...</td>\n",
       "    </tr>\n",
       "    <tr>\n",
       "      <th>1</th>\n",
       "      <td>2</td>\n",
       "      <td>negative</td>\n",
       "      <td>finaly transparant silicon case thanks uncle y...</td>\n",
       "      <td>(finaly, transparant, silicon, case, thanks, u...</td>\n",
       "    </tr>\n",
       "  </tbody>\n",
       "</table>\n",
       "</div>"
      ],
      "text/plain": [
       "   id     label                                        tweet_clean  \\\n",
       "0   1  negative  fingerprint pregnancy test android aps beautif...   \n",
       "1   2  negative  finaly transparant silicon case thanks uncle y...   \n",
       "\n",
       "                                               parse  \n",
       "0  (fingerprint, pregnancy, test, android, aps, b...  \n",
       "1  (finaly, transparant, silicon, case, thanks, u...  "
      ]
     },
     "execution_count": 15,
     "metadata": {},
     "output_type": "execute_result"
    }
   ],
   "source": [
    "df.head(2)"
   ]
  },
  {
   "cell_type": "code",
   "execution_count": 16,
   "metadata": {
    "ExecuteTime": {
     "end_time": "2021-01-06T22:49:21.205078Z",
     "start_time": "2021-01-06T22:49:21.187010Z"
    }
   },
   "outputs": [
    {
     "data": {
      "text/plain": [
       "fingerprint pregnancy test android aps beautiful cute health igers iphoneonly iphonesia iphone"
      ]
     },
     "execution_count": 16,
     "metadata": {},
     "output_type": "execute_result"
    }
   ],
   "source": [
    "df.loc[0,'parse']"
   ]
  },
  {
   "cell_type": "code",
   "execution_count": 17,
   "metadata": {
    "ExecuteTime": {
     "end_time": "2021-01-06T22:49:34.882262Z",
     "start_time": "2021-01-06T22:49:21.210076Z"
    }
   },
   "outputs": [
    {
     "name": "stderr",
     "output_type": "stream",
     "text": [
      "/Users/poudel/opt/miniconda3/envs/nlp/lib/python3.7/site-packages/scattertext/termscoring/ScaledFScore.py:129: RuntimeWarning: invalid value encountered in true_divide\n",
      "  precision = (cat_word_counts * 1. / (cat_word_counts + not_cat_word_counts))\n",
      "/Users/poudel/opt/miniconda3/envs/nlp/lib/python3.7/site-packages/scattertext/termscoring/ScaledFScore.py:129: RuntimeWarning: invalid value encountered in true_divide\n",
      "  precision = (cat_word_counts * 1. / (cat_word_counts + not_cat_word_counts))\n"
     ]
    },
    {
     "name": "stdout",
     "output_type": "stream",
     "text": [
      "CPU times: user 13.3 s, sys: 85.4 ms, total: 13.4 s\n",
      "Wall time: 13.7 s\n"
     ]
    }
   ],
   "source": [
    "%%time\n",
    "corpus = st.CorpusFromParsedDocuments(\n",
    "    df,\n",
    "    category_col=target_name,\n",
    "    parsed_col='parse',\n",
    "    feats_from_spacy_doc=st.PyTextRankPhrases()\n",
    ").build(\n",
    ").compact(\n",
    "    st.AssociationCompactor(2000, use_non_text_features=True)\n",
    ")"
   ]
  },
  {
   "cell_type": "code",
   "execution_count": 18,
   "metadata": {
    "ExecuteTime": {
     "end_time": "2021-01-06T22:49:34.896949Z",
     "start_time": "2021-01-06T22:49:34.884832Z"
    }
   },
   "outputs": [
    {
     "data": {
      "text/html": [
       "<div>\n",
       "<style scoped>\n",
       "    .dataframe tbody tr th:only-of-type {\n",
       "        vertical-align: middle;\n",
       "    }\n",
       "\n",
       "    .dataframe tbody tr th {\n",
       "        vertical-align: top;\n",
       "    }\n",
       "\n",
       "    .dataframe thead th {\n",
       "        text-align: right;\n",
       "    }\n",
       "</style>\n",
       "<table border=\"1\" class=\"dataframe\">\n",
       "  <thead>\n",
       "    <tr style=\"text-align: right;\">\n",
       "      <th></th>\n",
       "      <th>negative</th>\n",
       "      <th>positive</th>\n",
       "    </tr>\n",
       "    <tr>\n",
       "      <th>term</th>\n",
       "      <th></th>\n",
       "      <th></th>\n",
       "    </tr>\n",
       "  </thead>\n",
       "  <tbody>\n",
       "    <tr>\n",
       "      <th>iphonesia</th>\n",
       "      <td>8.928064</td>\n",
       "      <td>0.154059</td>\n",
       "    </tr>\n",
       "    <tr>\n",
       "      <th>love</th>\n",
       "      <td>5.211916</td>\n",
       "      <td>0.831196</td>\n",
       "    </tr>\n",
       "    <tr>\n",
       "      <th>way</th>\n",
       "      <td>0.449481</td>\n",
       "      <td>0.128470</td>\n",
       "    </tr>\n",
       "    <tr>\n",
       "      <th>phone big time</th>\n",
       "      <td>0.000000</td>\n",
       "      <td>0.251077</td>\n",
       "    </tr>\n",
       "    <tr>\n",
       "      <th>new year</th>\n",
       "      <td>4.943526</td>\n",
       "      <td>0.000000</td>\n",
       "    </tr>\n",
       "    <tr>\n",
       "      <th>sun instagod boy</th>\n",
       "      <td>0.403745</td>\n",
       "      <td>0.000000</td>\n",
       "    </tr>\n",
       "    <tr>\n",
       "      <th>picoftheday</th>\n",
       "      <td>14.308220</td>\n",
       "      <td>0.000000</td>\n",
       "    </tr>\n",
       "    <tr>\n",
       "      <th>new ipod</th>\n",
       "      <td>0.000000</td>\n",
       "      <td>1.126512</td>\n",
       "    </tr>\n",
       "    <tr>\n",
       "      <th>saturday</th>\n",
       "      <td>5.385685</td>\n",
       "      <td>0.126068</td>\n",
       "    </tr>\n",
       "    <tr>\n",
       "      <th>phone case</th>\n",
       "      <td>0.867800</td>\n",
       "      <td>0.000000</td>\n",
       "    </tr>\n",
       "  </tbody>\n",
       "</table>\n",
       "</div>"
      ],
      "text/plain": [
       "                   negative  positive\n",
       "term                                 \n",
       "iphonesia          8.928064  0.154059\n",
       "love               5.211916  0.831196\n",
       "way                0.449481  0.128470\n",
       "phone big time     0.000000  0.251077\n",
       "new year           4.943526  0.000000\n",
       "sun instagod boy   0.403745  0.000000\n",
       "picoftheday       14.308220  0.000000\n",
       "new ipod           0.000000  1.126512\n",
       "saturday           5.385685  0.126068\n",
       "phone case         0.867800  0.000000"
      ]
     },
     "execution_count": 18,
     "metadata": {},
     "output_type": "execute_result"
    }
   ],
   "source": [
    "df_term_category_scores = corpus.get_metadata_freq_df('')\n",
    "df_term_category_scores.head(10)"
   ]
  },
  {
   "cell_type": "code",
   "execution_count": 19,
   "metadata": {
    "ExecuteTime": {
     "end_time": "2021-01-06T22:49:34.952680Z",
     "start_time": "2021-01-06T22:49:34.900370Z"
    }
   },
   "outputs": [],
   "source": [
    "# Get the rank of each term in each category\n",
    "term_ranks = np.argsort(np.argsort(-df_term_category_scores, axis=0), axis=0) + 1\n",
    "\n",
    "# Text displayed when a term is clicked\n",
    "metadata_descriptions = {\n",
    "    term: '<br/>' + '<br/>'.join(\n",
    "        '<b>%s</b> TextRank score rank: %s/%s' % (cat, term_ranks.loc[term, cat], corpus.get_num_metadata())\n",
    "        for cat in corpus.get_categories())\n",
    "    for term in corpus.get_metadata()\n",
    "}"
   ]
  },
  {
   "cell_type": "code",
   "execution_count": 20,
   "metadata": {
    "ExecuteTime": {
     "end_time": "2021-01-06T22:49:35.005195Z",
     "start_time": "2021-01-06T22:49:34.954381Z"
    }
   },
   "outputs": [],
   "source": [
    "category_specific_prominence = df_term_category_scores.apply(\n",
    "    lambda r: r.negative if r.negative > r.positive else -r.positive,\n",
    "    axis=1\n",
    ")"
   ]
  },
  {
   "cell_type": "code",
   "execution_count": 21,
   "metadata": {
    "ExecuteTime": {
     "end_time": "2021-01-06T22:49:35.266828Z",
     "start_time": "2021-01-06T22:49:35.017253Z"
    }
   },
   "outputs": [],
   "source": [
    "html = st.produce_scattertext_explorer(\n",
    "    corpus,\n",
    "    category='negative',\n",
    "    not_category_name='positive',\n",
    "    minimum_term_frequency=0,\n",
    "    pmi_threshold_coefficient=0,\n",
    "    width_in_pixels=1000,\n",
    "    transform=st.dense_rank,\n",
    "    metadata=corpus.get_df()['id'],\n",
    "    scores=category_specific_prominence,\n",
    "    sort_by_dist=False,\n",
    "    use_non_text_features=True,\n",
    "    topic_model_term_lists={term: [term] for term in corpus.get_metadata()},\n",
    "    topic_model_preview_size=0,\n",
    "    metadata_descriptions=metadata_descriptions,\n",
    "    use_full_doc=True\n",
    ")"
   ]
  },
  {
   "cell_type": "code",
   "execution_count": 22,
   "metadata": {
    "ExecuteTime": {
     "end_time": "2021-01-06T22:49:35.279965Z",
     "start_time": "2021-01-06T22:49:35.268833Z"
    }
   },
   "outputs": [],
   "source": [
    "with open('../outputs/tweets_sentiment_textrank.html','w') as fo:\n",
    "    fo.write(html)"
   ]
  },
  {
   "cell_type": "markdown",
   "metadata": {},
   "source": [
    "# Time Taken"
   ]
  },
  {
   "cell_type": "code",
   "execution_count": 23,
   "metadata": {
    "ExecuteTime": {
     "end_time": "2021-01-06T22:49:35.295742Z",
     "start_time": "2021-01-06T22:49:35.287523Z"
    }
   },
   "outputs": [
    {
     "name": "stdout",
     "output_type": "stream",
     "text": [
      "Time taken to run whole notebook: 0 hr 1 min 18 secs\n"
     ]
    }
   ],
   "source": [
    "time_taken = time.time() - time_start_notebook\n",
    "h,m = divmod(time_taken,60*60)\n",
    "print('Time taken to run whole notebook: {:.0f} hr '\\\n",
    "      '{:.0f} min {:.0f} secs'.format(h, *divmod(m,60)))"
   ]
  }
 ],
 "metadata": {
  "accelerator": "GPU",
  "colab": {
   "collapsed_sections": [],
   "name": "d04_sentiment_analysis_keras_lstm.ipynb",
   "provenance": []
  },
  "kernelspec": {
   "display_name": "Python [conda env:nlp]",
   "language": "python",
   "name": "conda-env-nlp-py"
  },
  "language_info": {
   "codemirror_mode": {
    "name": "ipython",
    "version": 3
   },
   "file_extension": ".py",
   "mimetype": "text/x-python",
   "name": "python",
   "nbconvert_exporter": "python",
   "pygments_lexer": "ipython3",
   "version": "3.7.9"
  },
  "toc": {
   "base_numbering": 1,
   "nav_menu": {},
   "number_sections": true,
   "sideBar": true,
   "skip_h1_title": false,
   "title_cell": "Table of Contents",
   "title_sidebar": "Contents",
   "toc_cell": true,
   "toc_position": {},
   "toc_section_display": true,
   "toc_window_display": false
  }
 },
 "nbformat": 4,
 "nbformat_minor": 1
}
